{
  "nbformat": 4,
  "nbformat_minor": 0,
  "metadata": {
    "colab": {
      "name": "COVID global case numbers.ipynb",
      "provenance": [],
      "authorship_tag": "ABX9TyOzR0mDEHkqaXqJO3y3I3EF",
      "include_colab_link": true
    },
    "kernelspec": {
      "name": "python3",
      "display_name": "Python 3"
    }
  },
  "cells": [
    {
      "cell_type": "markdown",
      "metadata": {
        "id": "view-in-github",
        "colab_type": "text"
      },
      "source": [
        "<a href=\"https://colab.research.google.com/github/russmendez/DS_Thinkful_Mendez/blob/master/COVID_global_case_numbers.ipynb\" target=\"_parent\"><img src=\"https://colab.research.google.com/assets/colab-badge.svg\" alt=\"Open In Colab\"/></a>"
      ]
    },
    {
      "cell_type": "markdown",
      "metadata": {
        "id": "Bg9JFKEO6gFx"
      },
      "source": [
        "# Setup"
      ]
    },
    {
      "cell_type": "code",
      "metadata": {
        "id": "40xpYg216WWr"
      },
      "source": [
        "import requests\n",
        "from bs4 import BeautifulSoup\n",
        "import lxml.html as lh\n",
        "import pandas as pd\n",
        "import numpy as np \n",
        "import matplotlib.pyplot as plt\n",
        "import seaborn as sns\n",
        "from scipy import stats\n",
        "from pandas import DataFrame\n",
        "from sklearn.svm import LinearSVC\n",
        "from sklearn.model_selection import train_test_split, cross_val_score\n",
        "\n",
        "from sklearn.linear_model import LogisticRegression\n",
        "from sklearn.linear_model import LinearRegression\n",
        "\n",
        "from sklearn.tree import DecisionTreeClassifier\n",
        "from sklearn.neighbors import KNeighborsClassifier\n",
        "from sklearn.neighbors import KNeighborsRegressor\n",
        "\n",
        "from sklearn.ensemble import RandomForestClassifier\n",
        "from sklearn.ensemble import RandomForestRegressor\n",
        "\n",
        "from sklearn.dummy import DummyClassifier\n",
        "\n",
        "from sklearn import preprocessing\n",
        "\n",
        "from sklearn import metrics\n",
        "\n",
        "from sklearn.datasets import make_classification\n",
        "from sklearn.datasets import make_blobs\n",
        "\n",
        "from mlxtend.plotting import plot_decision_regions\n",
        "import math\n",
        "\n",
        "from sklearn.preprocessing import StandardScaler\n",
        "\n",
        "from sklearn.metrics import classification_report, confusion_matrix, accuracy_score, fbeta_score\n",
        "from sklearn.metrics import roc_curve, precision_recall_curve, roc_auc_score\n",
        "%matplotlib inline\n",
        "import statsmodels.api as sm\n",
        "\n",
        "from scipy.stats import bartlett\n",
        "from scipy.stats import levene\n"
      ],
      "execution_count": null,
      "outputs": []
    },
    {
      "cell_type": "code",
      "metadata": {
        "id": "k-jKB60D6ZZO"
      },
      "source": [
        "url = 'https://www.worldometers.info/coronavirus/'\n",
        "\n",
        "#Create a handle, page, to handle the contents of the website\n",
        "page = requests.get(url)\n",
        "#Store the contents of the website under doc\n",
        "doc = lh.fromstring(page.content)\n",
        "#Parse data that are stored between <tr>..</tr> of HTML\n",
        "tr_elements = doc.xpath('//tr')"
      ],
      "execution_count": null,
      "outputs": []
    },
    {
      "cell_type": "code",
      "metadata": {
        "id": "1vxBGDBc6buG",
        "colab": {
          "base_uri": "https://localhost:8080/"
        },
        "outputId": "9e54f32d-25fe-4c86-e6a8-dbf2409676e9"
      },
      "source": [
        "#Check the length of the first 12 rows to ensure all rows have the same amount of data\n",
        "[len(T) for T in tr_elements[:12]]"
      ],
      "execution_count": null,
      "outputs": [
        {
          "output_type": "execute_result",
          "data": {
            "text/plain": [
              "[19, 19, 19, 19, 19, 19, 19, 19, 19, 19, 19, 19]"
            ]
          },
          "metadata": {
            "tags": []
          },
          "execution_count": 3
        }
      ]
    },
    {
      "cell_type": "code",
      "metadata": {
        "id": "NdJ9cNfS6d9C",
        "colab": {
          "base_uri": "https://localhost:8080/"
        },
        "outputId": "e7eb833d-ded2-46e8-8442-590dd438be03"
      },
      "source": [
        "tr_elements = doc.xpath('//tr')\n",
        "#Create empty list\n",
        "col=[]\n",
        "i=0\n",
        "#For each row, store each first element (header) and an empty list\n",
        "for t in tr_elements[0]:\n",
        "    i+=1\n",
        "    name=t.text_content()\n",
        "    print(i,name)\n",
        "    col.append((name,[]))"
      ],
      "execution_count": null,
      "outputs": [
        {
          "output_type": "stream",
          "text": [
            "1 #\n",
            "2 Country,Other\n",
            "3 TotalCases\n",
            "4 NewCases\n",
            "5 TotalDeaths\n",
            "6 NewDeaths\n",
            "7 TotalRecovered\n",
            "8 NewRecovered\n",
            "9 ActiveCases\n",
            "10 Serious,Critical\n",
            "11 Tot Cases/1M pop\n",
            "12 Deaths/1M pop\n",
            "13 TotalTests\n",
            "14 Tests/\n",
            "1M pop\n",
            "\n",
            "15 Population\n",
            "16 Continent\n",
            "17 1 Caseevery X ppl\n",
            "18 1 Deathevery X ppl\n",
            "19 1 Testevery X ppl\n"
          ],
          "name": "stdout"
        }
      ]
    },
    {
      "cell_type": "code",
      "metadata": {
        "id": "hCuEmuSq6oHE"
      },
      "source": [
        "#Since out first row is the header, data is stored on the second row onwards\n",
        "for j in range(1,len(tr_elements)):\n",
        "    #T is our j'th row\n",
        "    T=tr_elements[j]\n",
        "    \n",
        "    #If row is not of size 19, the //tr data is not from our table \n",
        "    if len(T)!=19:\n",
        "        break\n",
        "    \n",
        "    #i is the index of our column\n",
        "    i=0\n",
        "    \n",
        "    #Iterate through each element of the row\n",
        "    for t in T.iterchildren():\n",
        "        data=t.text_content() \n",
        "        #Check if row is empty\n",
        "        if i>0:\n",
        "        #Convert any numerical value to integers\n",
        "            try:\n",
        "                data=int(data)\n",
        "            except:\n",
        "                pass\n",
        "        #Append the data to the empty list of the i'th column\n",
        "        col[i][1].append(data)\n",
        "        #Increment i for the next column\n",
        "        i+=1\n",
        "\n"
      ],
      "execution_count": null,
      "outputs": []
    },
    {
      "cell_type": "code",
      "metadata": {
        "id": "0JshRYEV6qXv",
        "colab": {
          "base_uri": "https://localhost:8080/"
        },
        "outputId": "8004f400-09ff-4403-c0d9-35c2c2499235"
      },
      "source": [
        "[len(C) for (title,C) in col]"
      ],
      "execution_count": null,
      "outputs": [
        {
          "output_type": "execute_result",
          "data": {
            "text/plain": [
              "[707,\n",
              " 707,\n",
              " 707,\n",
              " 707,\n",
              " 707,\n",
              " 707,\n",
              " 707,\n",
              " 707,\n",
              " 707,\n",
              " 707,\n",
              " 707,\n",
              " 707,\n",
              " 707,\n",
              " 707,\n",
              " 707,\n",
              " 707,\n",
              " 707,\n",
              " 707,\n",
              " 707]"
            ]
          },
          "metadata": {
            "tags": []
          },
          "execution_count": 6
        }
      ]
    },
    {
      "cell_type": "code",
      "metadata": {
        "id": "127mPSQD6syF"
      },
      "source": [
        "Dict={title:column for (title,column) in col}\n",
        "master_df=pd.DataFrame(Dict)\n",
        "df = master_df.copy()\n",
        "#df = master_df[['Country,Other','Continent', 'TotalCases', 'NewCases', 'TotalDeaths',\n",
        "       #'NewDeaths', 'TotalRecovered', 'NewRecovered', 'ActiveCases',\n",
        "       #'Serious,Critical', 'TotalTests', 'Population']]\n",
        "#today_df = master_df.iloc[0:235].copy()\n",
        "#yesterday_df = master_df.iloc[235:470].copy()\n",
        "#two_day_df = master_df.iloc[470:707]"
      ],
      "execution_count": null,
      "outputs": []
    },
    {
      "cell_type": "code",
      "metadata": {
        "id": "4kbsTud2v6Y-"
      },
      "source": [
        "#print(len(today_df))\n",
        "#print(len(yesterday_df))\n",
        "#print(len(two_day_df))"
      ],
      "execution_count": null,
      "outputs": []
    },
    {
      "cell_type": "code",
      "metadata": {
        "id": "VYfPRj1_hnlf",
        "colab": {
          "base_uri": "https://localhost:8080/"
        },
        "outputId": "4ffb7316-8a76-44f2-a605-9031bb8ace48"
      },
      "source": [
        "#SOMETHING TO WORK ON ---- understand how the Total chart's layout. How to handle the the fact that every entry is there 3 times and it throws off the actual total\n",
        "country_list = df['Country,Other'].unique()\n",
        "for i in country_list:\n",
        "  if len(df[df['Country,Other'] == i]) == 3:\n",
        "    pass\n",
        "  else:\n",
        "    print(f'{i}')"
      ],
      "execution_count": null,
      "outputs": [
        {
          "output_type": "stream",
          "text": [
            "Total:\n",
            "Country,Other\n"
          ],
          "name": "stdout"
        }
      ]
    },
    {
      "cell_type": "code",
      "metadata": {
        "id": "wcmPPHtU6u45"
      },
      "source": [
        "#Remove '+' from columns where it exsists.\n",
        "df['NewCases'] = df['NewCases'].str.replace('+','')\n",
        "df['NewDeaths'] = df['NewDeaths'].str.replace('+','')\n",
        "df['NewRecovered'] = df['NewRecovered'].str.replace('+','')\n",
        "#Remove '\\n' Countr,Other\n",
        "df['Country,Other'] = df['Country,Other'].map(lambda x: x.lstrip('\\n').rstrip('\\n'))\n",
        "#Remove extra rows \n",
        "df = df[df['NewCases'] != 'NewCases']\n",
        "df = df[df['Country,Other'] != '']\n",
        "df = df[df['Country,Other'] != 'Total:']"
      ],
      "execution_count": null,
      "outputs": []
    },
    {
      "cell_type": "code",
      "metadata": {
        "id": "9Dz9PxP-oWN-"
      },
      "source": [
        ""
      ],
      "execution_count": null,
      "outputs": []
    },
    {
      "cell_type": "code",
      "metadata": {
        "id": "1Xb7ZDI0t2l_"
      },
      "source": [
        ""
      ],
      "execution_count": null,
      "outputs": []
    },
    {
      "cell_type": "markdown",
      "metadata": {
        "id": "Vlb8ptKJ8kXA"
      },
      "source": [
        "# Data Cleaning"
      ]
    },
    {
      "cell_type": "code",
      "metadata": {
        "id": "_0LHwIt_wpSa",
        "colab": {
          "base_uri": "https://localhost:8080/"
        },
        "outputId": "dcea6a0d-f045-4614-b588-641822a788ba"
      },
      "source": [
        "#Get the mean for NewCases with numeric values. \n",
        "#This removes '' and Nas. This code results in using 206 values to estimate the mean for the remmaining 499\n",
        "NC_df = pd.DataFrame(df['NewCases'])\n",
        "NC_df = NC_df.dropna()\n",
        "NC_df = NC_df[NC_df['NewCases'] != '']\n",
        "NC_df['NewCases'] = NC_df['NewCases'].str.replace(',','').astype(float)\n",
        "x = NC_df['NewCases'].mean()\n",
        "\n",
        "df['NewCases'] = df['NewCases'].str.replace(',','')\n",
        "df['NewCases'] = df['NewCases'].replace('',x).astype(float)\n",
        "df['NewCases'] = df['NewCases'].fillna(x)\n",
        "#The .mean() function will be used to ensure all values in the column are floats\n",
        "df.NewCases.mean()"
      ],
      "execution_count": null,
      "outputs": [
        {
          "output_type": "execute_result",
          "data": {
            "text/plain": [
              "25923.047337278334"
            ]
          },
          "metadata": {
            "tags": []
          },
          "execution_count": 11
        }
      ]
    },
    {
      "cell_type": "code",
      "metadata": {
        "id": "Yx9P7YF0yH13",
        "colab": {
          "base_uri": "https://localhost:8080/"
        },
        "outputId": "0b7af120-2fc0-4b73-8345-70dffc4bf0dd"
      },
      "source": [
        "#Get the mean for NewDeaths with numeric values.\n",
        "#This removes '' and Nas. This code results in using 31 values to estimate the mean for the remmaining 674\n",
        "ND_df = pd.DataFrame(df['NewDeaths'])\n",
        "ND_df = ND_df.dropna()\n",
        "ND_df = ND_df[ND_df['NewDeaths'] != '']\n",
        "ND_df['NewDeaths'] = ND_df['NewDeaths'].str.replace(',','').astype(float)\n",
        "x = ND_df['NewDeaths'].mean()\n",
        "\n",
        "df['NewDeaths'] = df['NewDeaths'].str.replace(',','')\n",
        "df['NewDeaths'] = df['NewDeaths'].replace('',x).astype(float)\n",
        "df['NewDeaths'] = df['NewDeaths'].fillna(x)\n",
        "\n",
        "df.NewDeaths.mean()"
      ],
      "execution_count": null,
      "outputs": [
        {
          "output_type": "execute_result",
          "data": {
            "text/plain": [
              "3342.4285714285966"
            ]
          },
          "metadata": {
            "tags": []
          },
          "execution_count": 12
        }
      ]
    },
    {
      "cell_type": "code",
      "metadata": {
        "id": "KoTwy8xiz2fA",
        "colab": {
          "base_uri": "https://localhost:8080/"
        },
        "outputId": "fb7df566-a9de-4c09-8581-b7eb6ec4992f"
      },
      "source": [
        "#Get the mean for NewRecovered with numeric values.\n",
        "#This removes '' and Nas and 'N/A. This code results in using 146 values to estimate the mean for the remmaining 560\n",
        "NR_df = pd.DataFrame(df['NewRecovered'])\n",
        "NR_df = NR_df.dropna()\n",
        "NR_df = NR_df[NR_df['NewRecovered'] != '']\n",
        "NR_df = NR_df[NR_df['NewRecovered'] != 'N/A']\n",
        "NR_df['NewRecovered'] = NR_df['NewRecovered'].str.replace(',','').astype(float)\n",
        "x = NR_df['NewRecovered'].mean()\n",
        "\n",
        "df['NewRecovered'] = df['NewRecovered'].str.replace(',','')\n",
        "df['NewRecovered'] = df['NewRecovered'].replace(['', 'N/A'],x).astype(float) \n",
        "df['NewRecovered'] = df['NewRecovered'].fillna(x)\n",
        "\n",
        "df.NewRecovered.mean()"
      ],
      "execution_count": null,
      "outputs": [
        {
          "output_type": "execute_result",
          "data": {
            "text/plain": [
              "24449.30434782615"
            ]
          },
          "metadata": {
            "tags": []
          },
          "execution_count": 13
        }
      ]
    },
    {
      "cell_type": "code",
      "metadata": {
        "id": "Yka5TxUJLmTQ",
        "colab": {
          "base_uri": "https://localhost:8080/"
        },
        "outputId": "327eac5b-ff2c-4140-eb15-e3c772d3bc48"
      },
      "source": [
        "#Important discovery. The df is in lxml.etree._ElementUnicodeResult format. \n",
        "#A quick fix for numerical data to make the data usable is to add a '.0' then convert to float by removing ','\n",
        "#NOTE TO SELF - a for loop may be able to fix all the columns initially and save me from having to use the above code. work on this is time allows.\n",
        "df['TotalCases'] = df['TotalCases'].apply(lambda x:f'{x}.0')\n",
        "df['TotalCases'] = df['TotalCases'].str.replace(',', '').astype(float)\n",
        "df['TotalCases'].mean()"
      ],
      "execution_count": null,
      "outputs": [
        {
          "output_type": "execute_result",
          "data": {
            "text/plain": [
              "711137.2876106194"
            ]
          },
          "metadata": {
            "tags": []
          },
          "execution_count": 14
        }
      ]
    },
    {
      "cell_type": "code",
      "metadata": {
        "id": "1Kh5ui-Bz28o",
        "colab": {
          "base_uri": "https://localhost:8080/"
        },
        "outputId": "896c8cab-b077-4e52-c859-14c5834b960d"
      },
      "source": [
        "df['TotalDeaths'] = df['TotalDeaths'].astype(str).apply(lambda x: f'{x}.0')\n",
        "df['TotalDeaths'] = df['TotalDeaths'].str.replace(',', '')\n",
        "df['TotalDeaths'] = df['TotalDeaths'].str.replace(' ', '')\n",
        "df['TotalDeaths'] = df['TotalDeaths'].astype(float)\n",
        "df['TotalDeaths'].mean()"
      ],
      "execution_count": null,
      "outputs": [
        {
          "output_type": "execute_result",
          "data": {
            "text/plain": [
              "17342.438053097347"
            ]
          },
          "metadata": {
            "tags": []
          },
          "execution_count": 15
        }
      ]
    },
    {
      "cell_type": "code",
      "metadata": {
        "id": "iqlY-gwTKtxY",
        "colab": {
          "base_uri": "https://localhost:8080/"
        },
        "outputId": "c3b39114-0388-4c17-a652-e639dd1dd20f"
      },
      "source": [
        "#TotalRecovered\n",
        "#First, get the mean of the vnumeric values\n",
        "TR_df = pd.DataFrame(df['TotalRecovered'])\n",
        "TR_df = TR_df[TR_df['TotalRecovered'] != 'N/A']\n",
        "TR_df['TotalRecovered'] = TR_df['TotalRecovered'].astype(str).apply(lambda x: f'{x}.0')\n",
        "TR_df['TotalRecovered'] = TR_df['TotalRecovered'].str.replace(',', '')\n",
        "TR_df['TotalRecovered'] = TR_df['TotalRecovered'].str.replace(' ', '')\n",
        "TR_df['TotalRecovered'] = TR_df['TotalRecovered'].astype(float)\n",
        "x = round(TR_df['TotalRecovered'].mean())\n",
        "print(x)\n",
        "#Convert numbers to in and replace the N/A with the mean\n",
        "df['TotalRecovered'] = df[df['TotalRecovered'] != 'N/A']\n",
        "df['TotalRecovered'] = df['TotalRecovered'].fillna(x)\n",
        "df['TotalRecovered'] = df['TotalRecovered'].astype(str).apply(lambda x: f'{x}.0')\n",
        "df['TotalRecovered'] = df['TotalRecovered'].str.replace(',', '')\n",
        "df['TotalRecovered'] = df['TotalRecovered'].str.replace(' ', '')\n",
        "\n",
        "df['TotalRecovered'] = df['TotalRecovered'].astype(float)"
      ],
      "execution_count": null,
      "outputs": [
        {
          "output_type": "stream",
          "text": [
            "503854\n"
          ],
          "name": "stdout"
        }
      ]
    },
    {
      "cell_type": "code",
      "metadata": {
        "id": "Yp-iSgqiMo2Z"
      },
      "source": [
        "#ActiveCases\n",
        "#Remove 'N/A' and get mean\n",
        "AC_df = pd.DataFrame(df['ActiveCases'])\n",
        "AC_df = AC_df[AC_df['ActiveCases'] != 'N/A']\n",
        "AC_df['ActiveCases'] = AC_df['ActiveCases'].apply(lambda x:f'{x}.0')\n",
        "AC_df['ActiveCases'] = AC_df['ActiveCases'].str.replace(',', '').astype(float)\n",
        "x = round(AC_df['ActiveCases'].mean())\n",
        "#convert to strine and repalce 'N/A' with mean\n",
        "df = df[df['ActiveCases'] != 'N/A']\n",
        "df['ActiveCases'] = df['ActiveCases'].fillna(x)\n",
        "df['ActiveCases'] = df['ActiveCases'].apply(lambda x:f'{x}.0')\n",
        "df['ActiveCases'] = df['ActiveCases'].str.replace(',', '').astype(float)"
      ],
      "execution_count": null,
      "outputs": []
    },
    {
      "cell_type": "code",
      "metadata": {
        "id": "RdYXYro9NPSL",
        "colab": {
          "base_uri": "https://localhost:8080/"
        },
        "outputId": "d571b10d-c38d-418f-fc67-be4502212585"
      },
      "source": [
        "#Serious,Critical\n",
        "df['Serious,Critical'] = df['Serious,Critical'].apply(lambda x:f'{x}.0')\n",
        "df['Serious,Critical'] = df['Serious,Critical'].str.replace(',', '').astype(float)\n",
        "df['Serious,Critical'].mean()"
      ],
      "execution_count": null,
      "outputs": [
        {
          "output_type": "execute_result",
          "data": {
            "text/plain": [
              "1394.566066066066"
            ]
          },
          "metadata": {
            "tags": []
          },
          "execution_count": 18
        }
      ]
    },
    {
      "cell_type": "code",
      "metadata": {
        "id": "y_MH1US4ODkx"
      },
      "source": [
        "#Population\n",
        "df['Population'] = df['Population'].astype(str).apply(lambda x: f'{x}.0')\n",
        "df['Population'] = df['Population'].str.replace(',', '')\n",
        "df['Population'] = df['Population'].str.replace(' ', '')\n",
        "df['Population'] = df['Population'].astype(float)"
      ],
      "execution_count": null,
      "outputs": []
    },
    {
      "cell_type": "code",
      "metadata": {
        "id": "4KIx79IPsvFu",
        "colab": {
          "base_uri": "https://localhost:8080/"
        },
        "outputId": "c7678157-79aa-4101-d805-69bd98564e5e"
      },
      "source": [
        "#TotalTests\n",
        "df['TotalTests'] = df['TotalTests'].apply(lambda x:f'{x}.0')\n",
        "df['TotalTests'] = df['TotalTests'].str.replace(',', '').astype(float)\n",
        "df['TotalTests'].mean()"
      ],
      "execution_count": null,
      "outputs": [
        {
          "output_type": "execute_result",
          "data": {
            "text/plain": [
              "3768583.490990991"
            ]
          },
          "metadata": {
            "tags": []
          },
          "execution_count": 20
        }
      ]
    },
    {
      "cell_type": "code",
      "metadata": {
        "id": "1BR_KNbnDhcg"
      },
      "source": [
        "df['Continent'] = df['Continent'].astype(str)"
      ],
      "execution_count": null,
      "outputs": []
    },
    {
      "cell_type": "code",
      "metadata": {
        "id": "8-9xqtBotdz_"
      },
      "source": [
        "clean_df = df[['Country,Other','Continent', 'TotalCases', 'NewCases', 'TotalDeaths',\n",
        "       'NewDeaths', 'TotalRecovered', 'NewRecovered', 'ActiveCases',\n",
        "       'Serious,Critical', 'TotalTests', 'Population']]"
      ],
      "execution_count": null,
      "outputs": []
    },
    {
      "cell_type": "markdown",
      "metadata": {
        "id": "_6oKqsvgyRAT"
      },
      "source": [
        "# Functions"
      ]
    },
    {
      "cell_type": "code",
      "metadata": {
        "id": "UZoDFIkkyWEj"
      },
      "source": [
        "#probs = lr.predict_proba(X_test)[:, 1]\n",
        "#pres, rec, thresholds = precision_recall_curve(y_test, lr_predictions)\n",
        "#Change model abbreviation\n",
        "def pr_roc(var):\n",
        "\n",
        "  plt.figure()\n",
        "  fig = plt.figure(figsize= (18,6))\n",
        "\n",
        "  plt.subplot(1,3,1)\n",
        "\n",
        "  fpr, tpr, thresholds = roc_curve(y_test, probs)\n",
        "  #fig = plt.figure(figsize = (6, 6))\n",
        "  plt.plot([0, 1], [0, 1], 'k--')\n",
        "  plt.plot(fpr, tpr)\n",
        "  plt.xlabel('False Positive Rate')\n",
        "  plt.ylabel('True Positive Rate')\n",
        "  plt.title('ROC curve for Logistic Regression Model')\n",
        "  #plt.show()\n",
        "\n",
        "  plt.subplot(1,3,2)\n",
        "\n",
        "  #fig = plt.figure(figsize = (6, 6))\n",
        "  plt.plot(rec, pres)\n",
        "  plt.xlabel('Recall')\n",
        "  plt.ylabel('Precision')\n",
        "  plt.title('Precision-Recall Curve')\n",
        "  #plt.show()\n",
        "\n",
        "  plt.subplot(1,3,3)\n",
        "  #fig = plt.figure(figsize = (6, 6))\n",
        "  plt.plot([0, 1], [0, 1], 'k--')\n",
        "  plt.plot(fpr, tpr)\n",
        "  plt.fill(fpr, tpr, 'grey', alpha=0.3)\n",
        "  plt.xlabel('False Positive Rate')\n",
        "  plt.ylabel('True Positive Rate')\n",
        "  plt.title('ROC curve for Logistic Regression Model')\n",
        "  #plt.show()\n",
        "  auc = roc_auc_score(y_test, probs)\n",
        "  print('Area under the ROC curve: {:.3f}'.format(auc))"
      ],
      "execution_count": null,
      "outputs": []
    },
    {
      "cell_type": "markdown",
      "metadata": {
        "id": "BujcUcY_-4_k"
      },
      "source": [
        "# Models"
      ]
    },
    {
      "cell_type": "markdown",
      "metadata": {
        "id": "iY-w2IXYEuLr"
      },
      "source": [
        "## Linear Classification. \n",
        "It is important to note that these models are classifiers and they expect the target variable to be categorical. Using df.astype(int) will allow the code to run but it is questionable if is best. A better solution is to make the target variable into a category. In this case it will be a dichotomy, greater than or less than the mean of NewCases"
      ]
    },
    {
      "cell_type": "code",
      "metadata": {
        "id": "Jwu3cmSF8S2e",
        "colab": {
          "base_uri": "https://localhost:8080/"
        },
        "outputId": "0a9a0b27-b8dd-40f6-a4b1-aaedd579e50b"
      },
      "source": [
        "x =clean_df['NewCases'].mean()\n",
        "classification_df = pd.concat([clean_df, pd.get_dummies(clean_df['Country,Other'])], axis=1)\n",
        "classification_df = pd.concat([classification_df, pd.get_dummies(clean_df['Continent'])], axis=1)\n",
        "#do no drop_first because the categories are greater than 2. drop first is best for dichotomies, i.e. gender. \n",
        "#you don't need male & female beacuse male=1 is male and male=0 is female. \n",
        "classification_df.drop(['Country,Other', 'Continent'], axis=1, inplace=True)\n",
        "#encode the target variable\n",
        "classification_df.loc[classification_df['NewCases'] < x, 'NewCases'] = 0\n",
        "classification_df.loc[classification_df['NewCases'] > x, 'NewCases'] = 1\n",
        "classification_df.head()\n",
        "X = classification_df.drop(['NewCases'], axis=1)\n",
        "y = classification_df['NewCases']\n",
        " \n",
        "\n",
        "X_train, X_test, y_train, y_test = train_test_split(X,y, test_size=0.2, random_state=5)\n",
        "\n",
        "print(X_train.shape)\n",
        "print(y_train.shape)\n",
        "print(X_test.shape)\n",
        "print(y_test.shape)"
      ],
      "execution_count": null,
      "outputs": [
        {
          "output_type": "stream",
          "text": [
            "(532, 239)\n",
            "(532,)\n",
            "(134, 239)\n",
            "(134,)\n"
          ],
          "name": "stdout"
        }
      ]
    },
    {
      "cell_type": "code",
      "metadata": {
        "id": "quIpJ-FqCg3C",
        "colab": {
          "base_uri": "https://localhost:8080/"
        },
        "outputId": "433906fc-52e0-4e3e-8a0e-5fc3aa3d10c9"
      },
      "source": [
        "X_train.info()"
      ],
      "execution_count": null,
      "outputs": [
        {
          "output_type": "stream",
          "text": [
            "<class 'pandas.core.frame.DataFrame'>\n",
            "Int64Index: 532 entries, 300 to 211\n",
            "Columns: 239 entries, TotalCases to South America\n",
            "dtypes: float64(9), uint8(230)\n",
            "memory usage: 161.1 KB\n"
          ],
          "name": "stdout"
        }
      ]
    },
    {
      "cell_type": "markdown",
      "metadata": {
        "id": "fy8I1KmCcDBJ"
      },
      "source": [
        "### LogisticRegression"
      ]
    },
    {
      "cell_type": "code",
      "metadata": {
        "id": "IIcEckxKCYXC",
        "colab": {
          "base_uri": "https://localhost:8080/"
        },
        "outputId": "d7c2e208-015c-4f05-e7fd-e855676a9b06"
      },
      "source": [
        "lr = LogisticRegression(solver='lbfgs', max_iter=1000)\n",
        "results =lr.fit(X_train, y_train)\n",
        "\n",
        "lr_score = lr.score(X_test, y_test)\n",
        "lr_predictions = lr.predict(X_test)\n",
        "\n",
        "train_score = lr.score(X_train, y_train)\n",
        "test_score = lr.score(X_test, y_test)\n",
        "\n",
        "print('Score on training data: ', train_score)\n",
        "print('Score on test data: ', test_score)\n",
        "print(confusion_matrix(y_test, lr_predictions))\n",
        "print(classification_report(y_test, lr_predictions))\n",
        "#To favor precision, a value of  𝛽<1  is used, and to favor recall, a value of  𝛽>1  is used\n",
        "fbeta_precision = fbeta_score(y_test, lr_predictions, 0.5)\n",
        "fbeta_recall = fbeta_score(y_test, lr_predictions, 2)\n",
        "print('Fbeta score favoring precision: {:.2f}'.format(fbeta_precision))\n",
        "print('FBeta score favoring recall: {:.2f}'.format(fbeta_recall))"
      ],
      "execution_count": null,
      "outputs": [
        {
          "output_type": "stream",
          "text": [
            "Score on training data:  0.9924812030075187\n",
            "Score on test data:  0.9850746268656716\n",
            "[[131   1]\n",
            " [  1   1]]\n",
            "              precision    recall  f1-score   support\n",
            "\n",
            "         0.0       0.99      0.99      0.99       132\n",
            "         1.0       0.50      0.50      0.50         2\n",
            "\n",
            "    accuracy                           0.99       134\n",
            "   macro avg       0.75      0.75      0.75       134\n",
            "weighted avg       0.99      0.99      0.99       134\n",
            "\n",
            "Fbeta score favoring precision: 0.50\n",
            "FBeta score favoring recall: 0.50\n"
          ],
          "name": "stdout"
        }
      ]
    },
    {
      "cell_type": "code",
      "metadata": {
        "id": "mFgZj4t5rxoK",
        "colab": {
          "base_uri": "https://localhost:8080/",
          "height": 438
        },
        "outputId": "938b523f-941f-4caa-a98c-fb3b02aa7b23"
      },
      "source": [
        "probs = lr.predict_proba(X_test)[:, 1]\n",
        "pres, rec, thresholds = precision_recall_curve(y_test, lr_predictions)\n",
        "pr_roc(lr)"
      ],
      "execution_count": null,
      "outputs": [
        {
          "output_type": "stream",
          "text": [
            "Area under the ROC curve: 0.996\n"
          ],
          "name": "stdout"
        },
        {
          "output_type": "display_data",
          "data": {
            "text/plain": [
              "<Figure size 432x288 with 0 Axes>"
            ]
          },
          "metadata": {
            "tags": []
          }
        },
        {
          "output_type": "display_data",
          "data": {
            "image/png": "[encoded data removed]",
            "text/plain": [
              "<Figure size 1296x432 with 3 Axes>"
            ]
          },
          "metadata": {
            "tags": [],
            "needs_background": "light"
          }
        }
      ]
    },
    {
      "cell_type": "code",
      "metadata": {
        "id": "iYFTpM-RU_M1",
        "colab": {
          "base_uri": "https://localhost:8080/"
        },
        "outputId": "80e13ddb-c009-40dd-97f1-24cf65921b16"
      },
      "source": [
        "#Check the regularized version agains the non-regularized\n",
        "lr_regularized = LogisticRegression(solver='lbfgs', penalty='l2', max_iter=10000, random_state=2)\n",
        "lr_regularized.fit(X_train, y_train)\n",
        "\n",
        "test_score = lr_regularized.score(X_test, y_test)\n",
        "train_score = lr_regularized.score(X_train, y_train)\n",
        "\n",
        "print('Score on training data: ', train_score)\n",
        "print('Score on test data: ', test_score)"
      ],
      "execution_count": null,
      "outputs": [
        {
          "output_type": "stream",
          "text": [
            "Score on training data:  0.9924812030075187\n",
            "Score on test data:  0.9850746268656716\n"
          ],
          "name": "stdout"
        }
      ]
    },
    {
      "cell_type": "code",
      "metadata": {
        "id": "0t9TRvCnVJkR",
        "colab": {
          "base_uri": "https://localhost:8080/",
          "height": 513
        },
        "outputId": "8089b160-b866-44ef-a7f0-f310b707abba"
      },
      "source": [
        "fig = plt.figure(figsize=(8, 8))\n",
        "grid = plt.GridSpec(2, 2, hspace=0.5, wspace=0.5)\n",
        "\n",
        "\n",
        "x = np.arange(0, len(lr.coef_[0]),1)\n",
        "y = lr.coef_[0]\n",
        "ax1 = fig.add_subplot(grid[0, 0])\n",
        "ax1.plot(x, y, '-g')\n",
        "ax1.set(xlabel='Features', ylabel='Coefficients')\n",
        "ax1.set_title('No Regularization')\n",
        "\n",
        "y_reg = lr_regularized.coef_[0]\n",
        "ax2 = fig.add_subplot(grid[0, 1])\n",
        "ax2.plot(x, y_reg, '-r')\n",
        "ax2.set(xlabel='Features', ylabel='Coefficients')\n",
        "ax2.set_title('L2 Regularization')\n",
        "\n",
        "ax3 = fig.add_subplot(grid[1, 0:])\n",
        "ax3.plot(x, y, '-g')\n",
        "ax3.plot(x, y_reg, '-r')\n",
        "\n",
        "ax3.set(xlabel='Features', ylabel='Coefficients')\n",
        "ax3.set_title('Both on same chart for comparison')\n",
        "plt.show()"
      ],
      "execution_count": null,
      "outputs": [
        {
          "output_type": "display_data",
          "data": {
            "image/png": "[encoded data removed]",
            "text/plain": [
              "<Figure size 576x576 with 3 Axes>"
            ]
          },
          "metadata": {
            "tags": [],
            "needs_background": "light"
          }
        }
      ]
    },
    {
      "cell_type": "code",
      "metadata": {
        "id": "9VyES3wHVqr1",
        "colab": {
          "base_uri": "https://localhost:8080/",
          "height": 295
        },
        "outputId": "ec4216e9-a45f-4eb8-ab29-5a16d1bed074"
      },
      "source": [
        "c_vals = np.arange(0.05, 1.5, 0.05)\n",
        "test_accuracy = []\n",
        "train_accuracy = []\n",
        "\n",
        "for c in c_vals:\n",
        "  lr = LogisticRegression(solver='lbfgs', penalty='l2', C=c, max_iter=10000, random_state=2)\n",
        "  lr.fit(X_train, y_train)\n",
        "  test_accuracy.append(lr.score(X_test, y_test))\n",
        "  train_accuracy.append(lr.score(X_train, y_train))\n",
        "\n",
        "fig = plt.figure(figsize=(8, 4))\n",
        "ax1 = fig.add_subplot(1, 1, 1)\n",
        "ax1.plot(c_vals, test_accuracy, '-g', label='Test Accuracy')\n",
        "ax1.plot(c_vals, train_accuracy, '-b', label='Train Accuracy')\n",
        "ax1.set(xlabel='C', ylabel='Accuracy')\n",
        "ax1.set_title('Effect of C on Accuracy')\n",
        "ax1.legend()\n",
        "plt.show()"
      ],
      "execution_count": null,
      "outputs": [
        {
          "output_type": "display_data",
          "data": {
            "image/png": "[encoded data removed]",
            "text/plain": [
              "<Figure size 576x288 with 1 Axes>"
            ]
          },
          "metadata": {
            "tags": [],
            "needs_background": "light"
          }
        }
      ]
    },
    {
      "cell_type": "code",
      "metadata": {
        "id": "bz-JKXxzV4cU",
        "colab": {
          "base_uri": "https://localhost:8080/",
          "height": 358
        },
        "outputId": "70c713f3-7a9a-40d7-a8d9-dfbddc84b867"
      },
      "source": [
        "scaler = StandardScaler()\n",
        "scaled_data = scaler.fit_transform(clean_df)\n",
        "data_df_scaled = pd.DataFrame(scaled_data, columns=breast_cancer.feature_names)\n",
        "data_df_scaled.describe()"
      ],
      "execution_count": null,
      "outputs": [
        {
          "output_type": "error",
          "ename": "ValueError",
          "evalue": "ignored",
          "traceback": [
            "\u001b[0;31m---------------------------------------------------------------------------\u001b[0m",
            "\u001b[0;31mValueError\u001b[0m                                Traceback (most recent call last)",
            "\u001b[0;32m<ipython-input-31-dcfcfc44d68c>\u001b[0m in \u001b[0;36m<module>\u001b[0;34m()\u001b[0m\n\u001b[1;32m      1\u001b[0m \u001b[0mscaler\u001b[0m \u001b[0;34m=\u001b[0m \u001b[0mStandardScaler\u001b[0m\u001b[0;34m(\u001b[0m\u001b[0;34m)\u001b[0m\u001b[0;34m\u001b[0m\u001b[0;34m\u001b[0m\u001b[0m\n\u001b[0;32m----> 2\u001b[0;31m \u001b[0mscaled_data\u001b[0m \u001b[0;34m=\u001b[0m \u001b[0mscaler\u001b[0m\u001b[0;34m.\u001b[0m\u001b[0mfit_transform\u001b[0m\u001b[0;34m(\u001b[0m\u001b[0mclean_df\u001b[0m\u001b[0;34m)\u001b[0m\u001b[0;34m\u001b[0m\u001b[0;34m\u001b[0m\u001b[0m\n\u001b[0m\u001b[1;32m      3\u001b[0m \u001b[0mdata_df_scaled\u001b[0m \u001b[0;34m=\u001b[0m \u001b[0mpd\u001b[0m\u001b[0;34m.\u001b[0m\u001b[0mDataFrame\u001b[0m\u001b[0;34m(\u001b[0m\u001b[0mscaled_data\u001b[0m\u001b[0;34m,\u001b[0m \u001b[0mcolumns\u001b[0m\u001b[0;34m=\u001b[0m\u001b[0mbreast_cancer\u001b[0m\u001b[0;34m.\u001b[0m\u001b[0mfeature_names\u001b[0m\u001b[0;34m)\u001b[0m\u001b[0;34m\u001b[0m\u001b[0;34m\u001b[0m\u001b[0m\n\u001b[1;32m      4\u001b[0m \u001b[0mdata_df_scaled\u001b[0m\u001b[0;34m.\u001b[0m\u001b[0mdescribe\u001b[0m\u001b[0;34m(\u001b[0m\u001b[0;34m)\u001b[0m\u001b[0;34m\u001b[0m\u001b[0;34m\u001b[0m\u001b[0m\n",
            "\u001b[0;32m/usr/local/lib/python3.6/dist-packages/sklearn/base.py\u001b[0m in \u001b[0;36mfit_transform\u001b[0;34m(self, X, y, **fit_params)\u001b[0m\n\u001b[1;32m    569\u001b[0m         \u001b[0;32mif\u001b[0m \u001b[0my\u001b[0m \u001b[0;32mis\u001b[0m \u001b[0;32mNone\u001b[0m\u001b[0;34m:\u001b[0m\u001b[0;34m\u001b[0m\u001b[0;34m\u001b[0m\u001b[0m\n\u001b[1;32m    570\u001b[0m             \u001b[0;31m# fit method of arity 1 (unsupervised transformation)\u001b[0m\u001b[0;34m\u001b[0m\u001b[0;34m\u001b[0m\u001b[0;34m\u001b[0m\u001b[0m\n\u001b[0;32m--> 571\u001b[0;31m             \u001b[0;32mreturn\u001b[0m \u001b[0mself\u001b[0m\u001b[0;34m.\u001b[0m\u001b[0mfit\u001b[0m\u001b[0;34m(\u001b[0m\u001b[0mX\u001b[0m\u001b[0;34m,\u001b[0m \u001b[0;34m**\u001b[0m\u001b[0mfit_params\u001b[0m\u001b[0;34m)\u001b[0m\u001b[0;34m.\u001b[0m\u001b[0mtransform\u001b[0m\u001b[0;34m(\u001b[0m\u001b[0mX\u001b[0m\u001b[0;34m)\u001b[0m\u001b[0;34m\u001b[0m\u001b[0;34m\u001b[0m\u001b[0m\n\u001b[0m\u001b[1;32m    572\u001b[0m         \u001b[0;32melse\u001b[0m\u001b[0;34m:\u001b[0m\u001b[0;34m\u001b[0m\u001b[0;34m\u001b[0m\u001b[0m\n\u001b[1;32m    573\u001b[0m             \u001b[0;31m# fit method of arity 2 (supervised transformation)\u001b[0m\u001b[0;34m\u001b[0m\u001b[0;34m\u001b[0m\u001b[0;34m\u001b[0m\u001b[0m\n",
            "\u001b[0;32m/usr/local/lib/python3.6/dist-packages/sklearn/preprocessing/_data.py\u001b[0m in \u001b[0;36mfit\u001b[0;34m(self, X, y)\u001b[0m\n\u001b[1;32m    667\u001b[0m         \u001b[0;31m# Reset internal state before fitting\u001b[0m\u001b[0;34m\u001b[0m\u001b[0;34m\u001b[0m\u001b[0;34m\u001b[0m\u001b[0m\n\u001b[1;32m    668\u001b[0m         \u001b[0mself\u001b[0m\u001b[0;34m.\u001b[0m\u001b[0m_reset\u001b[0m\u001b[0;34m(\u001b[0m\u001b[0;34m)\u001b[0m\u001b[0;34m\u001b[0m\u001b[0;34m\u001b[0m\u001b[0m\n\u001b[0;32m--> 669\u001b[0;31m         \u001b[0;32mreturn\u001b[0m \u001b[0mself\u001b[0m\u001b[0;34m.\u001b[0m\u001b[0mpartial_fit\u001b[0m\u001b[0;34m(\u001b[0m\u001b[0mX\u001b[0m\u001b[0;34m,\u001b[0m \u001b[0my\u001b[0m\u001b[0;34m)\u001b[0m\u001b[0;34m\u001b[0m\u001b[0;34m\u001b[0m\u001b[0m\n\u001b[0m\u001b[1;32m    670\u001b[0m \u001b[0;34m\u001b[0m\u001b[0m\n\u001b[1;32m    671\u001b[0m     \u001b[0;32mdef\u001b[0m \u001b[0mpartial_fit\u001b[0m\u001b[0;34m(\u001b[0m\u001b[0mself\u001b[0m\u001b[0;34m,\u001b[0m \u001b[0mX\u001b[0m\u001b[0;34m,\u001b[0m \u001b[0my\u001b[0m\u001b[0;34m=\u001b[0m\u001b[0;32mNone\u001b[0m\u001b[0;34m)\u001b[0m\u001b[0;34m:\u001b[0m\u001b[0;34m\u001b[0m\u001b[0;34m\u001b[0m\u001b[0m\n",
            "\u001b[0;32m/usr/local/lib/python3.6/dist-packages/sklearn/preprocessing/_data.py\u001b[0m in \u001b[0;36mpartial_fit\u001b[0;34m(self, X, y)\u001b[0m\n\u001b[1;32m    698\u001b[0m         X = check_array(X, accept_sparse=('csr', 'csc'),\n\u001b[1;32m    699\u001b[0m                         \u001b[0mestimator\u001b[0m\u001b[0;34m=\u001b[0m\u001b[0mself\u001b[0m\u001b[0;34m,\u001b[0m \u001b[0mdtype\u001b[0m\u001b[0;34m=\u001b[0m\u001b[0mFLOAT_DTYPES\u001b[0m\u001b[0;34m,\u001b[0m\u001b[0;34m\u001b[0m\u001b[0;34m\u001b[0m\u001b[0m\n\u001b[0;32m--> 700\u001b[0;31m                         force_all_finite='allow-nan')\n\u001b[0m\u001b[1;32m    701\u001b[0m \u001b[0;34m\u001b[0m\u001b[0m\n\u001b[1;32m    702\u001b[0m         \u001b[0;31m# Even in the case of `with_mean=False`, we update the mean anyway\u001b[0m\u001b[0;34m\u001b[0m\u001b[0;34m\u001b[0m\u001b[0;34m\u001b[0m\u001b[0m\n",
            "\u001b[0;32m/usr/local/lib/python3.6/dist-packages/sklearn/utils/validation.py\u001b[0m in \u001b[0;36mcheck_array\u001b[0;34m(array, accept_sparse, accept_large_sparse, dtype, order, copy, force_all_finite, ensure_2d, allow_nd, ensure_min_samples, ensure_min_features, warn_on_dtype, estimator)\u001b[0m\n\u001b[1;32m    529\u001b[0m                     \u001b[0marray\u001b[0m \u001b[0;34m=\u001b[0m \u001b[0marray\u001b[0m\u001b[0;34m.\u001b[0m\u001b[0mastype\u001b[0m\u001b[0;34m(\u001b[0m\u001b[0mdtype\u001b[0m\u001b[0;34m,\u001b[0m \u001b[0mcasting\u001b[0m\u001b[0;34m=\u001b[0m\u001b[0;34m\"unsafe\"\u001b[0m\u001b[0;34m,\u001b[0m \u001b[0mcopy\u001b[0m\u001b[0;34m=\u001b[0m\u001b[0;32mFalse\u001b[0m\u001b[0;34m)\u001b[0m\u001b[0;34m\u001b[0m\u001b[0;34m\u001b[0m\u001b[0m\n\u001b[1;32m    530\u001b[0m                 \u001b[0;32melse\u001b[0m\u001b[0;34m:\u001b[0m\u001b[0;34m\u001b[0m\u001b[0;34m\u001b[0m\u001b[0m\n\u001b[0;32m--> 531\u001b[0;31m                     \u001b[0marray\u001b[0m \u001b[0;34m=\u001b[0m \u001b[0mnp\u001b[0m\u001b[0;34m.\u001b[0m\u001b[0masarray\u001b[0m\u001b[0;34m(\u001b[0m\u001b[0marray\u001b[0m\u001b[0;34m,\u001b[0m \u001b[0morder\u001b[0m\u001b[0;34m=\u001b[0m\u001b[0morder\u001b[0m\u001b[0;34m,\u001b[0m \u001b[0mdtype\u001b[0m\u001b[0;34m=\u001b[0m\u001b[0mdtype\u001b[0m\u001b[0;34m)\u001b[0m\u001b[0;34m\u001b[0m\u001b[0;34m\u001b[0m\u001b[0m\n\u001b[0m\u001b[1;32m    532\u001b[0m             \u001b[0;32mexcept\u001b[0m \u001b[0mComplexWarning\u001b[0m\u001b[0;34m:\u001b[0m\u001b[0;34m\u001b[0m\u001b[0;34m\u001b[0m\u001b[0m\n\u001b[1;32m    533\u001b[0m                 raise ValueError(\"Complex data not supported\\n\"\n",
            "\u001b[0;32m/usr/local/lib/python3.6/dist-packages/numpy/core/_asarray.py\u001b[0m in \u001b[0;36masarray\u001b[0;34m(a, dtype, order)\u001b[0m\n\u001b[1;32m     83\u001b[0m \u001b[0;34m\u001b[0m\u001b[0m\n\u001b[1;32m     84\u001b[0m     \"\"\"\n\u001b[0;32m---> 85\u001b[0;31m     \u001b[0;32mreturn\u001b[0m \u001b[0marray\u001b[0m\u001b[0;34m(\u001b[0m\u001b[0ma\u001b[0m\u001b[0;34m,\u001b[0m \u001b[0mdtype\u001b[0m\u001b[0;34m,\u001b[0m \u001b[0mcopy\u001b[0m\u001b[0;34m=\u001b[0m\u001b[0;32mFalse\u001b[0m\u001b[0;34m,\u001b[0m \u001b[0morder\u001b[0m\u001b[0;34m=\u001b[0m\u001b[0morder\u001b[0m\u001b[0;34m)\u001b[0m\u001b[0;34m\u001b[0m\u001b[0;34m\u001b[0m\u001b[0m\n\u001b[0m\u001b[1;32m     86\u001b[0m \u001b[0;34m\u001b[0m\u001b[0m\n\u001b[1;32m     87\u001b[0m \u001b[0;34m\u001b[0m\u001b[0m\n",
            "\u001b[0;32m/usr/local/lib/python3.6/dist-packages/pandas/core/generic.py\u001b[0m in \u001b[0;36m__array__\u001b[0;34m(self, dtype)\u001b[0m\n\u001b[1;32m   1779\u001b[0m \u001b[0;34m\u001b[0m\u001b[0m\n\u001b[1;32m   1780\u001b[0m     \u001b[0;32mdef\u001b[0m \u001b[0m__array__\u001b[0m\u001b[0;34m(\u001b[0m\u001b[0mself\u001b[0m\u001b[0;34m,\u001b[0m \u001b[0mdtype\u001b[0m\u001b[0;34m=\u001b[0m\u001b[0;32mNone\u001b[0m\u001b[0;34m)\u001b[0m \u001b[0;34m->\u001b[0m \u001b[0mnp\u001b[0m\u001b[0;34m.\u001b[0m\u001b[0mndarray\u001b[0m\u001b[0;34m:\u001b[0m\u001b[0;34m\u001b[0m\u001b[0;34m\u001b[0m\u001b[0m\n\u001b[0;32m-> 1781\u001b[0;31m         \u001b[0;32mreturn\u001b[0m \u001b[0mnp\u001b[0m\u001b[0;34m.\u001b[0m\u001b[0masarray\u001b[0m\u001b[0;34m(\u001b[0m\u001b[0mself\u001b[0m\u001b[0;34m.\u001b[0m\u001b[0m_values\u001b[0m\u001b[0;34m,\u001b[0m \u001b[0mdtype\u001b[0m\u001b[0;34m=\u001b[0m\u001b[0mdtype\u001b[0m\u001b[0;34m)\u001b[0m\u001b[0;34m\u001b[0m\u001b[0;34m\u001b[0m\u001b[0m\n\u001b[0m\u001b[1;32m   1782\u001b[0m \u001b[0;34m\u001b[0m\u001b[0m\n\u001b[1;32m   1783\u001b[0m     \u001b[0;32mdef\u001b[0m \u001b[0m__array_wrap__\u001b[0m\u001b[0;34m(\u001b[0m\u001b[0mself\u001b[0m\u001b[0;34m,\u001b[0m \u001b[0mresult\u001b[0m\u001b[0;34m,\u001b[0m \u001b[0mcontext\u001b[0m\u001b[0;34m=\u001b[0m\u001b[0;32mNone\u001b[0m\u001b[0;34m)\u001b[0m\u001b[0;34m:\u001b[0m\u001b[0;34m\u001b[0m\u001b[0;34m\u001b[0m\u001b[0m\n",
            "\u001b[0;32m/usr/local/lib/python3.6/dist-packages/numpy/core/_asarray.py\u001b[0m in \u001b[0;36masarray\u001b[0;34m(a, dtype, order)\u001b[0m\n\u001b[1;32m     83\u001b[0m \u001b[0;34m\u001b[0m\u001b[0m\n\u001b[1;32m     84\u001b[0m     \"\"\"\n\u001b[0;32m---> 85\u001b[0;31m     \u001b[0;32mreturn\u001b[0m \u001b[0marray\u001b[0m\u001b[0;34m(\u001b[0m\u001b[0ma\u001b[0m\u001b[0;34m,\u001b[0m \u001b[0mdtype\u001b[0m\u001b[0;34m,\u001b[0m \u001b[0mcopy\u001b[0m\u001b[0;34m=\u001b[0m\u001b[0;32mFalse\u001b[0m\u001b[0;34m,\u001b[0m \u001b[0morder\u001b[0m\u001b[0;34m=\u001b[0m\u001b[0morder\u001b[0m\u001b[0;34m)\u001b[0m\u001b[0;34m\u001b[0m\u001b[0;34m\u001b[0m\u001b[0m\n\u001b[0m\u001b[1;32m     86\u001b[0m \u001b[0;34m\u001b[0m\u001b[0m\n\u001b[1;32m     87\u001b[0m \u001b[0;34m\u001b[0m\u001b[0m\n",
            "\u001b[0;31mValueError\u001b[0m: could not convert string to float: 'North America'"
          ]
        }
      ]
    },
    {
      "cell_type": "code",
      "metadata": {
        "id": "ZPsEu9VYV4e7",
        "colab": {
          "base_uri": "https://localhost:8080/",
          "height": 232
        },
        "outputId": "f2ca5ac3-4369-4e96-a940-ea57c57b9c72"
      },
      "source": [
        "X_train, X_test, y_train, y_test = train_test_split(data_df_scaled, breast_cancer.target, random_state=2)\n",
        "lr = LogisticRegression(solver='lbfgs', max_iter=10000, penalty='l2', C=0.6, random_state=2)\n",
        "lr.fit(X_train, y_train)\n",
        "\n",
        "test_score = lr.score(X_test, y_test)\n",
        "train_score = lr.score(X_train, y_train)\n",
        "\n",
        "print('Score on training data: ', train_score)\n",
        "print('Score on test data: ', test_score)"
      ],
      "execution_count": null,
      "outputs": [
        {
          "output_type": "error",
          "ename": "NameError",
          "evalue": "ignored",
          "traceback": [
            "\u001b[0;31m---------------------------------------------------------------------------\u001b[0m",
            "\u001b[0;31mNameError\u001b[0m                                 Traceback (most recent call last)",
            "\u001b[0;32m<ipython-input-32-7ddcbe3eaab6>\u001b[0m in \u001b[0;36m<module>\u001b[0;34m()\u001b[0m\n\u001b[0;32m----> 1\u001b[0;31m \u001b[0mX_train\u001b[0m\u001b[0;34m,\u001b[0m \u001b[0mX_test\u001b[0m\u001b[0;34m,\u001b[0m \u001b[0my_train\u001b[0m\u001b[0;34m,\u001b[0m \u001b[0my_test\u001b[0m \u001b[0;34m=\u001b[0m \u001b[0mtrain_test_split\u001b[0m\u001b[0;34m(\u001b[0m\u001b[0mdata_df_scaled\u001b[0m\u001b[0;34m,\u001b[0m \u001b[0mbreast_cancer\u001b[0m\u001b[0;34m.\u001b[0m\u001b[0mtarget\u001b[0m\u001b[0;34m,\u001b[0m \u001b[0mrandom_state\u001b[0m\u001b[0;34m=\u001b[0m\u001b[0;36m2\u001b[0m\u001b[0;34m)\u001b[0m\u001b[0;34m\u001b[0m\u001b[0;34m\u001b[0m\u001b[0m\n\u001b[0m\u001b[1;32m      2\u001b[0m \u001b[0mlr\u001b[0m \u001b[0;34m=\u001b[0m \u001b[0mLogisticRegression\u001b[0m\u001b[0;34m(\u001b[0m\u001b[0msolver\u001b[0m\u001b[0;34m=\u001b[0m\u001b[0;34m'lbfgs'\u001b[0m\u001b[0;34m,\u001b[0m \u001b[0mmax_iter\u001b[0m\u001b[0;34m=\u001b[0m\u001b[0;36m10000\u001b[0m\u001b[0;34m,\u001b[0m \u001b[0mpenalty\u001b[0m\u001b[0;34m=\u001b[0m\u001b[0;34m'l2'\u001b[0m\u001b[0;34m,\u001b[0m \u001b[0mC\u001b[0m\u001b[0;34m=\u001b[0m\u001b[0;36m0.6\u001b[0m\u001b[0;34m,\u001b[0m \u001b[0mrandom_state\u001b[0m\u001b[0;34m=\u001b[0m\u001b[0;36m2\u001b[0m\u001b[0;34m)\u001b[0m\u001b[0;34m\u001b[0m\u001b[0;34m\u001b[0m\u001b[0m\n\u001b[1;32m      3\u001b[0m \u001b[0mlr\u001b[0m\u001b[0;34m.\u001b[0m\u001b[0mfit\u001b[0m\u001b[0;34m(\u001b[0m\u001b[0mX_train\u001b[0m\u001b[0;34m,\u001b[0m \u001b[0my_train\u001b[0m\u001b[0;34m)\u001b[0m\u001b[0;34m\u001b[0m\u001b[0;34m\u001b[0m\u001b[0m\n\u001b[1;32m      4\u001b[0m \u001b[0;34m\u001b[0m\u001b[0m\n\u001b[1;32m      5\u001b[0m \u001b[0mtest_score\u001b[0m \u001b[0;34m=\u001b[0m \u001b[0mlr\u001b[0m\u001b[0;34m.\u001b[0m\u001b[0mscore\u001b[0m\u001b[0;34m(\u001b[0m\u001b[0mX_test\u001b[0m\u001b[0;34m,\u001b[0m \u001b[0my_test\u001b[0m\u001b[0;34m)\u001b[0m\u001b[0;34m\u001b[0m\u001b[0;34m\u001b[0m\u001b[0m\n",
            "\u001b[0;31mNameError\u001b[0m: name 'data_df_scaled' is not defined"
          ]
        }
      ]
    },
    {
      "cell_type": "markdown",
      "metadata": {
        "id": "BCRnUldNcKvY"
      },
      "source": [
        "### LinearSVM"
      ]
    },
    {
      "cell_type": "code",
      "metadata": {
        "id": "t4x4cB2PEin1",
        "colab": {
          "base_uri": "https://localhost:8080/"
        },
        "outputId": "3b37ffc2-8b3c-4f3a-e843-799fdf6a121e"
      },
      "source": [
        "svm = LinearSVC(max_iter=10000)\n",
        "svm.fit(X_train, y_train)\n",
        "svm_score = svm.score(X_test, y_test)\n",
        "svm_predictions = svm.predict(X_test)\n",
        "\n",
        "train_score = svm.score(X_train, y_train)\n",
        "test_score = svm.score(X_test, y_test)\n",
        "\n",
        "print('Score on training data: ', train_score)\n",
        "print('Score on test data: ', test_score)\n",
        "print(confusion_matrix(y_test, svm_predictions))\n",
        "print(classification_report(y_test, svm_predictions))\n",
        "\n",
        "fbeta_precision = fbeta_score(y_test, svm_predictions, 0.5)\n",
        "fbeta_recall = fbeta_score(y_test, svm_predictions, 2)\n",
        "print('Fbeta score favoring precision: {:.2f}'.format(fbeta_precision))\n",
        "print('FBeta score favoring recall: {:.2f}'.format(fbeta_recall))"
      ],
      "execution_count": null,
      "outputs": [
        {
          "output_type": "stream",
          "text": [
            "Score on training data:  0.9755639097744361\n",
            "Score on test data:  0.9925373134328358\n",
            "[[132   0]\n",
            " [  1   1]]\n",
            "              precision    recall  f1-score   support\n",
            "\n",
            "         0.0       0.99      1.00      1.00       132\n",
            "         1.0       1.00      0.50      0.67         2\n",
            "\n",
            "    accuracy                           0.99       134\n",
            "   macro avg       1.00      0.75      0.83       134\n",
            "weighted avg       0.99      0.99      0.99       134\n",
            "\n",
            "Fbeta score favoring precision: 0.83\n",
            "FBeta score favoring recall: 0.56\n"
          ],
          "name": "stdout"
        },
        {
          "output_type": "stream",
          "text": [
            "/usr/local/lib/python3.6/dist-packages/sklearn/svm/_base.py:947: ConvergenceWarning: Liblinear failed to converge, increase the number of iterations.\n",
            "  \"the number of iterations.\", ConvergenceWarning)\n"
          ],
          "name": "stderr"
        }
      ]
    },
    {
      "cell_type": "code",
      "metadata": {
        "id": "UsMn2YeFyfos",
        "colab": {
          "base_uri": "https://localhost:8080/",
          "height": 198
        },
        "outputId": "66a38123-0ded-4f41-d09e-7ce0947ad932"
      },
      "source": [
        "probs = svm.predict_proba(X_test)[:, 1]\n",
        "pres, rec, thresholds = precision_recall_curve(y_test, svm_predictions)\n",
        "pr_roc(svm)"
      ],
      "execution_count": null,
      "outputs": [
        {
          "output_type": "error",
          "ename": "AttributeError",
          "evalue": "ignored",
          "traceback": [
            "\u001b[0;31m---------------------------------------------------------------------------\u001b[0m",
            "\u001b[0;31mAttributeError\u001b[0m                            Traceback (most recent call last)",
            "\u001b[0;32m<ipython-input-34-9f81b66bcc7b>\u001b[0m in \u001b[0;36m<module>\u001b[0;34m()\u001b[0m\n\u001b[0;32m----> 1\u001b[0;31m \u001b[0mprobs\u001b[0m \u001b[0;34m=\u001b[0m \u001b[0msvm\u001b[0m\u001b[0;34m.\u001b[0m\u001b[0mpredict_proba\u001b[0m\u001b[0;34m(\u001b[0m\u001b[0mX_test\u001b[0m\u001b[0;34m)\u001b[0m\u001b[0;34m[\u001b[0m\u001b[0;34m:\u001b[0m\u001b[0;34m,\u001b[0m \u001b[0;36m1\u001b[0m\u001b[0;34m]\u001b[0m\u001b[0;34m\u001b[0m\u001b[0;34m\u001b[0m\u001b[0m\n\u001b[0m\u001b[1;32m      2\u001b[0m \u001b[0mpres\u001b[0m\u001b[0;34m,\u001b[0m \u001b[0mrec\u001b[0m\u001b[0;34m,\u001b[0m \u001b[0mthresholds\u001b[0m \u001b[0;34m=\u001b[0m \u001b[0mprecision_recall_curve\u001b[0m\u001b[0;34m(\u001b[0m\u001b[0my_test\u001b[0m\u001b[0;34m,\u001b[0m \u001b[0msvm_predictions\u001b[0m\u001b[0;34m)\u001b[0m\u001b[0;34m\u001b[0m\u001b[0;34m\u001b[0m\u001b[0m\n\u001b[1;32m      3\u001b[0m \u001b[0mpr_roc\u001b[0m\u001b[0;34m(\u001b[0m\u001b[0msvm\u001b[0m\u001b[0;34m)\u001b[0m\u001b[0;34m\u001b[0m\u001b[0;34m\u001b[0m\u001b[0m\n",
            "\u001b[0;31mAttributeError\u001b[0m: 'LinearSVC' object has no attribute 'predict_proba'"
          ]
        }
      ]
    },
    {
      "cell_type": "markdown",
      "metadata": {
        "id": "ajKhwZP8cVFY"
      },
      "source": [
        "### KNeighborClassifier"
      ]
    },
    {
      "cell_type": "code",
      "metadata": {
        "id": "QksjYTGDFDoC",
        "colab": {
          "base_uri": "https://localhost:8080/"
        },
        "outputId": "47c92a22-27d3-48a0-b22e-0b175269aff2"
      },
      "source": [
        "knn = KNeighborsClassifier(n_neighbors=7)\n",
        "\n",
        "# Then  fit the model\n",
        "knn.fit(X_train, y_train)\n",
        "\n",
        "# How well did we do\n",
        "knn_7_score = knn.score(X_test, y_test)\n",
        "knn_7_predictions = knn.predict(X_test)\n",
        "\n",
        "train_score = knn.score(X_train, y_train)\n",
        "test_score = knn.score(X_test, y_test)\n",
        "\n",
        "print('Score on training data: ', train_score)\n",
        "print('Score on test data: ', test_score)\n",
        "print(confusion_matrix(y_test, knn_7_predictions))\n",
        "print(classification_report(y_test, knn_7_predictions))\n",
        "\n",
        "fbeta_precision = fbeta_score(y_test, knn_7_predictions, 0.5)\n",
        "fbeta_recall = fbeta_score(y_test, knn_7_predictions, 2)\n",
        "print('Fbeta score favoring precision: {:.2f}'.format(fbeta_precision))\n",
        "print('FBeta score favoring recall: {:.2f}'.format(fbeta_recall))"
      ],
      "execution_count": null,
      "outputs": [
        {
          "output_type": "stream",
          "text": [
            "Score on training data:  0.981203007518797\n",
            "Score on test data:  0.9925373134328358\n",
            "[[132   0]\n",
            " [  1   1]]\n",
            "              precision    recall  f1-score   support\n",
            "\n",
            "         0.0       0.99      1.00      1.00       132\n",
            "         1.0       1.00      0.50      0.67         2\n",
            "\n",
            "    accuracy                           0.99       134\n",
            "   macro avg       1.00      0.75      0.83       134\n",
            "weighted avg       0.99      0.99      0.99       134\n",
            "\n",
            "Fbeta score favoring precision: 0.83\n",
            "FBeta score favoring recall: 0.56\n"
          ],
          "name": "stdout"
        }
      ]
    },
    {
      "cell_type": "code",
      "metadata": {
        "id": "BcZoUxJcypbq",
        "colab": {
          "base_uri": "https://localhost:8080/",
          "height": 438
        },
        "outputId": "f98f5095-2d93-4a59-d55f-943be4c605d6"
      },
      "source": [
        "probs = knn.predict_proba(X_test)[:, 1]\n",
        "pres, rec, thresholds = precision_recall_curve(y_test, knn_7_predictions)\n",
        "pr_roc(knn)"
      ],
      "execution_count": null,
      "outputs": [
        {
          "output_type": "stream",
          "text": [
            "Area under the ROC curve: 0.992\n"
          ],
          "name": "stdout"
        },
        {
          "output_type": "display_data",
          "data": {
            "text/plain": [
              "<Figure size 432x288 with 0 Axes>"
            ]
          },
          "metadata": {
            "tags": []
          }
        },
        {
          "output_type": "display_data",
          "data": {
            "image/png": "[encoded data removed]",
            "text/plain": [
              "<Figure size 1296x432 with 3 Axes>"
            ]
          },
          "metadata": {
            "tags": [],
            "needs_background": "light"
          }
        }
      ]
    },
    {
      "cell_type": "code",
      "metadata": {
        "id": "CmABuVwDFDrD",
        "colab": {
          "base_uri": "https://localhost:8080/"
        },
        "outputId": "93ca710f-826c-42d9-d247-afd87cd2ad52"
      },
      "source": [
        "knn = KNeighborsClassifier(n_neighbors=5)\n",
        "\n",
        "# Then  fit the model\n",
        "knn.fit(X_train, y_train)\n",
        "\n",
        "# How well did we do\n",
        "knn_5_score = knn.score(X_test, y_test)\n",
        "knn_5_predictions = knn.predict(X_test)\n",
        "\n",
        "train_score = knn.score(X_train, y_train)\n",
        "test_score = knn.score(X_test, y_test)\n",
        "\n",
        "print('Score on training data: ', train_score)\n",
        "print('Score on test data: ', test_score)\n",
        "print(confusion_matrix(y_test, knn_5_predictions))\n",
        "print(classification_report(y_test, knn_5_predictions))\n",
        "\n",
        "fbeta_precision = fbeta_score(y_test, knn_5_predictions, 0.5)\n",
        "fbeta_recall = fbeta_score(y_test, knn_5_predictions, 2)\n",
        "print('Fbeta score favoring precision: {:.2f}'.format(fbeta_precision))\n",
        "print('FBeta score favoring recall: {:.2f}'.format(fbeta_recall))"
      ],
      "execution_count": null,
      "outputs": [
        {
          "output_type": "stream",
          "text": [
            "Score on training data:  0.9830827067669173\n",
            "Score on test data:  0.9925373134328358\n",
            "[[132   0]\n",
            " [  1   1]]\n",
            "              precision    recall  f1-score   support\n",
            "\n",
            "         0.0       0.99      1.00      1.00       132\n",
            "         1.0       1.00      0.50      0.67         2\n",
            "\n",
            "    accuracy                           0.99       134\n",
            "   macro avg       1.00      0.75      0.83       134\n",
            "weighted avg       0.99      0.99      0.99       134\n",
            "\n",
            "Fbeta score favoring precision: 0.83\n",
            "FBeta score favoring recall: 0.56\n"
          ],
          "name": "stdout"
        }
      ]
    },
    {
      "cell_type": "code",
      "metadata": {
        "id": "Zv1n0hkIy1OZ",
        "colab": {
          "base_uri": "https://localhost:8080/",
          "height": 438
        },
        "outputId": "6aa99394-7297-4189-a436-61e6af774eb2"
      },
      "source": [
        "probs = knn.predict_proba(X_test)[:, 1]\n",
        "pres, rec, thresholds = precision_recall_curve(y_test, knn_7_predictions)\n",
        "pr_roc(knn)"
      ],
      "execution_count": null,
      "outputs": [
        {
          "output_type": "stream",
          "text": [
            "Area under the ROC curve: 0.996\n"
          ],
          "name": "stdout"
        },
        {
          "output_type": "display_data",
          "data": {
            "text/plain": [
              "<Figure size 432x288 with 0 Axes>"
            ]
          },
          "metadata": {
            "tags": []
          }
        },
        {
          "output_type": "display_data",
          "data": {
            "image/png": "[encoded data removed]",
            "text/plain": [
              "<Figure size 1296x432 with 3 Axes>"
            ]
          },
          "metadata": {
            "tags": [],
            "needs_background": "light"
          }
        }
      ]
    },
    {
      "cell_type": "markdown",
      "metadata": {
        "id": "HmxINWr4choX"
      },
      "source": [
        "### Decision Tree Classifier"
      ]
    },
    {
      "cell_type": "code",
      "metadata": {
        "id": "1YyEM0ZnFDuv",
        "colab": {
          "base_uri": "https://localhost:8080/"
        },
        "outputId": "02d08073-d398-4252-84cd-cb992c27c3db"
      },
      "source": [
        "dt = DecisionTreeClassifier()\n",
        "\n",
        "dt.fit(X_train,y_train)\n",
        "\n",
        "dt_score = dt.score(X_test, y_test)\n",
        "dt_predictions = dt.predict(X_test)\n",
        "\n",
        "train_score = dt.score(X_train, y_train)\n",
        "test_score = dt.score(X_test, y_test)\n",
        "\n",
        "print('Score on training data: ', train_score)\n",
        "print('Score on test data: ', test_score)\n",
        "print(confusion_matrix(y_test, dt_predictions))\n",
        "print(classification_report(y_test, dt_predictions))\n",
        "\n",
        "fbeta_precision = fbeta_score(y_test, dt_predictions, 0.5)\n",
        "fbeta_recall = fbeta_score(y_test, dt_predictions, 2)\n",
        "print('Fbeta score favoring precision: {:.2f}'.format(fbeta_precision))\n",
        "print('FBeta score favoring recall: {:.2f}'.format(fbeta_recall))"
      ],
      "execution_count": null,
      "outputs": [
        {
          "output_type": "stream",
          "text": [
            "Score on training data:  1.0\n",
            "Score on test data:  0.9925373134328358\n",
            "[[132   0]\n",
            " [  1   1]]\n",
            "              precision    recall  f1-score   support\n",
            "\n",
            "         0.0       0.99      1.00      1.00       132\n",
            "         1.0       1.00      0.50      0.67         2\n",
            "\n",
            "    accuracy                           0.99       134\n",
            "   macro avg       1.00      0.75      0.83       134\n",
            "weighted avg       0.99      0.99      0.99       134\n",
            "\n",
            "Fbeta score favoring precision: 0.83\n",
            "FBeta score favoring recall: 0.56\n"
          ],
          "name": "stdout"
        }
      ]
    },
    {
      "cell_type": "code",
      "metadata": {
        "id": "brTH21Txy5OJ",
        "colab": {
          "base_uri": "https://localhost:8080/",
          "height": 438
        },
        "outputId": "bf12de4a-a91f-4c5d-901b-e0dbaf8feb4f"
      },
      "source": [
        "probs = dt.predict_proba(X_test)[:, 1]\n",
        "pres, rec, thresholds = precision_recall_curve(y_test, dt_predictions)\n",
        "pr_roc(dt)"
      ],
      "execution_count": null,
      "outputs": [
        {
          "output_type": "stream",
          "text": [
            "Area under the ROC curve: 0.750\n"
          ],
          "name": "stdout"
        },
        {
          "output_type": "display_data",
          "data": {
            "text/plain": [
              "<Figure size 432x288 with 0 Axes>"
            ]
          },
          "metadata": {
            "tags": []
          }
        },
        {
          "output_type": "display_data",
          "data": {
            "image/png": "[encoded data removed]",
            "text/plain": [
              "<Figure size 1296x432 with 3 Axes>"
            ]
          },
          "metadata": {
            "tags": [],
            "needs_background": "light"
          }
        }
      ]
    },
    {
      "cell_type": "code",
      "metadata": {
        "id": "0aumlMIno-b7",
        "colab": {
          "base_uri": "https://localhost:8080/",
          "height": 753
        },
        "outputId": "efec7365-7c1b-4e55-fe55-b33b5c3919ac"
      },
      "source": [
        "from sklearn import tree\n",
        "from IPython.display import Image\n",
        "\n",
        "# Packages for rendering our tree.\n",
        "import pydotplus\n",
        "import graphviz\n",
        "\n",
        "# Initialize and train our tree.\n",
        "decision_tree = DecisionTreeClassifier(\n",
        "    criterion='entropy',\n",
        "    max_features=1,\n",
        "    max_depth=4,\n",
        "    random_state = 1337\n",
        ")\n",
        "decision_tree.fit(X,y)\n",
        "\n",
        "# Render our tree.\n",
        "dot_data = tree.export_graphviz(\n",
        "    decision_tree, out_file=None,\n",
        "    feature_names=X.columns,\n",
        "    class_names=['Small', 'Large'],\n",
        "    filled=True\n",
        ")\n",
        "graph = pydotplus.graph_from_dot_data(dot_data)\n",
        "Image(graph.create_png())"
      ],
      "execution_count": null,
      "outputs": [
        {
          "output_type": "execute_result",
          "data": {
            "image/png": "[encoded data removed]",
            "text/plain": [
              "<IPython.core.display.Image object>"
            ]
          },
          "metadata": {
            "tags": []
          },
          "execution_count": 92
        }
      ]
    },
    {
      "cell_type": "markdown",
      "metadata": {
        "id": "YqIM_HDMcuuL"
      },
      "source": [
        "### RandomForestClassifer"
      ]
    },
    {
      "cell_type": "code",
      "metadata": {
        "id": "kQjbZIxcFDxW",
        "colab": {
          "base_uri": "https://localhost:8080/"
        },
        "outputId": "b93e104a-ece4-4422-85f5-af4fe14036cc"
      },
      "source": [
        "rf = RandomForestClassifier(n_estimators = 22, random_state = 40)\n",
        "\n",
        "rf.fit(X_train,y_train)\n",
        "\n",
        "rf_score = rf.score(X_test, y_test)\n",
        "rf_predictions = rf.predict(X_test)\n",
        "\n",
        "train_score = rf.score(X_train, y_train)\n",
        "test_score = rf.score(X_test, y_test)\n",
        "\n",
        "print('Score on training data: ', train_score)\n",
        "print('Score on test data: ', test_score)\n",
        "print(confusion_matrix(y_test, rf_predictions))\n",
        "print(classification_report(y_test, rf_predictions))\n",
        "\n",
        "fbeta_precision = fbeta_score(y_test, rf_predictions, 0.5)\n",
        "fbeta_recall = fbeta_score(y_test, rf_predictions, 2)\n",
        "print('Fbeta score favoring precision: {:.2f}'.format(fbeta_precision))\n",
        "print('FBeta score favoring recall: {:.2f}'.format(fbeta_recall))"
      ],
      "execution_count": null,
      "outputs": [
        {
          "output_type": "stream",
          "text": [
            "Score on training data:  1.0\n",
            "Score on test data:  0.9850746268656716\n",
            "[[131   1]\n",
            " [  1   1]]\n",
            "              precision    recall  f1-score   support\n",
            "\n",
            "         0.0       0.99      0.99      0.99       132\n",
            "         1.0       0.50      0.50      0.50         2\n",
            "\n",
            "    accuracy                           0.99       134\n",
            "   macro avg       0.75      0.75      0.75       134\n",
            "weighted avg       0.99      0.99      0.99       134\n",
            "\n",
            "Fbeta score favoring precision: 0.50\n",
            "FBeta score favoring recall: 0.50\n"
          ],
          "name": "stdout"
        }
      ]
    },
    {
      "cell_type": "code",
      "metadata": {
        "id": "bdZ5JKm3zq3w",
        "colab": {
          "base_uri": "https://localhost:8080/"
        },
        "outputId": "a7127446-5a53-426c-98b2-b7cd89005260"
      },
      "source": [
        "probs = rf.predict_proba(X_test)[:, 1]\n",
        "pres, rec, thresholds = precision_recall_curve(y_test, rf_predictions)\n",
        "pr_roc(rf)"
      ],
      "execution_count": null,
      "outputs": [
        {
          "output_type": "stream",
          "text": [
            "Area under the ROC curve: 0.996\n"
          ],
          "name": "stdout"
        },
        {
          "output_type": "display_data",
          "data": {
            "text/plain": [
              "<Figure size 432x288 with 0 Axes>"
            ]
          },
          "metadata": {
            "tags": []
          }
        },
        {
          "output_type": "display_data",
          "data": {
            "image/png": "[encoded data removed]",
            "text/plain": [
              "<Figure size 1296x432 with 3 Axes>"
            ]
          },
          "metadata": {
            "tags": [],
            "needs_background": "light"
          }
        }
      ]
    },
    {
      "cell_type": "markdown",
      "metadata": {
        "id": "3lCDqPwzdBfC"
      },
      "source": [
        "### Misc"
      ]
    },
    {
      "cell_type": "code",
      "metadata": {
        "id": "nXPRrvqLFD0R",
        "colab": {
          "base_uri": "https://localhost:8080/",
          "height": 419
        },
        "outputId": "ea1fcbfb-cb3f-4a2c-f534-14f81303b3d4"
      },
      "source": [
        "predictions_dictionary = {'Logistic Regression' : lr_predictions, 'KNN_7' : knn_7_predictions, \n",
        "                          'KNN_5': knn_5_predictions, 'SVM' : svm_predictions, 'Decision Tree' : dt_predictions, \n",
        "                          'Random Forest' : rf_predictions, 'Actual': y_test}\n",
        "\n",
        "predictions_df = pd.DataFrame(predictions_dictionary)\n",
        "predictions_df\n",
        "#This may not be a useful tool with this target variable"
      ],
      "execution_count": null,
      "outputs": [
        {
          "output_type": "execute_result",
          "data": {
            "text/html": [
              "<div>\n",
              "<style scoped>\n",
              "    .dataframe tbody tr th:only-of-type {\n",
              "        vertical-align: middle;\n",
              "    }\n",
              "\n",
              "    .dataframe tbody tr th {\n",
              "        vertical-align: top;\n",
              "    }\n",
              "\n",
              "    .dataframe thead th {\n",
              "        text-align: right;\n",
              "    }\n",
              "</style>\n",
              "<table border=\"1\" class=\"dataframe\">\n",
              "  <thead>\n",
              "    <tr style=\"text-align: right;\">\n",
              "      <th></th>\n",
              "      <th>Logistic Regression</th>\n",
              "      <th>KNN_7</th>\n",
              "      <th>KNN_5</th>\n",
              "      <th>SVM</th>\n",
              "      <th>Decision Tree</th>\n",
              "      <th>Random Forest</th>\n",
              "      <th>Actual</th>\n",
              "    </tr>\n",
              "  </thead>\n",
              "  <tbody>\n",
              "    <tr>\n",
              "      <th>516</th>\n",
              "      <td>0.0</td>\n",
              "      <td>0.0</td>\n",
              "      <td>0.0</td>\n",
              "      <td>0.0</td>\n",
              "      <td>0.0</td>\n",
              "      <td>0.0</td>\n",
              "      <td>0.0</td>\n",
              "    </tr>\n",
              "    <tr>\n",
              "      <th>355</th>\n",
              "      <td>0.0</td>\n",
              "      <td>0.0</td>\n",
              "      <td>0.0</td>\n",
              "      <td>0.0</td>\n",
              "      <td>0.0</td>\n",
              "      <td>0.0</td>\n",
              "      <td>0.0</td>\n",
              "    </tr>\n",
              "    <tr>\n",
              "      <th>89</th>\n",
              "      <td>0.0</td>\n",
              "      <td>0.0</td>\n",
              "      <td>0.0</td>\n",
              "      <td>0.0</td>\n",
              "      <td>0.0</td>\n",
              "      <td>0.0</td>\n",
              "      <td>0.0</td>\n",
              "    </tr>\n",
              "    <tr>\n",
              "      <th>501</th>\n",
              "      <td>0.0</td>\n",
              "      <td>0.0</td>\n",
              "      <td>0.0</td>\n",
              "      <td>0.0</td>\n",
              "      <td>0.0</td>\n",
              "      <td>0.0</td>\n",
              "      <td>0.0</td>\n",
              "    </tr>\n",
              "    <tr>\n",
              "      <th>247</th>\n",
              "      <td>0.0</td>\n",
              "      <td>0.0</td>\n",
              "      <td>0.0</td>\n",
              "      <td>0.0</td>\n",
              "      <td>0.0</td>\n",
              "      <td>0.0</td>\n",
              "      <td>1.0</td>\n",
              "    </tr>\n",
              "    <tr>\n",
              "      <th>...</th>\n",
              "      <td>...</td>\n",
              "      <td>...</td>\n",
              "      <td>...</td>\n",
              "      <td>...</td>\n",
              "      <td>...</td>\n",
              "      <td>...</td>\n",
              "      <td>...</td>\n",
              "    </tr>\n",
              "    <tr>\n",
              "      <th>404</th>\n",
              "      <td>0.0</td>\n",
              "      <td>0.0</td>\n",
              "      <td>0.0</td>\n",
              "      <td>0.0</td>\n",
              "      <td>0.0</td>\n",
              "      <td>0.0</td>\n",
              "      <td>0.0</td>\n",
              "    </tr>\n",
              "    <tr>\n",
              "      <th>569</th>\n",
              "      <td>0.0</td>\n",
              "      <td>0.0</td>\n",
              "      <td>0.0</td>\n",
              "      <td>0.0</td>\n",
              "      <td>0.0</td>\n",
              "      <td>0.0</td>\n",
              "      <td>0.0</td>\n",
              "    </tr>\n",
              "    <tr>\n",
              "      <th>378</th>\n",
              "      <td>0.0</td>\n",
              "      <td>0.0</td>\n",
              "      <td>0.0</td>\n",
              "      <td>0.0</td>\n",
              "      <td>0.0</td>\n",
              "      <td>0.0</td>\n",
              "      <td>0.0</td>\n",
              "    </tr>\n",
              "    <tr>\n",
              "      <th>55</th>\n",
              "      <td>0.0</td>\n",
              "      <td>0.0</td>\n",
              "      <td>0.0</td>\n",
              "      <td>0.0</td>\n",
              "      <td>0.0</td>\n",
              "      <td>0.0</td>\n",
              "      <td>0.0</td>\n",
              "    </tr>\n",
              "    <tr>\n",
              "      <th>388</th>\n",
              "      <td>0.0</td>\n",
              "      <td>0.0</td>\n",
              "      <td>0.0</td>\n",
              "      <td>0.0</td>\n",
              "      <td>0.0</td>\n",
              "      <td>0.0</td>\n",
              "      <td>0.0</td>\n",
              "    </tr>\n",
              "  </tbody>\n",
              "</table>\n",
              "<p>134 rows × 7 columns</p>\n",
              "</div>"
            ],
            "text/plain": [
              "     Logistic Regression  KNN_7  KNN_5  ...  Decision Tree  Random Forest  Actual\n",
              "516                  0.0    0.0    0.0  ...            0.0            0.0     0.0\n",
              "355                  0.0    0.0    0.0  ...            0.0            0.0     0.0\n",
              "89                   0.0    0.0    0.0  ...            0.0            0.0     0.0\n",
              "501                  0.0    0.0    0.0  ...            0.0            0.0     0.0\n",
              "247                  0.0    0.0    0.0  ...            0.0            0.0     1.0\n",
              "..                   ...    ...    ...  ...            ...            ...     ...\n",
              "404                  0.0    0.0    0.0  ...            0.0            0.0     0.0\n",
              "569                  0.0    0.0    0.0  ...            0.0            0.0     0.0\n",
              "378                  0.0    0.0    0.0  ...            0.0            0.0     0.0\n",
              "55                   0.0    0.0    0.0  ...            0.0            0.0     0.0\n",
              "388                  0.0    0.0    0.0  ...            0.0            0.0     0.0\n",
              "\n",
              "[134 rows x 7 columns]"
            ]
          },
          "metadata": {
            "tags": []
          },
          "execution_count": 43
        }
      ]
    },
    {
      "cell_type": "markdown",
      "metadata": {
        "id": "JNS7GykjGfb7"
      },
      "source": [
        "Visualization"
      ]
    },
    {
      "cell_type": "code",
      "metadata": {
        "id": "4U9qYWMMGGfK",
        "colab": {
          "base_uri": "https://localhost:8080/",
          "height": 319
        },
        "outputId": "950e3d2c-4232-4f69-a906-95ed61e650ea"
      },
      "source": [
        "X, y = make_blobs(n_samples=300, centers=2, n_features=2, cluster_std=1.0, random_state=3)\n",
        "\n",
        "lr = LogisticRegression(solver='lbfgs', random_state=5)\n",
        "lr.fit(X, y)\n",
        "\n",
        "plot_decision_regions(X, y, clf=lr, legend=2)\n",
        "plt.show()\n",
        "\n",
        "#What is this showing me?"
      ],
      "execution_count": null,
      "outputs": [
        {
          "output_type": "stream",
          "text": [
            "/usr/local/lib/python3.6/dist-packages/mlxtend/plotting/decision_regions.py:244: MatplotlibDeprecationWarning: Passing unsupported keyword arguments to axis() will raise a TypeError in 3.3.\n",
            "  ax.axis(xmin=xx.min(), xmax=xx.max(), y_min=yy.min(), y_max=yy.max())\n"
          ],
          "name": "stderr"
        },
        {
          "output_type": "display_data",
          "data": {
            "image/png": "[encoded data removed]",
            "text/plain": [
              "<Figure size 432x288 with 1 Axes>"
            ]
          },
          "metadata": {
            "tags": [],
            "needs_background": "light"
          }
        }
      ]
    },
    {
      "cell_type": "code",
      "metadata": {
        "id": "6RjoX-SHGGnP",
        "colab": {
          "base_uri": "https://localhost:8080/",
          "height": 319
        },
        "outputId": "b737657c-9d58-4ef9-c150-c2b5d1c36aa1"
      },
      "source": [
        "X, y = make_blobs(n_samples=200, centers=2, n_features=2, cluster_std=2.0, random_state = 225)\n",
        "\n",
        "lr = LogisticRegression(solver='lbfgs', random_state=5)\n",
        "lr.fit(X, y)\n",
        "\n",
        "plot_decision_regions(X, y, clf=lr, legend=2)\n",
        "plt.show()"
      ],
      "execution_count": null,
      "outputs": [
        {
          "output_type": "stream",
          "text": [
            "/usr/local/lib/python3.6/dist-packages/mlxtend/plotting/decision_regions.py:244: MatplotlibDeprecationWarning: Passing unsupported keyword arguments to axis() will raise a TypeError in 3.3.\n",
            "  ax.axis(xmin=xx.min(), xmax=xx.max(), y_min=yy.min(), y_max=yy.max())\n"
          ],
          "name": "stderr"
        },
        {
          "output_type": "display_data",
          "data": {
            "image/png": "[encoded data removed]",
            "text/plain": [
              "<Figure size 432x288 with 1 Axes>"
            ]
          },
          "metadata": {
            "tags": [],
            "needs_background": "light"
          }
        }
      ]
    },
    {
      "cell_type": "code",
      "metadata": {
        "id": "6br9HIG7GGqQ"
      },
      "source": [
        ""
      ],
      "execution_count": null,
      "outputs": []
    },
    {
      "cell_type": "code",
      "metadata": {
        "id": "hVSDJUhoGGt-"
      },
      "source": [
        ""
      ],
      "execution_count": null,
      "outputs": []
    },
    {
      "cell_type": "code",
      "metadata": {
        "id": "XAI89q7JGGwg"
      },
      "source": [
        ""
      ],
      "execution_count": null,
      "outputs": []
    },
    {
      "cell_type": "code",
      "metadata": {
        "id": "e2WLhVEUGGy4"
      },
      "source": [
        ""
      ],
      "execution_count": null,
      "outputs": []
    },
    {
      "cell_type": "markdown",
      "metadata": {
        "id": "8ihkbp0l5lZo"
      },
      "source": [
        "## Multiclass Clasification \n",
        "This can be done in a variety of ways for the target data. "
      ]
    },
    {
      "cell_type": "markdown",
      "metadata": {
        "id": "xhTGab6b7G5y"
      },
      "source": [
        "### LogisticRegression"
      ]
    },
    {
      "cell_type": "code",
      "metadata": {
        "id": "lkGQ5T9h5qD-",
        "colab": {
          "base_uri": "https://localhost:8080/"
        },
        "outputId": "f80bcde3-60e0-401b-e49c-09232b096d36"
      },
      "source": [
        "encoded_df = pd.concat([clean_df, pd.get_dummies(clean_df['Country,Other'])], axis=1)\n",
        "encoded_df = pd.concat([encoded_df, pd.get_dummies(clean_df['Continent'])], axis=1)\n",
        "encoded_df.drop(['Country,Other', 'Continent'], axis=1, inplace=True)\n",
        "encoded_df.head()\n",
        "X = encoded_df.drop(['NewCases'], axis=1)\n",
        "y = encoded_df['NewCases'].astype(int)\n",
        "\n",
        "\n",
        "X_train, X_test, y_train, y_test = train_test_split(X,y, test_size=0.2, random_state=5)\n",
        "\n",
        "print(X_train.shape)\n",
        "print(y_train.shape)\n",
        "print(X_test.shape)\n",
        "print(y_test.shape)"
      ],
      "execution_count": null,
      "outputs": [
        {
          "output_type": "stream",
          "text": [
            "(532, 239)\n",
            "(532,)\n",
            "(134, 239)\n",
            "(134,)\n"
          ],
          "name": "stdout"
        }
      ]
    },
    {
      "cell_type": "code",
      "metadata": {
        "id": "TV3fTWt05qIW",
        "colab": {
          "base_uri": "https://localhost:8080/",
          "height": 1000
        },
        "outputId": "5fa7f504-cb7e-4dab-88e9-bfd9468fa32f"
      },
      "source": [
        "mc_lr = LogisticRegression(solver='lbfgs', max_iter=1000)\n",
        "mc_lr.fit(X_train, y_train)\n",
        "\n",
        "mc_lr_score = mc_lr.score(X_test, y_test)\n",
        "mc_lr_predictions = mc_lr.predict(X_test)\n",
        "\n",
        "train_score = mc_lr.score(X_train, y_train)\n",
        "test_score = mc_lr.score(X_test, y_test)\n",
        "\n",
        "print('Score on training data: ', train_score)\n",
        "print('Score on test data: ', test_score)\n",
        "print(confusion_matrix(y_test, mc_lr_predictions))\n",
        "print(classification_report(y_test, mc_lr_predictions))\n",
        "#To favor precision, a value of  𝛽<1  is used, and to favor recall, a value of  𝛽>1  is used\n",
        "fbeta_precision = fbeta_score(y_test, mc_lr_predictions, 0.5)\n",
        "fbeta_recall = fbeta_score(y_test, mc_lr_predictions, 2)\n",
        "print('Fbeta score favoring precision: {:.2f}'.format(fbeta_precision))\n",
        "print('FBeta score favoring recall: {:.2f}'.format(fbeta_recall))"
      ],
      "execution_count": null,
      "outputs": [
        {
          "output_type": "stream",
          "text": [
            "Score on training data:  0.6860902255639098\n",
            "Score on test data:  0.6567164179104478\n",
            "[[0 0 1 ... 0 0 0]\n",
            " [0 0 1 ... 0 0 0]\n",
            " [0 0 0 ... 0 0 0]\n",
            " ...\n",
            " [0 0 0 ... 0 0 0]\n",
            " [0 0 0 ... 0 0 0]\n",
            " [0 0 0 ... 1 0 0]]\n",
            "              precision    recall  f1-score   support\n",
            "\n",
            "        1011       0.00      0.00      0.00         1\n",
            "        1037       0.00      0.00      0.00         1\n",
            "        1078       0.00      0.00      0.00         0\n",
            "        1136       0.00      0.00      0.00         1\n",
            "        1145       0.00      0.00      0.00         1\n",
            "        1174       0.00      0.00      0.00         0\n",
            "        1323       0.00      0.00      0.00         1\n",
            "        1332       0.00      0.00      0.00         1\n",
            "        1472       0.00      0.00      0.00         1\n",
            "        1553       0.00      0.00      0.00         1\n",
            "        1562       0.00      0.00      0.00         1\n",
            "        1592       0.00      0.00      0.00         1\n",
            "        1685       0.00      0.00      0.00         1\n",
            "        1731       0.00      0.00      0.00         1\n",
            "        2132       0.00      0.00      0.00         1\n",
            "        2280       0.00      0.00      0.00         0\n",
            "        2591       0.00      0.00      0.00         1\n",
            "        3056       0.00      0.00      0.00         1\n",
            "        3120       0.00      0.00      0.00         1\n",
            "        3822       0.00      0.00      0.00         1\n",
            "        4173       0.00      0.00      0.00         1\n",
            "        4836       0.00      0.00      0.00         1\n",
            "        5515       0.00      0.00      0.00         1\n",
            "        6653       0.00      0.00      0.00         1\n",
            "        7870       0.00      0.00      0.00         1\n",
            "        8685       0.00      0.00      0.00         1\n",
            "        9262       0.00      0.00      0.00         1\n",
            "       11163       0.00      0.00      0.00         1\n",
            "       11760       0.00      0.00      0.00         1\n",
            "       11787       0.00      0.00      0.00         1\n",
            "       22702       0.00      0.00      0.00         0\n",
            "       23184       0.00      0.00      0.00         0\n",
            "       25923       0.84      0.84      0.84       105\n",
            "       35849       0.00      0.00      0.00         1\n",
            "       40902       0.00      0.00      0.00         0\n",
            "      176595       0.00      0.00      0.00         0\n",
            "      183625       0.00      0.00      0.00         0\n",
            "      656533       0.00      0.00      0.00         1\n",
            "\n",
            "    accuracy                           0.66       134\n",
            "   macro avg       0.02      0.02      0.02       134\n",
            "weighted avg       0.66      0.66      0.66       134\n",
            "\n"
          ],
          "name": "stdout"
        },
        {
          "output_type": "stream",
          "text": [
            "/usr/local/lib/python3.6/dist-packages/sklearn/linear_model/_logistic.py:940: ConvergenceWarning: lbfgs failed to converge (status=1):\n",
            "STOP: TOTAL NO. of ITERATIONS REACHED LIMIT.\n",
            "\n",
            "Increase the number of iterations (max_iter) or scale the data as shown in:\n",
            "    https://scikit-learn.org/stable/modules/preprocessing.html\n",
            "Please also refer to the documentation for alternative solver options:\n",
            "    https://scikit-learn.org/stable/modules/linear_model.html#logistic-regression\n",
            "  extra_warning_msg=_LOGISTIC_SOLVER_CONVERGENCE_MSG)\n",
            "/usr/local/lib/python3.6/dist-packages/sklearn/metrics/_classification.py:1272: UndefinedMetricWarning: Precision and F-score are ill-defined and being set to 0.0 in labels with no predicted samples. Use `zero_division` parameter to control this behavior.\n",
            "  _warn_prf(average, modifier, msg_start, len(result))\n",
            "/usr/local/lib/python3.6/dist-packages/sklearn/metrics/_classification.py:1272: UndefinedMetricWarning: Recall and F-score are ill-defined and being set to 0.0 in labels with no true samples. Use `zero_division` parameter to control this behavior.\n",
            "  _warn_prf(average, modifier, msg_start, len(result))\n"
          ],
          "name": "stderr"
        },
        {
          "output_type": "error",
          "ename": "ValueError",
          "evalue": "ignored",
          "traceback": [
            "\u001b[0;31m---------------------------------------------------------------------------\u001b[0m",
            "\u001b[0;31mValueError\u001b[0m                                Traceback (most recent call last)",
            "\u001b[0;32m<ipython-input-47-b359dc094bb4>\u001b[0m in \u001b[0;36m<module>\u001b[0;34m()\u001b[0m\n\u001b[1;32m     13\u001b[0m \u001b[0mprint\u001b[0m\u001b[0;34m(\u001b[0m\u001b[0mclassification_report\u001b[0m\u001b[0;34m(\u001b[0m\u001b[0my_test\u001b[0m\u001b[0;34m,\u001b[0m \u001b[0mmc_lr_predictions\u001b[0m\u001b[0;34m)\u001b[0m\u001b[0;34m)\u001b[0m\u001b[0;34m\u001b[0m\u001b[0;34m\u001b[0m\u001b[0m\n\u001b[1;32m     14\u001b[0m \u001b[0;31m#To favor precision, a value of  𝛽<1  is used, and to favor recall, a value of  𝛽>1  is used\u001b[0m\u001b[0;34m\u001b[0m\u001b[0;34m\u001b[0m\u001b[0;34m\u001b[0m\u001b[0m\n\u001b[0;32m---> 15\u001b[0;31m \u001b[0mfbeta_precision\u001b[0m \u001b[0;34m=\u001b[0m \u001b[0mfbeta_score\u001b[0m\u001b[0;34m(\u001b[0m\u001b[0my_test\u001b[0m\u001b[0;34m,\u001b[0m \u001b[0mmc_lr_predictions\u001b[0m\u001b[0;34m,\u001b[0m \u001b[0;36m0.5\u001b[0m\u001b[0;34m)\u001b[0m\u001b[0;34m\u001b[0m\u001b[0;34m\u001b[0m\u001b[0m\n\u001b[0m\u001b[1;32m     16\u001b[0m \u001b[0mfbeta_recall\u001b[0m \u001b[0;34m=\u001b[0m \u001b[0mfbeta_score\u001b[0m\u001b[0;34m(\u001b[0m\u001b[0my_test\u001b[0m\u001b[0;34m,\u001b[0m \u001b[0mmc_lr_predictions\u001b[0m\u001b[0;34m,\u001b[0m \u001b[0;36m2\u001b[0m\u001b[0;34m)\u001b[0m\u001b[0;34m\u001b[0m\u001b[0;34m\u001b[0m\u001b[0m\n\u001b[1;32m     17\u001b[0m \u001b[0mprint\u001b[0m\u001b[0;34m(\u001b[0m\u001b[0;34m'Fbeta score favoring precision: {:.2f}'\u001b[0m\u001b[0;34m.\u001b[0m\u001b[0mformat\u001b[0m\u001b[0;34m(\u001b[0m\u001b[0mfbeta_precision\u001b[0m\u001b[0;34m)\u001b[0m\u001b[0;34m)\u001b[0m\u001b[0;34m\u001b[0m\u001b[0;34m\u001b[0m\u001b[0m\n",
            "\u001b[0;32m/usr/local/lib/python3.6/dist-packages/sklearn/metrics/_classification.py\u001b[0m in \u001b[0;36mfbeta_score\u001b[0;34m(y_true, y_pred, beta, labels, pos_label, average, sample_weight, zero_division)\u001b[0m\n\u001b[1;32m   1224\u001b[0m                                                  \u001b[0mwarn_for\u001b[0m\u001b[0;34m=\u001b[0m\u001b[0;34m(\u001b[0m\u001b[0;34m'f-score'\u001b[0m\u001b[0;34m,\u001b[0m\u001b[0;34m)\u001b[0m\u001b[0;34m,\u001b[0m\u001b[0;34m\u001b[0m\u001b[0;34m\u001b[0m\u001b[0m\n\u001b[1;32m   1225\u001b[0m                                                  \u001b[0msample_weight\u001b[0m\u001b[0;34m=\u001b[0m\u001b[0msample_weight\u001b[0m\u001b[0;34m,\u001b[0m\u001b[0;34m\u001b[0m\u001b[0;34m\u001b[0m\u001b[0m\n\u001b[0;32m-> 1226\u001b[0;31m                                                  zero_division=zero_division)\n\u001b[0m\u001b[1;32m   1227\u001b[0m     \u001b[0;32mreturn\u001b[0m \u001b[0mf\u001b[0m\u001b[0;34m\u001b[0m\u001b[0;34m\u001b[0m\u001b[0m\n\u001b[1;32m   1228\u001b[0m \u001b[0;34m\u001b[0m\u001b[0m\n",
            "\u001b[0;32m/usr/local/lib/python3.6/dist-packages/sklearn/metrics/_classification.py\u001b[0m in \u001b[0;36mprecision_recall_fscore_support\u001b[0;34m(y_true, y_pred, beta, labels, pos_label, average, warn_for, sample_weight, zero_division)\u001b[0m\n\u001b[1;32m   1482\u001b[0m         \u001b[0;32mraise\u001b[0m \u001b[0mValueError\u001b[0m\u001b[0;34m(\u001b[0m\u001b[0;34m\"beta should be >=0 in the F-beta score\"\u001b[0m\u001b[0;34m)\u001b[0m\u001b[0;34m\u001b[0m\u001b[0;34m\u001b[0m\u001b[0m\n\u001b[1;32m   1483\u001b[0m     labels = _check_set_wise_labels(y_true, y_pred, average, labels,\n\u001b[0;32m-> 1484\u001b[0;31m                                     pos_label)\n\u001b[0m\u001b[1;32m   1485\u001b[0m \u001b[0;34m\u001b[0m\u001b[0m\n\u001b[1;32m   1486\u001b[0m     \u001b[0;31m# Calculate tp_sum, pred_sum, true_sum ###\u001b[0m\u001b[0;34m\u001b[0m\u001b[0;34m\u001b[0m\u001b[0;34m\u001b[0m\u001b[0m\n",
            "\u001b[0;32m/usr/local/lib/python3.6/dist-packages/sklearn/metrics/_classification.py\u001b[0m in \u001b[0;36m_check_set_wise_labels\u001b[0;34m(y_true, y_pred, average, labels, pos_label)\u001b[0m\n\u001b[1;32m   1314\u001b[0m             raise ValueError(\"Target is %s but average='binary'. Please \"\n\u001b[1;32m   1315\u001b[0m                              \u001b[0;34m\"choose another average setting, one of %r.\"\u001b[0m\u001b[0;34m\u001b[0m\u001b[0;34m\u001b[0m\u001b[0m\n\u001b[0;32m-> 1316\u001b[0;31m                              % (y_type, average_options))\n\u001b[0m\u001b[1;32m   1317\u001b[0m     \u001b[0;32melif\u001b[0m \u001b[0mpos_label\u001b[0m \u001b[0;32mnot\u001b[0m \u001b[0;32min\u001b[0m \u001b[0;34m(\u001b[0m\u001b[0;32mNone\u001b[0m\u001b[0;34m,\u001b[0m \u001b[0;36m1\u001b[0m\u001b[0;34m)\u001b[0m\u001b[0;34m:\u001b[0m\u001b[0;34m\u001b[0m\u001b[0;34m\u001b[0m\u001b[0m\n\u001b[1;32m   1318\u001b[0m         warnings.warn(\"Note that pos_label (set to %r) is ignored when \"\n",
            "\u001b[0;31mValueError\u001b[0m: Target is multiclass but average='binary'. Please choose another average setting, one of [None, 'micro', 'macro', 'weighted']."
          ]
        }
      ]
    },
    {
      "cell_type": "code",
      "metadata": {
        "id": "a1d6E-75SJGk",
        "colab": {
          "base_uri": "https://localhost:8080/"
        },
        "outputId": "ee55cf15-2418-4a00-8940-19c88d854170"
      },
      "source": [
        "#one vs many\n",
        "mc_lr = LogisticRegression(solver='lbfgs', multi_class='ovr', max_iter=1000)\n",
        "lr_cv_scores = cross_val_score(mc_lr, X, y, cv=5)\n",
        "\n",
        "print('Accuracy scores for the 5 folds: ', lr_cv_scores)\n",
        "print('Mean cross validation score: {:.3f}'.format(lr_cv_scores.mean()))"
      ],
      "execution_count": null,
      "outputs": [
        {
          "output_type": "stream",
          "text": [
            "/usr/local/lib/python3.6/dist-packages/sklearn/model_selection/_split.py:667: UserWarning: The least populated class in y has only 1 members, which is less than n_splits=5.\n",
            "  % (min_groups, self.n_splits)), UserWarning)\n",
            "/usr/local/lib/python3.6/dist-packages/sklearn/linear_model/_logistic.py:940: ConvergenceWarning: lbfgs failed to converge (status=2):\n",
            "ABNORMAL_TERMINATION_IN_LNSRCH.\n",
            "\n",
            "Increase the number of iterations (max_iter) or scale the data as shown in:\n",
            "    https://scikit-learn.org/stable/modules/preprocessing.html\n",
            "Please also refer to the documentation for alternative solver options:\n",
            "    https://scikit-learn.org/stable/modules/linear_model.html#logistic-regression\n",
            "  extra_warning_msg=_LOGISTIC_SOLVER_CONVERGENCE_MSG)\n"
          ],
          "name": "stderr"
        },
        {
          "output_type": "stream",
          "text": [
            "Accuracy scores for the 5 folds:  [0.64925373 0.7518797  0.7593985  0.7443609  0.7593985 ]\n",
            "Mean cross validation score: 0.733\n"
          ],
          "name": "stdout"
        }
      ]
    },
    {
      "cell_type": "code",
      "metadata": {
        "id": "MsPwR3ouQx0S",
        "colab": {
          "base_uri": "https://localhost:8080/"
        },
        "outputId": "3c5265e1-da92-4870-cf75-a3e6c73a454c"
      },
      "source": [
        "#one vs many\n",
        "mc_lr = LogisticRegression(solver='lbfgs', multi_class='multinominal', max_iter=1000)\n",
        "lr_cv_scores = cross_val_score(mc_lr, X, y, cv=5)\n",
        "\n",
        "print('Accuracy scores for the 5 folds: ', lr_cv_scores)\n",
        "print('Mean cross validation score: {:.3f}'.format(lr_cv_scores.mean()))"
      ],
      "execution_count": null,
      "outputs": [
        {
          "output_type": "stream",
          "text": [
            "Accuracy scores for the 5 folds:  [nan nan nan nan nan]\n",
            "Mean cross validation score: nan\n"
          ],
          "name": "stdout"
        },
        {
          "output_type": "stream",
          "text": [
            "/usr/local/lib/python3.6/dist-packages/sklearn/model_selection/_split.py:667: UserWarning: The least populated class in y has only 1 members, which is less than n_splits=5.\n",
            "  % (min_groups, self.n_splits)), UserWarning)\n",
            "/usr/local/lib/python3.6/dist-packages/sklearn/model_selection/_validation.py:536: FitFailedWarning: Estimator fit failed. The score on this train-test partition for these parameters will be set to nan. Details: \n",
            "ValueError: multi_class should be 'multinomial', 'ovr' or 'auto'. Got multinominal.\n",
            "\n",
            "  FitFailedWarning)\n",
            "/usr/local/lib/python3.6/dist-packages/sklearn/model_selection/_validation.py:536: FitFailedWarning: Estimator fit failed. The score on this train-test partition for these parameters will be set to nan. Details: \n",
            "ValueError: multi_class should be 'multinomial', 'ovr' or 'auto'. Got multinominal.\n",
            "\n",
            "  FitFailedWarning)\n",
            "/usr/local/lib/python3.6/dist-packages/sklearn/model_selection/_validation.py:536: FitFailedWarning: Estimator fit failed. The score on this train-test partition for these parameters will be set to nan. Details: \n",
            "ValueError: multi_class should be 'multinomial', 'ovr' or 'auto'. Got multinominal.\n",
            "\n",
            "  FitFailedWarning)\n",
            "/usr/local/lib/python3.6/dist-packages/sklearn/model_selection/_validation.py:536: FitFailedWarning: Estimator fit failed. The score on this train-test partition for these parameters will be set to nan. Details: \n",
            "ValueError: multi_class should be 'multinomial', 'ovr' or 'auto'. Got multinominal.\n",
            "\n",
            "  FitFailedWarning)\n",
            "/usr/local/lib/python3.6/dist-packages/sklearn/model_selection/_validation.py:536: FitFailedWarning: Estimator fit failed. The score on this train-test partition for these parameters will be set to nan. Details: \n",
            "ValueError: multi_class should be 'multinomial', 'ovr' or 'auto'. Got multinominal.\n",
            "\n",
            "  FitFailedWarning)\n"
          ],
          "name": "stderr"
        }
      ]
    },
    {
      "cell_type": "markdown",
      "metadata": {
        "id": "x6rXLS8tQtNs"
      },
      "source": [
        "### RandomForestClassifier"
      ]
    },
    {
      "cell_type": "code",
      "metadata": {
        "id": "vcE9uZUA7Y8i",
        "colab": {
          "base_uri": "https://localhost:8080/",
          "height": 1000
        },
        "outputId": "cd13490a-4c07-41a1-a8d5-20659cd43da3"
      },
      "source": [
        "mc_rf = RandomForestClassifier(n_estimators = 22, random_state = 40)\n",
        "\n",
        "mc_rf.fit(X_train,y_train)\n",
        "\n",
        "mc_rf_score = mc_rf.score(X_test, y_test)\n",
        "mc_rf_predictions = mc_rf.predict(X_test)\n",
        "\n",
        "train_score = mc_rf.score(X_train, y_train)\n",
        "test_score = mc_rf.score(X_test, y_test)\n",
        "\n",
        "print('Score on training data: ', train_score)\n",
        "print('Score on test data: ', test_score)\n",
        "print(confusion_matrix(y_test, mc_rf_predictions))\n",
        "print(classification_report(y_test, mc_rf_predictions))\n",
        "\n",
        "fbeta_precision = fbeta_score(y_test, mc_rf_predictions, 0.5)\n",
        "fbeta_recall = fbeta_score(y_test, mc_rf_predictions, 2)\n",
        "print('Fbeta score favoring precision: {:.2f}'.format(fbeta_precision))\n",
        "print('FBeta score favoring recall: {:.2f}'.format(fbeta_recall))"
      ],
      "execution_count": null,
      "outputs": [
        {
          "output_type": "stream",
          "text": [
            "Score on training data:  0.9962406015037594\n",
            "Score on test data:  0.7686567164179104\n",
            "[[0 0 1 ... 0 0 0]\n",
            " [0 0 1 ... 0 0 0]\n",
            " [0 0 0 ... 0 0 0]\n",
            " ...\n",
            " [0 0 0 ... 0 0 0]\n",
            " [0 0 0 ... 0 0 0]\n",
            " [0 0 0 ... 0 1 0]]\n",
            "              precision    recall  f1-score   support\n",
            "\n",
            "        1011       0.00      0.00      0.00         1\n",
            "        1037       0.00      0.00      0.00         1\n",
            "        1078       0.00      0.00      0.00         0\n",
            "        1136       0.00      0.00      0.00         1\n",
            "        1145       0.00      0.00      0.00         1\n",
            "        1161       0.00      0.00      0.00         0\n",
            "        1226       0.00      0.00      0.00         0\n",
            "        1275       0.00      0.00      0.00         0\n",
            "        1277       0.00      0.00      0.00         0\n",
            "        1323       0.00      0.00      0.00         1\n",
            "        1331       0.00      0.00      0.00         0\n",
            "        1332       0.00      0.00      0.00         1\n",
            "        1472       0.00      0.00      0.00         1\n",
            "        1515       0.00      0.00      0.00         0\n",
            "        1553       0.00      0.00      0.00         1\n",
            "        1555       0.00      0.00      0.00         0\n",
            "        1562       0.00      0.00      0.00         1\n",
            "        1592       0.00      0.00      0.00         1\n",
            "        1634       0.00      0.00      0.00         0\n",
            "        1685       0.00      0.00      0.00         1\n",
            "        1703       0.00      0.00      0.00         0\n",
            "        1731       0.00      0.00      0.00         1\n",
            "        2024       0.00      0.00      0.00         0\n",
            "        2044       0.00      0.00      0.00         0\n",
            "        2132       0.00      0.00      0.00         1\n",
            "        2591       0.00      0.00      0.00         1\n",
            "        2841       0.00      0.00      0.00         0\n",
            "        2866       0.00      0.00      0.00         0\n",
            "        3056       0.00      0.00      0.00         1\n",
            "        3120       0.00      0.00      0.00         1\n",
            "        3473       0.00      0.00      0.00         0\n",
            "        3499       0.00      0.00      0.00         0\n",
            "        3822       0.00      0.00      0.00         1\n",
            "        4173       0.00      0.00      0.00         1\n",
            "        4836       0.00      0.00      0.00         1\n",
            "        5097       0.00      0.00      0.00         0\n",
            "        5444       0.00      0.00      0.00         0\n",
            "        5515       0.00      0.00      0.00         1\n",
            "        5839       0.00      0.00      0.00         0\n",
            "        6195       0.00      0.00      0.00         0\n",
            "        6653       0.00      0.00      0.00         1\n",
            "        7355       0.00      0.00      0.00         0\n",
            "        7870       0.00      0.00      0.00         1\n",
            "        8685       0.00      0.00      0.00         1\n",
            "        8686       0.00      0.00      0.00         0\n",
            "        9262       0.00      0.00      0.00         1\n",
            "        9586       0.00      0.00      0.00         0\n",
            "       11057       0.00      0.00      0.00         0\n",
            "       11163       0.00      0.00      0.00         1\n",
            "       11760       0.00      0.00      0.00         1\n",
            "       11787       0.00      0.00      0.00         1\n",
            "       11859       0.00      0.00      0.00         0\n",
            "       25923       0.99      0.98      0.99       105\n",
            "       34640       0.00      0.00      0.00         0\n",
            "       35849       0.00      0.00      0.00         1\n",
            "      183625       0.00      0.00      0.00         0\n",
            "      643500       0.00      0.00      0.00         0\n",
            "      656533       0.00      0.00      0.00         1\n",
            "\n",
            "    accuracy                           0.77       134\n",
            "   macro avg       0.02      0.02      0.02       134\n",
            "weighted avg       0.78      0.77      0.77       134\n",
            "\n"
          ],
          "name": "stdout"
        },
        {
          "output_type": "stream",
          "text": [
            "/usr/local/lib/python3.6/dist-packages/sklearn/metrics/_classification.py:1272: UndefinedMetricWarning: Precision and F-score are ill-defined and being set to 0.0 in labels with no predicted samples. Use `zero_division` parameter to control this behavior.\n",
            "  _warn_prf(average, modifier, msg_start, len(result))\n",
            "/usr/local/lib/python3.6/dist-packages/sklearn/metrics/_classification.py:1272: UndefinedMetricWarning: Recall and F-score are ill-defined and being set to 0.0 in labels with no true samples. Use `zero_division` parameter to control this behavior.\n",
            "  _warn_prf(average, modifier, msg_start, len(result))\n"
          ],
          "name": "stderr"
        },
        {
          "output_type": "error",
          "ename": "ValueError",
          "evalue": "ignored",
          "traceback": [
            "\u001b[0;31m---------------------------------------------------------------------------\u001b[0m",
            "\u001b[0;31mValueError\u001b[0m                                Traceback (most recent call last)",
            "\u001b[0;32m<ipython-input-52-ffd76e04ed04>\u001b[0m in \u001b[0;36m<module>\u001b[0;34m()\u001b[0m\n\u001b[1;32m     14\u001b[0m \u001b[0mprint\u001b[0m\u001b[0;34m(\u001b[0m\u001b[0mclassification_report\u001b[0m\u001b[0;34m(\u001b[0m\u001b[0my_test\u001b[0m\u001b[0;34m,\u001b[0m \u001b[0mmc_rf_predictions\u001b[0m\u001b[0;34m)\u001b[0m\u001b[0;34m)\u001b[0m\u001b[0;34m\u001b[0m\u001b[0;34m\u001b[0m\u001b[0m\n\u001b[1;32m     15\u001b[0m \u001b[0;34m\u001b[0m\u001b[0m\n\u001b[0;32m---> 16\u001b[0;31m \u001b[0mfbeta_precision\u001b[0m \u001b[0;34m=\u001b[0m \u001b[0mfbeta_score\u001b[0m\u001b[0;34m(\u001b[0m\u001b[0my_test\u001b[0m\u001b[0;34m,\u001b[0m \u001b[0mmc_rf_predictions\u001b[0m\u001b[0;34m,\u001b[0m \u001b[0;36m0.5\u001b[0m\u001b[0;34m)\u001b[0m\u001b[0;34m\u001b[0m\u001b[0;34m\u001b[0m\u001b[0m\n\u001b[0m\u001b[1;32m     17\u001b[0m \u001b[0mfbeta_recall\u001b[0m \u001b[0;34m=\u001b[0m \u001b[0mfbeta_score\u001b[0m\u001b[0;34m(\u001b[0m\u001b[0my_test\u001b[0m\u001b[0;34m,\u001b[0m \u001b[0mmc_rf_predictions\u001b[0m\u001b[0;34m,\u001b[0m \u001b[0;36m2\u001b[0m\u001b[0;34m)\u001b[0m\u001b[0;34m\u001b[0m\u001b[0;34m\u001b[0m\u001b[0m\n\u001b[1;32m     18\u001b[0m \u001b[0mprint\u001b[0m\u001b[0;34m(\u001b[0m\u001b[0;34m'Fbeta score favoring precision: {:.2f}'\u001b[0m\u001b[0;34m.\u001b[0m\u001b[0mformat\u001b[0m\u001b[0;34m(\u001b[0m\u001b[0mfbeta_precision\u001b[0m\u001b[0;34m)\u001b[0m\u001b[0;34m)\u001b[0m\u001b[0;34m\u001b[0m\u001b[0;34m\u001b[0m\u001b[0m\n",
            "\u001b[0;32m/usr/local/lib/python3.6/dist-packages/sklearn/metrics/_classification.py\u001b[0m in \u001b[0;36mfbeta_score\u001b[0;34m(y_true, y_pred, beta, labels, pos_label, average, sample_weight, zero_division)\u001b[0m\n\u001b[1;32m   1224\u001b[0m                                                  \u001b[0mwarn_for\u001b[0m\u001b[0;34m=\u001b[0m\u001b[0;34m(\u001b[0m\u001b[0;34m'f-score'\u001b[0m\u001b[0;34m,\u001b[0m\u001b[0;34m)\u001b[0m\u001b[0;34m,\u001b[0m\u001b[0;34m\u001b[0m\u001b[0;34m\u001b[0m\u001b[0m\n\u001b[1;32m   1225\u001b[0m                                                  \u001b[0msample_weight\u001b[0m\u001b[0;34m=\u001b[0m\u001b[0msample_weight\u001b[0m\u001b[0;34m,\u001b[0m\u001b[0;34m\u001b[0m\u001b[0;34m\u001b[0m\u001b[0m\n\u001b[0;32m-> 1226\u001b[0;31m                                                  zero_division=zero_division)\n\u001b[0m\u001b[1;32m   1227\u001b[0m     \u001b[0;32mreturn\u001b[0m \u001b[0mf\u001b[0m\u001b[0;34m\u001b[0m\u001b[0;34m\u001b[0m\u001b[0m\n\u001b[1;32m   1228\u001b[0m \u001b[0;34m\u001b[0m\u001b[0m\n",
            "\u001b[0;32m/usr/local/lib/python3.6/dist-packages/sklearn/metrics/_classification.py\u001b[0m in \u001b[0;36mprecision_recall_fscore_support\u001b[0;34m(y_true, y_pred, beta, labels, pos_label, average, warn_for, sample_weight, zero_division)\u001b[0m\n\u001b[1;32m   1482\u001b[0m         \u001b[0;32mraise\u001b[0m \u001b[0mValueError\u001b[0m\u001b[0;34m(\u001b[0m\u001b[0;34m\"beta should be >=0 in the F-beta score\"\u001b[0m\u001b[0;34m)\u001b[0m\u001b[0;34m\u001b[0m\u001b[0;34m\u001b[0m\u001b[0m\n\u001b[1;32m   1483\u001b[0m     labels = _check_set_wise_labels(y_true, y_pred, average, labels,\n\u001b[0;32m-> 1484\u001b[0;31m                                     pos_label)\n\u001b[0m\u001b[1;32m   1485\u001b[0m \u001b[0;34m\u001b[0m\u001b[0m\n\u001b[1;32m   1486\u001b[0m     \u001b[0;31m# Calculate tp_sum, pred_sum, true_sum ###\u001b[0m\u001b[0;34m\u001b[0m\u001b[0;34m\u001b[0m\u001b[0;34m\u001b[0m\u001b[0m\n",
            "\u001b[0;32m/usr/local/lib/python3.6/dist-packages/sklearn/metrics/_classification.py\u001b[0m in \u001b[0;36m_check_set_wise_labels\u001b[0;34m(y_true, y_pred, average, labels, pos_label)\u001b[0m\n\u001b[1;32m   1314\u001b[0m             raise ValueError(\"Target is %s but average='binary'. Please \"\n\u001b[1;32m   1315\u001b[0m                              \u001b[0;34m\"choose another average setting, one of %r.\"\u001b[0m\u001b[0;34m\u001b[0m\u001b[0;34m\u001b[0m\u001b[0m\n\u001b[0;32m-> 1316\u001b[0;31m                              % (y_type, average_options))\n\u001b[0m\u001b[1;32m   1317\u001b[0m     \u001b[0;32melif\u001b[0m \u001b[0mpos_label\u001b[0m \u001b[0;32mnot\u001b[0m \u001b[0;32min\u001b[0m \u001b[0;34m(\u001b[0m\u001b[0;32mNone\u001b[0m\u001b[0;34m,\u001b[0m \u001b[0;36m1\u001b[0m\u001b[0;34m)\u001b[0m\u001b[0;34m:\u001b[0m\u001b[0;34m\u001b[0m\u001b[0;34m\u001b[0m\u001b[0m\n\u001b[1;32m   1318\u001b[0m         warnings.warn(\"Note that pos_label (set to %r) is ignored when \"\n",
            "\u001b[0;31mValueError\u001b[0m: Target is multiclass but average='binary'. Please choose another average setting, one of [None, 'micro', 'macro', 'weighted']."
          ]
        }
      ]
    },
    {
      "cell_type": "code",
      "metadata": {
        "id": "BapaBjPS5qLW",
        "colab": {
          "base_uri": "https://localhost:8080/"
        },
        "outputId": "66aa3233-2d2e-4e63-8a66-ca02b10299ae"
      },
      "source": [
        "mc_rf = RandomForestClassifier(n_estimators = 22, random_state = 40)\n",
        "rf_cv_scores = cross_val_score(mc_rf, X, y, cv=5)\n",
        "\n",
        "print('Accuracy scores for the 5 folds: ', rf_cv_scores)\n",
        "print('Mean cross validation score: {:.3f}'.format(rf_cv_scores.mean()))"
      ],
      "execution_count": null,
      "outputs": [
        {
          "output_type": "stream",
          "text": [
            "/usr/local/lib/python3.6/dist-packages/sklearn/model_selection/_split.py:667: UserWarning: The least populated class in y has only 1 members, which is less than n_splits=5.\n",
            "  % (min_groups, self.n_splits)), UserWarning)\n"
          ],
          "name": "stderr"
        },
        {
          "output_type": "stream",
          "text": [
            "Accuracy scores for the 5 folds:  [0.56716418 0.7593985  0.7593985  0.73684211 0.7593985 ]\n",
            "Mean cross validation score: 0.716\n"
          ],
          "name": "stdout"
        }
      ]
    },
    {
      "cell_type": "code",
      "metadata": {
        "id": "iqje1dil9R9s"
      },
      "source": [
        ""
      ],
      "execution_count": null,
      "outputs": []
    },
    {
      "cell_type": "markdown",
      "metadata": {
        "id": "hw7qVUZx9UkF"
      },
      "source": [
        "## Regression\n",
        "Here we will treat the full set of NewCases "
      ]
    },
    {
      "cell_type": "code",
      "metadata": {
        "id": "xCWSV8jrcdKw",
        "colab": {
          "base_uri": "https://localhost:8080/"
        },
        "outputId": "3502b9f1-74ce-4c40-dc9a-f24428322693"
      },
      "source": [
        "regression_df = pd.concat([clean_df, pd.get_dummies(clean_df['Country,Other'])], axis=1)\n",
        "regression_df = pd.concat([regression_df, pd.get_dummies(clean_df['Continent'])], axis=1)\n",
        "#do no drop_first because the categories are greater than 2. drop first is best for dichotomies, i.e. gender. \n",
        "#you don't need male & female beacuse male=1 is male and male=0 is female. \n",
        "regression_df.drop(['Country,Other', 'Continent'], axis=1, inplace=True)\n",
        "regression_df.head()\n",
        "X = regression_df.drop(['NewCases'], axis=1)\n",
        "Y = regression_df['NewCases'].astype(int)\n",
        " \n",
        "\n",
        "X_train, X_test, Y_train, Y_test = train_test_split(X,Y, test_size=0.2, random_state=5)\n",
        "\n",
        "print(X_train.shape)\n",
        "print(y_train.shape)\n",
        "print(X_test.shape)\n",
        "print(y_test.shape)"
      ],
      "execution_count": null,
      "outputs": [
        {
          "output_type": "stream",
          "text": [
            "(532, 239)\n",
            "(532,)\n",
            "(134, 239)\n",
            "(134,)\n"
          ],
          "name": "stdout"
        }
      ]
    },
    {
      "cell_type": "markdown",
      "metadata": {
        "id": "g8kC8h2AbPX2"
      },
      "source": [
        "###LinearRegression"
      ]
    },
    {
      "cell_type": "code",
      "metadata": {
        "id": "suOHXzjn9ZAR",
        "colab": {
          "base_uri": "https://localhost:8080/",
          "height": 333
        },
        "outputId": "36fbc1ef-b5a0-42cb-a2c7-539af2884832"
      },
      "source": [
        "plt.hist(df['NewCases'])"
      ],
      "execution_count": null,
      "outputs": [
        {
          "output_type": "execute_result",
          "data": {
            "text/plain": [
              "(array([650.,   4.,   6.,   0.,   3.,   0.,   0.,   0.,   1.,   2.]),\n",
              " array([  1011. ,  65259.6, 129508.2, 193756.8, 258005.4, 322254. ,\n",
              "        386502.6, 450751.2, 514999.8, 579248.4, 643497. ]),\n",
              " <a list of 10 Patch objects>)"
            ]
          },
          "metadata": {
            "tags": []
          },
          "execution_count": 124
        },
        {
          "output_type": "display_data",
          "data": {
            "image/png": "[encoded data removed]",
            "text/plain": [
              "<Figure size 432x288 with 1 Axes>"
            ]
          },
          "metadata": {
            "tags": [],
            "needs_background": "light"
          }
        }
      ]
    },
    {
      "cell_type": "code",
      "metadata": {
        "id": "KVyfTPLk9ZDD",
        "colab": {
          "base_uri": "https://localhost:8080/"
        },
        "outputId": "ae5b3072-b03e-4d93-9c9f-4b9c49033c72"
      },
      "source": [
        "# from scikit-learn's linear_model module. scikit_learn automatically adds a constant\n",
        "lrm = LinearRegression()\n",
        "lrm.fit(X, Y)\n",
        "print('\\nCoefficients: \\n', lrm.coef_)\n",
        "print('\\nIntercept: \\n', lrm.intercept_)"
      ],
      "execution_count": null,
      "outputs": [
        {
          "output_type": "stream",
          "text": [
            "\n",
            "Coefficients: \n",
            " [-2.86717363e+10 -6.15176096e-02 -1.06541156e+01  1.73770272e+01\n",
            " -2.81400615e+01  5.37161037e-01  3.92756273e-01 -5.39937370e+00\n",
            " -2.57404137e-02  3.50701672e-03 -1.39425108e+05  5.65953573e+05\n",
            " -1.23583285e+05 -9.69551732e+04 -1.15883868e+05 -7.20580558e+04\n",
            " -2.49220328e+05 -2.49226327e+05 -1.63231783e+05 -2.62842428e+04\n",
            " -2.47142700e+05  3.33014525e+06  6.63619524e+04 -8.72220392e+04\n",
            " -3.05924099e+04 -2.47364438e+05  2.54359516e+04 -4.91620934e+05\n",
            " -2.48837530e+05 -9.59836332e+04 -4.02996181e+04 -2.48981511e+05\n",
            "  2.09833638e+03 -2.46656097e+05 -2.24981979e+04 -4.47212338e+05\n",
            " -1.36352783e+05  3.76090162e+04  1.30717847e+06 -2.49013894e+05\n",
            " -2.42789257e+04 -1.33119653e+05 -3.54803088e+04 -3.24292978e+03\n",
            "  2.12352324e+04  4.00843895e+04 -7.80952474e+04 -4.58149481e+04\n",
            " -8.09381288e+03 -2.48970472e+05 -2.47922976e+05 -1.94030790e+04\n",
            " -1.16458920e+05 -2.76812266e+05 -9.18204256e+05 -1.27866765e+05\n",
            "  3.43222663e+04  1.89017107e+04 -2.67294556e+05 -1.20700431e+05\n",
            " -2.62005487e+05 -2.48968871e+05 -1.59172128e+04 -5.47995786e+04\n",
            " -2.74725461e+05  1.07737414e+04 -3.29617847e+05  3.73823584e+04\n",
            " -2.49199014e+05 -2.44741261e+05 -4.16585789e+05 -2.19970256e+05\n",
            " -2.45168566e+05  3.55736347e+04  2.47935304e+04 -1.15526204e+05\n",
            "  3.66934923e+04 -3.17560193e+05  1.14946848e+06 -1.16885499e+05\n",
            " -5.15508074e+05 -9.62498319e+04 -9.28688393e+04  6.15394614e+04\n",
            " -5.12749565e+05 -9.43242294e+04  3.78418095e+04  3.11058387e+04\n",
            " -1.92039484e+04  3.15464567e+05 -5.17687704e+04 -1.18872244e+05\n",
            " -1.25302196e+05 -2.49040003e+05 -2.49327513e+05 -2.48070680e+05\n",
            " -2.52488368e+05 -6.18035293e+03  3.18448829e+04 -5.15606572e+05\n",
            " -2.84975412e+05 -2.62063234e+05  4.68458151e+04 -1.34011595e+05\n",
            " -1.11756323e+05 -9.87823587e+03 -6.99868030e+05  2.94815380e+05\n",
            "  3.42802122e+04 -8.30835353e+04 -1.20435173e+05  1.20070812e+05\n",
            "  4.60079582e+05 -4.75751431e+04 -2.54724244e+05 -3.85160208e+05\n",
            " -4.70133484e+04  2.89703371e+04 -1.31297384e+05  7.65797222e+01\n",
            " -2.06020612e+04 -4.85062256e+04 -1.14713793e+05 -2.59118512e+04\n",
            "  3.07730249e+04  2.13808278e+04  2.64392958e+04 -1.20503079e+05\n",
            " -1.28636213e+05 -9.17529875e+04 -3.30179133e+05 -2.68590514e+04\n",
            " -5.38299295e+04 -2.58365909e+04 -9.18755569e+04 -2.11211179e+04\n",
            " -3.04084339e+04 -1.11542352e+05 -9.38399580e+04 -2.49385711e+05\n",
            "  2.59560025e+04  4.00118125e+04  3.71510563e+04  4.54827828e+05\n",
            " -1.09985051e+05 -1.19565019e+05 -3.36075898e+04 -1.17373643e+05\n",
            " -2.49177020e+05  4.83662832e+04 -6.59944131e+04 -1.94295695e+05\n",
            "  3.43514872e+04 -8.99507474e+04 -9.40933721e+04 -8.05928553e+04\n",
            " -2.70194312e+05 -4.63664147e+04 -6.56374044e+05  3.00454463e+06\n",
            " -1.26013774e+05 -9.05694483e+04 -8.16286708e+04 -8.65488629e+03\n",
            " -6.04572288e+05 -2.10544638e+04 -2.11454429e+05 -1.23894304e+05\n",
            " -5.14996986e+05 -8.77041968e+04 -1.95472411e+05 -1.07849530e+05\n",
            " -4.71821891e+04  1.17992133e+03 -1.92968801e+04  1.37781556e+06\n",
            "  7.38958799e+03  3.62460645e+04 -1.26144666e+05 -2.49238921e+05\n",
            " -2.49318618e+05 -2.48631760e+05 -2.49112145e+05 -1.20036048e+05\n",
            "  3.69979951e+04  1.61353601e+05 -1.11822587e+04 -1.37063200e+05\n",
            "  3.69615182e+04  1.01279643e+04  6.24603092e+04 -2.48425598e+05\n",
            " -1.37938272e+05 -1.24210269e+05 -9.59999910e+04 -1.75036926e+04\n",
            "  2.01969247e+05  3.30278159e+06 -1.32221812e+03 -8.32168896e+04\n",
            " -2.48968276e+05 -2.49226216e+05 -1.04933338e+05 -5.14897528e+05\n",
            " -9.22443416e+04 -8.31225393e+04 -1.05038018e+05 -5.62434575e+04\n",
            " -1.73541372e+05 -2.42736426e+05 -2.90681085e+04  1.21980774e+04\n",
            " -2.51114889e+05  1.64606920e+04  2.32219880e+05 -2.48705559e+05\n",
            "  3.03164385e+05  4.85590526e+06 -1.09526535e+05 -1.58206979e+05\n",
            " -5.17249226e+05 -9.49312037e+04 -9.47252058e+04 -1.21053292e+05\n",
            " -5.43314029e+05 -3.33638480e+05 -9.36608312e+04  3.48685446e+04\n",
            "  5.61994478e+06 -1.22116028e+05 -1.43440412e+04 -6.94465235e+03\n",
            " -6.59796979e+05 -1.02705043e+06  5.61994478e+06 -9.25761633e+05\n",
            " -8.82647297e+05 -8.63740373e+05 -7.17173029e+05 -5.43775046e+05]\n",
            "\n",
            "Intercept: \n",
            " 28672673143.774185\n"
          ],
          "name": "stdout"
        }
      ]
    },
    {
      "cell_type": "code",
      "metadata": {
        "id": "g_7HU0EvhZXS"
      },
      "source": [
        "#Assumtion 1. Linearity of model in its coefficients"
      ],
      "execution_count": null,
      "outputs": []
    },
    {
      "cell_type": "code",
      "metadata": {
        "id": "mK7EoIBOgIcC",
        "colab": {
          "base_uri": "https://localhost:8080/"
        },
        "outputId": "4aae065b-74c0-4033-8169-e597ca1837b9"
      },
      "source": [
        "# Assumption 2. Error term = 0 on average\n",
        "#The error term accounts for the variation in the targer variable that is not explained by the features. \n",
        "# Ideally, error=0. If, for example. error=-1, then the model systematically overpredicts the target variable. \n",
        "predictions = lrm.predict(X)\n",
        "errors = Y - predictions\n",
        "\n",
        "print(\"Mean of the errors in the model is: {}\".format(np.mean(errors)))"
      ],
      "execution_count": null,
      "outputs": [
        {
          "output_type": "stream",
          "text": [
            "Mean of the errors in the model is: -1.6381432702233483e-06\n"
          ],
          "name": "stdout"
        }
      ]
    },
    {
      "cell_type": "code",
      "metadata": {
        "id": "U5STDfmhhhZG",
        "colab": {
          "base_uri": "https://localhost:8080/",
          "height": 295
        },
        "outputId": "ff0bb677-c1e9-46bd-904f-2c36dd32b992"
      },
      "source": [
        "#Assumption 3. Homoscedasticity, or when the error term is distributed evenly so error varience does not change over obsevations.\n",
        "plt.scatter(predictions, errors)\n",
        "plt.xlabel('Predicted')\n",
        "plt.ylabel('Residual')\n",
        "plt.axhline(y=0)\n",
        "plt.title('Residual vs. Predicted')\n",
        "plt.show()"
      ],
      "execution_count": null,
      "outputs": [
        {
          "output_type": "display_data",
          "data": {
            "image/png": "[encoded data removed]",
            "text/plain": [
              "<Figure size 432x288 with 1 Axes>"
            ]
          },
          "metadata": {
            "tags": [],
            "needs_background": "light"
          }
        }
      ]
    },
    {
      "cell_type": "code",
      "metadata": {
        "id": "FuXxZJOviNCi",
        "colab": {
          "base_uri": "https://localhost:8080/"
        },
        "outputId": "c542ada2-c540-4bba-c216-e7a1f77452ca"
      },
      "source": [
        "# The null hypothesis for both tests is that the errors are homoscedastic. Does this mean if both are are below .05 we reject the null \n",
        "# or something else?\n",
        "bart_stats = bartlett(predictions, errors)\n",
        "lev_stats = levene(predictions, errors)\n",
        "\n",
        "print(\"Bartlett test statistic value is {0:3g} and p value is {1:.3g}\".format(bart_stats[0], bart_stats[1]))\n",
        "print(\"Levene test statistic value is {0:3g} and p value is {1:.3g}\".format(lev_stats[0], lev_stats[1]))"
      ],
      "execution_count": null,
      "outputs": [
        {
          "output_type": "stream",
          "text": [
            "Bartlett test statistic value is 159.341 and p value is 1.58e-36\n",
            "Levene test statistic value is 2.07814 and p value is 0.15\n"
          ],
          "name": "stdout"
        }
      ]
    },
    {
      "cell_type": "code",
      "metadata": {
        "id": "cDG5UmhNjLOD",
        "colab": {
          "base_uri": "https://localhost:8080/",
          "height": 643
        },
        "outputId": "c0bfba4b-4001-4c83-be49-e404308d4494"
      },
      "source": [
        "#Assumption 4. Low multicollinarity. \n",
        "#Which df do i check?\n",
        "regression_df.corr()"
      ],
      "execution_count": null,
      "outputs": [
        {
          "output_type": "execute_result",
          "data": {
            "text/html": [
              "<div>\n",
              "<style scoped>\n",
              "    .dataframe tbody tr th:only-of-type {\n",
              "        vertical-align: middle;\n",
              "    }\n",
              "\n",
              "    .dataframe tbody tr th {\n",
              "        vertical-align: top;\n",
              "    }\n",
              "\n",
              "    .dataframe thead th {\n",
              "        text-align: right;\n",
              "    }\n",
              "</style>\n",
              "<table border=\"1\" class=\"dataframe\">\n",
              "  <thead>\n",
              "    <tr style=\"text-align: right;\">\n",
              "      <th></th>\n",
              "      <th>TotalCases</th>\n",
              "      <th>NewCases</th>\n",
              "      <th>TotalDeaths</th>\n",
              "      <th>NewDeaths</th>\n",
              "      <th>TotalRecovered</th>\n",
              "      <th>NewRecovered</th>\n",
              "      <th>ActiveCases</th>\n",
              "      <th>Serious,Critical</th>\n",
              "      <th>TotalTests</th>\n",
              "      <th>Population</th>\n",
              "      <th>Afghanistan</th>\n",
              "      <th>Africa</th>\n",
              "      <th>Albania</th>\n",
              "      <th>Algeria</th>\n",
              "      <th>Andorra</th>\n",
              "      <th>Angola</th>\n",
              "      <th>Anguilla</th>\n",
              "      <th>Antigua and Barbuda</th>\n",
              "      <th>Argentina</th>\n",
              "      <th>Armenia</th>\n",
              "      <th>Aruba</th>\n",
              "      <th>Asia</th>\n",
              "      <th>Australia</th>\n",
              "      <th>Austria</th>\n",
              "      <th>Azerbaijan</th>\n",
              "      <th>Bahamas</th>\n",
              "      <th>Bahrain</th>\n",
              "      <th>Bangladesh</th>\n",
              "      <th>Barbados</th>\n",
              "      <th>Belarus</th>\n",
              "      <th>Belgium</th>\n",
              "      <th>Belize</th>\n",
              "      <th>Benin</th>\n",
              "      <th>Bermuda</th>\n",
              "      <th>Bhutan</th>\n",
              "      <th>Bolivia</th>\n",
              "      <th>Bosnia and Herzegovina</th>\n",
              "      <th>Botswana</th>\n",
              "      <th>Brazil</th>\n",
              "      <th>British Virgin Islands</th>\n",
              "      <th>...</th>\n",
              "      <th>St. Barth</th>\n",
              "      <th>St. Vincent Grenadines</th>\n",
              "      <th>Sudan</th>\n",
              "      <th>Suriname</th>\n",
              "      <th>Switzerland</th>\n",
              "      <th>Syria</th>\n",
              "      <th>Taiwan</th>\n",
              "      <th>Tajikistan</th>\n",
              "      <th>Tanzania</th>\n",
              "      <th>Thailand</th>\n",
              "      <th>Timor-Leste</th>\n",
              "      <th>Togo</th>\n",
              "      <th>Trinidad and Tobago</th>\n",
              "      <th>Tunisia</th>\n",
              "      <th>Turkey</th>\n",
              "      <th>Turks and Caicos</th>\n",
              "      <th>UAE</th>\n",
              "      <th>USA</th>\n",
              "      <th>Uganda</th>\n",
              "      <th>Ukraine</th>\n",
              "      <th>Uruguay</th>\n",
              "      <th>Uzbekistan</th>\n",
              "      <th>Vanuatu</th>\n",
              "      <th>Vatican City</th>\n",
              "      <th>Venezuela</th>\n",
              "      <th>Vietnam</th>\n",
              "      <th>Wallis and Futuna</th>\n",
              "      <th>Western Sahara</th>\n",
              "      <th>World</th>\n",
              "      <th>Yemen</th>\n",
              "      <th>Zambia</th>\n",
              "      <th>Zimbabwe</th>\n",
              "      <th></th>\n",
              "      <th>Africa</th>\n",
              "      <th>All</th>\n",
              "      <th>Asia</th>\n",
              "      <th>Australia/Oceania</th>\n",
              "      <th>Europe</th>\n",
              "      <th>North America</th>\n",
              "      <th>South America</th>\n",
              "    </tr>\n",
              "  </thead>\n",
              "  <tbody>\n",
              "    <tr>\n",
              "      <th>TotalCases</th>\n",
              "      <td>1.000000</td>\n",
              "      <td>0.832833</td>\n",
              "      <td>0.992771</td>\n",
              "      <td>4.862071e-01</td>\n",
              "      <td>-0.278912</td>\n",
              "      <td>7.631756e-01</td>\n",
              "      <td>0.934108</td>\n",
              "      <td>0.988008</td>\n",
              "      <td>0.166079</td>\n",
              "      <td>0.105468</td>\n",
              "      <td>-1.098439e-02</td>\n",
              "      <td>2.059001e-02</td>\n",
              "      <td>-1.125201e-02</td>\n",
              "      <td>-1.060894e-02</td>\n",
              "      <td>-1.159897e-02</td>\n",
              "      <td>-1.147553e-02</td>\n",
              "      <td>-1.169279e-02</td>\n",
              "      <td>-1.169066e-02</td>\n",
              "      <td>9.633875e-03</td>\n",
              "      <td>-9.806644e-03</td>\n",
              "      <td>-1.161617e-02</td>\n",
              "      <td>0.233974</td>\n",
              "      <td>-1.123569e-02</td>\n",
              "      <td>-8.590056e-03</td>\n",
              "      <td>-1.050901e-02</td>\n",
              "      <td>-1.157486e-02</td>\n",
              "      <td>-1.030184e-02</td>\n",
              "      <td>-4.615653e-03</td>\n",
              "      <td>-1.168873e-02</td>\n",
              "      <td>-9.850488e-03</td>\n",
              "      <td>-3.107779e-03</td>\n",
              "      <td>-1.161677e-02</td>\n",
              "      <td>-1.164591e-02</td>\n",
              "      <td>-1.168919e-02</td>\n",
              "      <td>-1.168678e-02</td>\n",
              "      <td>-9.334618e-03</td>\n",
              "      <td>-1.054425e-02</td>\n",
              "      <td>-1.155712e-02</td>\n",
              "      <td>8.413934e-02</td>\n",
              "      <td>-1.169167e-02</td>\n",
              "      <td>...</td>\n",
              "      <td>-1.169104e-02</td>\n",
              "      <td>-1.169156e-02</td>\n",
              "      <td>-1.145521e-02</td>\n",
              "      <td>-1.160595e-02</td>\n",
              "      <td>-7.486844e-03</td>\n",
              "      <td>-1.158509e-02</td>\n",
              "      <td>-1.168302e-02</td>\n",
              "      <td>-1.150251e-02</td>\n",
              "      <td>-1.168444e-02</td>\n",
              "      <td>-1.162915e-02</td>\n",
              "      <td>-1.169235e-02</td>\n",
              "      <td>-1.164962e-02</td>\n",
              "      <td>-1.159444e-02</td>\n",
              "      <td>-1.041981e-02</td>\n",
              "      <td>-4.978060e-03</td>\n",
              "      <td>-1.168103e-02</td>\n",
              "      <td>-9.251578e-03</td>\n",
              "      <td>0.169940</td>\n",
              "      <td>-1.143758e-02</td>\n",
              "      <td>-3.229355e-03</td>\n",
              "      <td>-1.162925e-02</td>\n",
              "      <td>-1.054246e-02</td>\n",
              "      <td>-1.169283e-02</td>\n",
              "      <td>-1.169240e-02</td>\n",
              "      <td>-1.010310e-02</td>\n",
              "      <td>-1.167213e-02</td>\n",
              "      <td>-1.169283e-02</td>\n",
              "      <td>-1.169268e-02</td>\n",
              "      <td>0.872326</td>\n",
              "      <td>-1.165866e-02</td>\n",
              "      <td>-1.141099e-02</td>\n",
              "      <td>-1.154859e-02</td>\n",
              "      <td>-1.656529e-02</td>\n",
              "      <td>-9.353177e-02</td>\n",
              "      <td>0.872326</td>\n",
              "      <td>-0.014958</td>\n",
              "      <td>-3.926124e-02</td>\n",
              "      <td>-0.023201</td>\n",
              "      <td>-0.006697</td>\n",
              "      <td>0.043468</td>\n",
              "    </tr>\n",
              "    <tr>\n",
              "      <th>NewCases</th>\n",
              "      <td>0.832833</td>\n",
              "      <td>1.000000</td>\n",
              "      <td>0.832929</td>\n",
              "      <td>6.356227e-01</td>\n",
              "      <td>-0.078176</td>\n",
              "      <td>8.669054e-01</td>\n",
              "      <td>0.858546</td>\n",
              "      <td>0.826870</td>\n",
              "      <td>0.077682</td>\n",
              "      <td>-0.001108</td>\n",
              "      <td>-2.176923e-04</td>\n",
              "      <td>-1.198143e-02</td>\n",
              "      <td>-2.176923e-04</td>\n",
              "      <td>-2.176923e-04</td>\n",
              "      <td>-2.176923e-04</td>\n",
              "      <td>-2.176923e-04</td>\n",
              "      <td>-2.176923e-04</td>\n",
              "      <td>-2.176923e-04</td>\n",
              "      <td>-1.598948e-02</td>\n",
              "      <td>-3.986708e-02</td>\n",
              "      <td>-2.176923e-04</td>\n",
              "      <td>0.092126</td>\n",
              "      <td>-2.176923e-04</td>\n",
              "      <td>-1.827339e-02</td>\n",
              "      <td>-4.012534e-02</td>\n",
              "      <td>-2.176923e-04</td>\n",
              "      <td>-2.176923e-04</td>\n",
              "      <td>-3.995681e-02</td>\n",
              "      <td>-2.176923e-04</td>\n",
              "      <td>-4.084871e-02</td>\n",
              "      <td>-3.317514e-02</td>\n",
              "      <td>-2.176923e-04</td>\n",
              "      <td>-2.176923e-04</td>\n",
              "      <td>-2.176923e-04</td>\n",
              "      <td>-2.176923e-04</td>\n",
              "      <td>-2.176923e-04</td>\n",
              "      <td>-4.039893e-02</td>\n",
              "      <td>-2.176923e-04</td>\n",
              "      <td>9.983217e-03</td>\n",
              "      <td>-2.176923e-04</td>\n",
              "      <td>...</td>\n",
              "      <td>-2.176923e-04</td>\n",
              "      <td>-2.176923e-04</td>\n",
              "      <td>-2.176923e-04</td>\n",
              "      <td>-2.176923e-04</td>\n",
              "      <td>-2.111048e-02</td>\n",
              "      <td>-2.176923e-04</td>\n",
              "      <td>-2.176923e-04</td>\n",
              "      <td>-2.176923e-04</td>\n",
              "      <td>-2.176923e-04</td>\n",
              "      <td>-2.176923e-04</td>\n",
              "      <td>-2.176923e-04</td>\n",
              "      <td>-2.176923e-04</td>\n",
              "      <td>-2.176923e-04</td>\n",
              "      <td>-2.686511e-02</td>\n",
              "      <td>-2.536585e-02</td>\n",
              "      <td>-2.176923e-04</td>\n",
              "      <td>-4.083612e-02</td>\n",
              "      <td>0.152906</td>\n",
              "      <td>-2.176923e-04</td>\n",
              "      <td>-2.341849e-02</td>\n",
              "      <td>-2.176923e-04</td>\n",
              "      <td>-2.176923e-04</td>\n",
              "      <td>-2.176923e-04</td>\n",
              "      <td>-2.176923e-04</td>\n",
              "      <td>-2.176923e-04</td>\n",
              "      <td>-2.176923e-04</td>\n",
              "      <td>-2.176923e-04</td>\n",
              "      <td>-2.176923e-04</td>\n",
              "      <td>0.765201</td>\n",
              "      <td>-2.176923e-04</td>\n",
              "      <td>-2.176923e-04</td>\n",
              "      <td>-2.176923e-04</td>\n",
              "      <td>-3.085623e-04</td>\n",
              "      <td>-1.711100e-02</td>\n",
              "      <td>0.765201</td>\n",
              "      <td>-0.082672</td>\n",
              "      <td>-7.389147e-04</td>\n",
              "      <td>-0.050592</td>\n",
              "      <td>0.039007</td>\n",
              "      <td>-0.014555</td>\n",
              "    </tr>\n",
              "    <tr>\n",
              "      <th>TotalDeaths</th>\n",
              "      <td>0.992771</td>\n",
              "      <td>0.832929</td>\n",
              "      <td>1.000000</td>\n",
              "      <td>4.902928e-01</td>\n",
              "      <td>-0.279364</td>\n",
              "      <td>7.665923e-01</td>\n",
              "      <td>0.936555</td>\n",
              "      <td>0.988271</td>\n",
              "      <td>0.133867</td>\n",
              "      <td>0.071791</td>\n",
              "      <td>-1.058991e-02</td>\n",
              "      <td>2.014641e-02</td>\n",
              "      <td>-1.126424e-02</td>\n",
              "      <td>-1.023462e-02</td>\n",
              "      <td>-1.162452e-02</td>\n",
              "      <td>-1.146047e-02</td>\n",
              "      <td>-1.167550e-02</td>\n",
              "      <td>-1.167324e-02</td>\n",
              "      <td>1.208732e-02</td>\n",
              "      <td>-1.051922e-02</td>\n",
              "      <td>-1.164627e-02</td>\n",
              "      <td>0.167145</td>\n",
              "      <td>-1.105895e-02</td>\n",
              "      <td>-1.055842e-02</td>\n",
              "      <td>-1.104604e-02</td>\n",
              "      <td>-1.157014e-02</td>\n",
              "      <td>-1.144982e-02</td>\n",
              "      <td>-7.489952e-03</td>\n",
              "      <td>-1.167074e-02</td>\n",
              "      <td>-1.097330e-02</td>\n",
              "      <td>-2.214284e-03</td>\n",
              "      <td>-1.162225e-02</td>\n",
              "      <td>-1.164627e-02</td>\n",
              "      <td>-1.166938e-02</td>\n",
              "      <td>-1.167550e-02</td>\n",
              "      <td>-5.675882e-03</td>\n",
              "      <td>-1.044852e-02</td>\n",
              "      <td>-1.165715e-02</td>\n",
              "      <td>1.003101e-01</td>\n",
              "      <td>-1.167482e-02</td>\n",
              "      <td>...</td>\n",
              "      <td>-1.167550e-02</td>\n",
              "      <td>-1.167550e-02</td>\n",
              "      <td>-1.091688e-02</td>\n",
              "      <td>-1.159801e-02</td>\n",
              "      <td>-9.437483e-03</td>\n",
              "      <td>-1.144733e-02</td>\n",
              "      <td>-1.167074e-02</td>\n",
              "      <td>-1.161795e-02</td>\n",
              "      <td>-1.166123e-02</td>\n",
              "      <td>-1.163471e-02</td>\n",
              "      <td>-1.167550e-02</td>\n",
              "      <td>-1.163471e-02</td>\n",
              "      <td>-1.160005e-02</td>\n",
              "      <td>-1.018704e-02</td>\n",
              "      <td>-3.997538e-03</td>\n",
              "      <td>-1.167142e-02</td>\n",
              "      <td>-1.131772e-02</td>\n",
              "      <td>0.157957</td>\n",
              "      <td>-1.157784e-02</td>\n",
              "      <td>-5.337811e-03</td>\n",
              "      <td>-1.163222e-02</td>\n",
              "      <td>-1.127195e-02</td>\n",
              "      <td>-1.167550e-02</td>\n",
              "      <td>-1.167550e-02</td>\n",
              "      <td>-1.110246e-02</td>\n",
              "      <td>-1.165171e-02</td>\n",
              "      <td>-1.167550e-02</td>\n",
              "      <td>-1.167482e-02</td>\n",
              "      <td>0.876418</td>\n",
              "      <td>-1.126424e-02</td>\n",
              "      <td>-1.143758e-02</td>\n",
              "      <td>-1.150125e-02</td>\n",
              "      <td>-1.654191e-02</td>\n",
              "      <td>-9.351897e-02</td>\n",
              "      <td>0.876418</td>\n",
              "      <td>-0.036250</td>\n",
              "      <td>-3.921339e-02</td>\n",
              "      <td>-0.028288</td>\n",
              "      <td>0.007022</td>\n",
              "      <td>0.064881</td>\n",
              "    </tr>\n",
              "    <tr>\n",
              "      <th>NewDeaths</th>\n",
              "      <td>0.486207</td>\n",
              "      <td>0.635623</td>\n",
              "      <td>0.490293</td>\n",
              "      <td>1.000000e+00</td>\n",
              "      <td>-0.000460</td>\n",
              "      <td>5.772533e-01</td>\n",
              "      <td>0.505564</td>\n",
              "      <td>0.471672</td>\n",
              "      <td>-0.135166</td>\n",
              "      <td>-0.035488</td>\n",
              "      <td>5.049305e-18</td>\n",
              "      <td>5.049305e-18</td>\n",
              "      <td>5.049305e-18</td>\n",
              "      <td>5.049305e-18</td>\n",
              "      <td>5.049305e-18</td>\n",
              "      <td>5.049305e-18</td>\n",
              "      <td>5.049305e-18</td>\n",
              "      <td>5.049305e-18</td>\n",
              "      <td>5.049305e-18</td>\n",
              "      <td>5.049305e-18</td>\n",
              "      <td>5.049305e-18</td>\n",
              "      <td>-0.188546</td>\n",
              "      <td>5.049305e-18</td>\n",
              "      <td>5.049305e-18</td>\n",
              "      <td>5.049305e-18</td>\n",
              "      <td>5.049305e-18</td>\n",
              "      <td>5.049305e-18</td>\n",
              "      <td>5.049305e-18</td>\n",
              "      <td>5.049305e-18</td>\n",
              "      <td>5.049305e-18</td>\n",
              "      <td>5.049305e-18</td>\n",
              "      <td>5.049305e-18</td>\n",
              "      <td>5.049305e-18</td>\n",
              "      <td>5.049305e-18</td>\n",
              "      <td>5.049305e-18</td>\n",
              "      <td>5.049305e-18</td>\n",
              "      <td>5.049305e-18</td>\n",
              "      <td>5.049305e-18</td>\n",
              "      <td>5.049305e-18</td>\n",
              "      <td>5.049305e-18</td>\n",
              "      <td>...</td>\n",
              "      <td>5.049305e-18</td>\n",
              "      <td>5.049305e-18</td>\n",
              "      <td>5.049305e-18</td>\n",
              "      <td>5.049305e-18</td>\n",
              "      <td>5.049305e-18</td>\n",
              "      <td>5.049305e-18</td>\n",
              "      <td>5.049305e-18</td>\n",
              "      <td>5.049305e-18</td>\n",
              "      <td>5.049305e-18</td>\n",
              "      <td>5.049305e-18</td>\n",
              "      <td>5.049305e-18</td>\n",
              "      <td>5.049305e-18</td>\n",
              "      <td>5.049305e-18</td>\n",
              "      <td>5.049305e-18</td>\n",
              "      <td>5.049305e-18</td>\n",
              "      <td>5.049305e-18</td>\n",
              "      <td>5.049305e-18</td>\n",
              "      <td>-0.221801</td>\n",
              "      <td>5.049305e-18</td>\n",
              "      <td>5.049305e-18</td>\n",
              "      <td>5.049305e-18</td>\n",
              "      <td>5.049305e-18</td>\n",
              "      <td>5.049305e-18</td>\n",
              "      <td>5.049305e-18</td>\n",
              "      <td>5.049305e-18</td>\n",
              "      <td>5.049305e-18</td>\n",
              "      <td>5.049305e-18</td>\n",
              "      <td>5.049305e-18</td>\n",
              "      <td>0.714835</td>\n",
              "      <td>5.049305e-18</td>\n",
              "      <td>5.049305e-18</td>\n",
              "      <td>5.049305e-18</td>\n",
              "      <td>7.157006e-18</td>\n",
              "      <td>1.603082e-17</td>\n",
              "      <td>0.714835</td>\n",
              "      <td>-0.030225</td>\n",
              "      <td>-4.171973e-18</td>\n",
              "      <td>0.008653</td>\n",
              "      <td>-0.063186</td>\n",
              "      <td>-0.057515</td>\n",
              "    </tr>\n",
              "    <tr>\n",
              "      <th>TotalRecovered</th>\n",
              "      <td>-0.278912</td>\n",
              "      <td>-0.078176</td>\n",
              "      <td>-0.279364</td>\n",
              "      <td>-4.600636e-04</td>\n",
              "      <td>1.000000</td>\n",
              "      <td>-5.662112e-02</td>\n",
              "      <td>-0.251395</td>\n",
              "      <td>-0.277696</td>\n",
              "      <td>-0.252842</td>\n",
              "      <td>-0.225822</td>\n",
              "      <td>-2.240027e-02</td>\n",
              "      <td>-1.126896e-01</td>\n",
              "      <td>-1.614947e-02</td>\n",
              "      <td>-3.281828e-02</td>\n",
              "      <td>2.621708e-02</td>\n",
              "      <td>-1.564265e-03</td>\n",
              "      <td>1.119920e-01</td>\n",
              "      <td>9.115597e-02</td>\n",
              "      <td>-1.036607e-01</td>\n",
              "      <td>-5.955782e-02</td>\n",
              "      <td>3.941322e-02</td>\n",
              "      <td>-0.112690</td>\n",
              "      <td>-1.753854e-02</td>\n",
              "      <td>-7.449030e-02</td>\n",
              "      <td>-4.184722e-02</td>\n",
              "      <td>1.753541e-02</td>\n",
              "      <td>-4.809802e-02</td>\n",
              "      <td>-8.699190e-02</td>\n",
              "      <td>8.490517e-02</td>\n",
              "      <td>-5.677969e-02</td>\n",
              "      <td>-9.289544e-02</td>\n",
              "      <td>3.976049e-02</td>\n",
              "      <td>4.740036e-02</td>\n",
              "      <td>8.594697e-02</td>\n",
              "      <td>8.073797e-02</td>\n",
              "      <td>-6.928129e-02</td>\n",
              "      <td>-3.837455e-02</td>\n",
              "      <td>1.197914e-02</td>\n",
              "      <td>-1.088697e-01</td>\n",
              "      <td>9.428138e-02</td>\n",
              "      <td>...</td>\n",
              "      <td>9.219778e-02</td>\n",
              "      <td>9.323958e-02</td>\n",
              "      <td>-4.689666e-03</td>\n",
              "      <td>3.177335e-02</td>\n",
              "      <td>-7.761570e-02</td>\n",
              "      <td>2.135534e-02</td>\n",
              "      <td>7.240357e-02</td>\n",
              "      <td>3.297470e-03</td>\n",
              "      <td>7.552897e-02</td>\n",
              "      <td>4.288589e-02</td>\n",
              "      <td>1.005322e-01</td>\n",
              "      <td>4.844216e-02</td>\n",
              "      <td>2.378621e-02</td>\n",
              "      <td>-4.531988e-02</td>\n",
              "      <td>-8.595010e-02</td>\n",
              "      <td>6.719456e-02</td>\n",
              "      <td>-7.136489e-02</td>\n",
              "      <td>-0.110953</td>\n",
              "      <td>-6.078734e-03</td>\n",
              "      <td>-9.185364e-02</td>\n",
              "      <td>4.253862e-02</td>\n",
              "      <td>-3.872181e-02</td>\n",
              "      <td>1.140756e-01</td>\n",
              "      <td>1.015740e-01</td>\n",
              "      <td>-5.157069e-02</td>\n",
              "      <td>5.955469e-02</td>\n",
              "      <td>1.151174e-01</td>\n",
              "      <td>1.099084e-01</td>\n",
              "      <td>-0.112690</td>\n",
              "      <td>5.260936e-02</td>\n",
              "      <td>-8.856868e-03</td>\n",
              "      <td>1.093734e-02</td>\n",
              "      <td>1.269917e-01</td>\n",
              "      <td>1.398871e-01</td>\n",
              "      <td>-0.112690</td>\n",
              "      <td>-0.179321</td>\n",
              "      <td>1.987179e-01</td>\n",
              "      <td>-0.193880</td>\n",
              "      <td>0.223919</td>\n",
              "      <td>-0.168298</td>\n",
              "    </tr>\n",
              "    <tr>\n",
              "      <th>...</th>\n",
              "      <td>...</td>\n",
              "      <td>...</td>\n",
              "      <td>...</td>\n",
              "      <td>...</td>\n",
              "      <td>...</td>\n",
              "      <td>...</td>\n",
              "      <td>...</td>\n",
              "      <td>...</td>\n",
              "      <td>...</td>\n",
              "      <td>...</td>\n",
              "      <td>...</td>\n",
              "      <td>...</td>\n",
              "      <td>...</td>\n",
              "      <td>...</td>\n",
              "      <td>...</td>\n",
              "      <td>...</td>\n",
              "      <td>...</td>\n",
              "      <td>...</td>\n",
              "      <td>...</td>\n",
              "      <td>...</td>\n",
              "      <td>...</td>\n",
              "      <td>...</td>\n",
              "      <td>...</td>\n",
              "      <td>...</td>\n",
              "      <td>...</td>\n",
              "      <td>...</td>\n",
              "      <td>...</td>\n",
              "      <td>...</td>\n",
              "      <td>...</td>\n",
              "      <td>...</td>\n",
              "      <td>...</td>\n",
              "      <td>...</td>\n",
              "      <td>...</td>\n",
              "      <td>...</td>\n",
              "      <td>...</td>\n",
              "      <td>...</td>\n",
              "      <td>...</td>\n",
              "      <td>...</td>\n",
              "      <td>...</td>\n",
              "      <td>...</td>\n",
              "      <td>...</td>\n",
              "      <td>...</td>\n",
              "      <td>...</td>\n",
              "      <td>...</td>\n",
              "      <td>...</td>\n",
              "      <td>...</td>\n",
              "      <td>...</td>\n",
              "      <td>...</td>\n",
              "      <td>...</td>\n",
              "      <td>...</td>\n",
              "      <td>...</td>\n",
              "      <td>...</td>\n",
              "      <td>...</td>\n",
              "      <td>...</td>\n",
              "      <td>...</td>\n",
              "      <td>...</td>\n",
              "      <td>...</td>\n",
              "      <td>...</td>\n",
              "      <td>...</td>\n",
              "      <td>...</td>\n",
              "      <td>...</td>\n",
              "      <td>...</td>\n",
              "      <td>...</td>\n",
              "      <td>...</td>\n",
              "      <td>...</td>\n",
              "      <td>...</td>\n",
              "      <td>...</td>\n",
              "      <td>...</td>\n",
              "      <td>...</td>\n",
              "      <td>...</td>\n",
              "      <td>...</td>\n",
              "      <td>...</td>\n",
              "      <td>...</td>\n",
              "      <td>...</td>\n",
              "      <td>...</td>\n",
              "      <td>...</td>\n",
              "      <td>...</td>\n",
              "      <td>...</td>\n",
              "      <td>...</td>\n",
              "      <td>...</td>\n",
              "      <td>...</td>\n",
              "    </tr>\n",
              "    <tr>\n",
              "      <th>Asia</th>\n",
              "      <td>-0.014958</td>\n",
              "      <td>-0.082672</td>\n",
              "      <td>-0.036250</td>\n",
              "      <td>-3.022488e-02</td>\n",
              "      <td>-0.179321</td>\n",
              "      <td>-6.706424e-02</td>\n",
              "      <td>-0.060026</td>\n",
              "      <td>-0.028391</td>\n",
              "      <td>0.122387</td>\n",
              "      <td>0.225256</td>\n",
              "      <td>1.247622e-01</td>\n",
              "      <td>-3.626809e-02</td>\n",
              "      <td>-3.626809e-02</td>\n",
              "      <td>-3.626809e-02</td>\n",
              "      <td>-3.626809e-02</td>\n",
              "      <td>-3.626809e-02</td>\n",
              "      <td>-3.626809e-02</td>\n",
              "      <td>-3.626809e-02</td>\n",
              "      <td>-3.626809e-02</td>\n",
              "      <td>1.247622e-01</td>\n",
              "      <td>-3.626809e-02</td>\n",
              "      <td>0.124762</td>\n",
              "      <td>-3.626809e-02</td>\n",
              "      <td>-3.626809e-02</td>\n",
              "      <td>1.247622e-01</td>\n",
              "      <td>-3.626809e-02</td>\n",
              "      <td>1.247622e-01</td>\n",
              "      <td>1.247622e-01</td>\n",
              "      <td>-3.626809e-02</td>\n",
              "      <td>-3.626809e-02</td>\n",
              "      <td>-3.626809e-02</td>\n",
              "      <td>-3.626809e-02</td>\n",
              "      <td>-3.626809e-02</td>\n",
              "      <td>-3.626809e-02</td>\n",
              "      <td>1.247622e-01</td>\n",
              "      <td>-3.626809e-02</td>\n",
              "      <td>-3.626809e-02</td>\n",
              "      <td>-3.626809e-02</td>\n",
              "      <td>-3.626809e-02</td>\n",
              "      <td>-3.626809e-02</td>\n",
              "      <td>...</td>\n",
              "      <td>-3.626809e-02</td>\n",
              "      <td>-3.626809e-02</td>\n",
              "      <td>-3.626809e-02</td>\n",
              "      <td>-3.626809e-02</td>\n",
              "      <td>-3.626809e-02</td>\n",
              "      <td>1.247622e-01</td>\n",
              "      <td>1.247622e-01</td>\n",
              "      <td>1.247622e-01</td>\n",
              "      <td>-3.626809e-02</td>\n",
              "      <td>1.247622e-01</td>\n",
              "      <td>1.247622e-01</td>\n",
              "      <td>-3.626809e-02</td>\n",
              "      <td>-3.626809e-02</td>\n",
              "      <td>-3.626809e-02</td>\n",
              "      <td>1.247622e-01</td>\n",
              "      <td>-3.626809e-02</td>\n",
              "      <td>1.247622e-01</td>\n",
              "      <td>-0.036268</td>\n",
              "      <td>-3.626809e-02</td>\n",
              "      <td>-3.626809e-02</td>\n",
              "      <td>-3.626809e-02</td>\n",
              "      <td>1.247622e-01</td>\n",
              "      <td>-3.626809e-02</td>\n",
              "      <td>-3.626809e-02</td>\n",
              "      <td>-3.626809e-02</td>\n",
              "      <td>1.247622e-01</td>\n",
              "      <td>-3.626809e-02</td>\n",
              "      <td>-3.626809e-02</td>\n",
              "      <td>-0.036268</td>\n",
              "      <td>1.247622e-01</td>\n",
              "      <td>-3.626809e-02</td>\n",
              "      <td>-3.626809e-02</td>\n",
              "      <td>-5.140726e-02</td>\n",
              "      <td>-3.206364e-01</td>\n",
              "      <td>-0.036268</td>\n",
              "      <td>1.000000</td>\n",
              "      <td>-1.231051e-01</td>\n",
              "      <td>-0.271857</td>\n",
              "      <td>-0.252764</td>\n",
              "      <td>-0.145138</td>\n",
              "    </tr>\n",
              "    <tr>\n",
              "      <th>Australia/Oceania</th>\n",
              "      <td>-0.039261</td>\n",
              "      <td>-0.000739</td>\n",
              "      <td>-0.039213</td>\n",
              "      <td>-4.171973e-18</td>\n",
              "      <td>0.198718</td>\n",
              "      <td>4.668722e-17</td>\n",
              "      <td>-0.035375</td>\n",
              "      <td>-0.039250</td>\n",
              "      <td>-0.035531</td>\n",
              "      <td>-0.050331</td>\n",
              "      <td>-1.535886e-02</td>\n",
              "      <td>-1.535886e-02</td>\n",
              "      <td>-1.535886e-02</td>\n",
              "      <td>-1.535886e-02</td>\n",
              "      <td>-1.535886e-02</td>\n",
              "      <td>-1.535886e-02</td>\n",
              "      <td>-1.535886e-02</td>\n",
              "      <td>-1.535886e-02</td>\n",
              "      <td>-1.535886e-02</td>\n",
              "      <td>-1.535886e-02</td>\n",
              "      <td>-1.535886e-02</td>\n",
              "      <td>-0.015359</td>\n",
              "      <td>2.946109e-01</td>\n",
              "      <td>-1.535886e-02</td>\n",
              "      <td>-1.535886e-02</td>\n",
              "      <td>-1.535886e-02</td>\n",
              "      <td>-1.535886e-02</td>\n",
              "      <td>-1.535886e-02</td>\n",
              "      <td>-1.535886e-02</td>\n",
              "      <td>-1.535886e-02</td>\n",
              "      <td>-1.535886e-02</td>\n",
              "      <td>-1.535886e-02</td>\n",
              "      <td>-1.535886e-02</td>\n",
              "      <td>-1.535886e-02</td>\n",
              "      <td>-1.535886e-02</td>\n",
              "      <td>-1.535886e-02</td>\n",
              "      <td>-1.535886e-02</td>\n",
              "      <td>-1.535886e-02</td>\n",
              "      <td>-1.535886e-02</td>\n",
              "      <td>-1.535886e-02</td>\n",
              "      <td>...</td>\n",
              "      <td>-1.535886e-02</td>\n",
              "      <td>-1.535886e-02</td>\n",
              "      <td>-1.535886e-02</td>\n",
              "      <td>-1.535886e-02</td>\n",
              "      <td>-1.535886e-02</td>\n",
              "      <td>-1.535886e-02</td>\n",
              "      <td>-1.535886e-02</td>\n",
              "      <td>-1.535886e-02</td>\n",
              "      <td>-1.535886e-02</td>\n",
              "      <td>-1.535886e-02</td>\n",
              "      <td>-1.535886e-02</td>\n",
              "      <td>-1.535886e-02</td>\n",
              "      <td>-1.535886e-02</td>\n",
              "      <td>-1.535886e-02</td>\n",
              "      <td>-1.535886e-02</td>\n",
              "      <td>-1.535886e-02</td>\n",
              "      <td>-1.535886e-02</td>\n",
              "      <td>-0.015359</td>\n",
              "      <td>-1.535886e-02</td>\n",
              "      <td>-1.535886e-02</td>\n",
              "      <td>-1.535886e-02</td>\n",
              "      <td>-1.535886e-02</td>\n",
              "      <td>2.946109e-01</td>\n",
              "      <td>-1.535886e-02</td>\n",
              "      <td>-1.535886e-02</td>\n",
              "      <td>-1.535886e-02</td>\n",
              "      <td>2.946109e-01</td>\n",
              "      <td>-1.535886e-02</td>\n",
              "      <td>-0.015359</td>\n",
              "      <td>-1.535886e-02</td>\n",
              "      <td>-1.535886e-02</td>\n",
              "      <td>-1.535886e-02</td>\n",
              "      <td>-2.177002e-02</td>\n",
              "      <td>-1.357836e-01</td>\n",
              "      <td>-0.015359</td>\n",
              "      <td>-0.123105</td>\n",
              "      <td>1.000000e+00</td>\n",
              "      <td>-0.115126</td>\n",
              "      <td>-0.107041</td>\n",
              "      <td>-0.061463</td>\n",
              "    </tr>\n",
              "    <tr>\n",
              "      <th>Europe</th>\n",
              "      <td>-0.023201</td>\n",
              "      <td>-0.050592</td>\n",
              "      <td>-0.028288</td>\n",
              "      <td>8.653284e-03</td>\n",
              "      <td>-0.193880</td>\n",
              "      <td>-6.678221e-02</td>\n",
              "      <td>0.047022</td>\n",
              "      <td>-0.014071</td>\n",
              "      <td>0.010980</td>\n",
              "      <td>-0.076181</td>\n",
              "      <td>-3.391747e-02</td>\n",
              "      <td>-3.391747e-02</td>\n",
              "      <td>1.334087e-01</td>\n",
              "      <td>-3.391747e-02</td>\n",
              "      <td>1.334087e-01</td>\n",
              "      <td>-3.391747e-02</td>\n",
              "      <td>-3.391747e-02</td>\n",
              "      <td>-3.391747e-02</td>\n",
              "      <td>-3.391747e-02</td>\n",
              "      <td>-3.391747e-02</td>\n",
              "      <td>-3.391747e-02</td>\n",
              "      <td>-0.033917</td>\n",
              "      <td>-3.391747e-02</td>\n",
              "      <td>1.334087e-01</td>\n",
              "      <td>-3.391747e-02</td>\n",
              "      <td>-3.391747e-02</td>\n",
              "      <td>-3.391747e-02</td>\n",
              "      <td>-3.391747e-02</td>\n",
              "      <td>-3.391747e-02</td>\n",
              "      <td>1.334087e-01</td>\n",
              "      <td>1.334087e-01</td>\n",
              "      <td>-3.391747e-02</td>\n",
              "      <td>-3.391747e-02</td>\n",
              "      <td>-3.391747e-02</td>\n",
              "      <td>-3.391747e-02</td>\n",
              "      <td>-3.391747e-02</td>\n",
              "      <td>1.334087e-01</td>\n",
              "      <td>-3.391747e-02</td>\n",
              "      <td>-3.391747e-02</td>\n",
              "      <td>-3.391747e-02</td>\n",
              "      <td>...</td>\n",
              "      <td>-3.391747e-02</td>\n",
              "      <td>-3.391747e-02</td>\n",
              "      <td>-3.391747e-02</td>\n",
              "      <td>-3.391747e-02</td>\n",
              "      <td>1.334087e-01</td>\n",
              "      <td>-3.391747e-02</td>\n",
              "      <td>-3.391747e-02</td>\n",
              "      <td>-3.391747e-02</td>\n",
              "      <td>-3.391747e-02</td>\n",
              "      <td>-3.391747e-02</td>\n",
              "      <td>-3.391747e-02</td>\n",
              "      <td>-3.391747e-02</td>\n",
              "      <td>-3.391747e-02</td>\n",
              "      <td>-3.391747e-02</td>\n",
              "      <td>-3.391747e-02</td>\n",
              "      <td>-3.391747e-02</td>\n",
              "      <td>-3.391747e-02</td>\n",
              "      <td>-0.033917</td>\n",
              "      <td>-3.391747e-02</td>\n",
              "      <td>1.334087e-01</td>\n",
              "      <td>-3.391747e-02</td>\n",
              "      <td>-3.391747e-02</td>\n",
              "      <td>-3.391747e-02</td>\n",
              "      <td>1.334087e-01</td>\n",
              "      <td>-3.391747e-02</td>\n",
              "      <td>-3.391747e-02</td>\n",
              "      <td>-3.391747e-02</td>\n",
              "      <td>-3.391747e-02</td>\n",
              "      <td>-0.033917</td>\n",
              "      <td>-3.391747e-02</td>\n",
              "      <td>-3.391747e-02</td>\n",
              "      <td>-3.391747e-02</td>\n",
              "      <td>-4.807544e-02</td>\n",
              "      <td>-2.998553e-01</td>\n",
              "      <td>-0.033917</td>\n",
              "      <td>-0.271857</td>\n",
              "      <td>-1.151264e-01</td>\n",
              "      <td>1.000000</td>\n",
              "      <td>-0.236382</td>\n",
              "      <td>-0.135731</td>\n",
              "    </tr>\n",
              "    <tr>\n",
              "      <th>North America</th>\n",
              "      <td>-0.006697</td>\n",
              "      <td>0.039007</td>\n",
              "      <td>0.007022</td>\n",
              "      <td>-6.318642e-02</td>\n",
              "      <td>0.223919</td>\n",
              "      <td>3.510370e-03</td>\n",
              "      <td>0.011950</td>\n",
              "      <td>0.011349</td>\n",
              "      <td>0.020287</td>\n",
              "      <td>-0.066409</td>\n",
              "      <td>-3.153539e-02</td>\n",
              "      <td>-3.153539e-02</td>\n",
              "      <td>-3.153539e-02</td>\n",
              "      <td>-3.153539e-02</td>\n",
              "      <td>-3.153539e-02</td>\n",
              "      <td>-3.153539e-02</td>\n",
              "      <td>1.434860e-01</td>\n",
              "      <td>1.434860e-01</td>\n",
              "      <td>-3.153539e-02</td>\n",
              "      <td>-3.153539e-02</td>\n",
              "      <td>1.434860e-01</td>\n",
              "      <td>-0.031535</td>\n",
              "      <td>-3.153539e-02</td>\n",
              "      <td>-3.153539e-02</td>\n",
              "      <td>-3.153539e-02</td>\n",
              "      <td>1.434860e-01</td>\n",
              "      <td>-3.153539e-02</td>\n",
              "      <td>-3.153539e-02</td>\n",
              "      <td>1.434860e-01</td>\n",
              "      <td>-3.153539e-02</td>\n",
              "      <td>-3.153539e-02</td>\n",
              "      <td>1.434860e-01</td>\n",
              "      <td>-3.153539e-02</td>\n",
              "      <td>1.434860e-01</td>\n",
              "      <td>-3.153539e-02</td>\n",
              "      <td>-3.153539e-02</td>\n",
              "      <td>-3.153539e-02</td>\n",
              "      <td>-3.153539e-02</td>\n",
              "      <td>-3.153539e-02</td>\n",
              "      <td>1.434860e-01</td>\n",
              "      <td>...</td>\n",
              "      <td>1.434860e-01</td>\n",
              "      <td>1.434860e-01</td>\n",
              "      <td>-3.153539e-02</td>\n",
              "      <td>-3.153539e-02</td>\n",
              "      <td>-3.153539e-02</td>\n",
              "      <td>-3.153539e-02</td>\n",
              "      <td>-3.153539e-02</td>\n",
              "      <td>-3.153539e-02</td>\n",
              "      <td>-3.153539e-02</td>\n",
              "      <td>-3.153539e-02</td>\n",
              "      <td>-3.153539e-02</td>\n",
              "      <td>-3.153539e-02</td>\n",
              "      <td>1.434860e-01</td>\n",
              "      <td>-3.153539e-02</td>\n",
              "      <td>-3.153539e-02</td>\n",
              "      <td>1.434860e-01</td>\n",
              "      <td>-3.153539e-02</td>\n",
              "      <td>0.143486</td>\n",
              "      <td>-3.153539e-02</td>\n",
              "      <td>-3.153539e-02</td>\n",
              "      <td>-3.153539e-02</td>\n",
              "      <td>-3.153539e-02</td>\n",
              "      <td>-3.153539e-02</td>\n",
              "      <td>-3.153539e-02</td>\n",
              "      <td>-3.153539e-02</td>\n",
              "      <td>-3.153539e-02</td>\n",
              "      <td>-3.153539e-02</td>\n",
              "      <td>-3.153539e-02</td>\n",
              "      <td>-0.031535</td>\n",
              "      <td>-3.153539e-02</td>\n",
              "      <td>-3.153539e-02</td>\n",
              "      <td>-3.153539e-02</td>\n",
              "      <td>-4.469902e-02</td>\n",
              "      <td>-2.787959e-01</td>\n",
              "      <td>-0.031535</td>\n",
              "      <td>-0.252764</td>\n",
              "      <td>-1.070408e-01</td>\n",
              "      <td>-0.236382</td>\n",
              "      <td>1.000000</td>\n",
              "      <td>-0.126199</td>\n",
              "    </tr>\n",
              "    <tr>\n",
              "      <th>South America</th>\n",
              "      <td>0.043468</td>\n",
              "      <td>-0.014555</td>\n",
              "      <td>0.064881</td>\n",
              "      <td>-5.751478e-02</td>\n",
              "      <td>-0.168298</td>\n",
              "      <td>4.940445e-02</td>\n",
              "      <td>-0.021406</td>\n",
              "      <td>0.031047</td>\n",
              "      <td>-0.011987</td>\n",
              "      <td>-0.010921</td>\n",
              "      <td>-1.810774e-02</td>\n",
              "      <td>-1.810774e-02</td>\n",
              "      <td>-1.810774e-02</td>\n",
              "      <td>-1.810774e-02</td>\n",
              "      <td>-1.810774e-02</td>\n",
              "      <td>-1.810774e-02</td>\n",
              "      <td>-1.810774e-02</td>\n",
              "      <td>-1.810774e-02</td>\n",
              "      <td>2.498869e-01</td>\n",
              "      <td>-1.810774e-02</td>\n",
              "      <td>-1.810774e-02</td>\n",
              "      <td>-0.018108</td>\n",
              "      <td>-1.810774e-02</td>\n",
              "      <td>-1.810774e-02</td>\n",
              "      <td>-1.810774e-02</td>\n",
              "      <td>-1.810774e-02</td>\n",
              "      <td>-1.810774e-02</td>\n",
              "      <td>-1.810774e-02</td>\n",
              "      <td>-1.810774e-02</td>\n",
              "      <td>-1.810774e-02</td>\n",
              "      <td>-1.810774e-02</td>\n",
              "      <td>-1.810774e-02</td>\n",
              "      <td>-1.810774e-02</td>\n",
              "      <td>-1.810774e-02</td>\n",
              "      <td>-1.810774e-02</td>\n",
              "      <td>2.498869e-01</td>\n",
              "      <td>-1.810774e-02</td>\n",
              "      <td>-1.810774e-02</td>\n",
              "      <td>2.498869e-01</td>\n",
              "      <td>-1.810774e-02</td>\n",
              "      <td>...</td>\n",
              "      <td>-1.810774e-02</td>\n",
              "      <td>-1.810774e-02</td>\n",
              "      <td>-1.810774e-02</td>\n",
              "      <td>2.498869e-01</td>\n",
              "      <td>-1.810774e-02</td>\n",
              "      <td>-1.810774e-02</td>\n",
              "      <td>-1.810774e-02</td>\n",
              "      <td>-1.810774e-02</td>\n",
              "      <td>-1.810774e-02</td>\n",
              "      <td>-1.810774e-02</td>\n",
              "      <td>-1.810774e-02</td>\n",
              "      <td>-1.810774e-02</td>\n",
              "      <td>-1.810774e-02</td>\n",
              "      <td>-1.810774e-02</td>\n",
              "      <td>-1.810774e-02</td>\n",
              "      <td>-1.810774e-02</td>\n",
              "      <td>-1.810774e-02</td>\n",
              "      <td>-0.018108</td>\n",
              "      <td>-1.810774e-02</td>\n",
              "      <td>-1.810774e-02</td>\n",
              "      <td>2.498869e-01</td>\n",
              "      <td>-1.810774e-02</td>\n",
              "      <td>-1.810774e-02</td>\n",
              "      <td>-1.810774e-02</td>\n",
              "      <td>2.498869e-01</td>\n",
              "      <td>-1.810774e-02</td>\n",
              "      <td>-1.810774e-02</td>\n",
              "      <td>-1.810774e-02</td>\n",
              "      <td>-0.018108</td>\n",
              "      <td>-1.810774e-02</td>\n",
              "      <td>-1.810774e-02</td>\n",
              "      <td>-1.810774e-02</td>\n",
              "      <td>-2.566635e-02</td>\n",
              "      <td>-1.600857e-01</td>\n",
              "      <td>-0.018108</td>\n",
              "      <td>-0.145138</td>\n",
              "      <td>-6.146326e-02</td>\n",
              "      <td>-0.135731</td>\n",
              "      <td>-0.126199</td>\n",
              "      <td>1.000000</td>\n",
              "    </tr>\n",
              "  </tbody>\n",
              "</table>\n",
              "<p>240 rows × 240 columns</p>\n",
              "</div>"
            ],
            "text/plain": [
              "                   TotalCases  NewCases  ...  North America  South America\n",
              "TotalCases           1.000000  0.832833  ...      -0.006697       0.043468\n",
              "NewCases             0.832833  1.000000  ...       0.039007      -0.014555\n",
              "TotalDeaths          0.992771  0.832929  ...       0.007022       0.064881\n",
              "NewDeaths            0.486207  0.635623  ...      -0.063186      -0.057515\n",
              "TotalRecovered      -0.278912 -0.078176  ...       0.223919      -0.168298\n",
              "...                       ...       ...  ...            ...            ...\n",
              "Asia                -0.014958 -0.082672  ...      -0.252764      -0.145138\n",
              "Australia/Oceania   -0.039261 -0.000739  ...      -0.107041      -0.061463\n",
              "Europe              -0.023201 -0.050592  ...      -0.236382      -0.135731\n",
              "North America       -0.006697  0.039007  ...       1.000000      -0.126199\n",
              "South America        0.043468 -0.014555  ...      -0.126199       1.000000\n",
              "\n",
              "[240 rows x 240 columns]"
            ]
          },
          "metadata": {
            "tags": []
          },
          "execution_count": 77
        }
      ]
    },
    {
      "cell_type": "code",
      "metadata": {
        "id": "xUIOtB9jj1dv",
        "colab": {
          "base_uri": "https://localhost:8080/",
          "height": 265
        },
        "outputId": "c0ce87e6-61c4-4229-9d1d-de0d941f3048"
      },
      "source": [
        "#Assumption 5. Uncorrelated errors\n",
        "plt.plot(errors)\n",
        "plt.show()"
      ],
      "execution_count": null,
      "outputs": [
        {
          "output_type": "display_data",
          "data": {
            "image/png": "[encoded data removed]",
            "text/plain": [
              "<Figure size 432x288 with 1 Axes>"
            ]
          },
          "metadata": {
            "tags": [],
            "needs_background": "light"
          }
        }
      ]
    },
    {
      "cell_type": "code",
      "metadata": {
        "id": "RLM57bU3kBt0",
        "colab": {
          "base_uri": "https://localhost:8080/",
          "height": 319
        },
        "outputId": "4b4955f4-1fc1-4252-bef5-01a66d2357fa"
      },
      "source": [
        "from statsmodels.tsa.stattools import acf\n",
        "\n",
        "acf_data = acf(errors)\n",
        "\n",
        "plt.plot(acf_data[1:])\n",
        "plt.show()\n",
        "#This checks the correlation of a variable with itself. "
      ],
      "execution_count": null,
      "outputs": [
        {
          "output_type": "stream",
          "text": [
            "/usr/local/lib/python3.6/dist-packages/statsmodels/tsa/stattools.py:541: FutureWarning: fft=True will become the default in a future version of statsmodels. To suppress this warning, explicitly set fft=False.\n",
            "  warnings.warn(msg, FutureWarning)\n"
          ],
          "name": "stderr"
        },
        {
          "output_type": "display_data",
          "data": {
            "image/png": "[encoded data removed]",
            "text/plain": [
              "<Figure size 432x288 with 1 Axes>"
            ]
          },
          "metadata": {
            "tags": [],
            "needs_background": "light"
          }
        }
      ]
    },
    {
      "cell_type": "code",
      "metadata": {
        "id": "uBEl5FkIkZ42"
      },
      "source": [
        "#Assumption 6. Independence of features and errors / normality of error terms"
      ],
      "execution_count": null,
      "outputs": []
    },
    {
      "cell_type": "code",
      "metadata": {
        "id": "0hCN3PgVkjKM",
        "colab": {
          "base_uri": "https://localhost:8080/",
          "height": 369
        },
        "outputId": "161fa081-93fc-4e06-c5b5-f0e4e9dd424b"
      },
      "source": [
        "rand_nums = np.random.normal(np.mean(errors), np.std(errors), len(errors))\n",
        "\n",
        "plt.figure(figsize=(12,5))\n",
        "\n",
        "plt.subplot(1,2,1)\n",
        "plt.scatter(np.sort(rand_nums), np.sort(errors)) # Sort the arrays\n",
        "plt.xlabel(\"the normally distributed random variable\")\n",
        "plt.ylabel(\"errors of the model\")\n",
        "plt.title(\"QQ plot\")\n",
        "\n",
        "plt.subplot(1,2,2)\n",
        "plt.hist(errors)\n",
        "plt.xlabel(\"errors\")\n",
        "plt.title(\"Histogram of the errors\")\n",
        "\n",
        "plt.tight_layout()\n",
        "plt.show()"
      ],
      "execution_count": null,
      "outputs": [
        {
          "output_type": "display_data",
          "data": {
            "image/png": "[encoded data removed]",
            "text/plain": [
              "<Figure size 864x360 with 2 Axes>"
            ]
          },
          "metadata": {
            "tags": [],
            "needs_background": "light"
          }
        }
      ]
    },
    {
      "cell_type": "code",
      "metadata": {
        "id": "3twPCB77kl45"
      },
      "source": [
        "from scipy.stats import jarque_bera\n",
        "from scipy.stats import normaltest"
      ],
      "execution_count": null,
      "outputs": []
    },
    {
      "cell_type": "code",
      "metadata": {
        "id": "TbQl3pLfknso",
        "colab": {
          "base_uri": "https://localhost:8080/"
        },
        "outputId": "b3ae0804-e604-45e6-9b65-1f9bf64aae16"
      },
      "source": [
        "jb_stats = jarque_bera(errors)\n",
        "norm_stats = normaltest(errors)\n",
        "\n",
        "print(\"Jarque-Bera test statistics is {0} and p value is {1}\".format(jb_stats[0], jb_stats[1]))\n",
        "print(\"Normality test statistics is {0} and p value is {1}\".format(norm_stats[0], norm_stats[1]))"
      ],
      "execution_count": null,
      "outputs": [
        {
          "output_type": "stream",
          "text": [
            "Jarque-Bera test statistics is 484.2775913699495 and p value is 0.0\n",
            "Normality test statistics is 151.0815181333847 and p value is 1.5597865767260797e-33\n"
          ],
          "name": "stdout"
        }
      ]
    },
    {
      "cell_type": "code",
      "metadata": {
        "id": "91Z-ccn09ZGY",
        "colab": {
          "base_uri": "https://localhost:8080/",
          "height": 1000
        },
        "outputId": "d143ab87-24e6-47e3-e18f-c037f1b01f76"
      },
      "source": [
        "#From statsmodel, statsmodel does not automatically add a constant. \n",
        "X = sm.add_constant(X)\n",
        "results = sm.OLS(Y, X).fit()\n",
        "results.summary()"
      ],
      "execution_count": null,
      "outputs": [
        {
          "output_type": "execute_result",
          "data": {
            "text/html": [
              "<table class=\"simpletable\">\n",
              "<caption>OLS Regression Results</caption>\n",
              "<tr>\n",
              "  <th>Dep. Variable:</th>        <td>NewCases</td>     <th>  R-squared:         </th> <td>   0.930</td> \n",
              "</tr>\n",
              "<tr>\n",
              "  <th>Model:</th>                   <td>OLS</td>       <th>  Adj. R-squared:    </th> <td>   0.893</td> \n",
              "</tr>\n",
              "<tr>\n",
              "  <th>Method:</th>             <td>Least Squares</td>  <th>  F-statistic:       </th> <td>   25.24</td> \n",
              "</tr>\n",
              "<tr>\n",
              "  <th>Date:</th>             <td>Sat, 14 Nov 2020</td> <th>  Prob (F-statistic):</th> <td>1.09e-164</td>\n",
              "</tr>\n",
              "<tr>\n",
              "  <th>Time:</th>                 <td>16:01:18</td>     <th>  Log-Likelihood:    </th> <td> -7133.6</td> \n",
              "</tr>\n",
              "<tr>\n",
              "  <th>No. Observations:</th>      <td>   666</td>      <th>  AIC:               </th> <td>1.473e+04</td>\n",
              "</tr>\n",
              "<tr>\n",
              "  <th>Df Residuals:</th>          <td>   436</td>      <th>  BIC:               </th> <td>1.576e+04</td>\n",
              "</tr>\n",
              "<tr>\n",
              "  <th>Df Model:</th>              <td>   229</td>      <th>                     </th>     <td> </td>    \n",
              "</tr>\n",
              "<tr>\n",
              "  <th>Covariance Type:</th>      <td>nonrobust</td>    <th>                     </th>     <td> </td>    \n",
              "</tr>\n",
              "</table>\n",
              "<table class=\"simpletable\">\n",
              "<tr>\n",
              "             <td></td>               <th>coef</th>     <th>std err</th>      <th>t</th>      <th>P>|t|</th>  <th>[0.025</th>    <th>0.975]</th>  \n",
              "</tr>\n",
              "<tr>\n",
              "  <th>const</th>                  <td> 1.835e+06</td> <td> 4.03e+05</td> <td>    4.554</td> <td> 0.000</td> <td> 1.04e+06</td> <td> 2.63e+06</td>\n",
              "</tr>\n",
              "<tr>\n",
              "  <th>TotalCases</th>             <td>    0.7482</td> <td>    0.261</td> <td>    2.870</td> <td> 0.004</td> <td>    0.236</td> <td>    1.260</td>\n",
              "</tr>\n",
              "<tr>\n",
              "  <th>TotalDeaths</th>            <td>  -54.3007</td> <td>   12.125</td> <td>   -4.478</td> <td> 0.000</td> <td>  -78.132</td> <td>  -30.469</td>\n",
              "</tr>\n",
              "<tr>\n",
              "  <th>NewDeaths</th>              <td>   28.5793</td> <td>    2.685</td> <td>   10.644</td> <td> 0.000</td> <td>   23.302</td> <td>   33.856</td>\n",
              "</tr>\n",
              "<tr>\n",
              "  <th>TotalRecovered</th>         <td>   -5.7953</td> <td>   75.089</td> <td>   -0.077</td> <td> 0.939</td> <td> -153.377</td> <td>  141.786</td>\n",
              "</tr>\n",
              "<tr>\n",
              "  <th>NewRecovered</th>           <td>    0.4884</td> <td>    0.054</td> <td>    9.123</td> <td> 0.000</td> <td>    0.383</td> <td>    0.594</td>\n",
              "</tr>\n",
              "<tr>\n",
              "  <th>ActiveCases</th>            <td>    0.3485</td> <td>    0.273</td> <td>    1.279</td> <td> 0.202</td> <td>   -0.187</td> <td>    0.884</td>\n",
              "</tr>\n",
              "<tr>\n",
              "  <th>Serious,Critical</th>       <td>   -7.7355</td> <td>    1.850</td> <td>   -4.180</td> <td> 0.000</td> <td>  -11.372</td> <td>   -4.099</td>\n",
              "</tr>\n",
              "<tr>\n",
              "  <th>TotalTests</th>             <td>   -0.0226</td> <td>    0.007</td> <td>   -3.279</td> <td> 0.001</td> <td>   -0.036</td> <td>   -0.009</td>\n",
              "</tr>\n",
              "<tr>\n",
              "  <th>Population</th>             <td>    0.0031</td> <td>    0.001</td> <td>    4.140</td> <td> 0.000</td> <td>    0.002</td> <td>    0.005</td>\n",
              "</tr>\n",
              "<tr>\n",
              "  <th>Afghanistan</th>            <td> -1.04e+05</td> <td>  4.6e+04</td> <td>   -2.261</td> <td> 0.024</td> <td>-1.94e+05</td> <td>-1.36e+04</td>\n",
              "</tr>\n",
              "<tr>\n",
              "  <th>Africa</th>                 <td> 1.002e+06</td> <td>  2.3e+05</td> <td>    4.346</td> <td> 0.000</td> <td> 5.49e+05</td> <td> 1.45e+06</td>\n",
              "</tr>\n",
              "<tr>\n",
              "  <th>Albania</th>                <td>-2.304e+05</td> <td>  5.6e+04</td> <td>   -4.113</td> <td> 0.000</td> <td>-3.41e+05</td> <td> -1.2e+05</td>\n",
              "</tr>\n",
              "<tr>\n",
              "  <th>Algeria</th>                <td>-8.056e+04</td> <td> 2.19e+04</td> <td>   -3.681</td> <td> 0.000</td> <td>-1.24e+05</td> <td>-3.75e+04</td>\n",
              "</tr>\n",
              "<tr>\n",
              "  <th>Andorra</th>                <td>  -2.3e+05</td> <td> 5.73e+04</td> <td>   -4.016</td> <td> 0.000</td> <td>-3.43e+05</td> <td>-1.17e+05</td>\n",
              "</tr>\n",
              "<tr>\n",
              "  <th>Angola</th>                 <td>-9.644e+04</td> <td> 2.02e+04</td> <td>   -4.779</td> <td> 0.000</td> <td>-1.36e+05</td> <td>-5.68e+04</td>\n",
              "</tr>\n",
              "<tr>\n",
              "  <th>Anguilla</th>               <td>-5.582e+05</td> <td> 1.07e+05</td> <td>   -5.197</td> <td> 0.000</td> <td>-7.69e+05</td> <td>-3.47e+05</td>\n",
              "</tr>\n",
              "<tr>\n",
              "  <th>Antigua and Barbuda</th>    <td>-5.584e+05</td> <td> 1.07e+05</td> <td>   -5.202</td> <td> 0.000</td> <td>-7.69e+05</td> <td>-3.47e+05</td>\n",
              "</tr>\n",
              "<tr>\n",
              "  <th>Argentina</th>              <td>-3.718e+05</td> <td> 7.21e+04</td> <td>   -5.153</td> <td> 0.000</td> <td>-5.14e+05</td> <td> -2.3e+05</td>\n",
              "</tr>\n",
              "<tr>\n",
              "  <th>Armenia</th>                <td>-5.678e+04</td> <td> 4.08e+04</td> <td>   -1.390</td> <td> 0.165</td> <td>-1.37e+05</td> <td> 2.35e+04</td>\n",
              "</tr>\n",
              "<tr>\n",
              "  <th>Aruba</th>                  <td>-5.591e+05</td> <td> 1.08e+05</td> <td>   -5.198</td> <td> 0.000</td> <td> -7.7e+05</td> <td>-3.48e+05</td>\n",
              "</tr>\n",
              "<tr>\n",
              "  <th>Asia</th>                   <td> 2.896e+06</td> <td> 1.59e+06</td> <td>    1.816</td> <td> 0.070</td> <td>-2.38e+05</td> <td> 6.03e+06</td>\n",
              "</tr>\n",
              "<tr>\n",
              "  <th>Australia</th>              <td>-1.361e+04</td> <td> 5.28e+04</td> <td>   -0.258</td> <td> 0.797</td> <td>-1.17e+05</td> <td> 9.02e+04</td>\n",
              "</tr>\n",
              "<tr>\n",
              "  <th>Austria</th>                <td>-2.807e+05</td> <td> 6.75e+04</td> <td>   -4.161</td> <td> 0.000</td> <td>-4.13e+05</td> <td>-1.48e+05</td>\n",
              "</tr>\n",
              "<tr>\n",
              "  <th>Azerbaijan</th>             <td>-6.169e+04</td> <td> 4.36e+04</td> <td>   -1.415</td> <td> 0.158</td> <td>-1.47e+05</td> <td>  2.4e+04</td>\n",
              "</tr>\n",
              "<tr>\n",
              "  <th>Bahamas</th>                <td>-5.566e+05</td> <td> 1.07e+05</td> <td>   -5.207</td> <td> 0.000</td> <td>-7.67e+05</td> <td>-3.46e+05</td>\n",
              "</tr>\n",
              "<tr>\n",
              "  <th>Bahrain</th>                <td>-4.565e+04</td> <td> 4.31e+04</td> <td>   -1.060</td> <td> 0.290</td> <td> -1.3e+05</td> <td>  3.9e+04</td>\n",
              "</tr>\n",
              "<tr>\n",
              "  <th>Bangladesh</th>             <td>-5.239e+05</td> <td> 1.05e+05</td> <td>   -4.971</td> <td> 0.000</td> <td>-7.31e+05</td> <td>-3.17e+05</td>\n",
              "</tr>\n",
              "<tr>\n",
              "  <th>Barbados</th>               <td>-5.581e+05</td> <td> 1.07e+05</td> <td>   -5.202</td> <td> 0.000</td> <td>-7.69e+05</td> <td>-3.47e+05</td>\n",
              "</tr>\n",
              "<tr>\n",
              "  <th>Belarus</th>                <td>-2.572e+05</td> <td> 6.25e+04</td> <td>   -4.115</td> <td> 0.000</td> <td> -3.8e+05</td> <td>-1.34e+05</td>\n",
              "</tr>\n",
              "<tr>\n",
              "  <th>Belgium</th>                <td> 4.449e+04</td> <td> 6.35e+04</td> <td>    0.700</td> <td> 0.484</td> <td>-8.04e+04</td> <td> 1.69e+05</td>\n",
              "</tr>\n",
              "<tr>\n",
              "  <th>Belize</th>                 <td>-5.591e+05</td> <td> 1.07e+05</td> <td>   -5.209</td> <td> 0.000</td> <td> -7.7e+05</td> <td>-3.48e+05</td>\n",
              "</tr>\n",
              "<tr>\n",
              "  <th>Benin</th>                  <td>-3.346e+04</td> <td> 1.57e+04</td> <td>   -2.134</td> <td> 0.033</td> <td>-6.43e+04</td> <td>-2647.871</td>\n",
              "</tr>\n",
              "<tr>\n",
              "  <th>Bermuda</th>                <td> -5.56e+05</td> <td> 1.07e+05</td> <td>   -5.195</td> <td> 0.000</td> <td>-7.66e+05</td> <td>-3.46e+05</td>\n",
              "</tr>\n",
              "<tr>\n",
              "  <th>Bhutan</th>                 <td>-3.514e+04</td> <td> 4.42e+04</td> <td>   -0.796</td> <td> 0.427</td> <td>-1.22e+05</td> <td> 5.16e+04</td>\n",
              "</tr>\n",
              "<tr>\n",
              "  <th>Bolivia</th>                <td>-8.754e+05</td> <td> 1.92e+05</td> <td>   -4.550</td> <td> 0.000</td> <td>-1.25e+06</td> <td>-4.97e+05</td>\n",
              "</tr>\n",
              "<tr>\n",
              "  <th>Bosnia and Herzegovina</th> <td>-2.253e+05</td> <td> 5.02e+04</td> <td>   -4.484</td> <td> 0.000</td> <td>-3.24e+05</td> <td>-1.27e+05</td>\n",
              "</tr>\n",
              "<tr>\n",
              "  <th>Botswana</th>               <td>-7098.4416</td> <td> 1.89e+04</td> <td>   -0.376</td> <td> 0.707</td> <td>-4.43e+04</td> <td> 3.01e+04</td>\n",
              "</tr>\n",
              "<tr>\n",
              "  <th>Brazil</th>                 <td>  3.13e+06</td> <td> 6.79e+05</td> <td>    4.606</td> <td> 0.000</td> <td> 1.79e+06</td> <td> 4.47e+06</td>\n",
              "</tr>\n",
              "<tr>\n",
              "  <th>British Virgin Islands</th> <td>-5.582e+05</td> <td> 1.07e+05</td> <td>   -5.200</td> <td> 0.000</td> <td>-7.69e+05</td> <td>-3.47e+05</td>\n",
              "</tr>\n",
              "<tr>\n",
              "  <th>Brunei </th>                <td>-3.629e+04</td> <td> 4.39e+04</td> <td>   -0.827</td> <td> 0.409</td> <td>-1.23e+05</td> <td>    5e+04</td>\n",
              "</tr>\n",
              "<tr>\n",
              "  <th>Bulgaria</th>               <td>-2.304e+05</td> <td> 4.92e+04</td> <td>   -4.684</td> <td> 0.000</td> <td>-3.27e+05</td> <td>-1.34e+05</td>\n",
              "</tr>\n",
              "<tr>\n",
              "  <th>Burkina Faso</th>           <td>-6.572e+04</td> <td>  1.6e+04</td> <td>   -4.099</td> <td> 0.000</td> <td>-9.72e+04</td> <td>-3.42e+04</td>\n",
              "</tr>\n",
              "<tr>\n",
              "  <th>Burundi</th>                <td>  -3.8e+04</td> <td> 1.56e+04</td> <td>   -2.429</td> <td> 0.016</td> <td>-6.88e+04</td> <td>-7247.909</td>\n",
              "</tr>\n",
              "<tr>\n",
              "  <th>CAR</th>                    <td>-1.719e+04</td> <td> 1.65e+04</td> <td>   -1.040</td> <td> 0.299</td> <td>-4.97e+04</td> <td> 1.53e+04</td>\n",
              "</tr>\n",
              "<tr>\n",
              "  <th>Cabo Verde</th>             <td>-2801.0664</td> <td> 1.81e+04</td> <td>   -0.154</td> <td> 0.877</td> <td>-3.85e+04</td> <td> 3.29e+04</td>\n",
              "</tr>\n",
              "<tr>\n",
              "  <th>Cambodia</th>               <td>-8.481e+04</td> <td> 4.48e+04</td> <td>   -1.892</td> <td> 0.059</td> <td>-1.73e+05</td> <td> 3306.033</td>\n",
              "</tr>\n",
              "<tr>\n",
              "  <th>Cameroon</th>               <td>-7.539e+04</td> <td> 1.64e+04</td> <td>   -4.599</td> <td> 0.000</td> <td>-1.08e+05</td> <td>-4.32e+04</td>\n",
              "</tr>\n",
              "<tr>\n",
              "  <th>Canada</th>                 <td>-9.468e+04</td> <td>    4e+04</td> <td>   -2.366</td> <td> 0.018</td> <td>-1.73e+05</td> <td> -1.6e+04</td>\n",
              "</tr>\n",
              "<tr>\n",
              "  <th>Caribbean Netherlands</th>  <td>-5.582e+05</td> <td> 1.07e+05</td> <td>   -5.201</td> <td> 0.000</td> <td>-7.69e+05</td> <td>-3.47e+05</td>\n",
              "</tr>\n",
              "<tr>\n",
              "  <th>Cayman Islands</th>         <td>-5.576e+05</td> <td> 1.07e+05</td> <td>   -5.199</td> <td> 0.000</td> <td>-7.68e+05</td> <td>-3.47e+05</td>\n",
              "</tr>\n",
              "<tr>\n",
              "  <th>Chad</th>                   <td>-4.903e+04</td> <td> 1.49e+04</td> <td>   -3.297</td> <td> 0.001</td> <td>-7.83e+04</td> <td>-1.98e+04</td>\n",
              "</tr>\n",
              "<tr>\n",
              "  <th>Channel Islands</th>        <td>-2.275e+05</td> <td> 5.68e+04</td> <td>   -4.004</td> <td> 0.000</td> <td>-3.39e+05</td> <td>-1.16e+05</td>\n",
              "</tr>\n",
              "<tr>\n",
              "  <th>Chile</th>                  <td>-7.675e+05</td> <td> 1.69e+05</td> <td>   -4.538</td> <td> 0.000</td> <td> -1.1e+06</td> <td>-4.35e+05</td>\n",
              "</tr>\n",
              "<tr>\n",
              "  <th>China</th>                  <td>-7.303e+05</td> <td> 5.43e+05</td> <td>   -1.346</td> <td> 0.179</td> <td> -1.8e+06</td> <td> 3.36e+05</td>\n",
              "</tr>\n",
              "<tr>\n",
              "  <th>Colombia</th>               <td>-3.121e+05</td> <td> 6.45e+04</td> <td>   -4.841</td> <td> 0.000</td> <td>-4.39e+05</td> <td>-1.85e+05</td>\n",
              "</tr>\n",
              "<tr>\n",
              "  <th>Comoros</th>                <td>-4031.6976</td> <td>  1.8e+04</td> <td>   -0.224</td> <td> 0.823</td> <td>-3.95e+04</td> <td> 3.14e+04</td>\n",
              "</tr>\n",
              "<tr>\n",
              "  <th>Congo</th>                  <td>-1.851e+04</td> <td> 1.59e+04</td> <td>   -1.164</td> <td> 0.245</td> <td>-4.98e+04</td> <td> 1.28e+04</td>\n",
              "</tr>\n",
              "<tr>\n",
              "  <th>Costa Rica</th>             <td>-6.061e+05</td> <td> 1.14e+05</td> <td>   -5.334</td> <td> 0.000</td> <td>-8.29e+05</td> <td>-3.83e+05</td>\n",
              "</tr>\n",
              "<tr>\n",
              "  <th>Croatia</th>                <td>-2.556e+05</td> <td> 6.21e+04</td> <td>   -4.116</td> <td> 0.000</td> <td>-3.78e+05</td> <td>-1.34e+05</td>\n",
              "</tr>\n",
              "<tr>\n",
              "  <th>Cuba</th>                   <td>-5.712e+05</td> <td> 1.09e+05</td> <td>   -5.246</td> <td> 0.000</td> <td>-7.85e+05</td> <td>-3.57e+05</td>\n",
              "</tr>\n",
              "<tr>\n",
              "  <th>Curaçao</th>                <td>-5.595e+05</td> <td> 1.08e+05</td> <td>   -5.204</td> <td> 0.000</td> <td>-7.71e+05</td> <td>-3.48e+05</td>\n",
              "</tr>\n",
              "<tr>\n",
              "  <th>Cyprus</th>                 <td>-3.352e+04</td> <td> 4.52e+04</td> <td>   -0.741</td> <td> 0.459</td> <td>-1.22e+05</td> <td> 5.54e+04</td>\n",
              "</tr>\n",
              "<tr>\n",
              "  <th>Czechia</th>                <td>-2.721e+05</td> <td> 7.71e+04</td> <td>   -3.531</td> <td> 0.000</td> <td>-4.24e+05</td> <td>-1.21e+05</td>\n",
              "</tr>\n",
              "<tr>\n",
              "  <th>DRC</th>                    <td>-2.765e+05</td> <td> 5.95e+04</td> <td>   -4.648</td> <td> 0.000</td> <td>-3.93e+05</td> <td> -1.6e+05</td>\n",
              "</tr>\n",
              "<tr>\n",
              "  <th>Denmark</th>                <td>-1.334e+05</td> <td> 4.96e+04</td> <td>   -2.688</td> <td> 0.007</td> <td>-2.31e+05</td> <td>-3.58e+04</td>\n",
              "</tr>\n",
              "<tr>\n",
              "  <th>Diamond Princess</th>       <td>-6.386e+05</td> <td> 1.33e+05</td> <td>   -4.795</td> <td> 0.000</td> <td>   -9e+05</td> <td>-3.77e+05</td>\n",
              "</tr>\n",
              "<tr>\n",
              "  <th>Djibouti</th>               <td>-3538.5287</td> <td> 1.79e+04</td> <td>   -0.198</td> <td> 0.843</td> <td>-3.87e+04</td> <td> 3.16e+04</td>\n",
              "</tr>\n",
              "<tr>\n",
              "  <th>Dominica</th>               <td>-5.584e+05</td> <td> 1.07e+05</td> <td>   -5.201</td> <td> 0.000</td> <td>-7.69e+05</td> <td>-3.47e+05</td>\n",
              "</tr>\n",
              "<tr>\n",
              "  <th>Dominican Republic</th>     <td>  -5.6e+05</td> <td> 1.08e+05</td> <td>   -5.167</td> <td> 0.000</td> <td>-7.73e+05</td> <td>-3.47e+05</td>\n",
              "</tr>\n",
              "<tr>\n",
              "  <th>Ecuador</th>                <td>-6.939e+05</td> <td> 1.63e+05</td> <td>   -4.258</td> <td> 0.000</td> <td>-1.01e+06</td> <td>-3.74e+05</td>\n",
              "</tr>\n",
              "<tr>\n",
              "  <th>Egypt</th>                  <td>-3.596e+04</td> <td> 6.12e+04</td> <td>   -0.587</td> <td> 0.557</td> <td>-1.56e+05</td> <td> 8.44e+04</td>\n",
              "</tr>\n",
              "<tr>\n",
              "  <th>El Salvador</th>            <td>-5.392e+05</td> <td> 1.03e+05</td> <td>   -5.224</td> <td> 0.000</td> <td>-7.42e+05</td> <td>-3.36e+05</td>\n",
              "</tr>\n",
              "<tr>\n",
              "  <th>Equatorial Guinea</th>      <td>-3578.2074</td> <td> 1.75e+04</td> <td>   -0.204</td> <td> 0.838</td> <td> -3.8e+04</td> <td> 3.09e+04</td>\n",
              "</tr>\n",
              "<tr>\n",
              "  <th>Eritrea</th>                <td>-1.275e+04</td> <td> 1.72e+04</td> <td>   -0.742</td> <td> 0.459</td> <td>-4.65e+04</td> <td>  2.1e+04</td>\n",
              "</tr>\n",
              "<tr>\n",
              "  <th>Estonia</th>                <td>-2.308e+05</td> <td>  5.7e+04</td> <td>   -4.051</td> <td> 0.000</td> <td>-3.43e+05</td> <td>-1.19e+05</td>\n",
              "</tr>\n",
              "<tr>\n",
              "  <th>Eswatini</th>               <td>-2046.7709</td> <td> 1.74e+04</td> <td>   -0.117</td> <td> 0.907</td> <td>-3.63e+04</td> <td> 3.22e+04</td>\n",
              "</tr>\n",
              "<tr>\n",
              "  <th>Ethiopia</th>               <td>-3.315e+05</td> <td> 6.99e+04</td> <td>   -4.743</td> <td> 0.000</td> <td>-4.69e+05</td> <td>-1.94e+05</td>\n",
              "</tr>\n",
              "<tr>\n",
              "  <th>Europe</th>                 <td> 4.348e+06</td> <td> 1.26e+06</td> <td>    3.460</td> <td> 0.001</td> <td> 1.88e+06</td> <td> 6.82e+06</td>\n",
              "</tr>\n",
              "<tr>\n",
              "  <th>Faeroe Islands</th>         <td>-2.294e+05</td> <td> 5.73e+04</td> <td>   -4.004</td> <td> 0.000</td> <td>-3.42e+05</td> <td>-1.17e+05</td>\n",
              "</tr>\n",
              "<tr>\n",
              "  <th>Falkland Islands</th>       <td>-1.212e+06</td> <td> 2.55e+05</td> <td>   -4.751</td> <td> 0.000</td> <td>-1.71e+06</td> <td>-7.11e+05</td>\n",
              "</tr>\n",
              "<tr>\n",
              "  <th>Fiji</th>                   <td>-1.741e+05</td> <td> 3.51e+04</td> <td>   -4.958</td> <td> 0.000</td> <td>-2.43e+05</td> <td>-1.05e+05</td>\n",
              "</tr>\n",
              "<tr>\n",
              "  <th>Finland</th>                <td>-2.076e+05</td> <td> 5.28e+04</td> <td>   -3.934</td> <td> 0.000</td> <td>-3.11e+05</td> <td>-1.04e+05</td>\n",
              "</tr>\n",
              "<tr>\n",
              "  <th>France</th>                 <td> 3.616e+05</td> <td> 2.92e+05</td> <td>    1.240</td> <td> 0.216</td> <td>-2.12e+05</td> <td> 9.35e+05</td>\n",
              "</tr>\n",
              "<tr>\n",
              "  <th>French Guiana</th>          <td>-1.216e+06</td> <td> 2.55e+05</td> <td>   -4.761</td> <td> 0.000</td> <td>-1.72e+06</td> <td>-7.14e+05</td>\n",
              "</tr>\n",
              "<tr>\n",
              "  <th>French Polynesia</th>       <td>-1.805e+05</td> <td> 3.64e+04</td> <td>   -4.960</td> <td> 0.000</td> <td>-2.52e+05</td> <td>-1.09e+05</td>\n",
              "</tr>\n",
              "<tr>\n",
              "  <th>Gabon</th>                  <td>-6231.0884</td> <td> 1.84e+04</td> <td>   -0.339</td> <td> 0.734</td> <td>-4.23e+04</td> <td> 2.99e+04</td>\n",
              "</tr>\n",
              "<tr>\n",
              "  <th>Gambia</th>                 <td>-4668.9830</td> <td> 1.68e+04</td> <td>   -0.278</td> <td> 0.781</td> <td>-3.77e+04</td> <td> 2.83e+04</td>\n",
              "</tr>\n",
              "<tr>\n",
              "  <th>Georgia</th>                <td>-6.518e+04</td> <td> 4.26e+04</td> <td>   -1.530</td> <td> 0.127</td> <td>-1.49e+05</td> <td> 1.85e+04</td>\n",
              "</tr>\n",
              "<tr>\n",
              "  <th>Germany</th>                <td> 9.867e+04</td> <td> 8.84e+04</td> <td>    1.117</td> <td> 0.265</td> <td> -7.5e+04</td> <td> 2.72e+05</td>\n",
              "</tr>\n",
              "<tr>\n",
              "  <th>Ghana</th>                  <td>-1.075e+05</td> <td> 2.19e+04</td> <td>   -4.916</td> <td> 0.000</td> <td>-1.51e+05</td> <td>-6.45e+04</td>\n",
              "</tr>\n",
              "<tr>\n",
              "  <th>Gibraltar</th>              <td>-2.316e+05</td> <td> 5.76e+04</td> <td>   -4.021</td> <td> 0.000</td> <td>-3.45e+05</td> <td>-1.18e+05</td>\n",
              "</tr>\n",
              "<tr>\n",
              "  <th>Greece</th>                 <td>-2.501e+05</td> <td> 5.22e+04</td> <td>   -4.789</td> <td> 0.000</td> <td>-3.53e+05</td> <td>-1.47e+05</td>\n",
              "</tr>\n",
              "<tr>\n",
              "  <th>Greenland</th>              <td>-5.581e+05</td> <td> 1.07e+05</td> <td>   -5.198</td> <td> 0.000</td> <td>-7.69e+05</td> <td>-3.47e+05</td>\n",
              "</tr>\n",
              "<tr>\n",
              "  <th>Grenada</th>                <td>-5.585e+05</td> <td> 1.07e+05</td> <td>   -5.201</td> <td> 0.000</td> <td> -7.7e+05</td> <td>-3.47e+05</td>\n",
              "</tr>\n",
              "<tr>\n",
              "  <th>Guadeloupe</th>             <td>-5.587e+05</td> <td> 1.07e+05</td> <td>   -5.211</td> <td> 0.000</td> <td>-7.69e+05</td> <td>-3.48e+05</td>\n",
              "</tr>\n",
              "<tr>\n",
              "  <th>Guatemala</th>              <td>-4.814e+05</td> <td> 9.06e+04</td> <td>   -5.315</td> <td> 0.000</td> <td>-6.59e+05</td> <td>-3.03e+05</td>\n",
              "</tr>\n",
              "<tr>\n",
              "  <th>Guinea</th>                 <td>-4.774e+04</td> <td> 1.56e+04</td> <td>   -3.054</td> <td> 0.002</td> <td>-7.85e+04</td> <td> -1.7e+04</td>\n",
              "</tr>\n",
              "<tr>\n",
              "  <th>Guinea-Bissau</th>          <td>-6425.3205</td> <td> 1.73e+04</td> <td>   -0.371</td> <td> 0.711</td> <td>-4.05e+04</td> <td> 2.76e+04</td>\n",
              "</tr>\n",
              "<tr>\n",
              "  <th>Guyana</th>                 <td>-1.211e+06</td> <td> 2.54e+05</td> <td>   -4.759</td> <td> 0.000</td> <td>-1.71e+06</td> <td>-7.11e+05</td>\n",
              "</tr>\n",
              "<tr>\n",
              "  <th>Haiti</th>                  <td>-5.885e+05</td> <td> 1.11e+05</td> <td>   -5.312</td> <td> 0.000</td> <td>-8.06e+05</td> <td>-3.71e+05</td>\n",
              "</tr>\n",
              "<tr>\n",
              "  <th>Honduras</th>               <td>-5.272e+05</td> <td> 9.82e+04</td> <td>   -5.369</td> <td> 0.000</td> <td> -7.2e+05</td> <td>-3.34e+05</td>\n",
              "</tr>\n",
              "<tr>\n",
              "  <th>Hong Kong</th>              <td> 2.633e+04</td> <td> 5.78e+04</td> <td>    0.456</td> <td> 0.649</td> <td>-8.73e+04</td> <td>  1.4e+05</td>\n",
              "</tr>\n",
              "<tr>\n",
              "  <th>Hungary</th>                <td>-2.239e+05</td> <td> 4.47e+04</td> <td>   -5.011</td> <td> 0.000</td> <td>-3.12e+05</td> <td>-1.36e+05</td>\n",
              "</tr>\n",
              "<tr>\n",
              "  <th>Iceland</th>                <td>-2.281e+05</td> <td>  5.7e+04</td> <td>   -4.003</td> <td> 0.000</td> <td> -3.4e+05</td> <td>-1.16e+05</td>\n",
              "</tr>\n",
              "<tr>\n",
              "  <th>India</th>                  <td>-1.229e+06</td> <td> 7.16e+05</td> <td>   -1.718</td> <td> 0.087</td> <td>-2.64e+06</td> <td> 1.77e+05</td>\n",
              "</tr>\n",
              "<tr>\n",
              "  <th>Indonesia</th>              <td>-3.405e+05</td> <td>  1.6e+05</td> <td>   -2.128</td> <td> 0.034</td> <td>-6.55e+05</td> <td> -2.6e+04</td>\n",
              "</tr>\n",
              "<tr>\n",
              "  <th>Iran</th>                   <td> 1.458e+06</td> <td> 3.32e+05</td> <td>    4.397</td> <td> 0.000</td> <td> 8.06e+05</td> <td> 2.11e+06</td>\n",
              "</tr>\n",
              "<tr>\n",
              "  <th>Iraq</th>                   <td> 1.187e+05</td> <td> 2.76e+04</td> <td>    4.296</td> <td> 0.000</td> <td> 6.44e+04</td> <td> 1.73e+05</td>\n",
              "</tr>\n",
              "<tr>\n",
              "  <th>Ireland</th>                <td>-1.658e+05</td> <td> 4.22e+04</td> <td>   -3.926</td> <td> 0.000</td> <td>-2.49e+05</td> <td>-8.28e+04</td>\n",
              "</tr>\n",
              "<tr>\n",
              "  <th>Isle of Man</th>            <td>-2.313e+05</td> <td> 5.77e+04</td> <td>   -4.011</td> <td> 0.000</td> <td>-3.45e+05</td> <td>-1.18e+05</td>\n",
              "</tr>\n",
              "<tr>\n",
              "  <th>Israel</th>                 <td>-4.402e+04</td> <td> 5.14e+04</td> <td>   -0.856</td> <td> 0.392</td> <td>-1.45e+05</td> <td>  5.7e+04</td>\n",
              "</tr>\n",
              "<tr>\n",
              "  <th>Italy</th>                  <td> 1.371e+06</td> <td> 3.02e+05</td> <td>    4.547</td> <td> 0.000</td> <td> 7.79e+05</td> <td> 1.96e+06</td>\n",
              "</tr>\n",
              "<tr>\n",
              "  <th>Ivory Coast</th>            <td>-8.918e+04</td> <td> 1.87e+04</td> <td>   -4.768</td> <td> 0.000</td> <td>-1.26e+05</td> <td>-5.24e+04</td>\n",
              "</tr>\n",
              "<tr>\n",
              "  <th>Jamaica</th>                <td>-5.621e+05</td> <td> 1.07e+05</td> <td>   -5.234</td> <td> 0.000</td> <td>-7.73e+05</td> <td>-3.51e+05</td>\n",
              "</tr>\n",
              "<tr>\n",
              "  <th>Japan</th>                  <td>-3.708e+05</td> <td> 8.22e+04</td> <td>   -4.510</td> <td> 0.000</td> <td>-5.32e+05</td> <td>-2.09e+05</td>\n",
              "</tr>\n",
              "<tr>\n",
              "  <th>Jordan</th>                 <td>  -9.6e+04</td> <td> 6.41e+04</td> <td>   -1.497</td> <td> 0.135</td> <td>-2.22e+05</td> <td>    3e+04</td>\n",
              "</tr>\n",
              "<tr>\n",
              "  <th>Kazakhstan</th>             <td>-1102.1552</td> <td> 4.35e+04</td> <td>   -0.025</td> <td> 0.980</td> <td>-8.67e+04</td> <td> 8.45e+04</td>\n",
              "</tr>\n",
              "<tr>\n",
              "  <th>Kenya</th>                  <td>-1.537e+05</td> <td> 2.93e+04</td> <td>   -5.254</td> <td> 0.000</td> <td>-2.11e+05</td> <td>-9.62e+04</td>\n",
              "</tr>\n",
              "<tr>\n",
              "  <th>Kuwait</th>                 <td>-8.664e+04</td> <td> 3.76e+04</td> <td>   -2.307</td> <td> 0.022</td> <td> -1.6e+05</td> <td>-1.28e+04</td>\n",
              "</tr>\n",
              "<tr>\n",
              "  <th>Kyrgyzstan</th>             <td>-3.334e+04</td> <td> 3.81e+04</td> <td>   -0.875</td> <td> 0.382</td> <td>-1.08e+05</td> <td> 4.15e+04</td>\n",
              "</tr>\n",
              "<tr>\n",
              "  <th>Laos</th>                   <td>-5.782e+04</td> <td>  4.4e+04</td> <td>   -1.314</td> <td> 0.189</td> <td>-1.44e+05</td> <td> 2.86e+04</td>\n",
              "</tr>\n",
              "<tr>\n",
              "  <th>Latvia</th>                 <td>-2.307e+05</td> <td> 5.61e+04</td> <td>   -4.116</td> <td> 0.000</td> <td>-3.41e+05</td> <td>-1.21e+05</td>\n",
              "</tr>\n",
              "<tr>\n",
              "  <th>Lebanon</th>                <td>-8.653e+04</td> <td> 4.68e+04</td> <td>   -1.849</td> <td> 0.065</td> <td>-1.78e+05</td> <td> 5429.849</td>\n",
              "</tr>\n",
              "<tr>\n",
              "  <th>Lesotho</th>                <td>-6986.5698</td> <td> 1.73e+04</td> <td>   -0.403</td> <td> 0.687</td> <td>-4.11e+04</td> <td> 2.71e+04</td>\n",
              "</tr>\n",
              "<tr>\n",
              "  <th>Liberia</th>                <td>-1.324e+04</td> <td> 1.62e+04</td> <td>   -0.819</td> <td> 0.413</td> <td> -4.5e+04</td> <td> 1.85e+04</td>\n",
              "</tr>\n",
              "<tr>\n",
              "  <th>Libya</th>                  <td>-2.538e+04</td> <td> 1.84e+04</td> <td>   -1.376</td> <td> 0.169</td> <td>-6.16e+04</td> <td> 1.09e+04</td>\n",
              "</tr>\n",
              "<tr>\n",
              "  <th>Liechtenstein</th>          <td> -2.33e+05</td> <td> 5.78e+04</td> <td>   -4.029</td> <td> 0.000</td> <td>-3.47e+05</td> <td>-1.19e+05</td>\n",
              "</tr>\n",
              "<tr>\n",
              "  <th>Lithuania</th>              <td>-2.571e+05</td> <td> 5.55e+04</td> <td>   -4.633</td> <td> 0.000</td> <td>-3.66e+05</td> <td>-1.48e+05</td>\n",
              "</tr>\n",
              "<tr>\n",
              "  <th>Luxembourg</th>             <td>-2.186e+05</td> <td> 5.53e+04</td> <td>   -3.956</td> <td> 0.000</td> <td>-3.27e+05</td> <td> -1.1e+05</td>\n",
              "</tr>\n",
              "<tr>\n",
              "  <th>MS Zaandam</th>             <td>-6.384e+05</td> <td> 1.33e+05</td> <td>   -4.791</td> <td> 0.000</td> <td>   -9e+05</td> <td>-3.77e+05</td>\n",
              "</tr>\n",
              "<tr>\n",
              "  <th>Macao</th>                  <td>-3.855e+04</td> <td> 4.38e+04</td> <td>   -0.881</td> <td> 0.379</td> <td>-1.25e+05</td> <td> 4.75e+04</td>\n",
              "</tr>\n",
              "<tr>\n",
              "  <th>Madagascar</th>             <td>-8.645e+04</td> <td>  1.8e+04</td> <td>   -4.792</td> <td> 0.000</td> <td>-1.22e+05</td> <td> -5.1e+04</td>\n",
              "</tr>\n",
              "<tr>\n",
              "  <th>Malawi</th>                 <td>-5.491e+04</td> <td> 1.48e+04</td> <td>   -3.721</td> <td> 0.000</td> <td>-8.39e+04</td> <td>-2.59e+04</td>\n",
              "</tr>\n",
              "<tr>\n",
              "  <th>Malaysia</th>               <td>-1.224e+05</td> <td> 4.83e+04</td> <td>   -2.535</td> <td> 0.012</td> <td>-2.17e+05</td> <td>-2.75e+04</td>\n",
              "</tr>\n",
              "<tr>\n",
              "  <th>Maldives</th>               <td>-4.241e+04</td> <td> 4.23e+04</td> <td>   -1.003</td> <td> 0.316</td> <td>-1.26e+05</td> <td> 4.07e+04</td>\n",
              "</tr>\n",
              "<tr>\n",
              "  <th>Mali</th>                   <td>-5.907e+04</td> <td> 1.54e+04</td> <td>   -3.838</td> <td> 0.000</td> <td>-8.93e+04</td> <td>-2.88e+04</td>\n",
              "</tr>\n",
              "<tr>\n",
              "  <th>Malta</th>                  <td>-2.272e+05</td> <td> 5.66e+04</td> <td>   -4.013</td> <td> 0.000</td> <td>-3.38e+05</td> <td>-1.16e+05</td>\n",
              "</tr>\n",
              "<tr>\n",
              "  <th>Marshall Islands</th>       <td>-1.718e+05</td> <td>  3.5e+04</td> <td>   -4.912</td> <td> 0.000</td> <td>-2.41e+05</td> <td>-1.03e+05</td>\n",
              "</tr>\n",
              "<tr>\n",
              "  <th>Martinique</th>             <td>-5.614e+05</td> <td> 1.08e+05</td> <td>   -5.210</td> <td> 0.000</td> <td>-7.73e+05</td> <td> -3.5e+05</td>\n",
              "</tr>\n",
              "<tr>\n",
              "  <th>Mauritania</th>             <td>-1.114e+04</td> <td> 1.61e+04</td> <td>   -0.690</td> <td> 0.491</td> <td>-4.29e+04</td> <td> 2.06e+04</td>\n",
              "</tr>\n",
              "<tr>\n",
              "  <th>Mauritius</th>              <td> 1293.7075</td> <td> 1.92e+04</td> <td>    0.067</td> <td> 0.946</td> <td>-3.65e+04</td> <td> 3.91e+04</td>\n",
              "</tr>\n",
              "<tr>\n",
              "  <th>Mayotte</th>                <td>-3707.1810</td> <td>  1.8e+04</td> <td>   -0.205</td> <td> 0.837</td> <td>-3.92e+04</td> <td> 3.18e+04</td>\n",
              "</tr>\n",
              "<tr>\n",
              "  <th>Mexico</th>                 <td> 3.578e+06</td> <td> 8.46e+05</td> <td>    4.229</td> <td> 0.000</td> <td> 1.92e+06</td> <td> 5.24e+06</td>\n",
              "</tr>\n",
              "<tr>\n",
              "  <th>Moldova</th>                <td>-2.069e+05</td> <td> 5.47e+04</td> <td>   -3.784</td> <td> 0.000</td> <td>-3.14e+05</td> <td>-9.94e+04</td>\n",
              "</tr>\n",
              "<tr>\n",
              "  <th>Monaco</th>                 <td>-2.318e+05</td> <td> 5.77e+04</td> <td>   -4.018</td> <td> 0.000</td> <td>-3.45e+05</td> <td>-1.18e+05</td>\n",
              "</tr>\n",
              "<tr>\n",
              "  <th>Mongolia</th>               <td>-4.512e+04</td> <td> 4.37e+04</td> <td>   -1.031</td> <td> 0.303</td> <td>-1.31e+05</td> <td> 4.08e+04</td>\n",
              "</tr>\n",
              "<tr>\n",
              "  <th>Montenegro</th>             <td>-2.346e+05</td> <td>  5.8e+04</td> <td>   -4.044</td> <td> 0.000</td> <td>-3.49e+05</td> <td>-1.21e+05</td>\n",
              "</tr>\n",
              "<tr>\n",
              "  <th>Montserrat</th>             <td>-5.581e+05</td> <td> 1.07e+05</td> <td>   -5.198</td> <td> 0.000</td> <td>-7.69e+05</td> <td>-3.47e+05</td>\n",
              "</tr>\n",
              "<tr>\n",
              "  <th>Morocco</th>                <td>-1.183e+04</td> <td> 1.99e+04</td> <td>   -0.595</td> <td> 0.552</td> <td>-5.09e+04</td> <td> 2.72e+04</td>\n",
              "</tr>\n",
              "<tr>\n",
              "  <th>Mozambique</th>             <td>-1.011e+05</td> <td> 2.04e+04</td> <td>   -4.955</td> <td> 0.000</td> <td>-1.41e+05</td> <td> -6.1e+04</td>\n",
              "</tr>\n",
              "<tr>\n",
              "  <th>Myanmar</th>                <td>-1.773e+05</td> <td> 5.12e+04</td> <td>   -3.467</td> <td> 0.001</td> <td>-2.78e+05</td> <td>-7.68e+04</td>\n",
              "</tr>\n",
              "<tr>\n",
              "  <th>Namibia</th>                <td>-9370.9280</td> <td> 1.76e+04</td> <td>   -0.532</td> <td> 0.595</td> <td> -4.4e+04</td> <td> 2.53e+04</td>\n",
              "</tr>\n",
              "<tr>\n",
              "  <th>Nepal</th>                  <td>-2.086e+05</td> <td>  4.6e+04</td> <td>   -4.534</td> <td> 0.000</td> <td>-2.99e+05</td> <td>-1.18e+05</td>\n",
              "</tr>\n",
              "<tr>\n",
              "  <th>New Caledonia</th>          <td>-1.722e+05</td> <td> 3.49e+04</td> <td>   -4.930</td> <td> 0.000</td> <td>-2.41e+05</td> <td>-1.04e+05</td>\n",
              "</tr>\n",
              "<tr>\n",
              "  <th>New Zealand</th>            <td>-1.614e+05</td> <td>  3.5e+04</td> <td>   -4.614</td> <td> 0.000</td> <td> -2.3e+05</td> <td>-9.26e+04</td>\n",
              "</tr>\n",
              "<tr>\n",
              "  <th>Nicaragua</th>              <td>-5.756e+05</td> <td> 1.09e+05</td> <td>   -5.275</td> <td> 0.000</td> <td> -7.9e+05</td> <td>-3.61e+05</td>\n",
              "</tr>\n",
              "<tr>\n",
              "  <th>Niger</th>                  <td>-7.427e+04</td> <td> 1.71e+04</td> <td>   -4.345</td> <td> 0.000</td> <td>-1.08e+05</td> <td>-4.07e+04</td>\n",
              "</tr>\n",
              "<tr>\n",
              "  <th>Nigeria</th>                <td> -6.23e+05</td> <td> 1.42e+05</td> <td>   -4.391</td> <td> 0.000</td> <td>-9.02e+05</td> <td>-3.44e+05</td>\n",
              "</tr>\n",
              "<tr>\n",
              "  <th>North America</th>          <td> 8.812e+06</td> <td> 1.81e+06</td> <td>    4.880</td> <td> 0.000</td> <td> 5.26e+06</td> <td> 1.24e+07</td>\n",
              "</tr>\n",
              "<tr>\n",
              "  <th>North Macedonia</th>        <td>-2.198e+05</td> <td> 5.21e+04</td> <td>   -4.219</td> <td> 0.000</td> <td>-3.22e+05</td> <td>-1.17e+05</td>\n",
              "</tr>\n",
              "<tr>\n",
              "  <th>Norway</th>                 <td>-2.158e+05</td> <td> 5.33e+04</td> <td>   -4.047</td> <td> 0.000</td> <td>-3.21e+05</td> <td>-1.11e+05</td>\n",
              "</tr>\n",
              "<tr>\n",
              "  <th>Oceania</th>                <td> -1.53e+05</td> <td> 3.29e+04</td> <td>   -4.653</td> <td> 0.000</td> <td>-2.18e+05</td> <td>-8.84e+04</td>\n",
              "</tr>\n",
              "<tr>\n",
              "  <th>Oman</th>                   <td>-5.975e+04</td> <td> 3.38e+04</td> <td>   -1.766</td> <td> 0.078</td> <td>-1.26e+05</td> <td> 6755.503</td>\n",
              "</tr>\n",
              "<tr>\n",
              "  <th>Pakistan</th>               <td>-5.251e+05</td> <td> 1.25e+05</td> <td>   -4.211</td> <td> 0.000</td> <td> -7.7e+05</td> <td> -2.8e+05</td>\n",
              "</tr>\n",
              "<tr>\n",
              "  <th>Palestine</th>              <td>-5.914e+04</td> <td> 3.96e+04</td> <td>   -1.494</td> <td> 0.136</td> <td>-1.37e+05</td> <td> 1.86e+04</td>\n",
              "</tr>\n",
              "<tr>\n",
              "  <th>Panama</th>                 <td> -5.15e+05</td> <td> 1.02e+05</td> <td>   -5.065</td> <td> 0.000</td> <td>-7.15e+05</td> <td>-3.15e+05</td>\n",
              "</tr>\n",
              "<tr>\n",
              "  <th>Papua New Guinea</th>       <td>-1.994e+05</td> <td> 3.82e+04</td> <td>   -5.215</td> <td> 0.000</td> <td>-2.75e+05</td> <td>-1.24e+05</td>\n",
              "</tr>\n",
              "<tr>\n",
              "  <th>Paraguay</th>               <td>  -1.2e+06</td> <td> 2.51e+05</td> <td>   -4.784</td> <td> 0.000</td> <td>-1.69e+06</td> <td>-7.07e+05</td>\n",
              "</tr>\n",
              "<tr>\n",
              "  <th>Peru</th>                   <td>-1.558e+04</td> <td> 5.79e+04</td> <td>   -0.269</td> <td> 0.788</td> <td>-1.29e+05</td> <td> 9.82e+04</td>\n",
              "</tr>\n",
              "<tr>\n",
              "  <th>Philippines</th>            <td>-1.707e+05</td> <td> 3.97e+04</td> <td>   -4.303</td> <td> 0.000</td> <td>-2.49e+05</td> <td>-9.27e+04</td>\n",
              "</tr>\n",
              "<tr>\n",
              "  <th>Poland</th>                 <td>-3.232e+05</td> <td> 6.55e+04</td> <td>   -4.935</td> <td> 0.000</td> <td>-4.52e+05</td> <td>-1.94e+05</td>\n",
              "</tr>\n",
              "<tr>\n",
              "  <th>Portugal</th>               <td>-1.865e+05</td> <td> 4.95e+04</td> <td>   -3.770</td> <td> 0.000</td> <td>-2.84e+05</td> <td>-8.93e+04</td>\n",
              "</tr>\n",
              "<tr>\n",
              "  <th>Qatar</th>                  <td>-1.119e+05</td> <td>  4.1e+04</td> <td>   -2.728</td> <td> 0.007</td> <td>-1.93e+05</td> <td>-3.13e+04</td>\n",
              "</tr>\n",
              "<tr>\n",
              "  <th>Romania</th>                <td>-3.236e+04</td> <td> 3.23e+04</td> <td>   -1.002</td> <td> 0.317</td> <td>-9.58e+04</td> <td> 3.11e+04</td>\n",
              "</tr>\n",
              "<tr>\n",
              "  <th>Russia</th>                 <td> 1.052e+06</td> <td> 3.18e+05</td> <td>    3.303</td> <td> 0.001</td> <td> 4.26e+05</td> <td> 1.68e+06</td>\n",
              "</tr>\n",
              "<tr>\n",
              "  <th>Rwanda</th>                 <td>-3.104e+04</td> <td> 1.65e+04</td> <td>   -1.885</td> <td> 0.060</td> <td>-6.34e+04</td> <td> 1322.153</td>\n",
              "</tr>\n",
              "<tr>\n",
              "  <th>Réunion</th>                <td>-7046.1457</td> <td>  1.8e+04</td> <td>   -0.392</td> <td> 0.696</td> <td>-4.24e+04</td> <td> 2.83e+04</td>\n",
              "</tr>\n",
              "<tr>\n",
              "  <th>S. Korea</th>               <td>-1.299e+05</td> <td> 5.15e+04</td> <td>   -2.522</td> <td> 0.012</td> <td>-2.31e+05</td> <td>-2.87e+04</td>\n",
              "</tr>\n",
              "<tr>\n",
              "  <th>Saint Kitts and Nevis</th>  <td>-5.583e+05</td> <td> 1.07e+05</td> <td>   -5.199</td> <td> 0.000</td> <td>-7.69e+05</td> <td>-3.47e+05</td>\n",
              "</tr>\n",
              "<tr>\n",
              "  <th>Saint Lucia</th>            <td>-5.586e+05</td> <td> 1.07e+05</td> <td>   -5.203</td> <td> 0.000</td> <td> -7.7e+05</td> <td>-3.48e+05</td>\n",
              "</tr>\n",
              "<tr>\n",
              "  <th>Saint Martin</th>           <td>-5.582e+05</td> <td> 1.07e+05</td> <td>   -5.203</td> <td> 0.000</td> <td>-7.69e+05</td> <td>-3.47e+05</td>\n",
              "</tr>\n",
              "<tr>\n",
              "  <th>Saint Pierre Miquelon</th>  <td>-5.582e+05</td> <td> 1.07e+05</td> <td>   -5.198</td> <td> 0.000</td> <td>-7.69e+05</td> <td>-3.47e+05</td>\n",
              "</tr>\n",
              "<tr>\n",
              "  <th>San Marino</th>             <td>-2.312e+05</td> <td> 5.75e+04</td> <td>   -4.022</td> <td> 0.000</td> <td>-3.44e+05</td> <td>-1.18e+05</td>\n",
              "</tr>\n",
              "<tr>\n",
              "  <th>Sao Tome and Principe</th>  <td>-1684.1092</td> <td> 1.81e+04</td> <td>   -0.093</td> <td> 0.926</td> <td>-3.73e+04</td> <td>  3.4e+04</td>\n",
              "</tr>\n",
              "<tr>\n",
              "  <th>Saudi Arabia</th>           <td> 9.705e+04</td> <td> 4.87e+04</td> <td>    1.992</td> <td> 0.047</td> <td> 1283.953</td> <td> 1.93e+05</td>\n",
              "</tr>\n",
              "<tr>\n",
              "  <th>Senegal</th>                <td> -4.37e+04</td> <td> 1.42e+04</td> <td>   -3.086</td> <td> 0.002</td> <td>-7.15e+04</td> <td>-1.59e+04</td>\n",
              "</tr>\n",
              "<tr>\n",
              "  <th>Serbia</th>                 <td>-2.688e+05</td> <td> 5.66e+04</td> <td>   -4.748</td> <td> 0.000</td> <td> -3.8e+05</td> <td>-1.58e+05</td>\n",
              "</tr>\n",
              "<tr>\n",
              "  <th>Seychelles</th>             <td>-1466.1803</td> <td> 1.86e+04</td> <td>   -0.079</td> <td> 0.937</td> <td>-3.81e+04</td> <td> 3.51e+04</td>\n",
              "</tr>\n",
              "<tr>\n",
              "  <th>Sierra Leone</th>           <td>-2.444e+04</td> <td> 1.54e+04</td> <td>   -1.589</td> <td> 0.113</td> <td>-5.47e+04</td> <td> 5792.177</td>\n",
              "</tr>\n",
              "<tr>\n",
              "  <th>Singapore</th>              <td>-5502.1938</td> <td> 5.43e+04</td> <td>   -0.101</td> <td> 0.919</td> <td>-1.12e+05</td> <td> 1.01e+05</td>\n",
              "</tr>\n",
              "<tr>\n",
              "  <th>Sint Maarten</th>           <td>-5.578e+05</td> <td> 1.07e+05</td> <td>   -5.204</td> <td> 0.000</td> <td>-7.68e+05</td> <td>-3.47e+05</td>\n",
              "</tr>\n",
              "<tr>\n",
              "  <th>Slovakia</th>               <td>-2.957e+05</td> <td> 6.32e+04</td> <td>   -4.676</td> <td> 0.000</td> <td> -4.2e+05</td> <td>-1.71e+05</td>\n",
              "</tr>\n",
              "<tr>\n",
              "  <th>Slovenia</th>               <td>-2.484e+05</td> <td> 5.83e+04</td> <td>   -4.259</td> <td> 0.000</td> <td>-3.63e+05</td> <td>-1.34e+05</td>\n",
              "</tr>\n",
              "<tr>\n",
              "  <th>Solomon Islands</th>        <td>-1.738e+05</td> <td> 3.51e+04</td> <td>   -4.945</td> <td> 0.000</td> <td>-2.43e+05</td> <td>-1.05e+05</td>\n",
              "</tr>\n",
              "<tr>\n",
              "  <th>Somalia</th>                <td>-4.934e+04</td> <td> 1.48e+04</td> <td>   -3.323</td> <td> 0.001</td> <td>-7.85e+04</td> <td>-2.02e+04</td>\n",
              "</tr>\n",
              "<tr>\n",
              "  <th>South Africa</th>           <td> 4.446e+05</td> <td> 9.62e+04</td> <td>    4.620</td> <td> 0.000</td> <td> 2.55e+05</td> <td> 6.34e+05</td>\n",
              "</tr>\n",
              "<tr>\n",
              "  <th>South America</th>          <td> 7.747e+06</td> <td> 1.63e+06</td> <td>    4.743</td> <td> 0.000</td> <td> 4.54e+06</td> <td>  1.1e+07</td>\n",
              "</tr>\n",
              "<tr>\n",
              "  <th>South Sudan</th>            <td>-3.587e+04</td> <td> 1.52e+04</td> <td>   -2.364</td> <td> 0.019</td> <td>-6.57e+04</td> <td>-6043.567</td>\n",
              "</tr>\n",
              "<tr>\n",
              "  <th>Sri Lanka</th>              <td>-1.008e+05</td> <td> 4.52e+04</td> <td>   -2.230</td> <td> 0.026</td> <td> -1.9e+05</td> <td> -1.2e+04</td>\n",
              "</tr>\n",
              "<tr>\n",
              "  <th>St. Barth</th>              <td>-5.583e+05</td> <td> 1.07e+05</td> <td>   -5.201</td> <td> 0.000</td> <td>-7.69e+05</td> <td>-3.47e+05</td>\n",
              "</tr>\n",
              "<tr>\n",
              "  <th>St. Vincent Grenadines</th> <td>-5.585e+05</td> <td> 1.07e+05</td> <td>   -5.201</td> <td> 0.000</td> <td> -7.7e+05</td> <td>-3.47e+05</td>\n",
              "</tr>\n",
              "<tr>\n",
              "  <th>Sudan</th>                  <td> -9.15e+04</td> <td> 2.35e+04</td> <td>   -3.902</td> <td> 0.000</td> <td>-1.38e+05</td> <td>-4.54e+04</td>\n",
              "</tr>\n",
              "<tr>\n",
              "  <th>Suriname</th>               <td>-1.212e+06</td> <td> 2.55e+05</td> <td>   -4.760</td> <td> 0.000</td> <td>-1.71e+06</td> <td>-7.11e+05</td>\n",
              "</tr>\n",
              "<tr>\n",
              "  <th>Switzerland</th>            <td>-2.648e+05</td> <td> 6.15e+04</td> <td>   -4.303</td> <td> 0.000</td> <td>-3.86e+05</td> <td>-1.44e+05</td>\n",
              "</tr>\n",
              "<tr>\n",
              "  <th>Syria</th>                  <td>-8.013e+04</td> <td> 4.41e+04</td> <td>   -1.816</td> <td> 0.070</td> <td>-1.67e+05</td> <td> 6581.285</td>\n",
              "</tr>\n",
              "<tr>\n",
              "  <th>Taiwan</th>                 <td> -1.09e+05</td> <td> 4.59e+04</td> <td>   -2.376</td> <td> 0.018</td> <td>-1.99e+05</td> <td>-1.88e+04</td>\n",
              "</tr>\n",
              "<tr>\n",
              "  <th>Tajikistan</th>             <td>-7.139e+04</td> <td> 4.19e+04</td> <td>   -1.705</td> <td> 0.089</td> <td>-1.54e+05</td> <td> 1.09e+04</td>\n",
              "</tr>\n",
              "<tr>\n",
              "  <th>Tanzania</th>               <td>-1.893e+05</td> <td>  3.9e+04</td> <td>   -4.859</td> <td> 0.000</td> <td>-2.66e+05</td> <td>-1.13e+05</td>\n",
              "</tr>\n",
              "<tr>\n",
              "  <th>Thailand</th>               <td> -2.33e+05</td> <td>  6.3e+04</td> <td>   -3.696</td> <td> 0.000</td> <td>-3.57e+05</td> <td>-1.09e+05</td>\n",
              "</tr>\n",
              "<tr>\n",
              "  <th>Timor-Leste</th>            <td>-4.045e+04</td> <td> 4.38e+04</td> <td>   -0.923</td> <td> 0.356</td> <td>-1.27e+05</td> <td> 4.56e+04</td>\n",
              "</tr>\n",
              "<tr>\n",
              "  <th>Togo</th>                   <td>-2.345e+04</td> <td> 1.58e+04</td> <td>   -1.481</td> <td> 0.139</td> <td>-5.46e+04</td> <td> 7662.840</td>\n",
              "</tr>\n",
              "<tr>\n",
              "  <th>Trinidad and Tobago</th>    <td>-5.608e+05</td> <td> 1.08e+05</td> <td>   -5.215</td> <td> 0.000</td> <td>-7.72e+05</td> <td>-3.49e+05</td>\n",
              "</tr>\n",
              "<tr>\n",
              "  <th>Tunisia</th>                <td> 1.311e+04</td> <td>  1.3e+04</td> <td>    1.012</td> <td> 0.312</td> <td>-1.23e+04</td> <td> 3.86e+04</td>\n",
              "</tr>\n",
              "<tr>\n",
              "  <th>Turkey</th>                 <td> 3.655e+05</td> <td> 9.34e+04</td> <td>    3.913</td> <td> 0.000</td> <td> 1.82e+05</td> <td> 5.49e+05</td>\n",
              "</tr>\n",
              "<tr>\n",
              "  <th>Turks and Caicos</th>       <td>-5.586e+05</td> <td> 1.07e+05</td> <td>   -5.203</td> <td> 0.000</td> <td> -7.7e+05</td> <td>-3.48e+05</td>\n",
              "</tr>\n",
              "<tr>\n",
              "  <th>UAE</th>                    <td> 1.561e+05</td> <td> 1.12e+05</td> <td>    1.394</td> <td> 0.164</td> <td> -6.4e+04</td> <td> 3.76e+05</td>\n",
              "</tr>\n",
              "<tr>\n",
              "  <th>USA</th>                    <td> 6.393e+06</td> <td> 1.24e+06</td> <td>    5.155</td> <td> 0.000</td> <td> 3.96e+06</td> <td> 8.83e+06</td>\n",
              "</tr>\n",
              "<tr>\n",
              "  <th>Uganda</th>                 <td>-1.395e+05</td> <td> 2.76e+04</td> <td>   -5.056</td> <td> 0.000</td> <td>-1.94e+05</td> <td>-8.53e+04</td>\n",
              "</tr>\n",
              "<tr>\n",
              "  <th>Ukraine</th>                <td>-2.589e+05</td> <td> 4.86e+04</td> <td>   -5.332</td> <td> 0.000</td> <td>-3.54e+05</td> <td>-1.63e+05</td>\n",
              "</tr>\n",
              "<tr>\n",
              "  <th>Uruguay</th>                <td>-1.215e+06</td> <td> 2.56e+05</td> <td>   -4.753</td> <td> 0.000</td> <td>-1.72e+06</td> <td>-7.13e+05</td>\n",
              "</tr>\n",
              "<tr>\n",
              "  <th>Uzbekistan</th>             <td>-1.301e+05</td> <td> 4.21e+04</td> <td>   -3.093</td> <td> 0.002</td> <td>-2.13e+05</td> <td>-4.75e+04</td>\n",
              "</tr>\n",
              "<tr>\n",
              "  <th>Vanuatu</th>                <td>-1.726e+05</td> <td> 3.51e+04</td> <td>   -4.921</td> <td> 0.000</td> <td>-2.41e+05</td> <td>-1.04e+05</td>\n",
              "</tr>\n",
              "<tr>\n",
              "  <th>Vatican City</th>           <td>-2.324e+05</td> <td> 5.81e+04</td> <td>   -4.003</td> <td> 0.000</td> <td>-3.47e+05</td> <td>-1.18e+05</td>\n",
              "</tr>\n",
              "<tr>\n",
              "  <th>Venezuela</th>              <td>-1.278e+06</td> <td> 2.63e+05</td> <td>   -4.851</td> <td> 0.000</td> <td> -1.8e+06</td> <td> -7.6e+05</td>\n",
              "</tr>\n",
              "<tr>\n",
              "  <th>Vietnam</th>                <td>-3.132e+05</td> <td> 7.84e+04</td> <td>   -3.994</td> <td> 0.000</td> <td>-4.67e+05</td> <td>-1.59e+05</td>\n",
              "</tr>\n",
              "<tr>\n",
              "  <th>Wallis and Futuna</th>      <td>-1.716e+05</td> <td>  3.5e+04</td> <td>   -4.906</td> <td> 0.000</td> <td> -2.4e+05</td> <td>-1.03e+05</td>\n",
              "</tr>\n",
              "<tr>\n",
              "  <th>Western Sahara</th>         <td>-2868.1316</td> <td> 1.89e+04</td> <td>   -0.152</td> <td> 0.879</td> <td>   -4e+04</td> <td> 3.43e+04</td>\n",
              "</tr>\n",
              "<tr>\n",
              "  <th>World</th>                  <td> 1.239e+07</td> <td> 2.62e+06</td> <td>    4.739</td> <td> 0.000</td> <td> 7.25e+06</td> <td> 1.75e+07</td>\n",
              "</tr>\n",
              "<tr>\n",
              "  <th>Yemen</th>                  <td>-9.921e+04</td> <td> 4.68e+04</td> <td>   -2.118</td> <td> 0.035</td> <td>-1.91e+05</td> <td>-7165.916</td>\n",
              "</tr>\n",
              "<tr>\n",
              "  <th>Zambia</th>                 <td>-4.657e+04</td> <td> 1.44e+04</td> <td>   -3.239</td> <td> 0.001</td> <td>-7.48e+04</td> <td>-1.83e+04</td>\n",
              "</tr>\n",
              "<tr>\n",
              "  <th>Zimbabwe</th>               <td>-3.723e+04</td> <td> 1.41e+04</td> <td>   -2.648</td> <td> 0.008</td> <td>-6.49e+04</td> <td>-9594.827</td>\n",
              "</tr>\n",
              "<tr>\n",
              "  <th></th>                       <td>-1.277e+06</td> <td> 2.66e+05</td> <td>   -4.797</td> <td> 0.000</td> <td> -1.8e+06</td> <td>-7.54e+05</td>\n",
              "</tr>\n",
              "<tr>\n",
              "  <th>Africa</th>                 <td>-1.915e+06</td> <td> 3.92e+05</td> <td>   -4.890</td> <td> 0.000</td> <td>-2.68e+06</td> <td>-1.15e+06</td>\n",
              "</tr>\n",
              "<tr>\n",
              "  <th>All</th>                    <td> 1.239e+07</td> <td> 2.62e+06</td> <td>    4.739</td> <td> 0.000</td> <td> 7.25e+06</td> <td> 1.75e+07</td>\n",
              "</tr>\n",
              "<tr>\n",
              "  <th>Asia</th>                   <td>-1.879e+06</td> <td> 3.78e+05</td> <td>   -4.967</td> <td> 0.000</td> <td>-2.62e+06</td> <td>-1.14e+06</td>\n",
              "</tr>\n",
              "<tr>\n",
              "  <th>Australia/Oceania</th>      <td>-1.744e+06</td> <td> 3.66e+05</td> <td>   -4.770</td> <td> 0.000</td> <td>-2.46e+06</td> <td>-1.03e+06</td>\n",
              "</tr>\n",
              "<tr>\n",
              "  <th>Europe</th>                 <td>-1.683e+06</td> <td> 3.67e+05</td> <td>   -4.589</td> <td> 0.000</td> <td> -2.4e+06</td> <td>-9.62e+05</td>\n",
              "</tr>\n",
              "<tr>\n",
              "  <th>North America</th>          <td>-1.357e+06</td> <td> 3.04e+05</td> <td>   -4.466</td> <td> 0.000</td> <td>-1.95e+06</td> <td> -7.6e+05</td>\n",
              "</tr>\n",
              "<tr>\n",
              "  <th>South America</th>          <td>-7.034e+05</td> <td> 1.53e+05</td> <td>   -4.606</td> <td> 0.000</td> <td>   -1e+06</td> <td>-4.03e+05</td>\n",
              "</tr>\n",
              "</table>\n",
              "<table class=\"simpletable\">\n",
              "<tr>\n",
              "  <th>Omnibus:</th>       <td>267.545</td> <th>  Durbin-Watson:     </th> <td>   1.420</td> \n",
              "</tr>\n",
              "<tr>\n",
              "  <th>Prob(Omnibus):</th> <td> 0.000</td>  <th>  Jarque-Bera (JB):  </th> <td>71600.295</td>\n",
              "</tr>\n",
              "<tr>\n",
              "  <th>Skew:</th>          <td>-0.452</td>  <th>  Prob(JB):          </th> <td>    0.00</td> \n",
              "</tr>\n",
              "<tr>\n",
              "  <th>Kurtosis:</th>      <td>53.788</td>  <th>  Cond. No.          </th> <td>4.96e+22</td> \n",
              "</tr>\n",
              "</table><br/><br/>Warnings:<br/>[1] Standard Errors assume that the covariance matrix of the errors is correctly specified.<br/>[2] The smallest eigenvalue is 5.6e-27. This might indicate that there are<br/>strong multicollinearity problems or that the design matrix is singular."
            ],
            "text/plain": [
              "<class 'statsmodels.iolib.summary.Summary'>\n",
              "\"\"\"\n",
              "                            OLS Regression Results                            \n",
              "==============================================================================\n",
              "Dep. Variable:               NewCases   R-squared:                       0.930\n",
              "Model:                            OLS   Adj. R-squared:                  0.893\n",
              "Method:                 Least Squares   F-statistic:                     25.24\n",
              "Date:                Sat, 14 Nov 2020   Prob (F-statistic):          1.09e-164\n",
              "Time:                        16:01:18   Log-Likelihood:                -7133.6\n",
              "No. Observations:                 666   AIC:                         1.473e+04\n",
              "Df Residuals:                     436   BIC:                         1.576e+04\n",
              "Df Model:                         229                                         \n",
              "Covariance Type:            nonrobust                                         \n",
              "==========================================================================================\n",
              "                             coef    std err          t      P>|t|      [0.025      0.975]\n",
              "------------------------------------------------------------------------------------------\n",
              "const                   1.835e+06   4.03e+05      4.554      0.000    1.04e+06    2.63e+06\n",
              "TotalCases                 0.7482      0.261      2.870      0.004       0.236       1.260\n",
              "TotalDeaths              -54.3007     12.125     -4.478      0.000     -78.132     -30.469\n",
              "NewDeaths                 28.5793      2.685     10.644      0.000      23.302      33.856\n",
              "TotalRecovered            -5.7953     75.089     -0.077      0.939    -153.377     141.786\n",
              "NewRecovered               0.4884      0.054      9.123      0.000       0.383       0.594\n",
              "ActiveCases                0.3485      0.273      1.279      0.202      -0.187       0.884\n",
              "Serious,Critical          -7.7355      1.850     -4.180      0.000     -11.372      -4.099\n",
              "TotalTests                -0.0226      0.007     -3.279      0.001      -0.036      -0.009\n",
              "Population                 0.0031      0.001      4.140      0.000       0.002       0.005\n",
              "Afghanistan             -1.04e+05    4.6e+04     -2.261      0.024   -1.94e+05   -1.36e+04\n",
              "Africa                  1.002e+06    2.3e+05      4.346      0.000    5.49e+05    1.45e+06\n",
              "Albania                -2.304e+05    5.6e+04     -4.113      0.000   -3.41e+05    -1.2e+05\n",
              "Algeria                -8.056e+04   2.19e+04     -3.681      0.000   -1.24e+05   -3.75e+04\n",
              "Andorra                  -2.3e+05   5.73e+04     -4.016      0.000   -3.43e+05   -1.17e+05\n",
              "Angola                 -9.644e+04   2.02e+04     -4.779      0.000   -1.36e+05   -5.68e+04\n",
              "Anguilla               -5.582e+05   1.07e+05     -5.197      0.000   -7.69e+05   -3.47e+05\n",
              "Antigua and Barbuda    -5.584e+05   1.07e+05     -5.202      0.000   -7.69e+05   -3.47e+05\n",
              "Argentina              -3.718e+05   7.21e+04     -5.153      0.000   -5.14e+05    -2.3e+05\n",
              "Armenia                -5.678e+04   4.08e+04     -1.390      0.165   -1.37e+05    2.35e+04\n",
              "Aruba                  -5.591e+05   1.08e+05     -5.198      0.000    -7.7e+05   -3.48e+05\n",
              "Asia                    2.896e+06   1.59e+06      1.816      0.070   -2.38e+05    6.03e+06\n",
              "Australia              -1.361e+04   5.28e+04     -0.258      0.797   -1.17e+05    9.02e+04\n",
              "Austria                -2.807e+05   6.75e+04     -4.161      0.000   -4.13e+05   -1.48e+05\n",
              "Azerbaijan             -6.169e+04   4.36e+04     -1.415      0.158   -1.47e+05     2.4e+04\n",
              "Bahamas                -5.566e+05   1.07e+05     -5.207      0.000   -7.67e+05   -3.46e+05\n",
              "Bahrain                -4.565e+04   4.31e+04     -1.060      0.290    -1.3e+05     3.9e+04\n",
              "Bangladesh             -5.239e+05   1.05e+05     -4.971      0.000   -7.31e+05   -3.17e+05\n",
              "Barbados               -5.581e+05   1.07e+05     -5.202      0.000   -7.69e+05   -3.47e+05\n",
              "Belarus                -2.572e+05   6.25e+04     -4.115      0.000    -3.8e+05   -1.34e+05\n",
              "Belgium                 4.449e+04   6.35e+04      0.700      0.484   -8.04e+04    1.69e+05\n",
              "Belize                 -5.591e+05   1.07e+05     -5.209      0.000    -7.7e+05   -3.48e+05\n",
              "Benin                  -3.346e+04   1.57e+04     -2.134      0.033   -6.43e+04   -2647.871\n",
              "Bermuda                 -5.56e+05   1.07e+05     -5.195      0.000   -7.66e+05   -3.46e+05\n",
              "Bhutan                 -3.514e+04   4.42e+04     -0.796      0.427   -1.22e+05    5.16e+04\n",
              "Bolivia                -8.754e+05   1.92e+05     -4.550      0.000   -1.25e+06   -4.97e+05\n",
              "Bosnia and Herzegovina -2.253e+05   5.02e+04     -4.484      0.000   -3.24e+05   -1.27e+05\n",
              "Botswana               -7098.4416   1.89e+04     -0.376      0.707   -4.43e+04    3.01e+04\n",
              "Brazil                   3.13e+06   6.79e+05      4.606      0.000    1.79e+06    4.47e+06\n",
              "British Virgin Islands -5.582e+05   1.07e+05     -5.200      0.000   -7.69e+05   -3.47e+05\n",
              "Brunei                 -3.629e+04   4.39e+04     -0.827      0.409   -1.23e+05       5e+04\n",
              "Bulgaria               -2.304e+05   4.92e+04     -4.684      0.000   -3.27e+05   -1.34e+05\n",
              "Burkina Faso           -6.572e+04    1.6e+04     -4.099      0.000   -9.72e+04   -3.42e+04\n",
              "Burundi                  -3.8e+04   1.56e+04     -2.429      0.016   -6.88e+04   -7247.909\n",
              "CAR                    -1.719e+04   1.65e+04     -1.040      0.299   -4.97e+04    1.53e+04\n",
              "Cabo Verde             -2801.0664   1.81e+04     -0.154      0.877   -3.85e+04    3.29e+04\n",
              "Cambodia               -8.481e+04   4.48e+04     -1.892      0.059   -1.73e+05    3306.033\n",
              "Cameroon               -7.539e+04   1.64e+04     -4.599      0.000   -1.08e+05   -4.32e+04\n",
              "Canada                 -9.468e+04      4e+04     -2.366      0.018   -1.73e+05    -1.6e+04\n",
              "Caribbean Netherlands  -5.582e+05   1.07e+05     -5.201      0.000   -7.69e+05   -3.47e+05\n",
              "Cayman Islands         -5.576e+05   1.07e+05     -5.199      0.000   -7.68e+05   -3.47e+05\n",
              "Chad                   -4.903e+04   1.49e+04     -3.297      0.001   -7.83e+04   -1.98e+04\n",
              "Channel Islands        -2.275e+05   5.68e+04     -4.004      0.000   -3.39e+05   -1.16e+05\n",
              "Chile                  -7.675e+05   1.69e+05     -4.538      0.000    -1.1e+06   -4.35e+05\n",
              "China                  -7.303e+05   5.43e+05     -1.346      0.179    -1.8e+06    3.36e+05\n",
              "Colombia               -3.121e+05   6.45e+04     -4.841      0.000   -4.39e+05   -1.85e+05\n",
              "Comoros                -4031.6976    1.8e+04     -0.224      0.823   -3.95e+04    3.14e+04\n",
              "Congo                  -1.851e+04   1.59e+04     -1.164      0.245   -4.98e+04    1.28e+04\n",
              "Costa Rica             -6.061e+05   1.14e+05     -5.334      0.000   -8.29e+05   -3.83e+05\n",
              "Croatia                -2.556e+05   6.21e+04     -4.116      0.000   -3.78e+05   -1.34e+05\n",
              "Cuba                   -5.712e+05   1.09e+05     -5.246      0.000   -7.85e+05   -3.57e+05\n",
              "Curaçao                -5.595e+05   1.08e+05     -5.204      0.000   -7.71e+05   -3.48e+05\n",
              "Cyprus                 -3.352e+04   4.52e+04     -0.741      0.459   -1.22e+05    5.54e+04\n",
              "Czechia                -2.721e+05   7.71e+04     -3.531      0.000   -4.24e+05   -1.21e+05\n",
              "DRC                    -2.765e+05   5.95e+04     -4.648      0.000   -3.93e+05    -1.6e+05\n",
              "Denmark                -1.334e+05   4.96e+04     -2.688      0.007   -2.31e+05   -3.58e+04\n",
              "Diamond Princess       -6.386e+05   1.33e+05     -4.795      0.000      -9e+05   -3.77e+05\n",
              "Djibouti               -3538.5287   1.79e+04     -0.198      0.843   -3.87e+04    3.16e+04\n",
              "Dominica               -5.584e+05   1.07e+05     -5.201      0.000   -7.69e+05   -3.47e+05\n",
              "Dominican Republic       -5.6e+05   1.08e+05     -5.167      0.000   -7.73e+05   -3.47e+05\n",
              "Ecuador                -6.939e+05   1.63e+05     -4.258      0.000   -1.01e+06   -3.74e+05\n",
              "Egypt                  -3.596e+04   6.12e+04     -0.587      0.557   -1.56e+05    8.44e+04\n",
              "El Salvador            -5.392e+05   1.03e+05     -5.224      0.000   -7.42e+05   -3.36e+05\n",
              "Equatorial Guinea      -3578.2074   1.75e+04     -0.204      0.838    -3.8e+04    3.09e+04\n",
              "Eritrea                -1.275e+04   1.72e+04     -0.742      0.459   -4.65e+04     2.1e+04\n",
              "Estonia                -2.308e+05    5.7e+04     -4.051      0.000   -3.43e+05   -1.19e+05\n",
              "Eswatini               -2046.7709   1.74e+04     -0.117      0.907   -3.63e+04    3.22e+04\n",
              "Ethiopia               -3.315e+05   6.99e+04     -4.743      0.000   -4.69e+05   -1.94e+05\n",
              "Europe                  4.348e+06   1.26e+06      3.460      0.001    1.88e+06    6.82e+06\n",
              "Faeroe Islands         -2.294e+05   5.73e+04     -4.004      0.000   -3.42e+05   -1.17e+05\n",
              "Falkland Islands       -1.212e+06   2.55e+05     -4.751      0.000   -1.71e+06   -7.11e+05\n",
              "Fiji                   -1.741e+05   3.51e+04     -4.958      0.000   -2.43e+05   -1.05e+05\n",
              "Finland                -2.076e+05   5.28e+04     -3.934      0.000   -3.11e+05   -1.04e+05\n",
              "France                  3.616e+05   2.92e+05      1.240      0.216   -2.12e+05    9.35e+05\n",
              "French Guiana          -1.216e+06   2.55e+05     -4.761      0.000   -1.72e+06   -7.14e+05\n",
              "French Polynesia       -1.805e+05   3.64e+04     -4.960      0.000   -2.52e+05   -1.09e+05\n",
              "Gabon                  -6231.0884   1.84e+04     -0.339      0.734   -4.23e+04    2.99e+04\n",
              "Gambia                 -4668.9830   1.68e+04     -0.278      0.781   -3.77e+04    2.83e+04\n",
              "Georgia                -6.518e+04   4.26e+04     -1.530      0.127   -1.49e+05    1.85e+04\n",
              "Germany                 9.867e+04   8.84e+04      1.117      0.265    -7.5e+04    2.72e+05\n",
              "Ghana                  -1.075e+05   2.19e+04     -4.916      0.000   -1.51e+05   -6.45e+04\n",
              "Gibraltar              -2.316e+05   5.76e+04     -4.021      0.000   -3.45e+05   -1.18e+05\n",
              "Greece                 -2.501e+05   5.22e+04     -4.789      0.000   -3.53e+05   -1.47e+05\n",
              "Greenland              -5.581e+05   1.07e+05     -5.198      0.000   -7.69e+05   -3.47e+05\n",
              "Grenada                -5.585e+05   1.07e+05     -5.201      0.000    -7.7e+05   -3.47e+05\n",
              "Guadeloupe             -5.587e+05   1.07e+05     -5.211      0.000   -7.69e+05   -3.48e+05\n",
              "Guatemala              -4.814e+05   9.06e+04     -5.315      0.000   -6.59e+05   -3.03e+05\n",
              "Guinea                 -4.774e+04   1.56e+04     -3.054      0.002   -7.85e+04    -1.7e+04\n",
              "Guinea-Bissau          -6425.3205   1.73e+04     -0.371      0.711   -4.05e+04    2.76e+04\n",
              "Guyana                 -1.211e+06   2.54e+05     -4.759      0.000   -1.71e+06   -7.11e+05\n",
              "Haiti                  -5.885e+05   1.11e+05     -5.312      0.000   -8.06e+05   -3.71e+05\n",
              "Honduras               -5.272e+05   9.82e+04     -5.369      0.000    -7.2e+05   -3.34e+05\n",
              "Hong Kong               2.633e+04   5.78e+04      0.456      0.649   -8.73e+04     1.4e+05\n",
              "Hungary                -2.239e+05   4.47e+04     -5.011      0.000   -3.12e+05   -1.36e+05\n",
              "Iceland                -2.281e+05    5.7e+04     -4.003      0.000    -3.4e+05   -1.16e+05\n",
              "India                  -1.229e+06   7.16e+05     -1.718      0.087   -2.64e+06    1.77e+05\n",
              "Indonesia              -3.405e+05    1.6e+05     -2.128      0.034   -6.55e+05    -2.6e+04\n",
              "Iran                    1.458e+06   3.32e+05      4.397      0.000    8.06e+05    2.11e+06\n",
              "Iraq                    1.187e+05   2.76e+04      4.296      0.000    6.44e+04    1.73e+05\n",
              "Ireland                -1.658e+05   4.22e+04     -3.926      0.000   -2.49e+05   -8.28e+04\n",
              "Isle of Man            -2.313e+05   5.77e+04     -4.011      0.000   -3.45e+05   -1.18e+05\n",
              "Israel                 -4.402e+04   5.14e+04     -0.856      0.392   -1.45e+05     5.7e+04\n",
              "Italy                   1.371e+06   3.02e+05      4.547      0.000    7.79e+05    1.96e+06\n",
              "Ivory Coast            -8.918e+04   1.87e+04     -4.768      0.000   -1.26e+05   -5.24e+04\n",
              "Jamaica                -5.621e+05   1.07e+05     -5.234      0.000   -7.73e+05   -3.51e+05\n",
              "Japan                  -3.708e+05   8.22e+04     -4.510      0.000   -5.32e+05   -2.09e+05\n",
              "Jordan                   -9.6e+04   6.41e+04     -1.497      0.135   -2.22e+05       3e+04\n",
              "Kazakhstan             -1102.1552   4.35e+04     -0.025      0.980   -8.67e+04    8.45e+04\n",
              "Kenya                  -1.537e+05   2.93e+04     -5.254      0.000   -2.11e+05   -9.62e+04\n",
              "Kuwait                 -8.664e+04   3.76e+04     -2.307      0.022    -1.6e+05   -1.28e+04\n",
              "Kyrgyzstan             -3.334e+04   3.81e+04     -0.875      0.382   -1.08e+05    4.15e+04\n",
              "Laos                   -5.782e+04    4.4e+04     -1.314      0.189   -1.44e+05    2.86e+04\n",
              "Latvia                 -2.307e+05   5.61e+04     -4.116      0.000   -3.41e+05   -1.21e+05\n",
              "Lebanon                -8.653e+04   4.68e+04     -1.849      0.065   -1.78e+05    5429.849\n",
              "Lesotho                -6986.5698   1.73e+04     -0.403      0.687   -4.11e+04    2.71e+04\n",
              "Liberia                -1.324e+04   1.62e+04     -0.819      0.413    -4.5e+04    1.85e+04\n",
              "Libya                  -2.538e+04   1.84e+04     -1.376      0.169   -6.16e+04    1.09e+04\n",
              "Liechtenstein           -2.33e+05   5.78e+04     -4.029      0.000   -3.47e+05   -1.19e+05\n",
              "Lithuania              -2.571e+05   5.55e+04     -4.633      0.000   -3.66e+05   -1.48e+05\n",
              "Luxembourg             -2.186e+05   5.53e+04     -3.956      0.000   -3.27e+05    -1.1e+05\n",
              "MS Zaandam             -6.384e+05   1.33e+05     -4.791      0.000      -9e+05   -3.77e+05\n",
              "Macao                  -3.855e+04   4.38e+04     -0.881      0.379   -1.25e+05    4.75e+04\n",
              "Madagascar             -8.645e+04    1.8e+04     -4.792      0.000   -1.22e+05    -5.1e+04\n",
              "Malawi                 -5.491e+04   1.48e+04     -3.721      0.000   -8.39e+04   -2.59e+04\n",
              "Malaysia               -1.224e+05   4.83e+04     -2.535      0.012   -2.17e+05   -2.75e+04\n",
              "Maldives               -4.241e+04   4.23e+04     -1.003      0.316   -1.26e+05    4.07e+04\n",
              "Mali                   -5.907e+04   1.54e+04     -3.838      0.000   -8.93e+04   -2.88e+04\n",
              "Malta                  -2.272e+05   5.66e+04     -4.013      0.000   -3.38e+05   -1.16e+05\n",
              "Marshall Islands       -1.718e+05    3.5e+04     -4.912      0.000   -2.41e+05   -1.03e+05\n",
              "Martinique             -5.614e+05   1.08e+05     -5.210      0.000   -7.73e+05    -3.5e+05\n",
              "Mauritania             -1.114e+04   1.61e+04     -0.690      0.491   -4.29e+04    2.06e+04\n",
              "Mauritius               1293.7075   1.92e+04      0.067      0.946   -3.65e+04    3.91e+04\n",
              "Mayotte                -3707.1810    1.8e+04     -0.205      0.837   -3.92e+04    3.18e+04\n",
              "Mexico                  3.578e+06   8.46e+05      4.229      0.000    1.92e+06    5.24e+06\n",
              "Moldova                -2.069e+05   5.47e+04     -3.784      0.000   -3.14e+05   -9.94e+04\n",
              "Monaco                 -2.318e+05   5.77e+04     -4.018      0.000   -3.45e+05   -1.18e+05\n",
              "Mongolia               -4.512e+04   4.37e+04     -1.031      0.303   -1.31e+05    4.08e+04\n",
              "Montenegro             -2.346e+05    5.8e+04     -4.044      0.000   -3.49e+05   -1.21e+05\n",
              "Montserrat             -5.581e+05   1.07e+05     -5.198      0.000   -7.69e+05   -3.47e+05\n",
              "Morocco                -1.183e+04   1.99e+04     -0.595      0.552   -5.09e+04    2.72e+04\n",
              "Mozambique             -1.011e+05   2.04e+04     -4.955      0.000   -1.41e+05    -6.1e+04\n",
              "Myanmar                -1.773e+05   5.12e+04     -3.467      0.001   -2.78e+05   -7.68e+04\n",
              "Namibia                -9370.9280   1.76e+04     -0.532      0.595    -4.4e+04    2.53e+04\n",
              "Nepal                  -2.086e+05    4.6e+04     -4.534      0.000   -2.99e+05   -1.18e+05\n",
              "New Caledonia          -1.722e+05   3.49e+04     -4.930      0.000   -2.41e+05   -1.04e+05\n",
              "New Zealand            -1.614e+05    3.5e+04     -4.614      0.000    -2.3e+05   -9.26e+04\n",
              "Nicaragua              -5.756e+05   1.09e+05     -5.275      0.000    -7.9e+05   -3.61e+05\n",
              "Niger                  -7.427e+04   1.71e+04     -4.345      0.000   -1.08e+05   -4.07e+04\n",
              "Nigeria                 -6.23e+05   1.42e+05     -4.391      0.000   -9.02e+05   -3.44e+05\n",
              "North America           8.812e+06   1.81e+06      4.880      0.000    5.26e+06    1.24e+07\n",
              "North Macedonia        -2.198e+05   5.21e+04     -4.219      0.000   -3.22e+05   -1.17e+05\n",
              "Norway                 -2.158e+05   5.33e+04     -4.047      0.000   -3.21e+05   -1.11e+05\n",
              "Oceania                 -1.53e+05   3.29e+04     -4.653      0.000   -2.18e+05   -8.84e+04\n",
              "Oman                   -5.975e+04   3.38e+04     -1.766      0.078   -1.26e+05    6755.503\n",
              "Pakistan               -5.251e+05   1.25e+05     -4.211      0.000    -7.7e+05    -2.8e+05\n",
              "Palestine              -5.914e+04   3.96e+04     -1.494      0.136   -1.37e+05    1.86e+04\n",
              "Panama                  -5.15e+05   1.02e+05     -5.065      0.000   -7.15e+05   -3.15e+05\n",
              "Papua New Guinea       -1.994e+05   3.82e+04     -5.215      0.000   -2.75e+05   -1.24e+05\n",
              "Paraguay                 -1.2e+06   2.51e+05     -4.784      0.000   -1.69e+06   -7.07e+05\n",
              "Peru                   -1.558e+04   5.79e+04     -0.269      0.788   -1.29e+05    9.82e+04\n",
              "Philippines            -1.707e+05   3.97e+04     -4.303      0.000   -2.49e+05   -9.27e+04\n",
              "Poland                 -3.232e+05   6.55e+04     -4.935      0.000   -4.52e+05   -1.94e+05\n",
              "Portugal               -1.865e+05   4.95e+04     -3.770      0.000   -2.84e+05   -8.93e+04\n",
              "Qatar                  -1.119e+05    4.1e+04     -2.728      0.007   -1.93e+05   -3.13e+04\n",
              "Romania                -3.236e+04   3.23e+04     -1.002      0.317   -9.58e+04    3.11e+04\n",
              "Russia                  1.052e+06   3.18e+05      3.303      0.001    4.26e+05    1.68e+06\n",
              "Rwanda                 -3.104e+04   1.65e+04     -1.885      0.060   -6.34e+04    1322.153\n",
              "Réunion                -7046.1457    1.8e+04     -0.392      0.696   -4.24e+04    2.83e+04\n",
              "S. Korea               -1.299e+05   5.15e+04     -2.522      0.012   -2.31e+05   -2.87e+04\n",
              "Saint Kitts and Nevis  -5.583e+05   1.07e+05     -5.199      0.000   -7.69e+05   -3.47e+05\n",
              "Saint Lucia            -5.586e+05   1.07e+05     -5.203      0.000    -7.7e+05   -3.48e+05\n",
              "Saint Martin           -5.582e+05   1.07e+05     -5.203      0.000   -7.69e+05   -3.47e+05\n",
              "Saint Pierre Miquelon  -5.582e+05   1.07e+05     -5.198      0.000   -7.69e+05   -3.47e+05\n",
              "San Marino             -2.312e+05   5.75e+04     -4.022      0.000   -3.44e+05   -1.18e+05\n",
              "Sao Tome and Principe  -1684.1092   1.81e+04     -0.093      0.926   -3.73e+04     3.4e+04\n",
              "Saudi Arabia            9.705e+04   4.87e+04      1.992      0.047    1283.953    1.93e+05\n",
              "Senegal                 -4.37e+04   1.42e+04     -3.086      0.002   -7.15e+04   -1.59e+04\n",
              "Serbia                 -2.688e+05   5.66e+04     -4.748      0.000    -3.8e+05   -1.58e+05\n",
              "Seychelles             -1466.1803   1.86e+04     -0.079      0.937   -3.81e+04    3.51e+04\n",
              "Sierra Leone           -2.444e+04   1.54e+04     -1.589      0.113   -5.47e+04    5792.177\n",
              "Singapore              -5502.1938   5.43e+04     -0.101      0.919   -1.12e+05    1.01e+05\n",
              "Sint Maarten           -5.578e+05   1.07e+05     -5.204      0.000   -7.68e+05   -3.47e+05\n",
              "Slovakia               -2.957e+05   6.32e+04     -4.676      0.000    -4.2e+05   -1.71e+05\n",
              "Slovenia               -2.484e+05   5.83e+04     -4.259      0.000   -3.63e+05   -1.34e+05\n",
              "Solomon Islands        -1.738e+05   3.51e+04     -4.945      0.000   -2.43e+05   -1.05e+05\n",
              "Somalia                -4.934e+04   1.48e+04     -3.323      0.001   -7.85e+04   -2.02e+04\n",
              "South Africa            4.446e+05   9.62e+04      4.620      0.000    2.55e+05    6.34e+05\n",
              "South America           7.747e+06   1.63e+06      4.743      0.000    4.54e+06     1.1e+07\n",
              "South Sudan            -3.587e+04   1.52e+04     -2.364      0.019   -6.57e+04   -6043.567\n",
              "Sri Lanka              -1.008e+05   4.52e+04     -2.230      0.026    -1.9e+05    -1.2e+04\n",
              "St. Barth              -5.583e+05   1.07e+05     -5.201      0.000   -7.69e+05   -3.47e+05\n",
              "St. Vincent Grenadines -5.585e+05   1.07e+05     -5.201      0.000    -7.7e+05   -3.47e+05\n",
              "Sudan                   -9.15e+04   2.35e+04     -3.902      0.000   -1.38e+05   -4.54e+04\n",
              "Suriname               -1.212e+06   2.55e+05     -4.760      0.000   -1.71e+06   -7.11e+05\n",
              "Switzerland            -2.648e+05   6.15e+04     -4.303      0.000   -3.86e+05   -1.44e+05\n",
              "Syria                  -8.013e+04   4.41e+04     -1.816      0.070   -1.67e+05    6581.285\n",
              "Taiwan                  -1.09e+05   4.59e+04     -2.376      0.018   -1.99e+05   -1.88e+04\n",
              "Tajikistan             -7.139e+04   4.19e+04     -1.705      0.089   -1.54e+05    1.09e+04\n",
              "Tanzania               -1.893e+05    3.9e+04     -4.859      0.000   -2.66e+05   -1.13e+05\n",
              "Thailand                -2.33e+05    6.3e+04     -3.696      0.000   -3.57e+05   -1.09e+05\n",
              "Timor-Leste            -4.045e+04   4.38e+04     -0.923      0.356   -1.27e+05    4.56e+04\n",
              "Togo                   -2.345e+04   1.58e+04     -1.481      0.139   -5.46e+04    7662.840\n",
              "Trinidad and Tobago    -5.608e+05   1.08e+05     -5.215      0.000   -7.72e+05   -3.49e+05\n",
              "Tunisia                 1.311e+04    1.3e+04      1.012      0.312   -1.23e+04    3.86e+04\n",
              "Turkey                  3.655e+05   9.34e+04      3.913      0.000    1.82e+05    5.49e+05\n",
              "Turks and Caicos       -5.586e+05   1.07e+05     -5.203      0.000    -7.7e+05   -3.48e+05\n",
              "UAE                     1.561e+05   1.12e+05      1.394      0.164    -6.4e+04    3.76e+05\n",
              "USA                     6.393e+06   1.24e+06      5.155      0.000    3.96e+06    8.83e+06\n",
              "Uganda                 -1.395e+05   2.76e+04     -5.056      0.000   -1.94e+05   -8.53e+04\n",
              "Ukraine                -2.589e+05   4.86e+04     -5.332      0.000   -3.54e+05   -1.63e+05\n",
              "Uruguay                -1.215e+06   2.56e+05     -4.753      0.000   -1.72e+06   -7.13e+05\n",
              "Uzbekistan             -1.301e+05   4.21e+04     -3.093      0.002   -2.13e+05   -4.75e+04\n",
              "Vanuatu                -1.726e+05   3.51e+04     -4.921      0.000   -2.41e+05   -1.04e+05\n",
              "Vatican City           -2.324e+05   5.81e+04     -4.003      0.000   -3.47e+05   -1.18e+05\n",
              "Venezuela              -1.278e+06   2.63e+05     -4.851      0.000    -1.8e+06    -7.6e+05\n",
              "Vietnam                -3.132e+05   7.84e+04     -3.994      0.000   -4.67e+05   -1.59e+05\n",
              "Wallis and Futuna      -1.716e+05    3.5e+04     -4.906      0.000    -2.4e+05   -1.03e+05\n",
              "Western Sahara         -2868.1316   1.89e+04     -0.152      0.879      -4e+04    3.43e+04\n",
              "World                   1.239e+07   2.62e+06      4.739      0.000    7.25e+06    1.75e+07\n",
              "Yemen                  -9.921e+04   4.68e+04     -2.118      0.035   -1.91e+05   -7165.916\n",
              "Zambia                 -4.657e+04   1.44e+04     -3.239      0.001   -7.48e+04   -1.83e+04\n",
              "Zimbabwe               -3.723e+04   1.41e+04     -2.648      0.008   -6.49e+04   -9594.827\n",
              "                       -1.277e+06   2.66e+05     -4.797      0.000    -1.8e+06   -7.54e+05\n",
              "Africa                 -1.915e+06   3.92e+05     -4.890      0.000   -2.68e+06   -1.15e+06\n",
              "All                     1.239e+07   2.62e+06      4.739      0.000    7.25e+06    1.75e+07\n",
              "Asia                   -1.879e+06   3.78e+05     -4.967      0.000   -2.62e+06   -1.14e+06\n",
              "Australia/Oceania      -1.744e+06   3.66e+05     -4.770      0.000   -2.46e+06   -1.03e+06\n",
              "Europe                 -1.683e+06   3.67e+05     -4.589      0.000    -2.4e+06   -9.62e+05\n",
              "North America          -1.357e+06   3.04e+05     -4.466      0.000   -1.95e+06    -7.6e+05\n",
              "South America          -7.034e+05   1.53e+05     -4.606      0.000      -1e+06   -4.03e+05\n",
              "==============================================================================\n",
              "Omnibus:                      267.545   Durbin-Watson:                   1.420\n",
              "Prob(Omnibus):                  0.000   Jarque-Bera (JB):            71600.295\n",
              "Skew:                          -0.452   Prob(JB):                         0.00\n",
              "Kurtosis:                      53.788   Cond. No.                     4.96e+22\n",
              "==============================================================================\n",
              "\n",
              "Warnings:\n",
              "[1] Standard Errors assume that the covariance matrix of the errors is correctly specified.\n",
              "[2] The smallest eigenvalue is 5.6e-27. This might indicate that there are\n",
              "strong multicollinearity problems or that the design matrix is singular.\n",
              "\"\"\""
            ]
          },
          "metadata": {
            "tags": []
          },
          "execution_count": 69
        }
      ]
    },
    {
      "cell_type": "code",
      "metadata": {
        "id": "2-CBNnXL9ZM2"
      },
      "source": [
        ""
      ],
      "execution_count": null,
      "outputs": []
    },
    {
      "cell_type": "markdown",
      "metadata": {
        "id": "MK7CpHd5ncwo"
      },
      "source": [
        "### KNeighborRegressor"
      ]
    },
    {
      "cell_type": "markdown",
      "metadata": {
        "id": "pAlKK-44rYhA"
      },
      "source": [
        "###SVR"
      ]
    },
    {
      "cell_type": "code",
      "metadata": {
        "id": "33f6ZKZpray_"
      },
      "source": [
        "from sklearn.svm import SVR"
      ],
      "execution_count": null,
      "outputs": []
    },
    {
      "cell_type": "code",
      "metadata": {
        "id": "NR8tj5s9ra1h",
        "colab": {
          "base_uri": "https://localhost:8080/"
        },
        "outputId": "4e9106fd-9c8f-42a9-b698-fb4e82344a98"
      },
      "source": [
        "svr = SVR()\n",
        "svr.fit(X,Y)"
      ],
      "execution_count": null,
      "outputs": [
        {
          "output_type": "execute_result",
          "data": {
            "text/plain": [
              "SVR(C=1.0, cache_size=200, coef0=0.0, degree=3, epsilon=0.1, gamma='scale',\n",
              "    kernel='rbf', max_iter=-1, shrinking=True, tol=0.001, verbose=False)"
            ]
          },
          "metadata": {
            "tags": []
          },
          "execution_count": 96
        }
      ]
    },
    {
      "cell_type": "code",
      "metadata": {
        "id": "BvlIge-dra42",
        "colab": {
          "base_uri": "https://localhost:8080/",
          "height": 282
        },
        "outputId": "799fddae-f5e7-4c93-91e7-56095fd6026e"
      },
      "source": [
        "plt.scatter(Y, svr.predict(X))"
      ],
      "execution_count": null,
      "outputs": [
        {
          "output_type": "execute_result",
          "data": {
            "text/plain": [
              "<matplotlib.collections.PathCollection at 0x7f4ff40b39e8>"
            ]
          },
          "metadata": {
            "tags": []
          },
          "execution_count": 97
        },
        {
          "output_type": "display_data",
          "data": {
            "image/png": "[encoded data removed]",
            "text/plain": [
              "<Figure size 432x288 with 1 Axes>"
            ]
          },
          "metadata": {
            "tags": [],
            "needs_background": "light"
          }
        }
      ]
    },
    {
      "cell_type": "code",
      "metadata": {
        "id": "PHQekm86rqim",
        "colab": {
          "base_uri": "https://localhost:8080/"
        },
        "outputId": "fa96f19f-cbb7-4321-ef36-f88fafec74d3"
      },
      "source": [
        "svr.score(X, Y)"
      ],
      "execution_count": null,
      "outputs": [
        {
          "output_type": "execute_result",
          "data": {
            "text/plain": [
              "-5.130547636067462e-06"
            ]
          },
          "metadata": {
            "tags": []
          },
          "execution_count": 98
        }
      ]
    },
    {
      "cell_type": "code",
      "metadata": {
        "id": "TTtg3-u5rqll",
        "colab": {
          "base_uri": "https://localhost:8080/"
        },
        "outputId": "0463e067-ceae-4026-ca5e-13ca32e9acb9"
      },
      "source": [
        "cross_val_score(svr, X, Y, cv=5)"
      ],
      "execution_count": null,
      "outputs": [
        {
          "output_type": "execute_result",
          "data": {
            "text/plain": [
              "array([-0.03341106, -0.00924612, -0.21949421, -0.00146698, -0.00756712])"
            ]
          },
          "metadata": {
            "tags": []
          },
          "execution_count": 99
        }
      ]
    },
    {
      "cell_type": "code",
      "metadata": {
        "id": "0GnLQoM5rqoO"
      },
      "source": [
        ""
      ],
      "execution_count": null,
      "outputs": []
    },
    {
      "cell_type": "code",
      "metadata": {
        "id": "r4Abfnc1rqrW"
      },
      "source": [
        ""
      ],
      "execution_count": null,
      "outputs": []
    },
    {
      "cell_type": "code",
      "metadata": {
        "id": "yACAjzhbrqtl"
      },
      "source": [
        ""
      ],
      "execution_count": null,
      "outputs": []
    },
    {
      "cell_type": "code",
      "metadata": {
        "id": "OssEQreMrqwX"
      },
      "source": [
        ""
      ],
      "execution_count": null,
      "outputs": []
    },
    {
      "cell_type": "code",
      "metadata": {
        "id": "hkRDcblhngTw",
        "colab": {
          "base_uri": "https://localhost:8080/"
        },
        "outputId": "38bb92bd-1ca7-46cf-c7f0-ca16a3817913"
      },
      "source": [
        "knnr = KNeighborsRegressor(n_neighbors=10)\n",
        "knnr.fit(X,Y)"
      ],
      "execution_count": null,
      "outputs": [
        {
          "output_type": "execute_result",
          "data": {
            "text/plain": [
              "KNeighborsRegressor(algorithm='auto', leaf_size=30, metric='minkowski',\n",
              "                    metric_params=None, n_jobs=None, n_neighbors=10, p=2,\n",
              "                    weights='uniform')"
            ]
          },
          "metadata": {
            "tags": []
          },
          "execution_count": 85
        }
      ]
    },
    {
      "cell_type": "code",
      "metadata": {
        "id": "rwVsuxOsngfL",
        "colab": {
          "base_uri": "https://localhost:8080/",
          "height": 409
        },
        "outputId": "f9012e83-0de1-459b-8aaf-4bd0ed9599ef"
      },
      "source": [
        "#We can use this model to predict \n",
        "T = np.arange(0, 50)[:, np.newaxis]\n",
        "\n",
        "# Generating predictions for each of the loudness values.\n",
        "Y_ = knnr.predict(T)\n",
        "\n",
        "# Plotting the training data and the prediction line for the newly-generated loudness values.\n",
        "plt.scatter(X, Y, c='k', label='data')\n",
        "plt.plot(T, Y_, c='g', label='prediction')\n",
        "plt.legend()\n",
        "plt.title('K=10, Unweighted')\n",
        "plt.show()"
      ],
      "execution_count": null,
      "outputs": [
        {
          "output_type": "error",
          "ename": "ValueError",
          "evalue": "ignored",
          "traceback": [
            "\u001b[0;31m---------------------------------------------------------------------------\u001b[0m",
            "\u001b[0;31mValueError\u001b[0m                                Traceback (most recent call last)",
            "\u001b[0;32m<ipython-input-88-b1132d15db9c>\u001b[0m in \u001b[0;36m<module>\u001b[0;34m()\u001b[0m\n\u001b[1;32m      3\u001b[0m \u001b[0;34m\u001b[0m\u001b[0m\n\u001b[1;32m      4\u001b[0m \u001b[0;31m# Generating predictions for each of the loudness values.\u001b[0m\u001b[0;34m\u001b[0m\u001b[0;34m\u001b[0m\u001b[0;34m\u001b[0m\u001b[0m\n\u001b[0;32m----> 5\u001b[0;31m \u001b[0mY_\u001b[0m \u001b[0;34m=\u001b[0m \u001b[0mknnr\u001b[0m\u001b[0;34m.\u001b[0m\u001b[0mpredict\u001b[0m\u001b[0;34m(\u001b[0m\u001b[0mT\u001b[0m\u001b[0;34m)\u001b[0m\u001b[0;34m\u001b[0m\u001b[0;34m\u001b[0m\u001b[0m\n\u001b[0m\u001b[1;32m      6\u001b[0m \u001b[0;34m\u001b[0m\u001b[0m\n\u001b[1;32m      7\u001b[0m \u001b[0;31m# Plotting the training data and the prediction line for the newly-generated loudness values.\u001b[0m\u001b[0;34m\u001b[0m\u001b[0;34m\u001b[0m\u001b[0;34m\u001b[0m\u001b[0m\n",
            "\u001b[0;32m/usr/local/lib/python3.6/dist-packages/sklearn/neighbors/_regression.py\u001b[0m in \u001b[0;36mpredict\u001b[0;34m(self, X)\u001b[0m\n\u001b[1;32m    172\u001b[0m         \u001b[0mX\u001b[0m \u001b[0;34m=\u001b[0m \u001b[0mcheck_array\u001b[0m\u001b[0;34m(\u001b[0m\u001b[0mX\u001b[0m\u001b[0;34m,\u001b[0m \u001b[0maccept_sparse\u001b[0m\u001b[0;34m=\u001b[0m\u001b[0;34m'csr'\u001b[0m\u001b[0;34m)\u001b[0m\u001b[0;34m\u001b[0m\u001b[0;34m\u001b[0m\u001b[0m\n\u001b[1;32m    173\u001b[0m \u001b[0;34m\u001b[0m\u001b[0m\n\u001b[0;32m--> 174\u001b[0;31m         \u001b[0mneigh_dist\u001b[0m\u001b[0;34m,\u001b[0m \u001b[0mneigh_ind\u001b[0m \u001b[0;34m=\u001b[0m \u001b[0mself\u001b[0m\u001b[0;34m.\u001b[0m\u001b[0mkneighbors\u001b[0m\u001b[0;34m(\u001b[0m\u001b[0mX\u001b[0m\u001b[0;34m)\u001b[0m\u001b[0;34m\u001b[0m\u001b[0;34m\u001b[0m\u001b[0m\n\u001b[0m\u001b[1;32m    175\u001b[0m \u001b[0;34m\u001b[0m\u001b[0m\n\u001b[1;32m    176\u001b[0m         \u001b[0mweights\u001b[0m \u001b[0;34m=\u001b[0m \u001b[0m_get_weights\u001b[0m\u001b[0;34m(\u001b[0m\u001b[0mneigh_dist\u001b[0m\u001b[0;34m,\u001b[0m \u001b[0mself\u001b[0m\u001b[0;34m.\u001b[0m\u001b[0mweights\u001b[0m\u001b[0;34m)\u001b[0m\u001b[0;34m\u001b[0m\u001b[0;34m\u001b[0m\u001b[0m\n",
            "\u001b[0;32m/usr/local/lib/python3.6/dist-packages/sklearn/neighbors/_base.py\u001b[0m in \u001b[0;36mkneighbors\u001b[0;34m(self, X, n_neighbors, return_distance)\u001b[0m\n\u001b[1;32m    662\u001b[0m                 delayed_query(\n\u001b[1;32m    663\u001b[0m                     self._tree, X[s], n_neighbors, return_distance)\n\u001b[0;32m--> 664\u001b[0;31m                 \u001b[0;32mfor\u001b[0m \u001b[0ms\u001b[0m \u001b[0;32min\u001b[0m \u001b[0mgen_even_slices\u001b[0m\u001b[0;34m(\u001b[0m\u001b[0mX\u001b[0m\u001b[0;34m.\u001b[0m\u001b[0mshape\u001b[0m\u001b[0;34m[\u001b[0m\u001b[0;36m0\u001b[0m\u001b[0;34m]\u001b[0m\u001b[0;34m,\u001b[0m \u001b[0mn_jobs\u001b[0m\u001b[0;34m)\u001b[0m\u001b[0;34m\u001b[0m\u001b[0;34m\u001b[0m\u001b[0m\n\u001b[0m\u001b[1;32m    665\u001b[0m             )\n\u001b[1;32m    666\u001b[0m         \u001b[0;32melse\u001b[0m\u001b[0;34m:\u001b[0m\u001b[0;34m\u001b[0m\u001b[0;34m\u001b[0m\u001b[0m\n",
            "\u001b[0;32m/usr/local/lib/python3.6/dist-packages/joblib/parallel.py\u001b[0m in \u001b[0;36m__call__\u001b[0;34m(self, iterable)\u001b[0m\n\u001b[1;32m   1046\u001b[0m             \u001b[0;31m# remaining jobs.\u001b[0m\u001b[0;34m\u001b[0m\u001b[0;34m\u001b[0m\u001b[0;34m\u001b[0m\u001b[0m\n\u001b[1;32m   1047\u001b[0m             \u001b[0mself\u001b[0m\u001b[0;34m.\u001b[0m\u001b[0m_iterating\u001b[0m \u001b[0;34m=\u001b[0m \u001b[0;32mFalse\u001b[0m\u001b[0;34m\u001b[0m\u001b[0;34m\u001b[0m\u001b[0m\n\u001b[0;32m-> 1048\u001b[0;31m             \u001b[0;32mif\u001b[0m \u001b[0mself\u001b[0m\u001b[0;34m.\u001b[0m\u001b[0mdispatch_one_batch\u001b[0m\u001b[0;34m(\u001b[0m\u001b[0miterator\u001b[0m\u001b[0;34m)\u001b[0m\u001b[0;34m:\u001b[0m\u001b[0;34m\u001b[0m\u001b[0;34m\u001b[0m\u001b[0m\n\u001b[0m\u001b[1;32m   1049\u001b[0m                 \u001b[0mself\u001b[0m\u001b[0;34m.\u001b[0m\u001b[0m_iterating\u001b[0m \u001b[0;34m=\u001b[0m \u001b[0mself\u001b[0m\u001b[0;34m.\u001b[0m\u001b[0m_original_iterator\u001b[0m \u001b[0;32mis\u001b[0m \u001b[0;32mnot\u001b[0m \u001b[0;32mNone\u001b[0m\u001b[0;34m\u001b[0m\u001b[0;34m\u001b[0m\u001b[0m\n\u001b[1;32m   1050\u001b[0m \u001b[0;34m\u001b[0m\u001b[0m\n",
            "\u001b[0;32m/usr/local/lib/python3.6/dist-packages/joblib/parallel.py\u001b[0m in \u001b[0;36mdispatch_one_batch\u001b[0;34m(self, iterator)\u001b[0m\n\u001b[1;32m    864\u001b[0m                 \u001b[0;32mreturn\u001b[0m \u001b[0;32mFalse\u001b[0m\u001b[0;34m\u001b[0m\u001b[0;34m\u001b[0m\u001b[0m\n\u001b[1;32m    865\u001b[0m             \u001b[0;32melse\u001b[0m\u001b[0;34m:\u001b[0m\u001b[0;34m\u001b[0m\u001b[0;34m\u001b[0m\u001b[0m\n\u001b[0;32m--> 866\u001b[0;31m                 \u001b[0mself\u001b[0m\u001b[0;34m.\u001b[0m\u001b[0m_dispatch\u001b[0m\u001b[0;34m(\u001b[0m\u001b[0mtasks\u001b[0m\u001b[0;34m)\u001b[0m\u001b[0;34m\u001b[0m\u001b[0;34m\u001b[0m\u001b[0m\n\u001b[0m\u001b[1;32m    867\u001b[0m                 \u001b[0;32mreturn\u001b[0m \u001b[0;32mTrue\u001b[0m\u001b[0;34m\u001b[0m\u001b[0;34m\u001b[0m\u001b[0m\n\u001b[1;32m    868\u001b[0m \u001b[0;34m\u001b[0m\u001b[0m\n",
            "\u001b[0;32m/usr/local/lib/python3.6/dist-packages/joblib/parallel.py\u001b[0m in \u001b[0;36m_dispatch\u001b[0;34m(self, batch)\u001b[0m\n\u001b[1;32m    782\u001b[0m         \u001b[0;32mwith\u001b[0m \u001b[0mself\u001b[0m\u001b[0;34m.\u001b[0m\u001b[0m_lock\u001b[0m\u001b[0;34m:\u001b[0m\u001b[0;34m\u001b[0m\u001b[0;34m\u001b[0m\u001b[0m\n\u001b[1;32m    783\u001b[0m             \u001b[0mjob_idx\u001b[0m \u001b[0;34m=\u001b[0m \u001b[0mlen\u001b[0m\u001b[0;34m(\u001b[0m\u001b[0mself\u001b[0m\u001b[0;34m.\u001b[0m\u001b[0m_jobs\u001b[0m\u001b[0;34m)\u001b[0m\u001b[0;34m\u001b[0m\u001b[0;34m\u001b[0m\u001b[0m\n\u001b[0;32m--> 784\u001b[0;31m             \u001b[0mjob\u001b[0m \u001b[0;34m=\u001b[0m \u001b[0mself\u001b[0m\u001b[0;34m.\u001b[0m\u001b[0m_backend\u001b[0m\u001b[0;34m.\u001b[0m\u001b[0mapply_async\u001b[0m\u001b[0;34m(\u001b[0m\u001b[0mbatch\u001b[0m\u001b[0;34m,\u001b[0m \u001b[0mcallback\u001b[0m\u001b[0;34m=\u001b[0m\u001b[0mcb\u001b[0m\u001b[0;34m)\u001b[0m\u001b[0;34m\u001b[0m\u001b[0;34m\u001b[0m\u001b[0m\n\u001b[0m\u001b[1;32m    785\u001b[0m             \u001b[0;31m# A job can complete so quickly than its callback is\u001b[0m\u001b[0;34m\u001b[0m\u001b[0;34m\u001b[0m\u001b[0;34m\u001b[0m\u001b[0m\n\u001b[1;32m    786\u001b[0m             \u001b[0;31m# called before we get here, causing self._jobs to\u001b[0m\u001b[0;34m\u001b[0m\u001b[0;34m\u001b[0m\u001b[0;34m\u001b[0m\u001b[0m\n",
            "\u001b[0;32m/usr/local/lib/python3.6/dist-packages/joblib/_parallel_backends.py\u001b[0m in \u001b[0;36mapply_async\u001b[0;34m(self, func, callback)\u001b[0m\n\u001b[1;32m    206\u001b[0m     \u001b[0;32mdef\u001b[0m \u001b[0mapply_async\u001b[0m\u001b[0;34m(\u001b[0m\u001b[0mself\u001b[0m\u001b[0;34m,\u001b[0m \u001b[0mfunc\u001b[0m\u001b[0;34m,\u001b[0m \u001b[0mcallback\u001b[0m\u001b[0;34m=\u001b[0m\u001b[0;32mNone\u001b[0m\u001b[0;34m)\u001b[0m\u001b[0;34m:\u001b[0m\u001b[0;34m\u001b[0m\u001b[0;34m\u001b[0m\u001b[0m\n\u001b[1;32m    207\u001b[0m         \u001b[0;34m\"\"\"Schedule a func to be run\"\"\"\u001b[0m\u001b[0;34m\u001b[0m\u001b[0;34m\u001b[0m\u001b[0m\n\u001b[0;32m--> 208\u001b[0;31m         \u001b[0mresult\u001b[0m \u001b[0;34m=\u001b[0m \u001b[0mImmediateResult\u001b[0m\u001b[0;34m(\u001b[0m\u001b[0mfunc\u001b[0m\u001b[0;34m)\u001b[0m\u001b[0;34m\u001b[0m\u001b[0;34m\u001b[0m\u001b[0m\n\u001b[0m\u001b[1;32m    209\u001b[0m         \u001b[0;32mif\u001b[0m \u001b[0mcallback\u001b[0m\u001b[0;34m:\u001b[0m\u001b[0;34m\u001b[0m\u001b[0;34m\u001b[0m\u001b[0m\n\u001b[1;32m    210\u001b[0m             \u001b[0mcallback\u001b[0m\u001b[0;34m(\u001b[0m\u001b[0mresult\u001b[0m\u001b[0;34m)\u001b[0m\u001b[0;34m\u001b[0m\u001b[0;34m\u001b[0m\u001b[0m\n",
            "\u001b[0;32m/usr/local/lib/python3.6/dist-packages/joblib/_parallel_backends.py\u001b[0m in \u001b[0;36m__init__\u001b[0;34m(self, batch)\u001b[0m\n\u001b[1;32m    570\u001b[0m         \u001b[0;31m# Don't delay the application, to avoid keeping the input\u001b[0m\u001b[0;34m\u001b[0m\u001b[0;34m\u001b[0m\u001b[0;34m\u001b[0m\u001b[0m\n\u001b[1;32m    571\u001b[0m         \u001b[0;31m# arguments in memory\u001b[0m\u001b[0;34m\u001b[0m\u001b[0;34m\u001b[0m\u001b[0;34m\u001b[0m\u001b[0m\n\u001b[0;32m--> 572\u001b[0;31m         \u001b[0mself\u001b[0m\u001b[0;34m.\u001b[0m\u001b[0mresults\u001b[0m \u001b[0;34m=\u001b[0m \u001b[0mbatch\u001b[0m\u001b[0;34m(\u001b[0m\u001b[0;34m)\u001b[0m\u001b[0;34m\u001b[0m\u001b[0;34m\u001b[0m\u001b[0m\n\u001b[0m\u001b[1;32m    573\u001b[0m \u001b[0;34m\u001b[0m\u001b[0m\n\u001b[1;32m    574\u001b[0m     \u001b[0;32mdef\u001b[0m \u001b[0mget\u001b[0m\u001b[0;34m(\u001b[0m\u001b[0mself\u001b[0m\u001b[0;34m)\u001b[0m\u001b[0;34m:\u001b[0m\u001b[0;34m\u001b[0m\u001b[0;34m\u001b[0m\u001b[0m\n",
            "\u001b[0;32m/usr/local/lib/python3.6/dist-packages/joblib/parallel.py\u001b[0m in \u001b[0;36m__call__\u001b[0;34m(self)\u001b[0m\n\u001b[1;32m    261\u001b[0m         \u001b[0;32mwith\u001b[0m \u001b[0mparallel_backend\u001b[0m\u001b[0;34m(\u001b[0m\u001b[0mself\u001b[0m\u001b[0;34m.\u001b[0m\u001b[0m_backend\u001b[0m\u001b[0;34m,\u001b[0m \u001b[0mn_jobs\u001b[0m\u001b[0;34m=\u001b[0m\u001b[0mself\u001b[0m\u001b[0;34m.\u001b[0m\u001b[0m_n_jobs\u001b[0m\u001b[0;34m)\u001b[0m\u001b[0;34m:\u001b[0m\u001b[0;34m\u001b[0m\u001b[0;34m\u001b[0m\u001b[0m\n\u001b[1;32m    262\u001b[0m             return [func(*args, **kwargs)\n\u001b[0;32m--> 263\u001b[0;31m                     for func, args, kwargs in self.items]\n\u001b[0m\u001b[1;32m    264\u001b[0m \u001b[0;34m\u001b[0m\u001b[0m\n\u001b[1;32m    265\u001b[0m     \u001b[0;32mdef\u001b[0m \u001b[0m__reduce__\u001b[0m\u001b[0;34m(\u001b[0m\u001b[0mself\u001b[0m\u001b[0;34m)\u001b[0m\u001b[0;34m:\u001b[0m\u001b[0;34m\u001b[0m\u001b[0;34m\u001b[0m\u001b[0m\n",
            "\u001b[0;32m/usr/local/lib/python3.6/dist-packages/joblib/parallel.py\u001b[0m in \u001b[0;36m<listcomp>\u001b[0;34m(.0)\u001b[0m\n\u001b[1;32m    261\u001b[0m         \u001b[0;32mwith\u001b[0m \u001b[0mparallel_backend\u001b[0m\u001b[0;34m(\u001b[0m\u001b[0mself\u001b[0m\u001b[0;34m.\u001b[0m\u001b[0m_backend\u001b[0m\u001b[0;34m,\u001b[0m \u001b[0mn_jobs\u001b[0m\u001b[0;34m=\u001b[0m\u001b[0mself\u001b[0m\u001b[0;34m.\u001b[0m\u001b[0m_n_jobs\u001b[0m\u001b[0;34m)\u001b[0m\u001b[0;34m:\u001b[0m\u001b[0;34m\u001b[0m\u001b[0;34m\u001b[0m\u001b[0m\n\u001b[1;32m    262\u001b[0m             return [func(*args, **kwargs)\n\u001b[0;32m--> 263\u001b[0;31m                     for func, args, kwargs in self.items]\n\u001b[0m\u001b[1;32m    264\u001b[0m \u001b[0;34m\u001b[0m\u001b[0m\n\u001b[1;32m    265\u001b[0m     \u001b[0;32mdef\u001b[0m \u001b[0m__reduce__\u001b[0m\u001b[0;34m(\u001b[0m\u001b[0mself\u001b[0m\u001b[0;34m)\u001b[0m\u001b[0;34m:\u001b[0m\u001b[0;34m\u001b[0m\u001b[0;34m\u001b[0m\u001b[0m\n",
            "\u001b[0;32m/usr/local/lib/python3.6/dist-packages/sklearn/neighbors/_base.py\u001b[0m in \u001b[0;36m_tree_query_parallel_helper\u001b[0;34m(tree, *args, **kwargs)\u001b[0m\n\u001b[1;32m    489\u001b[0m     \u001b[0munder\u001b[0m \u001b[0mPyPy\u001b[0m\u001b[0;34m.\u001b[0m\u001b[0;34m\u001b[0m\u001b[0;34m\u001b[0m\u001b[0m\n\u001b[1;32m    490\u001b[0m     \"\"\"\n\u001b[0;32m--> 491\u001b[0;31m     \u001b[0;32mreturn\u001b[0m \u001b[0mtree\u001b[0m\u001b[0;34m.\u001b[0m\u001b[0mquery\u001b[0m\u001b[0;34m(\u001b[0m\u001b[0;34m*\u001b[0m\u001b[0margs\u001b[0m\u001b[0;34m,\u001b[0m \u001b[0;34m**\u001b[0m\u001b[0mkwargs\u001b[0m\u001b[0;34m)\u001b[0m\u001b[0;34m\u001b[0m\u001b[0;34m\u001b[0m\u001b[0m\n\u001b[0m\u001b[1;32m    492\u001b[0m \u001b[0;34m\u001b[0m\u001b[0m\n\u001b[1;32m    493\u001b[0m \u001b[0;34m\u001b[0m\u001b[0m\n",
            "\u001b[0;32msklearn/neighbors/_binary_tree.pxi\u001b[0m in \u001b[0;36msklearn.neighbors._kd_tree.BinaryTree.query\u001b[0;34m()\u001b[0m\n",
            "\u001b[0;31mValueError\u001b[0m: query data dimension must match training data dimension"
          ]
        }
      ]
    },
    {
      "cell_type": "code",
      "metadata": {
        "id": "JFmnVpvpoTle"
      },
      "source": [
        "# Run the same model, this time with weights.\n",
        "knn_w = neighbors.KNeighborsRegressor(n_neighbors=10, weights='distance')\n",
        "X = pd.DataFrame(music.loudness)\n",
        "Y = music.bpm\n",
        "knn_w.fit(X, Y)\n",
        "\n",
        "# Set up our prediction line.\n",
        "T = np.arange(0, 50, 0.1)[:, np.newaxis]\n",
        "\n",
        "Y_ = knn_w.predict(T)\n",
        "\n",
        "plt.scatter(X, Y, c='k', label='data')\n",
        "plt.plot(T, Y_, c='g', label='prediction')\n",
        "plt.legend()\n",
        "plt.title('K=10, Weighted')\n",
        "plt.show()"
      ],
      "execution_count": null,
      "outputs": []
    },
    {
      "cell_type": "code",
      "metadata": {
        "id": "-SHDa3E7oTp4"
      },
      "source": [
        ""
      ],
      "execution_count": null,
      "outputs": []
    },
    {
      "cell_type": "code",
      "metadata": {
        "id": "VNSKWASWngjl"
      },
      "source": [
        ""
      ],
      "execution_count": null,
      "outputs": []
    },
    {
      "cell_type": "markdown",
      "metadata": {
        "id": "mPa625ZdGK_-"
      },
      "source": [
        "#Problem solving space"
      ]
    },
    {
      "cell_type": "code",
      "metadata": {
        "id": "NF9r3eYmJ2lY",
        "colab": {
          "base_uri": "https://localhost:8080/"
        },
        "outputId": "f8dfeb84-27fa-49b8-a688-8f581482d6ce"
      },
      "source": [
        "tdf = pd.DataFrame(df['NewCases'])"
      ],
      "execution_count": null,
      "outputs": [
        {
          "output_type": "execute_result",
          "data": {
            "text/plain": [
              "NewCases    26980.818182\n",
              "dtype: float64"
            ]
          },
          "metadata": {
            "tags": []
          },
          "execution_count": 68
        }
      ]
    },
    {
      "cell_type": "code",
      "metadata": {
        "id": "Do4cLb_kJ2q1",
        "colab": {
          "base_uri": "https://localhost:8080/",
          "height": 292
        },
        "outputId": "10de2458-74f2-4d9d-ba0d-a5a01efdf7a8"
      },
      "source": [
        "df.head()"
      ],
      "execution_count": null,
      "outputs": [
        {
          "output_type": "execute_result",
          "data": {
            "text/html": [
              "<div>\n",
              "<style scoped>\n",
              "    .dataframe tbody tr th:only-of-type {\n",
              "        vertical-align: middle;\n",
              "    }\n",
              "\n",
              "    .dataframe tbody tr th {\n",
              "        vertical-align: top;\n",
              "    }\n",
              "\n",
              "    .dataframe thead th {\n",
              "        text-align: right;\n",
              "    }\n",
              "</style>\n",
              "<table border=\"1\" class=\"dataframe\">\n",
              "  <thead>\n",
              "    <tr style=\"text-align: right;\">\n",
              "      <th></th>\n",
              "      <th>#</th>\n",
              "      <th>Country,Other</th>\n",
              "      <th>TotalCases</th>\n",
              "      <th>NewCases</th>\n",
              "      <th>TotalDeaths</th>\n",
              "      <th>NewDeaths</th>\n",
              "      <th>TotalRecovered</th>\n",
              "      <th>NewRecovered</th>\n",
              "      <th>ActiveCases</th>\n",
              "      <th>Serious,Critical</th>\n",
              "      <th>Tot Cases/1M pop</th>\n",
              "      <th>Deaths/1M pop</th>\n",
              "      <th>TotalTests</th>\n",
              "      <th>Tests/\\n1M pop\\n</th>\n",
              "      <th>Population</th>\n",
              "      <th>Continent</th>\n",
              "      <th>1 Caseevery X ppl</th>\n",
              "      <th>1 Deathevery X ppl</th>\n",
              "      <th>1 Testevery X ppl</th>\n",
              "    </tr>\n",
              "  </thead>\n",
              "  <tbody>\n",
              "    <tr>\n",
              "      <th>0</th>\n",
              "      <td></td>\n",
              "      <td>North America</td>\n",
              "      <td>13018544.0</td>\n",
              "      <td>150518.0</td>\n",
              "      <td>373127.0</td>\n",
              "      <td>1655.0000</td>\n",
              "      <td>0.0</td>\n",
              "      <td>43507.0</td>\n",
              "      <td>4382780.0</td>\n",
              "      <td>35859.0</td>\n",
              "      <td></td>\n",
              "      <td></td>\n",
              "      <td>0.0</td>\n",
              "      <td></td>\n",
              "      <td>0.0</td>\n",
              "      <td>North America</td>\n",
              "      <td>\\n</td>\n",
              "      <td></td>\n",
              "      <td></td>\n",
              "    </tr>\n",
              "    <tr>\n",
              "      <th>1</th>\n",
              "      <td></td>\n",
              "      <td>Asia</td>\n",
              "      <td>14903843.0</td>\n",
              "      <td>99095.0</td>\n",
              "      <td>263273.0</td>\n",
              "      <td>1626.0000</td>\n",
              "      <td>0.0</td>\n",
              "      <td>83661.0</td>\n",
              "      <td>1345359.0</td>\n",
              "      <td>24251.0</td>\n",
              "      <td></td>\n",
              "      <td></td>\n",
              "      <td>0.0</td>\n",
              "      <td></td>\n",
              "      <td>0.0</td>\n",
              "      <td>Asia</td>\n",
              "      <td>\\n</td>\n",
              "      <td></td>\n",
              "      <td></td>\n",
              "    </tr>\n",
              "    <tr>\n",
              "      <th>2</th>\n",
              "      <td></td>\n",
              "      <td>South America</td>\n",
              "      <td>10216433.0</td>\n",
              "      <td>6986.0</td>\n",
              "      <td>307163.0</td>\n",
              "      <td>3614.9375</td>\n",
              "      <td>0.0</td>\n",
              "      <td>1484.0</td>\n",
              "      <td>676937.0</td>\n",
              "      <td>17449.0</td>\n",
              "      <td></td>\n",
              "      <td></td>\n",
              "      <td>0.0</td>\n",
              "      <td></td>\n",
              "      <td>0.0</td>\n",
              "      <td>South America</td>\n",
              "      <td>\\n</td>\n",
              "      <td></td>\n",
              "      <td></td>\n",
              "    </tr>\n",
              "    <tr>\n",
              "      <th>3</th>\n",
              "      <td></td>\n",
              "      <td>Europe</td>\n",
              "      <td>13474618.0</td>\n",
              "      <td>270059.0</td>\n",
              "      <td>315504.0</td>\n",
              "      <td>4534.0000</td>\n",
              "      <td>0.0</td>\n",
              "      <td>94621.0</td>\n",
              "      <td>8197070.0</td>\n",
              "      <td>28982.0</td>\n",
              "      <td></td>\n",
              "      <td></td>\n",
              "      <td>0.0</td>\n",
              "      <td></td>\n",
              "      <td>0.0</td>\n",
              "      <td>Europe</td>\n",
              "      <td>\\n</td>\n",
              "      <td></td>\n",
              "      <td></td>\n",
              "    </tr>\n",
              "    <tr>\n",
              "      <th>4</th>\n",
              "      <td></td>\n",
              "      <td>Africa</td>\n",
              "      <td>1960374.0</td>\n",
              "      <td>14005.0</td>\n",
              "      <td>46889.0</td>\n",
              "      <td>3614.9375</td>\n",
              "      <td>0.0</td>\n",
              "      <td>9100.0</td>\n",
              "      <td>263107.0</td>\n",
              "      <td>2540.0</td>\n",
              "      <td></td>\n",
              "      <td></td>\n",
              "      <td>0.0</td>\n",
              "      <td></td>\n",
              "      <td>0.0</td>\n",
              "      <td>Africa</td>\n",
              "      <td>\\n</td>\n",
              "      <td></td>\n",
              "      <td></td>\n",
              "    </tr>\n",
              "  </tbody>\n",
              "</table>\n",
              "</div>"
            ],
            "text/plain": [
              "  #  Country,Other  ...  1 Deathevery X ppl  1 Testevery X ppl\n",
              "0    North America  ...                                       \n",
              "1             Asia  ...                                       \n",
              "2    South America  ...                                       \n",
              "3           Europe  ...                                       \n",
              "4           Africa  ...                                       \n",
              "\n",
              "[5 rows x 19 columns]"
            ]
          },
          "metadata": {
            "tags": []
          },
          "execution_count": 114
        }
      ]
    },
    {
      "cell_type": "code",
      "metadata": {
        "id": "J9hHP-oXJ2uT",
        "colab": {
          "base_uri": "https://localhost:8080/",
          "height": 164
        },
        "outputId": "4b2a3bea-bd35-4eee-f5d0-5c7ac0a82a64"
      },
      "source": [
        "clean_df['NewCases'].dtype()"
      ],
      "execution_count": null,
      "outputs": [
        {
          "output_type": "error",
          "ename": "TypeError",
          "evalue": "ignored",
          "traceback": [
            "\u001b[0;31m---------------------------------------------------------------------------\u001b[0m",
            "\u001b[0;31mTypeError\u001b[0m                                 Traceback (most recent call last)",
            "\u001b[0;32m<ipython-input-61-d483799df8ca>\u001b[0m in \u001b[0;36m<module>\u001b[0;34m()\u001b[0m\n\u001b[0;32m----> 1\u001b[0;31m \u001b[0mclean_df\u001b[0m\u001b[0;34m[\u001b[0m\u001b[0;34m'NewCases'\u001b[0m\u001b[0;34m]\u001b[0m\u001b[0;34m.\u001b[0m\u001b[0mdtype\u001b[0m\u001b[0;34m(\u001b[0m\u001b[0;34m)\u001b[0m\u001b[0;34m\u001b[0m\u001b[0;34m\u001b[0m\u001b[0m\n\u001b[0m",
            "\u001b[0;31mTypeError\u001b[0m: 'numpy.dtype' object is not callable"
          ]
        }
      ]
    },
    {
      "cell_type": "code",
      "metadata": {
        "id": "MY-JrgBzJ2xQ"
      },
      "source": [
        ""
      ],
      "execution_count": null,
      "outputs": []
    },
    {
      "cell_type": "code",
      "metadata": {
        "id": "uSpe3xx_8S54",
        "colab": {
          "base_uri": "https://localhost:8080/",
          "height": 551
        },
        "outputId": "37df831e-7c48-44f3-f6e3-472f09566770"
      },
      "source": [
        "encoded_df.head(15)"
      ],
      "execution_count": null,
      "outputs": [
        {
          "output_type": "execute_result",
          "data": {
            "text/html": [
              "<div>\n",
              "<style scoped>\n",
              "    .dataframe tbody tr th:only-of-type {\n",
              "        vertical-align: middle;\n",
              "    }\n",
              "\n",
              "    .dataframe tbody tr th {\n",
              "        vertical-align: top;\n",
              "    }\n",
              "\n",
              "    .dataframe thead th {\n",
              "        text-align: right;\n",
              "    }\n",
              "</style>\n",
              "<table border=\"1\" class=\"dataframe\">\n",
              "  <thead>\n",
              "    <tr style=\"text-align: right;\">\n",
              "      <th></th>\n",
              "      <th>Country,Other</th>\n",
              "      <th>Continent</th>\n",
              "      <th>TotalCases</th>\n",
              "      <th>NewCases</th>\n",
              "      <th>TotalDeaths</th>\n",
              "      <th>NewDeaths</th>\n",
              "      <th>TotalRecovered</th>\n",
              "      <th>NewRecovered</th>\n",
              "      <th>ActiveCases</th>\n",
              "      <th>Serious,Critical</th>\n",
              "      <th>TotalTests</th>\n",
              "      <th>Population</th>\n",
              "      <th></th>\n",
              "      <th>Africa</th>\n",
              "      <th>All</th>\n",
              "      <th>Asia</th>\n",
              "      <th>Australia/Oceania</th>\n",
              "      <th>Europe</th>\n",
              "      <th>North America</th>\n",
              "      <th>South America</th>\n",
              "    </tr>\n",
              "  </thead>\n",
              "  <tbody>\n",
              "    <tr>\n",
              "      <th>0</th>\n",
              "      <td>North America</td>\n",
              "      <td>North America</td>\n",
              "      <td>12916827.0</td>\n",
              "      <td>55401.000000</td>\n",
              "      <td>372439.0</td>\n",
              "      <td>3536.666667</td>\n",
              "      <td>0.0</td>\n",
              "      <td>14263.000000</td>\n",
              "      <td>4310995.0</td>\n",
              "      <td>35615.0</td>\n",
              "      <td>0.0</td>\n",
              "      <td>0.000000e+00</td>\n",
              "      <td>0</td>\n",
              "      <td>0</td>\n",
              "      <td>0</td>\n",
              "      <td>0</td>\n",
              "      <td>0</td>\n",
              "      <td>0</td>\n",
              "      <td>1</td>\n",
              "      <td>0</td>\n",
              "    </tr>\n",
              "    <tr>\n",
              "      <th>1</th>\n",
              "      <td>Asia</td>\n",
              "      <td>Asia</td>\n",
              "      <td>14892500.0</td>\n",
              "      <td>87752.000000</td>\n",
              "      <td>263148.0</td>\n",
              "      <td>1501.000000</td>\n",
              "      <td>0.0</td>\n",
              "      <td>72572.000000</td>\n",
              "      <td>1345230.0</td>\n",
              "      <td>24251.0</td>\n",
              "      <td>0.0</td>\n",
              "      <td>0.000000e+00</td>\n",
              "      <td>0</td>\n",
              "      <td>0</td>\n",
              "      <td>0</td>\n",
              "      <td>1</td>\n",
              "      <td>0</td>\n",
              "      <td>0</td>\n",
              "      <td>0</td>\n",
              "      <td>0</td>\n",
              "    </tr>\n",
              "    <tr>\n",
              "      <th>2</th>\n",
              "      <td>South America</td>\n",
              "      <td>South America</td>\n",
              "      <td>10215272.0</td>\n",
              "      <td>5825.000000</td>\n",
              "      <td>307132.0</td>\n",
              "      <td>3536.666667</td>\n",
              "      <td>0.0</td>\n",
              "      <td>1484.000000</td>\n",
              "      <td>675807.0</td>\n",
              "      <td>17465.0</td>\n",
              "      <td>0.0</td>\n",
              "      <td>0.000000e+00</td>\n",
              "      <td>0</td>\n",
              "      <td>0</td>\n",
              "      <td>0</td>\n",
              "      <td>0</td>\n",
              "      <td>0</td>\n",
              "      <td>0</td>\n",
              "      <td>0</td>\n",
              "      <td>1</td>\n",
              "    </tr>\n",
              "    <tr>\n",
              "      <th>3</th>\n",
              "      <td>Europe</td>\n",
              "      <td>Europe</td>\n",
              "      <td>13445586.0</td>\n",
              "      <td>241027.000000</td>\n",
              "      <td>314494.0</td>\n",
              "      <td>3524.000000</td>\n",
              "      <td>0.0</td>\n",
              "      <td>92312.000000</td>\n",
              "      <td>8171357.0</td>\n",
              "      <td>28979.0</td>\n",
              "      <td>0.0</td>\n",
              "      <td>0.000000e+00</td>\n",
              "      <td>0</td>\n",
              "      <td>0</td>\n",
              "      <td>0</td>\n",
              "      <td>0</td>\n",
              "      <td>0</td>\n",
              "      <td>1</td>\n",
              "      <td>0</td>\n",
              "      <td>0</td>\n",
              "    </tr>\n",
              "    <tr>\n",
              "      <th>4</th>\n",
              "      <td>Africa</td>\n",
              "      <td>Africa</td>\n",
              "      <td>1955710.0</td>\n",
              "      <td>9341.000000</td>\n",
              "      <td>46742.0</td>\n",
              "      <td>3536.666667</td>\n",
              "      <td>0.0</td>\n",
              "      <td>6247.000000</td>\n",
              "      <td>261443.0</td>\n",
              "      <td>2545.0</td>\n",
              "      <td>0.0</td>\n",
              "      <td>0.000000e+00</td>\n",
              "      <td>0</td>\n",
              "      <td>1</td>\n",
              "      <td>0</td>\n",
              "      <td>0</td>\n",
              "      <td>0</td>\n",
              "      <td>0</td>\n",
              "      <td>0</td>\n",
              "      <td>0</td>\n",
              "    </tr>\n",
              "    <tr>\n",
              "      <th>5</th>\n",
              "      <td>Oceania</td>\n",
              "      <td>Australia/Oceania</td>\n",
              "      <td>41865.0</td>\n",
              "      <td>26595.362162</td>\n",
              "      <td>993.0</td>\n",
              "      <td>3536.666667</td>\n",
              "      <td>0.0</td>\n",
              "      <td>23787.362903</td>\n",
              "      <td>7993.0</td>\n",
              "      <td>24.0</td>\n",
              "      <td>0.0</td>\n",
              "      <td>0.000000e+00</td>\n",
              "      <td>0</td>\n",
              "      <td>0</td>\n",
              "      <td>0</td>\n",
              "      <td>0</td>\n",
              "      <td>1</td>\n",
              "      <td>0</td>\n",
              "      <td>0</td>\n",
              "      <td>0</td>\n",
              "    </tr>\n",
              "    <tr>\n",
              "      <th>7</th>\n",
              "      <td>World</td>\n",
              "      <td>All</td>\n",
              "      <td>53468481.0</td>\n",
              "      <td>399353.000000</td>\n",
              "      <td>1304963.0</td>\n",
              "      <td>6335.000000</td>\n",
              "      <td>0.0</td>\n",
              "      <td>186886.000000</td>\n",
              "      <td>14772872.0</td>\n",
              "      <td>108883.0</td>\n",
              "      <td>0.0</td>\n",
              "      <td>0.000000e+00</td>\n",
              "      <td>0</td>\n",
              "      <td>0</td>\n",
              "      <td>1</td>\n",
              "      <td>0</td>\n",
              "      <td>0</td>\n",
              "      <td>0</td>\n",
              "      <td>0</td>\n",
              "      <td>0</td>\n",
              "    </tr>\n",
              "    <tr>\n",
              "      <th>8</th>\n",
              "      <td>USA</td>\n",
              "      <td>North America</td>\n",
              "      <td>10918789.0</td>\n",
              "      <td>44853.000000</td>\n",
              "      <td>248835.0</td>\n",
              "      <td>3536.666667</td>\n",
              "      <td>1.0</td>\n",
              "      <td>6062.000000</td>\n",
              "      <td>3935772.0</td>\n",
              "      <td>31789.0</td>\n",
              "      <td>163749543.0</td>\n",
              "      <td>3.317169e+08</td>\n",
              "      <td>0</td>\n",
              "      <td>0</td>\n",
              "      <td>0</td>\n",
              "      <td>0</td>\n",
              "      <td>0</td>\n",
              "      <td>0</td>\n",
              "      <td>1</td>\n",
              "      <td>0</td>\n",
              "    </tr>\n",
              "    <tr>\n",
              "      <th>9</th>\n",
              "      <td>India</td>\n",
              "      <td>Asia</td>\n",
              "      <td>8761499.0</td>\n",
              "      <td>33599.000000</td>\n",
              "      <td>129100.0</td>\n",
              "      <td>3536.666667</td>\n",
              "      <td>2.0</td>\n",
              "      <td>38310.000000</td>\n",
              "      <td>480744.0</td>\n",
              "      <td>8944.0</td>\n",
              "      <td>123101739.0</td>\n",
              "      <td>1.384975e+09</td>\n",
              "      <td>0</td>\n",
              "      <td>0</td>\n",
              "      <td>0</td>\n",
              "      <td>1</td>\n",
              "      <td>0</td>\n",
              "      <td>0</td>\n",
              "      <td>0</td>\n",
              "      <td>0</td>\n",
              "    </tr>\n",
              "    <tr>\n",
              "      <th>10</th>\n",
              "      <td>Brazil</td>\n",
              "      <td>South America</td>\n",
              "      <td>5787766.0</td>\n",
              "      <td>4119.000000</td>\n",
              "      <td>164514.0</td>\n",
              "      <td>3536.666667</td>\n",
              "      <td>3.0</td>\n",
              "      <td>23787.362903</td>\n",
              "      <td>366485.0</td>\n",
              "      <td>8318.0</td>\n",
              "      <td>21900000.0</td>\n",
              "      <td>2.131146e+08</td>\n",
              "      <td>0</td>\n",
              "      <td>0</td>\n",
              "      <td>0</td>\n",
              "      <td>0</td>\n",
              "      <td>0</td>\n",
              "      <td>0</td>\n",
              "      <td>0</td>\n",
              "      <td>1</td>\n",
              "    </tr>\n",
              "    <tr>\n",
              "      <th>11</th>\n",
              "      <td>France</td>\n",
              "      <td>Europe</td>\n",
              "      <td>1898710.0</td>\n",
              "      <td>26595.362162</td>\n",
              "      <td>42960.0</td>\n",
              "      <td>3536.666667</td>\n",
              "      <td>4.0</td>\n",
              "      <td>23787.362903</td>\n",
              "      <td>1720796.0</td>\n",
              "      <td>4899.0</td>\n",
              "      <td>18528562.0</td>\n",
              "      <td>6.532687e+07</td>\n",
              "      <td>0</td>\n",
              "      <td>0</td>\n",
              "      <td>0</td>\n",
              "      <td>0</td>\n",
              "      <td>0</td>\n",
              "      <td>1</td>\n",
              "      <td>0</td>\n",
              "      <td>0</td>\n",
              "    </tr>\n",
              "    <tr>\n",
              "      <th>12</th>\n",
              "      <td>Russia</td>\n",
              "      <td>Europe</td>\n",
              "      <td>1880551.0</td>\n",
              "      <td>21983.000000</td>\n",
              "      <td>32443.0</td>\n",
              "      <td>3536.666667</td>\n",
              "      <td>5.0</td>\n",
              "      <td>18735.000000</td>\n",
              "      <td>441205.0</td>\n",
              "      <td>2300.0</td>\n",
              "      <td>67347351.0</td>\n",
              "      <td>1.459576e+08</td>\n",
              "      <td>0</td>\n",
              "      <td>0</td>\n",
              "      <td>0</td>\n",
              "      <td>0</td>\n",
              "      <td>0</td>\n",
              "      <td>1</td>\n",
              "      <td>0</td>\n",
              "      <td>0</td>\n",
              "    </tr>\n",
              "    <tr>\n",
              "      <th>15</th>\n",
              "      <td>Argentina</td>\n",
              "      <td>South America</td>\n",
              "      <td>1284519.0</td>\n",
              "      <td>26595.362162</td>\n",
              "      <td>34782.0</td>\n",
              "      <td>3536.666667</td>\n",
              "      <td>8.0</td>\n",
              "      <td>23787.362903</td>\n",
              "      <td>149557.0</td>\n",
              "      <td>4397.0</td>\n",
              "      <td>3377749.0</td>\n",
              "      <td>4.534782e+07</td>\n",
              "      <td>0</td>\n",
              "      <td>0</td>\n",
              "      <td>0</td>\n",
              "      <td>0</td>\n",
              "      <td>0</td>\n",
              "      <td>0</td>\n",
              "      <td>0</td>\n",
              "      <td>1</td>\n",
              "    </tr>\n",
              "    <tr>\n",
              "      <th>16</th>\n",
              "      <td>Colombia</td>\n",
              "      <td>South America</td>\n",
              "      <td>1174012.0</td>\n",
              "      <td>26595.362162</td>\n",
              "      <td>33491.0</td>\n",
              "      <td>3536.666667</td>\n",
              "      <td>9.0</td>\n",
              "      <td>23787.362903</td>\n",
              "      <td>58830.0</td>\n",
              "      <td>2376.0</td>\n",
              "      <td>5602354.0</td>\n",
              "      <td>5.108139e+07</td>\n",
              "      <td>0</td>\n",
              "      <td>0</td>\n",
              "      <td>0</td>\n",
              "      <td>0</td>\n",
              "      <td>0</td>\n",
              "      <td>0</td>\n",
              "      <td>0</td>\n",
              "      <td>1</td>\n",
              "    </tr>\n",
              "    <tr>\n",
              "      <th>17</th>\n",
              "      <td>Italy</td>\n",
              "      <td>Europe</td>\n",
              "      <td>1107303.0</td>\n",
              "      <td>40902.000000</td>\n",
              "      <td>44139.0</td>\n",
              "      <td>3536.666667</td>\n",
              "      <td>10.0</td>\n",
              "      <td>11480.000000</td>\n",
              "      <td>663926.0</td>\n",
              "      <td>3230.0</td>\n",
              "      <td>18455416.0</td>\n",
              "      <td>6.042886e+07</td>\n",
              "      <td>0</td>\n",
              "      <td>0</td>\n",
              "      <td>0</td>\n",
              "      <td>0</td>\n",
              "      <td>0</td>\n",
              "      <td>1</td>\n",
              "      <td>0</td>\n",
              "      <td>0</td>\n",
              "    </tr>\n",
              "  </tbody>\n",
              "</table>\n",
              "</div>"
            ],
            "text/plain": [
              "    Country,Other          Continent  ...  North America  South America\n",
              "0   North America      North America  ...              1              0\n",
              "1            Asia               Asia  ...              0              0\n",
              "2   South America      South America  ...              0              1\n",
              "3          Europe             Europe  ...              0              0\n",
              "4          Africa             Africa  ...              0              0\n",
              "5         Oceania  Australia/Oceania  ...              0              0\n",
              "7           World                All  ...              0              0\n",
              "8             USA      North America  ...              1              0\n",
              "9           India               Asia  ...              0              0\n",
              "10         Brazil      South America  ...              0              1\n",
              "11         France             Europe  ...              0              0\n",
              "12         Russia             Europe  ...              0              0\n",
              "15      Argentina      South America  ...              0              1\n",
              "16       Colombia      South America  ...              0              1\n",
              "17          Italy             Europe  ...              0              0\n",
              "\n",
              "[15 rows x 20 columns]"
            ]
          },
          "metadata": {
            "tags": []
          },
          "execution_count": 36
        }
      ]
    },
    {
      "cell_type": "code",
      "metadata": {
        "id": "P6LDEZJ-FCGn"
      },
      "source": [
        ""
      ],
      "execution_count": null,
      "outputs": []
    },
    {
      "cell_type": "code",
      "metadata": {
        "id": "OPkOrCbpFCJp"
      },
      "source": [
        ""
      ],
      "execution_count": null,
      "outputs": []
    },
    {
      "cell_type": "code",
      "metadata": {
        "id": "zm4IPJoVFCNG"
      },
      "source": [
        ""
      ],
      "execution_count": null,
      "outputs": []
    },
    {
      "cell_type": "code",
      "metadata": {
        "id": "c-KTxYDa8S-I"
      },
      "source": [
        ""
      ],
      "execution_count": null,
      "outputs": []
    },
    {
      "cell_type": "code",
      "metadata": {
        "id": "SD9ioRE78TEe"
      },
      "source": [
        ""
      ],
      "execution_count": null,
      "outputs": []
    },
    {
      "cell_type": "code",
      "metadata": {
        "id": "A_UyQOC18Szp"
      },
      "source": [
        ""
      ],
      "execution_count": null,
      "outputs": []
    },
    {
      "cell_type": "code",
      "metadata": {
        "id": "rOIEYTi5LDoc",
        "colab": {
          "base_uri": "https://localhost:8080/",
          "height": 534
        },
        "outputId": "1d7d44e7-ada7-4115-85e0-6def2e882fc1"
      },
      "source": [
        "clean_df.head(15)"
      ],
      "execution_count": null,
      "outputs": [
        {
          "output_type": "execute_result",
          "data": {
            "text/html": [
              "<div>\n",
              "<style scoped>\n",
              "    .dataframe tbody tr th:only-of-type {\n",
              "        vertical-align: middle;\n",
              "    }\n",
              "\n",
              "    .dataframe tbody tr th {\n",
              "        vertical-align: top;\n",
              "    }\n",
              "\n",
              "    .dataframe thead th {\n",
              "        text-align: right;\n",
              "    }\n",
              "</style>\n",
              "<table border=\"1\" class=\"dataframe\">\n",
              "  <thead>\n",
              "    <tr style=\"text-align: right;\">\n",
              "      <th></th>\n",
              "      <th>Country,Other</th>\n",
              "      <th>Continent</th>\n",
              "      <th>TotalCases</th>\n",
              "      <th>NewCases</th>\n",
              "      <th>TotalDeaths</th>\n",
              "      <th>NewDeaths</th>\n",
              "      <th>TotalRecovered</th>\n",
              "      <th>NewRecovered</th>\n",
              "      <th>ActiveCases</th>\n",
              "      <th>Serious,Critical</th>\n",
              "      <th>TotalTests</th>\n",
              "      <th>Population</th>\n",
              "    </tr>\n",
              "  </thead>\n",
              "  <tbody>\n",
              "    <tr>\n",
              "      <th>0</th>\n",
              "      <td>North America</td>\n",
              "      <td>North America</td>\n",
              "      <td>12916827.0</td>\n",
              "      <td>55401.000000</td>\n",
              "      <td>372439.0</td>\n",
              "      <td>3536.666667</td>\n",
              "      <td>0.0</td>\n",
              "      <td>14263.000000</td>\n",
              "      <td>4310995.0</td>\n",
              "      <td>35615.0</td>\n",
              "      <td>0.0</td>\n",
              "      <td>0.000000e+00</td>\n",
              "    </tr>\n",
              "    <tr>\n",
              "      <th>1</th>\n",
              "      <td>Asia</td>\n",
              "      <td>Asia</td>\n",
              "      <td>14892500.0</td>\n",
              "      <td>87752.000000</td>\n",
              "      <td>263148.0</td>\n",
              "      <td>1501.000000</td>\n",
              "      <td>0.0</td>\n",
              "      <td>72572.000000</td>\n",
              "      <td>1345230.0</td>\n",
              "      <td>24251.0</td>\n",
              "      <td>0.0</td>\n",
              "      <td>0.000000e+00</td>\n",
              "    </tr>\n",
              "    <tr>\n",
              "      <th>2</th>\n",
              "      <td>South America</td>\n",
              "      <td>South America</td>\n",
              "      <td>10215272.0</td>\n",
              "      <td>5825.000000</td>\n",
              "      <td>307132.0</td>\n",
              "      <td>3536.666667</td>\n",
              "      <td>0.0</td>\n",
              "      <td>1484.000000</td>\n",
              "      <td>675807.0</td>\n",
              "      <td>17465.0</td>\n",
              "      <td>0.0</td>\n",
              "      <td>0.000000e+00</td>\n",
              "    </tr>\n",
              "    <tr>\n",
              "      <th>3</th>\n",
              "      <td>Europe</td>\n",
              "      <td>Europe</td>\n",
              "      <td>13445586.0</td>\n",
              "      <td>241027.000000</td>\n",
              "      <td>314494.0</td>\n",
              "      <td>3524.000000</td>\n",
              "      <td>0.0</td>\n",
              "      <td>92312.000000</td>\n",
              "      <td>8171357.0</td>\n",
              "      <td>28979.0</td>\n",
              "      <td>0.0</td>\n",
              "      <td>0.000000e+00</td>\n",
              "    </tr>\n",
              "    <tr>\n",
              "      <th>4</th>\n",
              "      <td>Africa</td>\n",
              "      <td>Africa</td>\n",
              "      <td>1955710.0</td>\n",
              "      <td>9341.000000</td>\n",
              "      <td>46742.0</td>\n",
              "      <td>3536.666667</td>\n",
              "      <td>0.0</td>\n",
              "      <td>6247.000000</td>\n",
              "      <td>261443.0</td>\n",
              "      <td>2545.0</td>\n",
              "      <td>0.0</td>\n",
              "      <td>0.000000e+00</td>\n",
              "    </tr>\n",
              "    <tr>\n",
              "      <th>5</th>\n",
              "      <td>Oceania</td>\n",
              "      <td>Australia/Oceania</td>\n",
              "      <td>41865.0</td>\n",
              "      <td>26595.362162</td>\n",
              "      <td>993.0</td>\n",
              "      <td>3536.666667</td>\n",
              "      <td>0.0</td>\n",
              "      <td>23787.362903</td>\n",
              "      <td>7993.0</td>\n",
              "      <td>24.0</td>\n",
              "      <td>0.0</td>\n",
              "      <td>0.000000e+00</td>\n",
              "    </tr>\n",
              "    <tr>\n",
              "      <th>7</th>\n",
              "      <td>World</td>\n",
              "      <td>All</td>\n",
              "      <td>53468481.0</td>\n",
              "      <td>399353.000000</td>\n",
              "      <td>1304963.0</td>\n",
              "      <td>6335.000000</td>\n",
              "      <td>0.0</td>\n",
              "      <td>186886.000000</td>\n",
              "      <td>14772872.0</td>\n",
              "      <td>108883.0</td>\n",
              "      <td>0.0</td>\n",
              "      <td>0.000000e+00</td>\n",
              "    </tr>\n",
              "    <tr>\n",
              "      <th>8</th>\n",
              "      <td>USA</td>\n",
              "      <td>North America</td>\n",
              "      <td>10918789.0</td>\n",
              "      <td>44853.000000</td>\n",
              "      <td>248835.0</td>\n",
              "      <td>3536.666667</td>\n",
              "      <td>1.0</td>\n",
              "      <td>6062.000000</td>\n",
              "      <td>3935772.0</td>\n",
              "      <td>31789.0</td>\n",
              "      <td>163749543.0</td>\n",
              "      <td>3.317169e+08</td>\n",
              "    </tr>\n",
              "    <tr>\n",
              "      <th>9</th>\n",
              "      <td>India</td>\n",
              "      <td>Asia</td>\n",
              "      <td>8761499.0</td>\n",
              "      <td>33599.000000</td>\n",
              "      <td>129100.0</td>\n",
              "      <td>3536.666667</td>\n",
              "      <td>2.0</td>\n",
              "      <td>38310.000000</td>\n",
              "      <td>480744.0</td>\n",
              "      <td>8944.0</td>\n",
              "      <td>123101739.0</td>\n",
              "      <td>1.384975e+09</td>\n",
              "    </tr>\n",
              "    <tr>\n",
              "      <th>10</th>\n",
              "      <td>Brazil</td>\n",
              "      <td>South America</td>\n",
              "      <td>5787766.0</td>\n",
              "      <td>4119.000000</td>\n",
              "      <td>164514.0</td>\n",
              "      <td>3536.666667</td>\n",
              "      <td>3.0</td>\n",
              "      <td>23787.362903</td>\n",
              "      <td>366485.0</td>\n",
              "      <td>8318.0</td>\n",
              "      <td>21900000.0</td>\n",
              "      <td>2.131146e+08</td>\n",
              "    </tr>\n",
              "    <tr>\n",
              "      <th>11</th>\n",
              "      <td>France</td>\n",
              "      <td>Europe</td>\n",
              "      <td>1898710.0</td>\n",
              "      <td>26595.362162</td>\n",
              "      <td>42960.0</td>\n",
              "      <td>3536.666667</td>\n",
              "      <td>4.0</td>\n",
              "      <td>23787.362903</td>\n",
              "      <td>1720796.0</td>\n",
              "      <td>4899.0</td>\n",
              "      <td>18528562.0</td>\n",
              "      <td>6.532687e+07</td>\n",
              "    </tr>\n",
              "    <tr>\n",
              "      <th>12</th>\n",
              "      <td>Russia</td>\n",
              "      <td>Europe</td>\n",
              "      <td>1880551.0</td>\n",
              "      <td>21983.000000</td>\n",
              "      <td>32443.0</td>\n",
              "      <td>3536.666667</td>\n",
              "      <td>5.0</td>\n",
              "      <td>18735.000000</td>\n",
              "      <td>441205.0</td>\n",
              "      <td>2300.0</td>\n",
              "      <td>67347351.0</td>\n",
              "      <td>1.459576e+08</td>\n",
              "    </tr>\n",
              "    <tr>\n",
              "      <th>15</th>\n",
              "      <td>Argentina</td>\n",
              "      <td>South America</td>\n",
              "      <td>1284519.0</td>\n",
              "      <td>26595.362162</td>\n",
              "      <td>34782.0</td>\n",
              "      <td>3536.666667</td>\n",
              "      <td>8.0</td>\n",
              "      <td>23787.362903</td>\n",
              "      <td>149557.0</td>\n",
              "      <td>4397.0</td>\n",
              "      <td>3377749.0</td>\n",
              "      <td>4.534782e+07</td>\n",
              "    </tr>\n",
              "    <tr>\n",
              "      <th>16</th>\n",
              "      <td>Colombia</td>\n",
              "      <td>South America</td>\n",
              "      <td>1174012.0</td>\n",
              "      <td>26595.362162</td>\n",
              "      <td>33491.0</td>\n",
              "      <td>3536.666667</td>\n",
              "      <td>9.0</td>\n",
              "      <td>23787.362903</td>\n",
              "      <td>58830.0</td>\n",
              "      <td>2376.0</td>\n",
              "      <td>5602354.0</td>\n",
              "      <td>5.108139e+07</td>\n",
              "    </tr>\n",
              "    <tr>\n",
              "      <th>17</th>\n",
              "      <td>Italy</td>\n",
              "      <td>Europe</td>\n",
              "      <td>1107303.0</td>\n",
              "      <td>40902.000000</td>\n",
              "      <td>44139.0</td>\n",
              "      <td>3536.666667</td>\n",
              "      <td>10.0</td>\n",
              "      <td>11480.000000</td>\n",
              "      <td>663926.0</td>\n",
              "      <td>3230.0</td>\n",
              "      <td>18455416.0</td>\n",
              "      <td>6.042886e+07</td>\n",
              "    </tr>\n",
              "  </tbody>\n",
              "</table>\n",
              "</div>"
            ],
            "text/plain": [
              "    Country,Other          Continent  ...   TotalTests    Population\n",
              "0   North America      North America  ...          0.0  0.000000e+00\n",
              "1            Asia               Asia  ...          0.0  0.000000e+00\n",
              "2   South America      South America  ...          0.0  0.000000e+00\n",
              "3          Europe             Europe  ...          0.0  0.000000e+00\n",
              "4          Africa             Africa  ...          0.0  0.000000e+00\n",
              "5         Oceania  Australia/Oceania  ...          0.0  0.000000e+00\n",
              "7           World                All  ...          0.0  0.000000e+00\n",
              "8             USA      North America  ...  163749543.0  3.317169e+08\n",
              "9           India               Asia  ...  123101739.0  1.384975e+09\n",
              "10         Brazil      South America  ...   21900000.0  2.131146e+08\n",
              "11         France             Europe  ...   18528562.0  6.532687e+07\n",
              "12         Russia             Europe  ...   67347351.0  1.459576e+08\n",
              "15      Argentina      South America  ...    3377749.0  4.534782e+07\n",
              "16       Colombia      South America  ...    5602354.0  5.108139e+07\n",
              "17          Italy             Europe  ...   18455416.0  6.042886e+07\n",
              "\n",
              "[15 rows x 12 columns]"
            ]
          },
          "metadata": {
            "tags": []
          },
          "execution_count": 23
        }
      ]
    },
    {
      "cell_type": "code",
      "metadata": {
        "id": "XrxqAA526pXx",
        "colab": {
          "base_uri": "https://localhost:8080/"
        },
        "outputId": "56dfbb1f-854c-4b3b-b074-18dab256a5fb"
      },
      "source": [
        ""
      ],
      "execution_count": null,
      "outputs": [
        {
          "output_type": "execute_result",
          "data": {
            "text/plain": [
              "pandas.core.series.Series"
            ]
          },
          "metadata": {
            "tags": []
          },
          "execution_count": 24
        }
      ]
    },
    {
      "cell_type": "code",
      "metadata": {
        "id": "eYXjVqI46pfE"
      },
      "source": [
        ""
      ],
      "execution_count": null,
      "outputs": []
    },
    {
      "cell_type": "code",
      "metadata": {
        "id": "VdUgy6la6pid"
      },
      "source": [
        ""
      ],
      "execution_count": null,
      "outputs": []
    },
    {
      "cell_type": "code",
      "metadata": {
        "id": "dOTjPIDl6pmU"
      },
      "source": [
        ""
      ],
      "execution_count": null,
      "outputs": []
    },
    {
      "cell_type": "code",
      "metadata": {
        "id": "wY7XNm596pq3"
      },
      "source": [
        ""
      ],
      "execution_count": null,
      "outputs": []
    },
    {
      "cell_type": "code",
      "metadata": {
        "id": "npPP_dYp6po3"
      },
      "source": [
        ""
      ],
      "execution_count": null,
      "outputs": []
    },
    {
      "cell_type": "code",
      "metadata": {
        "id": "8cm8hiFtwUVd"
      },
      "source": [
        "#TotalRecovered\n",
        "TR_df = pd.DataFrame(df['TotalRecovered'])\n",
        "TR_df = TR_df[TR_df['TotalRecovered'] != 'N/A']\n",
        "TR_df['TotalRecovered'] = TR_df['TotalRecovered'].astype(str).apply(lambda x: f'{x}.0')\n",
        "TR_df['TotalRecovered'] = TR_df['TotalRecovered'].str.replace(',', '')\n",
        "TR_df['TotalRecovered'] = TR_df['TotalRecovered'].str.replace(' ', '')\n",
        "TR_df['TotalRecovered'] = TR_df['TotalRecovered'].astype(float)\n",
        "x = round(TR_df['TotalRecovered'].mean())\n",
        "print(x)\n",
        "df['TotalRecovered'] = df[df['TotalRecovered'] != 'N/A']\n",
        "df['TotalRecovered'] = df['TotalRecovered'].fillna(x)\n",
        "df['TotalRecovered'] = df['TotalRecovered'].astype(str).apply(lambda x: f'{x}.0')\n",
        "df['TotalRecovered'] = df['TotalRecovered'].str.replace(',', '')\n",
        "df['TotalRecovered'] = df['TotalRecovered'].str.replace(' ', '')\n",
        "\n",
        "df['TotalRecovered'] = df['TotalRecovered'].astype(float)"
      ],
      "execution_count": null,
      "outputs": []
    },
    {
      "cell_type": "code",
      "metadata": {
        "id": "-UU7HiG_HFOp"
      },
      "source": [
        ""
      ],
      "execution_count": null,
      "outputs": []
    },
    {
      "cell_type": "code",
      "metadata": {
        "id": "OPPzX3GJEX2W"
      },
      "source": [
        "TR_df = df.copy()\n",
        "#TR_df['TotalRecovered'] = TR_df[TR_df['TotalRecovered'] != 'N/A']\n",
        "print()\n",
        "#TR_df['TotalRecovered'] = TR_df[TR_df['TotalRecovered'] != 'nan']\n",
        "\n",
        "TR_df['TotalRecovered'] = TR_df['TotalRecovered'].astype(str).apply(lambda x: f'{x}.0')\n",
        "\n",
        "TR_df['TotalRecovered'] = TR_df['TotalRecovered'].str.replace(',', '')\n",
        "\n",
        "TR_df['TotalRecovered'] = TR_df['TotalRecovered'].str.replace(' ', '')\n",
        "\n",
        "TR_df['TotalRecovered'] = TR_df['TotalRecovered'].astype(float)"
      ],
      "execution_count": null,
      "outputs": []
    },
    {
      "cell_type": "code",
      "metadata": {
        "id": "pZND24xxxIOi"
      },
      "source": [
        "TR_df = df.copy()\n",
        "TR_df['TotalRecovered'].isna().sum()\n",
        "print(len(test_df[test_df['TotalRecovered'] == 'N/A']))\n",
        "print(test_df['TotalRecovered'].isna().sum())\n",
        "print('---')\n",
        "TR_df = df.copy()\n",
        "TR_df['TotalRecovered'] = TR_df[TR_df['TotalRecovered'] != 'N/A']\n",
        "TR_df['TotalRecovered'].isna().sum()\n",
        "print(len(test_df[test_df['TotalRecovered'] == 'N/A']))\n",
        "print(test_df['TotalRecovered'].isna().sum())\n",
        "print('---')\n",
        "\n",
        "\n",
        "print(len(test_df[test_df['TotalRecovered'] == 'N/A']))\n",
        "print(test_df['TotalRecovered'].isna().sum())\n",
        "print('---')\n",
        "TR_df = df.copy()\n",
        "TR_df['TotalRecovered'] = TR_df[TR_df['TotalRecovered'] != 'N/A']\n",
        "TR_df['TotalRecovered'] = TR_df[TR_df['TotalRecovered'] != 'nan']\n",
        "TR_df['TotalRecovered'] = TR_df['TotalRecovered'].astype(str).apply(lambda x: f'{x}.0')\n",
        "TR_df['TotalRecovered'] = TR_df['TotalRecovered'].str.replace(',', '')\n",
        "TR_df['TotalRecovered'] = TR_df['TotalRecovered'].str.replace(' ', '')\n",
        "TR_df['TotalRecovered'] = TR_df['TotalRecovered'].astype(float)\n",
        "TR_df['TotalRecovered'].mean()\n"
      ],
      "execution_count": null,
      "outputs": []
    },
    {
      "cell_type": "code",
      "metadata": {
        "id": "pe2Hj0GX0_hB"
      },
      "source": [
        "len(df[df['TotalRecovered'] == 'N/A'])"
      ],
      "execution_count": null,
      "outputs": []
    },
    {
      "cell_type": "code",
      "metadata": {
        "id": "wI3E0GtD0259"
      },
      "source": [
        "test_df[test_df['TotalRecovered'] == 'N/A']"
      ],
      "execution_count": null,
      "outputs": []
    },
    {
      "cell_type": "code",
      "metadata": {
        "id": "hmDbJY8Mxzuo"
      },
      "source": [
        "test_df.head(10)"
      ],
      "execution_count": null,
      "outputs": []
    },
    {
      "cell_type": "code",
      "metadata": {
        "id": "bebNU4S8sClH"
      },
      "source": [
        "test_df = df.copy()\n",
        "\n",
        "def process_numeric(col_name):\n",
        "  test_df[col_name] = test_df[col_name].apply(lambda x: f'{x}.0')\n",
        "  for i in test_df:\n",
        "    try:\n",
        "      test_df.iloc[i] = test_df[i].str.replace(',', '').astype(float)\n",
        "    except ValueError:\n",
        "      test_df[i] = test_df[i].map(lambda x: x.rstrip(' .0'))\n",
        "      test_df[i] = test_df[i].str.replace(',', '').astype(float)\n",
        "\n",
        "process_numeric('TotalDeaths')"
      ],
      "execution_count": null,
      "outputs": []
    },
    {
      "cell_type": "code",
      "metadata": {
        "id": "lhq1Pr0OrkGu"
      },
      "source": [
        "test_df = df.copy()\n",
        "test_df['TotalDeaths'] = test_df['TotalDeaths'].apply(lambda x:f'str{x}')\n",
        "for i in column:\n",
        "try:\n",
        "  test_df['TotalDeaths'] = test_df['TotalDeaths'].str.replace(',', '').astype(float)\n",
        "except ValueError: \n",
        "  test_df['TotalDeaths'] = test_df['TotalDeaths'].map(lambda x: x.lstrip('str'))\n",
        "  test_df['TotalDeaths'] = test_df['TotalDeaths'].str.replace(',', '').astype(float)"
      ],
      "execution_count": null,
      "outputs": []
    },
    {
      "cell_type": "code",
      "metadata": {
        "id": "XNsbC1vN-c-v"
      },
      "source": [
        "test_df = df.copy()"
      ],
      "execution_count": null,
      "outputs": []
    },
    {
      "cell_type": "code",
      "metadata": {
        "id": "kMl3-9o__1Ny"
      },
      "source": [
        "test_df.head(10)"
      ],
      "execution_count": null,
      "outputs": []
    },
    {
      "cell_type": "code",
      "metadata": {
        "id": "24O6y29Ios8C"
      },
      "source": [
        "test_df[test_df.TotalRecovered == 'N/A']"
      ],
      "execution_count": null,
      "outputs": []
    },
    {
      "cell_type": "code",
      "metadata": {
        "id": "O_M9Sc2EqQ10"
      },
      "source": [
        "test_df = df.copy()\n",
        "TR_df = pd.DataFrame(test_df['TotalRecovered'])\n",
        "TR_df = TR_df.dropna()\n",
        "TR_df = TR_df[TR_df['TotalRecovered'] != '']\n",
        "TR_df = NR_df[TR_df['TotalRecovered'] != 'N/A']\n",
        "#TR_df['TotalRecovered'] = TR_df['TotalRecovered'].str.replace(',','').astype(float)\n",
        "#TR_df['TotalRecovered'].mean()\n",
        "TR_df[TR_df['TotalRecovered']]"
      ],
      "execution_count": null,
      "outputs": []
    },
    {
      "cell_type": "code",
      "metadata": {
        "id": "3GhfF4BRpfNO"
      },
      "source": [
        "\n"
      ],
      "execution_count": null,
      "outputs": []
    },
    {
      "cell_type": "code",
      "metadata": {
        "id": "4cIbrBiR-gyX"
      },
      "source": [
        "#test_df['TotalCases'] = test_df['TotalCases'].str.replace('', '').astype(float)\n",
        "#test_df[test_df['TotalCases'] < 1000]\n",
        "\n",
        "#test_df['TotalDeaths'] = test_df['TotalDeaths'].map(lambda x: x.lstrip('str').rstrip('.0'))\n",
        "test_df['TotalRecovered'] = test_df[test_df['TotalRecovered'] != 'N/A']\n",
        "test_df['TotalRecovered'] = test_df['TotalRecovered'].apply(lambda x:f'{x}.0')\n",
        "test_df['TotalRecovered'] = test_df['TotalRecovered'].str.replace(',', '').astype(float)\n",
        "\n",
        "#try:\n",
        "  #test_df['TotalDeaths'] = test_df['TotalDeaths'].str.replace(',', '').astype(float)\n",
        "#except: \n",
        "  #test_df['TotalDeaths'] = test_df['TotalDeaths'].map(lambda x: x.rstrip(' .0')).astype(float)\n",
        "  #test_df['TotalDeaths'] = test_df['TotalDeaths'].str.replace(',', '').astype(float)\n"
      ],
      "execution_count": null,
      "outputs": []
    },
    {
      "cell_type": "code",
      "metadata": {
        "id": "FIzvFJfk_7N1"
      },
      "source": [
        "test_df.head(15)"
      ],
      "execution_count": null,
      "outputs": []
    },
    {
      "cell_type": "code",
      "metadata": {
        "id": "GDfkdGrzZ4j1"
      },
      "source": [
        "df[df.TotalDeaths == 248585 ]"
      ],
      "execution_count": null,
      "outputs": []
    },
    {
      "cell_type": "code",
      "metadata": {
        "id": "tfZ0Lwx0Z4rv"
      },
      "source": [
        ""
      ],
      "execution_count": null,
      "outputs": []
    },
    {
      "cell_type": "code",
      "metadata": {
        "id": "Jn_9Qy_RZ4uY"
      },
      "source": [
        ""
      ],
      "execution_count": null,
      "outputs": []
    },
    {
      "cell_type": "code",
      "metadata": {
        "id": "MDfcQTzPZ4xo"
      },
      "source": [
        ""
      ],
      "execution_count": null,
      "outputs": []
    },
    {
      "cell_type": "code",
      "metadata": {
        "id": "xtxN2Wj4Z40v"
      },
      "source": [
        "df.tail(15)"
      ],
      "execution_count": null,
      "outputs": []
    },
    {
      "cell_type": "code",
      "metadata": {
        "id": "gmA8jTTdZ7VK"
      },
      "source": [
        "df[df['Country,Other'] == 'USA']"
      ],
      "execution_count": null,
      "outputs": []
    },
    {
      "cell_type": "code",
      "metadata": {
        "id": "pF74HsB0aJQh"
      },
      "source": [
        "country_list = df['Country,Other'].unique()"
      ],
      "execution_count": null,
      "outputs": []
    },
    {
      "cell_type": "code",
      "metadata": {
        "id": "7rV33MwmdnwZ"
      },
      "source": [
        "len(country_list)"
      ],
      "execution_count": null,
      "outputs": []
    },
    {
      "cell_type": "code",
      "metadata": {
        "id": "jtIDcFLhdvyL"
      },
      "source": [
        "country_list = df['Country,Other'].unique()\n",
        "for i in country_list:\n",
        "  if len(df[df['Country,Other'] == i]) == 3:\n",
        "    pass\n",
        "  else:\n",
        "    print(f'{i}')\n"
      ],
      "execution_count": null,
      "outputs": []
    },
    {
      "cell_type": "code",
      "metadata": {
        "id": "qEakO6hdefHD"
      },
      "source": [
        ""
      ],
      "execution_count": null,
      "outputs": []
    }
  ]
}