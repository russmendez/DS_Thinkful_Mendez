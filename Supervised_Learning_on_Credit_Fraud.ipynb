{
  "nbformat": 4,
  "nbformat_minor": 0,
  "metadata": {
    "colab": {
      "name": "Supervised Learning on Credit Fraud.ipynb",
      "provenance": [],
      "authorship_tag": "ABX9TyNCkhK8Z17oqlm7PlUBwkiF",
      "include_colab_link": true
    },
    "kernelspec": {
      "name": "python3",
      "display_name": "Python 3"
    }
  },
  "cells": [
    {
      "cell_type": "markdown",
      "metadata": {
        "id": "view-in-github",
        "colab_type": "text"
      },
      "source": [
        "<a href=\"https://colab.research.google.com/github/russmendez/DS_Thinkful_Mendez/blob/master/Supervised_Learning_on_Credit_Fraud.ipynb\" target=\"_parent\"><img src=\"https://colab.research.google.com/assets/colab-badge.svg\" alt=\"Open In Colab\"/></a>"
      ]
    },
    {
      "cell_type": "code",
      "metadata": {
        "id": "-tk7NcvlFsof"
      },
      "source": [
        "%matplotlib inline\n",
        "import pandas as pd\n",
        "import numpy as np\n",
        "import seaborn as sns\n",
        "from scipy import stats\n",
        "from matplotlib import pyplot as plt\n",
        "from pandas import DataFrame\n",
        "from sklearn.model_selection import train_test_split,  cross_val_score\n",
        "\n",
        "from sklearn.preprocessing import StandardScaler\n",
        "\n",
        "from sklearn import svm\n",
        "\n",
        "from sklearn.linear_model import LogisticRegression\n",
        "from sklearn.linear_model import LinearRegression\n",
        "\n",
        "from sklearn.linear_model import Ridge\n",
        "\n",
        "\n",
        "from sklearn.tree import DecisionTreeClassifier\n",
        "from sklearn.neighbors import KNeighborsClassifier\n",
        "from sklearn.ensemble import RandomForestClassifier\n",
        "from sklearn.ensemble import RandomForestRegressor\n",
        "\n",
        "from sklearn import preprocessing\n",
        "from sklearn.metrics import classification_report, confusion_matrix, accuracy_score, plot_confusion_matrix\n",
        "from sklearn import metrics\n",
        "from sklearn.datasets import make_classification\n",
        "from sklearn.dummy import DummyClassifier\n",
        "\n",
        "from sklearn.metrics import classification_report, confusion_matrix, accuracy_score, fbeta_score\n",
        "from sklearn.metrics import roc_curve, precision_recall_curve, roc_auc_score\n",
        "\n",
        "import warnings"
      ],
      "execution_count": null,
      "outputs": []
    },
    {
      "cell_type": "code",
      "metadata": {
        "id": "JQP1OyO_3dvM",
        "colab": {
          "base_uri": "https://localhost:8080/"
        },
        "outputId": "1fad2fb2-33cd-46fc-f150-ea7666bd51d4"
      },
      "source": [
        "from google.colab import drive\n",
        "drive.mount('/content/drive')\n",
        "data = pd.read_csv('drive/My Drive/archive.zip')"
      ],
      "execution_count": null,
      "outputs": [
        {
          "output_type": "stream",
          "text": [
            "Mounted at /content/drive\n"
          ],
          "name": "stdout"
        }
      ]
    },
    {
      "cell_type": "markdown",
      "metadata": {
        "id": "NHCTOvmVHKxF"
      },
      "source": [
        "The datasets contains transactions made by credit cards in September 2013 by european cardholders.\n",
        "This dataset presents transactions that occurred in two days, where we have 492 frauds out of 284,807 transactions. The dataset is highly unbalanced, the positive class (frauds) account for 0.172% of all transactions.\n",
        "\n",
        "It contains only numerical input variables which are the result of a PCA transformation. Unfortunately, due to confidentiality issues, we cannot provide the original features and more background information about the data. Features V1, V2, … V28 are the principal components obtained with PCA, the only features which have not been transformed with PCA are 'Time' and 'Amount'. Feature 'Time' contains the seconds elapsed between each transaction and the first transaction in the dataset. The feature 'Amount' is the transaction Amount, this feature can be used for example-dependant cost-senstive learning. Feature 'Class' is the response variable and it takes value 1 in case of fraud and 0 otherwise."
      ]
    },
    {
      "cell_type": "code",
      "metadata": {
        "id": "gJT7HaxdF9e8",
        "colab": {
          "base_uri": "https://localhost:8080/",
          "height": 224
        },
        "outputId": "572bc87f-411b-413c-f64c-14bb83ee8ca2"
      },
      "source": [
        "data.head()"
      ],
      "execution_count": null,
      "outputs": [
        {
          "output_type": "execute_result",
          "data": {
            "text/html": [
              "<div>\n",
              "<style scoped>\n",
              "    .dataframe tbody tr th:only-of-type {\n",
              "        vertical-align: middle;\n",
              "    }\n",
              "\n",
              "    .dataframe tbody tr th {\n",
              "        vertical-align: top;\n",
              "    }\n",
              "\n",
              "    .dataframe thead th {\n",
              "        text-align: right;\n",
              "    }\n",
              "</style>\n",
              "<table border=\"1\" class=\"dataframe\">\n",
              "  <thead>\n",
              "    <tr style=\"text-align: right;\">\n",
              "      <th></th>\n",
              "      <th>Time</th>\n",
              "      <th>V1</th>\n",
              "      <th>V2</th>\n",
              "      <th>V3</th>\n",
              "      <th>V4</th>\n",
              "      <th>V5</th>\n",
              "      <th>V6</th>\n",
              "      <th>V7</th>\n",
              "      <th>V8</th>\n",
              "      <th>V9</th>\n",
              "      <th>V10</th>\n",
              "      <th>V11</th>\n",
              "      <th>V12</th>\n",
              "      <th>V13</th>\n",
              "      <th>V14</th>\n",
              "      <th>V15</th>\n",
              "      <th>V16</th>\n",
              "      <th>V17</th>\n",
              "      <th>V18</th>\n",
              "      <th>V19</th>\n",
              "      <th>V20</th>\n",
              "      <th>V21</th>\n",
              "      <th>V22</th>\n",
              "      <th>V23</th>\n",
              "      <th>V24</th>\n",
              "      <th>V25</th>\n",
              "      <th>V26</th>\n",
              "      <th>V27</th>\n",
              "      <th>V28</th>\n",
              "      <th>Amount</th>\n",
              "      <th>Class</th>\n",
              "    </tr>\n",
              "  </thead>\n",
              "  <tbody>\n",
              "    <tr>\n",
              "      <th>0</th>\n",
              "      <td>0.0</td>\n",
              "      <td>-1.359807</td>\n",
              "      <td>-0.072781</td>\n",
              "      <td>2.536347</td>\n",
              "      <td>1.378155</td>\n",
              "      <td>-0.338321</td>\n",
              "      <td>0.462388</td>\n",
              "      <td>0.239599</td>\n",
              "      <td>0.098698</td>\n",
              "      <td>0.363787</td>\n",
              "      <td>0.090794</td>\n",
              "      <td>-0.551600</td>\n",
              "      <td>-0.617801</td>\n",
              "      <td>-0.991390</td>\n",
              "      <td>-0.311169</td>\n",
              "      <td>1.468177</td>\n",
              "      <td>-0.470401</td>\n",
              "      <td>0.207971</td>\n",
              "      <td>0.025791</td>\n",
              "      <td>0.403993</td>\n",
              "      <td>0.251412</td>\n",
              "      <td>-0.018307</td>\n",
              "      <td>0.277838</td>\n",
              "      <td>-0.110474</td>\n",
              "      <td>0.066928</td>\n",
              "      <td>0.128539</td>\n",
              "      <td>-0.189115</td>\n",
              "      <td>0.133558</td>\n",
              "      <td>-0.021053</td>\n",
              "      <td>149.62</td>\n",
              "      <td>0</td>\n",
              "    </tr>\n",
              "    <tr>\n",
              "      <th>1</th>\n",
              "      <td>0.0</td>\n",
              "      <td>1.191857</td>\n",
              "      <td>0.266151</td>\n",
              "      <td>0.166480</td>\n",
              "      <td>0.448154</td>\n",
              "      <td>0.060018</td>\n",
              "      <td>-0.082361</td>\n",
              "      <td>-0.078803</td>\n",
              "      <td>0.085102</td>\n",
              "      <td>-0.255425</td>\n",
              "      <td>-0.166974</td>\n",
              "      <td>1.612727</td>\n",
              "      <td>1.065235</td>\n",
              "      <td>0.489095</td>\n",
              "      <td>-0.143772</td>\n",
              "      <td>0.635558</td>\n",
              "      <td>0.463917</td>\n",
              "      <td>-0.114805</td>\n",
              "      <td>-0.183361</td>\n",
              "      <td>-0.145783</td>\n",
              "      <td>-0.069083</td>\n",
              "      <td>-0.225775</td>\n",
              "      <td>-0.638672</td>\n",
              "      <td>0.101288</td>\n",
              "      <td>-0.339846</td>\n",
              "      <td>0.167170</td>\n",
              "      <td>0.125895</td>\n",
              "      <td>-0.008983</td>\n",
              "      <td>0.014724</td>\n",
              "      <td>2.69</td>\n",
              "      <td>0</td>\n",
              "    </tr>\n",
              "    <tr>\n",
              "      <th>2</th>\n",
              "      <td>1.0</td>\n",
              "      <td>-1.358354</td>\n",
              "      <td>-1.340163</td>\n",
              "      <td>1.773209</td>\n",
              "      <td>0.379780</td>\n",
              "      <td>-0.503198</td>\n",
              "      <td>1.800499</td>\n",
              "      <td>0.791461</td>\n",
              "      <td>0.247676</td>\n",
              "      <td>-1.514654</td>\n",
              "      <td>0.207643</td>\n",
              "      <td>0.624501</td>\n",
              "      <td>0.066084</td>\n",
              "      <td>0.717293</td>\n",
              "      <td>-0.165946</td>\n",
              "      <td>2.345865</td>\n",
              "      <td>-2.890083</td>\n",
              "      <td>1.109969</td>\n",
              "      <td>-0.121359</td>\n",
              "      <td>-2.261857</td>\n",
              "      <td>0.524980</td>\n",
              "      <td>0.247998</td>\n",
              "      <td>0.771679</td>\n",
              "      <td>0.909412</td>\n",
              "      <td>-0.689281</td>\n",
              "      <td>-0.327642</td>\n",
              "      <td>-0.139097</td>\n",
              "      <td>-0.055353</td>\n",
              "      <td>-0.059752</td>\n",
              "      <td>378.66</td>\n",
              "      <td>0</td>\n",
              "    </tr>\n",
              "    <tr>\n",
              "      <th>3</th>\n",
              "      <td>1.0</td>\n",
              "      <td>-0.966272</td>\n",
              "      <td>-0.185226</td>\n",
              "      <td>1.792993</td>\n",
              "      <td>-0.863291</td>\n",
              "      <td>-0.010309</td>\n",
              "      <td>1.247203</td>\n",
              "      <td>0.237609</td>\n",
              "      <td>0.377436</td>\n",
              "      <td>-1.387024</td>\n",
              "      <td>-0.054952</td>\n",
              "      <td>-0.226487</td>\n",
              "      <td>0.178228</td>\n",
              "      <td>0.507757</td>\n",
              "      <td>-0.287924</td>\n",
              "      <td>-0.631418</td>\n",
              "      <td>-1.059647</td>\n",
              "      <td>-0.684093</td>\n",
              "      <td>1.965775</td>\n",
              "      <td>-1.232622</td>\n",
              "      <td>-0.208038</td>\n",
              "      <td>-0.108300</td>\n",
              "      <td>0.005274</td>\n",
              "      <td>-0.190321</td>\n",
              "      <td>-1.175575</td>\n",
              "      <td>0.647376</td>\n",
              "      <td>-0.221929</td>\n",
              "      <td>0.062723</td>\n",
              "      <td>0.061458</td>\n",
              "      <td>123.50</td>\n",
              "      <td>0</td>\n",
              "    </tr>\n",
              "    <tr>\n",
              "      <th>4</th>\n",
              "      <td>2.0</td>\n",
              "      <td>-1.158233</td>\n",
              "      <td>0.877737</td>\n",
              "      <td>1.548718</td>\n",
              "      <td>0.403034</td>\n",
              "      <td>-0.407193</td>\n",
              "      <td>0.095921</td>\n",
              "      <td>0.592941</td>\n",
              "      <td>-0.270533</td>\n",
              "      <td>0.817739</td>\n",
              "      <td>0.753074</td>\n",
              "      <td>-0.822843</td>\n",
              "      <td>0.538196</td>\n",
              "      <td>1.345852</td>\n",
              "      <td>-1.119670</td>\n",
              "      <td>0.175121</td>\n",
              "      <td>-0.451449</td>\n",
              "      <td>-0.237033</td>\n",
              "      <td>-0.038195</td>\n",
              "      <td>0.803487</td>\n",
              "      <td>0.408542</td>\n",
              "      <td>-0.009431</td>\n",
              "      <td>0.798278</td>\n",
              "      <td>-0.137458</td>\n",
              "      <td>0.141267</td>\n",
              "      <td>-0.206010</td>\n",
              "      <td>0.502292</td>\n",
              "      <td>0.219422</td>\n",
              "      <td>0.215153</td>\n",
              "      <td>69.99</td>\n",
              "      <td>0</td>\n",
              "    </tr>\n",
              "  </tbody>\n",
              "</table>\n",
              "</div>"
            ],
            "text/plain": [
              "   Time        V1        V2        V3  ...       V27       V28  Amount  Class\n",
              "0   0.0 -1.359807 -0.072781  2.536347  ...  0.133558 -0.021053  149.62      0\n",
              "1   0.0  1.191857  0.266151  0.166480  ... -0.008983  0.014724    2.69      0\n",
              "2   1.0 -1.358354 -1.340163  1.773209  ... -0.055353 -0.059752  378.66      0\n",
              "3   1.0 -0.966272 -0.185226  1.792993  ...  0.062723  0.061458  123.50      0\n",
              "4   2.0 -1.158233  0.877737  1.548718  ...  0.219422  0.215153   69.99      0\n",
              "\n",
              "[5 rows x 31 columns]"
            ]
          },
          "metadata": {
            "tags": []
          },
          "execution_count": 4
        }
      ]
    },
    {
      "cell_type": "code",
      "metadata": {
        "id": "Ht-RdmhAHBlj",
        "colab": {
          "base_uri": "https://localhost:8080/",
          "height": 317
        },
        "outputId": "73be7399-f3f6-4844-9771-37faa8e544cf"
      },
      "source": [
        "data.describe()"
      ],
      "execution_count": null,
      "outputs": [
        {
          "output_type": "execute_result",
          "data": {
            "text/html": [
              "<div>\n",
              "<style scoped>\n",
              "    .dataframe tbody tr th:only-of-type {\n",
              "        vertical-align: middle;\n",
              "    }\n",
              "\n",
              "    .dataframe tbody tr th {\n",
              "        vertical-align: top;\n",
              "    }\n",
              "\n",
              "    .dataframe thead th {\n",
              "        text-align: right;\n",
              "    }\n",
              "</style>\n",
              "<table border=\"1\" class=\"dataframe\">\n",
              "  <thead>\n",
              "    <tr style=\"text-align: right;\">\n",
              "      <th></th>\n",
              "      <th>Time</th>\n",
              "      <th>V1</th>\n",
              "      <th>V2</th>\n",
              "      <th>V3</th>\n",
              "      <th>V4</th>\n",
              "      <th>V5</th>\n",
              "      <th>V6</th>\n",
              "      <th>V7</th>\n",
              "      <th>V8</th>\n",
              "      <th>V9</th>\n",
              "      <th>V10</th>\n",
              "      <th>V11</th>\n",
              "      <th>V12</th>\n",
              "      <th>V13</th>\n",
              "      <th>V14</th>\n",
              "      <th>V15</th>\n",
              "      <th>V16</th>\n",
              "      <th>V17</th>\n",
              "      <th>V18</th>\n",
              "      <th>V19</th>\n",
              "      <th>V20</th>\n",
              "      <th>V21</th>\n",
              "      <th>V22</th>\n",
              "      <th>V23</th>\n",
              "      <th>V24</th>\n",
              "      <th>V25</th>\n",
              "      <th>V26</th>\n",
              "      <th>V27</th>\n",
              "      <th>V28</th>\n",
              "      <th>Amount</th>\n",
              "      <th>Class</th>\n",
              "    </tr>\n",
              "  </thead>\n",
              "  <tbody>\n",
              "    <tr>\n",
              "      <th>count</th>\n",
              "      <td>284807.000000</td>\n",
              "      <td>2.848070e+05</td>\n",
              "      <td>2.848070e+05</td>\n",
              "      <td>2.848070e+05</td>\n",
              "      <td>2.848070e+05</td>\n",
              "      <td>2.848070e+05</td>\n",
              "      <td>2.848070e+05</td>\n",
              "      <td>2.848070e+05</td>\n",
              "      <td>2.848070e+05</td>\n",
              "      <td>2.848070e+05</td>\n",
              "      <td>2.848070e+05</td>\n",
              "      <td>2.848070e+05</td>\n",
              "      <td>2.848070e+05</td>\n",
              "      <td>2.848070e+05</td>\n",
              "      <td>2.848070e+05</td>\n",
              "      <td>2.848070e+05</td>\n",
              "      <td>2.848070e+05</td>\n",
              "      <td>2.848070e+05</td>\n",
              "      <td>2.848070e+05</td>\n",
              "      <td>2.848070e+05</td>\n",
              "      <td>2.848070e+05</td>\n",
              "      <td>2.848070e+05</td>\n",
              "      <td>2.848070e+05</td>\n",
              "      <td>2.848070e+05</td>\n",
              "      <td>2.848070e+05</td>\n",
              "      <td>2.848070e+05</td>\n",
              "      <td>2.848070e+05</td>\n",
              "      <td>2.848070e+05</td>\n",
              "      <td>2.848070e+05</td>\n",
              "      <td>284807.000000</td>\n",
              "      <td>284807.000000</td>\n",
              "    </tr>\n",
              "    <tr>\n",
              "      <th>mean</th>\n",
              "      <td>94813.859575</td>\n",
              "      <td>3.919560e-15</td>\n",
              "      <td>5.688174e-16</td>\n",
              "      <td>-8.769071e-15</td>\n",
              "      <td>2.782312e-15</td>\n",
              "      <td>-1.552563e-15</td>\n",
              "      <td>2.010663e-15</td>\n",
              "      <td>-1.694249e-15</td>\n",
              "      <td>-1.927028e-16</td>\n",
              "      <td>-3.137024e-15</td>\n",
              "      <td>1.768627e-15</td>\n",
              "      <td>9.170318e-16</td>\n",
              "      <td>-1.810658e-15</td>\n",
              "      <td>1.693438e-15</td>\n",
              "      <td>1.479045e-15</td>\n",
              "      <td>3.482336e-15</td>\n",
              "      <td>1.392007e-15</td>\n",
              "      <td>-7.528491e-16</td>\n",
              "      <td>4.328772e-16</td>\n",
              "      <td>9.049732e-16</td>\n",
              "      <td>5.085503e-16</td>\n",
              "      <td>1.537294e-16</td>\n",
              "      <td>7.959909e-16</td>\n",
              "      <td>5.367590e-16</td>\n",
              "      <td>4.458112e-15</td>\n",
              "      <td>1.453003e-15</td>\n",
              "      <td>1.699104e-15</td>\n",
              "      <td>-3.660161e-16</td>\n",
              "      <td>-1.206049e-16</td>\n",
              "      <td>88.349619</td>\n",
              "      <td>0.001727</td>\n",
              "    </tr>\n",
              "    <tr>\n",
              "      <th>std</th>\n",
              "      <td>47488.145955</td>\n",
              "      <td>1.958696e+00</td>\n",
              "      <td>1.651309e+00</td>\n",
              "      <td>1.516255e+00</td>\n",
              "      <td>1.415869e+00</td>\n",
              "      <td>1.380247e+00</td>\n",
              "      <td>1.332271e+00</td>\n",
              "      <td>1.237094e+00</td>\n",
              "      <td>1.194353e+00</td>\n",
              "      <td>1.098632e+00</td>\n",
              "      <td>1.088850e+00</td>\n",
              "      <td>1.020713e+00</td>\n",
              "      <td>9.992014e-01</td>\n",
              "      <td>9.952742e-01</td>\n",
              "      <td>9.585956e-01</td>\n",
              "      <td>9.153160e-01</td>\n",
              "      <td>8.762529e-01</td>\n",
              "      <td>8.493371e-01</td>\n",
              "      <td>8.381762e-01</td>\n",
              "      <td>8.140405e-01</td>\n",
              "      <td>7.709250e-01</td>\n",
              "      <td>7.345240e-01</td>\n",
              "      <td>7.257016e-01</td>\n",
              "      <td>6.244603e-01</td>\n",
              "      <td>6.056471e-01</td>\n",
              "      <td>5.212781e-01</td>\n",
              "      <td>4.822270e-01</td>\n",
              "      <td>4.036325e-01</td>\n",
              "      <td>3.300833e-01</td>\n",
              "      <td>250.120109</td>\n",
              "      <td>0.041527</td>\n",
              "    </tr>\n",
              "    <tr>\n",
              "      <th>min</th>\n",
              "      <td>0.000000</td>\n",
              "      <td>-5.640751e+01</td>\n",
              "      <td>-7.271573e+01</td>\n",
              "      <td>-4.832559e+01</td>\n",
              "      <td>-5.683171e+00</td>\n",
              "      <td>-1.137433e+02</td>\n",
              "      <td>-2.616051e+01</td>\n",
              "      <td>-4.355724e+01</td>\n",
              "      <td>-7.321672e+01</td>\n",
              "      <td>-1.343407e+01</td>\n",
              "      <td>-2.458826e+01</td>\n",
              "      <td>-4.797473e+00</td>\n",
              "      <td>-1.868371e+01</td>\n",
              "      <td>-5.791881e+00</td>\n",
              "      <td>-1.921433e+01</td>\n",
              "      <td>-4.498945e+00</td>\n",
              "      <td>-1.412985e+01</td>\n",
              "      <td>-2.516280e+01</td>\n",
              "      <td>-9.498746e+00</td>\n",
              "      <td>-7.213527e+00</td>\n",
              "      <td>-5.449772e+01</td>\n",
              "      <td>-3.483038e+01</td>\n",
              "      <td>-1.093314e+01</td>\n",
              "      <td>-4.480774e+01</td>\n",
              "      <td>-2.836627e+00</td>\n",
              "      <td>-1.029540e+01</td>\n",
              "      <td>-2.604551e+00</td>\n",
              "      <td>-2.256568e+01</td>\n",
              "      <td>-1.543008e+01</td>\n",
              "      <td>0.000000</td>\n",
              "      <td>0.000000</td>\n",
              "    </tr>\n",
              "    <tr>\n",
              "      <th>25%</th>\n",
              "      <td>54201.500000</td>\n",
              "      <td>-9.203734e-01</td>\n",
              "      <td>-5.985499e-01</td>\n",
              "      <td>-8.903648e-01</td>\n",
              "      <td>-8.486401e-01</td>\n",
              "      <td>-6.915971e-01</td>\n",
              "      <td>-7.682956e-01</td>\n",
              "      <td>-5.540759e-01</td>\n",
              "      <td>-2.086297e-01</td>\n",
              "      <td>-6.430976e-01</td>\n",
              "      <td>-5.354257e-01</td>\n",
              "      <td>-7.624942e-01</td>\n",
              "      <td>-4.055715e-01</td>\n",
              "      <td>-6.485393e-01</td>\n",
              "      <td>-4.255740e-01</td>\n",
              "      <td>-5.828843e-01</td>\n",
              "      <td>-4.680368e-01</td>\n",
              "      <td>-4.837483e-01</td>\n",
              "      <td>-4.988498e-01</td>\n",
              "      <td>-4.562989e-01</td>\n",
              "      <td>-2.117214e-01</td>\n",
              "      <td>-2.283949e-01</td>\n",
              "      <td>-5.423504e-01</td>\n",
              "      <td>-1.618463e-01</td>\n",
              "      <td>-3.545861e-01</td>\n",
              "      <td>-3.171451e-01</td>\n",
              "      <td>-3.269839e-01</td>\n",
              "      <td>-7.083953e-02</td>\n",
              "      <td>-5.295979e-02</td>\n",
              "      <td>5.600000</td>\n",
              "      <td>0.000000</td>\n",
              "    </tr>\n",
              "    <tr>\n",
              "      <th>50%</th>\n",
              "      <td>84692.000000</td>\n",
              "      <td>1.810880e-02</td>\n",
              "      <td>6.548556e-02</td>\n",
              "      <td>1.798463e-01</td>\n",
              "      <td>-1.984653e-02</td>\n",
              "      <td>-5.433583e-02</td>\n",
              "      <td>-2.741871e-01</td>\n",
              "      <td>4.010308e-02</td>\n",
              "      <td>2.235804e-02</td>\n",
              "      <td>-5.142873e-02</td>\n",
              "      <td>-9.291738e-02</td>\n",
              "      <td>-3.275735e-02</td>\n",
              "      <td>1.400326e-01</td>\n",
              "      <td>-1.356806e-02</td>\n",
              "      <td>5.060132e-02</td>\n",
              "      <td>4.807155e-02</td>\n",
              "      <td>6.641332e-02</td>\n",
              "      <td>-6.567575e-02</td>\n",
              "      <td>-3.636312e-03</td>\n",
              "      <td>3.734823e-03</td>\n",
              "      <td>-6.248109e-02</td>\n",
              "      <td>-2.945017e-02</td>\n",
              "      <td>6.781943e-03</td>\n",
              "      <td>-1.119293e-02</td>\n",
              "      <td>4.097606e-02</td>\n",
              "      <td>1.659350e-02</td>\n",
              "      <td>-5.213911e-02</td>\n",
              "      <td>1.342146e-03</td>\n",
              "      <td>1.124383e-02</td>\n",
              "      <td>22.000000</td>\n",
              "      <td>0.000000</td>\n",
              "    </tr>\n",
              "    <tr>\n",
              "      <th>75%</th>\n",
              "      <td>139320.500000</td>\n",
              "      <td>1.315642e+00</td>\n",
              "      <td>8.037239e-01</td>\n",
              "      <td>1.027196e+00</td>\n",
              "      <td>7.433413e-01</td>\n",
              "      <td>6.119264e-01</td>\n",
              "      <td>3.985649e-01</td>\n",
              "      <td>5.704361e-01</td>\n",
              "      <td>3.273459e-01</td>\n",
              "      <td>5.971390e-01</td>\n",
              "      <td>4.539234e-01</td>\n",
              "      <td>7.395934e-01</td>\n",
              "      <td>6.182380e-01</td>\n",
              "      <td>6.625050e-01</td>\n",
              "      <td>4.931498e-01</td>\n",
              "      <td>6.488208e-01</td>\n",
              "      <td>5.232963e-01</td>\n",
              "      <td>3.996750e-01</td>\n",
              "      <td>5.008067e-01</td>\n",
              "      <td>4.589494e-01</td>\n",
              "      <td>1.330408e-01</td>\n",
              "      <td>1.863772e-01</td>\n",
              "      <td>5.285536e-01</td>\n",
              "      <td>1.476421e-01</td>\n",
              "      <td>4.395266e-01</td>\n",
              "      <td>3.507156e-01</td>\n",
              "      <td>2.409522e-01</td>\n",
              "      <td>9.104512e-02</td>\n",
              "      <td>7.827995e-02</td>\n",
              "      <td>77.165000</td>\n",
              "      <td>0.000000</td>\n",
              "    </tr>\n",
              "    <tr>\n",
              "      <th>max</th>\n",
              "      <td>172792.000000</td>\n",
              "      <td>2.454930e+00</td>\n",
              "      <td>2.205773e+01</td>\n",
              "      <td>9.382558e+00</td>\n",
              "      <td>1.687534e+01</td>\n",
              "      <td>3.480167e+01</td>\n",
              "      <td>7.330163e+01</td>\n",
              "      <td>1.205895e+02</td>\n",
              "      <td>2.000721e+01</td>\n",
              "      <td>1.559499e+01</td>\n",
              "      <td>2.374514e+01</td>\n",
              "      <td>1.201891e+01</td>\n",
              "      <td>7.848392e+00</td>\n",
              "      <td>7.126883e+00</td>\n",
              "      <td>1.052677e+01</td>\n",
              "      <td>8.877742e+00</td>\n",
              "      <td>1.731511e+01</td>\n",
              "      <td>9.253526e+00</td>\n",
              "      <td>5.041069e+00</td>\n",
              "      <td>5.591971e+00</td>\n",
              "      <td>3.942090e+01</td>\n",
              "      <td>2.720284e+01</td>\n",
              "      <td>1.050309e+01</td>\n",
              "      <td>2.252841e+01</td>\n",
              "      <td>4.584549e+00</td>\n",
              "      <td>7.519589e+00</td>\n",
              "      <td>3.517346e+00</td>\n",
              "      <td>3.161220e+01</td>\n",
              "      <td>3.384781e+01</td>\n",
              "      <td>25691.160000</td>\n",
              "      <td>1.000000</td>\n",
              "    </tr>\n",
              "  </tbody>\n",
              "</table>\n",
              "</div>"
            ],
            "text/plain": [
              "                Time            V1  ...         Amount          Class\n",
              "count  284807.000000  2.848070e+05  ...  284807.000000  284807.000000\n",
              "mean    94813.859575  3.919560e-15  ...      88.349619       0.001727\n",
              "std     47488.145955  1.958696e+00  ...     250.120109       0.041527\n",
              "min         0.000000 -5.640751e+01  ...       0.000000       0.000000\n",
              "25%     54201.500000 -9.203734e-01  ...       5.600000       0.000000\n",
              "50%     84692.000000  1.810880e-02  ...      22.000000       0.000000\n",
              "75%    139320.500000  1.315642e+00  ...      77.165000       0.000000\n",
              "max    172792.000000  2.454930e+00  ...   25691.160000       1.000000\n",
              "\n",
              "[8 rows x 31 columns]"
            ]
          },
          "metadata": {
            "tags": []
          },
          "execution_count": 5
        }
      ]
    },
    {
      "cell_type": "code",
      "metadata": {
        "id": "IzzYTgao3Rt-",
        "colab": {
          "base_uri": "https://localhost:8080/"
        },
        "outputId": "c8b54286-4fe8-4dd9-8d87-5f6bd3ebcbee"
      },
      "source": [
        "data.isna().sum()*100/data.count()"
      ],
      "execution_count": null,
      "outputs": [
        {
          "output_type": "execute_result",
          "data": {
            "text/plain": [
              "Time      0.0\n",
              "V1        0.0\n",
              "V2        0.0\n",
              "V3        0.0\n",
              "V4        0.0\n",
              "V5        0.0\n",
              "V6        0.0\n",
              "V7        0.0\n",
              "V8        0.0\n",
              "V9        0.0\n",
              "V10       0.0\n",
              "V11       0.0\n",
              "V12       0.0\n",
              "V13       0.0\n",
              "V14       0.0\n",
              "V15       0.0\n",
              "V16       0.0\n",
              "V17       0.0\n",
              "V18       0.0\n",
              "V19       0.0\n",
              "V20       0.0\n",
              "V21       0.0\n",
              "V22       0.0\n",
              "V23       0.0\n",
              "V24       0.0\n",
              "V25       0.0\n",
              "V26       0.0\n",
              "V27       0.0\n",
              "V28       0.0\n",
              "Amount    0.0\n",
              "Class     0.0\n",
              "dtype: float64"
            ]
          },
          "metadata": {
            "tags": []
          },
          "execution_count": 6
        }
      ]
    },
    {
      "cell_type": "code",
      "metadata": {
        "id": "kJzxNafs1fZ4",
        "colab": {
          "base_uri": "https://localhost:8080/",
          "height": 384
        },
        "outputId": "8108d0cc-e3e8-48d2-a986-5b771497f04a"
      },
      "source": [
        "#Confirm the imbalance in the target\n",
        "sns.countplot(data['Class'])\n",
        "print(len(data[data['Class'] == 0]))\n",
        "print(len(data[data['Class'] == 1]))\n",
        "print((len(data[data['Class'] == 1]))/(len(data[data['Class'] == 0]))*100)"
      ],
      "execution_count": null,
      "outputs": [
        {
          "output_type": "stream",
          "text": [
            "/usr/local/lib/python3.6/dist-packages/seaborn/_decorators.py:43: FutureWarning: Pass the following variable as a keyword arg: x. From version 0.12, the only valid positional argument will be `data`, and passing other arguments without an explicit keyword will result in an error or misinterpretation.\n",
            "  FutureWarning\n"
          ],
          "name": "stderr"
        },
        {
          "output_type": "stream",
          "text": [
            "284315\n",
            "492\n",
            "0.17304750013189596\n"
          ],
          "name": "stdout"
        },
        {
          "output_type": "display_data",
          "data": {
            "image/png": "[encoded data removed]",
            "text/plain": [
              "<Figure size 432x288 with 1 Axes>"
            ]
          },
          "metadata": {
            "tags": [],
            "needs_background": "light"
          }
        }
      ]
    },
    {
      "cell_type": "code",
      "metadata": {
        "id": "ZJkjwGUPR8iq",
        "colab": {
          "base_uri": "https://localhost:8080/",
          "height": 282
        },
        "outputId": "d6b09ad1-47aa-476a-f0aa-e4bc1babfe84"
      },
      "source": [
        "#This is not a great visual but it helps to show that the fraudulent charges take place over the entire timespan\n",
        "plt.scatter(data.Time, data.Class)"
      ],
      "execution_count": null,
      "outputs": [
        {
          "output_type": "execute_result",
          "data": {
            "text/plain": [
              "<matplotlib.collections.PathCollection at 0x7f91bfb62940>"
            ]
          },
          "metadata": {
            "tags": []
          },
          "execution_count": 8
        },
        {
          "output_type": "display_data",
          "data": {
            "image/png": "[encoded data removed]",
            "text/plain": [
              "<Figure size 432x288 with 1 Axes>"
            ]
          },
          "metadata": {
            "tags": [],
            "needs_background": "light"
          }
        }
      ]
    },
    {
      "cell_type": "code",
      "metadata": {
        "id": "U2PTvdYM4E26",
        "colab": {
          "base_uri": "https://localhost:8080/",
          "height": 326
        },
        "outputId": "2392de45-ae13-4070-ab3d-ca5721f0fb60"
      },
      "source": [
        "#Check to ensure the fraudulent charges happen over the entire timespan\n",
        "class_0 = data.loc[data['Class'] == 0][\"Time\"]\n",
        "class_1 = data.loc[data['Class'] == 1][\"Time\"]\n",
        "\n",
        "plt.figure(figsize=(20,10))\n",
        "plt.subplot(2,2,1)\n",
        "plt.hist(class_0, color='green', alpha=.5)\n",
        "plt.xlabel('Time')\n",
        "plt.ylabel('Real Transactions')\n",
        "plt.subplot(2,2,2)\n",
        "plt.hist(class_1, color='red', alpha=.5)\n",
        "plt.xlabel('Time')\n",
        "plt.ylabel('Fraudulent Transactions')\n",
        "\n",
        "#Both types of transactions take place over the whole time interval. Fraudulent charges show a more equal distibution over time.\n",
        "#There is a dip in real transations while fraudulent transations stays relatively high. "
      ],
      "execution_count": null,
      "outputs": [
        {
          "output_type": "execute_result",
          "data": {
            "text/plain": [
              "Text(0, 0.5, 'Fraudulent Transactions')"
            ]
          },
          "metadata": {
            "tags": []
          },
          "execution_count": 7
        },
        {
          "output_type": "display_data",
          "data": {
            "image/png": "[encoded data removed]",
            "text/plain": [
              "<Figure size 1440x720 with 2 Axes>"
            ]
          },
          "metadata": {
            "tags": [],
            "needs_background": "light"
          }
        }
      ]
    },
    {
      "cell_type": "code",
      "metadata": {
        "id": "qFJaxi5F5Ry3",
        "colab": {
          "base_uri": "https://localhost:8080/",
          "height": 433
        },
        "outputId": "9719f223-89c4-4776-8b78-cdd2339138ac"
      },
      "source": [
        "\n",
        "plt.figure(figsize=(15,15))\n",
        "\n",
        "plt.subplot(2,2,1)\n",
        "sns.boxplot(x=\"Class\", y=\"Amount\", hue=\"Class\",data=data)\n",
        "plt.subplot(2,2,2)\n",
        "sns.boxplot(x=\"Class\", y=\"Amount\", hue=\"Class\",data=data, showfliers=False)\n",
        "plt.show()"
      ],
      "execution_count": null,
      "outputs": [
        {
          "output_type": "display_data",
          "data": {
            "image/png": "[encoded data removed]",
            "text/plain": [
              "<Figure size 1080x1080 with 2 Axes>"
            ]
          },
          "metadata": {
            "tags": [],
            "needs_background": "light"
          }
        }
      ]
    },
    {
      "cell_type": "code",
      "metadata": {
        "id": "THBrO4rmANvX",
        "colab": {
          "base_uri": "https://localhost:8080/",
          "height": 625
        },
        "outputId": "341e8fdb-3c6c-45c7-fff9-a55200162cd0"
      },
      "source": [
        "plt.figure(figsize=(15,10))\n",
        "corr = data.corr()\n",
        "sns.heatmap(corr, linewidths=.1)\n",
        "plt.show()\n",
        "#V7 and V20 visually appeaer to have the highest correlation to another feature, Amount. But they apear to be about .4 and should be fine to use. "
      ],
      "execution_count": null,
      "outputs": [
        {
          "output_type": "display_data",
          "data": {
            "image/png": "[encoded data removed]",
            "text/plain": [
              "<Figure size 1080x720 with 2 Axes>"
            ]
          },
          "metadata": {
            "tags": [],
            "needs_background": "light"
          }
        }
      ]
    },
    {
      "cell_type": "markdown",
      "metadata": {
        "id": "iKURF0EFMEJd"
      },
      "source": [
        "#Functions"
      ]
    },
    {
      "cell_type": "code",
      "metadata": {
        "id": "5XYyALIAMF0V"
      },
      "source": [
        "#probs = lr.predict_proba(X_test)[:, 1]\n",
        "#pres, rec, thresholds = precision_recall_curve(y_test, lr_predictions)\n",
        "#Change model abbreviation\n",
        "def pr_roc(var):\n",
        "\n",
        "  plt.figure()\n",
        "  fig = plt.figure(figsize= (18,6))\n",
        "\n",
        "  plt.subplot(1,3,1)\n",
        "\n",
        "  fpr, tpr, thresholds = roc_curve(y_test, probs)\n",
        "  #fig = plt.figure(figsize = (6, 6))\n",
        "  plt.plot([0, 1], [0, 1], 'k--')\n",
        "  plt.plot(fpr, tpr)\n",
        "  plt.xlabel('False Positive Rate')\n",
        "  plt.ylabel('True Positive Rate')\n",
        "  plt.title('ROC curve')\n",
        "  #plt.show()\n",
        "\n",
        "  plt.subplot(1,3,2)\n",
        "\n",
        "  #fig = plt.figure(figsize = (6, 6))\n",
        "  plt.plot(rec, pres)\n",
        "  plt.xlabel('Recall')\n",
        "  plt.ylabel('Precision')\n",
        "  plt.title('Precision-Recall Curve')\n",
        "  #plt.show()\n",
        "\n",
        "  plt.subplot(1,3,3)\n",
        "  #fig = plt.figure(figsize = (6, 6))\n",
        "  plt.plot([0, 1], [0, 1], 'k--')\n",
        "  plt.plot(fpr, tpr)\n",
        "  plt.fill(fpr, tpr, 'grey', alpha=0.3)\n",
        "  plt.xlabel('False Positive Rate')\n",
        "  plt.ylabel('True Positive Rate')\n",
        "  plt.title('ROC')\n",
        "  #plt.show()\n",
        "  auc = roc_auc_score(y_test, probs)\n",
        "  print('Area under the ROC curve: {:.3f}'.format(auc))"
      ],
      "execution_count": null,
      "outputs": []
    },
    {
      "cell_type": "markdown",
      "metadata": {
        "id": "6x9Escy0EkEI"
      },
      "source": [
        "#Models"
      ]
    },
    {
      "cell_type": "markdown",
      "metadata": {
        "id": "RJEThAZ_Yl2w"
      },
      "source": [
        "We are looking to recude as many instances of false negatives, that is, missing an instance of fraudulent charge. The extent to which we want to limit false positives depends on the banks responce to a false positive. If the bank simply sends a notification to the user to confirm, then false positives are not much of a concern. If the bank locks the card bases on false positives false positives are highly problematic. "
      ]
    },
    {
      "cell_type": "code",
      "metadata": {
        "id": "f-iiEZVbCsOK"
      },
      "source": [
        "target_df = data['Class']\n",
        "feature_df = data.drop(columns='Class')"
      ],
      "execution_count": null,
      "outputs": []
    },
    {
      "cell_type": "code",
      "metadata": {
        "id": "rSKaETjUEOXb",
        "colab": {
          "base_uri": "https://localhost:8080/"
        },
        "outputId": "89d7ec6c-f3bf-4f0f-df0e-71b2c693c416"
      },
      "source": [
        "y = pd.DataFrame(data['Class'])\n",
        "X = data.drop(columns='Class')\n",
        "X_train, X_test, y_train, y_test = train_test_split(X,y)\n",
        "print(X_train.shape)\n",
        "print(y_train.shape)\n",
        "print(X_test.shape)\n",
        "print(y_test.shape)"
      ],
      "execution_count": null,
      "outputs": [
        {
          "output_type": "stream",
          "text": [
            "(213605, 30)\n",
            "(213605, 1)\n",
            "(71202, 30)\n",
            "(71202, 1)\n"
          ],
          "name": "stdout"
        }
      ]
    },
    {
      "cell_type": "markdown",
      "metadata": {
        "id": "Talk8eguFOeO"
      },
      "source": [
        "###LogisticRegression"
      ]
    },
    {
      "cell_type": "code",
      "metadata": {
        "id": "tOFuybvBERJp",
        "colab": {
          "base_uri": "https://localhost:8080/",
          "height": 589
        },
        "outputId": "d31b0d95-c09d-4116-ed80-820a5a44e96c"
      },
      "source": [
        "#not balanced\n",
        "lr = LogisticRegression(solver='lbfgs', max_iter=1000, random_state=2)\n",
        "results =lr.fit(X_train, y_train)\n",
        "\n",
        "lr_score = lr.score(X_test, y_test)\n",
        "lr_predictions = lr.predict(X_test)\n",
        "\n",
        "train_score = lr.score(X_train, y_train)\n",
        "test_score = lr.score(X_test, y_test)\n",
        "\n",
        "print('Score on training data: ', train_score)\n",
        "print('Score on test data: ', test_score)\n",
        "print(classification_report(y_test, lr_predictions))\n",
        "#To favor precision, a value of  𝛽<1  is used, and to favor recall, a value of  𝛽>1  is used\n",
        "fbeta_precision = fbeta_score(y_test, lr_predictions, 0.5)\n",
        "fbeta_recall = fbeta_score(y_test, lr_predictions, 2)\n",
        "print('Fbeta score favoring precision: {:.2f}'.format(fbeta_precision))\n",
        "print('FBeta score favoring recall: {:.2f}'.format(fbeta_recall))\n",
        "print(f'roc_auc_score:{roc_auc_score(y_test, lr_predictions)}')\n",
        "#print(f'cross_val_score: {cross_val_score(lr, X, y, cv=10)}')\n",
        "plot_confusion_matrix(lr, X_test, y_test)"
      ],
      "execution_count": null,
      "outputs": [
        {
          "output_type": "stream",
          "text": [
            "/usr/local/lib/python3.6/dist-packages/sklearn/utils/validation.py:760: DataConversionWarning: A column-vector y was passed when a 1d array was expected. Please change the shape of y to (n_samples, ), for example using ravel().\n",
            "  y = column_or_1d(y, warn=True)\n"
          ],
          "name": "stderr"
        },
        {
          "output_type": "stream",
          "text": [
            "Score on training data:  0.9991760492497834\n",
            "Score on test data:  0.9992415943372377\n",
            "              precision    recall  f1-score   support\n",
            "\n",
            "           0       1.00      1.00      1.00     71083\n",
            "           1       0.82      0.71      0.76       119\n",
            "\n",
            "    accuracy                           1.00     71202\n",
            "   macro avg       0.91      0.85      0.88     71202\n",
            "weighted avg       1.00      1.00      1.00     71202\n",
            "\n",
            "Fbeta score favoring precision: 0.79\n",
            "FBeta score favoring recall: 0.73\n",
            "roc_auc_score:0.8528075298884238\n"
          ],
          "name": "stdout"
        },
        {
          "output_type": "execute_result",
          "data": {
            "text/plain": [
              "<sklearn.metrics._plot.confusion_matrix.ConfusionMatrixDisplay at 0x7f91bcb1ccf8>"
            ]
          },
          "metadata": {
            "tags": []
          },
          "execution_count": 18
        },
        {
          "output_type": "display_data",
          "data": {
            "image/png": "[encoded data removed]",
            "text/plain": [
              "<Figure size 432x288 with 2 Axes>"
            ]
          },
          "metadata": {
            "tags": [],
            "needs_background": "light"
          }
        }
      ]
    },
    {
      "cell_type": "code",
      "metadata": {
        "id": "2OAI8kkK1LeP",
        "colab": {
          "base_uri": "https://localhost:8080/",
          "height": 588
        },
        "outputId": "0f434311-a495-4851-bb68-fd11bb4c00cd"
      },
      "source": [
        "#balanced\n",
        "balanced_lr = LogisticRegression(solver='lbfgs', max_iter=1000, class_weight='balanced', random_state=2, )\n",
        "results =balanced_lr.fit(X_train, y_train)\n",
        "\n",
        "balanced_lr_score = lr.score(X_test, y_test)\n",
        "balanced_lr_predictions = lr.predict(X_test)\n",
        "\n",
        "train_score = balanced_lr.score(X_train, y_train)\n",
        "test_score = balanced_lr.score(X_test, y_test)\n",
        "\n",
        "print('Score on training data: ', train_score)\n",
        "print('Score on test data: ', test_score)\n",
        "print(classification_report(y_test, balanced_lr_predictions))\n",
        "#To favor precision, a value of  𝛽<1  is used, and to favor recall, a value of  𝛽>1  is used\n",
        "fbeta_precision = fbeta_score(y_test, lr_predictions, 0.5)\n",
        "fbeta_recall = fbeta_score(y_test, balanced_lr_predictions, 2)\n",
        "print('Fbeta score favoring precision: {:.2f}'.format(fbeta_precision))\n",
        "print('FBeta score favoring recall: {:.2f}'.format(fbeta_recall))\n",
        "print(f'roc_auc_score:{roc_auc_score(y_test, balanced_lr_predictions)}')\n",
        "#print(f'cross_val_score: {cross_val_score(lr, X, y, cv=10)}')\n",
        "plot_confusion_matrix(balanced_lr, X_test, y_test)"
      ],
      "execution_count": null,
      "outputs": [
        {
          "output_type": "stream",
          "text": [
            "/usr/local/lib/python3.6/dist-packages/sklearn/utils/validation.py:760: DataConversionWarning: A column-vector y was passed when a 1d array was expected. Please change the shape of y to (n_samples, ), for example using ravel().\n",
            "  y = column_or_1d(y, warn=True)\n"
          ],
          "name": "stderr"
        },
        {
          "output_type": "stream",
          "text": [
            "Score on training data:  0.9662133377027692\n",
            "Score on test data:  0.9657172551332828\n",
            "              precision    recall  f1-score   support\n",
            "\n",
            "           0       1.00      0.97      0.98     71083\n",
            "           1       0.04      0.92      0.08       119\n",
            "\n",
            "    accuracy                           0.97     71202\n",
            "   macro avg       0.52      0.95      0.53     71202\n",
            "weighted avg       1.00      0.97      0.98     71202\n",
            "\n",
            "Fbeta score favoring precision: 0.05\n",
            "FBeta score favoring recall: 0.18\n",
            "roc_auc_score:0.9450781114325224\n"
          ],
          "name": "stdout"
        },
        {
          "output_type": "execute_result",
          "data": {
            "text/plain": [
              "<sklearn.metrics._plot.confusion_matrix.ConfusionMatrixDisplay at 0x7f91bc847588>"
            ]
          },
          "metadata": {
            "tags": []
          },
          "execution_count": 23
        },
        {
          "output_type": "display_data",
          "data": {
            "image/png": "[encoded data removed]",
            "text/plain": [
              "<Figure size 432x288 with 2 Axes>"
            ]
          },
          "metadata": {
            "tags": [],
            "needs_background": "light"
          }
        }
      ]
    },
    {
      "cell_type": "markdown",
      "metadata": {
        "id": "ddAJlqgmZSjF"
      },
      "source": [
        "The LogisticRegression model with class_wheight='balanced' misses the least false negatives of all the models. It also has the most amount of false positives. "
      ]
    },
    {
      "cell_type": "code",
      "metadata": {
        "id": "uy-Y9N-kIRsU"
      },
      "source": [
        ""
      ],
      "execution_count": null,
      "outputs": []
    },
    {
      "cell_type": "markdown",
      "metadata": {
        "id": "JsmoHrPZL1wb"
      },
      "source": [
        "###Decision Tree"
      ]
    },
    {
      "cell_type": "code",
      "metadata": {
        "id": "UrFPNuJwJc1S",
        "colab": {
          "base_uri": "https://localhost:8080/",
          "height": 535
        },
        "outputId": "b85d0ec9-0a62-4efe-b101-bfdfbe82b66c"
      },
      "source": [
        "dt = DecisionTreeClassifier(random_state=2)\n",
        "\n",
        "\n",
        "dt.fit(X_train,y_train)\n",
        "\n",
        "dt_score = dt.score(X_test, y_test)\n",
        "dt_predictions = dt.predict(X_test)\n",
        "\n",
        "train_score = dt.score(X_train, y_train)\n",
        "test_score = dt.score(X_test, y_test)\n",
        "\n",
        "print('Score on training data: ', train_score)\n",
        "print('Score on test data: ', test_score)\n",
        "\n",
        "print(classification_report(y_test, dt_predictions))\n",
        "\n",
        "fbeta_precision = fbeta_score(y_test, dt_predictions, 0.5)\n",
        "fbeta_recall = fbeta_score(y_test, dt_predictions, 2)\n",
        "print('Fbeta score favoring precision: {:.2f}'.format(fbeta_precision))\n",
        "print('FBeta score favoring recall: {:.2f}'.format(fbeta_recall))\n",
        "print(f'roc_auc_score:{roc_auc_score(y_test, dt_predictions)}')\n",
        "plot_confusion_matrix(dt, X_test, y_test)"
      ],
      "execution_count": null,
      "outputs": [
        {
          "output_type": "stream",
          "text": [
            "Score on training data:  1.0\n",
            "Score on test data:  0.9992135052386169\n",
            "              precision    recall  f1-score   support\n",
            "\n",
            "           0       1.00      1.00      1.00     71074\n",
            "           1       0.80      0.75      0.77       128\n",
            "\n",
            "    accuracy                           1.00     71202\n",
            "   macro avg       0.90      0.87      0.89     71202\n",
            "weighted avg       1.00      1.00      1.00     71202\n",
            "\n",
            "Fbeta score favoring precision: 0.79\n",
            "FBeta score favoring recall: 0.76\n",
            "roc_auc_score:0.8748311618876101\n"
          ],
          "name": "stdout"
        },
        {
          "output_type": "execute_result",
          "data": {
            "text/plain": [
              "<sklearn.metrics._plot.confusion_matrix.ConfusionMatrixDisplay at 0x7f5d456c2d30>"
            ]
          },
          "metadata": {
            "tags": []
          },
          "execution_count": 110
        },
        {
          "output_type": "display_data",
          "data": {
            "image/png": "[encoded data removed]",
            "text/plain": [
              "<Figure size 432x288 with 2 Axes>"
            ]
          },
          "metadata": {
            "tags": [],
            "needs_background": "light"
          }
        }
      ]
    },
    {
      "cell_type": "code",
      "metadata": {
        "id": "lPW8P-K6wQLv",
        "colab": {
          "base_uri": "https://localhost:8080/",
          "height": 535
        },
        "outputId": "15d06708-eab5-4a9b-a9a9-3935cfa9d709"
      },
      "source": [
        "dt = DecisionTreeClassifier(max_depth=10, random_state=2)\n",
        "\n",
        "dt.fit(X_train,y_train)\n",
        "\n",
        "dt_score = dt.score(X_test, y_test)\n",
        "dt_predictions = dt.predict(X_test)\n",
        "\n",
        "train_score = dt.score(X_train, y_train)\n",
        "test_score = dt.score(X_test, y_test)\n",
        "\n",
        "print('Score on training data: ', train_score)\n",
        "print('Score on test data: ', test_score)\n",
        "\n",
        "print(classification_report(y_test, dt_predictions))\n",
        "\n",
        "fbeta_precision = fbeta_score(y_test, dt_predictions, 0.5)\n",
        "fbeta_recall = fbeta_score(y_test, dt_predictions, 2)\n",
        "print('Fbeta score favoring precision: {:.2f}'.format(fbeta_precision))\n",
        "print('FBeta score favoring recall: {:.2f}'.format(fbeta_recall))\n",
        "print(f'roc_auc_score:{roc_auc_score(y_test, dt_predictions)}')\n",
        "plot_confusion_matrix(dt, X_test, y_test)"
      ],
      "execution_count": null,
      "outputs": [
        {
          "output_type": "stream",
          "text": [
            "Score on training data:  0.9997378338522038\n",
            "Score on test data:  0.9994943962248252\n",
            "              precision    recall  f1-score   support\n",
            "\n",
            "           0       1.00      1.00      1.00     71074\n",
            "           1       0.93      0.77      0.85       128\n",
            "\n",
            "    accuracy                           1.00     71202\n",
            "   macro avg       0.97      0.89      0.92     71202\n",
            "weighted avg       1.00      1.00      1.00     71202\n",
            "\n",
            "Fbeta score favoring precision: 0.90\n",
            "FBeta score favoring recall: 0.80\n",
            "roc_auc_score:0.886669505550553\n"
          ],
          "name": "stdout"
        },
        {
          "output_type": "execute_result",
          "data": {
            "text/plain": [
              "<sklearn.metrics._plot.confusion_matrix.ConfusionMatrixDisplay at 0x7f5d44e0ad68>"
            ]
          },
          "metadata": {
            "tags": []
          },
          "execution_count": 108
        },
        {
          "output_type": "display_data",
          "data": {
            "image/png": "[encoded data removed]",
            "text/plain": [
              "<Figure size 432x288 with 2 Axes>"
            ]
          },
          "metadata": {
            "tags": [],
            "needs_background": "light"
          }
        }
      ]
    },
    {
      "cell_type": "code",
      "metadata": {
        "id": "_6I8KFVG6H3G",
        "colab": {
          "base_uri": "https://localhost:8080/",
          "height": 535
        },
        "outputId": "3523c488-ee2e-4079-92bd-fadec7733959"
      },
      "source": [
        "dt = DecisionTreeClassifier(criterion='entropy', random_state=2)\n",
        "\n",
        "dt.fit(X_train,y_train)\n",
        "\n",
        "dt_score = dt.score(X_test, y_test)\n",
        "dt_predictions = dt.predict(X_test)\n",
        "\n",
        "train_score = dt.score(X_train, y_train)\n",
        "test_score = dt.score(X_test, y_test)\n",
        "\n",
        "print('Score on training data: ', train_score)\n",
        "print('Score on test data: ', test_score)\n",
        "\n",
        "print(classification_report(y_test, dt_predictions))\n",
        "\n",
        "fbeta_precision = fbeta_score(y_test, dt_predictions, 0.5)\n",
        "fbeta_recall = fbeta_score(y_test, dt_predictions, 2)\n",
        "print('Fbeta score favoring precision: {:.2f}'.format(fbeta_precision))\n",
        "print('FBeta score favoring recall: {:.2f}'.format(fbeta_recall))\n",
        "print(f'roc_auc_score:{roc_auc_score(y_test, dt_predictions)}')\n",
        "plot_confusion_matrix(dt, X_test, y_test)"
      ],
      "execution_count": null,
      "outputs": [
        {
          "output_type": "stream",
          "text": [
            "Score on training data:  1.0\n",
            "Score on test data:  0.999283727985169\n",
            "              precision    recall  f1-score   support\n",
            "\n",
            "           0       1.00      1.00      1.00     71074\n",
            "           1       0.81      0.79      0.80       128\n",
            "\n",
            "    accuracy                           1.00     71202\n",
            "   macro avg       0.90      0.89      0.90     71202\n",
            "weighted avg       1.00      1.00      1.00     71202\n",
            "\n",
            "Fbeta score favoring precision: 0.80\n",
            "FBeta score favoring recall: 0.79\n",
            "roc_auc_score:0.8943624118876101\n"
          ],
          "name": "stdout"
        },
        {
          "output_type": "execute_result",
          "data": {
            "text/plain": [
              "<sklearn.metrics._plot.confusion_matrix.ConfusionMatrixDisplay at 0x7f5d45401908>"
            ]
          },
          "metadata": {
            "tags": []
          },
          "execution_count": 119
        },
        {
          "output_type": "display_data",
          "data": {
            "image/png": "[encoded data removed]",
            "text/plain": [
              "<Figure size 432x288 with 2 Axes>"
            ]
          },
          "metadata": {
            "tags": [],
            "needs_background": "light"
          }
        }
      ]
    },
    {
      "cell_type": "code",
      "metadata": {
        "id": "WBDAFEKmBWBu",
        "colab": {
          "base_uri": "https://localhost:8080/",
          "height": 535
        },
        "outputId": "d6f92452-9047-4305-ea16-3e207f6dd54d"
      },
      "source": [
        "dt = DecisionTreeClassifier(random_state=2, class_weight='balanced')\n",
        "\n",
        "dt = DecisionTreeClassifier(max_depth=10, random_state=2)\n",
        "\n",
        "dt.fit(X_train,y_train)\n",
        "\n",
        "dt_score = dt.score(X_test, y_test)\n",
        "dt_predictions = dt.predict(X_test)\n",
        "\n",
        "train_score = dt.score(X_train, y_train)\n",
        "test_score = dt.score(X_test, y_test)\n",
        "\n",
        "print('Score on training data: ', train_score)\n",
        "print('Score on test data: ', test_score)\n",
        "\n",
        "print(classification_report(y_test, dt_predictions))\n",
        "\n",
        "fbeta_precision = fbeta_score(y_test, dt_predictions, 0.5)\n",
        "fbeta_recall = fbeta_score(y_test, dt_predictions, 2)\n",
        "print('Fbeta score favoring precision: {:.2f}'.format(fbeta_precision))\n",
        "print('FBeta score favoring recall: {:.2f}'.format(fbeta_recall))\n",
        "print(f'roc_auc_score:{roc_auc_score(y_test, dt_predictions)}')\n",
        "plot_confusion_matrix(dt, X_test, y_test)"
      ],
      "execution_count": null,
      "outputs": [
        {
          "output_type": "stream",
          "text": [
            "Score on training data:  0.9997378338522038\n",
            "Score on test data:  0.9994943962248252\n",
            "              precision    recall  f1-score   support\n",
            "\n",
            "           0       1.00      1.00      1.00     71074\n",
            "           1       0.93      0.77      0.85       128\n",
            "\n",
            "    accuracy                           1.00     71202\n",
            "   macro avg       0.97      0.89      0.92     71202\n",
            "weighted avg       1.00      1.00      1.00     71202\n",
            "\n",
            "Fbeta score favoring precision: 0.90\n",
            "FBeta score favoring recall: 0.80\n",
            "roc_auc_score:0.886669505550553\n"
          ],
          "name": "stdout"
        },
        {
          "output_type": "execute_result",
          "data": {
            "text/plain": [
              "<sklearn.metrics._plot.confusion_matrix.ConfusionMatrixDisplay at 0x7f5d44ede7f0>"
            ]
          },
          "metadata": {
            "tags": []
          },
          "execution_count": 124
        },
        {
          "output_type": "display_data",
          "data": {
            "image/png": "[encoded data removed]",
            "text/plain": [
              "<Figure size 432x288 with 2 Axes>"
            ]
          },
          "metadata": {
            "tags": [],
            "needs_background": "light"
          }
        }
      ]
    },
    {
      "cell_type": "code",
      "metadata": {
        "id": "Q8mT20LVaAtM",
        "colab": {
          "base_uri": "https://localhost:8080/",
          "height": 535
        },
        "outputId": "e7d73e63-f4f8-4527-cd81-8d3a1dbec553"
      },
      "source": [
        "dt = DecisionTreeClassifier(random_state=2, class_weight='balanced', criterion='entropy')\n",
        "\n",
        "dt = DecisionTreeClassifier(max_depth=10, random_state=2)\n",
        "\n",
        "dt.fit(X_train,y_train)\n",
        "\n",
        "dt_score = dt.score(X_test, y_test)\n",
        "dt_predictions = dt.predict(X_test)\n",
        "\n",
        "train_score = dt.score(X_train, y_train)\n",
        "test_score = dt.score(X_test, y_test)\n",
        "\n",
        "print('Score on training data: ', train_score)\n",
        "print('Score on test data: ', test_score)\n",
        "\n",
        "print(classification_report(y_test, dt_predictions))\n",
        "\n",
        "fbeta_precision = fbeta_score(y_test, dt_predictions, 0.5)\n",
        "fbeta_recall = fbeta_score(y_test, dt_predictions, 2)\n",
        "print('Fbeta score favoring precision: {:.2f}'.format(fbeta_precision))\n",
        "print('FBeta score favoring recall: {:.2f}'.format(fbeta_recall))\n",
        "print(f'roc_auc_score:{roc_auc_score(y_test, dt_predictions)}')\n",
        "plot_confusion_matrix(dt, X_test, y_test)"
      ],
      "execution_count": null,
      "outputs": [
        {
          "output_type": "stream",
          "text": [
            "Score on training data:  0.9997565600056179\n",
            "Score on test data:  0.9994382180275835\n",
            "              precision    recall  f1-score   support\n",
            "\n",
            "           0       1.00      1.00      1.00     71083\n",
            "           1       0.92      0.73      0.81       119\n",
            "\n",
            "    accuracy                           1.00     71202\n",
            "   macro avg       0.96      0.87      0.91     71202\n",
            "weighted avg       1.00      1.00      1.00     71202\n",
            "\n",
            "Fbeta score favoring precision: 0.87\n",
            "FBeta score favoring recall: 0.76\n",
            "roc_auc_score:0.865489946242273\n"
          ],
          "name": "stdout"
        },
        {
          "output_type": "execute_result",
          "data": {
            "text/plain": [
              "<sklearn.metrics._plot.confusion_matrix.ConfusionMatrixDisplay at 0x7f91bf63e198>"
            ]
          },
          "metadata": {
            "tags": []
          },
          "execution_count": 27
        },
        {
          "output_type": "display_data",
          "data": {
            "image/png": "[encoded data removed]",
            "text/plain": [
              "<Figure size 432x288 with 2 Axes>"
            ]
          },
          "metadata": {
            "tags": [],
            "needs_background": "light"
          }
        }
      ]
    },
    {
      "cell_type": "markdown",
      "metadata": {
        "id": "eLKB62RCaQOg"
      },
      "source": [
        "The DicisionTree with criterion='entropy' performed the best, however, it still underperformed the LogisticRegression model"
      ]
    },
    {
      "cell_type": "code",
      "metadata": {
        "id": "UhN-YDI6w2H1"
      },
      "source": [
        ""
      ],
      "execution_count": null,
      "outputs": []
    },
    {
      "cell_type": "code",
      "metadata": {
        "id": "EpzKhIIqw2Kf"
      },
      "source": [
        ""
      ],
      "execution_count": null,
      "outputs": []
    },
    {
      "cell_type": "code",
      "metadata": {
        "id": "1kTOZkUKw2NU"
      },
      "source": [
        ""
      ],
      "execution_count": null,
      "outputs": []
    },
    {
      "cell_type": "markdown",
      "metadata": {
        "id": "t7FIEENpM7jM"
      },
      "source": [
        "###RandomForest"
      ]
    },
    {
      "cell_type": "code",
      "metadata": {
        "id": "2bwDK0CgM4-z",
        "colab": {
          "base_uri": "https://localhost:8080/",
          "height": 623
        },
        "outputId": "c0877ad4-3e17-4809-a8a7-b39bebcf963e"
      },
      "source": [
        "rf = RandomForestClassifier(n_estimators = 22, random_state = 40)\n",
        "\n",
        "rf.fit(X_train,y_train)\n",
        "\n",
        "rf_score = rf.score(X_test, y_test)\n",
        "rf_predictions = rf.predict(X_test)\n",
        "\n",
        "train_score = rf.score(X_train, y_train)\n",
        "test_score = rf.score(X_test, y_test)\n",
        "\n",
        "print('Score on training data: ', train_score)\n",
        "print('Score on test data: ', test_score)\n",
        "print(confusion_matrix(y_test, rf_predictions))\n",
        "print(classification_report(y_test, rf_predictions))\n",
        "\n",
        "fbeta_precision = fbeta_score(y_test, rf_predictions, 0.5)\n",
        "fbeta_recall = fbeta_score(y_test, rf_predictions, 2)\n",
        "print('Fbeta score favoring precision: {:.2f}'.format(fbeta_precision))\n",
        "print('FBeta score favoring recall: {:.2f}'.format(fbeta_recall))\n",
        "print(f'roc_auc_score:{roc_auc_score(y_test, rf_predictions)}')\n",
        "plot_confusion_matrix(rf, X_test, y_test)"
      ],
      "execution_count": null,
      "outputs": [
        {
          "output_type": "stream",
          "text": [
            "/usr/local/lib/python3.6/dist-packages/ipykernel_launcher.py:3: DataConversionWarning: A column-vector y was passed when a 1d array was expected. Please change the shape of y to (n_samples,), for example using ravel().\n",
            "  This is separate from the ipykernel package so we can avoid doing imports until\n"
          ],
          "name": "stderr"
        },
        {
          "output_type": "stream",
          "text": [
            "Score on training data:  0.9999765923082324\n",
            "Score on test data:  0.9995505744220669\n",
            "[[71069     5]\n",
            " [   27   101]]\n",
            "              precision    recall  f1-score   support\n",
            "\n",
            "           0       1.00      1.00      1.00     71074\n",
            "           1       0.95      0.79      0.86       128\n",
            "\n",
            "    accuracy                           1.00     71202\n",
            "   macro avg       0.98      0.89      0.93     71202\n",
            "weighted avg       1.00      1.00      1.00     71202\n",
            "\n",
            "Fbeta score favoring precision: 0.91\n",
            "FBeta score favoring recall: 0.82\n",
            "roc_auc_score:0.894496075393252\n"
          ],
          "name": "stdout"
        },
        {
          "output_type": "execute_result",
          "data": {
            "text/plain": [
              "<sklearn.metrics._plot.confusion_matrix.ConfusionMatrixDisplay at 0x7f5d40498f98>"
            ]
          },
          "metadata": {
            "tags": []
          },
          "execution_count": 115
        },
        {
          "output_type": "display_data",
          "data": {
            "image/png": "[encoded data removed]",
            "text/plain": [
              "<Figure size 432x288 with 2 Axes>"
            ]
          },
          "metadata": {
            "tags": [],
            "needs_background": "light"
          }
        }
      ]
    },
    {
      "cell_type": "code",
      "metadata": {
        "id": "EaYx7GW0BkdR",
        "colab": {
          "base_uri": "https://localhost:8080/",
          "height": 623
        },
        "outputId": "b64c76da-315c-4a1a-cfe3-07852e89bf7f"
      },
      "source": [
        "rf = RandomForestClassifier(n_estimators = 22, random_state = 40, class_weight='balanced')\n",
        "\n",
        "rf.fit(X_train,y_train)\n",
        "\n",
        "rf_score = rf.score(X_test, y_test)\n",
        "rf_predictions = rf.predict(X_test)\n",
        "\n",
        "train_score = rf.score(X_train, y_train)\n",
        "test_score = rf.score(X_test, y_test)\n",
        "\n",
        "print('Score on training data: ', train_score)\n",
        "print('Score on test data: ', test_score)\n",
        "print(confusion_matrix(y_test, rf_predictions))\n",
        "print(classification_report(y_test, rf_predictions))\n",
        "\n",
        "fbeta_precision = fbeta_score(y_test, rf_predictions, 0.5)\n",
        "fbeta_recall = fbeta_score(y_test, rf_predictions, 2)\n",
        "print('Fbeta score favoring precision: {:.2f}'.format(fbeta_precision))\n",
        "print('FBeta score favoring recall: {:.2f}'.format(fbeta_recall))\n",
        "print(f'roc_auc_score:{roc_auc_score(y_test, rf_predictions)}')\n",
        "plot_confusion_matrix(rf, X_test, y_test)"
      ],
      "execution_count": null,
      "outputs": [
        {
          "output_type": "stream",
          "text": [
            "/usr/local/lib/python3.6/dist-packages/ipykernel_launcher.py:3: DataConversionWarning: A column-vector y was passed when a 1d array was expected. Please change the shape of y to (n_samples,), for example using ravel().\n",
            "  This is separate from the ipykernel package so we can avoid doing imports until\n"
          ],
          "name": "stderr"
        },
        {
          "output_type": "stream",
          "text": [
            "Score on training data:  0.999971910769879\n",
            "Score on test data:  0.9995084407741356\n",
            "[[71068     6]\n",
            " [   29    99]]\n",
            "              precision    recall  f1-score   support\n",
            "\n",
            "           0       1.00      1.00      1.00     71074\n",
            "           1       0.94      0.77      0.85       128\n",
            "\n",
            "    accuracy                           1.00     71202\n",
            "   macro avg       0.97      0.89      0.92     71202\n",
            "weighted avg       1.00      1.00      1.00     71202\n",
            "\n",
            "Fbeta score favoring precision: 0.90\n",
            "FBeta score favoring recall: 0.80\n",
            "roc_auc_score:0.8866765404719026\n"
          ],
          "name": "stdout"
        },
        {
          "output_type": "execute_result",
          "data": {
            "text/plain": [
              "<sklearn.metrics._plot.confusion_matrix.ConfusionMatrixDisplay at 0x7f5d45706898>"
            ]
          },
          "metadata": {
            "tags": []
          },
          "execution_count": 125
        },
        {
          "output_type": "display_data",
          "data": {
            "image/png": "[encoded data removed]",
            "text/plain": [
              "<Figure size 432x288 with 2 Axes>"
            ]
          },
          "metadata": {
            "tags": [],
            "needs_background": "light"
          }
        }
      ]
    },
    {
      "cell_type": "code",
      "metadata": {
        "id": "44ICiC5TC82i",
        "colab": {
          "base_uri": "https://localhost:8080/",
          "height": 623
        },
        "outputId": "10f789c6-b834-455b-c8e9-87e0b37b3b93"
      },
      "source": [
        "rf = RandomForestClassifier(random_state = 40)\n",
        "\n",
        "rf.fit(X_train,y_train)\n",
        "\n",
        "rf_score = rf.score(X_test, y_test)\n",
        "rf_predictions = rf.predict(X_test)\n",
        "\n",
        "train_score = rf.score(X_train, y_train)\n",
        "test_score = rf.score(X_test, y_test)\n",
        "\n",
        "print('Score on training data: ', train_score)\n",
        "print('Score on test data: ', test_score)\n",
        "print(confusion_matrix(y_test, rf_predictions))\n",
        "print(classification_report(y_test, rf_predictions))\n",
        "\n",
        "fbeta_precision = fbeta_score(y_test, rf_predictions, 0.5)\n",
        "fbeta_recall = fbeta_score(y_test, rf_predictions, 2)\n",
        "print('Fbeta score favoring precision: {:.2f}'.format(fbeta_precision))\n",
        "print('FBeta score favoring recall: {:.2f}'.format(fbeta_recall))\n",
        "print(f'roc_auc_score:{roc_auc_score(y_test, rf_predictions)}')\n",
        "plot_confusion_matrix(rf, X_test, y_test)"
      ],
      "execution_count": null,
      "outputs": [
        {
          "output_type": "stream",
          "text": [
            "/usr/local/lib/python3.6/dist-packages/ipykernel_launcher.py:3: DataConversionWarning: A column-vector y was passed when a 1d array was expected. Please change the shape of y to (n_samples,), for example using ravel().\n",
            "  This is separate from the ipykernel package so we can avoid doing imports until\n"
          ],
          "name": "stderr"
        },
        {
          "output_type": "stream",
          "text": [
            "Score on training data:  1.0\n",
            "Score on test data:  0.9995786635206876\n",
            "[[71070     4]\n",
            " [   26   102]]\n",
            "              precision    recall  f1-score   support\n",
            "\n",
            "           0       1.00      1.00      1.00     71074\n",
            "           1       0.96      0.80      0.87       128\n",
            "\n",
            "    accuracy                           1.00     71202\n",
            "   macro avg       0.98      0.90      0.94     71202\n",
            "weighted avg       1.00      1.00      1.00     71202\n",
            "\n",
            "Fbeta score favoring precision: 0.92\n",
            "FBeta score favoring recall: 0.83\n",
            "roc_auc_score:0.8984093603146016\n"
          ],
          "name": "stdout"
        },
        {
          "output_type": "execute_result",
          "data": {
            "text/plain": [
              "<sklearn.metrics._plot.confusion_matrix.ConfusionMatrixDisplay at 0x7f5d4078d160>"
            ]
          },
          "metadata": {
            "tags": []
          },
          "execution_count": 126
        },
        {
          "output_type": "display_data",
          "data": {
            "image/png": "[encoded data removed]",
            "text/plain": [
              "<Figure size 432x288 with 2 Axes>"
            ]
          },
          "metadata": {
            "tags": [],
            "needs_background": "light"
          }
        }
      ]
    },
    {
      "cell_type": "code",
      "metadata": {
        "id": "yLs7KHItF0ln",
        "colab": {
          "base_uri": "https://localhost:8080/",
          "height": 623
        },
        "outputId": "e8e15a28-80b7-4efb-c29b-b2a30b573b6a"
      },
      "source": [
        "rf = RandomForestClassifier(random_state = 40, bootstrap=True)\n",
        "\n",
        "rf.fit(X_train,y_train)\n",
        "\n",
        "rf_score = rf.score(X_test, y_test)\n",
        "rf_predictions = rf.predict(X_test)\n",
        "\n",
        "train_score = rf.score(X_train, y_train)\n",
        "test_score = rf.score(X_test, y_test)\n",
        "\n",
        "print('Score on training data: ', train_score)\n",
        "print('Score on test data: ', test_score)\n",
        "print(confusion_matrix(y_test, rf_predictions))\n",
        "print(classification_report(y_test, rf_predictions))\n",
        "\n",
        "fbeta_precision = fbeta_score(y_test, rf_predictions, 0.5)\n",
        "fbeta_recall = fbeta_score(y_test, rf_predictions, 2)\n",
        "print('Fbeta score favoring precision: {:.2f}'.format(fbeta_precision))\n",
        "print('FBeta score favoring recall: {:.2f}'.format(fbeta_recall))\n",
        "print(f'roc_auc_score:{roc_auc_score(y_test, rf_predictions)}')\n",
        "plot_confusion_matrix(rf, X_test, y_test)"
      ],
      "execution_count": null,
      "outputs": [
        {
          "output_type": "stream",
          "text": [
            "/usr/local/lib/python3.6/dist-packages/ipykernel_launcher.py:3: DataConversionWarning: A column-vector y was passed when a 1d array was expected. Please change the shape of y to (n_samples,), for example using ravel().\n",
            "  This is separate from the ipykernel package so we can avoid doing imports until\n"
          ],
          "name": "stderr"
        },
        {
          "output_type": "stream",
          "text": [
            "Score on training data:  1.0\n",
            "Score on test data:  0.9995786635206876\n",
            "[[71070     4]\n",
            " [   26   102]]\n",
            "              precision    recall  f1-score   support\n",
            "\n",
            "           0       1.00      1.00      1.00     71074\n",
            "           1       0.96      0.80      0.87       128\n",
            "\n",
            "    accuracy                           1.00     71202\n",
            "   macro avg       0.98      0.90      0.94     71202\n",
            "weighted avg       1.00      1.00      1.00     71202\n",
            "\n",
            "Fbeta score favoring precision: 0.92\n",
            "FBeta score favoring recall: 0.83\n",
            "roc_auc_score:0.8984093603146016\n"
          ],
          "name": "stdout"
        },
        {
          "output_type": "execute_result",
          "data": {
            "text/plain": [
              "<sklearn.metrics._plot.confusion_matrix.ConfusionMatrixDisplay at 0x7f5d40295668>"
            ]
          },
          "metadata": {
            "tags": []
          },
          "execution_count": 127
        },
        {
          "output_type": "display_data",
          "data": {
            "image/png": "[encoded data removed]",
            "text/plain": [
              "<Figure size 432x288 with 2 Axes>"
            ]
          },
          "metadata": {
            "tags": [],
            "needs_background": "light"
          }
        }
      ]
    },
    {
      "cell_type": "code",
      "metadata": {
        "colab": {
          "base_uri": "https://localhost:8080/",
          "height": 623
        },
        "id": "lX5xRitt6U5t",
        "outputId": "516b7d6d-4284-4b00-9169-5e87294f48f1"
      },
      "source": [
        "rf = RandomForestClassifier(random_state = 40,class_weight='balanced', bootstrap=True)\n",
        "\n",
        "rf.fit(X_train,y_train)\n",
        "\n",
        "rf_score = rf.score(X_test, y_test)\n",
        "rf_predictions = rf.predict(X_test)\n",
        "\n",
        "train_score = rf.score(X_train, y_train)\n",
        "test_score = rf.score(X_test, y_test)\n",
        "\n",
        "print('Score on training data: ', train_score)\n",
        "print('Score on test data: ', test_score)\n",
        "print(confusion_matrix(y_test, rf_predictions))\n",
        "print(classification_report(y_test, rf_predictions))\n",
        "\n",
        "fbeta_precision = fbeta_score(y_test, rf_predictions, 0.5)\n",
        "fbeta_recall = fbeta_score(y_test, rf_predictions, 2)\n",
        "print('Fbeta score favoring precision: {:.2f}'.format(fbeta_precision))\n",
        "print('FBeta score favoring recall: {:.2f}'.format(fbeta_recall))\n",
        "print(f'roc_auc_score:{roc_auc_score(y_test, rf_predictions)}')\n",
        "plot_confusion_matrix(rf, X_test, y_test)"
      ],
      "execution_count": null,
      "outputs": [
        {
          "output_type": "stream",
          "text": [
            "/usr/local/lib/python3.6/dist-packages/ipykernel_launcher.py:3: DataConversionWarning: A column-vector y was passed when a 1d array was expected. Please change the shape of y to (n_samples,), for example using ravel().\n",
            "  This is separate from the ipykernel package so we can avoid doing imports until\n"
          ],
          "name": "stderr"
        },
        {
          "output_type": "stream",
          "text": [
            "Score on training data:  0.9999953184616465\n",
            "Score on test data:  0.9995365298727564\n",
            "[[71080     3]\n",
            " [   30    89]]\n",
            "              precision    recall  f1-score   support\n",
            "\n",
            "           0       1.00      1.00      1.00     71083\n",
            "           1       0.97      0.75      0.84       119\n",
            "\n",
            "    accuracy                           1.00     71202\n",
            "   macro avg       0.98      0.87      0.92     71202\n",
            "weighted avg       1.00      1.00      1.00     71202\n",
            "\n",
            "Fbeta score favoring precision: 0.91\n",
            "FBeta score favoring recall: 0.78\n",
            "roc_auc_score:0.8739284777400121\n"
          ],
          "name": "stdout"
        },
        {
          "output_type": "execute_result",
          "data": {
            "text/plain": [
              "<sklearn.metrics._plot.confusion_matrix.ConfusionMatrixDisplay at 0x7f1583abad30>"
            ]
          },
          "metadata": {
            "tags": []
          },
          "execution_count": 11
        },
        {
          "output_type": "display_data",
          "data": {
            "image/png": "[encoded data removed]",
            "text/plain": [
              "<Figure size 432x288 with 2 Axes>"
            ]
          },
          "metadata": {
            "tags": [],
            "needs_background": "light"
          }
        }
      ]
    },
    {
      "cell_type": "markdown",
      "metadata": {
        "id": "FjBDHac0a9RL"
      },
      "source": [
        "No version of the RandomForest did better than a single DecidionTree. "
      ]
    },
    {
      "cell_type": "markdown",
      "metadata": {
        "id": "GWmvdpakbqcF"
      },
      "source": [
        "KNearestNeighbbor"
      ]
    },
    {
      "cell_type": "code",
      "metadata": {
        "id": "4Wj_dFxTQME0",
        "colab": {
          "base_uri": "https://localhost:8080/",
          "height": 623
        },
        "outputId": "bc707226-bd78-41ec-ca84-606bb0b91db9"
      },
      "source": [
        "knn = KNeighborsClassifier(n_neighbors=7)\n",
        "\n",
        "# Then  fit the model\n",
        "knn.fit(X_train, y_train)\n",
        "\n",
        "# How well did we do\n",
        "knn_7_score = knn.score(X_test, y_test)\n",
        "knn_7_predictions = knn.predict(X_test)\n",
        "\n",
        "train_score = knn.score(X_train, y_train)\n",
        "test_score = knn.score(X_test, y_test)\n",
        "\n",
        "print('Score on training data: ', train_score)\n",
        "print('Score on test data: ', test_score)\n",
        "print(confusion_matrix(y_test, knn_7_predictions))\n",
        "print(classification_report(y_test, knn_7_predictions))\n",
        "\n",
        "fbeta_precision = fbeta_score(y_test, knn_7_predictions, 0.5)\n",
        "fbeta_recall = fbeta_score(y_test, knn_7_predictions, 2)\n",
        "print('Fbeta score favoring precision: {:.2f}'.format(fbeta_precision))\n",
        "print('FBeta score favoring recall: {:.2f}'.format(fbeta_recall))\n",
        "print(f'roc_auc_score:{roc_auc_score(y_test, knn_7_predictions)}')\n",
        "plot_confusion_matrix(knn, X_test, y_test)"
      ],
      "execution_count": null,
      "outputs": [
        {
          "output_type": "stream",
          "text": [
            "/usr/local/lib/python3.6/dist-packages/ipykernel_launcher.py:4: DataConversionWarning: A column-vector y was passed when a 1d array was expected. Please change the shape of y to (n_samples, ), for example using ravel().\n",
            "  after removing the cwd from sys.path.\n"
          ],
          "name": "stderr"
        },
        {
          "output_type": "stream",
          "text": [
            "Score on training data:  0.998389550806395\n",
            "Score on test data:  0.9982865649841297\n",
            "[[71074     0]\n",
            " [  122     6]]\n",
            "              precision    recall  f1-score   support\n",
            "\n",
            "           0       1.00      1.00      1.00     71074\n",
            "           1       1.00      0.05      0.09       128\n",
            "\n",
            "    accuracy                           1.00     71202\n",
            "   macro avg       1.00      0.52      0.54     71202\n",
            "weighted avg       1.00      1.00      1.00     71202\n",
            "\n",
            "Fbeta score favoring precision: 0.20\n",
            "FBeta score favoring recall: 0.06\n",
            "roc_auc_score:0.5234375\n"
          ],
          "name": "stdout"
        },
        {
          "output_type": "execute_result",
          "data": {
            "text/plain": [
              "<sklearn.metrics._plot.confusion_matrix.ConfusionMatrixDisplay at 0x7f5d4045be80>"
            ]
          },
          "metadata": {
            "tags": []
          },
          "execution_count": 114
        },
        {
          "output_type": "display_data",
          "data": {
            "image/png": "[encoded data removed]",
            "text/plain": [
              "<Figure size 432x288 with 2 Axes>"
            ]
          },
          "metadata": {
            "tags": [],
            "needs_background": "light"
          }
        }
      ]
    },
    {
      "cell_type": "markdown",
      "metadata": {
        "id": "ZfvRgEU7bETI"
      },
      "source": [
        "KNearestNeighbor was not expect to perform well as the data is highly unbalanced."
      ]
    },
    {
      "cell_type": "markdown",
      "metadata": {
        "id": "MbCNu1i33BJk"
      },
      "source": [
        "###SVM"
      ]
    },
    {
      "cell_type": "code",
      "metadata": {
        "id": "tYS6Hro5b4wC",
        "colab": {
          "base_uri": "https://localhost:8080/",
          "height": 622
        },
        "outputId": "99711a31-f4fe-4707-c6d2-2d5f8feb7bc4"
      },
      "source": [
        "#The misclassification or error term tells the SVM optimization how much error is bearable. \n",
        "#This is how you can control the trade-off between decision boundary and misclassification term. \n",
        "#A smaller value of C creates a small-margin hyperplane and a larger value of C creates a larger-margin hyperplane.\n",
        "\n",
        "#Gamma: A lower value of Gamma will loosely fit the training dataset, whereas a higher value of gamma will exactly fit the training dataset, which causes over-fitting. \n",
        "\n",
        "clf = svm.SVC(max_iter = 500, kernel='linear')\n",
        "clf.fit(X_train, y_train)\n",
        "clf_score = clf.score(X_test, y_test)\n",
        "clf_predictions = clf.predict(X_test)\n",
        "\n",
        "train_score = clf.score(X_train, y_train)\n",
        "test_score = clf.score(X_test, y_test)\n",
        "\n",
        "print('Score on training data: ', train_score)\n",
        "print('Score on test data: ', test_score)\n",
        "print(classification_report(y_test, clf_predictions))\n",
        "\n",
        "fbeta_precision = fbeta_score(y_test, clf_predictions, 0.5)\n",
        "fbeta_recall = fbeta_score(y_test, clf_predictions, 2)\n",
        "print('Fbeta score favoring precision: {:.2f}'.format(fbeta_precision))\n",
        "print('FBeta score favoring recall: {:.2f}'.format(fbeta_recall))\n",
        "print(f'roc_auc_score:{roc_auc_score(y_test, clf_predictions)}')\n",
        "plot_confusion_matrix(clf, X_test, y_test)"
      ],
      "execution_count": null,
      "outputs": [
        {
          "output_type": "stream",
          "text": [
            "/usr/local/lib/python3.6/dist-packages/sklearn/utils/validation.py:760: DataConversionWarning: A column-vector y was passed when a 1d array was expected. Please change the shape of y to (n_samples, ), for example using ravel().\n",
            "  y = column_or_1d(y, warn=True)\n",
            "/usr/local/lib/python3.6/dist-packages/sklearn/svm/_base.py:231: ConvergenceWarning: Solver terminated early (max_iter=500).  Consider pre-processing your data with StandardScaler or MinMaxScaler.\n",
            "  % self.max_iter, ConvergenceWarning)\n"
          ],
          "name": "stderr"
        },
        {
          "output_type": "stream",
          "text": [
            "Score on training data:  0.5889422064090261\n",
            "Score on test data:  0.5871323839217999\n",
            "              precision    recall  f1-score   support\n",
            "\n",
            "           0       1.00      0.59      0.74     71074\n",
            "           1       0.00      0.33      0.00       128\n",
            "\n",
            "    accuracy                           0.59     71202\n",
            "   macro avg       0.50      0.46      0.37     71202\n",
            "weighted avg       1.00      0.59      0.74     71202\n",
            "\n",
            "Fbeta score favoring precision: 0.00\n",
            "FBeta score favoring recall: 0.01\n",
            "roc_auc_score:0.4578619203224808\n"
          ],
          "name": "stdout"
        },
        {
          "output_type": "execute_result",
          "data": {
            "text/plain": [
              "<sklearn.metrics._plot.confusion_matrix.ConfusionMatrixDisplay at 0x7f5d401890b8>"
            ]
          },
          "metadata": {
            "tags": []
          },
          "execution_count": 132
        },
        {
          "output_type": "display_data",
          "data": {
            "image/png": "[encoded data removed]",
            "text/plain": [
              "<Figure size 432x288 with 2 Axes>"
            ]
          },
          "metadata": {
            "tags": [],
            "needs_background": "light"
          }
        }
      ]
    },
    {
      "cell_type": "code",
      "metadata": {
        "id": "El9dxd0C3OYT",
        "colab": {
          "base_uri": "https://localhost:8080/",
          "height": 657
        },
        "outputId": "770516d6-bc45-4600-8402-857dfb77ac54"
      },
      "source": [
        "clf = svm.SVC(max_iter = 500, kernel='poly')\n",
        "clf.fit(X_train, y_train)\n",
        "clf_score = clf.score(X_test, y_test)\n",
        "clf_predictions = clf.predict(X_test)\n",
        "\n",
        "train_score = clf.score(X_train, y_train)\n",
        "test_score = clf.score(X_test, y_test)\n",
        "\n",
        "print('Score on training data: ', train_score)\n",
        "print('Score on test data: ', test_score)\n",
        "print(classification_report(y_test, clf_predictions))\n",
        "\n",
        "fbeta_precision = fbeta_score(y_test, clf_predictions, 0.5)\n",
        "fbeta_recall = fbeta_score(y_test, clf_predictions, 2)\n",
        "print('Fbeta score favoring precision: {:.2f}'.format(fbeta_precision))\n",
        "print('FBeta score favoring recall: {:.2f}'.format(fbeta_recall))\n",
        "print(f'roc_auc_score:{roc_auc_score(y_test, clf_predictions)}')\n",
        "plot_confusion_matrix(clf, X_test, y_test)"
      ],
      "execution_count": null,
      "outputs": [
        {
          "output_type": "stream",
          "text": [
            "/usr/local/lib/python3.6/dist-packages/sklearn/utils/validation.py:760: DataConversionWarning: A column-vector y was passed when a 1d array was expected. Please change the shape of y to (n_samples, ), for example using ravel().\n",
            "  y = column_or_1d(y, warn=True)\n",
            "/usr/local/lib/python3.6/dist-packages/sklearn/svm/_base.py:231: ConvergenceWarning: Solver terminated early (max_iter=500).  Consider pre-processing your data with StandardScaler or MinMaxScaler.\n",
            "  % self.max_iter, ConvergenceWarning)\n"
          ],
          "name": "stderr"
        },
        {
          "output_type": "stream",
          "text": [
            "Score on training data:  0.9982959200393249\n",
            "Score on test data:  0.9982022976882672\n",
            "              precision    recall  f1-score   support\n",
            "\n",
            "           0       1.00      1.00      1.00     71074\n",
            "           1       0.00      0.00      0.00       128\n",
            "\n",
            "    accuracy                           1.00     71202\n",
            "   macro avg       0.50      0.50      0.50     71202\n",
            "weighted avg       1.00      1.00      1.00     71202\n",
            "\n",
            "Fbeta score favoring precision: 0.00\n",
            "FBeta score favoring recall: 0.00\n",
            "roc_auc_score:0.5\n"
          ],
          "name": "stdout"
        },
        {
          "output_type": "stream",
          "text": [
            "/usr/local/lib/python3.6/dist-packages/sklearn/metrics/_classification.py:1272: UndefinedMetricWarning: Precision and F-score are ill-defined and being set to 0.0 in labels with no predicted samples. Use `zero_division` parameter to control this behavior.\n",
            "  _warn_prf(average, modifier, msg_start, len(result))\n"
          ],
          "name": "stderr"
        },
        {
          "output_type": "execute_result",
          "data": {
            "text/plain": [
              "<sklearn.metrics._plot.confusion_matrix.ConfusionMatrixDisplay at 0x7f5d40117780>"
            ]
          },
          "metadata": {
            "tags": []
          },
          "execution_count": 134
        },
        {
          "output_type": "display_data",
          "data": {
            "image/png": "[encoded data removed]",
            "text/plain": [
              "<Figure size 432x288 with 2 Axes>"
            ]
          },
          "metadata": {
            "tags": [],
            "needs_background": "light"
          }
        }
      ]
    },
    {
      "cell_type": "code",
      "metadata": {
        "id": "9S9pChaNaa9S",
        "colab": {
          "base_uri": "https://localhost:8080/",
          "height": 623
        },
        "outputId": "28242859-602e-4584-e65c-d8dd3598bc5c"
      },
      "source": [
        "clf = svm.SVC(max_iter=500, kernel='rbf')\n",
        "clf.fit(X_train, y_train)\n",
        "clf_score = clf.score(X_test, y_test)\n",
        "clf_predictions = clf.predict(X_test)\n",
        "\n",
        "train_score = clf.score(X_train, y_train)\n",
        "test_score = clf.score(X_test, y_test)\n",
        "\n",
        "print('Score on training data: ', train_score)\n",
        "print('Score on test data: ', test_score)\n",
        "print(classification_report(y_test, clf_predictions))\n",
        "\n",
        "fbeta_precision = fbeta_score(y_test, clf_predictions, 0.5)\n",
        "fbeta_recall = fbeta_score(y_test, clf_predictions, 2)\n",
        "print('Fbeta score favoring precision: {:.2f}'.format(fbeta_precision))\n",
        "print('FBeta score favoring recall: {:.2f}'.format(fbeta_recall))\n",
        "print(f'roc_auc_score:{roc_auc_score(y_test, clf_predictions)}')\n",
        "plot_confusion_matrix(clf, X_test, y_test)"
      ],
      "execution_count": null,
      "outputs": [
        {
          "output_type": "stream",
          "text": [
            "/usr/local/lib/python3.6/dist-packages/sklearn/utils/validation.py:760: DataConversionWarning: A column-vector y was passed when a 1d array was expected. Please change the shape of y to (n_samples, ), for example using ravel().\n",
            "  y = column_or_1d(y, warn=True)\n"
          ],
          "name": "stderr"
        },
        {
          "output_type": "stream",
          "text": [
            "Score on training data:  0.9982959200393249\n",
            "Score on test data:  0.9982022976882672\n",
            "              precision    recall  f1-score   support\n",
            "\n",
            "           0       1.00      1.00      1.00     71074\n",
            "           1       0.00      0.00      0.00       128\n",
            "\n",
            "    accuracy                           1.00     71202\n",
            "   macro avg       0.50      0.50      0.50     71202\n",
            "weighted avg       1.00      1.00      1.00     71202\n",
            "\n",
            "Fbeta score favoring precision: 0.00\n",
            "FBeta score favoring recall: 0.00\n",
            "roc_auc_score:0.5\n"
          ],
          "name": "stdout"
        },
        {
          "output_type": "stream",
          "text": [
            "/usr/local/lib/python3.6/dist-packages/sklearn/metrics/_classification.py:1272: UndefinedMetricWarning: Precision and F-score are ill-defined and being set to 0.0 in labels with no predicted samples. Use `zero_division` parameter to control this behavior.\n",
            "  _warn_prf(average, modifier, msg_start, len(result))\n"
          ],
          "name": "stderr"
        },
        {
          "output_type": "execute_result",
          "data": {
            "text/plain": [
              "<sklearn.metrics._plot.confusion_matrix.ConfusionMatrixDisplay at 0x7f5d40117898>"
            ]
          },
          "metadata": {
            "tags": []
          },
          "execution_count": 135
        },
        {
          "output_type": "display_data",
          "data": {
            "image/png": "[encoded data removed]",
            "text/plain": [
              "<Figure size 432x288 with 2 Axes>"
            ]
          },
          "metadata": {
            "tags": [],
            "needs_background": "light"
          }
        }
      ]
    },
    {
      "cell_type": "code",
      "metadata": {
        "id": "7Cwpz_qAeC7N",
        "colab": {
          "base_uri": "https://localhost:8080/",
          "height": 622
        },
        "outputId": "89f746e5-f642-4d82-a286-e86be3e82f47"
      },
      "source": [
        "#The misclassification or error term tells the SVM optimization how much error is bearable. \n",
        "#This is how you can control the trade-off between decision boundary and misclassification term. \n",
        "#A smaller value of C creates a small-margin hyperplane and a larger value of C creates a larger-margin hyperplane.\n",
        "\n",
        "#Gamma: A lower value of Gamma will loosely fit the training dataset, whereas a higher value of gamma will exactly fit the training dataset, which causes over-fitting. \n",
        "\n",
        "clf = svm.SVC(max_iter = 500, kernel='linear', C=10)\n",
        "clf.fit(X_train, y_train)\n",
        "clf_score = clf.score(X_test, y_test)\n",
        "clf_predictions = clf.predict(X_test)\n",
        "\n",
        "train_score = clf.score(X_train, y_train)\n",
        "test_score = clf.score(X_test, y_test)\n",
        "\n",
        "print('Score on training data: ', train_score)\n",
        "print('Score on test data: ', test_score)\n",
        "print(classification_report(y_test, clf_predictions))\n",
        "\n",
        "fbeta_precision = fbeta_score(y_test, clf_predictions, 0.5)\n",
        "fbeta_recall = fbeta_score(y_test, clf_predictions, 2)\n",
        "print('Fbeta score favoring precision: {:.2f}'.format(fbeta_precision))\n",
        "print('FBeta score favoring recall: {:.2f}'.format(fbeta_recall))\n",
        "print(f'roc_auc_score:{roc_auc_score(y_test, clf_predictions)}')\n",
        "plot_confusion_matrix(clf, X_test, y_test)"
      ],
      "execution_count": null,
      "outputs": [
        {
          "output_type": "stream",
          "text": [
            "/usr/local/lib/python3.6/dist-packages/sklearn/utils/validation.py:760: DataConversionWarning: A column-vector y was passed when a 1d array was expected. Please change the shape of y to (n_samples, ), for example using ravel().\n",
            "  y = column_or_1d(y, warn=True)\n",
            "/usr/local/lib/python3.6/dist-packages/sklearn/svm/_base.py:231: ConvergenceWarning: Solver terminated early (max_iter=500).  Consider pre-processing your data with StandardScaler or MinMaxScaler.\n",
            "  % self.max_iter, ConvergenceWarning)\n"
          ],
          "name": "stderr"
        },
        {
          "output_type": "stream",
          "text": [
            "Score on training data:  0.5889422064090261\n",
            "Score on test data:  0.5871323839217999\n",
            "              precision    recall  f1-score   support\n",
            "\n",
            "           0       1.00      0.59      0.74     71074\n",
            "           1       0.00      0.33      0.00       128\n",
            "\n",
            "    accuracy                           0.59     71202\n",
            "   macro avg       0.50      0.46      0.37     71202\n",
            "weighted avg       1.00      0.59      0.74     71202\n",
            "\n",
            "Fbeta score favoring precision: 0.00\n",
            "FBeta score favoring recall: 0.01\n",
            "roc_auc_score:0.4578619203224808\n"
          ],
          "name": "stdout"
        },
        {
          "output_type": "execute_result",
          "data": {
            "text/plain": [
              "<sklearn.metrics._plot.confusion_matrix.ConfusionMatrixDisplay at 0x7f5d40013cc0>"
            ]
          },
          "metadata": {
            "tags": []
          },
          "execution_count": 141
        },
        {
          "output_type": "display_data",
          "data": {
            "image/png": "[encoded data removed]",
            "text/plain": [
              "<Figure size 432x288 with 2 Axes>"
            ]
          },
          "metadata": {
            "tags": [],
            "needs_background": "light"
          }
        }
      ]
    },
    {
      "cell_type": "markdown",
      "metadata": {
        "id": "2mDsLlPpf0bc"
      },
      "source": [
        "No version of the SVC was able to perform well."
      ]
    },
    {
      "cell_type": "code",
      "metadata": {
        "id": "1By6ukTzewA9"
      },
      "source": [
        ""
      ],
      "execution_count": null,
      "outputs": []
    },
    {
      "cell_type": "markdown",
      "metadata": {
        "id": "JFOty6WOf5cz"
      },
      "source": [
        "#Conclusion\n",
        "\n",
        "The LogisticRegression with class_wheight='balanced' model performed the best. There is a possible problem with the number of false positives predicted. "
      ]
    }
  ]
}