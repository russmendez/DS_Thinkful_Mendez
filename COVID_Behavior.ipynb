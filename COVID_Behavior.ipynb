{
  "nbformat": 4,
  "nbformat_minor": 0,
  "metadata": {
    "colab": {
      "name": "COVID Behavior.ipynb",
      "provenance": [],
      "authorship_tag": "ABX9TyNi8nb18uA0eNBtHqxlpeVM",
      "include_colab_link": true
    },
    "kernelspec": {
      "name": "python3",
      "display_name": "Python 3"
    }
  },
  "cells": [
    {
      "cell_type": "markdown",
      "metadata": {
        "id": "view-in-github",
        "colab_type": "text"
      },
      "source": [
        "<a href=\"https://colab.research.google.com/github/russmendez/DS_Thinkful_Mendez/blob/master/COVID_Behavior.ipynb\" target=\"_parent\"><img src=\"https://colab.research.google.com/assets/colab-badge.svg\" alt=\"Open In Colab\"/></a>"
      ]
    },
    {
      "cell_type": "code",
      "metadata": {
        "id": "hUE8WUtKRbt9"
      },
      "source": [
        "#https://www.imperial.ac.uk/global-health-innovation/our-research/covid-19-response/covid-19-behaviour-tracker/\n",
        "#https://github.com/YouGov-Data/covid-19-tracker/tree/master/data "
      ],
      "execution_count": null,
      "outputs": []
    },
    {
      "cell_type": "markdown",
      "metadata": {
        "id": "skRLOp5buP90"
      },
      "source": [
        "#Setup"
      ]
    },
    {
      "cell_type": "code",
      "metadata": {
        "id": "H_HZJKPvMgW_"
      },
      "source": [
        "import pandas as pd\n",
        "import numpy as np \n",
        "import matplotlib.pyplot as plt\n",
        "import seaborn as sns\n",
        "from scipy import stats\n",
        "from pandas import DataFrame\n",
        "from sklearn.model_selection import train_test_split\n",
        "from sklearn.linear_model import LogisticRegression\n",
        "from sklearn.neighbors import KNeighborsClassifier\n",
        "from sklearn.ensemble import RandomForestClassifier\n",
        "from sklearn.ensemble import RandomForestRegressor\n",
        "from sklearn.dummy import DummyClassifier\n",
        "from sklearn.linear_model import LinearRegression\n",
        "from sklearn import preprocessing\n",
        "from sklearn.metrics import classification_report, confusion_matrix, accuracy_score\n",
        "from sklearn import metrics\n",
        "from sklearn.datasets import make_classification\n",
        "\n",
        "\n",
        "#from sklearn.metrics import plot_confusion_matrix"
      ],
      "execution_count": null,
      "outputs": []
    },
    {
      "cell_type": "code",
      "metadata": {
        "id": "cy6cQNr65OKQ",
        "colab": {
          "base_uri": "https://localhost:8080/"
        },
        "outputId": "b28a5348-483e-4e07-b219-2ca9698d6577"
      },
      "source": [
        "data_1 = pd.read_csv('https://raw.githubusercontent.com/YouGov-Data/covid-19-tracker/master/data/australia.csv')\n",
        "data_2 = pd.read_csv('https://raw.githubusercontent.com/YouGov-Data/covid-19-tracker/master/data/brazil.csv')\n",
        "data_3 = pd.read_csv('https://raw.githubusercontent.com/YouGov-Data/covid-19-tracker/master/data/canada.csv')\n",
        "data_4 = pd.read_csv('https://raw.githubusercontent.com/YouGov-Data/covid-19-tracker/master/data/china.csv')\n",
        "data_5 = pd.read_csv('https://raw.githubusercontent.com/YouGov-Data/covid-19-tracker/master/data/denmark.csv')\n",
        "data_6 = pd.read_csv('https://raw.githubusercontent.com/YouGov-Data/covid-19-tracker/master/data/finland.csv')\n",
        "data_7 = pd.read_csv('https://raw.githubusercontent.com/YouGov-Data/covid-19-tracker/master/data/france.csv')\n",
        "data_8 = pd.read_csv('https://raw.githubusercontent.com/YouGov-Data/covid-19-tracker/master/data/germany.csv')\n",
        "data_9 = pd.read_csv('https://raw.githubusercontent.com/YouGov-Data/covid-19-tracker/master/data/hong-kong.csv')\n",
        "data_10 = pd.read_csv('https://raw.githubusercontent.com/YouGov-Data/covid-19-tracker/master/data/india.csv')\n",
        "data_11 = pd.read_csv('https://raw.githubusercontent.com/YouGov-Data/covid-19-tracker/master/data/indonesia.csv')\n",
        "data_12 = pd.read_csv('https://raw.githubusercontent.com/YouGov-Data/covid-19-tracker/master/data/italy.csv')\n",
        "data_13 = pd.read_csv('https://raw.githubusercontent.com/YouGov-Data/covid-19-tracker/master/data/japan.csv')\n",
        "data_14 = pd.read_csv('https://raw.githubusercontent.com/YouGov-Data/covid-19-tracker/master/data/malaysia.csv')\n",
        "data_15 = pd.read_csv('https://raw.githubusercontent.com/YouGov-Data/covid-19-tracker/master/data/mexico.csv')\n",
        "data_16 = pd.read_csv('https://raw.githubusercontent.com/YouGov-Data/covid-19-tracker/master/data/netherlands.csv')\n",
        "data_17 = pd.read_csv('https://raw.githubusercontent.com/YouGov-Data/covid-19-tracker/master/data/norway.csv')\n",
        "data_18 = pd.read_csv('https://raw.githubusercontent.com/YouGov-Data/covid-19-tracker/master/data/saudi-arabia.csv')\n",
        "data_19 = pd.read_csv('https://raw.githubusercontent.com/YouGov-Data/covid-19-tracker/master/data/singapore.csv')\n",
        "data_20 = pd.read_csv('https://raw.githubusercontent.com/YouGov-Data/covid-19-tracker/master/data/south-korea.csv')\n",
        "data_21 = pd.read_csv('https://raw.githubusercontent.com/YouGov-Data/covid-19-tracker/master/data/spain.csv')\n",
        "data_22 = pd.read_csv('https://raw.githubusercontent.com/YouGov-Data/covid-19-tracker/master/data/sweden.csv')\n",
        "data_23 = pd.read_csv('https://raw.githubusercontent.com/YouGov-Data/covid-19-tracker/master/data/taiwan.csv')\n",
        "data_24 = pd.read_csv('https://raw.githubusercontent.com/YouGov-Data/covid-19-tracker/master/data/thailand.csv')\n",
        "data_25 = pd.read_csv('https://raw.githubusercontent.com/YouGov-Data/covid-19-tracker/master/data/united-arab-emirates.csv')\n",
        "data_26 = pd.read_csv('https://raw.githubusercontent.com/YouGov-Data/covid-19-tracker/master/data/united-kingdom1.csv')\n",
        "data_27 = pd.read_csv('https://raw.githubusercontent.com/YouGov-Data/covid-19-tracker/master/data/united-kingdom2.csv')\n",
        "data_28 = pd.read_csv('https://raw.githubusercontent.com/YouGov-Data/covid-19-tracker/master/data/united-states.csv')\n",
        "data_29 = pd.read_csv('https://raw.githubusercontent.com/YouGov-Data/covid-19-tracker/master/data/vietnam.csv')"
      ],
      "execution_count": null,
      "outputs": [
        {
          "output_type": "stream",
          "text": [
            "/usr/local/lib/python3.6/dist-packages/IPython/core/interactiveshell.py:2718: DtypeWarning: Columns (81) have mixed types.Specify dtype option on import or set low_memory=False.\n",
            "  interactivity=interactivity, compiler=compiler, result=result)\n",
            "/usr/local/lib/python3.6/dist-packages/IPython/core/interactiveshell.py:2718: DtypeWarning: Columns (78,103) have mixed types.Specify dtype option on import or set low_memory=False.\n",
            "  interactivity=interactivity, compiler=compiler, result=result)\n",
            "/usr/local/lib/python3.6/dist-packages/IPython/core/interactiveshell.py:2718: DtypeWarning: Columns (78) have mixed types.Specify dtype option on import or set low_memory=False.\n",
            "  interactivity=interactivity, compiler=compiler, result=result)\n",
            "/usr/local/lib/python3.6/dist-packages/IPython/core/interactiveshell.py:2718: DtypeWarning: Columns (84) have mixed types.Specify dtype option on import or set low_memory=False.\n",
            "  interactivity=interactivity, compiler=compiler, result=result)\n",
            "/usr/local/lib/python3.6/dist-packages/IPython/core/interactiveshell.py:2718: DtypeWarning: Columns (76,84) have mixed types.Specify dtype option on import or set low_memory=False.\n",
            "  interactivity=interactivity, compiler=compiler, result=result)\n",
            "/usr/local/lib/python3.6/dist-packages/IPython/core/interactiveshell.py:2718: DtypeWarning: Columns (3,4,5,41,78,91) have mixed types.Specify dtype option on import or set low_memory=False.\n",
            "  interactivity=interactivity, compiler=compiler, result=result)\n",
            "/usr/local/lib/python3.6/dist-packages/IPython/core/interactiveshell.py:2718: DtypeWarning: Columns (3,4,5,41,75,78) have mixed types.Specify dtype option on import or set low_memory=False.\n",
            "  interactivity=interactivity, compiler=compiler, result=result)\n",
            "/usr/local/lib/python3.6/dist-packages/IPython/core/interactiveshell.py:2718: DtypeWarning: Columns (78,89) have mixed types.Specify dtype option on import or set low_memory=False.\n",
            "  interactivity=interactivity, compiler=compiler, result=result)\n",
            "/usr/local/lib/python3.6/dist-packages/IPython/core/interactiveshell.py:2718: DtypeWarning: Columns (103) have mixed types.Specify dtype option on import or set low_memory=False.\n",
            "  interactivity=interactivity, compiler=compiler, result=result)\n",
            "/usr/local/lib/python3.6/dist-packages/IPython/core/interactiveshell.py:2718: DtypeWarning: Columns (81,90) have mixed types.Specify dtype option on import or set low_memory=False.\n",
            "  interactivity=interactivity, compiler=compiler, result=result)\n"
          ],
          "name": "stderr"
        }
      ]
    },
    {
      "cell_type": "code",
      "metadata": {
        "id": "b_oafVkFqKH1",
        "colab": {
          "base_uri": "https://localhost:8080/"
        },
        "outputId": "5a1b1a1c-81f1-4952-9edf-2c5566bb0a35"
      },
      "source": [
        "df_list = [data_1, data_2, data_3, data_4, data_5, data_6, data_7, data_8, data_9, data_10, data_11, data_12, data_13,\n",
        "               data_14, data_15, data_16, data_17, data_18, data_19, data_20, data_21, data_22, data_23, data_24, data_25, \n",
        "               data_26, data_27, data_28, data_29\n",
        "               ]\n",
        "\n",
        "country_list = ['Australia', 'Brazil', 'Canada', 'China', 'Denmark', 'Finland', 'France', 'Germany',\n",
        "                'Hong Kong', 'India', 'Indonesia', 'Italy', 'Japan', 'Malaysia', 'Mexico', 'Netherlands',\n",
        "                'Norway', 'Saudi Arabia', 'Singapore', 'South Korea', 'Spain', 'Sweeden', 'Taiwan', 'Thailand',\n",
        "                'United Arab Emirates', 'United Kingdom', 'United Kingdom', 'United States', 'Vietnam']\n",
        "\n",
        "x = 0\n",
        "for i in range(0,29):\n",
        "  df = df_list[x]\n",
        "  df['Country'] = country_list[x] \n",
        "  x = x+1\n",
        " \n",
        "# Input == covid_df = pd.concat(df_list) ==> without reset_index\n",
        "# Output == Int64Index: 401084 entries, 0 to 12073            \n",
        "master_df = pd.concat(df_list)\n",
        "covid_df = master_df.copy()\n",
        "covid_df = covid_df.reset_index()\n",
        "print(covid_df.info())\n",
        "print(covid_df.Country.unique())\n",
        "print(covid_df.Country.nunique())\n",
        "print(covid_df.Country.count())"
      ],
      "execution_count": null,
      "outputs": [
        {
          "output_type": "stream",
          "text": [
            "<class 'pandas.core.frame.DataFrame'>\n",
            "RangeIndex: 404088 entries, 0 to 404087\n",
            "Columns: 401 entries, index to UAEEmirates\n",
            "dtypes: float64(3), int64(2), object(396)\n",
            "memory usage: 1.2+ GB\n",
            "None\n",
            "['Australia' 'Brazil' 'Canada' 'China' 'Denmark' 'Finland' 'France'\n",
            " 'Germany' 'Hong Kong' 'India' 'Indonesia' 'Italy' 'Japan' 'Malaysia'\n",
            " 'Mexico' 'Netherlands' 'Norway' 'Saudi Arabia' 'Singapore' 'South Korea'\n",
            " 'Spain' 'Sweeden' 'Taiwan' 'Thailand' 'United Arab Emirates'\n",
            " 'United Kingdom' 'United States' 'Vietnam']\n",
            "28\n",
            "404088\n"
          ],
          "name": "stdout"
        }
      ]
    },
    {
      "cell_type": "markdown",
      "metadata": {
        "id": "u6K8_7jooGu-"
      },
      "source": [
        "# Data Cleaning and Visualizations"
      ]
    },
    {
      "cell_type": "markdown",
      "metadata": {
        "id": "tn0os_5DiQIV"
      },
      "source": [
        "### Feature Selection and Initial Visualizations\n",
        "\n",
        "i3_health = In the last 7 days, have you personally been tested for coronavirus (COVID-19?)\n",
        "\n",
        "i4_health = In the last 7 days, has someone in your household been tested for coronavirus (COVID-19)?"
      ]
    },
    {
      "cell_type": "code",
      "metadata": {
        "id": "EuV6SjDmqXcm",
        "colab": {
          "base_uri": "https://localhost:8080/"
        },
        "outputId": "c7a48c6a-02bc-49ef-ebeb-828c76d7017a"
      },
      "source": [
        "#There are a few empty strings in the target variable - they can be dropped.\n",
        "covid_df = covid_df[~covid_df.i3_health.str.match(' ')]\n",
        "covid_df = covid_df[~covid_df.i4_health.str.match(' ')]\n",
        "covid_df = covid_df[~covid_df.i3_health.str.match('98')]\n",
        "print(covid_df.i3_health.str.match(' ').sum().sum())\n",
        "print(covid_df.i3_health.str.match(' ').sum().sum())\n",
        "print(covid_df.i3_health.str.match('98').sum().sum())"
      ],
      "execution_count": null,
      "outputs": [
        {
          "output_type": "stream",
          "text": [
            "0\n",
            "0\n",
            "0\n"
          ],
          "name": "stdout"
        }
      ]
    },
    {
      "cell_type": "code",
      "metadata": {
        "id": "I1wVRaJ0qreS",
        "colab": {
          "base_uri": "https://localhost:8080/"
        },
        "outputId": "00a28e41-0ff9-4287-fe7f-644edf9a1e5d"
      },
      "source": [
        "#covid_df.i3_health.unique()"
      ],
      "execution_count": null,
      "outputs": [
        {
          "output_type": "execute_result",
          "data": {
            "text/plain": [
              "array(['No, I have not', 'Yes, and I tested negative',\n",
              "       'Yes, and I tested positive',\n",
              "       'Yes, and I have not received my results from the test yet'],\n",
              "      dtype=object)"
            ]
          },
          "metadata": {
            "tags": []
          },
          "execution_count": 5
        }
      ]
    },
    {
      "cell_type": "code",
      "metadata": {
        "id": "HkfZ2tT3qj-8",
        "colab": {
          "base_uri": "https://localhost:8080/",
          "height": 761
        },
        "outputId": "e142d925-4c27-48e3-f2fc-e6c769d135f6"
      },
      "source": [
        "personal_covid_response = covid_df['i3_health'].value_counts()\n",
        "sns.barplot(['No, I have not', \n",
        "             'Yes, and I tested negative',\n",
        "              'Yes, and I have not received my results from the test yet',\n",
        "              'Yes, and I tested positive'], personal_covid_response.values)\n",
        "plt.xticks(rotation=-70)\n",
        "plt.title('Personal Covid Response - Global')\n",
        "plt.ylabel('Number of Occurances')\n",
        "plt.xlabel('Response')\n",
        "plt.show()\n",
        "#Confirm the personal_covid_response numbers correlate to the response\n",
        "print(personal_covid_response)\n",
        "print(len(covid_df[covid_df['i3_health'] == 'No, I have not']))\n",
        "print(len(covid_df[covid_df['i3_health'] == 'Yes, and I tested negative']))\n",
        "print(len(covid_df[covid_df['i3_health'] == 'Yes, and I have not received my results from the test yet']))\n",
        "print(len(covid_df[covid_df['i3_health'] == 'Yes, and I tested positive']))"
      ],
      "execution_count": null,
      "outputs": [
        {
          "output_type": "stream",
          "text": [
            "/usr/local/lib/python3.6/dist-packages/seaborn/_decorators.py:43: FutureWarning: Pass the following variables as keyword args: x, y. From version 0.12, the only valid positional argument will be `data`, and passing other arguments without an explicit keyword will result in an error or misinterpretation.\n",
            "  FutureWarning\n"
          ],
          "name": "stderr"
        },
        {
          "output_type": "display_data",
          "data": {
            "image/png": "[encoded data removed]",
            "text/plain": [
              "<Figure size 432x288 with 1 Axes>"
            ]
          },
          "metadata": {
            "tags": [],
            "needs_background": "light"
          }
        },
        {
          "output_type": "stream",
          "text": [
            "No, I have not                                               357811\n",
            "Yes, and I tested negative                                    24729\n",
            "Yes, and I have not received my results from the test yet      5105\n",
            "Yes, and I tested positive                                     4197\n",
            "Name: i3_health, dtype: int64\n",
            "357811\n",
            "24729\n",
            "5105\n",
            "4197\n"
          ],
          "name": "stdout"
        }
      ]
    },
    {
      "cell_type": "code",
      "metadata": {
        "id": "0BwC8bOmq6mR",
        "colab": {
          "base_uri": "https://localhost:8080/"
        },
        "outputId": "d668197c-e361-49c3-95d6-99e6669ad6d7"
      },
      "source": [
        "covid_df.i4_health.unique()"
      ],
      "execution_count": null,
      "outputs": [
        {
          "output_type": "execute_result",
          "data": {
            "text/plain": [
              "array(['No, they have not',\n",
              "       'Yes, and they have not received their results from the test yet',\n",
              "       'Yes, and they tested negative', 'Not sure',\n",
              "       'Yes, and they tested positive'], dtype=object)"
            ]
          },
          "metadata": {
            "tags": []
          },
          "execution_count": 7
        }
      ]
    },
    {
      "cell_type": "code",
      "metadata": {
        "id": "ZVrAFrCjq2gl",
        "colab": {
          "base_uri": "https://localhost:8080/",
          "height": 821
        },
        "outputId": "8e15c512-9c72-439b-9148-5ead8b07cc27"
      },
      "source": [
        "personal_covid_response = covid_df['i4_health'].value_counts()\n",
        "sns.barplot(['No, they have not',\n",
        "              'Not sure',\n",
        "              'Yes, and they tested negative',\n",
        "              'Yes, and they have not received their results from the test yet',\n",
        "              'Yes, and they tested positive'], personal_covid_response.values)\n",
        "plt.xticks(rotation=-70)\n",
        "plt.title('Personal Covid Response - Global')\n",
        "plt.ylabel('Number of Occurances')\n",
        "plt.xlabel('Response')\n",
        "plt.show()\n",
        "#Confirm the personal_covid_response numbers correlate to the response\n",
        "print(personal_covid_response)\n",
        "print(len(covid_df[covid_df['i4_health'] == 'No, they have not']))\n",
        "print(len(covid_df[covid_df['i4_health'] == 'Not sure']))\n",
        "print(len(covid_df[covid_df['i4_health'] == 'Yes, and they tested negative']))\n",
        "print(len(covid_df[covid_df['i4_health'] == 'Yes, and they have not received their results from the test yet']))\n",
        "print(len(covid_df[covid_df['i4_health'] == 'Yes, and they tested positive']))"
      ],
      "execution_count": null,
      "outputs": [
        {
          "output_type": "stream",
          "text": [
            "/usr/local/lib/python3.6/dist-packages/seaborn/_decorators.py:43: FutureWarning: Pass the following variables as keyword args: x, y. From version 0.12, the only valid positional argument will be `data`, and passing other arguments without an explicit keyword will result in an error or misinterpretation.\n",
            "  FutureWarning\n"
          ],
          "name": "stderr"
        },
        {
          "output_type": "display_data",
          "data": {
            "image/png": "[encoded data removed]",
            "text/plain": [
              "<Figure size 432x288 with 1 Axes>"
            ]
          },
          "metadata": {
            "tags": [],
            "needs_background": "light"
          }
        },
        {
          "output_type": "stream",
          "text": [
            "No, they have not                                                  340339\n",
            "Yes, and they tested negative                                       29013\n",
            "Not sure                                                            12839\n",
            "Yes, and they have not received their results from the test yet      5612\n",
            "Yes, and they tested positive                                        4039\n",
            "Name: i4_health, dtype: int64\n",
            "340339\n",
            "12839\n",
            "29013\n",
            "5612\n",
            "4039\n"
          ],
          "name": "stdout"
        }
      ]
    },
    {
      "cell_type": "code",
      "metadata": {
        "id": "r_i11-Ezqn8L",
        "colab": {
          "base_uri": "https://localhost:8080/",
          "height": 248
        },
        "outputId": "6731f5c9-ccd5-457d-c679-83ab52d42eb2"
      },
      "source": [
        "labels = covid_df['i3_health'].astype('category').cat.categories.tolist()\n",
        "counts = covid_df['i3_health'].value_counts()\n",
        "sizes = [counts[var_cat] for var_cat in labels]\n",
        "explode = (0.1,)*len(sizes)\n",
        "\n",
        "fig1, ax1 = plt.subplots()\n",
        "ax1.pie(sizes, explode=explode, labels=labels, autopct='%1.1f%%', shadow=True) #autopct is show the % on plot\n",
        "ax1.axis('equal')\n",
        "plt.show()"
      ],
      "execution_count": null,
      "outputs": [
        {
          "output_type": "display_data",
          "data": {
            "image/png": "[encoded data removed]",
            "text/plain": [
              "<Figure size 432x288 with 1 Axes>"
            ]
          },
          "metadata": {
            "tags": []
          }
        }
      ]
    },
    {
      "cell_type": "code",
      "metadata": {
        "id": "A1T0CG7Wr2C5",
        "colab": {
          "base_uri": "https://localhost:8080/",
          "height": 248
        },
        "outputId": "40d7c2ed-bbe0-4df4-cb6b-88617accbbe6"
      },
      "source": [
        "labels = covid_df['i4_health'].astype('category').cat.categories.tolist()\n",
        "counts = covid_df['i4_health'].value_counts()\n",
        "sizes = [counts[var_cat] for var_cat in labels]\n",
        "explode = (0.1,)*len(sizes)\n",
        "\n",
        "fig1, ax1 = plt.subplots()\n",
        "ax1.pie(sizes, explode=explode, labels=labels, autopct='%1.1f%%', shadow=True) #autopct is show the % on plot\n",
        "ax1.axis('equal')\n",
        "plt.show()"
      ],
      "execution_count": null,
      "outputs": [
        {
          "output_type": "display_data",
          "data": {
            "image/png": "[encoded data removed]",
            "text/plain": [
              "<Figure size 432x288 with 1 Axes>"
            ]
          },
          "metadata": {
            "tags": []
          }
        }
      ]
    },
    {
      "cell_type": "markdown",
      "metadata": {
        "id": "K40E0GYhZ5Hs"
      },
      "source": [
        "### Limiting to overlapping columns "
      ]
    },
    {
      "cell_type": "code",
      "metadata": {
        "id": "fz5cP8vYaCKM",
        "colab": {
          "base_uri": "https://localhost:8080/"
        },
        "outputId": "0d975160-d68b-4777-e11d-e484b6ea9307"
      },
      "source": [
        "intersected_col = set(list(data_1.columns))\n",
        "\n",
        "for i in range(0,29):\n",
        "  a = set(list(df_list[i].columns))\n",
        "  intersected_col = intersected_col.intersection(a)\n",
        "print(len(intersected_col))"
      ],
      "execution_count": null,
      "outputs": [
        {
          "output_type": "stream",
          "text": [
            "148\n"
          ],
          "name": "stdout"
        }
      ]
    },
    {
      "cell_type": "code",
      "metadata": {
        "id": "Jvf8sSaXd0zl"
      },
      "source": [
        "covid_148 = covid_df[intersected_col]\n",
        "#covid_148.info()"
      ],
      "execution_count": null,
      "outputs": []
    },
    {
      "cell_type": "code",
      "metadata": {
        "id": "9cKaU1qe_8vI",
        "colab": {
          "base_uri": "https://localhost:8080/"
        },
        "outputId": "ba206e62-fdf8-4083-b5bb-1630f4d979cd"
      },
      "source": [
        "#covid_148.isna().sum().sum()"
      ],
      "execution_count": null,
      "outputs": [
        {
          "output_type": "execute_result",
          "data": {
            "text/plain": [
              "6"
            ]
          },
          "metadata": {
            "tags": []
          },
          "execution_count": 13
        }
      ]
    },
    {
      "cell_type": "code",
      "metadata": {
        "id": "2nQ8Sy0k_-OD"
      },
      "source": [
        "covid_148 = covid_148.dropna()"
      ],
      "execution_count": null,
      "outputs": []
    },
    {
      "cell_type": "markdown",
      "metadata": {
        "id": "vtuNYqdkak5E"
      },
      "source": [
        "### Drop columns with lots of empty strings and keep columns which have lots of non-empty strings "
      ]
    },
    {
      "cell_type": "code",
      "metadata": {
        "id": "8OSzNwnyt_YO",
        "colab": {
          "base_uri": "https://localhost:8080/"
        },
        "outputId": "7f94b9ba-c622-45e7-c949-12b4813ad614"
      },
      "source": [
        "#covid_148.columns\n",
        "#print(covid_148.i3_health)\n",
        "#print(covid_148.i4_health)"
      ],
      "execution_count": null,
      "outputs": [
        {
          "output_type": "execute_result",
          "data": {
            "text/plain": [
              "Index(['d1_health_11', 'i2_health', 'age', 'i7b_health', 'ox4_6_1', 'w4_99',\n",
              "       'w4_10', 'i12_health_3', 'ox4_2_1', 'i12_health_25',\n",
              "       ...\n",
              "       'w5_14', 'i5_health_2', 'i5_health_1', 'w5_1', 'gender', 'i14_health_3',\n",
              "       'PHQ4_4', 'd1_health_13', 'ox4_10_1', 'w5_7'],\n",
              "      dtype='object', length=148)"
            ]
          },
          "metadata": {
            "tags": []
          },
          "execution_count": 15
        }
      ]
    },
    {
      "cell_type": "code",
      "metadata": {
        "id": "DAoftiaCwiW_",
        "colab": {
          "base_uri": "https://localhost:8080/"
        },
        "outputId": "39f68905-fdc4-45d8-d6bd-e722e2207efb"
      },
      "source": [
        "#covid_148.info()"
      ],
      "execution_count": null,
      "outputs": [
        {
          "output_type": "stream",
          "text": [
            "<class 'pandas.core.frame.DataFrame'>\n",
            "Int64Index: 391836 entries, 0 to 404087\n",
            "Columns: 148 entries, d1_health_11 to w5_7\n",
            "dtypes: float64(1), int64(1), object(146)\n",
            "memory usage: 445.4+ MB\n"
          ],
          "name": "stdout"
        }
      ]
    },
    {
      "cell_type": "code",
      "metadata": {
        "id": "RhZ6bkltZdlm"
      },
      "source": [
        "df = []\n",
        "df_2 = []\n",
        "col_list = covid_148.columns\n",
        "for i in range (0,148):\n",
        "  x = col_list[i]\n",
        "  y = len(covid_148[covid_148[x] == ' '])\n",
        "  z = (y/(len(covid_148)))*100\n",
        "  df.append(y)\n",
        "  df_2.append(z)\n",
        "\n",
        "\n",
        "\n",
        "empty_count_raw = { 'Columns' : covid_148.columns,\n",
        "              'Empty String Count' : df,\n",
        "              'Percent Emtpy' : df_2  \n",
        "              }\n",
        "empty_count_raw = pd.DataFrame(empty_count_raw)\n",
        "empty_count = empty_count_raw.sort_values(by = 'Empty String Count')\n",
        "empty_count = empty_count.reset_index()"
      ],
      "execution_count": null,
      "outputs": []
    },
    {
      "cell_type": "code",
      "metadata": {
        "id": "p70ktR9zD8rc",
        "colab": {
          "base_uri": "https://localhost:8080/"
        },
        "outputId": "2d22e66c-0984-4b6f-c88e-441cad60e30c"
      },
      "source": [
        "#empty_count_raw.info()"
      ],
      "execution_count": null,
      "outputs": [
        {
          "output_type": "stream",
          "text": [
            "<class 'pandas.core.frame.DataFrame'>\n",
            "RangeIndex: 148 entries, 0 to 147\n",
            "Data columns (total 3 columns):\n",
            " #   Column              Non-Null Count  Dtype  \n",
            "---  ------              --------------  -----  \n",
            " 0   Columns             148 non-null    object \n",
            " 1   Empty String Count  148 non-null    int64  \n",
            " 2   Percent Emtpy       148 non-null    float64\n",
            "dtypes: float64(1), int64(1), object(1)\n",
            "memory usage: 3.6+ KB\n"
          ],
          "name": "stdout"
        }
      ]
    },
    {
      "cell_type": "code",
      "metadata": {
        "id": "UQuMdwhP1Xuw",
        "colab": {
          "base_uri": "https://localhost:8080/"
        },
        "outputId": "8e0f94f0-8219-449e-b14e-9afedebd8a29"
      },
      "source": [
        "#empty_count.info()"
      ],
      "execution_count": null,
      "outputs": [
        {
          "output_type": "stream",
          "text": [
            "<class 'pandas.core.frame.DataFrame'>\n",
            "RangeIndex: 148 entries, 0 to 147\n",
            "Data columns (total 4 columns):\n",
            " #   Column              Non-Null Count  Dtype  \n",
            "---  ------              --------------  -----  \n",
            " 0   index               148 non-null    int64  \n",
            " 1   Columns             148 non-null    object \n",
            " 2   Empty String Count  148 non-null    int64  \n",
            " 3   Percent Emtpy       148 non-null    float64\n",
            "dtypes: float64(1), int64(2), object(1)\n",
            "memory usage: 4.8+ KB\n"
          ],
          "name": "stdout"
        }
      ]
    },
    {
      "cell_type": "code",
      "metadata": {
        "id": "T4ctlDLdeYw4",
        "colab": {
          "base_uri": "https://localhost:8080/",
          "height": 514
        },
        "outputId": "ecc331b5-31b3-4b66-8aa8-828584416de6"
      },
      "source": [
        "#empty_count.head(15)"
      ],
      "execution_count": null,
      "outputs": [
        {
          "output_type": "execute_result",
          "data": {
            "text/html": [
              "<div>\n",
              "<style scoped>\n",
              "    .dataframe tbody tr th:only-of-type {\n",
              "        vertical-align: middle;\n",
              "    }\n",
              "\n",
              "    .dataframe tbody tr th {\n",
              "        vertical-align: top;\n",
              "    }\n",
              "\n",
              "    .dataframe thead th {\n",
              "        text-align: right;\n",
              "    }\n",
              "</style>\n",
              "<table border=\"1\" class=\"dataframe\">\n",
              "  <thead>\n",
              "    <tr style=\"text-align: right;\">\n",
              "      <th></th>\n",
              "      <th>index</th>\n",
              "      <th>Columns</th>\n",
              "      <th>Empty String Count</th>\n",
              "      <th>Percent Emtpy</th>\n",
              "    </tr>\n",
              "  </thead>\n",
              "  <tbody>\n",
              "    <tr>\n",
              "      <th>0</th>\n",
              "      <td>48</td>\n",
              "      <td>i4_health</td>\n",
              "      <td>0</td>\n",
              "      <td>0.000000</td>\n",
              "    </tr>\n",
              "    <tr>\n",
              "      <th>1</th>\n",
              "      <td>2</td>\n",
              "      <td>age</td>\n",
              "      <td>0</td>\n",
              "      <td>0.000000</td>\n",
              "    </tr>\n",
              "    <tr>\n",
              "      <th>2</th>\n",
              "      <td>50</td>\n",
              "      <td>Country</td>\n",
              "      <td>0</td>\n",
              "      <td>0.000000</td>\n",
              "    </tr>\n",
              "    <tr>\n",
              "      <th>3</th>\n",
              "      <td>142</td>\n",
              "      <td>gender</td>\n",
              "      <td>0</td>\n",
              "      <td>0.000000</td>\n",
              "    </tr>\n",
              "    <tr>\n",
              "      <th>4</th>\n",
              "      <td>74</td>\n",
              "      <td>endtime</td>\n",
              "      <td>0</td>\n",
              "      <td>0.000000</td>\n",
              "    </tr>\n",
              "    <tr>\n",
              "      <th>5</th>\n",
              "      <td>41</td>\n",
              "      <td>weight</td>\n",
              "      <td>0</td>\n",
              "      <td>0.000000</td>\n",
              "    </tr>\n",
              "    <tr>\n",
              "      <th>6</th>\n",
              "      <td>96</td>\n",
              "      <td>i3_health</td>\n",
              "      <td>0</td>\n",
              "      <td>0.000000</td>\n",
              "    </tr>\n",
              "    <tr>\n",
              "      <th>7</th>\n",
              "      <td>38</td>\n",
              "      <td>qweek</td>\n",
              "      <td>5</td>\n",
              "      <td>0.001276</td>\n",
              "    </tr>\n",
              "    <tr>\n",
              "      <th>8</th>\n",
              "      <td>26</td>\n",
              "      <td>household_size</td>\n",
              "      <td>11</td>\n",
              "      <td>0.002807</td>\n",
              "    </tr>\n",
              "    <tr>\n",
              "      <th>9</th>\n",
              "      <td>21</td>\n",
              "      <td>household_children</td>\n",
              "      <td>12</td>\n",
              "      <td>0.003063</td>\n",
              "    </tr>\n",
              "    <tr>\n",
              "      <th>10</th>\n",
              "      <td>95</td>\n",
              "      <td>i1_health</td>\n",
              "      <td>12</td>\n",
              "      <td>0.003063</td>\n",
              "    </tr>\n",
              "    <tr>\n",
              "      <th>11</th>\n",
              "      <td>119</td>\n",
              "      <td>i14_health_other</td>\n",
              "      <td>15</td>\n",
              "      <td>0.003828</td>\n",
              "    </tr>\n",
              "    <tr>\n",
              "      <th>12</th>\n",
              "      <td>106</td>\n",
              "      <td>i7a_health</td>\n",
              "      <td>16</td>\n",
              "      <td>0.004083</td>\n",
              "    </tr>\n",
              "    <tr>\n",
              "      <th>13</th>\n",
              "      <td>90</td>\n",
              "      <td>i13_health</td>\n",
              "      <td>23</td>\n",
              "      <td>0.005870</td>\n",
              "    </tr>\n",
              "    <tr>\n",
              "      <th>14</th>\n",
              "      <td>7</td>\n",
              "      <td>i12_health_3</td>\n",
              "      <td>36</td>\n",
              "      <td>0.009188</td>\n",
              "    </tr>\n",
              "  </tbody>\n",
              "</table>\n",
              "</div>"
            ],
            "text/plain": [
              "    index             Columns  Empty String Count  Percent Emtpy\n",
              "0      48           i4_health                   0       0.000000\n",
              "1       2                 age                   0       0.000000\n",
              "2      50             Country                   0       0.000000\n",
              "3     142              gender                   0       0.000000\n",
              "4      74             endtime                   0       0.000000\n",
              "5      41              weight                   0       0.000000\n",
              "6      96           i3_health                   0       0.000000\n",
              "7      38               qweek                   5       0.001276\n",
              "8      26      household_size                  11       0.002807\n",
              "9      21  household_children                  12       0.003063\n",
              "10     95           i1_health                  12       0.003063\n",
              "11    119    i14_health_other                  15       0.003828\n",
              "12    106          i7a_health                  16       0.004083\n",
              "13     90          i13_health                  23       0.005870\n",
              "14      7        i12_health_3                  36       0.009188"
            ]
          },
          "metadata": {
            "tags": []
          },
          "execution_count": 20
        }
      ]
    },
    {
      "cell_type": "code",
      "metadata": {
        "id": "Z1zO-w2iV8rR",
        "colab": {
          "base_uri": "https://localhost:8080/",
          "height": 419
        },
        "outputId": "07a99e57-6eae-4f7d-c027-46e2a9e9a415"
      },
      "source": [
        "#empty_count.sort_values(by='Percent Emtpy', ascending=False)"
      ],
      "execution_count": null,
      "outputs": [
        {
          "output_type": "execute_result",
          "data": {
            "text/html": [
              "<div>\n",
              "<style scoped>\n",
              "    .dataframe tbody tr th:only-of-type {\n",
              "        vertical-align: middle;\n",
              "    }\n",
              "\n",
              "    .dataframe tbody tr th {\n",
              "        vertical-align: top;\n",
              "    }\n",
              "\n",
              "    .dataframe thead th {\n",
              "        text-align: right;\n",
              "    }\n",
              "</style>\n",
              "<table border=\"1\" class=\"dataframe\">\n",
              "  <thead>\n",
              "    <tr style=\"text-align: right;\">\n",
              "      <th></th>\n",
              "      <th>index</th>\n",
              "      <th>Columns</th>\n",
              "      <th>Empty String Count</th>\n",
              "      <th>Percent Emtpy</th>\n",
              "    </tr>\n",
              "  </thead>\n",
              "  <tbody>\n",
              "    <tr>\n",
              "      <th>147</th>\n",
              "      <td>147</td>\n",
              "      <td>w5_7</td>\n",
              "      <td>386813</td>\n",
              "      <td>98.718086</td>\n",
              "    </tr>\n",
              "    <tr>\n",
              "      <th>138</th>\n",
              "      <td>54</td>\n",
              "      <td>w5_96</td>\n",
              "      <td>386813</td>\n",
              "      <td>98.718086</td>\n",
              "    </tr>\n",
              "    <tr>\n",
              "      <th>131</th>\n",
              "      <td>138</td>\n",
              "      <td>w5_14</td>\n",
              "      <td>386813</td>\n",
              "      <td>98.718086</td>\n",
              "    </tr>\n",
              "    <tr>\n",
              "      <th>132</th>\n",
              "      <td>141</td>\n",
              "      <td>w5_1</td>\n",
              "      <td>386813</td>\n",
              "      <td>98.718086</td>\n",
              "    </tr>\n",
              "    <tr>\n",
              "      <th>133</th>\n",
              "      <td>101</td>\n",
              "      <td>w5_9</td>\n",
              "      <td>386813</td>\n",
              "      <td>98.718086</td>\n",
              "    </tr>\n",
              "    <tr>\n",
              "      <th>...</th>\n",
              "      <td>...</td>\n",
              "      <td>...</td>\n",
              "      <td>...</td>\n",
              "      <td>...</td>\n",
              "    </tr>\n",
              "    <tr>\n",
              "      <th>3</th>\n",
              "      <td>142</td>\n",
              "      <td>gender</td>\n",
              "      <td>0</td>\n",
              "      <td>0.000000</td>\n",
              "    </tr>\n",
              "    <tr>\n",
              "      <th>1</th>\n",
              "      <td>2</td>\n",
              "      <td>age</td>\n",
              "      <td>0</td>\n",
              "      <td>0.000000</td>\n",
              "    </tr>\n",
              "    <tr>\n",
              "      <th>5</th>\n",
              "      <td>41</td>\n",
              "      <td>weight</td>\n",
              "      <td>0</td>\n",
              "      <td>0.000000</td>\n",
              "    </tr>\n",
              "    <tr>\n",
              "      <th>6</th>\n",
              "      <td>96</td>\n",
              "      <td>i3_health</td>\n",
              "      <td>0</td>\n",
              "      <td>0.000000</td>\n",
              "    </tr>\n",
              "    <tr>\n",
              "      <th>0</th>\n",
              "      <td>48</td>\n",
              "      <td>i4_health</td>\n",
              "      <td>0</td>\n",
              "      <td>0.000000</td>\n",
              "    </tr>\n",
              "  </tbody>\n",
              "</table>\n",
              "<p>148 rows × 4 columns</p>\n",
              "</div>"
            ],
            "text/plain": [
              "     index    Columns  Empty String Count  Percent Emtpy\n",
              "147    147       w5_7              386813      98.718086\n",
              "138     54      w5_96              386813      98.718086\n",
              "131    138      w5_14              386813      98.718086\n",
              "132    141       w5_1              386813      98.718086\n",
              "133    101       w5_9              386813      98.718086\n",
              "..     ...        ...                 ...            ...\n",
              "3      142     gender                   0       0.000000\n",
              "1        2        age                   0       0.000000\n",
              "5       41     weight                   0       0.000000\n",
              "6       96  i3_health                   0       0.000000\n",
              "0       48  i4_health                   0       0.000000\n",
              "\n",
              "[148 rows x 4 columns]"
            ]
          },
          "metadata": {
            "tags": []
          },
          "execution_count": 21
        }
      ]
    },
    {
      "cell_type": "code",
      "metadata": {
        "id": "PHIwvdVeWOiZ",
        "colab": {
          "base_uri": "https://localhost:8080/"
        },
        "outputId": "912e745a-0e50-42d3-d8ef-b41b7cf58dfd"
      },
      "source": [
        "np.asarray(empty_count['Columns'][empty_count['Percent Emtpy'] == 0])"
      ],
      "execution_count": null,
      "outputs": [
        {
          "output_type": "execute_result",
          "data": {
            "text/plain": [
              "array(['i4_health', 'age', 'Country', 'gender', 'endtime', 'weight',\n",
              "       'i3_health'], dtype=object)"
            ]
          },
          "metadata": {
            "tags": []
          },
          "execution_count": 22
        }
      ]
    },
    {
      "cell_type": "markdown",
      "metadata": {
        "id": "IkBzD5yAwwvI"
      },
      "source": [
        "###Bivariate Analysis of columns with no emtpy strings."
      ]
    },
    {
      "cell_type": "markdown",
      "metadata": {
        "id": "0b7vVcJNw6Dc"
      },
      "source": [
        "#####Gender - categorical to categorical \n",
        "\n",
        "The p-value from the chi square test less than 0.05 for both i3_health and i4_health. We can reject the null hypothesis and conclude there is a relationship between gender and the target variables."
      ]
    },
    {
      "cell_type": "code",
      "metadata": {
        "id": "6c9M5StJDT2Y",
        "colab": {
          "base_uri": "https://localhost:8080/",
          "height": 142
        },
        "outputId": "691d9e3e-1485-48f0-95ae-4b390db97c93"
      },
      "source": [
        "df = pd.crosstab(covid_148['gender'], covid_148['i3_health'])\n",
        "df"
      ],
      "execution_count": null,
      "outputs": [
        {
          "output_type": "execute_result",
          "data": {
            "text/html": [
              "<div>\n",
              "<style scoped>\n",
              "    .dataframe tbody tr th:only-of-type {\n",
              "        vertical-align: middle;\n",
              "    }\n",
              "\n",
              "    .dataframe tbody tr th {\n",
              "        vertical-align: top;\n",
              "    }\n",
              "\n",
              "    .dataframe thead th {\n",
              "        text-align: right;\n",
              "    }\n",
              "</style>\n",
              "<table border=\"1\" class=\"dataframe\">\n",
              "  <thead>\n",
              "    <tr style=\"text-align: right;\">\n",
              "      <th>i3_health</th>\n",
              "      <th>No, I have not</th>\n",
              "      <th>Yes, and I have not received my results from the test yet</th>\n",
              "      <th>Yes, and I tested negative</th>\n",
              "      <th>Yes, and I tested positive</th>\n",
              "    </tr>\n",
              "    <tr>\n",
              "      <th>gender</th>\n",
              "      <th></th>\n",
              "      <th></th>\n",
              "      <th></th>\n",
              "      <th></th>\n",
              "    </tr>\n",
              "  </thead>\n",
              "  <tbody>\n",
              "    <tr>\n",
              "      <th>Female</th>\n",
              "      <td>183248</td>\n",
              "      <td>1988</td>\n",
              "      <td>9437</td>\n",
              "      <td>1452</td>\n",
              "    </tr>\n",
              "    <tr>\n",
              "      <th>Male</th>\n",
              "      <td>174563</td>\n",
              "      <td>3117</td>\n",
              "      <td>15292</td>\n",
              "      <td>2745</td>\n",
              "    </tr>\n",
              "  </tbody>\n",
              "</table>\n",
              "</div>"
            ],
            "text/plain": [
              "i3_health  No, I have not  ...  Yes, and I tested positive\n",
              "gender                     ...                            \n",
              "Female             183248  ...                        1452\n",
              "Male               174563  ...                        2745\n",
              "\n",
              "[2 rows x 4 columns]"
            ]
          },
          "metadata": {
            "tags": []
          },
          "execution_count": 22
        }
      ]
    },
    {
      "cell_type": "code",
      "metadata": {
        "id": "lw0N4lZnwiKH",
        "colab": {
          "base_uri": "https://localhost:8080/"
        },
        "outputId": "48e81f88-4832-4ae5-f872-58ee65e5b292"
      },
      "source": [
        "print(stats.chisquare(df, axis=None))"
      ],
      "execution_count": null,
      "outputs": [
        {
          "output_type": "stream",
          "text": [
            "Power_divergenceResult(statistic=922938.628273641, pvalue=0.0)\n"
          ],
          "name": "stdout"
        }
      ]
    },
    {
      "cell_type": "code",
      "metadata": {
        "id": "RA4yu-Ly2Qkr",
        "colab": {
          "base_uri": "https://localhost:8080/",
          "height": 296
        },
        "outputId": "b45365cc-30f8-4ede-cc9c-4c78fc5054d5"
      },
      "source": [
        "sns.countplot(y='i3_health', hue='gender', data=covid_148)"
      ],
      "execution_count": null,
      "outputs": [
        {
          "output_type": "execute_result",
          "data": {
            "text/plain": [
              "<matplotlib.axes._subplots.AxesSubplot at 0x7f67c664a9e8>"
            ]
          },
          "metadata": {
            "tags": []
          },
          "execution_count": 24
        },
        {
          "output_type": "display_data",
          "data": {
            "image/png": "[encoded data removed]",
            "text/plain": [
              "<Figure size 432x288 with 1 Axes>"
            ]
          },
          "metadata": {
            "tags": [],
            "needs_background": "light"
          }
        }
      ]
    },
    {
      "cell_type": "code",
      "metadata": {
        "id": "_blvU_KJvTrV",
        "colab": {
          "base_uri": "https://localhost:8080/",
          "height": 159
        },
        "outputId": "e5567d44-f25c-4fbc-f76e-2e132a5c0ff8"
      },
      "source": [
        "df = pd.crosstab(covid_148['gender'], covid_148['i4_health'])\n",
        "df"
      ],
      "execution_count": null,
      "outputs": [
        {
          "output_type": "execute_result",
          "data": {
            "text/html": [
              "<div>\n",
              "<style scoped>\n",
              "    .dataframe tbody tr th:only-of-type {\n",
              "        vertical-align: middle;\n",
              "    }\n",
              "\n",
              "    .dataframe tbody tr th {\n",
              "        vertical-align: top;\n",
              "    }\n",
              "\n",
              "    .dataframe thead th {\n",
              "        text-align: right;\n",
              "    }\n",
              "</style>\n",
              "<table border=\"1\" class=\"dataframe\">\n",
              "  <thead>\n",
              "    <tr style=\"text-align: right;\">\n",
              "      <th>i4_health</th>\n",
              "      <th>No, they have not</th>\n",
              "      <th>Not sure</th>\n",
              "      <th>Yes, and they have not received their results from the test yet</th>\n",
              "      <th>Yes, and they tested negative</th>\n",
              "      <th>Yes, and they tested positive</th>\n",
              "    </tr>\n",
              "    <tr>\n",
              "      <th>gender</th>\n",
              "      <th></th>\n",
              "      <th></th>\n",
              "      <th></th>\n",
              "      <th></th>\n",
              "      <th></th>\n",
              "    </tr>\n",
              "  </thead>\n",
              "  <tbody>\n",
              "    <tr>\n",
              "      <th>Female</th>\n",
              "      <td>174894</td>\n",
              "      <td>5346</td>\n",
              "      <td>2238</td>\n",
              "      <td>12097</td>\n",
              "      <td>1550</td>\n",
              "    </tr>\n",
              "    <tr>\n",
              "      <th>Male</th>\n",
              "      <td>165445</td>\n",
              "      <td>7493</td>\n",
              "      <td>3374</td>\n",
              "      <td>16916</td>\n",
              "      <td>2489</td>\n",
              "    </tr>\n",
              "  </tbody>\n",
              "</table>\n",
              "</div>"
            ],
            "text/plain": [
              "i4_health  No, they have not  ...  Yes, and they tested positive\n",
              "gender                        ...                               \n",
              "Female                174894  ...                           1550\n",
              "Male                  165445  ...                           2489\n",
              "\n",
              "[2 rows x 5 columns]"
            ]
          },
          "metadata": {
            "tags": []
          },
          "execution_count": 25
        }
      ]
    },
    {
      "cell_type": "code",
      "metadata": {
        "id": "46hEtkhAwl7Q",
        "colab": {
          "base_uri": "https://localhost:8080/"
        },
        "outputId": "4d2f801e-9a72-48db-f33c-9ed7e3bed9d7"
      },
      "source": [
        "print(stats.chisquare(df, axis=None))"
      ],
      "execution_count": null,
      "outputs": [
        {
          "output_type": "stream",
          "text": [
            "Power_divergenceResult(statistic=1101161.8799311968, pvalue=0.0)\n"
          ],
          "name": "stdout"
        }
      ]
    },
    {
      "cell_type": "code",
      "metadata": {
        "id": "VB-XjhLHDT5h",
        "colab": {
          "base_uri": "https://localhost:8080/",
          "height": 296
        },
        "outputId": "eee65f71-cfcd-4638-c67e-da884bfcb68e"
      },
      "source": [
        "sns.countplot(y='i4_health', hue='gender', data=covid_148)"
      ],
      "execution_count": null,
      "outputs": [
        {
          "output_type": "execute_result",
          "data": {
            "text/plain": [
              "<matplotlib.axes._subplots.AxesSubplot at 0x7f67c5390780>"
            ]
          },
          "metadata": {
            "tags": []
          },
          "execution_count": 27
        },
        {
          "output_type": "display_data",
          "data": {
            "image/png": "[encoded data removed]",
            "text/plain": [
              "<Figure size 432x288 with 1 Axes>"
            ]
          },
          "metadata": {
            "tags": [],
            "needs_background": "light"
          }
        }
      ]
    },
    {
      "cell_type": "markdown",
      "metadata": {
        "id": "nxBrdwCqh2IA"
      },
      "source": [
        "##### Country - categorical to categorical\n",
        "\n",
        "The p-value from the chi square test less than 0.05 for both i3_health and i4_health. We can reject the null hypothesis and conclude there is a relationship between country and the target variables."
      ]
    },
    {
      "cell_type": "code",
      "metadata": {
        "id": "6-q429n6h2ur",
        "colab": {
          "base_uri": "https://localhost:8080/"
        },
        "outputId": "953f68d0-73b6-4c25-da6c-cb182b84422e"
      },
      "source": [
        "df = pd.crosstab(covid_148['Country'], covid_148['i3_health'])\n",
        "print(stats.chisquare(df, axis=None))"
      ],
      "execution_count": null,
      "outputs": [
        {
          "output_type": "stream",
          "text": [
            "Power_divergenceResult(statistic=1097351.8711623563, pvalue=0.0)\n"
          ],
          "name": "stdout"
        }
      ]
    },
    {
      "cell_type": "code",
      "metadata": {
        "id": "Nvv4R_DMh2yV",
        "colab": {
          "base_uri": "https://localhost:8080/",
          "height": 491
        },
        "outputId": "493a809b-7e4b-4d72-bc30-694c1d981d92"
      },
      "source": [
        "sns.countplot(y='i3_health', hue='Country', data=covid_148)"
      ],
      "execution_count": null,
      "outputs": [
        {
          "output_type": "execute_result",
          "data": {
            "text/plain": [
              "<matplotlib.axes._subplots.AxesSubplot at 0x7f67b9f7de48>"
            ]
          },
          "metadata": {
            "tags": []
          },
          "execution_count": 47
        },
        {
          "output_type": "display_data",
          "data": {
            "image/png": "[encoded data removed]",
            "text/plain": [
              "<Figure size 432x288 with 1 Axes>"
            ]
          },
          "metadata": {
            "tags": [],
            "needs_background": "light"
          }
        }
      ]
    },
    {
      "cell_type": "code",
      "metadata": {
        "id": "i6PMPDAuh21f",
        "colab": {
          "base_uri": "https://localhost:8080/"
        },
        "outputId": "1a49a691-673f-44af-f968-bed71dfaf9aa"
      },
      "source": [
        "df = pd.crosstab(covid_148['Country'], covid_148['i4_health'])\n",
        "print(stats.chisquare(df, axis=None))"
      ],
      "execution_count": null,
      "outputs": [
        {
          "output_type": "stream",
          "text": [
            "Power_divergenceResult(statistic=1313236.2016220824, pvalue=0.0)\n"
          ],
          "name": "stdout"
        }
      ]
    },
    {
      "cell_type": "code",
      "metadata": {
        "id": "3CfNCIpah25l",
        "colab": {
          "base_uri": "https://localhost:8080/",
          "height": 491
        },
        "outputId": "d400f205-d3b7-4257-d8c9-3e71a3f09473"
      },
      "source": [
        "sns.countplot(y='i3_health', hue='Country', data=covid_148)"
      ],
      "execution_count": null,
      "outputs": [
        {
          "output_type": "execute_result",
          "data": {
            "text/plain": [
              "<matplotlib.axes._subplots.AxesSubplot at 0x7f67b9d5a9e8>"
            ]
          },
          "metadata": {
            "tags": []
          },
          "execution_count": 49
        },
        {
          "output_type": "display_data",
          "data": {
            "image/png": "[encoded data removed]",
            "text/plain": [
              "<Figure size 432x288 with 1 Axes>"
            ]
          },
          "metadata": {
            "tags": [],
            "needs_background": "light"
          }
        }
      ]
    },
    {
      "cell_type": "markdown",
      "metadata": {
        "id": "2429__GtimQy"
      },
      "source": [
        "##### i3_health to i4_health - categorical to categorical \n",
        "\n",
        "\n",
        "The p-value from the chi square test less than 0.05 for both i3_health and i4_health. We can reject the null hypothesis and conclude there is a relationship between the response to i3_health and i4_health."
      ]
    },
    {
      "cell_type": "code",
      "metadata": {
        "id": "f-CjXBWyit2_",
        "colab": {
          "base_uri": "https://localhost:8080/"
        },
        "outputId": "9f3aac75-a93a-4c22-e96d-5cd4572feb55"
      },
      "source": [
        "df = pd.crosstab(covid_148['i3_health'], covid_148['i4_health'])\n",
        "print(stats.chisquare(df, axis=None))"
      ],
      "execution_count": null,
      "outputs": [
        {
          "output_type": "stream",
          "text": [
            "Power_divergenceResult(statistic=5215065.819988669, pvalue=0.0)\n"
          ],
          "name": "stdout"
        }
      ]
    },
    {
      "cell_type": "code",
      "metadata": {
        "id": "uLED2k-UiyjO",
        "colab": {
          "base_uri": "https://localhost:8080/",
          "height": 296
        },
        "outputId": "b08f72a2-bf3c-4d16-b5e1-4890e085bd57"
      },
      "source": [
        "sns.countplot(y='i3_health', hue='i4_health', data=covid_148)"
      ],
      "execution_count": null,
      "outputs": [
        {
          "output_type": "execute_result",
          "data": {
            "text/plain": [
              "<matplotlib.axes._subplots.AxesSubplot at 0x7f67b9b8f550>"
            ]
          },
          "metadata": {
            "tags": []
          },
          "execution_count": 52
        },
        {
          "output_type": "display_data",
          "data": {
            "image/png": "[encoded data removed]",
            "text/plain": [
              "<Figure size 432x288 with 1 Axes>"
            ]
          },
          "metadata": {
            "tags": [],
            "needs_background": "light"
          }
        }
      ]
    },
    {
      "cell_type": "markdown",
      "metadata": {
        "id": "BKBteTFO1hys"
      },
      "source": [
        "##### Age - categorical to continuous (ratio)\n",
        "\n",
        "Both the Chi Sqaure and ttest are below .05 "
      ]
    },
    {
      "cell_type": "code",
      "metadata": {
        "id": "dR7fO5VX69-P",
        "colab": {
          "base_uri": "https://localhost:8080/",
          "height": 204
        },
        "outputId": "1819dd97-0d3a-4643-a550-1deb58379bf2"
      },
      "source": [
        "df = covid_148[['age', 'i3_health']]\n",
        "df.groupby('i3_health').mean()"
      ],
      "execution_count": null,
      "outputs": [
        {
          "output_type": "execute_result",
          "data": {
            "text/html": [
              "<div>\n",
              "<style scoped>\n",
              "    .dataframe tbody tr th:only-of-type {\n",
              "        vertical-align: middle;\n",
              "    }\n",
              "\n",
              "    .dataframe tbody tr th {\n",
              "        vertical-align: top;\n",
              "    }\n",
              "\n",
              "    .dataframe thead th {\n",
              "        text-align: right;\n",
              "    }\n",
              "</style>\n",
              "<table border=\"1\" class=\"dataframe\">\n",
              "  <thead>\n",
              "    <tr style=\"text-align: right;\">\n",
              "      <th></th>\n",
              "      <th>age</th>\n",
              "    </tr>\n",
              "    <tr>\n",
              "      <th>i3_health</th>\n",
              "      <th></th>\n",
              "    </tr>\n",
              "  </thead>\n",
              "  <tbody>\n",
              "    <tr>\n",
              "      <th>No, I have not</th>\n",
              "      <td>44.253067</td>\n",
              "    </tr>\n",
              "    <tr>\n",
              "      <th>Yes, and I have not received my results from the test yet</th>\n",
              "      <td>34.443291</td>\n",
              "    </tr>\n",
              "    <tr>\n",
              "      <th>Yes, and I tested negative</th>\n",
              "      <td>36.787294</td>\n",
              "    </tr>\n",
              "    <tr>\n",
              "      <th>Yes, and I tested positive</th>\n",
              "      <td>33.053371</td>\n",
              "    </tr>\n",
              "  </tbody>\n",
              "</table>\n",
              "</div>"
            ],
            "text/plain": [
              "                                                          age\n",
              "i3_health                                                    \n",
              "No, I have not                                      44.253067\n",
              "Yes, and I have not received my results from th...  34.443291\n",
              "Yes, and I tested negative                          36.787294\n",
              "Yes, and I tested positive                          33.053371"
            ]
          },
          "metadata": {
            "tags": []
          },
          "execution_count": 99
        }
      ]
    },
    {
      "cell_type": "code",
      "metadata": {
        "id": "j_nxfvIrkXcG",
        "colab": {
          "base_uri": "https://localhost:8080/",
          "height": 333
        },
        "outputId": "3d3e3d85-dd75-4cf0-ab31-d8f370de9de1"
      },
      "source": [
        "# both age and i3_health are nonparametric\n",
        "plt.hist(df['age'])"
      ],
      "execution_count": null,
      "outputs": [
        {
          "output_type": "execute_result",
          "data": {
            "text/plain": [
              "(array([7.1399e+04, 6.8868e+04, 6.1599e+04, 5.3424e+04, 4.9726e+04,\n",
              "        4.6806e+04, 2.9680e+04, 9.2240e+03, 1.0490e+03, 6.7000e+01]),\n",
              " array([18. , 26.1, 34.2, 42.3, 50.4, 58.5, 66.6, 74.7, 82.8, 90.9, 99. ]),\n",
              " <a list of 10 Patch objects>)"
            ]
          },
          "metadata": {
            "tags": []
          },
          "execution_count": 59
        },
        {
          "output_type": "display_data",
          "data": {
            "image/png": "[encoded data removed]",
            "text/plain": [
              "<Figure size 432x288 with 1 Axes>"
            ]
          },
          "metadata": {
            "tags": [],
            "needs_background": "light"
          }
        }
      ]
    },
    {
      "cell_type": "code",
      "metadata": {
        "id": "5oFGz9pG-D3d",
        "colab": {
          "base_uri": "https://localhost:8080/",
          "height": 333
        },
        "outputId": "bd5f8557-5ff1-4438-ec74-062055ce460a"
      },
      "source": [
        "plt.hist(df['i3_health'])"
      ],
      "execution_count": null,
      "outputs": [
        {
          "output_type": "execute_result",
          "data": {
            "text/plain": [
              "(array([357811.,      0.,      0.,  24729.,      0.,      0.,   4197.,\n",
              "             0.,      0.,   5105.]),\n",
              " array([0. , 0.3, 0.6, 0.9, 1.2, 1.5, 1.8, 2.1, 2.4, 2.7, 3. ]),\n",
              " <a list of 10 Patch objects>)"
            ]
          },
          "metadata": {
            "tags": []
          },
          "execution_count": 102
        },
        {
          "output_type": "display_data",
          "data": {
            "image/png": "[encoded data removed]",
            "text/plain": [
              "<Figure size 432x288 with 1 Axes>"
            ]
          },
          "metadata": {
            "tags": [],
            "needs_background": "light"
          }
        }
      ]
    },
    {
      "cell_type": "code",
      "metadata": {
        "id": "eiJ69Njh8alJ",
        "colab": {
          "base_uri": "https://localhost:8080/",
          "height": 610
        },
        "outputId": "01eae2e9-8f8b-4cd8-900a-0d2a2a4d872a"
      },
      "source": [
        "sns.barplot(df['i3_health'], df['age'])\n",
        "plt.xticks(rotation=-70)"
      ],
      "execution_count": null,
      "outputs": [
        {
          "output_type": "stream",
          "text": [
            "/usr/local/lib/python3.6/dist-packages/seaborn/_decorators.py:43: FutureWarning: Pass the following variables as keyword args: x, y. From version 0.12, the only valid positional argument will be `data`, and passing other arguments without an explicit keyword will result in an error or misinterpretation.\n",
            "  FutureWarning\n"
          ],
          "name": "stderr"
        },
        {
          "output_type": "execute_result",
          "data": {
            "text/plain": [
              "(array([0, 1, 2, 3]), <a list of 4 Text major ticklabel objects>)"
            ]
          },
          "metadata": {
            "tags": []
          },
          "execution_count": 54
        },
        {
          "output_type": "display_data",
          "data": {
            "image/png": "[encoded data removed]",
            "text/plain": [
              "<Figure size 432x288 with 1 Axes>"
            ]
          },
          "metadata": {
            "tags": [],
            "needs_background": "light"
          }
        }
      ]
    },
    {
      "cell_type": "code",
      "metadata": {
        "id": "IN6fqDPGge1S",
        "colab": {
          "base_uri": "https://localhost:8080/",
          "height": 296
        },
        "outputId": "a69b3d6b-034c-40b4-d000-8bf5812d8a09"
      },
      "source": [
        "sns.boxplot(x = 'age', y = 'i3_health', data = df)"
      ],
      "execution_count": null,
      "outputs": [
        {
          "output_type": "execute_result",
          "data": {
            "text/plain": [
              "<matplotlib.axes._subplots.AxesSubplot at 0x7f67b9da1128>"
            ]
          },
          "metadata": {
            "tags": []
          },
          "execution_count": 63
        },
        {
          "output_type": "display_data",
          "data": {
            "image/png": "[encoded data removed]",
            "text/plain": [
              "<Figure size 432x288 with 1 Axes>"
            ]
          },
          "metadata": {
            "tags": [],
            "needs_background": "light"
          }
        }
      ]
    },
    {
      "cell_type": "code",
      "metadata": {
        "id": "6Pp_NR7ulgHN",
        "colab": {
          "base_uri": "https://localhost:8080/",
          "height": 296
        },
        "outputId": "89602cfc-c2b0-4f67-aefe-2158fa98957b"
      },
      "source": [
        "sns.violinplot(x = 'age', y = 'i3_health', data = df)"
      ],
      "execution_count": null,
      "outputs": [
        {
          "output_type": "execute_result",
          "data": {
            "text/plain": [
              "<matplotlib.axes._subplots.AxesSubplot at 0x7f67bce515c0>"
            ]
          },
          "metadata": {
            "tags": []
          },
          "execution_count": 64
        },
        {
          "output_type": "display_data",
          "data": {
            "image/png": "[encoded data removed]",
            "text/plain": [
              "<Figure size 432x288 with 1 Axes>"
            ]
          },
          "metadata": {
            "tags": [],
            "needs_background": "light"
          }
        }
      ]
    },
    {
      "cell_type": "code",
      "metadata": {
        "id": "HTCdaSiTe-1p",
        "colab": {
          "base_uri": "https://localhost:8080/"
        },
        "outputId": "87e3adac-8544-40af-df54-3043dbabe00c"
      },
      "source": [
        "df.info()"
      ],
      "execution_count": null,
      "outputs": [
        {
          "output_type": "stream",
          "text": [
            "<class 'pandas.core.frame.DataFrame'>\n",
            "Int64Index: 391842 entries, 0 to 404087\n",
            "Data columns (total 2 columns):\n",
            " #   Column     Non-Null Count   Dtype \n",
            "---  ------     --------------   ----- \n",
            " 0   age        391842 non-null  int64 \n",
            " 1   i3_health  391842 non-null  object\n",
            "dtypes: int64(1), object(1)\n",
            "memory usage: 19.0+ MB\n"
          ],
          "name": "stdout"
        }
      ]
    },
    {
      "cell_type": "code",
      "metadata": {
        "id": "XJhbadJpj7v7",
        "colab": {
          "base_uri": "https://localhost:8080/",
          "height": 297
        },
        "outputId": "a05bda6a-8488-4534-f787-f733aacb1355"
      },
      "source": [
        "df.describe()"
      ],
      "execution_count": null,
      "outputs": [
        {
          "output_type": "execute_result",
          "data": {
            "text/html": [
              "<div>\n",
              "<style scoped>\n",
              "    .dataframe tbody tr th:only-of-type {\n",
              "        vertical-align: middle;\n",
              "    }\n",
              "\n",
              "    .dataframe tbody tr th {\n",
              "        vertical-align: top;\n",
              "    }\n",
              "\n",
              "    .dataframe thead th {\n",
              "        text-align: right;\n",
              "    }\n",
              "</style>\n",
              "<table border=\"1\" class=\"dataframe\">\n",
              "  <thead>\n",
              "    <tr style=\"text-align: right;\">\n",
              "      <th></th>\n",
              "      <th>age</th>\n",
              "    </tr>\n",
              "  </thead>\n",
              "  <tbody>\n",
              "    <tr>\n",
              "      <th>count</th>\n",
              "      <td>391842.000000</td>\n",
              "    </tr>\n",
              "    <tr>\n",
              "      <th>mean</th>\n",
              "      <td>43.534141</td>\n",
              "    </tr>\n",
              "    <tr>\n",
              "      <th>std</th>\n",
              "      <td>16.321711</td>\n",
              "    </tr>\n",
              "    <tr>\n",
              "      <th>min</th>\n",
              "      <td>18.000000</td>\n",
              "    </tr>\n",
              "    <tr>\n",
              "      <th>25%</th>\n",
              "      <td>30.000000</td>\n",
              "    </tr>\n",
              "    <tr>\n",
              "      <th>50%</th>\n",
              "      <td>42.000000</td>\n",
              "    </tr>\n",
              "    <tr>\n",
              "      <th>75%</th>\n",
              "      <td>57.000000</td>\n",
              "    </tr>\n",
              "    <tr>\n",
              "      <th>max</th>\n",
              "      <td>99.000000</td>\n",
              "    </tr>\n",
              "  </tbody>\n",
              "</table>\n",
              "</div>"
            ],
            "text/plain": [
              "                 age\n",
              "count  391842.000000\n",
              "mean       43.534141\n",
              "std        16.321711\n",
              "min        18.000000\n",
              "25%        30.000000\n",
              "50%        42.000000\n",
              "75%        57.000000\n",
              "max        99.000000"
            ]
          },
          "metadata": {
            "tags": []
          },
          "execution_count": 57
        }
      ]
    },
    {
      "cell_type": "code",
      "metadata": {
        "id": "rww3m6wKq_e1",
        "colab": {
          "base_uri": "https://localhost:8080/"
        },
        "outputId": "af16d0a5-d76d-4499-e526-be7415bd9247"
      },
      "source": [
        "type(df.i3_health)\n"
      ],
      "execution_count": null,
      "outputs": [
        {
          "output_type": "execute_result",
          "data": {
            "text/plain": [
              "pandas.core.series.Series"
            ]
          },
          "metadata": {
            "tags": []
          },
          "execution_count": 83
        }
      ]
    },
    {
      "cell_type": "code",
      "metadata": {
        "id": "GmzALTCI9DzG",
        "colab": {
          "base_uri": "https://localhost:8080/"
        },
        "outputId": "8d3a2821-cb6c-41a5-b158-162f4cef1b68"
      },
      "source": [
        "#df['i3_health'] = df['i3_health'].str.split(',')\n",
        "answers = df['i3_health'].unique()\n",
        "grouped_df = df.groupby('i3_health')\n",
        "for var in ['age']:\n",
        "    print(\"------------------------------------------------\")\n",
        "    print(\"Comparisons for variable: {}\".format(var))\n",
        "    print(\"------------------------------------------------\")\n",
        "    for i in range (0, len(answers)):\n",
        "      for j in range (i+1, len(answers)):\n",
        "        print(\"t-test between groups {0} and {1}\".format(answers[i], answers[j]))\n",
        "        print(stats.ttest_ind(df[df['i3_health'] == answers[i]][var],\n",
        "                              df[df['i3_health'] == answers[j]][var]\n",
        "                              ))"
      ],
      "execution_count": null,
      "outputs": [
        {
          "output_type": "stream",
          "text": [
            "------------------------------------------------\n",
            "Comparisons for variable: age\n",
            "------------------------------------------------\n",
            "t-test between groups No, I have not and Yes, and I tested negative\n",
            "Ttest_indResult(statistic=69.9486401791606, pvalue=0.0)\n",
            "t-test between groups No, I have not and Yes, and I tested positive\n",
            "Ttest_indResult(statistic=44.185868431050714, pvalue=0.0)\n",
            "t-test between groups No, I have not and Yes, and I have not received my results from the test yet\n",
            "Ttest_indResult(statistic=42.597542695805686, pvalue=0.0)\n",
            "t-test between groups Yes, and I tested negative and Yes, and I tested positive\n",
            "Ttest_indResult(statistic=16.490658374658548, pvalue=8.120908136718819e-61)\n",
            "t-test between groups Yes, and I tested negative and Yes, and I have not received my results from the test yet\n",
            "Ttest_indResult(statistic=11.018685339718408, pvalue=3.5198982414410285e-28)\n",
            "t-test between groups Yes, and I tested positive and Yes, and I have not received my results from the test yet\n",
            "Ttest_indResult(statistic=-5.44670032727816, pvalue=5.2621257751115874e-08)\n"
          ],
          "name": "stdout"
        }
      ]
    },
    {
      "cell_type": "code",
      "metadata": {
        "id": "JFPMpZqe1ygu",
        "colab": {
          "base_uri": "https://localhost:8080/"
        },
        "outputId": "724cc0f2-e1a2-4272-e5c8-c24740fbcc4e"
      },
      "source": [
        "#----------- df variavle redefined, be sure to keep these in order\n",
        "df = pd.crosstab(covid_148['age'], covid_148['i3_health'])\n",
        "print(stats.chisquare(df, axis=None))"
      ],
      "execution_count": null,
      "outputs": [
        {
          "output_type": "stream",
          "text": [
            "Power_divergenceResult(statistic=1497954.177153036, pvalue=0.0)\n"
          ],
          "name": "stdout"
        }
      ]
    },
    {
      "cell_type": "code",
      "metadata": {
        "id": "6gsRHJV-BGbw",
        "colab": {
          "base_uri": "https://localhost:8080/",
          "height": 204
        },
        "outputId": "9e4887bf-e2e9-4db1-c571-1097195f6bcd"
      },
      "source": [
        "df = covid_148[['age', 'i3_health']]\n",
        "df.groupby('i3_health').mean()"
      ],
      "execution_count": null,
      "outputs": [
        {
          "output_type": "execute_result",
          "data": {
            "text/html": [
              "<div>\n",
              "<style scoped>\n",
              "    .dataframe tbody tr th:only-of-type {\n",
              "        vertical-align: middle;\n",
              "    }\n",
              "\n",
              "    .dataframe tbody tr th {\n",
              "        vertical-align: top;\n",
              "    }\n",
              "\n",
              "    .dataframe thead th {\n",
              "        text-align: right;\n",
              "    }\n",
              "</style>\n",
              "<table border=\"1\" class=\"dataframe\">\n",
              "  <thead>\n",
              "    <tr style=\"text-align: right;\">\n",
              "      <th></th>\n",
              "      <th>age</th>\n",
              "    </tr>\n",
              "    <tr>\n",
              "      <th>i3_health</th>\n",
              "      <th></th>\n",
              "    </tr>\n",
              "  </thead>\n",
              "  <tbody>\n",
              "    <tr>\n",
              "      <th>No, I have not</th>\n",
              "      <td>44.253067</td>\n",
              "    </tr>\n",
              "    <tr>\n",
              "      <th>Yes, and I have not received my results from the test yet</th>\n",
              "      <td>34.443291</td>\n",
              "    </tr>\n",
              "    <tr>\n",
              "      <th>Yes, and I tested negative</th>\n",
              "      <td>36.787294</td>\n",
              "    </tr>\n",
              "    <tr>\n",
              "      <th>Yes, and I tested positive</th>\n",
              "      <td>33.053371</td>\n",
              "    </tr>\n",
              "  </tbody>\n",
              "</table>\n",
              "</div>"
            ],
            "text/plain": [
              "                                                          age\n",
              "i3_health                                                    \n",
              "No, I have not                                      44.253067\n",
              "Yes, and I have not received my results from th...  34.443291\n",
              "Yes, and I tested negative                          36.787294\n",
              "Yes, and I tested positive                          33.053371"
            ]
          },
          "metadata": {
            "tags": []
          },
          "execution_count": 105
        }
      ]
    },
    {
      "cell_type": "code",
      "metadata": {
        "id": "X9EthyB-CRxT"
      },
      "source": [
        ""
      ],
      "execution_count": null,
      "outputs": []
    },
    {
      "cell_type": "code",
      "metadata": {
        "id": "hW2dHa7FBJmu",
        "colab": {
          "base_uri": "https://localhost:8080/",
          "height": 629
        },
        "outputId": "f71b87a0-9b8c-4f9c-b7f3-05db17f1ee1b"
      },
      "source": [
        "\n",
        "plt.subplot(1,4,1)\n",
        "test_covid = df[df['i3_health'] == 'Yes, and I tested positive']\n",
        "sns.set(rc={'figure.figsize':(13,10)})\n",
        "sns.countplot(y='age', data = test_covid)\n",
        "plt.subplot(1,4,2)\n",
        "test_covid = df[df['i3_health'] == 'No, I have not']\n",
        "sns.set(rc={'figure.figsize':(13,10)})\n",
        "sns.countplot(y='age', data = test_covid)\n",
        "plt.subplot(1,4,3)\n",
        "test_covid = df[df['i3_health'] == 'Yes, and I have not received my results from the test yet']\n",
        "sns.set(rc={'figure.figsize':(13,10)})\n",
        "sns.countplot(y='age', data = test_covid)\n",
        "plt.subplot(1,4,4)\n",
        "test_covid = df[df['i3_health'] == 'Yes, and I tested negative']\n",
        "sns.set(rc={'figure.figsize':(13,10)})\n",
        "sns.countplot(y='age', data = test_covid)\n"
      ],
      "execution_count": null,
      "outputs": [
        {
          "output_type": "execute_result",
          "data": {
            "text/plain": [
              "<matplotlib.axes._subplots.AxesSubplot at 0x7f67ba40fa58>"
            ]
          },
          "metadata": {
            "tags": []
          },
          "execution_count": 113
        },
        {
          "output_type": "display_data",
          "data": {
            "image/png": "[encoded data removed]",
            "text/plain": [
              "<Figure size 936x720 with 4 Axes>"
            ]
          },
          "metadata": {
            "tags": []
          }
        }
      ]
    },
    {
      "cell_type": "code",
      "metadata": {
        "id": "3wrVHf_pEHjC"
      },
      "source": [
        "\n",
        "plt.subplot(1,4,1)\n",
        "test_covid = df[df['i3_health'] == 'Yes, and I tested positive']\n",
        "sns.set(rc={'figure.figsize':(13,10)})\n",
        "sns.countplot(y='age', data = test_covid)\n",
        "plt.subplot(1,4,2)\n",
        "test_covid = df[df['i3_health'] == 'No, I have not']\n",
        "sns.set(rc={'figure.figsize':(13,10)})\n",
        "sns.countplot(y='age', data = test_covid)\n",
        "plt.subplot(1,4,3)\n",
        "test_covid = df[df['i3_health'] == 'Yes, and I have not received my results from the test yet']\n",
        "sns.set(rc={'figure.figsize':(13,10)})\n",
        "sns.countplot(y='age', data = test_covid)\n",
        "plt.subplot(1,4,4)\n",
        "test_covid = df[df['i3_health'] == 'Yes, and I tested negative']\n",
        "sns.set(rc={'figure.figsize':(13,10)})\n",
        "sns.countplot(y='age', data = test_covid)"
      ],
      "execution_count": null,
      "outputs": []
    },
    {
      "cell_type": "code",
      "metadata": {
        "id": "XEnP9fTo2JHE",
        "colab": {
          "base_uri": "https://localhost:8080/",
          "height": 1000
        },
        "outputId": "2c39819d-686f-4942-e8d1-8ffd32c04b1b"
      },
      "source": [
        "\n",
        "sns.countplot(y='i3_health', hue='age', data=covid_148)"
      ],
      "execution_count": null,
      "outputs": [
        {
          "output_type": "execute_result",
          "data": {
            "text/plain": [
              "<matplotlib.axes._subplots.AxesSubplot at 0x7f67bd489518>"
            ]
          },
          "metadata": {
            "tags": []
          },
          "execution_count": 32
        },
        {
          "output_type": "display_data",
          "data": {
            "image/png": "[encoded data removed]",
            "text/plain": [
              "<Figure size 432x288 with 1 Axes>"
            ]
          },
          "metadata": {
            "tags": [],
            "needs_background": "light"
          }
        }
      ]
    },
    {
      "cell_type": "code",
      "metadata": {
        "id": "a-EV0jAf2JNM",
        "colab": {
          "base_uri": "https://localhost:8080/"
        },
        "outputId": "58b448aa-28bd-4b13-f955-6d974a25d29b"
      },
      "source": [
        "df = pd.crosstab(covid_148['age'], covid_148['i4_health'])\n",
        "print(stats.chisquare(df, axis=None))"
      ],
      "execution_count": null,
      "outputs": [
        {
          "output_type": "stream",
          "text": [
            "Power_divergenceResult(statistic=1745138.8404918308, pvalue=0.0)\n"
          ],
          "name": "stdout"
        }
      ]
    },
    {
      "cell_type": "code",
      "metadata": {
        "id": "nU7j8H1H2bWb",
        "colab": {
          "base_uri": "https://localhost:8080/",
          "height": 1000
        },
        "outputId": "0afa3dc1-8e23-4597-cad5-356a2a1b6071"
      },
      "source": [
        "sns.countplot(y='i4_health', hue='age', data=covid_148)"
      ],
      "execution_count": null,
      "outputs": [
        {
          "output_type": "execute_result",
          "data": {
            "text/plain": [
              "<matplotlib.axes._subplots.AxesSubplot at 0x7f67bcff8a20>"
            ]
          },
          "metadata": {
            "tags": []
          },
          "execution_count": 34
        },
        {
          "output_type": "display_data",
          "data": {
            "image/png": "[encoded data removed]",
            "text/plain": [
              "<Figure size 432x288 with 1 Axes>"
            ]
          },
          "metadata": {
            "tags": [],
            "needs_background": "light"
          }
        }
      ]
    },
    {
      "cell_type": "markdown",
      "metadata": {
        "id": "bAnEtNdU1nu8"
      },
      "source": [
        "##### Weight - categorical to continuous (ratio)"
      ]
    },
    {
      "cell_type": "code",
      "metadata": {
        "id": "EeIduVAa231X",
        "colab": {
          "base_uri": "https://localhost:8080/"
        },
        "outputId": "3e1a0670-5834-4727-ee40-89ad64e2517b"
      },
      "source": [
        "df = pd.crosstab(covid_148['weight'], covid_148['i3_health'])\n",
        "print(stats.chisquare(df, axis=None))"
      ],
      "execution_count": null,
      "outputs": [
        {
          "output_type": "stream",
          "text": [
            "Power_divergenceResult(statistic=6805789.470235454, pvalue=0.0)\n"
          ],
          "name": "stdout"
        }
      ]
    },
    {
      "cell_type": "code",
      "metadata": {
        "id": "-yvEpnPH24B-",
        "colab": {
          "base_uri": "https://localhost:8080/",
          "height": 307
        },
        "outputId": "b7c647fa-6c91-44c7-c608-3ca2f77a4224"
      },
      "source": [
        "sns.countplot(y='i3_health', hue='weight', data=covid_148)"
      ],
      "execution_count": null,
      "outputs": [
        {
          "output_type": "error",
          "ename": "KeyboardInterrupt",
          "evalue": "ignored",
          "traceback": [
            "\u001b[0;31m---------------------------------------------------------------------------\u001b[0m",
            "\u001b[0;31mKeyboardInterrupt\u001b[0m                         Traceback (most recent call last)",
            "\u001b[0;32m<ipython-input-37-1db1efa3dc42>\u001b[0m in \u001b[0;36m<module>\u001b[0;34m()\u001b[0m\n\u001b[0;32m----> 1\u001b[0;31m \u001b[0msns\u001b[0m\u001b[0;34m.\u001b[0m\u001b[0mcountplot\u001b[0m\u001b[0;34m(\u001b[0m\u001b[0my\u001b[0m\u001b[0;34m=\u001b[0m\u001b[0;34m'i3_health'\u001b[0m\u001b[0;34m,\u001b[0m \u001b[0mhue\u001b[0m\u001b[0;34m=\u001b[0m\u001b[0;34m'weight'\u001b[0m\u001b[0;34m,\u001b[0m \u001b[0mdata\u001b[0m\u001b[0;34m=\u001b[0m\u001b[0mcovid_148\u001b[0m\u001b[0;34m)\u001b[0m\u001b[0;34m\u001b[0m\u001b[0;34m\u001b[0m\u001b[0m\n\u001b[0m",
            "\u001b[0;32m/usr/local/lib/python3.6/dist-packages/seaborn/_decorators.py\u001b[0m in \u001b[0;36minner_f\u001b[0;34m(*args, **kwargs)\u001b[0m\n\u001b[1;32m     44\u001b[0m             )\n\u001b[1;32m     45\u001b[0m         \u001b[0mkwargs\u001b[0m\u001b[0;34m.\u001b[0m\u001b[0mupdate\u001b[0m\u001b[0;34m(\u001b[0m\u001b[0;34m{\u001b[0m\u001b[0mk\u001b[0m\u001b[0;34m:\u001b[0m \u001b[0marg\u001b[0m \u001b[0;32mfor\u001b[0m \u001b[0mk\u001b[0m\u001b[0;34m,\u001b[0m \u001b[0marg\u001b[0m \u001b[0;32min\u001b[0m \u001b[0mzip\u001b[0m\u001b[0;34m(\u001b[0m\u001b[0msig\u001b[0m\u001b[0;34m.\u001b[0m\u001b[0mparameters\u001b[0m\u001b[0;34m,\u001b[0m \u001b[0margs\u001b[0m\u001b[0;34m)\u001b[0m\u001b[0;34m}\u001b[0m\u001b[0;34m)\u001b[0m\u001b[0;34m\u001b[0m\u001b[0;34m\u001b[0m\u001b[0m\n\u001b[0;32m---> 46\u001b[0;31m         \u001b[0;32mreturn\u001b[0m \u001b[0mf\u001b[0m\u001b[0;34m(\u001b[0m\u001b[0;34m**\u001b[0m\u001b[0mkwargs\u001b[0m\u001b[0;34m)\u001b[0m\u001b[0;34m\u001b[0m\u001b[0;34m\u001b[0m\u001b[0m\n\u001b[0m\u001b[1;32m     47\u001b[0m     \u001b[0;32mreturn\u001b[0m \u001b[0minner_f\u001b[0m\u001b[0;34m\u001b[0m\u001b[0;34m\u001b[0m\u001b[0m\n\u001b[1;32m     48\u001b[0m \u001b[0;34m\u001b[0m\u001b[0m\n",
            "\u001b[0;32m/usr/local/lib/python3.6/dist-packages/seaborn/categorical.py\u001b[0m in \u001b[0;36mcountplot\u001b[0;34m(x, y, hue, data, order, hue_order, orient, color, palette, saturation, dodge, ax, **kwargs)\u001b[0m\n\u001b[1;32m   3587\u001b[0m         \u001b[0mestimator\u001b[0m\u001b[0;34m,\u001b[0m \u001b[0mci\u001b[0m\u001b[0;34m,\u001b[0m \u001b[0mn_boot\u001b[0m\u001b[0;34m,\u001b[0m \u001b[0munits\u001b[0m\u001b[0;34m,\u001b[0m \u001b[0mseed\u001b[0m\u001b[0;34m,\u001b[0m\u001b[0;34m\u001b[0m\u001b[0;34m\u001b[0m\u001b[0m\n\u001b[1;32m   3588\u001b[0m         \u001b[0morient\u001b[0m\u001b[0;34m,\u001b[0m \u001b[0mcolor\u001b[0m\u001b[0;34m,\u001b[0m \u001b[0mpalette\u001b[0m\u001b[0;34m,\u001b[0m \u001b[0msaturation\u001b[0m\u001b[0;34m,\u001b[0m\u001b[0;34m\u001b[0m\u001b[0;34m\u001b[0m\u001b[0m\n\u001b[0;32m-> 3589\u001b[0;31m         \u001b[0merrcolor\u001b[0m\u001b[0;34m,\u001b[0m \u001b[0merrwidth\u001b[0m\u001b[0;34m,\u001b[0m \u001b[0mcapsize\u001b[0m\u001b[0;34m,\u001b[0m \u001b[0mdodge\u001b[0m\u001b[0;34m\u001b[0m\u001b[0;34m\u001b[0m\u001b[0m\n\u001b[0m\u001b[1;32m   3590\u001b[0m     )\n\u001b[1;32m   3591\u001b[0m \u001b[0;34m\u001b[0m\u001b[0m\n",
            "\u001b[0;32m/usr/local/lib/python3.6/dist-packages/seaborn/categorical.py\u001b[0m in \u001b[0;36m__init__\u001b[0;34m(self, x, y, hue, data, order, hue_order, estimator, ci, n_boot, units, seed, orient, color, palette, saturation, errcolor, errwidth, capsize, dodge)\u001b[0m\n\u001b[1;32m   1585\u001b[0m                                  order, hue_order, units)\n\u001b[1;32m   1586\u001b[0m         \u001b[0mself\u001b[0m\u001b[0;34m.\u001b[0m\u001b[0mestablish_colors\u001b[0m\u001b[0;34m(\u001b[0m\u001b[0mcolor\u001b[0m\u001b[0;34m,\u001b[0m \u001b[0mpalette\u001b[0m\u001b[0;34m,\u001b[0m \u001b[0msaturation\u001b[0m\u001b[0;34m)\u001b[0m\u001b[0;34m\u001b[0m\u001b[0;34m\u001b[0m\u001b[0m\n\u001b[0;32m-> 1587\u001b[0;31m         \u001b[0mself\u001b[0m\u001b[0;34m.\u001b[0m\u001b[0mestimate_statistic\u001b[0m\u001b[0;34m(\u001b[0m\u001b[0mestimator\u001b[0m\u001b[0;34m,\u001b[0m \u001b[0mci\u001b[0m\u001b[0;34m,\u001b[0m \u001b[0mn_boot\u001b[0m\u001b[0;34m,\u001b[0m \u001b[0mseed\u001b[0m\u001b[0;34m)\u001b[0m\u001b[0;34m\u001b[0m\u001b[0;34m\u001b[0m\u001b[0m\n\u001b[0m\u001b[1;32m   1588\u001b[0m \u001b[0;34m\u001b[0m\u001b[0m\n\u001b[1;32m   1589\u001b[0m         \u001b[0mself\u001b[0m\u001b[0;34m.\u001b[0m\u001b[0mdodge\u001b[0m \u001b[0;34m=\u001b[0m \u001b[0mdodge\u001b[0m\u001b[0;34m\u001b[0m\u001b[0;34m\u001b[0m\u001b[0m\n",
            "\u001b[0;32m/usr/local/lib/python3.6/dist-packages/seaborn/categorical.py\u001b[0m in \u001b[0;36mestimate_statistic\u001b[0;34m(self, estimator, ci, n_boot, seed)\u001b[0m\n\u001b[1;32m   1502\u001b[0m                         \u001b[0;32mcontinue\u001b[0m\u001b[0;34m\u001b[0m\u001b[0;34m\u001b[0m\u001b[0m\n\u001b[1;32m   1503\u001b[0m \u001b[0;34m\u001b[0m\u001b[0m\n\u001b[0;32m-> 1504\u001b[0;31m                     \u001b[0mhue_mask\u001b[0m \u001b[0;34m=\u001b[0m \u001b[0mself\u001b[0m\u001b[0;34m.\u001b[0m\u001b[0mplot_hues\u001b[0m\u001b[0;34m[\u001b[0m\u001b[0mi\u001b[0m\u001b[0;34m]\u001b[0m \u001b[0;34m==\u001b[0m \u001b[0mhue_level\u001b[0m\u001b[0;34m\u001b[0m\u001b[0;34m\u001b[0m\u001b[0m\n\u001b[0m\u001b[1;32m   1505\u001b[0m                     \u001b[0;32mif\u001b[0m \u001b[0mself\u001b[0m\u001b[0;34m.\u001b[0m\u001b[0mplot_units\u001b[0m \u001b[0;32mis\u001b[0m \u001b[0;32mNone\u001b[0m\u001b[0;34m:\u001b[0m\u001b[0;34m\u001b[0m\u001b[0;34m\u001b[0m\u001b[0m\n\u001b[1;32m   1506\u001b[0m                         \u001b[0mstat_data\u001b[0m \u001b[0;34m=\u001b[0m \u001b[0mremove_na\u001b[0m\u001b[0;34m(\u001b[0m\u001b[0mgroup_data\u001b[0m\u001b[0;34m[\u001b[0m\u001b[0mhue_mask\u001b[0m\u001b[0;34m]\u001b[0m\u001b[0;34m)\u001b[0m\u001b[0;34m\u001b[0m\u001b[0;34m\u001b[0m\u001b[0m\n",
            "\u001b[0;32m/usr/local/lib/python3.6/dist-packages/pandas/core/ops/common.py\u001b[0m in \u001b[0;36mnew_method\u001b[0;34m(self, other)\u001b[0m\n\u001b[1;32m     63\u001b[0m         \u001b[0mother\u001b[0m \u001b[0;34m=\u001b[0m \u001b[0mitem_from_zerodim\u001b[0m\u001b[0;34m(\u001b[0m\u001b[0mother\u001b[0m\u001b[0;34m)\u001b[0m\u001b[0;34m\u001b[0m\u001b[0;34m\u001b[0m\u001b[0m\n\u001b[1;32m     64\u001b[0m \u001b[0;34m\u001b[0m\u001b[0m\n\u001b[0;32m---> 65\u001b[0;31m         \u001b[0;32mreturn\u001b[0m \u001b[0mmethod\u001b[0m\u001b[0;34m(\u001b[0m\u001b[0mself\u001b[0m\u001b[0;34m,\u001b[0m \u001b[0mother\u001b[0m\u001b[0;34m)\u001b[0m\u001b[0;34m\u001b[0m\u001b[0;34m\u001b[0m\u001b[0m\n\u001b[0m\u001b[1;32m     66\u001b[0m \u001b[0;34m\u001b[0m\u001b[0m\n\u001b[1;32m     67\u001b[0m     \u001b[0;32mreturn\u001b[0m \u001b[0mnew_method\u001b[0m\u001b[0;34m\u001b[0m\u001b[0;34m\u001b[0m\u001b[0m\n",
            "\u001b[0;32m/usr/local/lib/python3.6/dist-packages/pandas/core/ops/__init__.py\u001b[0m in \u001b[0;36mwrapper\u001b[0;34m(self, other)\u001b[0m\n\u001b[1;32m    368\u001b[0m         \u001b[0mrvalues\u001b[0m \u001b[0;34m=\u001b[0m \u001b[0mextract_array\u001b[0m\u001b[0;34m(\u001b[0m\u001b[0mother\u001b[0m\u001b[0;34m,\u001b[0m \u001b[0mextract_numpy\u001b[0m\u001b[0;34m=\u001b[0m\u001b[0;32mTrue\u001b[0m\u001b[0;34m)\u001b[0m\u001b[0;34m\u001b[0m\u001b[0;34m\u001b[0m\u001b[0m\n\u001b[1;32m    369\u001b[0m \u001b[0;34m\u001b[0m\u001b[0m\n\u001b[0;32m--> 370\u001b[0;31m         \u001b[0mres_values\u001b[0m \u001b[0;34m=\u001b[0m \u001b[0mcomparison_op\u001b[0m\u001b[0;34m(\u001b[0m\u001b[0mlvalues\u001b[0m\u001b[0;34m,\u001b[0m \u001b[0mrvalues\u001b[0m\u001b[0;34m,\u001b[0m \u001b[0mop\u001b[0m\u001b[0;34m)\u001b[0m\u001b[0;34m\u001b[0m\u001b[0;34m\u001b[0m\u001b[0m\n\u001b[0m\u001b[1;32m    371\u001b[0m \u001b[0;34m\u001b[0m\u001b[0m\n\u001b[1;32m    372\u001b[0m         \u001b[0;32mreturn\u001b[0m \u001b[0mself\u001b[0m\u001b[0;34m.\u001b[0m\u001b[0m_construct_result\u001b[0m\u001b[0;34m(\u001b[0m\u001b[0mres_values\u001b[0m\u001b[0;34m,\u001b[0m \u001b[0mname\u001b[0m\u001b[0;34m=\u001b[0m\u001b[0mres_name\u001b[0m\u001b[0;34m)\u001b[0m\u001b[0;34m\u001b[0m\u001b[0;34m\u001b[0m\u001b[0m\n",
            "\u001b[0;32m/usr/local/lib/python3.6/dist-packages/pandas/core/ops/array_ops.py\u001b[0m in \u001b[0;36mcomparison_op\u001b[0;34m(left, right, op)\u001b[0m\n\u001b[1;32m    249\u001b[0m             \u001b[0mwarnings\u001b[0m\u001b[0;34m.\u001b[0m\u001b[0msimplefilter\u001b[0m\u001b[0;34m(\u001b[0m\u001b[0;34m\"ignore\"\u001b[0m\u001b[0;34m,\u001b[0m \u001b[0mDeprecationWarning\u001b[0m\u001b[0;34m)\u001b[0m\u001b[0;34m\u001b[0m\u001b[0;34m\u001b[0m\u001b[0m\n\u001b[1;32m    250\u001b[0m             \u001b[0;32mwith\u001b[0m \u001b[0mnp\u001b[0m\u001b[0;34m.\u001b[0m\u001b[0merrstate\u001b[0m\u001b[0;34m(\u001b[0m\u001b[0mall\u001b[0m\u001b[0;34m=\u001b[0m\u001b[0;34m\"ignore\"\u001b[0m\u001b[0;34m)\u001b[0m\u001b[0;34m:\u001b[0m\u001b[0;34m\u001b[0m\u001b[0;34m\u001b[0m\u001b[0m\n\u001b[0;32m--> 251\u001b[0;31m                 \u001b[0mres_values\u001b[0m \u001b[0;34m=\u001b[0m \u001b[0mna_arithmetic_op\u001b[0m\u001b[0;34m(\u001b[0m\u001b[0mlvalues\u001b[0m\u001b[0;34m,\u001b[0m \u001b[0mrvalues\u001b[0m\u001b[0;34m,\u001b[0m \u001b[0mop\u001b[0m\u001b[0;34m,\u001b[0m \u001b[0mis_cmp\u001b[0m\u001b[0;34m=\u001b[0m\u001b[0;32mTrue\u001b[0m\u001b[0;34m)\u001b[0m\u001b[0;34m\u001b[0m\u001b[0;34m\u001b[0m\u001b[0m\n\u001b[0m\u001b[1;32m    252\u001b[0m \u001b[0;34m\u001b[0m\u001b[0m\n\u001b[1;32m    253\u001b[0m     \u001b[0;32mreturn\u001b[0m \u001b[0mres_values\u001b[0m\u001b[0;34m\u001b[0m\u001b[0;34m\u001b[0m\u001b[0m\n",
            "\u001b[0;32m/usr/local/lib/python3.6/dist-packages/pandas/core/ops/array_ops.py\u001b[0m in \u001b[0;36mna_arithmetic_op\u001b[0;34m(left, right, op, is_cmp)\u001b[0m\n\u001b[1;32m    141\u001b[0m \u001b[0;34m\u001b[0m\u001b[0m\n\u001b[1;32m    142\u001b[0m     \u001b[0;32mtry\u001b[0m\u001b[0;34m:\u001b[0m\u001b[0;34m\u001b[0m\u001b[0;34m\u001b[0m\u001b[0m\n\u001b[0;32m--> 143\u001b[0;31m         \u001b[0mresult\u001b[0m \u001b[0;34m=\u001b[0m \u001b[0mexpressions\u001b[0m\u001b[0;34m.\u001b[0m\u001b[0mevaluate\u001b[0m\u001b[0;34m(\u001b[0m\u001b[0mop\u001b[0m\u001b[0;34m,\u001b[0m \u001b[0mleft\u001b[0m\u001b[0;34m,\u001b[0m \u001b[0mright\u001b[0m\u001b[0;34m)\u001b[0m\u001b[0;34m\u001b[0m\u001b[0;34m\u001b[0m\u001b[0m\n\u001b[0m\u001b[1;32m    144\u001b[0m     \u001b[0;32mexcept\u001b[0m \u001b[0mTypeError\u001b[0m\u001b[0;34m:\u001b[0m\u001b[0;34m\u001b[0m\u001b[0;34m\u001b[0m\u001b[0m\n\u001b[1;32m    145\u001b[0m         \u001b[0;32mif\u001b[0m \u001b[0mis_cmp\u001b[0m\u001b[0;34m:\u001b[0m\u001b[0;34m\u001b[0m\u001b[0;34m\u001b[0m\u001b[0m\n",
            "\u001b[0;32m/usr/local/lib/python3.6/dist-packages/pandas/core/computation/expressions.py\u001b[0m in \u001b[0;36mevaluate\u001b[0;34m(op, a, b, use_numexpr)\u001b[0m\n\u001b[1;32m    231\u001b[0m         \u001b[0muse_numexpr\u001b[0m \u001b[0;34m=\u001b[0m \u001b[0muse_numexpr\u001b[0m \u001b[0;32mand\u001b[0m \u001b[0m_bool_arith_check\u001b[0m\u001b[0;34m(\u001b[0m\u001b[0mop_str\u001b[0m\u001b[0;34m,\u001b[0m \u001b[0ma\u001b[0m\u001b[0;34m,\u001b[0m \u001b[0mb\u001b[0m\u001b[0;34m)\u001b[0m\u001b[0;34m\u001b[0m\u001b[0;34m\u001b[0m\u001b[0m\n\u001b[1;32m    232\u001b[0m         \u001b[0;32mif\u001b[0m \u001b[0muse_numexpr\u001b[0m\u001b[0;34m:\u001b[0m\u001b[0;34m\u001b[0m\u001b[0;34m\u001b[0m\u001b[0m\n\u001b[0;32m--> 233\u001b[0;31m             \u001b[0;32mreturn\u001b[0m \u001b[0m_evaluate\u001b[0m\u001b[0;34m(\u001b[0m\u001b[0mop\u001b[0m\u001b[0;34m,\u001b[0m \u001b[0mop_str\u001b[0m\u001b[0;34m,\u001b[0m \u001b[0ma\u001b[0m\u001b[0;34m,\u001b[0m \u001b[0mb\u001b[0m\u001b[0;34m)\u001b[0m  \u001b[0;31m# type: ignore\u001b[0m\u001b[0;34m\u001b[0m\u001b[0;34m\u001b[0m\u001b[0m\n\u001b[0m\u001b[1;32m    234\u001b[0m     \u001b[0;32mreturn\u001b[0m \u001b[0m_evaluate_standard\u001b[0m\u001b[0;34m(\u001b[0m\u001b[0mop\u001b[0m\u001b[0;34m,\u001b[0m \u001b[0mop_str\u001b[0m\u001b[0;34m,\u001b[0m \u001b[0ma\u001b[0m\u001b[0;34m,\u001b[0m \u001b[0mb\u001b[0m\u001b[0;34m)\u001b[0m\u001b[0;34m\u001b[0m\u001b[0;34m\u001b[0m\u001b[0m\n\u001b[1;32m    235\u001b[0m \u001b[0;34m\u001b[0m\u001b[0m\n",
            "\u001b[0;32m/usr/local/lib/python3.6/dist-packages/pandas/core/computation/expressions.py\u001b[0m in \u001b[0;36m_evaluate_numexpr\u001b[0;34m(op, op_str, a, b)\u001b[0m\n\u001b[1;32m    110\u001b[0m             \u001b[0;34mf\"a_value {op_str} b_value\"\u001b[0m\u001b[0;34m,\u001b[0m\u001b[0;34m\u001b[0m\u001b[0;34m\u001b[0m\u001b[0m\n\u001b[1;32m    111\u001b[0m             \u001b[0mlocal_dict\u001b[0m\u001b[0;34m=\u001b[0m\u001b[0;34m{\u001b[0m\u001b[0;34m\"a_value\"\u001b[0m\u001b[0;34m:\u001b[0m \u001b[0ma_value\u001b[0m\u001b[0;34m,\u001b[0m \u001b[0;34m\"b_value\"\u001b[0m\u001b[0;34m:\u001b[0m \u001b[0mb_value\u001b[0m\u001b[0;34m}\u001b[0m\u001b[0;34m,\u001b[0m\u001b[0;34m\u001b[0m\u001b[0;34m\u001b[0m\u001b[0m\n\u001b[0;32m--> 112\u001b[0;31m             \u001b[0mcasting\u001b[0m\u001b[0;34m=\u001b[0m\u001b[0;34m\"safe\"\u001b[0m\u001b[0;34m,\u001b[0m\u001b[0;34m\u001b[0m\u001b[0;34m\u001b[0m\u001b[0m\n\u001b[0m\u001b[1;32m    113\u001b[0m         )\n\u001b[1;32m    114\u001b[0m \u001b[0;34m\u001b[0m\u001b[0m\n",
            "\u001b[0;32m/usr/local/lib/python3.6/dist-packages/numexpr/necompiler.py\u001b[0m in \u001b[0;36mevaluate\u001b[0;34m(ex, local_dict, global_dict, out, order, casting, **kwargs)\u001b[0m\n\u001b[1;32m    832\u001b[0m     \u001b[0m_numexpr_last\u001b[0m \u001b[0;34m=\u001b[0m \u001b[0mdict\u001b[0m\u001b[0;34m(\u001b[0m\u001b[0mex\u001b[0m\u001b[0;34m=\u001b[0m\u001b[0mcompiled_ex\u001b[0m\u001b[0;34m,\u001b[0m \u001b[0margnames\u001b[0m\u001b[0;34m=\u001b[0m\u001b[0mnames\u001b[0m\u001b[0;34m,\u001b[0m \u001b[0mkwargs\u001b[0m\u001b[0;34m=\u001b[0m\u001b[0mkwargs\u001b[0m\u001b[0;34m)\u001b[0m\u001b[0;34m\u001b[0m\u001b[0;34m\u001b[0m\u001b[0m\n\u001b[1;32m    833\u001b[0m     \u001b[0;32mwith\u001b[0m \u001b[0mevaluate_lock\u001b[0m\u001b[0;34m:\u001b[0m\u001b[0;34m\u001b[0m\u001b[0;34m\u001b[0m\u001b[0m\n\u001b[0;32m--> 834\u001b[0;31m         \u001b[0;32mreturn\u001b[0m \u001b[0mcompiled_ex\u001b[0m\u001b[0;34m(\u001b[0m\u001b[0;34m*\u001b[0m\u001b[0marguments\u001b[0m\u001b[0;34m,\u001b[0m \u001b[0;34m**\u001b[0m\u001b[0mkwargs\u001b[0m\u001b[0;34m)\u001b[0m\u001b[0;34m\u001b[0m\u001b[0;34m\u001b[0m\u001b[0m\n\u001b[0m\u001b[1;32m    835\u001b[0m \u001b[0;34m\u001b[0m\u001b[0m\n\u001b[1;32m    836\u001b[0m \u001b[0;34m\u001b[0m\u001b[0m\n",
            "\u001b[0;31mKeyboardInterrupt\u001b[0m: "
          ]
        }
      ]
    },
    {
      "cell_type": "code",
      "metadata": {
        "id": "MAM_3jP624Hb"
      },
      "source": [
        "df = pd.crosstab(covid_148['weight'], covid_148['i4_health'])\n",
        "print(stats.chisquare(df, axis=None))"
      ],
      "execution_count": null,
      "outputs": []
    },
    {
      "cell_type": "code",
      "metadata": {
        "id": "JGm0uGFn24Nv"
      },
      "source": [
        "print(stats.chisquare(df, axis=None))"
      ],
      "execution_count": null,
      "outputs": []
    },
    {
      "cell_type": "code",
      "metadata": {
        "id": "EBWMERpX24Vg"
      },
      "source": [
        "sns.countplot(y='i4_health', hue='weight', data=covid_148)"
      ],
      "execution_count": null,
      "outputs": []
    },
    {
      "cell_type": "markdown",
      "metadata": {
        "id": "vEmSZhBvar-t"
      },
      "source": [
        "### Columns with empty strings as category "
      ]
    },
    {
      "cell_type": "markdown",
      "metadata": {
        "id": "MIIbb5kGwGpD"
      },
      "source": [
        "##### 5% Empty Strings - i3_health"
      ]
    },
    {
      "cell_type": "code",
      "metadata": {
        "id": "S9oLN-99YGGt"
      },
      "source": [
        "#Encoding"
      ],
      "execution_count": null,
      "outputs": []
    },
    {
      "cell_type": "code",
      "metadata": {
        "id": "RuAH7vHAGZCY",
        "colab": {
          "base_uri": "https://localhost:8080/"
        },
        "outputId": "881002c7-1f4c-4009-9ab5-e60b0ad77d13"
      },
      "source": [
        "np.asarray(empty_count['Columns'][empty_count['Percent Emtpy'] < 5])"
      ],
      "execution_count": null,
      "outputs": [
        {
          "output_type": "execute_result",
          "data": {
            "text/plain": [
              "array(['i4_health', 'Country', 'weight', 'i3_health', 'age', 'endtime',\n",
              "       'gender', 'qweek', 'household_size', 'household_children',\n",
              "       'i1_health', 'i14_health_other', 'i7a_health', 'i13_health',\n",
              "       'i12_health_3', 'i12_health_19', 'i12_health_14', 'i12_health_13',\n",
              "       'i2_health', 'i12_health_16', 'i12_health_1', 'i12_health_15',\n",
              "       'i12_health_18', 'i12_health_6', 'i12_health_4', 'i12_health_7',\n",
              "       'i12_health_12', 'i12_health_20', 'i12_health_2', 'i12_health_11',\n",
              "       'i12_health_8', 'i12_health_5', 'i12_health_17', 'i5_health_4',\n",
              "       'i5_health_2', 'i5_health_1', 'i5_health_99', 'i5_health_3',\n",
              "       'i5_health_5', 'd1_health_99', 'd1_health_7', 'd1_health_6',\n",
              "       'd1_health_8', 'd1_health_11', 'd1_health_2', 'd1_health_4',\n",
              "       'd1_health_13', 'd1_health_10', 'd1_health_12', 'd1_health_3',\n",
              "       'd1_health_1', 'd1_health_98', 'd1_health_5', 'd1_health_9'],\n",
              "      dtype=object)"
            ]
          },
          "metadata": {
            "tags": []
          },
          "execution_count": 10
        }
      ]
    },
    {
      "cell_type": "code",
      "metadata": {
        "id": "MKDd3raLGZPL"
      },
      "source": [
        "df = covid_148[['i4_health', 'age', 'Country', 'gender', 'endtime', 'weight',\n",
        "       'i3_health', 'qweek', 'household_size', 'household_children',\n",
        "       'i1_health', 'i14_health_other', 'i7a_health', 'i13_health',\n",
        "       'i12_health_3', 'i12_health_14', 'i12_health_19', 'i2_health',\n",
        "       'i12_health_13', 'i12_health_16', 'i12_health_1', 'i12_health_15',\n",
        "       'i12_health_18', 'i12_health_6', 'i12_health_4', 'i12_health_7',\n",
        "       'i12_health_12', 'i12_health_20', 'i12_health_2', 'i12_health_11',\n",
        "       'i12_health_8', 'i12_health_5', 'i12_health_17', 'i5_health_5',\n",
        "       'i5_health_4', 'i5_health_3', 'i5_health_2', 'i5_health_1',\n",
        "       'i5_health_99', 'd1_health_2', 'd1_health_10', 'd1_health_3',\n",
        "       'd1_health_99', 'd1_health_1', 'd1_health_12', 'd1_health_8',\n",
        "       'd1_health_11', 'd1_health_6', 'd1_health_98', 'd1_health_13',\n",
        "       'd1_health_4', 'd1_health_7', 'd1_health_5', 'd1_health_9']]"
      ],
      "execution_count": null,
      "outputs": []
    },
    {
      "cell_type": "code",
      "metadata": {
        "id": "LnY93Z3vB0cg",
        "colab": {
          "base_uri": "https://localhost:8080/"
        },
        "outputId": "f92c3d71-40e3-415d-929d-195fc3feb651"
      },
      "source": [
        "len(df.columns)"
      ],
      "execution_count": null,
      "outputs": [
        {
          "output_type": "execute_result",
          "data": {
            "text/plain": [
              "54"
            ]
          },
          "metadata": {
            "tags": []
          },
          "execution_count": 12
        }
      ]
    },
    {
      "cell_type": "code",
      "metadata": {
        "id": "74gHbSQ32YMD",
        "colab": {
          "base_uri": "https://localhost:8080/"
        },
        "outputId": "210536db-dacb-4811-8c8c-4075b7a32091"
      },
      "source": [
        "x = 0\n",
        "for i in range (0,54):\n",
        "  print(f'ColIndex:{x} --- Nunique:{df.iloc[:,i].nunique()}')\n",
        "  x = x+1"
      ],
      "execution_count": null,
      "outputs": [
        {
          "output_type": "stream",
          "text": [
            "ColIndex:0 --- Nunique:5\n",
            "ColIndex:1 --- Nunique:82\n",
            "ColIndex:2 --- Nunique:28\n",
            "ColIndex:3 --- Nunique:2\n",
            "ColIndex:4 --- Nunique:111321\n",
            "ColIndex:5 --- Nunique:45317\n",
            "ColIndex:6 --- Nunique:4\n",
            "ColIndex:7 --- Nunique:29\n",
            "ColIndex:8 --- Nunique:20\n",
            "ColIndex:9 --- Nunique:19\n",
            "ColIndex:10 --- Nunique:305\n",
            "ColIndex:11 --- Nunique:16754\n",
            "ColIndex:12 --- Nunique:128\n",
            "ColIndex:13 --- Nunique:314\n",
            "ColIndex:14 --- Nunique:6\n",
            "ColIndex:15 --- Nunique:6\n",
            "ColIndex:16 --- Nunique:6\n",
            "ColIndex:17 --- Nunique:393\n",
            "ColIndex:18 --- Nunique:6\n",
            "ColIndex:19 --- Nunique:6\n",
            "ColIndex:20 --- Nunique:6\n",
            "ColIndex:21 --- Nunique:6\n",
            "ColIndex:22 --- Nunique:6\n",
            "ColIndex:23 --- Nunique:6\n",
            "ColIndex:24 --- Nunique:6\n",
            "ColIndex:25 --- Nunique:6\n",
            "ColIndex:26 --- Nunique:6\n",
            "ColIndex:27 --- Nunique:6\n",
            "ColIndex:28 --- Nunique:6\n",
            "ColIndex:29 --- Nunique:6\n",
            "ColIndex:30 --- Nunique:6\n",
            "ColIndex:31 --- Nunique:6\n",
            "ColIndex:32 --- Nunique:6\n",
            "ColIndex:33 --- Nunique:3\n",
            "ColIndex:34 --- Nunique:3\n",
            "ColIndex:35 --- Nunique:3\n",
            "ColIndex:36 --- Nunique:3\n",
            "ColIndex:37 --- Nunique:3\n",
            "ColIndex:38 --- Nunique:3\n",
            "ColIndex:39 --- Nunique:3\n",
            "ColIndex:40 --- Nunique:3\n",
            "ColIndex:41 --- Nunique:3\n",
            "ColIndex:42 --- Nunique:3\n",
            "ColIndex:43 --- Nunique:3\n",
            "ColIndex:44 --- Nunique:3\n",
            "ColIndex:45 --- Nunique:3\n",
            "ColIndex:46 --- Nunique:3\n",
            "ColIndex:47 --- Nunique:3\n",
            "ColIndex:48 --- Nunique:3\n",
            "ColIndex:49 --- Nunique:3\n",
            "ColIndex:50 --- Nunique:3\n",
            "ColIndex:51 --- Nunique:3\n",
            "ColIndex:52 --- Nunique:3\n",
            "ColIndex:53 --- Nunique:3\n"
          ],
          "name": "stdout"
        }
      ]
    },
    {
      "cell_type": "code",
      "metadata": {
        "id": "qlqTYqwbKxfo",
        "colab": {
          "base_uri": "https://localhost:8080/"
        },
        "outputId": "d15cc5b7-6025-439f-d7dc-eb60d39b71fa"
      },
      "source": [
        "print(df.iloc[:,4])\n",
        "print(df.iloc[:,5])\n",
        "print(df.iloc[:,11])"
      ],
      "execution_count": null,
      "outputs": [
        {
          "output_type": "stream",
          "text": [
            "0         01/04/2020 16:12\n",
            "1         01/04/2020 16:12\n",
            "2         01/04/2020 16:13\n",
            "3         01/04/2020 16:16\n",
            "5         01/04/2020 16:27\n",
            "                ...       \n",
            "404083    24/09/2020 03:55\n",
            "404084    24/09/2020 04:01\n",
            "404085    24/09/2020 04:04\n",
            "404086    24/09/2020 04:13\n",
            "404087    24/09/2020 05:28\n",
            "Name: endtime, Length: 391836, dtype: object\n",
            "0         0.678531\n",
            "1         1.049460\n",
            "2         1.271203\n",
            "3         0.936885\n",
            "5         0.797127\n",
            "            ...   \n",
            "404083    1.021782\n",
            "404084    1.021782\n",
            "404085    1.021782\n",
            "404086    1.021782\n",
            "404087    1.021782\n",
            "Name: weight, Length: 391836, dtype: float64\n",
            "0         __NA__\n",
            "1         __NA__\n",
            "2         __NA__\n",
            "3         __NA__\n",
            "5         __NA__\n",
            "           ...  \n",
            "404083    __NA__\n",
            "404084    __NA__\n",
            "404085    __NA__\n",
            "404086    __NA__\n",
            "404087    __NA__\n",
            "Name: i14_health_other, Length: 391836, dtype: object\n"
          ],
          "name": "stdout"
        }
      ]
    },
    {
      "cell_type": "code",
      "metadata": {
        "id": "qh-kKnivK98P"
      },
      "source": [
        "#i14_health and endtime are too numerous for get_dummies and not able to run in a model\n",
        "filtered_df = covid_148[['i4_health', 'age', 'Country', 'gender', 'weight',\n",
        "       'i3_health', 'qweek', 'household_size', 'household_children',\n",
        "       'i1_health', 'i7a_health', 'i13_health',\n",
        "       'i12_health_3', 'i12_health_14', 'i12_health_19', 'i2_health',\n",
        "       'i12_health_13', 'i12_health_16', 'i12_health_1', 'i12_health_15',\n",
        "       'i12_health_18', 'i12_health_6', 'i12_health_4', 'i12_health_7',\n",
        "       'i12_health_12', 'i12_health_20', 'i12_health_2', 'i12_health_11',\n",
        "       'i12_health_8', 'i12_health_5', 'i12_health_17', 'i5_health_5',\n",
        "       'i5_health_4', 'i5_health_3', 'i5_health_2', 'i5_health_1',\n",
        "       'i5_health_99', 'd1_health_2', 'd1_health_10', 'd1_health_3',\n",
        "       'd1_health_99', 'd1_health_1', 'd1_health_12', 'd1_health_8',\n",
        "       'd1_health_11', 'd1_health_6', 'd1_health_98', 'd1_health_13',\n",
        "       'd1_health_4', 'd1_health_7', 'd1_health_5', 'd1_health_9']]"
      ],
      "execution_count": null,
      "outputs": []
    },
    {
      "cell_type": "code",
      "metadata": {
        "id": "-eoStfJdbr_X"
      },
      "source": [
        "#weight removed as it will crash notebook. Target(i3_health) removed.\n",
        "dummy_df = pd.get_dummies(filtered_df, columns=['i4_health', 'age', 'Country', 'gender',\n",
        "       'qweek', 'household_size', 'household_children',\n",
        "       'i1_health', 'i7a_health', 'i13_health',\n",
        "       'i12_health_3', 'i12_health_14', 'i12_health_19', 'i2_health',\n",
        "       'i12_health_13', 'i12_health_16', 'i12_health_1', 'i12_health_15',\n",
        "       'i12_health_18', 'i12_health_6', 'i12_health_4', 'i12_health_7',\n",
        "       'i12_health_12', 'i12_health_20', 'i12_health_2', 'i12_health_11',\n",
        "       'i12_health_8', 'i12_health_5', 'i12_health_17', 'i5_health_5',\n",
        "       'i5_health_4', 'i5_health_3', 'i5_health_2', 'i5_health_1',\n",
        "       'i5_health_99', 'd1_health_2', 'd1_health_10', 'd1_health_3',\n",
        "       'd1_health_99', 'd1_health_1', 'd1_health_12', 'd1_health_8',\n",
        "       'd1_health_11', 'd1_health_6', 'd1_health_98', 'd1_health_13',\n",
        "       'd1_health_4', 'd1_health_7', 'd1_health_5', 'd1_health_9'])"
      ],
      "execution_count": null,
      "outputs": []
    },
    {
      "cell_type": "code",
      "metadata": {
        "id": "ZwtkD0RZgMaI",
        "colab": {
          "base_uri": "https://localhost:8080/",
          "height": 457
        },
        "outputId": "abe93b0e-ac62-4643-b984-ccb5423c9e19"
      },
      "source": [
        "dummy_df.head()"
      ],
      "execution_count": null,
      "outputs": [
        {
          "output_type": "execute_result",
          "data": {
            "text/html": [
              "<div>\n",
              "<style scoped>\n",
              "    .dataframe tbody tr th:only-of-type {\n",
              "        vertical-align: middle;\n",
              "    }\n",
              "\n",
              "    .dataframe tbody tr th {\n",
              "        vertical-align: top;\n",
              "    }\n",
              "\n",
              "    .dataframe thead th {\n",
              "        text-align: right;\n",
              "    }\n",
              "</style>\n",
              "<table border=\"1\" class=\"dataframe\">\n",
              "  <thead>\n",
              "    <tr style=\"text-align: right;\">\n",
              "      <th></th>\n",
              "      <th>weight</th>\n",
              "      <th>i3_health</th>\n",
              "      <th>dummy__No, they have not</th>\n",
              "      <th>dummy__Not sure</th>\n",
              "      <th>dummy__Yes, and they have not received their results from the test yet</th>\n",
              "      <th>dummy__Yes, and they tested negative</th>\n",
              "      <th>dummy__Yes, and they tested positive</th>\n",
              "      <th>dummy__18</th>\n",
              "      <th>dummy__19</th>\n",
              "      <th>dummy__20</th>\n",
              "      <th>dummy__21</th>\n",
              "      <th>dummy__22</th>\n",
              "      <th>dummy__23</th>\n",
              "      <th>dummy__24</th>\n",
              "      <th>dummy__25</th>\n",
              "      <th>dummy__26</th>\n",
              "      <th>dummy__27</th>\n",
              "      <th>dummy__28</th>\n",
              "      <th>dummy__29</th>\n",
              "      <th>dummy__30</th>\n",
              "      <th>dummy__31</th>\n",
              "      <th>dummy__32</th>\n",
              "      <th>dummy__33</th>\n",
              "      <th>dummy__34</th>\n",
              "      <th>dummy__35</th>\n",
              "      <th>dummy__36</th>\n",
              "      <th>dummy__37</th>\n",
              "      <th>dummy__38</th>\n",
              "      <th>dummy__39</th>\n",
              "      <th>dummy__40</th>\n",
              "      <th>dummy__41</th>\n",
              "      <th>dummy__42</th>\n",
              "      <th>dummy__43</th>\n",
              "      <th>dummy__44</th>\n",
              "      <th>dummy__45</th>\n",
              "      <th>dummy__46</th>\n",
              "      <th>dummy__47</th>\n",
              "      <th>dummy__48</th>\n",
              "      <th>dummy__49</th>\n",
              "      <th>dummy__50</th>\n",
              "      <th>...</th>\n",
              "      <th>dummy__Yes</th>\n",
              "      <th>dummy__</th>\n",
              "      <th>dummy__No</th>\n",
              "      <th>dummy__Yes</th>\n",
              "      <th>dummy__</th>\n",
              "      <th>dummy__No</th>\n",
              "      <th>dummy__Yes</th>\n",
              "      <th>dummy__</th>\n",
              "      <th>dummy__No</th>\n",
              "      <th>dummy__Yes</th>\n",
              "      <th>dummy__</th>\n",
              "      <th>dummy__No</th>\n",
              "      <th>dummy__Yes</th>\n",
              "      <th>dummy__</th>\n",
              "      <th>dummy__No</th>\n",
              "      <th>dummy__Yes</th>\n",
              "      <th>dummy__</th>\n",
              "      <th>dummy__No</th>\n",
              "      <th>dummy__Yes</th>\n",
              "      <th>dummy__</th>\n",
              "      <th>dummy__No</th>\n",
              "      <th>dummy__Yes</th>\n",
              "      <th>dummy__</th>\n",
              "      <th>dummy__No</th>\n",
              "      <th>dummy__Yes</th>\n",
              "      <th>dummy__</th>\n",
              "      <th>dummy__No</th>\n",
              "      <th>dummy__Yes</th>\n",
              "      <th>dummy__</th>\n",
              "      <th>dummy__No</th>\n",
              "      <th>dummy__Yes</th>\n",
              "      <th>dummy__</th>\n",
              "      <th>dummy__No</th>\n",
              "      <th>dummy__Yes</th>\n",
              "      <th>dummy__</th>\n",
              "      <th>dummy__No</th>\n",
              "      <th>dummy__Yes</th>\n",
              "      <th>dummy__</th>\n",
              "      <th>dummy__No</th>\n",
              "      <th>dummy__Yes</th>\n",
              "    </tr>\n",
              "  </thead>\n",
              "  <tbody>\n",
              "    <tr>\n",
              "      <th>0</th>\n",
              "      <td>0.678531</td>\n",
              "      <td>No, I have not</td>\n",
              "      <td>1</td>\n",
              "      <td>0</td>\n",
              "      <td>0</td>\n",
              "      <td>0</td>\n",
              "      <td>0</td>\n",
              "      <td>0</td>\n",
              "      <td>0</td>\n",
              "      <td>0</td>\n",
              "      <td>0</td>\n",
              "      <td>0</td>\n",
              "      <td>0</td>\n",
              "      <td>0</td>\n",
              "      <td>0</td>\n",
              "      <td>0</td>\n",
              "      <td>0</td>\n",
              "      <td>0</td>\n",
              "      <td>0</td>\n",
              "      <td>0</td>\n",
              "      <td>0</td>\n",
              "      <td>0</td>\n",
              "      <td>0</td>\n",
              "      <td>0</td>\n",
              "      <td>0</td>\n",
              "      <td>0</td>\n",
              "      <td>0</td>\n",
              "      <td>0</td>\n",
              "      <td>0</td>\n",
              "      <td>0</td>\n",
              "      <td>0</td>\n",
              "      <td>0</td>\n",
              "      <td>0</td>\n",
              "      <td>1</td>\n",
              "      <td>0</td>\n",
              "      <td>0</td>\n",
              "      <td>0</td>\n",
              "      <td>0</td>\n",
              "      <td>0</td>\n",
              "      <td>0</td>\n",
              "      <td>...</td>\n",
              "      <td>0</td>\n",
              "      <td>1</td>\n",
              "      <td>0</td>\n",
              "      <td>0</td>\n",
              "      <td>1</td>\n",
              "      <td>0</td>\n",
              "      <td>0</td>\n",
              "      <td>1</td>\n",
              "      <td>0</td>\n",
              "      <td>0</td>\n",
              "      <td>1</td>\n",
              "      <td>0</td>\n",
              "      <td>0</td>\n",
              "      <td>1</td>\n",
              "      <td>0</td>\n",
              "      <td>0</td>\n",
              "      <td>1</td>\n",
              "      <td>0</td>\n",
              "      <td>0</td>\n",
              "      <td>1</td>\n",
              "      <td>0</td>\n",
              "      <td>0</td>\n",
              "      <td>1</td>\n",
              "      <td>0</td>\n",
              "      <td>0</td>\n",
              "      <td>1</td>\n",
              "      <td>0</td>\n",
              "      <td>0</td>\n",
              "      <td>1</td>\n",
              "      <td>0</td>\n",
              "      <td>0</td>\n",
              "      <td>1</td>\n",
              "      <td>0</td>\n",
              "      <td>0</td>\n",
              "      <td>1</td>\n",
              "      <td>0</td>\n",
              "      <td>0</td>\n",
              "      <td>1</td>\n",
              "      <td>0</td>\n",
              "      <td>0</td>\n",
              "    </tr>\n",
              "    <tr>\n",
              "      <th>1</th>\n",
              "      <td>1.049460</td>\n",
              "      <td>No, I have not</td>\n",
              "      <td>1</td>\n",
              "      <td>0</td>\n",
              "      <td>0</td>\n",
              "      <td>0</td>\n",
              "      <td>0</td>\n",
              "      <td>0</td>\n",
              "      <td>0</td>\n",
              "      <td>0</td>\n",
              "      <td>0</td>\n",
              "      <td>0</td>\n",
              "      <td>0</td>\n",
              "      <td>0</td>\n",
              "      <td>0</td>\n",
              "      <td>0</td>\n",
              "      <td>0</td>\n",
              "      <td>0</td>\n",
              "      <td>0</td>\n",
              "      <td>0</td>\n",
              "      <td>0</td>\n",
              "      <td>0</td>\n",
              "      <td>0</td>\n",
              "      <td>0</td>\n",
              "      <td>0</td>\n",
              "      <td>0</td>\n",
              "      <td>0</td>\n",
              "      <td>0</td>\n",
              "      <td>0</td>\n",
              "      <td>0</td>\n",
              "      <td>0</td>\n",
              "      <td>0</td>\n",
              "      <td>0</td>\n",
              "      <td>0</td>\n",
              "      <td>0</td>\n",
              "      <td>0</td>\n",
              "      <td>0</td>\n",
              "      <td>0</td>\n",
              "      <td>0</td>\n",
              "      <td>0</td>\n",
              "      <td>...</td>\n",
              "      <td>0</td>\n",
              "      <td>1</td>\n",
              "      <td>0</td>\n",
              "      <td>0</td>\n",
              "      <td>1</td>\n",
              "      <td>0</td>\n",
              "      <td>0</td>\n",
              "      <td>1</td>\n",
              "      <td>0</td>\n",
              "      <td>0</td>\n",
              "      <td>1</td>\n",
              "      <td>0</td>\n",
              "      <td>0</td>\n",
              "      <td>1</td>\n",
              "      <td>0</td>\n",
              "      <td>0</td>\n",
              "      <td>1</td>\n",
              "      <td>0</td>\n",
              "      <td>0</td>\n",
              "      <td>1</td>\n",
              "      <td>0</td>\n",
              "      <td>0</td>\n",
              "      <td>1</td>\n",
              "      <td>0</td>\n",
              "      <td>0</td>\n",
              "      <td>1</td>\n",
              "      <td>0</td>\n",
              "      <td>0</td>\n",
              "      <td>1</td>\n",
              "      <td>0</td>\n",
              "      <td>0</td>\n",
              "      <td>1</td>\n",
              "      <td>0</td>\n",
              "      <td>0</td>\n",
              "      <td>1</td>\n",
              "      <td>0</td>\n",
              "      <td>0</td>\n",
              "      <td>1</td>\n",
              "      <td>0</td>\n",
              "      <td>0</td>\n",
              "    </tr>\n",
              "    <tr>\n",
              "      <th>2</th>\n",
              "      <td>1.271203</td>\n",
              "      <td>No, I have not</td>\n",
              "      <td>0</td>\n",
              "      <td>0</td>\n",
              "      <td>1</td>\n",
              "      <td>0</td>\n",
              "      <td>0</td>\n",
              "      <td>0</td>\n",
              "      <td>0</td>\n",
              "      <td>0</td>\n",
              "      <td>0</td>\n",
              "      <td>1</td>\n",
              "      <td>0</td>\n",
              "      <td>0</td>\n",
              "      <td>0</td>\n",
              "      <td>0</td>\n",
              "      <td>0</td>\n",
              "      <td>0</td>\n",
              "      <td>0</td>\n",
              "      <td>0</td>\n",
              "      <td>0</td>\n",
              "      <td>0</td>\n",
              "      <td>0</td>\n",
              "      <td>0</td>\n",
              "      <td>0</td>\n",
              "      <td>0</td>\n",
              "      <td>0</td>\n",
              "      <td>0</td>\n",
              "      <td>0</td>\n",
              "      <td>0</td>\n",
              "      <td>0</td>\n",
              "      <td>0</td>\n",
              "      <td>0</td>\n",
              "      <td>0</td>\n",
              "      <td>0</td>\n",
              "      <td>0</td>\n",
              "      <td>0</td>\n",
              "      <td>0</td>\n",
              "      <td>0</td>\n",
              "      <td>0</td>\n",
              "      <td>...</td>\n",
              "      <td>0</td>\n",
              "      <td>1</td>\n",
              "      <td>0</td>\n",
              "      <td>0</td>\n",
              "      <td>1</td>\n",
              "      <td>0</td>\n",
              "      <td>0</td>\n",
              "      <td>1</td>\n",
              "      <td>0</td>\n",
              "      <td>0</td>\n",
              "      <td>1</td>\n",
              "      <td>0</td>\n",
              "      <td>0</td>\n",
              "      <td>1</td>\n",
              "      <td>0</td>\n",
              "      <td>0</td>\n",
              "      <td>1</td>\n",
              "      <td>0</td>\n",
              "      <td>0</td>\n",
              "      <td>1</td>\n",
              "      <td>0</td>\n",
              "      <td>0</td>\n",
              "      <td>1</td>\n",
              "      <td>0</td>\n",
              "      <td>0</td>\n",
              "      <td>1</td>\n",
              "      <td>0</td>\n",
              "      <td>0</td>\n",
              "      <td>1</td>\n",
              "      <td>0</td>\n",
              "      <td>0</td>\n",
              "      <td>1</td>\n",
              "      <td>0</td>\n",
              "      <td>0</td>\n",
              "      <td>1</td>\n",
              "      <td>0</td>\n",
              "      <td>0</td>\n",
              "      <td>1</td>\n",
              "      <td>0</td>\n",
              "      <td>0</td>\n",
              "    </tr>\n",
              "    <tr>\n",
              "      <th>3</th>\n",
              "      <td>0.936885</td>\n",
              "      <td>No, I have not</td>\n",
              "      <td>1</td>\n",
              "      <td>0</td>\n",
              "      <td>0</td>\n",
              "      <td>0</td>\n",
              "      <td>0</td>\n",
              "      <td>0</td>\n",
              "      <td>0</td>\n",
              "      <td>0</td>\n",
              "      <td>0</td>\n",
              "      <td>0</td>\n",
              "      <td>0</td>\n",
              "      <td>0</td>\n",
              "      <td>0</td>\n",
              "      <td>0</td>\n",
              "      <td>0</td>\n",
              "      <td>0</td>\n",
              "      <td>0</td>\n",
              "      <td>0</td>\n",
              "      <td>0</td>\n",
              "      <td>0</td>\n",
              "      <td>0</td>\n",
              "      <td>0</td>\n",
              "      <td>0</td>\n",
              "      <td>0</td>\n",
              "      <td>0</td>\n",
              "      <td>0</td>\n",
              "      <td>0</td>\n",
              "      <td>0</td>\n",
              "      <td>0</td>\n",
              "      <td>0</td>\n",
              "      <td>0</td>\n",
              "      <td>0</td>\n",
              "      <td>1</td>\n",
              "      <td>0</td>\n",
              "      <td>0</td>\n",
              "      <td>0</td>\n",
              "      <td>0</td>\n",
              "      <td>0</td>\n",
              "      <td>...</td>\n",
              "      <td>0</td>\n",
              "      <td>0</td>\n",
              "      <td>1</td>\n",
              "      <td>0</td>\n",
              "      <td>0</td>\n",
              "      <td>0</td>\n",
              "      <td>1</td>\n",
              "      <td>0</td>\n",
              "      <td>1</td>\n",
              "      <td>0</td>\n",
              "      <td>0</td>\n",
              "      <td>1</td>\n",
              "      <td>0</td>\n",
              "      <td>0</td>\n",
              "      <td>1</td>\n",
              "      <td>0</td>\n",
              "      <td>0</td>\n",
              "      <td>1</td>\n",
              "      <td>0</td>\n",
              "      <td>0</td>\n",
              "      <td>1</td>\n",
              "      <td>0</td>\n",
              "      <td>0</td>\n",
              "      <td>1</td>\n",
              "      <td>0</td>\n",
              "      <td>0</td>\n",
              "      <td>1</td>\n",
              "      <td>0</td>\n",
              "      <td>0</td>\n",
              "      <td>1</td>\n",
              "      <td>0</td>\n",
              "      <td>0</td>\n",
              "      <td>1</td>\n",
              "      <td>0</td>\n",
              "      <td>0</td>\n",
              "      <td>1</td>\n",
              "      <td>0</td>\n",
              "      <td>0</td>\n",
              "      <td>1</td>\n",
              "      <td>0</td>\n",
              "    </tr>\n",
              "    <tr>\n",
              "      <th>5</th>\n",
              "      <td>0.797127</td>\n",
              "      <td>No, I have not</td>\n",
              "      <td>1</td>\n",
              "      <td>0</td>\n",
              "      <td>0</td>\n",
              "      <td>0</td>\n",
              "      <td>0</td>\n",
              "      <td>0</td>\n",
              "      <td>0</td>\n",
              "      <td>0</td>\n",
              "      <td>0</td>\n",
              "      <td>0</td>\n",
              "      <td>0</td>\n",
              "      <td>0</td>\n",
              "      <td>0</td>\n",
              "      <td>0</td>\n",
              "      <td>0</td>\n",
              "      <td>0</td>\n",
              "      <td>0</td>\n",
              "      <td>0</td>\n",
              "      <td>0</td>\n",
              "      <td>0</td>\n",
              "      <td>0</td>\n",
              "      <td>0</td>\n",
              "      <td>0</td>\n",
              "      <td>0</td>\n",
              "      <td>0</td>\n",
              "      <td>0</td>\n",
              "      <td>0</td>\n",
              "      <td>0</td>\n",
              "      <td>0</td>\n",
              "      <td>0</td>\n",
              "      <td>0</td>\n",
              "      <td>0</td>\n",
              "      <td>0</td>\n",
              "      <td>0</td>\n",
              "      <td>0</td>\n",
              "      <td>0</td>\n",
              "      <td>0</td>\n",
              "      <td>1</td>\n",
              "      <td>...</td>\n",
              "      <td>0</td>\n",
              "      <td>0</td>\n",
              "      <td>1</td>\n",
              "      <td>0</td>\n",
              "      <td>0</td>\n",
              "      <td>0</td>\n",
              "      <td>1</td>\n",
              "      <td>0</td>\n",
              "      <td>1</td>\n",
              "      <td>0</td>\n",
              "      <td>0</td>\n",
              "      <td>1</td>\n",
              "      <td>0</td>\n",
              "      <td>0</td>\n",
              "      <td>1</td>\n",
              "      <td>0</td>\n",
              "      <td>0</td>\n",
              "      <td>1</td>\n",
              "      <td>0</td>\n",
              "      <td>0</td>\n",
              "      <td>1</td>\n",
              "      <td>0</td>\n",
              "      <td>0</td>\n",
              "      <td>1</td>\n",
              "      <td>0</td>\n",
              "      <td>0</td>\n",
              "      <td>1</td>\n",
              "      <td>0</td>\n",
              "      <td>0</td>\n",
              "      <td>1</td>\n",
              "      <td>0</td>\n",
              "      <td>0</td>\n",
              "      <td>1</td>\n",
              "      <td>0</td>\n",
              "      <td>0</td>\n",
              "      <td>1</td>\n",
              "      <td>0</td>\n",
              "      <td>0</td>\n",
              "      <td>1</td>\n",
              "      <td>0</td>\n",
              "    </tr>\n",
              "  </tbody>\n",
              "</table>\n",
              "<p>5 rows × 1498 columns</p>\n",
              "</div>"
            ],
            "text/plain": [
              "     weight       i3_health  ...  dummy__No  dummy__Yes\n",
              "0  0.678531  No, I have not  ...          0           0\n",
              "1  1.049460  No, I have not  ...          0           0\n",
              "2  1.271203  No, I have not  ...          0           0\n",
              "3  0.936885  No, I have not  ...          1           0\n",
              "5  0.797127  No, I have not  ...          1           0\n",
              "\n",
              "[5 rows x 1498 columns]"
            ]
          },
          "metadata": {
            "tags": []
          },
          "execution_count": 17
        }
      ]
    },
    {
      "cell_type": "code",
      "metadata": {
        "id": "EQSLTQrZg3tg",
        "colab": {
          "base_uri": "https://localhost:8080/",
          "height": 479
        },
        "outputId": "0ca5a5c0-93ce-4489-85ce-c2167dc66eae"
      },
      "source": [
        "mapping_df = {'i3_health' :{'No, I have not':0, 'Yes, and I tested negative':1,\n",
        "       'Yes, and I tested positive':2,\n",
        "       'Yes, and I have not received my results from the test yet':3}}\n",
        "\n",
        "filtered_df.replace(mapping_df, inplace=True)\n",
        "filtered_df.head()"
      ],
      "execution_count": null,
      "outputs": [
        {
          "output_type": "stream",
          "text": [
            "/usr/local/lib/python3.6/dist-packages/pandas/core/indexing.py:1743: SettingWithCopyWarning: \n",
            "A value is trying to be set on a copy of a slice from a DataFrame.\n",
            "Try using .loc[row_indexer,col_indexer] = value instead\n",
            "\n",
            "See the caveats in the documentation: https://pandas.pydata.org/pandas-docs/stable/user_guide/indexing.html#returning-a-view-versus-a-copy\n",
            "  isetter(ilocs[0], value)\n"
          ],
          "name": "stderr"
        },
        {
          "output_type": "execute_result",
          "data": {
            "text/html": [
              "<div>\n",
              "<style scoped>\n",
              "    .dataframe tbody tr th:only-of-type {\n",
              "        vertical-align: middle;\n",
              "    }\n",
              "\n",
              "    .dataframe tbody tr th {\n",
              "        vertical-align: top;\n",
              "    }\n",
              "\n",
              "    .dataframe thead th {\n",
              "        text-align: right;\n",
              "    }\n",
              "</style>\n",
              "<table border=\"1\" class=\"dataframe\">\n",
              "  <thead>\n",
              "    <tr style=\"text-align: right;\">\n",
              "      <th></th>\n",
              "      <th>i4_health</th>\n",
              "      <th>age</th>\n",
              "      <th>Country</th>\n",
              "      <th>gender</th>\n",
              "      <th>weight</th>\n",
              "      <th>i3_health</th>\n",
              "      <th>qweek</th>\n",
              "      <th>household_size</th>\n",
              "      <th>household_children</th>\n",
              "      <th>i1_health</th>\n",
              "      <th>i7a_health</th>\n",
              "      <th>i13_health</th>\n",
              "      <th>i12_health_3</th>\n",
              "      <th>i12_health_14</th>\n",
              "      <th>i12_health_19</th>\n",
              "      <th>i2_health</th>\n",
              "      <th>i12_health_13</th>\n",
              "      <th>i12_health_16</th>\n",
              "      <th>i12_health_1</th>\n",
              "      <th>i12_health_15</th>\n",
              "      <th>i12_health_18</th>\n",
              "      <th>i12_health_6</th>\n",
              "      <th>i12_health_4</th>\n",
              "      <th>i12_health_7</th>\n",
              "      <th>i12_health_12</th>\n",
              "      <th>i12_health_20</th>\n",
              "      <th>i12_health_2</th>\n",
              "      <th>i12_health_11</th>\n",
              "      <th>i12_health_8</th>\n",
              "      <th>i12_health_5</th>\n",
              "      <th>i12_health_17</th>\n",
              "      <th>i5_health_5</th>\n",
              "      <th>i5_health_4</th>\n",
              "      <th>i5_health_3</th>\n",
              "      <th>i5_health_2</th>\n",
              "      <th>i5_health_1</th>\n",
              "      <th>i5_health_99</th>\n",
              "      <th>d1_health_2</th>\n",
              "      <th>d1_health_10</th>\n",
              "      <th>d1_health_3</th>\n",
              "      <th>d1_health_99</th>\n",
              "      <th>d1_health_1</th>\n",
              "      <th>d1_health_12</th>\n",
              "      <th>d1_health_8</th>\n",
              "      <th>d1_health_11</th>\n",
              "      <th>d1_health_6</th>\n",
              "      <th>d1_health_98</th>\n",
              "      <th>d1_health_13</th>\n",
              "      <th>d1_health_4</th>\n",
              "      <th>d1_health_7</th>\n",
              "      <th>d1_health_5</th>\n",
              "      <th>d1_health_9</th>\n",
              "    </tr>\n",
              "  </thead>\n",
              "  <tbody>\n",
              "    <tr>\n",
              "      <th>0</th>\n",
              "      <td>No, they have not</td>\n",
              "      <td>44</td>\n",
              "      <td>Australia</td>\n",
              "      <td>Male</td>\n",
              "      <td>0.678531</td>\n",
              "      <td>0</td>\n",
              "      <td>week 1</td>\n",
              "      <td>2</td>\n",
              "      <td>0</td>\n",
              "      <td>1</td>\n",
              "      <td>0</td>\n",
              "      <td>6</td>\n",
              "      <td>Frequently</td>\n",
              "      <td>Always</td>\n",
              "      <td>Frequently</td>\n",
              "      <td>1</td>\n",
              "      <td>Always</td>\n",
              "      <td>Frequently</td>\n",
              "      <td>Rarely</td>\n",
              "      <td>Always</td>\n",
              "      <td>Frequently</td>\n",
              "      <td>Always</td>\n",
              "      <td>Always</td>\n",
              "      <td>Always</td>\n",
              "      <td>Always</td>\n",
              "      <td>Always</td>\n",
              "      <td>Always</td>\n",
              "      <td>Always</td>\n",
              "      <td>Always</td>\n",
              "      <td>Always</td>\n",
              "      <td>Always</td>\n",
              "      <td></td>\n",
              "      <td></td>\n",
              "      <td></td>\n",
              "      <td></td>\n",
              "      <td></td>\n",
              "      <td></td>\n",
              "      <td></td>\n",
              "      <td></td>\n",
              "      <td></td>\n",
              "      <td></td>\n",
              "      <td></td>\n",
              "      <td></td>\n",
              "      <td></td>\n",
              "      <td></td>\n",
              "      <td></td>\n",
              "      <td></td>\n",
              "      <td></td>\n",
              "      <td></td>\n",
              "      <td></td>\n",
              "      <td></td>\n",
              "      <td></td>\n",
              "    </tr>\n",
              "    <tr>\n",
              "      <th>1</th>\n",
              "      <td>No, they have not</td>\n",
              "      <td>66</td>\n",
              "      <td>Australia</td>\n",
              "      <td>Male</td>\n",
              "      <td>1.049460</td>\n",
              "      <td>0</td>\n",
              "      <td>week 1</td>\n",
              "      <td>1</td>\n",
              "      <td>0</td>\n",
              "      <td>0</td>\n",
              "      <td>2</td>\n",
              "      <td>20</td>\n",
              "      <td>Frequently</td>\n",
              "      <td>Always</td>\n",
              "      <td>Rarely</td>\n",
              "      <td>6</td>\n",
              "      <td>Frequently</td>\n",
              "      <td>Rarely</td>\n",
              "      <td>Not at all</td>\n",
              "      <td>Frequently</td>\n",
              "      <td>Not at all</td>\n",
              "      <td>Sometimes</td>\n",
              "      <td>Always</td>\n",
              "      <td>Always</td>\n",
              "      <td>Frequently</td>\n",
              "      <td>Frequently</td>\n",
              "      <td>Always</td>\n",
              "      <td>Frequently</td>\n",
              "      <td>Always</td>\n",
              "      <td>Always</td>\n",
              "      <td>Not at all</td>\n",
              "      <td></td>\n",
              "      <td></td>\n",
              "      <td></td>\n",
              "      <td></td>\n",
              "      <td></td>\n",
              "      <td></td>\n",
              "      <td></td>\n",
              "      <td></td>\n",
              "      <td></td>\n",
              "      <td></td>\n",
              "      <td></td>\n",
              "      <td></td>\n",
              "      <td></td>\n",
              "      <td></td>\n",
              "      <td></td>\n",
              "      <td></td>\n",
              "      <td></td>\n",
              "      <td></td>\n",
              "      <td></td>\n",
              "      <td></td>\n",
              "      <td></td>\n",
              "    </tr>\n",
              "    <tr>\n",
              "      <th>2</th>\n",
              "      <td>Yes, and they have not received their results ...</td>\n",
              "      <td>22</td>\n",
              "      <td>Australia</td>\n",
              "      <td>Male</td>\n",
              "      <td>1.271203</td>\n",
              "      <td>0</td>\n",
              "      <td>week 1</td>\n",
              "      <td>3</td>\n",
              "      <td>1</td>\n",
              "      <td>0</td>\n",
              "      <td>1</td>\n",
              "      <td>10</td>\n",
              "      <td>Always</td>\n",
              "      <td>Always</td>\n",
              "      <td>Always</td>\n",
              "      <td>0</td>\n",
              "      <td>Always</td>\n",
              "      <td>Frequently</td>\n",
              "      <td>Always</td>\n",
              "      <td>Always</td>\n",
              "      <td>Not at all</td>\n",
              "      <td>Sometimes</td>\n",
              "      <td>Always</td>\n",
              "      <td>Sometimes</td>\n",
              "      <td>Always</td>\n",
              "      <td>Always</td>\n",
              "      <td>Always</td>\n",
              "      <td>Always</td>\n",
              "      <td>Always</td>\n",
              "      <td>Always</td>\n",
              "      <td>Rarely</td>\n",
              "      <td></td>\n",
              "      <td></td>\n",
              "      <td></td>\n",
              "      <td></td>\n",
              "      <td></td>\n",
              "      <td></td>\n",
              "      <td></td>\n",
              "      <td></td>\n",
              "      <td></td>\n",
              "      <td></td>\n",
              "      <td></td>\n",
              "      <td></td>\n",
              "      <td></td>\n",
              "      <td></td>\n",
              "      <td></td>\n",
              "      <td></td>\n",
              "      <td></td>\n",
              "      <td></td>\n",
              "      <td></td>\n",
              "      <td></td>\n",
              "      <td></td>\n",
              "    </tr>\n",
              "    <tr>\n",
              "      <th>3</th>\n",
              "      <td>No, they have not</td>\n",
              "      <td>45</td>\n",
              "      <td>Australia</td>\n",
              "      <td>Male</td>\n",
              "      <td>0.936885</td>\n",
              "      <td>0</td>\n",
              "      <td>week 1</td>\n",
              "      <td>3</td>\n",
              "      <td>1</td>\n",
              "      <td>2</td>\n",
              "      <td>1</td>\n",
              "      <td>10</td>\n",
              "      <td>Frequently</td>\n",
              "      <td>Always</td>\n",
              "      <td>Not at all</td>\n",
              "      <td>20</td>\n",
              "      <td>Always</td>\n",
              "      <td>Rarely</td>\n",
              "      <td>Always</td>\n",
              "      <td>Frequently</td>\n",
              "      <td>Not at all</td>\n",
              "      <td>Frequently</td>\n",
              "      <td>Always</td>\n",
              "      <td>Frequently</td>\n",
              "      <td>Always</td>\n",
              "      <td>Frequently</td>\n",
              "      <td>Frequently</td>\n",
              "      <td>Always</td>\n",
              "      <td>Always</td>\n",
              "      <td>Always</td>\n",
              "      <td>Not at all</td>\n",
              "      <td>No</td>\n",
              "      <td>No</td>\n",
              "      <td>No</td>\n",
              "      <td>No</td>\n",
              "      <td>No</td>\n",
              "      <td>Yes</td>\n",
              "      <td>No</td>\n",
              "      <td>No</td>\n",
              "      <td>No</td>\n",
              "      <td>Yes</td>\n",
              "      <td>No</td>\n",
              "      <td>No</td>\n",
              "      <td>No</td>\n",
              "      <td>No</td>\n",
              "      <td>No</td>\n",
              "      <td>No</td>\n",
              "      <td>No</td>\n",
              "      <td>No</td>\n",
              "      <td>No</td>\n",
              "      <td>No</td>\n",
              "      <td>No</td>\n",
              "    </tr>\n",
              "    <tr>\n",
              "      <th>5</th>\n",
              "      <td>No, they have not</td>\n",
              "      <td>50</td>\n",
              "      <td>Australia</td>\n",
              "      <td>Male</td>\n",
              "      <td>0.797127</td>\n",
              "      <td>0</td>\n",
              "      <td>week 1</td>\n",
              "      <td>4</td>\n",
              "      <td>2</td>\n",
              "      <td>2</td>\n",
              "      <td>3</td>\n",
              "      <td>8</td>\n",
              "      <td>Frequently</td>\n",
              "      <td>Frequently</td>\n",
              "      <td>Frequently</td>\n",
              "      <td>2</td>\n",
              "      <td>Frequently</td>\n",
              "      <td>Rarely</td>\n",
              "      <td>Frequently</td>\n",
              "      <td>Frequently</td>\n",
              "      <td>Not at all</td>\n",
              "      <td>Sometimes</td>\n",
              "      <td>Frequently</td>\n",
              "      <td>Frequently</td>\n",
              "      <td>Sometimes</td>\n",
              "      <td>Frequently</td>\n",
              "      <td>Frequently</td>\n",
              "      <td>Rarely</td>\n",
              "      <td>Sometimes</td>\n",
              "      <td>Frequently</td>\n",
              "      <td>Rarely</td>\n",
              "      <td>No</td>\n",
              "      <td>No</td>\n",
              "      <td>No</td>\n",
              "      <td>No</td>\n",
              "      <td>No</td>\n",
              "      <td>Yes</td>\n",
              "      <td>No</td>\n",
              "      <td>No</td>\n",
              "      <td>No</td>\n",
              "      <td>Yes</td>\n",
              "      <td>No</td>\n",
              "      <td>No</td>\n",
              "      <td>No</td>\n",
              "      <td>No</td>\n",
              "      <td>No</td>\n",
              "      <td>No</td>\n",
              "      <td>No</td>\n",
              "      <td>No</td>\n",
              "      <td>No</td>\n",
              "      <td>No</td>\n",
              "      <td>No</td>\n",
              "    </tr>\n",
              "  </tbody>\n",
              "</table>\n",
              "</div>"
            ],
            "text/plain": [
              "                                           i4_health  ...  d1_health_9\n",
              "0                                  No, they have not  ...             \n",
              "1                                  No, they have not  ...             \n",
              "2  Yes, and they have not received their results ...  ...             \n",
              "3                                  No, they have not  ...           No\n",
              "5                                  No, they have not  ...           No\n",
              "\n",
              "[5 rows x 52 columns]"
            ]
          },
          "metadata": {
            "tags": []
          },
          "execution_count": 18
        }
      ]
    },
    {
      "cell_type": "code",
      "metadata": {
        "id": "Ayyz_Us-Z7Gq",
        "colab": {
          "base_uri": "https://localhost:8080/"
        },
        "outputId": "0ba6077c-f354-4448-868c-921e1d0877d7"
      },
      "source": [
        "rfc = RandomForestClassifier(n_estimators=5)\n",
        "\n",
        "#enc = preprocessing.OneHotEncoder(handle_unknown='ignore')\n",
        "X = dummy_df.drop(columns='i3_health')\n",
        "#enc.fit(X)\n",
        "\n",
        "y = filtered_df['i3_health']\n",
        "#le = preprocessing.LabelEncoder()\n",
        "#le.fit(y)\n",
        "\n",
        "X_train, X_test, y_train, y_test = train_test_split(X, y, random_state=40)\n",
        "#print(X_train.info())\n",
        "#print(y_train.info())\n",
        "\n",
        "rfc.fit(X_train[:10000],y_train[:10000])\n",
        "y_pred = rfc.predict(X_test)\n",
        "#print(rfc.score(y_test))\n",
        "\n",
        "print(confusion_matrix(y_test,y_pred))\n",
        "print(classification_report(y_test,y_pred))\n",
        "print(accuracy_score(y_test, y_pred))"
      ],
      "execution_count": null,
      "outputs": [
        {
          "output_type": "stream",
          "text": [
            "[[88928   543    29     9]\n",
            " [ 5032  1089    37    21]\n",
            " [  775   151    83     5]\n",
            " [ 1062   167    15    13]]\n",
            "              precision    recall  f1-score   support\n",
            "\n",
            "           0       0.93      0.99      0.96     89509\n",
            "           1       0.56      0.18      0.27      6179\n",
            "           2       0.51      0.08      0.14      1014\n",
            "           3       0.27      0.01      0.02      1257\n",
            "\n",
            "    accuracy                           0.92     97959\n",
            "   macro avg       0.57      0.32      0.35     97959\n",
            "weighted avg       0.89      0.92      0.90     97959\n",
            "\n",
            "0.9199052664890414\n"
          ],
          "name": "stdout"
        }
      ]
    },
    {
      "cell_type": "code",
      "metadata": {
        "id": "zC78O66eZ7M6",
        "colab": {
          "base_uri": "https://localhost:8080/"
        },
        "outputId": "88cb4705-b7f4-43b4-94f5-282e5cf2e8ed"
      },
      "source": [
        "rfr = RandomForestRegressor(n_estimators=5)\n",
        "\n",
        "#enc = preprocessing.OneHotEncoder(handle_unknown='ignore')\n",
        "X = dummy_df.drop(columns='i3_health')\n",
        "#enc.fit(X)\n",
        "\n",
        "y = filtered_df['i3_health']\n",
        "#le = preprocessing.LabelEncoder()\n",
        "#le.fit(y)\n",
        "\n",
        "X_train, X_test, y_train, y_test = train_test_split(X, y, random_state=40)\n",
        "#print(X_train.info())\n",
        "#print(y_train.info())\n",
        "\n",
        "rfr.fit(X_train[:10000],y_train[:10000])\n",
        "y_pred = rfc.predict(X_test)\n",
        "#print(rfr.score(y_test))\n",
        "\n",
        "print('Mean Absolute Error:', metrics.mean_absolute_error(y_test, y_pred))\n",
        "print('Mean Squared Error:', metrics.mean_squared_error(y_test, y_pred))\n",
        "print('Root Mean Squared Error:', np.sqrt(metrics.mean_squared_error(y_test, y_pred)))"
      ],
      "execution_count": null,
      "outputs": [
        {
          "output_type": "stream",
          "text": [
            "Mean Absolute Error: 0.11029104012903357\n",
            "Mean Squared Error: 0.19404036382568218\n",
            "Root Mean Squared Error: 0.4405001292005284\n"
          ],
          "name": "stdout"
        }
      ]
    },
    {
      "cell_type": "markdown",
      "metadata": {
        "id": "gYpYNlAF9x-M"
      },
      "source": [
        "##### 5% - i4_health"
      ]
    },
    {
      "cell_type": "code",
      "metadata": {
        "id": "NXn1nl1l90fN",
        "colab": {
          "base_uri": "https://localhost:8080/"
        },
        "outputId": "dc4ba1a3-1603-49c9-b679-ac075059d0ff"
      },
      "source": [
        "np.asarray(empty_count['Columns'][empty_count['Percent Emtpy'] < 5])"
      ],
      "execution_count": null,
      "outputs": [
        {
          "output_type": "execute_result",
          "data": {
            "text/plain": [
              "array(['i4_health', 'Country', 'weight', 'i3_health', 'age', 'endtime',\n",
              "       'gender', 'qweek', 'household_size', 'household_children',\n",
              "       'i1_health', 'i14_health_other', 'i7a_health', 'i13_health',\n",
              "       'i12_health_3', 'i12_health_19', 'i12_health_14', 'i12_health_13',\n",
              "       'i2_health', 'i12_health_16', 'i12_health_1', 'i12_health_15',\n",
              "       'i12_health_18', 'i12_health_6', 'i12_health_4', 'i12_health_7',\n",
              "       'i12_health_12', 'i12_health_20', 'i12_health_2', 'i12_health_11',\n",
              "       'i12_health_8', 'i12_health_5', 'i12_health_17', 'i5_health_4',\n",
              "       'i5_health_2', 'i5_health_1', 'i5_health_99', 'i5_health_3',\n",
              "       'i5_health_5', 'd1_health_99', 'd1_health_7', 'd1_health_6',\n",
              "       'd1_health_8', 'd1_health_11', 'd1_health_2', 'd1_health_4',\n",
              "       'd1_health_13', 'd1_health_10', 'd1_health_12', 'd1_health_3',\n",
              "       'd1_health_1', 'd1_health_98', 'd1_health_5', 'd1_health_9'],\n",
              "      dtype=object)"
            ]
          },
          "metadata": {
            "tags": []
          },
          "execution_count": 34
        }
      ]
    },
    {
      "cell_type": "code",
      "metadata": {
        "id": "V_M0wd-ZZT9y"
      },
      "source": [
        "df = covid_148[['i4_health', 'Country', 'weight', 'i3_health', 'age', 'endtime',\n",
        "       'gender', 'qweek', 'household_size', 'household_children',\n",
        "       'i1_health', 'i14_health_other', 'i7a_health', 'i13_health',\n",
        "       'i12_health_3', 'i12_health_19', 'i12_health_14', 'i12_health_13',\n",
        "       'i2_health', 'i12_health_16', 'i12_health_1', 'i12_health_15',\n",
        "       'i12_health_18', 'i12_health_6', 'i12_health_4', 'i12_health_7',\n",
        "       'i12_health_12', 'i12_health_20', 'i12_health_2', 'i12_health_11',\n",
        "       'i12_health_8', 'i12_health_5', 'i12_health_17', 'i5_health_4',\n",
        "       'i5_health_2', 'i5_health_1', 'i5_health_99', 'i5_health_3',\n",
        "       'i5_health_5', 'd1_health_99', 'd1_health_7', 'd1_health_6',\n",
        "       'd1_health_8', 'd1_health_11', 'd1_health_2', 'd1_health_4',\n",
        "       'd1_health_13', 'd1_health_10', 'd1_health_12', 'd1_health_3',\n",
        "       'd1_health_1', 'd1_health_98', 'd1_health_5', 'd1_health_9']]"
      ],
      "execution_count": null,
      "outputs": []
    },
    {
      "cell_type": "code",
      "metadata": {
        "id": "fby2xFvLZUEx",
        "colab": {
          "base_uri": "https://localhost:8080/"
        },
        "outputId": "0d11283f-f119-47d5-e5ea-ea2ff4333df9"
      },
      "source": [
        "len(df.columns)"
      ],
      "execution_count": null,
      "outputs": [
        {
          "output_type": "execute_result",
          "data": {
            "text/plain": [
              "54"
            ]
          },
          "metadata": {
            "tags": []
          },
          "execution_count": 36
        }
      ]
    },
    {
      "cell_type": "code",
      "metadata": {
        "id": "77N0bnlqZULS",
        "colab": {
          "base_uri": "https://localhost:8080/"
        },
        "outputId": "8b1599d8-fae0-45c4-f2c6-e23d7a1abf3a"
      },
      "source": [
        "x = 0\n",
        "for i in range (0,54):\n",
        "  print(f'ColIndex:{x} --- Nunique:{df.iloc[:,i].nunique()}')\n",
        "  x = x+1"
      ],
      "execution_count": null,
      "outputs": [
        {
          "output_type": "stream",
          "text": [
            "ColIndex:0 --- Nunique:5\n",
            "ColIndex:1 --- Nunique:28\n",
            "ColIndex:2 --- Nunique:45317\n",
            "ColIndex:3 --- Nunique:4\n",
            "ColIndex:4 --- Nunique:82\n",
            "ColIndex:5 --- Nunique:111321\n",
            "ColIndex:6 --- Nunique:2\n",
            "ColIndex:7 --- Nunique:29\n",
            "ColIndex:8 --- Nunique:20\n",
            "ColIndex:9 --- Nunique:19\n",
            "ColIndex:10 --- Nunique:305\n",
            "ColIndex:11 --- Nunique:16754\n",
            "ColIndex:12 --- Nunique:128\n",
            "ColIndex:13 --- Nunique:314\n",
            "ColIndex:14 --- Nunique:6\n",
            "ColIndex:15 --- Nunique:6\n",
            "ColIndex:16 --- Nunique:6\n",
            "ColIndex:17 --- Nunique:6\n",
            "ColIndex:18 --- Nunique:393\n",
            "ColIndex:19 --- Nunique:6\n",
            "ColIndex:20 --- Nunique:6\n",
            "ColIndex:21 --- Nunique:6\n",
            "ColIndex:22 --- Nunique:6\n",
            "ColIndex:23 --- Nunique:6\n",
            "ColIndex:24 --- Nunique:6\n",
            "ColIndex:25 --- Nunique:6\n",
            "ColIndex:26 --- Nunique:6\n",
            "ColIndex:27 --- Nunique:6\n",
            "ColIndex:28 --- Nunique:6\n",
            "ColIndex:29 --- Nunique:6\n",
            "ColIndex:30 --- Nunique:6\n",
            "ColIndex:31 --- Nunique:6\n",
            "ColIndex:32 --- Nunique:6\n",
            "ColIndex:33 --- Nunique:3\n",
            "ColIndex:34 --- Nunique:3\n",
            "ColIndex:35 --- Nunique:3\n",
            "ColIndex:36 --- Nunique:3\n",
            "ColIndex:37 --- Nunique:3\n",
            "ColIndex:38 --- Nunique:3\n",
            "ColIndex:39 --- Nunique:3\n",
            "ColIndex:40 --- Nunique:3\n",
            "ColIndex:41 --- Nunique:3\n",
            "ColIndex:42 --- Nunique:3\n",
            "ColIndex:43 --- Nunique:3\n",
            "ColIndex:44 --- Nunique:3\n",
            "ColIndex:45 --- Nunique:3\n",
            "ColIndex:46 --- Nunique:3\n",
            "ColIndex:47 --- Nunique:3\n",
            "ColIndex:48 --- Nunique:3\n",
            "ColIndex:49 --- Nunique:3\n",
            "ColIndex:50 --- Nunique:3\n",
            "ColIndex:51 --- Nunique:3\n",
            "ColIndex:52 --- Nunique:3\n",
            "ColIndex:53 --- Nunique:3\n"
          ],
          "name": "stdout"
        }
      ]
    },
    {
      "cell_type": "code",
      "metadata": {
        "id": "NdbvlNSSZUPI",
        "colab": {
          "base_uri": "https://localhost:8080/"
        },
        "outputId": "2dad20c8-4ad1-474d-fa6b-2299b73a78d7"
      },
      "source": [
        "print(df.iloc[:,2])\n",
        "print(df.iloc[:,5])\n",
        "print(df.iloc[:,11])"
      ],
      "execution_count": null,
      "outputs": [
        {
          "output_type": "stream",
          "text": [
            "0         0.678531\n",
            "1         1.049460\n",
            "2         1.271203\n",
            "3         0.936885\n",
            "5         0.797127\n",
            "            ...   \n",
            "404083    1.021782\n",
            "404084    1.021782\n",
            "404085    1.021782\n",
            "404086    1.021782\n",
            "404087    1.021782\n",
            "Name: weight, Length: 391836, dtype: float64\n",
            "0         01/04/2020 16:12\n",
            "1         01/04/2020 16:12\n",
            "2         01/04/2020 16:13\n",
            "3         01/04/2020 16:16\n",
            "5         01/04/2020 16:27\n",
            "                ...       \n",
            "404083    24/09/2020 03:55\n",
            "404084    24/09/2020 04:01\n",
            "404085    24/09/2020 04:04\n",
            "404086    24/09/2020 04:13\n",
            "404087    24/09/2020 05:28\n",
            "Name: endtime, Length: 391836, dtype: object\n",
            "0         __NA__\n",
            "1         __NA__\n",
            "2         __NA__\n",
            "3         __NA__\n",
            "5         __NA__\n",
            "           ...  \n",
            "404083    __NA__\n",
            "404084    __NA__\n",
            "404085    __NA__\n",
            "404086    __NA__\n",
            "404087    __NA__\n",
            "Name: i14_health_other, Length: 391836, dtype: object\n"
          ],
          "name": "stdout"
        }
      ]
    },
    {
      "cell_type": "code",
      "metadata": {
        "id": "WllJ2c6U90iY"
      },
      "source": [
        "# i14_health_other, and endtime removed as they are too numerous for get_dummies without crashing the notebook\n",
        "filtered_df = covid_148[['i4_health', 'Country', 'weight', 'i3_health', 'age',\n",
        "       'gender', 'qweek', 'household_size', 'household_children',\n",
        "       'i1_health', 'i7a_health', 'i13_health',\n",
        "       'i12_health_3', 'i12_health_19', 'i12_health_14', 'i12_health_13',\n",
        "       'i2_health', 'i12_health_16', 'i12_health_1', 'i12_health_15',\n",
        "       'i12_health_18', 'i12_health_6', 'i12_health_4', 'i12_health_7',\n",
        "       'i12_health_12', 'i12_health_20', 'i12_health_2', 'i12_health_11',\n",
        "       'i12_health_8', 'i12_health_5', 'i12_health_17', 'i5_health_4',\n",
        "       'i5_health_2', 'i5_health_1', 'i5_health_99', 'i5_health_3',\n",
        "       'i5_health_5', 'd1_health_99', 'd1_health_7', 'd1_health_6',\n",
        "       'd1_health_8', 'd1_health_11', 'd1_health_2', 'd1_health_4',\n",
        "       'd1_health_13', 'd1_health_10', 'd1_health_12', 'd1_health_3',\n",
        "       'd1_health_1', 'd1_health_98', 'd1_health_5', 'd1_health_9']]"
      ],
      "execution_count": null,
      "outputs": []
    },
    {
      "cell_type": "code",
      "metadata": {
        "id": "IqdY9_69-rLc"
      },
      "source": [
        "# Targer(i4_health) and weight removed from dummies list\n",
        "dummy_df = pd.get_dummies(filtered_df, columns=['Country', 'i3_health', 'age',\n",
        "       'gender', 'qweek', 'household_size', 'household_children',\n",
        "       'i1_health', 'i7a_health', 'i13_health',\n",
        "       'i12_health_3', 'i12_health_19', 'i12_health_14', 'i12_health_13',\n",
        "       'i2_health', 'i12_health_16', 'i12_health_1', 'i12_health_15',\n",
        "       'i12_health_18', 'i12_health_6', 'i12_health_4', 'i12_health_7',\n",
        "       'i12_health_12', 'i12_health_20', 'i12_health_2', 'i12_health_11',\n",
        "       'i12_health_8', 'i12_health_5', 'i12_health_17', 'i5_health_4',\n",
        "       'i5_health_2', 'i5_health_1', 'i5_health_99', 'i5_health_3',\n",
        "       'i5_health_5', 'd1_health_99', 'd1_health_7', 'd1_health_6',\n",
        "       'd1_health_8', 'd1_health_11', 'd1_health_2', 'd1_health_4',\n",
        "       'd1_health_13', 'd1_health_10', 'd1_health_12', 'd1_health_3',\n",
        "       'd1_health_1', 'd1_health_98', 'd1_health_5', 'd1_health_9'])"
      ],
      "execution_count": null,
      "outputs": []
    },
    {
      "cell_type": "code",
      "metadata": {
        "id": "-yhRlxQb-rR7",
        "colab": {
          "base_uri": "https://localhost:8080/",
          "height": 474
        },
        "outputId": "70978f2c-7d96-4203-ef38-91761570415c"
      },
      "source": [
        "dummy_df.head()"
      ],
      "execution_count": null,
      "outputs": [
        {
          "output_type": "execute_result",
          "data": {
            "text/html": [
              "<div>\n",
              "<style scoped>\n",
              "    .dataframe tbody tr th:only-of-type {\n",
              "        vertical-align: middle;\n",
              "    }\n",
              "\n",
              "    .dataframe tbody tr th {\n",
              "        vertical-align: top;\n",
              "    }\n",
              "\n",
              "    .dataframe thead th {\n",
              "        text-align: right;\n",
              "    }\n",
              "</style>\n",
              "<table border=\"1\" class=\"dataframe\">\n",
              "  <thead>\n",
              "    <tr style=\"text-align: right;\">\n",
              "      <th></th>\n",
              "      <th>i4_health</th>\n",
              "      <th>weight</th>\n",
              "      <th>Country_Australia</th>\n",
              "      <th>Country_Brazil</th>\n",
              "      <th>Country_Canada</th>\n",
              "      <th>Country_China</th>\n",
              "      <th>Country_Denmark</th>\n",
              "      <th>Country_Finland</th>\n",
              "      <th>Country_France</th>\n",
              "      <th>Country_Germany</th>\n",
              "      <th>Country_Hong Kong</th>\n",
              "      <th>Country_India</th>\n",
              "      <th>Country_Indonesia</th>\n",
              "      <th>Country_Italy</th>\n",
              "      <th>Country_Japan</th>\n",
              "      <th>Country_Malaysia</th>\n",
              "      <th>Country_Mexico</th>\n",
              "      <th>Country_Netherlands</th>\n",
              "      <th>Country_Norway</th>\n",
              "      <th>Country_Saudi Arabia</th>\n",
              "      <th>Country_Singapore</th>\n",
              "      <th>Country_South Korea</th>\n",
              "      <th>Country_Spain</th>\n",
              "      <th>Country_Sweeden</th>\n",
              "      <th>Country_Taiwan</th>\n",
              "      <th>Country_Thailand</th>\n",
              "      <th>Country_United Arab Emirates</th>\n",
              "      <th>Country_United Kingdom</th>\n",
              "      <th>Country_United States</th>\n",
              "      <th>Country_Vietnam</th>\n",
              "      <th>i3_health_No, I have not</th>\n",
              "      <th>i3_health_Yes, and I have not received my results from the test yet</th>\n",
              "      <th>i3_health_Yes, and I tested negative</th>\n",
              "      <th>i3_health_Yes, and I tested positive</th>\n",
              "      <th>age_18</th>\n",
              "      <th>age_19</th>\n",
              "      <th>age_20</th>\n",
              "      <th>age_21</th>\n",
              "      <th>age_22</th>\n",
              "      <th>age_23</th>\n",
              "      <th>...</th>\n",
              "      <th>d1_health_7_Yes</th>\n",
              "      <th>d1_health_6_</th>\n",
              "      <th>d1_health_6_No</th>\n",
              "      <th>d1_health_6_Yes</th>\n",
              "      <th>d1_health_8_</th>\n",
              "      <th>d1_health_8_No</th>\n",
              "      <th>d1_health_8_Yes</th>\n",
              "      <th>d1_health_11_</th>\n",
              "      <th>d1_health_11_No</th>\n",
              "      <th>d1_health_11_Yes</th>\n",
              "      <th>d1_health_2_</th>\n",
              "      <th>d1_health_2_No</th>\n",
              "      <th>d1_health_2_Yes</th>\n",
              "      <th>d1_health_4_</th>\n",
              "      <th>d1_health_4_No</th>\n",
              "      <th>d1_health_4_Yes</th>\n",
              "      <th>d1_health_13_</th>\n",
              "      <th>d1_health_13_No</th>\n",
              "      <th>d1_health_13_Yes</th>\n",
              "      <th>d1_health_10_</th>\n",
              "      <th>d1_health_10_No</th>\n",
              "      <th>d1_health_10_Yes</th>\n",
              "      <th>d1_health_12_</th>\n",
              "      <th>d1_health_12_No</th>\n",
              "      <th>d1_health_12_Yes</th>\n",
              "      <th>d1_health_3_</th>\n",
              "      <th>d1_health_3_No</th>\n",
              "      <th>d1_health_3_Yes</th>\n",
              "      <th>d1_health_1_</th>\n",
              "      <th>d1_health_1_No</th>\n",
              "      <th>d1_health_1_Yes</th>\n",
              "      <th>d1_health_98_</th>\n",
              "      <th>d1_health_98_No</th>\n",
              "      <th>d1_health_98_Yes</th>\n",
              "      <th>d1_health_5_</th>\n",
              "      <th>d1_health_5_No</th>\n",
              "      <th>d1_health_5_Yes</th>\n",
              "      <th>d1_health_9_</th>\n",
              "      <th>d1_health_9_No</th>\n",
              "      <th>d1_health_9_Yes</th>\n",
              "    </tr>\n",
              "  </thead>\n",
              "  <tbody>\n",
              "    <tr>\n",
              "      <th>0</th>\n",
              "      <td>No, they have not</td>\n",
              "      <td>0.678531</td>\n",
              "      <td>1</td>\n",
              "      <td>0</td>\n",
              "      <td>0</td>\n",
              "      <td>0</td>\n",
              "      <td>0</td>\n",
              "      <td>0</td>\n",
              "      <td>0</td>\n",
              "      <td>0</td>\n",
              "      <td>0</td>\n",
              "      <td>0</td>\n",
              "      <td>0</td>\n",
              "      <td>0</td>\n",
              "      <td>0</td>\n",
              "      <td>0</td>\n",
              "      <td>0</td>\n",
              "      <td>0</td>\n",
              "      <td>0</td>\n",
              "      <td>0</td>\n",
              "      <td>0</td>\n",
              "      <td>0</td>\n",
              "      <td>0</td>\n",
              "      <td>0</td>\n",
              "      <td>0</td>\n",
              "      <td>0</td>\n",
              "      <td>0</td>\n",
              "      <td>0</td>\n",
              "      <td>0</td>\n",
              "      <td>0</td>\n",
              "      <td>1</td>\n",
              "      <td>0</td>\n",
              "      <td>0</td>\n",
              "      <td>0</td>\n",
              "      <td>0</td>\n",
              "      <td>0</td>\n",
              "      <td>0</td>\n",
              "      <td>0</td>\n",
              "      <td>0</td>\n",
              "      <td>0</td>\n",
              "      <td>...</td>\n",
              "      <td>0</td>\n",
              "      <td>1</td>\n",
              "      <td>0</td>\n",
              "      <td>0</td>\n",
              "      <td>1</td>\n",
              "      <td>0</td>\n",
              "      <td>0</td>\n",
              "      <td>1</td>\n",
              "      <td>0</td>\n",
              "      <td>0</td>\n",
              "      <td>1</td>\n",
              "      <td>0</td>\n",
              "      <td>0</td>\n",
              "      <td>1</td>\n",
              "      <td>0</td>\n",
              "      <td>0</td>\n",
              "      <td>1</td>\n",
              "      <td>0</td>\n",
              "      <td>0</td>\n",
              "      <td>1</td>\n",
              "      <td>0</td>\n",
              "      <td>0</td>\n",
              "      <td>1</td>\n",
              "      <td>0</td>\n",
              "      <td>0</td>\n",
              "      <td>1</td>\n",
              "      <td>0</td>\n",
              "      <td>0</td>\n",
              "      <td>1</td>\n",
              "      <td>0</td>\n",
              "      <td>0</td>\n",
              "      <td>1</td>\n",
              "      <td>0</td>\n",
              "      <td>0</td>\n",
              "      <td>1</td>\n",
              "      <td>0</td>\n",
              "      <td>0</td>\n",
              "      <td>1</td>\n",
              "      <td>0</td>\n",
              "      <td>0</td>\n",
              "    </tr>\n",
              "    <tr>\n",
              "      <th>1</th>\n",
              "      <td>No, they have not</td>\n",
              "      <td>1.049460</td>\n",
              "      <td>1</td>\n",
              "      <td>0</td>\n",
              "      <td>0</td>\n",
              "      <td>0</td>\n",
              "      <td>0</td>\n",
              "      <td>0</td>\n",
              "      <td>0</td>\n",
              "      <td>0</td>\n",
              "      <td>0</td>\n",
              "      <td>0</td>\n",
              "      <td>0</td>\n",
              "      <td>0</td>\n",
              "      <td>0</td>\n",
              "      <td>0</td>\n",
              "      <td>0</td>\n",
              "      <td>0</td>\n",
              "      <td>0</td>\n",
              "      <td>0</td>\n",
              "      <td>0</td>\n",
              "      <td>0</td>\n",
              "      <td>0</td>\n",
              "      <td>0</td>\n",
              "      <td>0</td>\n",
              "      <td>0</td>\n",
              "      <td>0</td>\n",
              "      <td>0</td>\n",
              "      <td>0</td>\n",
              "      <td>0</td>\n",
              "      <td>1</td>\n",
              "      <td>0</td>\n",
              "      <td>0</td>\n",
              "      <td>0</td>\n",
              "      <td>0</td>\n",
              "      <td>0</td>\n",
              "      <td>0</td>\n",
              "      <td>0</td>\n",
              "      <td>0</td>\n",
              "      <td>0</td>\n",
              "      <td>...</td>\n",
              "      <td>0</td>\n",
              "      <td>1</td>\n",
              "      <td>0</td>\n",
              "      <td>0</td>\n",
              "      <td>1</td>\n",
              "      <td>0</td>\n",
              "      <td>0</td>\n",
              "      <td>1</td>\n",
              "      <td>0</td>\n",
              "      <td>0</td>\n",
              "      <td>1</td>\n",
              "      <td>0</td>\n",
              "      <td>0</td>\n",
              "      <td>1</td>\n",
              "      <td>0</td>\n",
              "      <td>0</td>\n",
              "      <td>1</td>\n",
              "      <td>0</td>\n",
              "      <td>0</td>\n",
              "      <td>1</td>\n",
              "      <td>0</td>\n",
              "      <td>0</td>\n",
              "      <td>1</td>\n",
              "      <td>0</td>\n",
              "      <td>0</td>\n",
              "      <td>1</td>\n",
              "      <td>0</td>\n",
              "      <td>0</td>\n",
              "      <td>1</td>\n",
              "      <td>0</td>\n",
              "      <td>0</td>\n",
              "      <td>1</td>\n",
              "      <td>0</td>\n",
              "      <td>0</td>\n",
              "      <td>1</td>\n",
              "      <td>0</td>\n",
              "      <td>0</td>\n",
              "      <td>1</td>\n",
              "      <td>0</td>\n",
              "      <td>0</td>\n",
              "    </tr>\n",
              "    <tr>\n",
              "      <th>2</th>\n",
              "      <td>Yes, and they have not received their results ...</td>\n",
              "      <td>1.271203</td>\n",
              "      <td>1</td>\n",
              "      <td>0</td>\n",
              "      <td>0</td>\n",
              "      <td>0</td>\n",
              "      <td>0</td>\n",
              "      <td>0</td>\n",
              "      <td>0</td>\n",
              "      <td>0</td>\n",
              "      <td>0</td>\n",
              "      <td>0</td>\n",
              "      <td>0</td>\n",
              "      <td>0</td>\n",
              "      <td>0</td>\n",
              "      <td>0</td>\n",
              "      <td>0</td>\n",
              "      <td>0</td>\n",
              "      <td>0</td>\n",
              "      <td>0</td>\n",
              "      <td>0</td>\n",
              "      <td>0</td>\n",
              "      <td>0</td>\n",
              "      <td>0</td>\n",
              "      <td>0</td>\n",
              "      <td>0</td>\n",
              "      <td>0</td>\n",
              "      <td>0</td>\n",
              "      <td>0</td>\n",
              "      <td>0</td>\n",
              "      <td>1</td>\n",
              "      <td>0</td>\n",
              "      <td>0</td>\n",
              "      <td>0</td>\n",
              "      <td>0</td>\n",
              "      <td>0</td>\n",
              "      <td>0</td>\n",
              "      <td>0</td>\n",
              "      <td>1</td>\n",
              "      <td>0</td>\n",
              "      <td>...</td>\n",
              "      <td>0</td>\n",
              "      <td>1</td>\n",
              "      <td>0</td>\n",
              "      <td>0</td>\n",
              "      <td>1</td>\n",
              "      <td>0</td>\n",
              "      <td>0</td>\n",
              "      <td>1</td>\n",
              "      <td>0</td>\n",
              "      <td>0</td>\n",
              "      <td>1</td>\n",
              "      <td>0</td>\n",
              "      <td>0</td>\n",
              "      <td>1</td>\n",
              "      <td>0</td>\n",
              "      <td>0</td>\n",
              "      <td>1</td>\n",
              "      <td>0</td>\n",
              "      <td>0</td>\n",
              "      <td>1</td>\n",
              "      <td>0</td>\n",
              "      <td>0</td>\n",
              "      <td>1</td>\n",
              "      <td>0</td>\n",
              "      <td>0</td>\n",
              "      <td>1</td>\n",
              "      <td>0</td>\n",
              "      <td>0</td>\n",
              "      <td>1</td>\n",
              "      <td>0</td>\n",
              "      <td>0</td>\n",
              "      <td>1</td>\n",
              "      <td>0</td>\n",
              "      <td>0</td>\n",
              "      <td>1</td>\n",
              "      <td>0</td>\n",
              "      <td>0</td>\n",
              "      <td>1</td>\n",
              "      <td>0</td>\n",
              "      <td>0</td>\n",
              "    </tr>\n",
              "    <tr>\n",
              "      <th>3</th>\n",
              "      <td>No, they have not</td>\n",
              "      <td>0.936885</td>\n",
              "      <td>1</td>\n",
              "      <td>0</td>\n",
              "      <td>0</td>\n",
              "      <td>0</td>\n",
              "      <td>0</td>\n",
              "      <td>0</td>\n",
              "      <td>0</td>\n",
              "      <td>0</td>\n",
              "      <td>0</td>\n",
              "      <td>0</td>\n",
              "      <td>0</td>\n",
              "      <td>0</td>\n",
              "      <td>0</td>\n",
              "      <td>0</td>\n",
              "      <td>0</td>\n",
              "      <td>0</td>\n",
              "      <td>0</td>\n",
              "      <td>0</td>\n",
              "      <td>0</td>\n",
              "      <td>0</td>\n",
              "      <td>0</td>\n",
              "      <td>0</td>\n",
              "      <td>0</td>\n",
              "      <td>0</td>\n",
              "      <td>0</td>\n",
              "      <td>0</td>\n",
              "      <td>0</td>\n",
              "      <td>0</td>\n",
              "      <td>1</td>\n",
              "      <td>0</td>\n",
              "      <td>0</td>\n",
              "      <td>0</td>\n",
              "      <td>0</td>\n",
              "      <td>0</td>\n",
              "      <td>0</td>\n",
              "      <td>0</td>\n",
              "      <td>0</td>\n",
              "      <td>0</td>\n",
              "      <td>...</td>\n",
              "      <td>0</td>\n",
              "      <td>0</td>\n",
              "      <td>1</td>\n",
              "      <td>0</td>\n",
              "      <td>0</td>\n",
              "      <td>1</td>\n",
              "      <td>0</td>\n",
              "      <td>0</td>\n",
              "      <td>1</td>\n",
              "      <td>0</td>\n",
              "      <td>0</td>\n",
              "      <td>1</td>\n",
              "      <td>0</td>\n",
              "      <td>0</td>\n",
              "      <td>1</td>\n",
              "      <td>0</td>\n",
              "      <td>0</td>\n",
              "      <td>1</td>\n",
              "      <td>0</td>\n",
              "      <td>0</td>\n",
              "      <td>1</td>\n",
              "      <td>0</td>\n",
              "      <td>0</td>\n",
              "      <td>1</td>\n",
              "      <td>0</td>\n",
              "      <td>0</td>\n",
              "      <td>1</td>\n",
              "      <td>0</td>\n",
              "      <td>0</td>\n",
              "      <td>1</td>\n",
              "      <td>0</td>\n",
              "      <td>0</td>\n",
              "      <td>1</td>\n",
              "      <td>0</td>\n",
              "      <td>0</td>\n",
              "      <td>1</td>\n",
              "      <td>0</td>\n",
              "      <td>0</td>\n",
              "      <td>1</td>\n",
              "      <td>0</td>\n",
              "    </tr>\n",
              "    <tr>\n",
              "      <th>5</th>\n",
              "      <td>No, they have not</td>\n",
              "      <td>0.797127</td>\n",
              "      <td>1</td>\n",
              "      <td>0</td>\n",
              "      <td>0</td>\n",
              "      <td>0</td>\n",
              "      <td>0</td>\n",
              "      <td>0</td>\n",
              "      <td>0</td>\n",
              "      <td>0</td>\n",
              "      <td>0</td>\n",
              "      <td>0</td>\n",
              "      <td>0</td>\n",
              "      <td>0</td>\n",
              "      <td>0</td>\n",
              "      <td>0</td>\n",
              "      <td>0</td>\n",
              "      <td>0</td>\n",
              "      <td>0</td>\n",
              "      <td>0</td>\n",
              "      <td>0</td>\n",
              "      <td>0</td>\n",
              "      <td>0</td>\n",
              "      <td>0</td>\n",
              "      <td>0</td>\n",
              "      <td>0</td>\n",
              "      <td>0</td>\n",
              "      <td>0</td>\n",
              "      <td>0</td>\n",
              "      <td>0</td>\n",
              "      <td>1</td>\n",
              "      <td>0</td>\n",
              "      <td>0</td>\n",
              "      <td>0</td>\n",
              "      <td>0</td>\n",
              "      <td>0</td>\n",
              "      <td>0</td>\n",
              "      <td>0</td>\n",
              "      <td>0</td>\n",
              "      <td>0</td>\n",
              "      <td>...</td>\n",
              "      <td>0</td>\n",
              "      <td>0</td>\n",
              "      <td>1</td>\n",
              "      <td>0</td>\n",
              "      <td>0</td>\n",
              "      <td>1</td>\n",
              "      <td>0</td>\n",
              "      <td>0</td>\n",
              "      <td>1</td>\n",
              "      <td>0</td>\n",
              "      <td>0</td>\n",
              "      <td>1</td>\n",
              "      <td>0</td>\n",
              "      <td>0</td>\n",
              "      <td>1</td>\n",
              "      <td>0</td>\n",
              "      <td>0</td>\n",
              "      <td>1</td>\n",
              "      <td>0</td>\n",
              "      <td>0</td>\n",
              "      <td>1</td>\n",
              "      <td>0</td>\n",
              "      <td>0</td>\n",
              "      <td>1</td>\n",
              "      <td>0</td>\n",
              "      <td>0</td>\n",
              "      <td>1</td>\n",
              "      <td>0</td>\n",
              "      <td>0</td>\n",
              "      <td>1</td>\n",
              "      <td>0</td>\n",
              "      <td>0</td>\n",
              "      <td>1</td>\n",
              "      <td>0</td>\n",
              "      <td>0</td>\n",
              "      <td>1</td>\n",
              "      <td>0</td>\n",
              "      <td>0</td>\n",
              "      <td>1</td>\n",
              "      <td>0</td>\n",
              "    </tr>\n",
              "  </tbody>\n",
              "</table>\n",
              "<p>5 rows × 1497 columns</p>\n",
              "</div>"
            ],
            "text/plain": [
              "                                           i4_health  ...  d1_health_9_Yes\n",
              "0                                  No, they have not  ...                0\n",
              "1                                  No, they have not  ...                0\n",
              "2  Yes, and they have not received their results ...  ...                0\n",
              "3                                  No, they have not  ...                0\n",
              "5                                  No, they have not  ...                0\n",
              "\n",
              "[5 rows x 1497 columns]"
            ]
          },
          "metadata": {
            "tags": []
          },
          "execution_count": 42
        }
      ]
    },
    {
      "cell_type": "code",
      "metadata": {
        "id": "w_7sXTcBJBDv",
        "colab": {
          "base_uri": "https://localhost:8080/"
        },
        "outputId": "7bd4c34c-2755-406f-82d8-078f6fa9dfd4"
      },
      "source": [
        "filtered_df.i4_health.unique()"
      ],
      "execution_count": null,
      "outputs": [
        {
          "output_type": "execute_result",
          "data": {
            "text/plain": [
              "array(['No, they have not',\n",
              "       'Yes, and they have not received their results from the test yet',\n",
              "       'Yes, and they tested negative', 'Not sure',\n",
              "       'Yes, and they tested positive'], dtype=object)"
            ]
          },
          "metadata": {
            "tags": []
          },
          "execution_count": 43
        }
      ]
    },
    {
      "cell_type": "code",
      "metadata": {
        "id": "o5a9UYJt-rWd",
        "colab": {
          "base_uri": "https://localhost:8080/",
          "height": 411
        },
        "outputId": "f54822a4-5b4c-4494-e86d-4eb562cd38e7"
      },
      "source": [
        "mapping_df = {'i4_health' :{'No, they have not':0, \n",
        "                            'Yes, and they tested negative':1,\n",
        "                            'Yes, and they tested positive':2,\n",
        "                            'Yes, and they have not received their results from the test yet':3,\n",
        "                            'Not sure': 4\n",
        "                            }}\n",
        "\n",
        "filtered_df.replace(mapping_df, inplace=True)\n",
        "filtered_df.head()"
      ],
      "execution_count": null,
      "outputs": [
        {
          "output_type": "stream",
          "text": [
            "/usr/local/lib/python3.6/dist-packages/pandas/core/indexing.py:1743: SettingWithCopyWarning: \n",
            "A value is trying to be set on a copy of a slice from a DataFrame.\n",
            "Try using .loc[row_indexer,col_indexer] = value instead\n",
            "\n",
            "See the caveats in the documentation: https://pandas.pydata.org/pandas-docs/stable/user_guide/indexing.html#returning-a-view-versus-a-copy\n",
            "  isetter(ilocs[0], value)\n"
          ],
          "name": "stderr"
        },
        {
          "output_type": "execute_result",
          "data": {
            "text/html": [
              "<div>\n",
              "<style scoped>\n",
              "    .dataframe tbody tr th:only-of-type {\n",
              "        vertical-align: middle;\n",
              "    }\n",
              "\n",
              "    .dataframe tbody tr th {\n",
              "        vertical-align: top;\n",
              "    }\n",
              "\n",
              "    .dataframe thead th {\n",
              "        text-align: right;\n",
              "    }\n",
              "</style>\n",
              "<table border=\"1\" class=\"dataframe\">\n",
              "  <thead>\n",
              "    <tr style=\"text-align: right;\">\n",
              "      <th></th>\n",
              "      <th>i4_health</th>\n",
              "      <th>Country</th>\n",
              "      <th>weight</th>\n",
              "      <th>i3_health</th>\n",
              "      <th>age</th>\n",
              "      <th>gender</th>\n",
              "      <th>qweek</th>\n",
              "      <th>household_size</th>\n",
              "      <th>household_children</th>\n",
              "      <th>i1_health</th>\n",
              "      <th>i7a_health</th>\n",
              "      <th>i13_health</th>\n",
              "      <th>i12_health_3</th>\n",
              "      <th>i12_health_19</th>\n",
              "      <th>i12_health_14</th>\n",
              "      <th>i12_health_13</th>\n",
              "      <th>i2_health</th>\n",
              "      <th>i12_health_16</th>\n",
              "      <th>i12_health_1</th>\n",
              "      <th>i12_health_15</th>\n",
              "      <th>i12_health_18</th>\n",
              "      <th>i12_health_6</th>\n",
              "      <th>i12_health_4</th>\n",
              "      <th>i12_health_7</th>\n",
              "      <th>i12_health_12</th>\n",
              "      <th>i12_health_20</th>\n",
              "      <th>i12_health_2</th>\n",
              "      <th>i12_health_11</th>\n",
              "      <th>i12_health_8</th>\n",
              "      <th>i12_health_5</th>\n",
              "      <th>i12_health_17</th>\n",
              "      <th>i5_health_4</th>\n",
              "      <th>i5_health_2</th>\n",
              "      <th>i5_health_1</th>\n",
              "      <th>i5_health_99</th>\n",
              "      <th>i5_health_3</th>\n",
              "      <th>i5_health_5</th>\n",
              "      <th>d1_health_99</th>\n",
              "      <th>d1_health_7</th>\n",
              "      <th>d1_health_6</th>\n",
              "      <th>d1_health_8</th>\n",
              "      <th>d1_health_11</th>\n",
              "      <th>d1_health_2</th>\n",
              "      <th>d1_health_4</th>\n",
              "      <th>d1_health_13</th>\n",
              "      <th>d1_health_10</th>\n",
              "      <th>d1_health_12</th>\n",
              "      <th>d1_health_3</th>\n",
              "      <th>d1_health_1</th>\n",
              "      <th>d1_health_98</th>\n",
              "      <th>d1_health_5</th>\n",
              "      <th>d1_health_9</th>\n",
              "    </tr>\n",
              "  </thead>\n",
              "  <tbody>\n",
              "    <tr>\n",
              "      <th>0</th>\n",
              "      <td>0</td>\n",
              "      <td>Australia</td>\n",
              "      <td>0.678531</td>\n",
              "      <td>No, I have not</td>\n",
              "      <td>44</td>\n",
              "      <td>Male</td>\n",
              "      <td>week 1</td>\n",
              "      <td>2</td>\n",
              "      <td>0</td>\n",
              "      <td>1</td>\n",
              "      <td>0</td>\n",
              "      <td>6</td>\n",
              "      <td>Frequently</td>\n",
              "      <td>Frequently</td>\n",
              "      <td>Always</td>\n",
              "      <td>Always</td>\n",
              "      <td>1</td>\n",
              "      <td>Frequently</td>\n",
              "      <td>Rarely</td>\n",
              "      <td>Always</td>\n",
              "      <td>Frequently</td>\n",
              "      <td>Always</td>\n",
              "      <td>Always</td>\n",
              "      <td>Always</td>\n",
              "      <td>Always</td>\n",
              "      <td>Always</td>\n",
              "      <td>Always</td>\n",
              "      <td>Always</td>\n",
              "      <td>Always</td>\n",
              "      <td>Always</td>\n",
              "      <td>Always</td>\n",
              "      <td></td>\n",
              "      <td></td>\n",
              "      <td></td>\n",
              "      <td></td>\n",
              "      <td></td>\n",
              "      <td></td>\n",
              "      <td></td>\n",
              "      <td></td>\n",
              "      <td></td>\n",
              "      <td></td>\n",
              "      <td></td>\n",
              "      <td></td>\n",
              "      <td></td>\n",
              "      <td></td>\n",
              "      <td></td>\n",
              "      <td></td>\n",
              "      <td></td>\n",
              "      <td></td>\n",
              "      <td></td>\n",
              "      <td></td>\n",
              "      <td></td>\n",
              "    </tr>\n",
              "    <tr>\n",
              "      <th>1</th>\n",
              "      <td>0</td>\n",
              "      <td>Australia</td>\n",
              "      <td>1.049460</td>\n",
              "      <td>No, I have not</td>\n",
              "      <td>66</td>\n",
              "      <td>Male</td>\n",
              "      <td>week 1</td>\n",
              "      <td>1</td>\n",
              "      <td>0</td>\n",
              "      <td>0</td>\n",
              "      <td>2</td>\n",
              "      <td>20</td>\n",
              "      <td>Frequently</td>\n",
              "      <td>Rarely</td>\n",
              "      <td>Always</td>\n",
              "      <td>Frequently</td>\n",
              "      <td>6</td>\n",
              "      <td>Rarely</td>\n",
              "      <td>Not at all</td>\n",
              "      <td>Frequently</td>\n",
              "      <td>Not at all</td>\n",
              "      <td>Sometimes</td>\n",
              "      <td>Always</td>\n",
              "      <td>Always</td>\n",
              "      <td>Frequently</td>\n",
              "      <td>Frequently</td>\n",
              "      <td>Always</td>\n",
              "      <td>Frequently</td>\n",
              "      <td>Always</td>\n",
              "      <td>Always</td>\n",
              "      <td>Not at all</td>\n",
              "      <td></td>\n",
              "      <td></td>\n",
              "      <td></td>\n",
              "      <td></td>\n",
              "      <td></td>\n",
              "      <td></td>\n",
              "      <td></td>\n",
              "      <td></td>\n",
              "      <td></td>\n",
              "      <td></td>\n",
              "      <td></td>\n",
              "      <td></td>\n",
              "      <td></td>\n",
              "      <td></td>\n",
              "      <td></td>\n",
              "      <td></td>\n",
              "      <td></td>\n",
              "      <td></td>\n",
              "      <td></td>\n",
              "      <td></td>\n",
              "      <td></td>\n",
              "    </tr>\n",
              "    <tr>\n",
              "      <th>2</th>\n",
              "      <td>3</td>\n",
              "      <td>Australia</td>\n",
              "      <td>1.271203</td>\n",
              "      <td>No, I have not</td>\n",
              "      <td>22</td>\n",
              "      <td>Male</td>\n",
              "      <td>week 1</td>\n",
              "      <td>3</td>\n",
              "      <td>1</td>\n",
              "      <td>0</td>\n",
              "      <td>1</td>\n",
              "      <td>10</td>\n",
              "      <td>Always</td>\n",
              "      <td>Always</td>\n",
              "      <td>Always</td>\n",
              "      <td>Always</td>\n",
              "      <td>0</td>\n",
              "      <td>Frequently</td>\n",
              "      <td>Always</td>\n",
              "      <td>Always</td>\n",
              "      <td>Not at all</td>\n",
              "      <td>Sometimes</td>\n",
              "      <td>Always</td>\n",
              "      <td>Sometimes</td>\n",
              "      <td>Always</td>\n",
              "      <td>Always</td>\n",
              "      <td>Always</td>\n",
              "      <td>Always</td>\n",
              "      <td>Always</td>\n",
              "      <td>Always</td>\n",
              "      <td>Rarely</td>\n",
              "      <td></td>\n",
              "      <td></td>\n",
              "      <td></td>\n",
              "      <td></td>\n",
              "      <td></td>\n",
              "      <td></td>\n",
              "      <td></td>\n",
              "      <td></td>\n",
              "      <td></td>\n",
              "      <td></td>\n",
              "      <td></td>\n",
              "      <td></td>\n",
              "      <td></td>\n",
              "      <td></td>\n",
              "      <td></td>\n",
              "      <td></td>\n",
              "      <td></td>\n",
              "      <td></td>\n",
              "      <td></td>\n",
              "      <td></td>\n",
              "      <td></td>\n",
              "    </tr>\n",
              "    <tr>\n",
              "      <th>3</th>\n",
              "      <td>0</td>\n",
              "      <td>Australia</td>\n",
              "      <td>0.936885</td>\n",
              "      <td>No, I have not</td>\n",
              "      <td>45</td>\n",
              "      <td>Male</td>\n",
              "      <td>week 1</td>\n",
              "      <td>3</td>\n",
              "      <td>1</td>\n",
              "      <td>2</td>\n",
              "      <td>1</td>\n",
              "      <td>10</td>\n",
              "      <td>Frequently</td>\n",
              "      <td>Not at all</td>\n",
              "      <td>Always</td>\n",
              "      <td>Always</td>\n",
              "      <td>20</td>\n",
              "      <td>Rarely</td>\n",
              "      <td>Always</td>\n",
              "      <td>Frequently</td>\n",
              "      <td>Not at all</td>\n",
              "      <td>Frequently</td>\n",
              "      <td>Always</td>\n",
              "      <td>Frequently</td>\n",
              "      <td>Always</td>\n",
              "      <td>Frequently</td>\n",
              "      <td>Frequently</td>\n",
              "      <td>Always</td>\n",
              "      <td>Always</td>\n",
              "      <td>Always</td>\n",
              "      <td>Not at all</td>\n",
              "      <td>No</td>\n",
              "      <td>No</td>\n",
              "      <td>No</td>\n",
              "      <td>Yes</td>\n",
              "      <td>No</td>\n",
              "      <td>No</td>\n",
              "      <td>Yes</td>\n",
              "      <td>No</td>\n",
              "      <td>No</td>\n",
              "      <td>No</td>\n",
              "      <td>No</td>\n",
              "      <td>No</td>\n",
              "      <td>No</td>\n",
              "      <td>No</td>\n",
              "      <td>No</td>\n",
              "      <td>No</td>\n",
              "      <td>No</td>\n",
              "      <td>No</td>\n",
              "      <td>No</td>\n",
              "      <td>No</td>\n",
              "      <td>No</td>\n",
              "    </tr>\n",
              "    <tr>\n",
              "      <th>5</th>\n",
              "      <td>0</td>\n",
              "      <td>Australia</td>\n",
              "      <td>0.797127</td>\n",
              "      <td>No, I have not</td>\n",
              "      <td>50</td>\n",
              "      <td>Male</td>\n",
              "      <td>week 1</td>\n",
              "      <td>4</td>\n",
              "      <td>2</td>\n",
              "      <td>2</td>\n",
              "      <td>3</td>\n",
              "      <td>8</td>\n",
              "      <td>Frequently</td>\n",
              "      <td>Frequently</td>\n",
              "      <td>Frequently</td>\n",
              "      <td>Frequently</td>\n",
              "      <td>2</td>\n",
              "      <td>Rarely</td>\n",
              "      <td>Frequently</td>\n",
              "      <td>Frequently</td>\n",
              "      <td>Not at all</td>\n",
              "      <td>Sometimes</td>\n",
              "      <td>Frequently</td>\n",
              "      <td>Frequently</td>\n",
              "      <td>Sometimes</td>\n",
              "      <td>Frequently</td>\n",
              "      <td>Frequently</td>\n",
              "      <td>Rarely</td>\n",
              "      <td>Sometimes</td>\n",
              "      <td>Frequently</td>\n",
              "      <td>Rarely</td>\n",
              "      <td>No</td>\n",
              "      <td>No</td>\n",
              "      <td>No</td>\n",
              "      <td>Yes</td>\n",
              "      <td>No</td>\n",
              "      <td>No</td>\n",
              "      <td>Yes</td>\n",
              "      <td>No</td>\n",
              "      <td>No</td>\n",
              "      <td>No</td>\n",
              "      <td>No</td>\n",
              "      <td>No</td>\n",
              "      <td>No</td>\n",
              "      <td>No</td>\n",
              "      <td>No</td>\n",
              "      <td>No</td>\n",
              "      <td>No</td>\n",
              "      <td>No</td>\n",
              "      <td>No</td>\n",
              "      <td>No</td>\n",
              "      <td>No</td>\n",
              "    </tr>\n",
              "  </tbody>\n",
              "</table>\n",
              "</div>"
            ],
            "text/plain": [
              "   i4_health    Country    weight  ... d1_health_98  d1_health_5 d1_health_9\n",
              "0          0  Australia  0.678531  ...                                      \n",
              "1          0  Australia  1.049460  ...                                      \n",
              "2          3  Australia  1.271203  ...                                      \n",
              "3          0  Australia  0.936885  ...           No           No          No\n",
              "5          0  Australia  0.797127  ...           No           No          No\n",
              "\n",
              "[5 rows x 52 columns]"
            ]
          },
          "metadata": {
            "tags": []
          },
          "execution_count": 45
        }
      ]
    },
    {
      "cell_type": "code",
      "metadata": {
        "id": "DuStbylz-rcQ",
        "colab": {
          "base_uri": "https://localhost:8080/"
        },
        "outputId": "10d4ae41-96d9-476a-93dd-d652ca262603"
      },
      "source": [
        "rfc = RandomForestClassifier(n_estimators=5)\n",
        "\n",
        "#enc = preprocessing.OneHotEncoder(handle_unknown='ignore')\n",
        "X = dummy_df.drop(columns='i4_health')\n",
        "#enc.fit(X)\n",
        "\n",
        "y = filtered_df['i4_health']\n",
        "#le = preprocessing.LabelEncoder()\n",
        "#le.fit(y)\n",
        "\n",
        "X_train, X_test, y_train, y_test = train_test_split(X, y, random_state=40)\n",
        "#print(X_train.info())\n",
        "#print(y_train.info())\n",
        "\n",
        "rfc.fit(X_train[:10000],y_train[:10000])\n",
        "y_pred = rfc.predict(X_test)\n",
        "#print(rfc.score(y_test))\n",
        "\n",
        "print(confusion_matrix(y_test,y_pred))\n",
        "print(classification_report(y_test,y_pred))\n",
        "print(accuracy_score(y_test, y_pred))"
      ],
      "execution_count": null,
      "outputs": [
        {
          "output_type": "stream",
          "text": [
            "[[84079   862    20    26    54]\n",
            " [ 5123  2042    47    49    10]\n",
            " [  756   145    88    24     1]\n",
            " [ 1061   250    29    40     7]\n",
            " [ 3119   104     6     1    16]]\n",
            "              precision    recall  f1-score   support\n",
            "\n",
            "           0       0.89      0.99      0.94     85041\n",
            "           1       0.60      0.28      0.38      7271\n",
            "           2       0.46      0.09      0.15      1014\n",
            "           3       0.29      0.03      0.05      1387\n",
            "           4       0.18      0.00      0.01      3246\n",
            "\n",
            "    accuracy                           0.88     97959\n",
            "   macro avg       0.48      0.28      0.31     97959\n",
            "weighted avg       0.83      0.88      0.85     97959\n",
            "\n",
            "0.8806235261691115\n"
          ],
          "name": "stdout"
        }
      ]
    },
    {
      "cell_type": "code",
      "metadata": {
        "id": "6JSLD32e-rkh",
        "colab": {
          "base_uri": "https://localhost:8080/"
        },
        "outputId": "7cc779d5-48a2-4715-93cd-c830bf588840"
      },
      "source": [
        "rfr = RandomForestRegressor(n_estimators=5)\n",
        "\n",
        "#enc = preprocessing.OneHotEncoder(handle_unknown='ignore')\n",
        "X = dummy_df.drop(columns='i4_health')\n",
        "#enc.fit(X)\n",
        "\n",
        "y = filtered_df['i4_health']\n",
        "#le = preprocessing.LabelEncoder()\n",
        "#le.fit(y)\n",
        "\n",
        "X_train, X_test, y_train, y_test = train_test_split(X, y, random_state=40)\n",
        "#print(X_train.info())\n",
        "#print(y_train.info())\n",
        "\n",
        "rfr.fit(X_train[:10000],y_train[:10000])\n",
        "y_pred = rfc.predict(X_test)\n",
        "#print(rfr.score(y_test))\n",
        "\n",
        "print('Mean Absolute Error:', metrics.mean_absolute_error(y_test, y_pred))\n",
        "print('Mean Squared Error:', metrics.mean_squared_error(y_test, y_pred))\n",
        "print('Root Mean Squared Error:', np.sqrt(metrics.mean_squared_error(y_test, y_pred)))"
      ],
      "execution_count": null,
      "outputs": [
        {
          "output_type": "stream",
          "text": [
            "Mean Absolute Error: 0.2521156810502353\n",
            "Mean Squared Error: 0.7364611725313651\n",
            "Root Mean Squared Error: 0.8581731599924138\n"
          ],
          "name": "stdout"
        }
      ]
    },
    {
      "cell_type": "code",
      "metadata": {
        "id": "qJCjcujI-rqp"
      },
      "source": [
        ""
      ],
      "execution_count": null,
      "outputs": []
    },
    {
      "cell_type": "markdown",
      "metadata": {
        "id": "_n1KszItavim"
      },
      "source": [
        "### concat columns to reduce number of empty strings -> decision tree/ concepts learning for nominal data "
      ]
    },
    {
      "cell_type": "markdown",
      "metadata": {
        "id": "PByVSzd1ay0j"
      },
      "source": [
        "# Analyze https://www.worldometers.info/coronavirus/"
      ]
    },
    {
      "cell_type": "markdown",
      "metadata": {
        "id": "bIRfDwIojL_Q"
      },
      "source": [
        "### Working Code"
      ]
    },
    {
      "cell_type": "code",
      "metadata": {
        "id": "CNo6Y4WPRQ8u"
      },
      "source": [
        "import requests\n",
        "from bs4 import BeautifulSoup\n",
        "import lxml.html as lh"
      ],
      "execution_count": null,
      "outputs": []
    },
    {
      "cell_type": "code",
      "metadata": {
        "id": "R7G1Ol-EknU8"
      },
      "source": [
        "import pandas as pd\n",
        "import numpy as np \n",
        "import matplotlib.pyplot as plt\n",
        "import seaborn as sns\n",
        "from scipy import stats\n",
        "from pandas import DataFrame\n",
        "from sklearn.model_selection import train_test_split\n",
        "from sklearn.linear_model import LogisticRegression\n",
        "from sklearn.neighbors import KNeighborsClassifier\n",
        "from sklearn.ensemble import RandomForestClassifier\n",
        "from sklearn.ensemble import RandomForestRegressor\n",
        "from sklearn.dummy import DummyClassifier\n",
        "from sklearn.linear_model import LinearRegression\n",
        "from sklearn import preprocessing\n",
        "from sklearn.metrics import classification_report, confusion_matrix, accuracy_score\n",
        "from sklearn import metrics\n",
        "from sklearn.datasets import make_classification"
      ],
      "execution_count": null,
      "outputs": []
    },
    {
      "cell_type": "code",
      "metadata": {
        "id": "wNwhvKxTRRNd"
      },
      "source": [
        "url = 'https://www.worldometers.info/coronavirus/'\n",
        "\n",
        "#Create a handle, page, to handle the contents of the website\n",
        "page = requests.get(url)\n",
        "#Store the contents of the website under doc\n",
        "doc = lh.fromstring(page.content)\n",
        "#Parse data that are stored between <tr>..</tr> of HTML\n",
        "tr_elements = doc.xpath('//tr')"
      ],
      "execution_count": null,
      "outputs": []
    },
    {
      "cell_type": "code",
      "metadata": {
        "id": "CGqfSm6_kVfH",
        "colab": {
          "base_uri": "https://localhost:8080/"
        },
        "outputId": "ac4d806f-a983-4f48-a0a7-ea99a405d468"
      },
      "source": [
        "#Check the length of the first 12 rows to ensure all rows have the same amount of data\n",
        "[len(T) for T in tr_elements[:12]]"
      ],
      "execution_count": null,
      "outputs": [
        {
          "output_type": "execute_result",
          "data": {
            "text/plain": [
              "[19, 19, 19, 19, 19, 19, 19, 19, 19, 19, 19, 19]"
            ]
          },
          "metadata": {
            "tags": []
          },
          "execution_count": 4
        }
      ]
    },
    {
      "cell_type": "code",
      "metadata": {
        "id": "XL66Aw8ZkVjS",
        "colab": {
          "base_uri": "https://localhost:8080/"
        },
        "outputId": "bad67598-7c5f-4a22-8c4e-2f7fa5b27e88"
      },
      "source": [
        "tr_elements = doc.xpath('//tr')\n",
        "#Create empty list\n",
        "col=[]\n",
        "i=0\n",
        "#For each row, store each first element (header) and an empty list\n",
        "for t in tr_elements[0]:\n",
        "    i+=1\n",
        "    name=t.text_content()\n",
        "    print(i,name)\n",
        "    col.append((name,[]))"
      ],
      "execution_count": null,
      "outputs": [
        {
          "output_type": "stream",
          "text": [
            "1 #\n",
            "2 Country,Other\n",
            "3 TotalCases\n",
            "4 NewCases\n",
            "5 TotalDeaths\n",
            "6 NewDeaths\n",
            "7 TotalRecovered\n",
            "8 NewRecovered\n",
            "9 ActiveCases\n",
            "10 Serious,Critical\n",
            "11 Tot Cases/1M pop\n",
            "12 Deaths/1M pop\n",
            "13 TotalTests\n",
            "14 Tests/\n",
            "1M pop\n",
            "\n",
            "15 Population\n",
            "16 Continent\n",
            "17 1 Caseevery X ppl\n",
            "18 1 Deathevery X ppl\n",
            "19 1 Testevery X ppl\n"
          ],
          "name": "stdout"
        }
      ]
    },
    {
      "cell_type": "code",
      "metadata": {
        "id": "7dHnpq2KkVmp"
      },
      "source": [
        "#Since out first row is the header, data is stored on the second row onwards\n",
        "for j in range(1,len(tr_elements)):\n",
        "    #T is our j'th row\n",
        "    T=tr_elements[j]\n",
        "    \n",
        "    #If row is not of size 19, the //tr data is not from our table \n",
        "    if len(T)!=19:\n",
        "        break\n",
        "    \n",
        "    #i is the index of our column\n",
        "    i=0\n",
        "    \n",
        "    #Iterate through each element of the row\n",
        "    for t in T.iterchildren():\n",
        "        data=t.text_content() \n",
        "        #Check if row is empty\n",
        "        if i>0:\n",
        "        #Convert any numerical value to integers\n",
        "            try:\n",
        "                data=int(data)\n",
        "            except:\n",
        "                pass\n",
        "        #Append the data to the empty list of the i'th column\n",
        "        col[i][1].append(data)\n",
        "        #Increment i for the next column\n",
        "        i+=1\n",
        "\n"
      ],
      "execution_count": null,
      "outputs": []
    },
    {
      "cell_type": "code",
      "metadata": {
        "id": "7Vu_5psKlqeV",
        "colab": {
          "base_uri": "https://localhost:8080/"
        },
        "outputId": "ce20b5e3-5b97-4b6c-e6b6-8b7f3b77d2d7"
      },
      "source": [
        "[len(C) for (title,C) in col]"
      ],
      "execution_count": null,
      "outputs": [
        {
          "output_type": "execute_result",
          "data": {
            "text/plain": [
              "[707,\n",
              " 707,\n",
              " 707,\n",
              " 707,\n",
              " 707,\n",
              " 707,\n",
              " 707,\n",
              " 707,\n",
              " 707,\n",
              " 707,\n",
              " 707,\n",
              " 707,\n",
              " 707,\n",
              " 707,\n",
              " 707,\n",
              " 707,\n",
              " 707,\n",
              " 707,\n",
              " 707]"
            ]
          },
          "metadata": {
            "tags": []
          },
          "execution_count": 7
        }
      ]
    },
    {
      "cell_type": "code",
      "metadata": {
        "id": "ouu9MK6tltK1"
      },
      "source": [
        "Dict={title:column for (title,column) in col}\n",
        "df=pd.DataFrame(Dict)"
      ],
      "execution_count": null,
      "outputs": []
    },
    {
      "cell_type": "code",
      "metadata": {
        "id": "hJJjOouJgcLd"
      },
      "source": [
        "#Remove '+' from columns where it exsists.\n",
        "df['NewCases'] = df['NewCases'].str.replace('+','')\n",
        "df['NewDeaths'] = df['NewDeaths'].str.replace('+','')\n",
        "df['NewRecovered'] = df['NewRecovered'].str.replace('+','')\n",
        "#Remove '\\n' Countr,Other\n",
        "df['Country,Other'] = df['Country,Other'].map(lambda x: x.lstrip('\\n').rstrip('\\n'))"
      ],
      "execution_count": null,
      "outputs": []
    },
    {
      "cell_type": "markdown",
      "metadata": {
        "id": "Tnrk8qtYjQoA"
      },
      "source": [
        "### Problem solving space"
      ]
    },
    {
      "cell_type": "code",
      "metadata": {
        "id": "s-ybF5YkSaUf",
        "colab": {
          "base_uri": "https://localhost:8080/",
          "height": 878
        },
        "outputId": "9d0ca136-df44-4035-dda1-05aa1fef1ed4"
      },
      "source": [
        "df.head(25)"
      ],
      "execution_count": null,
      "outputs": [
        {
          "output_type": "execute_result",
          "data": {
            "text/html": [
              "<div>\n",
              "<style scoped>\n",
              "    .dataframe tbody tr th:only-of-type {\n",
              "        vertical-align: middle;\n",
              "    }\n",
              "\n",
              "    .dataframe tbody tr th {\n",
              "        vertical-align: top;\n",
              "    }\n",
              "\n",
              "    .dataframe thead th {\n",
              "        text-align: right;\n",
              "    }\n",
              "</style>\n",
              "<table border=\"1\" class=\"dataframe\">\n",
              "  <thead>\n",
              "    <tr style=\"text-align: right;\">\n",
              "      <th></th>\n",
              "      <th>#</th>\n",
              "      <th>Country,Other</th>\n",
              "      <th>TotalCases</th>\n",
              "      <th>NewCases</th>\n",
              "      <th>TotalDeaths</th>\n",
              "      <th>NewDeaths</th>\n",
              "      <th>TotalRecovered</th>\n",
              "      <th>NewRecovered</th>\n",
              "      <th>ActiveCases</th>\n",
              "      <th>Serious,Critical</th>\n",
              "      <th>Tot Cases/1M pop</th>\n",
              "      <th>Deaths/1M pop</th>\n",
              "      <th>TotalTests</th>\n",
              "      <th>Tests/\\n1M pop\\n</th>\n",
              "      <th>Population</th>\n",
              "      <th>Continent</th>\n",
              "      <th>1 Caseevery X ppl</th>\n",
              "      <th>1 Deathevery X ppl</th>\n",
              "      <th>1 Testevery X ppl</th>\n",
              "    </tr>\n",
              "  </thead>\n",
              "  <tbody>\n",
              "    <tr>\n",
              "      <th>0</th>\n",
              "      <td></td>\n",
              "      <td>North America</td>\n",
              "      <td>12,712,953</td>\n",
              "      <td>34,028</td>\n",
              "      <td>370,415</td>\n",
              "      <td>NaN</td>\n",
              "      <td>8,141,427</td>\n",
              "      <td>14,595</td>\n",
              "      <td>4,201,111</td>\n",
              "      <td>22,484</td>\n",
              "      <td></td>\n",
              "      <td></td>\n",
              "      <td></td>\n",
              "      <td></td>\n",
              "      <td></td>\n",
              "      <td>North America</td>\n",
              "      <td>\\n</td>\n",
              "      <td></td>\n",
              "      <td></td>\n",
              "    </tr>\n",
              "    <tr>\n",
              "      <th>1</th>\n",
              "      <td></td>\n",
              "      <td>Asia</td>\n",
              "      <td>14,775,822</td>\n",
              "      <td>68,649</td>\n",
              "      <td>261,237</td>\n",
              "      <td>1,154</td>\n",
              "      <td>13,179,521</td>\n",
              "      <td>49,346</td>\n",
              "      <td>1,335,064</td>\n",
              "      <td>24,037</td>\n",
              "      <td></td>\n",
              "      <td></td>\n",
              "      <td></td>\n",
              "      <td></td>\n",
              "      <td></td>\n",
              "      <td>Asia</td>\n",
              "      <td>\\n</td>\n",
              "      <td></td>\n",
              "      <td></td>\n",
              "    </tr>\n",
              "    <tr>\n",
              "      <th>2</th>\n",
              "      <td></td>\n",
              "      <td>South America</td>\n",
              "      <td>10,154,104</td>\n",
              "      <td>5,107</td>\n",
              "      <td>305,582</td>\n",
              "      <td>NaN</td>\n",
              "      <td>9,005,124</td>\n",
              "      <td>1,568</td>\n",
              "      <td>843,398</td>\n",
              "      <td>17,504</td>\n",
              "      <td></td>\n",
              "      <td></td>\n",
              "      <td></td>\n",
              "      <td></td>\n",
              "      <td></td>\n",
              "      <td>South America</td>\n",
              "      <td>\\n</td>\n",
              "      <td></td>\n",
              "      <td></td>\n",
              "    </tr>\n",
              "    <tr>\n",
              "      <th>3</th>\n",
              "      <td></td>\n",
              "      <td>Europe</td>\n",
              "      <td>13,127,821</td>\n",
              "      <td>208,265</td>\n",
              "      <td>309,095</td>\n",
              "      <td>2,561</td>\n",
              "      <td>4,849,024</td>\n",
              "      <td>102,796</td>\n",
              "      <td>7,969,702</td>\n",
              "      <td>28,439</td>\n",
              "      <td></td>\n",
              "      <td></td>\n",
              "      <td></td>\n",
              "      <td></td>\n",
              "      <td></td>\n",
              "      <td>Europe</td>\n",
              "      <td>\\n</td>\n",
              "      <td></td>\n",
              "      <td></td>\n",
              "    </tr>\n",
              "    <tr>\n",
              "      <th>4</th>\n",
              "      <td></td>\n",
              "      <td>Africa</td>\n",
              "      <td>1,933,812</td>\n",
              "      <td>3,060</td>\n",
              "      <td>46,413</td>\n",
              "      <td>NaN</td>\n",
              "      <td>1,630,317</td>\n",
              "      <td>1,227</td>\n",
              "      <td>257,082</td>\n",
              "      <td>2,489</td>\n",
              "      <td></td>\n",
              "      <td></td>\n",
              "      <td></td>\n",
              "      <td></td>\n",
              "      <td></td>\n",
              "      <td>Africa</td>\n",
              "      <td>\\n</td>\n",
              "      <td></td>\n",
              "      <td></td>\n",
              "    </tr>\n",
              "    <tr>\n",
              "      <th>5</th>\n",
              "      <td></td>\n",
              "      <td>Oceania</td>\n",
              "      <td>41,689</td>\n",
              "      <td>NaN</td>\n",
              "      <td>993</td>\n",
              "      <td></td>\n",
              "      <td>32,871</td>\n",
              "      <td>NaN</td>\n",
              "      <td>7,825</td>\n",
              "      <td>21</td>\n",
              "      <td></td>\n",
              "      <td></td>\n",
              "      <td></td>\n",
              "      <td></td>\n",
              "      <td></td>\n",
              "      <td>Australia/Oceania</td>\n",
              "      <td>\\n</td>\n",
              "      <td></td>\n",
              "      <td></td>\n",
              "    </tr>\n",
              "    <tr>\n",
              "      <th>6</th>\n",
              "      <td></td>\n",
              "      <td></td>\n",
              "      <td>721</td>\n",
              "      <td></td>\n",
              "      <td>15</td>\n",
              "      <td></td>\n",
              "      <td>659</td>\n",
              "      <td></td>\n",
              "      <td>47</td>\n",
              "      <td>4</td>\n",
              "      <td></td>\n",
              "      <td></td>\n",
              "      <td></td>\n",
              "      <td></td>\n",
              "      <td></td>\n",
              "      <td></td>\n",
              "      <td>\\n</td>\n",
              "      <td></td>\n",
              "      <td></td>\n",
              "    </tr>\n",
              "    <tr>\n",
              "      <th>7</th>\n",
              "      <td></td>\n",
              "      <td>World</td>\n",
              "      <td>52,746,922</td>\n",
              "      <td>319,126</td>\n",
              "      <td>1,293,750</td>\n",
              "      <td>4,820</td>\n",
              "      <td>36,838,943</td>\n",
              "      <td>169,539</td>\n",
              "      <td>14,614,229</td>\n",
              "      <td>94,978</td>\n",
              "      <td>6,767</td>\n",
              "      <td>166.0</td>\n",
              "      <td></td>\n",
              "      <td></td>\n",
              "      <td></td>\n",
              "      <td>All</td>\n",
              "      <td>\\n</td>\n",
              "      <td></td>\n",
              "      <td></td>\n",
              "    </tr>\n",
              "    <tr>\n",
              "      <th>8</th>\n",
              "      <td>1</td>\n",
              "      <td>USA</td>\n",
              "      <td>10,730,317</td>\n",
              "      <td>21,589</td>\n",
              "      <td>247,572</td>\n",
              "      <td>NaN</td>\n",
              "      <td>6,654,530</td>\n",
              "      <td>5,825</td>\n",
              "      <td>3,828,215</td>\n",
              "      <td>18,718</td>\n",
              "      <td>32,348</td>\n",
              "      <td>746</td>\n",
              "      <td>162,010,121</td>\n",
              "      <td>488,407</td>\n",
              "      <td>331,711,584</td>\n",
              "      <td>North America</td>\n",
              "      <td>31</td>\n",
              "      <td>1,340</td>\n",
              "      <td>2</td>\n",
              "    </tr>\n",
              "    <tr>\n",
              "      <th>9</th>\n",
              "      <td>2</td>\n",
              "      <td>India</td>\n",
              "      <td>8,701,780</td>\n",
              "      <td>17,741</td>\n",
              "      <td>128,299</td>\n",
              "      <td>NaN</td>\n",
              "      <td>8,082,443</td>\n",
              "      <td>17,895</td>\n",
              "      <td>491,038</td>\n",
              "      <td>8,944</td>\n",
              "      <td>6,283</td>\n",
              "      <td>93</td>\n",
              "      <td>121,962,509</td>\n",
              "      <td>88,064</td>\n",
              "      <td>1,384,937,906</td>\n",
              "      <td>Asia</td>\n",
              "      <td>159</td>\n",
              "      <td>10,795</td>\n",
              "      <td>11</td>\n",
              "    </tr>\n",
              "    <tr>\n",
              "      <th>10</th>\n",
              "      <td>3</td>\n",
              "      <td>Brazil</td>\n",
              "      <td>5,751,485</td>\n",
              "      <td>2,478</td>\n",
              "      <td>163,492</td>\n",
              "      <td>NaN</td>\n",
              "      <td>5,064,344</td>\n",
              "      <td></td>\n",
              "      <td>523,649</td>\n",
              "      <td>8,318</td>\n",
              "      <td>26,988</td>\n",
              "      <td>767</td>\n",
              "      <td>21,900,000</td>\n",
              "      <td>102,764</td>\n",
              "      <td>213,110,526</td>\n",
              "      <td>South America</td>\n",
              "      <td>37</td>\n",
              "      <td>1,303</td>\n",
              "      <td>10</td>\n",
              "    </tr>\n",
              "    <tr>\n",
              "      <th>11</th>\n",
              "      <td>4</td>\n",
              "      <td>France</td>\n",
              "      <td>1,865,538</td>\n",
              "      <td></td>\n",
              "      <td>42,535</td>\n",
              "      <td></td>\n",
              "      <td>133,696</td>\n",
              "      <td></td>\n",
              "      <td>1,689,307</td>\n",
              "      <td>4,803</td>\n",
              "      <td>28,557</td>\n",
              "      <td>651</td>\n",
              "      <td>18,282,590</td>\n",
              "      <td>279,865</td>\n",
              "      <td>65,326,475</td>\n",
              "      <td>Europe</td>\n",
              "      <td>35</td>\n",
              "      <td>1,536</td>\n",
              "      <td>4</td>\n",
              "    </tr>\n",
              "    <tr>\n",
              "      <th>12</th>\n",
              "      <td>5</td>\n",
              "      <td>Russia</td>\n",
              "      <td>1,858,568</td>\n",
              "      <td>21,608</td>\n",
              "      <td>32,032</td>\n",
              "      <td>NaN</td>\n",
              "      <td>1,388,168</td>\n",
              "      <td>18,811</td>\n",
              "      <td>438,368</td>\n",
              "      <td>2,300</td>\n",
              "      <td>12,734</td>\n",
              "      <td>219</td>\n",
              "      <td>66,710,463</td>\n",
              "      <td>457,054</td>\n",
              "      <td>145,957,452</td>\n",
              "      <td>Europe</td>\n",
              "      <td>79</td>\n",
              "      <td>4,557</td>\n",
              "      <td>2</td>\n",
              "    </tr>\n",
              "    <tr>\n",
              "      <th>13</th>\n",
              "      <td>6</td>\n",
              "      <td>Spain</td>\n",
              "      <td>1,463,093</td>\n",
              "      <td></td>\n",
              "      <td>40,105</td>\n",
              "      <td></td>\n",
              "      <td>N/A</td>\n",
              "      <td>N/A</td>\n",
              "      <td>N/A</td>\n",
              "      <td>3,093</td>\n",
              "      <td>31,288</td>\n",
              "      <td>858</td>\n",
              "      <td>19,394,289</td>\n",
              "      <td>414,750</td>\n",
              "      <td>46,761,432</td>\n",
              "      <td>Europe</td>\n",
              "      <td>32</td>\n",
              "      <td>1,166</td>\n",
              "      <td>2</td>\n",
              "    </tr>\n",
              "    <tr>\n",
              "      <th>14</th>\n",
              "      <td>7</td>\n",
              "      <td>UK</td>\n",
              "      <td>1,290,195</td>\n",
              "      <td>33,470</td>\n",
              "      <td>50,365</td>\n",
              "      <td></td>\n",
              "      <td>N/A</td>\n",
              "      <td>N/A</td>\n",
              "      <td>N/A</td>\n",
              "      <td>1,268</td>\n",
              "      <td>18,969</td>\n",
              "      <td>740</td>\n",
              "      <td>37,533,659</td>\n",
              "      <td>551,833</td>\n",
              "      <td>68,016,346</td>\n",
              "      <td>Europe</td>\n",
              "      <td>53</td>\n",
              "      <td>1,350</td>\n",
              "      <td>2</td>\n",
              "    </tr>\n",
              "    <tr>\n",
              "      <th>15</th>\n",
              "      <td>8</td>\n",
              "      <td>Argentina</td>\n",
              "      <td>1,273,356</td>\n",
              "      <td></td>\n",
              "      <td>34,531</td>\n",
              "      <td></td>\n",
              "      <td>1,081,897</td>\n",
              "      <td></td>\n",
              "      <td>156,928</td>\n",
              "      <td>4,418</td>\n",
              "      <td>28,080</td>\n",
              "      <td>761</td>\n",
              "      <td>3,346,229</td>\n",
              "      <td>73,792</td>\n",
              "      <td>45,346,691</td>\n",
              "      <td>South America</td>\n",
              "      <td>36</td>\n",
              "      <td>1,313</td>\n",
              "      <td>14</td>\n",
              "    </tr>\n",
              "    <tr>\n",
              "      <th>16</th>\n",
              "      <td>9</td>\n",
              "      <td>Colombia</td>\n",
              "      <td>1,165,326</td>\n",
              "      <td></td>\n",
              "      <td>33,312</td>\n",
              "      <td></td>\n",
              "      <td>1,070,423</td>\n",
              "      <td></td>\n",
              "      <td>61,591</td>\n",
              "      <td>2,376</td>\n",
              "      <td>22,814</td>\n",
              "      <td>652</td>\n",
              "      <td>5,549,461</td>\n",
              "      <td>108,643</td>\n",
              "      <td>51,079,913</td>\n",
              "      <td>South America</td>\n",
              "      <td>44</td>\n",
              "      <td>1,533</td>\n",
              "      <td>9</td>\n",
              "    </tr>\n",
              "    <tr>\n",
              "      <th>17</th>\n",
              "      <td>10</td>\n",
              "      <td>Italy</td>\n",
              "      <td>1,066,401</td>\n",
              "      <td>37,978</td>\n",
              "      <td>43,589</td>\n",
              "      <td>NaN</td>\n",
              "      <td>387,758</td>\n",
              "      <td>15,645</td>\n",
              "      <td>635,054</td>\n",
              "      <td>3,170</td>\n",
              "      <td>17,647</td>\n",
              "      <td>721</td>\n",
              "      <td>18,200,508</td>\n",
              "      <td>301,188</td>\n",
              "      <td>60,429,098</td>\n",
              "      <td>Europe</td>\n",
              "      <td>57</td>\n",
              "      <td>1,386</td>\n",
              "      <td>3</td>\n",
              "    </tr>\n",
              "    <tr>\n",
              "      <th>18</th>\n",
              "      <td>11</td>\n",
              "      <td>Mexico</td>\n",
              "      <td>986,177</td>\n",
              "      <td>7,646</td>\n",
              "      <td>96,430</td>\n",
              "      <td>NaN</td>\n",
              "      <td>731,468</td>\n",
              "      <td>5,622</td>\n",
              "      <td>158,279</td>\n",
              "      <td>2,866</td>\n",
              "      <td>7,620</td>\n",
              "      <td>745</td>\n",
              "      <td>2,558,441</td>\n",
              "      <td>19,768</td>\n",
              "      <td>129,424,947</td>\n",
              "      <td>North America</td>\n",
              "      <td>131</td>\n",
              "      <td>1,342</td>\n",
              "      <td>51</td>\n",
              "    </tr>\n",
              "    <tr>\n",
              "      <th>19</th>\n",
              "      <td>12</td>\n",
              "      <td>Peru</td>\n",
              "      <td>928,006</td>\n",
              "      <td></td>\n",
              "      <td>35,031</td>\n",
              "      <td></td>\n",
              "      <td>853,208</td>\n",
              "      <td></td>\n",
              "      <td>39,767</td>\n",
              "      <td>991</td>\n",
              "      <td>28,004</td>\n",
              "      <td>1,057</td>\n",
              "      <td>4,721,179</td>\n",
              "      <td>142,470</td>\n",
              "      <td>33,138,078</td>\n",
              "      <td>South America</td>\n",
              "      <td>36</td>\n",
              "      <td>946</td>\n",
              "      <td>7</td>\n",
              "    </tr>\n",
              "    <tr>\n",
              "      <th>20</th>\n",
              "      <td>13</td>\n",
              "      <td>South Africa</td>\n",
              "      <td>742,394</td>\n",
              "      <td></td>\n",
              "      <td>20,011</td>\n",
              "      <td></td>\n",
              "      <td>686,458</td>\n",
              "      <td></td>\n",
              "      <td>35,925</td>\n",
              "      <td>546</td>\n",
              "      <td>12,461</td>\n",
              "      <td>336</td>\n",
              "      <td>5,037,782</td>\n",
              "      <td>84,555</td>\n",
              "      <td>59,579,729</td>\n",
              "      <td>Africa</td>\n",
              "      <td>80</td>\n",
              "      <td>2,977</td>\n",
              "      <td>12</td>\n",
              "    </tr>\n",
              "    <tr>\n",
              "      <th>21</th>\n",
              "      <td>14</td>\n",
              "      <td>Germany</td>\n",
              "      <td>737,640</td>\n",
              "      <td>11,464</td>\n",
              "      <td>12,166</td>\n",
              "      <td>NaN</td>\n",
              "      <td>467,800</td>\n",
              "      <td>13,000</td>\n",
              "      <td>257,674</td>\n",
              "      <td>3,127</td>\n",
              "      <td>8,794</td>\n",
              "      <td>145</td>\n",
              "      <td>25,010,416</td>\n",
              "      <td>298,162</td>\n",
              "      <td>83,882,076</td>\n",
              "      <td>Europe</td>\n",
              "      <td>114</td>\n",
              "      <td>6,895</td>\n",
              "      <td>3</td>\n",
              "    </tr>\n",
              "    <tr>\n",
              "      <th>22</th>\n",
              "      <td>15</td>\n",
              "      <td>Iran</td>\n",
              "      <td>726,585</td>\n",
              "      <td>11,517</td>\n",
              "      <td>40,121</td>\n",
              "      <td>NaN</td>\n",
              "      <td>541,566</td>\n",
              "      <td>5,461</td>\n",
              "      <td>144,898</td>\n",
              "      <td>5,614</td>\n",
              "      <td>8,611</td>\n",
              "      <td>475</td>\n",
              "      <td>5,384,988</td>\n",
              "      <td>63,816</td>\n",
              "      <td>84,382,537</td>\n",
              "      <td>Asia</td>\n",
              "      <td>116</td>\n",
              "      <td>2,103</td>\n",
              "      <td>16</td>\n",
              "    </tr>\n",
              "    <tr>\n",
              "      <th>23</th>\n",
              "      <td>16</td>\n",
              "      <td>Poland</td>\n",
              "      <td>641,496</td>\n",
              "      <td>22,683</td>\n",
              "      <td>9,080</td>\n",
              "      <td>NaN</td>\n",
              "      <td>254,349</td>\n",
              "      <td>11,474</td>\n",
              "      <td>378,067</td>\n",
              "      <td>2,008</td>\n",
              "      <td>16,957</td>\n",
              "      <td>240</td>\n",
              "      <td>5,449,885</td>\n",
              "      <td>144,057</td>\n",
              "      <td>37,831,358</td>\n",
              "      <td>Europe</td>\n",
              "      <td>59</td>\n",
              "      <td>4,166</td>\n",
              "      <td>7</td>\n",
              "    </tr>\n",
              "    <tr>\n",
              "      <th>24</th>\n",
              "      <td>17</td>\n",
              "      <td>Chile</td>\n",
              "      <td>526,438</td>\n",
              "      <td>1,634</td>\n",
              "      <td>14,699</td>\n",
              "      <td>NaN</td>\n",
              "      <td>502,475</td>\n",
              "      <td>1,049</td>\n",
              "      <td>9,264</td>\n",
              "      <td>726</td>\n",
              "      <td>27,453</td>\n",
              "      <td>767</td>\n",
              "      <td>4,703,058</td>\n",
              "      <td>245,258</td>\n",
              "      <td>19,175,953</td>\n",
              "      <td>South America</td>\n",
              "      <td>36</td>\n",
              "      <td>1,305</td>\n",
              "      <td>4</td>\n",
              "    </tr>\n",
              "  </tbody>\n",
              "</table>\n",
              "</div>"
            ],
            "text/plain": [
              "     #  Country,Other  ... 1 Deathevery X ppl 1 Testevery X ppl\n",
              "0       North America  ...                                     \n",
              "1                Asia  ...                                     \n",
              "2       South America  ...                                     \n",
              "3              Europe  ...                                     \n",
              "4              Africa  ...                                     \n",
              "5             Oceania  ...                                     \n",
              "6                      ...                                     \n",
              "7               World  ...                                     \n",
              "8    1            USA  ...              1,340                 2\n",
              "9    2          India  ...             10,795                11\n",
              "10   3         Brazil  ...              1,303                10\n",
              "11   4         France  ...              1,536                 4\n",
              "12   5         Russia  ...              4,557                 2\n",
              "13   6          Spain  ...              1,166                 2\n",
              "14   7             UK  ...              1,350                 2\n",
              "15   8      Argentina  ...              1,313                14\n",
              "16   9       Colombia  ...              1,533                 9\n",
              "17  10          Italy  ...              1,386                 3\n",
              "18  11         Mexico  ...              1,342                51\n",
              "19  12           Peru  ...                946                 7\n",
              "20  13   South Africa  ...              2,977                12\n",
              "21  14        Germany  ...              6,895                 3\n",
              "22  15           Iran  ...              2,103                16\n",
              "23  16         Poland  ...              4,166                 7\n",
              "24  17          Chile  ...              1,305                 4\n",
              "\n",
              "[25 rows x 19 columns]"
            ]
          },
          "metadata": {
            "tags": []
          },
          "execution_count": 14
        }
      ]
    },
    {
      "cell_type": "code",
      "metadata": {
        "id": "LiAe9KzVbIhK",
        "colab": {
          "base_uri": "https://localhost:8080/",
          "height": 32
        },
        "outputId": "c160fcab-c55f-47b6-f025-fe5bc507966a"
      },
      "source": [
        "df.corr()"
      ],
      "execution_count": null,
      "outputs": [
        {
          "output_type": "execute_result",
          "data": {
            "text/html": [
              "<div>\n",
              "<style scoped>\n",
              "    .dataframe tbody tr th:only-of-type {\n",
              "        vertical-align: middle;\n",
              "    }\n",
              "\n",
              "    .dataframe tbody tr th {\n",
              "        vertical-align: top;\n",
              "    }\n",
              "\n",
              "    .dataframe thead th {\n",
              "        text-align: right;\n",
              "    }\n",
              "</style>\n",
              "<table border=\"1\" class=\"dataframe\">\n",
              "  <thead>\n",
              "    <tr style=\"text-align: right;\">\n",
              "      <th></th>\n",
              "    </tr>\n",
              "  </thead>\n",
              "  <tbody>\n",
              "  </tbody>\n",
              "</table>\n",
              "</div>"
            ],
            "text/plain": [
              "Empty DataFrame\n",
              "Columns: []\n",
              "Index: []"
            ]
          },
          "metadata": {
            "tags": []
          },
          "execution_count": 15
        }
      ]
    },
    {
      "cell_type": "code",
      "metadata": {
        "id": "mpaAgZtyisPj",
        "colab": {
          "base_uri": "https://localhost:8080/"
        },
        "outputId": "ff9ec7c6-2204-4f7b-c55f-0a16bf47d5b0"
      },
      "source": [
        "df.isna().sum()*100/df.count()"
      ],
      "execution_count": null,
      "outputs": [
        {
          "output_type": "execute_result",
          "data": {
            "text/plain": [
              "#                      0.000000\n",
              "Country,Other          0.000000\n",
              "TotalCases             0.000000\n",
              "NewCases              64.037123\n",
              "TotalDeaths            0.000000\n",
              "NewDeaths             73.710074\n",
              "TotalRecovered         0.000000\n",
              "NewRecovered          58.165548\n",
              "ActiveCases            0.000000\n",
              "Serious,Critical       0.000000\n",
              "Tot Cases/1M pop       0.000000\n",
              "Deaths/1M pop          0.000000\n",
              "TotalTests             0.000000\n",
              "Tests/\\n1M pop\\n       0.000000\n",
              "Population             0.000000\n",
              "Continent              0.000000\n",
              "1 Caseevery X ppl      0.000000\n",
              "1 Deathevery X ppl     0.000000\n",
              "1 Testevery X ppl      0.000000\n",
              "dtype: float64"
            ]
          },
          "metadata": {
            "tags": []
          },
          "execution_count": 17
        }
      ]
    },
    {
      "cell_type": "code",
      "metadata": {
        "id": "0v4zaFoVmI4X",
        "colab": {
          "base_uri": "https://localhost:8080/"
        },
        "outputId": "c74b48a6-47a0-423f-adb3-e0ab85c2b7d2"
      },
      "source": [
        "test_df.info()"
      ],
      "execution_count": null,
      "outputs": [
        {
          "output_type": "stream",
          "text": [
            "<class 'pandas.core.frame.DataFrame'>\n",
            "RangeIndex: 707 entries, 0 to 706\n",
            "Data columns (total 19 columns):\n",
            " #   Column              Non-Null Count  Dtype \n",
            "---  ------              --------------  ----- \n",
            " 0   #                   707 non-null    object\n",
            " 1   Country,Other       707 non-null    object\n",
            " 2   TotalCases          707 non-null    object\n",
            " 3   NewCases            431 non-null    object\n",
            " 4   TotalDeaths         707 non-null    object\n",
            " 5   NewDeaths           407 non-null    object\n",
            " 6   TotalRecovered      707 non-null    object\n",
            " 7   NewRecovered        447 non-null    object\n",
            " 8   ActiveCases         707 non-null    object\n",
            " 9   Serious,Critical    707 non-null    object\n",
            " 10  Tot Cases/1M pop    707 non-null    object\n",
            " 11  Deaths/1M pop       707 non-null    object\n",
            " 12  TotalTests          707 non-null    object\n",
            " 13  Tests/\n",
            "1M pop\n",
            "      707 non-null    object\n",
            " 14  Population          707 non-null    object\n",
            " 15  Continent           707 non-null    object\n",
            " 16  1 Caseevery X ppl   707 non-null    object\n",
            " 17  1 Deathevery X ppl  707 non-null    object\n",
            " 18  1 Testevery X ppl   707 non-null    object\n",
            "dtypes: object(19)\n",
            "memory usage: 105.1+ KB\n"
          ],
          "name": "stdout"
        }
      ]
    },
    {
      "cell_type": "code",
      "metadata": {
        "id": "xBPG37Hei2Su",
        "colab": {
          "base_uri": "https://localhost:8080/"
        },
        "outputId": "ca6e41cb-f17e-467d-e26f-ca738939d474"
      },
      "source": [
        "test_df = df.copy()\n",
        "len(test_df['NewCases'])\n"
      ],
      "execution_count": null,
      "outputs": [
        {
          "output_type": "execute_result",
          "data": {
            "text/plain": [
              "707"
            ]
          },
          "metadata": {
            "tags": []
          },
          "execution_count": 33
        }
      ]
    },
    {
      "cell_type": "code",
      "metadata": {
        "id": "aC_COukVxYdU",
        "colab": {
          "base_uri": "https://localhost:8080/",
          "height": 164
        },
        "outputId": "4a48fc39-c721-419f-b4a9-4e9a5e0517c5"
      },
      "source": [
        "test_df(['NewCases'][1]).astype(float)"
      ],
      "execution_count": null,
      "outputs": [
        {
          "output_type": "error",
          "ename": "IndexError",
          "evalue": "ignored",
          "traceback": [
            "\u001b[0;31m---------------------------------------------------------------------------\u001b[0m",
            "\u001b[0;31mIndexError\u001b[0m                                Traceback (most recent call last)",
            "\u001b[0;32m<ipython-input-55-9c02ea4e061e>\u001b[0m in \u001b[0;36m<module>\u001b[0;34m()\u001b[0m\n\u001b[0;32m----> 1\u001b[0;31m \u001b[0mtest_df\u001b[0m\u001b[0;34m(\u001b[0m\u001b[0;34m[\u001b[0m\u001b[0;34m'NewCases'\u001b[0m\u001b[0;34m]\u001b[0m\u001b[0;34m[\u001b[0m\u001b[0;36m1\u001b[0m\u001b[0;34m]\u001b[0m\u001b[0;34m)\u001b[0m\u001b[0;34m.\u001b[0m\u001b[0mastype\u001b[0m\u001b[0;34m(\u001b[0m\u001b[0mfloat\u001b[0m\u001b[0;34m)\u001b[0m\u001b[0;34m\u001b[0m\u001b[0;34m\u001b[0m\u001b[0m\n\u001b[0m",
            "\u001b[0;31mIndexError\u001b[0m: list index out of range"
          ]
        }
      ]
    },
    {
      "cell_type": "code",
      "metadata": {
        "id": "QKhw-D_puHq1",
        "colab": {
          "base_uri": "https://localhost:8080/",
          "height": 164
        },
        "outputId": "410b1cc8-b375-4a1a-9ae1-aaaea03b8d0f"
      },
      "source": [
        "test_df(['NewCases'][0]).astype(float)"
      ],
      "execution_count": null,
      "outputs": [
        {
          "output_type": "error",
          "ename": "TypeError",
          "evalue": "ignored",
          "traceback": [
            "\u001b[0;31m---------------------------------------------------------------------------\u001b[0m",
            "\u001b[0;31mTypeError\u001b[0m                                 Traceback (most recent call last)",
            "\u001b[0;32m<ipython-input-51-2cac7362ac12>\u001b[0m in \u001b[0;36m<module>\u001b[0;34m()\u001b[0m\n\u001b[0;32m----> 1\u001b[0;31m \u001b[0mtest_df\u001b[0m\u001b[0;34m(\u001b[0m\u001b[0;34m[\u001b[0m\u001b[0;34m'NewCases'\u001b[0m\u001b[0;34m]\u001b[0m\u001b[0;34m[\u001b[0m\u001b[0;36m0\u001b[0m\u001b[0;34m]\u001b[0m\u001b[0;34m)\u001b[0m\u001b[0;34m.\u001b[0m\u001b[0mastype\u001b[0m\u001b[0;34m(\u001b[0m\u001b[0mfloat\u001b[0m\u001b[0;34m)\u001b[0m\u001b[0;34m\u001b[0m\u001b[0;34m\u001b[0m\u001b[0m\n\u001b[0m",
            "\u001b[0;31mTypeError\u001b[0m: 'DataFrame' object is not callable"
          ]
        }
      ]
    },
    {
      "cell_type": "code",
      "metadata": {
        "id": "YsePD5nRrjDH",
        "colab": {
          "base_uri": "https://localhost:8080/",
          "height": 283
        },
        "outputId": "598e2b8d-a478-4ac5-e48b-d8fa923032a9"
      },
      "source": [
        "test_df['NewCases'].astpye(float)"
      ],
      "execution_count": null,
      "outputs": [
        {
          "output_type": "error",
          "ename": "AttributeError",
          "evalue": "ignored",
          "traceback": [
            "\u001b[0;31m---------------------------------------------------------------------------\u001b[0m",
            "\u001b[0;31mAttributeError\u001b[0m                            Traceback (most recent call last)",
            "\u001b[0;32m<ipython-input-44-4c6b3895027c>\u001b[0m in \u001b[0;36m<module>\u001b[0;34m()\u001b[0m\n\u001b[0;32m----> 1\u001b[0;31m \u001b[0mtest_df\u001b[0m\u001b[0;34m[\u001b[0m\u001b[0;34m'NewCases'\u001b[0m\u001b[0;34m]\u001b[0m\u001b[0;34m.\u001b[0m\u001b[0mastpye\u001b[0m\u001b[0;34m(\u001b[0m\u001b[0mfloat\u001b[0m\u001b[0;34m)\u001b[0m\u001b[0;34m\u001b[0m\u001b[0;34m\u001b[0m\u001b[0m\n\u001b[0m",
            "\u001b[0;32m/usr/local/lib/python3.6/dist-packages/pandas/core/generic.py\u001b[0m in \u001b[0;36m__getattr__\u001b[0;34m(self, name)\u001b[0m\n\u001b[1;32m   5137\u001b[0m             \u001b[0;32mif\u001b[0m \u001b[0mself\u001b[0m\u001b[0;34m.\u001b[0m\u001b[0m_info_axis\u001b[0m\u001b[0;34m.\u001b[0m\u001b[0m_can_hold_identifiers_and_holds_name\u001b[0m\u001b[0;34m(\u001b[0m\u001b[0mname\u001b[0m\u001b[0;34m)\u001b[0m\u001b[0;34m:\u001b[0m\u001b[0;34m\u001b[0m\u001b[0;34m\u001b[0m\u001b[0m\n\u001b[1;32m   5138\u001b[0m                 \u001b[0;32mreturn\u001b[0m \u001b[0mself\u001b[0m\u001b[0;34m[\u001b[0m\u001b[0mname\u001b[0m\u001b[0;34m]\u001b[0m\u001b[0;34m\u001b[0m\u001b[0;34m\u001b[0m\u001b[0m\n\u001b[0;32m-> 5139\u001b[0;31m             \u001b[0;32mreturn\u001b[0m \u001b[0mobject\u001b[0m\u001b[0;34m.\u001b[0m\u001b[0m__getattribute__\u001b[0m\u001b[0;34m(\u001b[0m\u001b[0mself\u001b[0m\u001b[0;34m,\u001b[0m \u001b[0mname\u001b[0m\u001b[0;34m)\u001b[0m\u001b[0;34m\u001b[0m\u001b[0;34m\u001b[0m\u001b[0m\n\u001b[0m\u001b[1;32m   5140\u001b[0m \u001b[0;34m\u001b[0m\u001b[0m\n\u001b[1;32m   5141\u001b[0m     \u001b[0;32mdef\u001b[0m \u001b[0m__setattr__\u001b[0m\u001b[0;34m(\u001b[0m\u001b[0mself\u001b[0m\u001b[0;34m,\u001b[0m \u001b[0mname\u001b[0m\u001b[0;34m:\u001b[0m \u001b[0mstr\u001b[0m\u001b[0;34m,\u001b[0m \u001b[0mvalue\u001b[0m\u001b[0;34m)\u001b[0m \u001b[0;34m->\u001b[0m \u001b[0;32mNone\u001b[0m\u001b[0;34m:\u001b[0m\u001b[0;34m\u001b[0m\u001b[0;34m\u001b[0m\u001b[0m\n",
            "\u001b[0;31mAttributeError\u001b[0m: 'Series' object has no attribute 'astpye'"
          ]
        }
      ]
    },
    {
      "cell_type": "code",
      "metadata": {
        "id": "F28MuErKxjkC",
        "colab": {
          "base_uri": "https://localhost:8080/",
          "height": 164
        },
        "outputId": "0fe51813-d02a-4b07-a62d-022c04ebfb20"
      },
      "source": [
        "test_df['NewCases'].iloc[0].astpye(float)"
      ],
      "execution_count": null,
      "outputs": [
        {
          "output_type": "error",
          "ename": "AttributeError",
          "evalue": "ignored",
          "traceback": [
            "\u001b[0;31m---------------------------------------------------------------------------\u001b[0m",
            "\u001b[0;31mAttributeError\u001b[0m                            Traceback (most recent call last)",
            "\u001b[0;32m<ipython-input-57-3745ff3bfefc>\u001b[0m in \u001b[0;36m<module>\u001b[0;34m()\u001b[0m\n\u001b[0;32m----> 1\u001b[0;31m \u001b[0mtest_df\u001b[0m\u001b[0;34m[\u001b[0m\u001b[0;34m'NewCases'\u001b[0m\u001b[0;34m]\u001b[0m\u001b[0;34m.\u001b[0m\u001b[0miloc\u001b[0m\u001b[0;34m[\u001b[0m\u001b[0;36m0\u001b[0m\u001b[0;34m]\u001b[0m\u001b[0;34m.\u001b[0m\u001b[0mastpye\u001b[0m\u001b[0;34m(\u001b[0m\u001b[0mfloat\u001b[0m\u001b[0;34m)\u001b[0m\u001b[0;34m\u001b[0m\u001b[0;34m\u001b[0m\u001b[0m\n\u001b[0m",
            "\u001b[0;31mAttributeError\u001b[0m: 'str' object has no attribute 'astpye'"
          ]
        }
      ]
    },
    {
      "cell_type": "code",
      "metadata": {
        "id": "-e5Y8umBxEyb",
        "colab": {
          "base_uri": "https://localhost:8080/",
          "height": 283
        },
        "outputId": "b60b0e5f-aa27-4ef6-ab9d-ed1d252cd567"
      },
      "source": [
        "int(float(test_df['NewCases']))"
      ],
      "execution_count": null,
      "outputs": [
        {
          "output_type": "error",
          "ename": "TypeError",
          "evalue": "ignored",
          "traceback": [
            "\u001b[0;31m---------------------------------------------------------------------------\u001b[0m",
            "\u001b[0;31mTypeError\u001b[0m                                 Traceback (most recent call last)",
            "\u001b[0;32m<ipython-input-54-a2753e14a67d>\u001b[0m in \u001b[0;36m<module>\u001b[0;34m()\u001b[0m\n\u001b[0;32m----> 1\u001b[0;31m \u001b[0mint\u001b[0m\u001b[0;34m(\u001b[0m\u001b[0mfloat\u001b[0m\u001b[0;34m(\u001b[0m\u001b[0mtest_df\u001b[0m\u001b[0;34m[\u001b[0m\u001b[0;34m'NewCases'\u001b[0m\u001b[0;34m]\u001b[0m\u001b[0;34m)\u001b[0m\u001b[0;34m)\u001b[0m\u001b[0;34m\u001b[0m\u001b[0;34m\u001b[0m\u001b[0m\n\u001b[0m",
            "\u001b[0;32m/usr/local/lib/python3.6/dist-packages/pandas/core/series.py\u001b[0m in \u001b[0;36mwrapper\u001b[0;34m(self)\u001b[0m\n\u001b[1;32m    127\u001b[0m         \u001b[0;32mif\u001b[0m \u001b[0mlen\u001b[0m\u001b[0;34m(\u001b[0m\u001b[0mself\u001b[0m\u001b[0;34m)\u001b[0m \u001b[0;34m==\u001b[0m \u001b[0;36m1\u001b[0m\u001b[0;34m:\u001b[0m\u001b[0;34m\u001b[0m\u001b[0;34m\u001b[0m\u001b[0m\n\u001b[1;32m    128\u001b[0m             \u001b[0;32mreturn\u001b[0m \u001b[0mconverter\u001b[0m\u001b[0;34m(\u001b[0m\u001b[0mself\u001b[0m\u001b[0;34m.\u001b[0m\u001b[0miloc\u001b[0m\u001b[0;34m[\u001b[0m\u001b[0;36m0\u001b[0m\u001b[0;34m]\u001b[0m\u001b[0;34m)\u001b[0m\u001b[0;34m\u001b[0m\u001b[0;34m\u001b[0m\u001b[0m\n\u001b[0;32m--> 129\u001b[0;31m         \u001b[0;32mraise\u001b[0m \u001b[0mTypeError\u001b[0m\u001b[0;34m(\u001b[0m\u001b[0;34mf\"cannot convert the series to {converter}\"\u001b[0m\u001b[0;34m)\u001b[0m\u001b[0;34m\u001b[0m\u001b[0;34m\u001b[0m\u001b[0m\n\u001b[0m\u001b[1;32m    130\u001b[0m \u001b[0;34m\u001b[0m\u001b[0m\n\u001b[1;32m    131\u001b[0m     \u001b[0mwrapper\u001b[0m\u001b[0;34m.\u001b[0m\u001b[0m__name__\u001b[0m \u001b[0;34m=\u001b[0m \u001b[0;34mf\"__{converter.__name__}__\"\u001b[0m\u001b[0;34m\u001b[0m\u001b[0;34m\u001b[0m\u001b[0m\n",
            "\u001b[0;31mTypeError\u001b[0m: cannot convert the series to <class 'float'>"
          ]
        }
      ]
    },
    {
      "cell_type": "code",
      "metadata": {
        "id": "x10Mx9bCw3EM",
        "colab": {
          "base_uri": "https://localhost:8080/",
          "height": 164
        },
        "outputId": "4cc5bf79-6d5e-4242-f340-900105b8c020"
      },
      "source": [
        "int(float(test_df['NewCases'].iloc[0]))"
      ],
      "execution_count": null,
      "outputs": [
        {
          "output_type": "error",
          "ename": "ValueError",
          "evalue": "ignored",
          "traceback": [
            "\u001b[0;31m---------------------------------------------------------------------------\u001b[0m",
            "\u001b[0;31mValueError\u001b[0m                                Traceback (most recent call last)",
            "\u001b[0;32m<ipython-input-53-56559b5e6a16>\u001b[0m in \u001b[0;36m<module>\u001b[0;34m()\u001b[0m\n\u001b[0;32m----> 1\u001b[0;31m \u001b[0mint\u001b[0m\u001b[0;34m(\u001b[0m\u001b[0mfloat\u001b[0m\u001b[0;34m(\u001b[0m\u001b[0mtest_df\u001b[0m\u001b[0;34m[\u001b[0m\u001b[0;34m'NewCases'\u001b[0m\u001b[0;34m]\u001b[0m\u001b[0;34m.\u001b[0m\u001b[0miloc\u001b[0m\u001b[0;34m[\u001b[0m\u001b[0;36m0\u001b[0m\u001b[0;34m]\u001b[0m\u001b[0;34m)\u001b[0m\u001b[0;34m)\u001b[0m\u001b[0;34m\u001b[0m\u001b[0;34m\u001b[0m\u001b[0m\n\u001b[0m",
            "\u001b[0;31mValueError\u001b[0m: could not convert string to float: '34,028'"
          ]
        }
      ]
    },
    {
      "cell_type": "code",
      "metadata": {
        "id": "8Cn1audBpdi6",
        "colab": {
          "base_uri": "https://localhost:8080/",
          "height": 487
        },
        "outputId": "dddbc7e0-33c4-4c75-bec2-c51b6840165c"
      },
      "source": [
        "for i in range(0,len(test_df['NewCases'])):\n",
        "  pd.to_numeric(test_df['NewCases'].iloc[i])\n",
        "\n",
        "test_df['NewCases']"
      ],
      "execution_count": null,
      "outputs": [
        {
          "output_type": "error",
          "ename": "ValueError",
          "evalue": "ignored",
          "traceback": [
            "\u001b[0;31m---------------------------------------------------------------------------\u001b[0m",
            "\u001b[0;31mValueError\u001b[0m                                Traceback (most recent call last)",
            "\u001b[0;32mpandas/_libs/lib.pyx\u001b[0m in \u001b[0;36mpandas._libs.lib.maybe_convert_numeric\u001b[0;34m()\u001b[0m\n",
            "\u001b[0;31mValueError\u001b[0m: Unable to parse string \"34,028\"",
            "\nDuring handling of the above exception, another exception occurred:\n",
            "\u001b[0;31mValueError\u001b[0m                                Traceback (most recent call last)",
            "\u001b[0;32m<ipython-input-35-9ea0d767432f>\u001b[0m in \u001b[0;36m<module>\u001b[0;34m()\u001b[0m\n\u001b[1;32m      1\u001b[0m \u001b[0;32mfor\u001b[0m \u001b[0mi\u001b[0m \u001b[0;32min\u001b[0m \u001b[0mrange\u001b[0m\u001b[0;34m(\u001b[0m\u001b[0;36m0\u001b[0m\u001b[0;34m,\u001b[0m\u001b[0mlen\u001b[0m\u001b[0;34m(\u001b[0m\u001b[0mtest_df\u001b[0m\u001b[0;34m[\u001b[0m\u001b[0;34m'NewCases'\u001b[0m\u001b[0;34m]\u001b[0m\u001b[0;34m)\u001b[0m\u001b[0;34m)\u001b[0m\u001b[0;34m:\u001b[0m\u001b[0;34m\u001b[0m\u001b[0;34m\u001b[0m\u001b[0m\n\u001b[0;32m----> 2\u001b[0;31m   \u001b[0mpd\u001b[0m\u001b[0;34m.\u001b[0m\u001b[0mto_numeric\u001b[0m\u001b[0;34m(\u001b[0m\u001b[0mtest_df\u001b[0m\u001b[0;34m[\u001b[0m\u001b[0;34m'NewCases'\u001b[0m\u001b[0;34m]\u001b[0m\u001b[0;34m.\u001b[0m\u001b[0miloc\u001b[0m\u001b[0;34m[\u001b[0m\u001b[0mi\u001b[0m\u001b[0;34m]\u001b[0m\u001b[0;34m)\u001b[0m\u001b[0;34m\u001b[0m\u001b[0;34m\u001b[0m\u001b[0m\n\u001b[0m\u001b[1;32m      3\u001b[0m \u001b[0;34m\u001b[0m\u001b[0m\n\u001b[1;32m      4\u001b[0m \u001b[0mtest_df\u001b[0m\u001b[0;34m[\u001b[0m\u001b[0;34m'NewCases'\u001b[0m\u001b[0;34m]\u001b[0m\u001b[0;34m\u001b[0m\u001b[0;34m\u001b[0m\u001b[0m\n",
            "\u001b[0;32m/usr/local/lib/python3.6/dist-packages/pandas/core/tools/numeric.py\u001b[0m in \u001b[0;36mto_numeric\u001b[0;34m(arg, errors, downcast)\u001b[0m\n\u001b[1;32m    151\u001b[0m         \u001b[0;32mtry\u001b[0m\u001b[0;34m:\u001b[0m\u001b[0;34m\u001b[0m\u001b[0;34m\u001b[0m\u001b[0m\n\u001b[1;32m    152\u001b[0m             values = lib.maybe_convert_numeric(\n\u001b[0;32m--> 153\u001b[0;31m                 \u001b[0mvalues\u001b[0m\u001b[0;34m,\u001b[0m \u001b[0mset\u001b[0m\u001b[0;34m(\u001b[0m\u001b[0;34m)\u001b[0m\u001b[0;34m,\u001b[0m \u001b[0mcoerce_numeric\u001b[0m\u001b[0;34m=\u001b[0m\u001b[0mcoerce_numeric\u001b[0m\u001b[0;34m\u001b[0m\u001b[0;34m\u001b[0m\u001b[0m\n\u001b[0m\u001b[1;32m    154\u001b[0m             )\n\u001b[1;32m    155\u001b[0m         \u001b[0;32mexcept\u001b[0m \u001b[0;34m(\u001b[0m\u001b[0mValueError\u001b[0m\u001b[0;34m,\u001b[0m \u001b[0mTypeError\u001b[0m\u001b[0;34m)\u001b[0m\u001b[0;34m:\u001b[0m\u001b[0;34m\u001b[0m\u001b[0;34m\u001b[0m\u001b[0m\n",
            "\u001b[0;32mpandas/_libs/lib.pyx\u001b[0m in \u001b[0;36mpandas._libs.lib.maybe_convert_numeric\u001b[0;34m()\u001b[0m\n",
            "\u001b[0;31mValueError\u001b[0m: Unable to parse string \"34,028\" at position 0"
          ]
        }
      ]
    },
    {
      "cell_type": "code",
      "metadata": {
        "id": "51xQ9a5znw6L",
        "colab": {
          "base_uri": "https://localhost:8080/",
          "height": 164
        },
        "outputId": "4d22b4c5-75d8-42e8-a9c6-3b743165076b"
      },
      "source": [
        "test_df['NewCases'].iloc[0].type()"
      ],
      "execution_count": null,
      "outputs": [
        {
          "output_type": "error",
          "ename": "AttributeError",
          "evalue": "ignored",
          "traceback": [
            "\u001b[0;31m---------------------------------------------------------------------------\u001b[0m",
            "\u001b[0;31mAttributeError\u001b[0m                            Traceback (most recent call last)",
            "\u001b[0;32m<ipython-input-32-07f879e6e56d>\u001b[0m in \u001b[0;36m<module>\u001b[0;34m()\u001b[0m\n\u001b[0;32m----> 1\u001b[0;31m \u001b[0mtest_df\u001b[0m\u001b[0;34m[\u001b[0m\u001b[0;34m'NewCases'\u001b[0m\u001b[0;34m]\u001b[0m\u001b[0;34m.\u001b[0m\u001b[0miloc\u001b[0m\u001b[0;34m[\u001b[0m\u001b[0;36m0\u001b[0m\u001b[0;34m]\u001b[0m\u001b[0;34m.\u001b[0m\u001b[0mtype\u001b[0m\u001b[0;34m(\u001b[0m\u001b[0;34m)\u001b[0m\u001b[0;34m\u001b[0m\u001b[0;34m\u001b[0m\u001b[0m\n\u001b[0m",
            "\u001b[0;31mAttributeError\u001b[0m: 'str' object has no attribute 'type'"
          ]
        }
      ]
    },
    {
      "cell_type": "code",
      "metadata": {
        "id": "M9R4U4BJKqkG",
        "colab": {
          "base_uri": "https://localhost:8080/"
        },
        "outputId": "7404e41b-d3a4-4893-82ed-5204eabc7d96"
      },
      "source": [
        "#Drop Na\n",
        "#drop_na = df.dropna()\n",
        "#drop_na.isna().sum()*100/drop_na.count()"
      ],
      "execution_count": null,
      "outputs": [
        {
          "output_type": "execute_result",
          "data": {
            "text/plain": [
              "#                     0.0\n",
              "Country,Other         0.0\n",
              "TotalCases            0.0\n",
              "NewCases              0.0\n",
              "TotalDeaths           0.0\n",
              "NewDeaths             0.0\n",
              "TotalRecovered        0.0\n",
              "NewRecovered          0.0\n",
              "ActiveCases           0.0\n",
              "Serious,Critical      0.0\n",
              "Tot Cases/1M pop      0.0\n",
              "Deaths/1M pop         0.0\n",
              "TotalTests            0.0\n",
              "Tests/\\n1M pop\\n      0.0\n",
              "Population            0.0\n",
              "Continent             0.0\n",
              "1 Caseevery X ppl     0.0\n",
              "1 Deathevery X ppl    0.0\n",
              "1 Testevery X ppl     0.0\n",
              "dtype: float64"
            ]
          },
          "metadata": {
            "tags": []
          },
          "execution_count": 284
        }
      ]
    },
    {
      "cell_type": "code",
      "metadata": {
        "id": "Shw27ETaNe2A",
        "colab": {
          "base_uri": "https://localhost:8080/"
        },
        "outputId": "cbf9e57f-e81f-4235-dcad-ca04059dc6c5"
      },
      "source": [
        "drop_na.info()"
      ],
      "execution_count": null,
      "outputs": [
        {
          "output_type": "stream",
          "text": [
            "<class 'pandas.core.frame.DataFrame'>\n",
            "Int64Index: 198 entries, 0 to 705\n",
            "Data columns (total 19 columns):\n",
            " #   Column              Non-Null Count  Dtype \n",
            "---  ------              --------------  ----- \n",
            " 0   #                   198 non-null    object\n",
            " 1   Country,Other       198 non-null    object\n",
            " 2   TotalCases          198 non-null    object\n",
            " 3   NewCases            198 non-null    object\n",
            " 4   TotalDeaths         198 non-null    object\n",
            " 5   NewDeaths           198 non-null    object\n",
            " 6   TotalRecovered      198 non-null    object\n",
            " 7   NewRecovered        198 non-null    object\n",
            " 8   ActiveCases         198 non-null    object\n",
            " 9   Serious,Critical    198 non-null    object\n",
            " 10  Tot Cases/1M pop    198 non-null    object\n",
            " 11  Deaths/1M pop       198 non-null    object\n",
            " 12  TotalTests          198 non-null    object\n",
            " 13  Tests/\n",
            "1M pop\n",
            "      198 non-null    object\n",
            " 14  Population          198 non-null    object\n",
            " 15  Continent           198 non-null    object\n",
            " 16  1 Caseevery X ppl   198 non-null    object\n",
            " 17  1 Deathevery X ppl  198 non-null    object\n",
            " 18  1 Testevery X ppl   198 non-null    object\n",
            "dtypes: object(19)\n",
            "memory usage: 30.9+ KB\n"
          ],
          "name": "stdout"
        }
      ]
    },
    {
      "cell_type": "code",
      "metadata": {
        "id": "3eGK8wRJMrRT",
        "colab": {
          "base_uri": "https://localhost:8080/"
        },
        "outputId": "302688b7-a150-4bd6-fa78-6666c1eb290b"
      },
      "source": [
        "test_df = drop_na.copy()\n",
        "test_df['Continent'].str.match('').sum()/test_df['Continent'].count()"
      ],
      "execution_count": null,
      "outputs": [
        {
          "output_type": "execute_result",
          "data": {
            "text/plain": [
              "1.0"
            ]
          },
          "metadata": {
            "tags": []
          },
          "execution_count": 313
        }
      ]
    },
    {
      "cell_type": "code",
      "metadata": {
        "id": "gjK93T9Ki9ih",
        "colab": {
          "base_uri": "https://localhost:8080/",
          "height": 103
        },
        "outputId": "19d5647f-6091-425f-d698-56ff4db70498"
      },
      "source": [
        "test_df = drop_na.copy()\n",
        "for i in range(0,(len(test_df.columns))):\n",
        "  test_df = test_df[~test_df.iloc[:,i].str.match('')]\n",
        "\n",
        "test_df"
      ],
      "execution_count": null,
      "outputs": [
        {
          "output_type": "execute_result",
          "data": {
            "text/html": [
              "<div>\n",
              "<style scoped>\n",
              "    .dataframe tbody tr th:only-of-type {\n",
              "        vertical-align: middle;\n",
              "    }\n",
              "\n",
              "    .dataframe tbody tr th {\n",
              "        vertical-align: top;\n",
              "    }\n",
              "\n",
              "    .dataframe thead th {\n",
              "        text-align: right;\n",
              "    }\n",
              "</style>\n",
              "<table border=\"1\" class=\"dataframe\">\n",
              "  <thead>\n",
              "    <tr style=\"text-align: right;\">\n",
              "      <th></th>\n",
              "      <th>#</th>\n",
              "      <th>Country,Other</th>\n",
              "      <th>TotalCases</th>\n",
              "      <th>NewCases</th>\n",
              "      <th>TotalDeaths</th>\n",
              "      <th>NewDeaths</th>\n",
              "      <th>TotalRecovered</th>\n",
              "      <th>NewRecovered</th>\n",
              "      <th>ActiveCases</th>\n",
              "      <th>Serious,Critical</th>\n",
              "      <th>Tot Cases/1M pop</th>\n",
              "      <th>Deaths/1M pop</th>\n",
              "      <th>TotalTests</th>\n",
              "      <th>Tests/\\n1M pop\\n</th>\n",
              "      <th>Population</th>\n",
              "      <th>Continent</th>\n",
              "      <th>1 Caseevery X ppl</th>\n",
              "      <th>1 Deathevery X ppl</th>\n",
              "      <th>1 Testevery X ppl</th>\n",
              "    </tr>\n",
              "  </thead>\n",
              "  <tbody>\n",
              "  </tbody>\n",
              "</table>\n",
              "</div>"
            ],
            "text/plain": [
              "Empty DataFrame\n",
              "Columns: [#, Country,Other, TotalCases, NewCases, TotalDeaths, NewDeaths, TotalRecovered, NewRecovered, ActiveCases, Serious,Critical, Tot Cases/1M pop, Deaths/1M pop, TotalTests, Tests/\n",
              "1M pop\n",
              ", Population, Continent, 1 Caseevery X ppl, 1 Deathevery X ppl, 1 Testevery X ppl]\n",
              "Index: []"
            ]
          },
          "metadata": {
            "tags": []
          },
          "execution_count": 314
        }
      ]
    },
    {
      "cell_type": "code",
      "metadata": {
        "id": "YLX7xM3xlzt5",
        "colab": {
          "base_uri": "https://localhost:8080/",
          "height": 878
        },
        "outputId": "c073bc75-8523-4c67-a0d3-f8c5ea4726f3"
      },
      "source": [
        "df.head(25)"
      ],
      "execution_count": null,
      "outputs": [
        {
          "output_type": "execute_result",
          "data": {
            "text/html": [
              "<div>\n",
              "<style scoped>\n",
              "    .dataframe tbody tr th:only-of-type {\n",
              "        vertical-align: middle;\n",
              "    }\n",
              "\n",
              "    .dataframe tbody tr th {\n",
              "        vertical-align: top;\n",
              "    }\n",
              "\n",
              "    .dataframe thead th {\n",
              "        text-align: right;\n",
              "    }\n",
              "</style>\n",
              "<table border=\"1\" class=\"dataframe\">\n",
              "  <thead>\n",
              "    <tr style=\"text-align: right;\">\n",
              "      <th></th>\n",
              "      <th>#</th>\n",
              "      <th>Country,Other</th>\n",
              "      <th>TotalCases</th>\n",
              "      <th>NewCases</th>\n",
              "      <th>TotalDeaths</th>\n",
              "      <th>NewDeaths</th>\n",
              "      <th>TotalRecovered</th>\n",
              "      <th>NewRecovered</th>\n",
              "      <th>ActiveCases</th>\n",
              "      <th>Serious,Critical</th>\n",
              "      <th>Tot Cases/1M pop</th>\n",
              "      <th>Deaths/1M pop</th>\n",
              "      <th>TotalTests</th>\n",
              "      <th>Tests/\\n1M pop\\n</th>\n",
              "      <th>Population</th>\n",
              "      <th>Continent</th>\n",
              "      <th>1 Caseevery X ppl</th>\n",
              "      <th>1 Deathevery X ppl</th>\n",
              "      <th>1 Testevery X ppl</th>\n",
              "    </tr>\n",
              "  </thead>\n",
              "  <tbody>\n",
              "    <tr>\n",
              "      <th>0</th>\n",
              "      <td></td>\n",
              "      <td>North America</td>\n",
              "      <td>12,655,195</td>\n",
              "      <td>133,471</td>\n",
              "      <td>369,361</td>\n",
              "      <td>2,013</td>\n",
              "      <td>8,115,748</td>\n",
              "      <td>46,961</td>\n",
              "      <td>4,170,086</td>\n",
              "      <td>22,579</td>\n",
              "      <td></td>\n",
              "      <td></td>\n",
              "      <td></td>\n",
              "      <td></td>\n",
              "      <td></td>\n",
              "      <td>North America</td>\n",
              "      <td>\\n</td>\n",
              "      <td></td>\n",
              "      <td></td>\n",
              "    </tr>\n",
              "    <tr>\n",
              "      <th>1</th>\n",
              "      <td></td>\n",
              "      <td>Asia</td>\n",
              "      <td>14,707,176</td>\n",
              "      <td>100,976</td>\n",
              "      <td>260,082</td>\n",
              "      <td>1,628</td>\n",
              "      <td>13,130,186</td>\n",
              "      <td>85,415</td>\n",
              "      <td>1,316,908</td>\n",
              "      <td>23,762</td>\n",
              "      <td></td>\n",
              "      <td></td>\n",
              "      <td></td>\n",
              "      <td></td>\n",
              "      <td></td>\n",
              "      <td>Asia</td>\n",
              "      <td>\\n</td>\n",
              "      <td></td>\n",
              "      <td></td>\n",
              "    </tr>\n",
              "    <tr>\n",
              "      <th>2</th>\n",
              "      <td></td>\n",
              "      <td>South America</td>\n",
              "      <td>10,133,158</td>\n",
              "      <td>57,035</td>\n",
              "      <td>304,948</td>\n",
              "      <td>NaN</td>\n",
              "      <td>9,000,081</td>\n",
              "      <td>12,824</td>\n",
              "      <td>828,129</td>\n",
              "      <td>17,584</td>\n",
              "      <td></td>\n",
              "      <td></td>\n",
              "      <td></td>\n",
              "      <td></td>\n",
              "      <td></td>\n",
              "      <td>South America</td>\n",
              "      <td>\\n</td>\n",
              "      <td></td>\n",
              "      <td></td>\n",
              "    </tr>\n",
              "    <tr>\n",
              "      <th>3</th>\n",
              "      <td></td>\n",
              "      <td>Europe</td>\n",
              "      <td>12,910,060</td>\n",
              "      <td>264,145</td>\n",
              "      <td>306,450</td>\n",
              "      <td>4,727</td>\n",
              "      <td>4,738,904</td>\n",
              "      <td>100,561</td>\n",
              "      <td>7,864,706</td>\n",
              "      <td>28,809</td>\n",
              "      <td></td>\n",
              "      <td></td>\n",
              "      <td></td>\n",
              "      <td></td>\n",
              "      <td></td>\n",
              "      <td>Europe</td>\n",
              "      <td>\\n</td>\n",
              "      <td></td>\n",
              "      <td></td>\n",
              "    </tr>\n",
              "    <tr>\n",
              "      <th>4</th>\n",
              "      <td></td>\n",
              "      <td>Africa</td>\n",
              "      <td>1,928,856</td>\n",
              "      <td>12,683</td>\n",
              "      <td>46,331</td>\n",
              "      <td>NaN</td>\n",
              "      <td>1,628,406</td>\n",
              "      <td>15,000</td>\n",
              "      <td>254,119</td>\n",
              "      <td>2,483</td>\n",
              "      <td></td>\n",
              "      <td></td>\n",
              "      <td></td>\n",
              "      <td></td>\n",
              "      <td></td>\n",
              "      <td>Africa</td>\n",
              "      <td>\\n</td>\n",
              "      <td></td>\n",
              "      <td></td>\n",
              "    </tr>\n",
              "    <tr>\n",
              "      <th>5</th>\n",
              "      <td></td>\n",
              "      <td>Oceania</td>\n",
              "      <td>41,327</td>\n",
              "      <td>NaN</td>\n",
              "      <td>993</td>\n",
              "      <td></td>\n",
              "      <td>32,864</td>\n",
              "      <td>NaN</td>\n",
              "      <td>7,470</td>\n",
              "      <td>25</td>\n",
              "      <td></td>\n",
              "      <td></td>\n",
              "      <td></td>\n",
              "      <td></td>\n",
              "      <td></td>\n",
              "      <td>Australia/Oceania</td>\n",
              "      <td>\\n</td>\n",
              "      <td></td>\n",
              "      <td></td>\n",
              "    </tr>\n",
              "    <tr>\n",
              "      <th>6</th>\n",
              "      <td></td>\n",
              "      <td></td>\n",
              "      <td>721</td>\n",
              "      <td></td>\n",
              "      <td>15</td>\n",
              "      <td></td>\n",
              "      <td>659</td>\n",
              "      <td></td>\n",
              "      <td>47</td>\n",
              "      <td>4</td>\n",
              "      <td></td>\n",
              "      <td></td>\n",
              "      <td></td>\n",
              "      <td></td>\n",
              "      <td></td>\n",
              "      <td></td>\n",
              "      <td>\\n</td>\n",
              "      <td></td>\n",
              "      <td></td>\n",
              "    </tr>\n",
              "    <tr>\n",
              "      <th>7</th>\n",
              "      <td></td>\n",
              "      <td>World</td>\n",
              "      <td>52,376,493</td>\n",
              "      <td>568,320</td>\n",
              "      <td>1,288,180</td>\n",
              "      <td>9,465</td>\n",
              "      <td>36,646,848</td>\n",
              "      <td>260,765</td>\n",
              "      <td>14,441,465</td>\n",
              "      <td>95,246</td>\n",
              "      <td>6,719</td>\n",
              "      <td>165.3</td>\n",
              "      <td></td>\n",
              "      <td></td>\n",
              "      <td></td>\n",
              "      <td>All</td>\n",
              "      <td>\\n</td>\n",
              "      <td></td>\n",
              "      <td></td>\n",
              "    </tr>\n",
              "    <tr>\n",
              "      <th>8</th>\n",
              "      <td>1</td>\n",
              "      <td>USA</td>\n",
              "      <td>10,687,590</td>\n",
              "      <td>121,768</td>\n",
              "      <td>247,219</td>\n",
              "      <td>1,300</td>\n",
              "      <td>6,639,632</td>\n",
              "      <td>38,294</td>\n",
              "      <td>3,800,739</td>\n",
              "      <td>19,063</td>\n",
              "      <td>32,220</td>\n",
              "      <td>745</td>\n",
              "      <td>161,766,899</td>\n",
              "      <td>487,681</td>\n",
              "      <td>331,706,290</td>\n",
              "      <td>North America</td>\n",
              "      <td>31</td>\n",
              "      <td>1,342</td>\n",
              "      <td>2</td>\n",
              "    </tr>\n",
              "    <tr>\n",
              "      <th>9</th>\n",
              "      <td>2</td>\n",
              "      <td>India</td>\n",
              "      <td>8,684,039</td>\n",
              "      <td>48,285</td>\n",
              "      <td>128,164</td>\n",
              "      <td>NaN</td>\n",
              "      <td>8,064,548</td>\n",
              "      <td>52,704</td>\n",
              "      <td>491,327</td>\n",
              "      <td>8,944</td>\n",
              "      <td>6,271</td>\n",
              "      <td>93</td>\n",
              "      <td>120,769,151</td>\n",
              "      <td>87,204</td>\n",
              "      <td>1,384,900,866</td>\n",
              "      <td>Asia</td>\n",
              "      <td>159</td>\n",
              "      <td>10,806</td>\n",
              "      <td>11</td>\n",
              "    </tr>\n",
              "    <tr>\n",
              "      <th>10</th>\n",
              "      <td>3</td>\n",
              "      <td>Brazil</td>\n",
              "      <td>5,747,660</td>\n",
              "      <td>46,377</td>\n",
              "      <td>163,368</td>\n",
              "      <td>NaN</td>\n",
              "      <td>5,064,344</td>\n",
              "      <td></td>\n",
              "      <td>519,948</td>\n",
              "      <td>8,318</td>\n",
              "      <td>26,971</td>\n",
              "      <td>767</td>\n",
              "      <td>21,900,000</td>\n",
              "      <td>102,766</td>\n",
              "      <td>213,106,404</td>\n",
              "      <td>South America</td>\n",
              "      <td>37</td>\n",
              "      <td>1,304</td>\n",
              "      <td>10</td>\n",
              "    </tr>\n",
              "    <tr>\n",
              "      <th>11</th>\n",
              "      <td>4</td>\n",
              "      <td>France</td>\n",
              "      <td>1,865,538</td>\n",
              "      <td>35,879</td>\n",
              "      <td>42,535</td>\n",
              "      <td>NaN</td>\n",
              "      <td>133,696</td>\n",
              "      <td>1,776</td>\n",
              "      <td>1,689,307</td>\n",
              "      <td>4,803</td>\n",
              "      <td>28,557</td>\n",
              "      <td>651</td>\n",
              "      <td>18,282,590</td>\n",
              "      <td>279,867</td>\n",
              "      <td>65,326,081</td>\n",
              "      <td>Europe</td>\n",
              "      <td>35</td>\n",
              "      <td>1,536</td>\n",
              "      <td>4</td>\n",
              "    </tr>\n",
              "    <tr>\n",
              "      <th>12</th>\n",
              "      <td>5</td>\n",
              "      <td>Russia</td>\n",
              "      <td>1,836,960</td>\n",
              "      <td>19,851</td>\n",
              "      <td>31,593</td>\n",
              "      <td>NaN</td>\n",
              "      <td>1,369,357</td>\n",
              "      <td>18,616</td>\n",
              "      <td>436,010</td>\n",
              "      <td>2,300</td>\n",
              "      <td>12,586</td>\n",
              "      <td>216</td>\n",
              "      <td>66,100,000</td>\n",
              "      <td>452,872</td>\n",
              "      <td>145,957,281</td>\n",
              "      <td>Europe</td>\n",
              "      <td>79</td>\n",
              "      <td>4,620</td>\n",
              "      <td>2</td>\n",
              "    </tr>\n",
              "    <tr>\n",
              "      <th>13</th>\n",
              "      <td>6</td>\n",
              "      <td>Spain</td>\n",
              "      <td>1,463,093</td>\n",
              "      <td>19,096</td>\n",
              "      <td>40,105</td>\n",
              "      <td>NaN</td>\n",
              "      <td>N/A</td>\n",
              "      <td>N/A</td>\n",
              "      <td>N/A</td>\n",
              "      <td>3,093</td>\n",
              "      <td>31,288</td>\n",
              "      <td>858</td>\n",
              "      <td>19,394,289</td>\n",
              "      <td>414,750</td>\n",
              "      <td>46,761,382</td>\n",
              "      <td>Europe</td>\n",
              "      <td>32</td>\n",
              "      <td>1,166</td>\n",
              "      <td>2</td>\n",
              "    </tr>\n",
              "    <tr>\n",
              "      <th>14</th>\n",
              "      <td>7</td>\n",
              "      <td>Argentina</td>\n",
              "      <td>1,262,476</td>\n",
              "      <td></td>\n",
              "      <td>34,183</td>\n",
              "      <td></td>\n",
              "      <td>1,081,897</td>\n",
              "      <td></td>\n",
              "      <td>146,396</td>\n",
              "      <td>4,494</td>\n",
              "      <td>27,841</td>\n",
              "      <td>754</td>\n",
              "      <td>3,289,756</td>\n",
              "      <td>72,549</td>\n",
              "      <td>45,345,559</td>\n",
              "      <td>South America</td>\n",
              "      <td>36</td>\n",
              "      <td>1,327</td>\n",
              "      <td>14</td>\n",
              "    </tr>\n",
              "    <tr>\n",
              "      <th>15</th>\n",
              "      <td>8</td>\n",
              "      <td>UK</td>\n",
              "      <td>1,256,725</td>\n",
              "      <td>22,950</td>\n",
              "      <td>50,365</td>\n",
              "      <td>NaN</td>\n",
              "      <td>N/A</td>\n",
              "      <td>N/A</td>\n",
              "      <td>N/A</td>\n",
              "      <td>1,219</td>\n",
              "      <td>18,477</td>\n",
              "      <td>740</td>\n",
              "      <td>37,147,111</td>\n",
              "      <td>546,158</td>\n",
              "      <td>68,015,374</td>\n",
              "      <td>Europe</td>\n",
              "      <td>54</td>\n",
              "      <td>1,350</td>\n",
              "      <td>2</td>\n",
              "    </tr>\n",
              "    <tr>\n",
              "      <th>16</th>\n",
              "      <td>9</td>\n",
              "      <td>Colombia</td>\n",
              "      <td>1,165,326</td>\n",
              "      <td>8,651</td>\n",
              "      <td>33,312</td>\n",
              "      <td>NaN</td>\n",
              "      <td>1,070,423</td>\n",
              "      <td>11,186</td>\n",
              "      <td>61,591</td>\n",
              "      <td>2,376</td>\n",
              "      <td>22,814</td>\n",
              "      <td>652</td>\n",
              "      <td>5,549,461</td>\n",
              "      <td>108,646</td>\n",
              "      <td>51,078,433</td>\n",
              "      <td>South America</td>\n",
              "      <td>44</td>\n",
              "      <td>1,533</td>\n",
              "      <td>9</td>\n",
              "    </tr>\n",
              "    <tr>\n",
              "      <th>17</th>\n",
              "      <td>10</td>\n",
              "      <td>Italy</td>\n",
              "      <td>1,028,424</td>\n",
              "      <td>32,961</td>\n",
              "      <td>42,953</td>\n",
              "      <td>NaN</td>\n",
              "      <td>372,113</td>\n",
              "      <td>9,090</td>\n",
              "      <td>613,358</td>\n",
              "      <td>3,081</td>\n",
              "      <td>17,019</td>\n",
              "      <td>711</td>\n",
              "      <td>17,965,836</td>\n",
              "      <td>297,303</td>\n",
              "      <td>60,429,340</td>\n",
              "      <td>Europe</td>\n",
              "      <td>59</td>\n",
              "      <td>1,407</td>\n",
              "      <td>3</td>\n",
              "    </tr>\n",
              "    <tr>\n",
              "      <th>18</th>\n",
              "      <td>11</td>\n",
              "      <td>Mexico</td>\n",
              "      <td>978,531</td>\n",
              "      <td>5,746</td>\n",
              "      <td>95,842</td>\n",
              "      <td>NaN</td>\n",
              "      <td>725,846</td>\n",
              "      <td>4,770</td>\n",
              "      <td>156,843</td>\n",
              "      <td>2,615</td>\n",
              "      <td>7,561</td>\n",
              "      <td>741</td>\n",
              "      <td>2,537,046</td>\n",
              "      <td>19,603</td>\n",
              "      <td>129,421,248</td>\n",
              "      <td>North America</td>\n",
              "      <td>132</td>\n",
              "      <td>1,350</td>\n",
              "      <td>51</td>\n",
              "    </tr>\n",
              "    <tr>\n",
              "      <th>19</th>\n",
              "      <td>12</td>\n",
              "      <td>Peru</td>\n",
              "      <td>925,431</td>\n",
              "      <td></td>\n",
              "      <td>34,992</td>\n",
              "      <td></td>\n",
              "      <td>850,670</td>\n",
              "      <td></td>\n",
              "      <td>39,769</td>\n",
              "      <td>1,008</td>\n",
              "      <td>27,928</td>\n",
              "      <td>1,056</td>\n",
              "      <td>4,700,489</td>\n",
              "      <td>141,851</td>\n",
              "      <td>33,136,823</td>\n",
              "      <td>South America</td>\n",
              "      <td>36</td>\n",
              "      <td>947</td>\n",
              "      <td>7</td>\n",
              "    </tr>\n",
              "    <tr>\n",
              "      <th>20</th>\n",
              "      <td>13</td>\n",
              "      <td>South Africa</td>\n",
              "      <td>742,394</td>\n",
              "      <td>2,140</td>\n",
              "      <td>20,011</td>\n",
              "      <td>NaN</td>\n",
              "      <td>686,458</td>\n",
              "      <td>3,264</td>\n",
              "      <td>35,925</td>\n",
              "      <td>546</td>\n",
              "      <td>12,461</td>\n",
              "      <td>336</td>\n",
              "      <td>5,037,782</td>\n",
              "      <td>84,558</td>\n",
              "      <td>59,577,687</td>\n",
              "      <td>Africa</td>\n",
              "      <td>80</td>\n",
              "      <td>2,977</td>\n",
              "      <td>12</td>\n",
              "    </tr>\n",
              "    <tr>\n",
              "      <th>21</th>\n",
              "      <td>14</td>\n",
              "      <td>Germany</td>\n",
              "      <td>726,176</td>\n",
              "      <td>20,536</td>\n",
              "      <td>12,082</td>\n",
              "      <td>NaN</td>\n",
              "      <td>454,800</td>\n",
              "      <td>13,600</td>\n",
              "      <td>259,294</td>\n",
              "      <td>3,127</td>\n",
              "      <td>8,657</td>\n",
              "      <td>144</td>\n",
              "      <td>23,393,311</td>\n",
              "      <td>278,886</td>\n",
              "      <td>83,881,346</td>\n",
              "      <td>Europe</td>\n",
              "      <td>116</td>\n",
              "      <td>6,943</td>\n",
              "      <td>4</td>\n",
              "    </tr>\n",
              "    <tr>\n",
              "      <th>22</th>\n",
              "      <td>15</td>\n",
              "      <td>Iran</td>\n",
              "      <td>715,068</td>\n",
              "      <td>11,780</td>\n",
              "      <td>39,664</td>\n",
              "      <td>NaN</td>\n",
              "      <td>536,105</td>\n",
              "      <td>5,411</td>\n",
              "      <td>139,299</td>\n",
              "      <td>5,601</td>\n",
              "      <td>8,474</td>\n",
              "      <td>470</td>\n",
              "      <td>5,344,821</td>\n",
              "      <td>63,343</td>\n",
              "      <td>84,379,600</td>\n",
              "      <td>Asia</td>\n",
              "      <td>118</td>\n",
              "      <td>2,127</td>\n",
              "      <td>16</td>\n",
              "    </tr>\n",
              "    <tr>\n",
              "      <th>23</th>\n",
              "      <td>16</td>\n",
              "      <td>Poland</td>\n",
              "      <td>618,813</td>\n",
              "      <td>25,221</td>\n",
              "      <td>8,805</td>\n",
              "      <td>NaN</td>\n",
              "      <td>242,875</td>\n",
              "      <td>12,214</td>\n",
              "      <td>367,133</td>\n",
              "      <td>1,975</td>\n",
              "      <td>16,357</td>\n",
              "      <td>233</td>\n",
              "      <td>5,392,636</td>\n",
              "      <td>142,544</td>\n",
              "      <td>37,831,471</td>\n",
              "      <td>Europe</td>\n",
              "      <td>61</td>\n",
              "      <td>4,297</td>\n",
              "      <td>7</td>\n",
              "    </tr>\n",
              "    <tr>\n",
              "      <th>24</th>\n",
              "      <td>17</td>\n",
              "      <td>Chile</td>\n",
              "      <td>524,804</td>\n",
              "      <td>NaN</td>\n",
              "      <td>14,633</td>\n",
              "      <td>NaN</td>\n",
              "      <td>501,426</td>\n",
              "      <td>1,284</td>\n",
              "      <td>8,745</td>\n",
              "      <td>721</td>\n",
              "      <td>27,368</td>\n",
              "      <td>763</td>\n",
              "      <td>4,667,350</td>\n",
              "      <td>243,402</td>\n",
              "      <td>19,175,505</td>\n",
              "      <td>South America</td>\n",
              "      <td>37</td>\n",
              "      <td>1,310</td>\n",
              "      <td>4</td>\n",
              "    </tr>\n",
              "  </tbody>\n",
              "</table>\n",
              "</div>"
            ],
            "text/plain": [
              "     #  Country,Other  ... 1 Deathevery X ppl 1 Testevery X ppl\n",
              "0       North America  ...                                     \n",
              "1                Asia  ...                                     \n",
              "2       South America  ...                                     \n",
              "3              Europe  ...                                     \n",
              "4              Africa  ...                                     \n",
              "5             Oceania  ...                                     \n",
              "6                      ...                                     \n",
              "7               World  ...                                     \n",
              "8    1            USA  ...              1,342                 2\n",
              "9    2          India  ...             10,806                11\n",
              "10   3         Brazil  ...              1,304                10\n",
              "11   4         France  ...              1,536                 4\n",
              "12   5         Russia  ...              4,620                 2\n",
              "13   6          Spain  ...              1,166                 2\n",
              "14   7      Argentina  ...              1,327                14\n",
              "15   8             UK  ...              1,350                 2\n",
              "16   9       Colombia  ...              1,533                 9\n",
              "17  10          Italy  ...              1,407                 3\n",
              "18  11         Mexico  ...              1,350                51\n",
              "19  12           Peru  ...                947                 7\n",
              "20  13   South Africa  ...              2,977                12\n",
              "21  14        Germany  ...              6,943                 4\n",
              "22  15           Iran  ...              2,127                16\n",
              "23  16         Poland  ...              4,297                 7\n",
              "24  17          Chile  ...              1,310                 4\n",
              "\n",
              "[25 rows x 19 columns]"
            ]
          },
          "metadata": {
            "tags": []
          },
          "execution_count": 234
        }
      ]
    },
    {
      "cell_type": "code",
      "metadata": {
        "id": "zvcl6F4k-bxQ",
        "colab": {
          "base_uri": "https://localhost:8080/"
        },
        "outputId": "35669df7-83be-47f9-c061-74aaa595eff8"
      },
      "source": [
        "df.isnull().sum()*100/df.count()"
      ],
      "execution_count": null,
      "outputs": [
        {
          "output_type": "execute_result",
          "data": {
            "text/plain": [
              "#                      0.000000\n",
              "Country,Other          0.000000\n",
              "TotalCases             0.000000\n",
              "NewCases              86.772487\n",
              "TotalDeaths            0.000000\n",
              "NewDeaths             93.956044\n",
              "TotalRecovered         0.000000\n",
              "NewRecovered          71.776156\n",
              "ActiveCases            0.000000\n",
              "Serious,Critical       0.000000\n",
              "Tot Cases/1M pop       0.000000\n",
              "Deaths/1M pop          0.000000\n",
              "TotalTests             0.000000\n",
              "Tests/\\n1M pop\\n       0.000000\n",
              "Population             0.000000\n",
              "Continent              0.000000\n",
              "1 Caseevery X ppl      0.000000\n",
              "1 Deathevery X ppl     0.000000\n",
              "1 Testevery X ppl      0.000000\n",
              "dtype: float64"
            ]
          },
          "metadata": {
            "tags": []
          },
          "execution_count": 243
        }
      ]
    },
    {
      "cell_type": "code",
      "metadata": {
        "id": "G5mlJbQyBJYd",
        "colab": {
          "base_uri": "https://localhost:8080/"
        },
        "outputId": "9b1d030b-adad-4841-d648-85eb5638d59d"
      },
      "source": [
        "test_df = test_df.dropna()\n",
        "test_df.isna().sum()*100/test_df.count()"
      ],
      "execution_count": null,
      "outputs": [
        {
          "output_type": "execute_result",
          "data": {
            "text/plain": [
              "#                     0.0\n",
              "Country,Other         0.0\n",
              "TotalCases            0.0\n",
              "NewCases              0.0\n",
              "TotalDeaths           0.0\n",
              "NewDeaths             0.0\n",
              "TotalRecovered        0.0\n",
              "NewRecovered          0.0\n",
              "ActiveCases           0.0\n",
              "Serious,Critical      0.0\n",
              "Tot Cases/1M pop      0.0\n",
              "Deaths/1M pop         0.0\n",
              "TotalTests            0.0\n",
              "Tests/\\n1M pop\\n      0.0\n",
              "Population            0.0\n",
              "Continent             0.0\n",
              "1 Caseevery X ppl     0.0\n",
              "1 Deathevery X ppl    0.0\n",
              "1 Testevery X ppl     0.0\n",
              "dtype: float64"
            ]
          },
          "metadata": {
            "tags": []
          },
          "execution_count": 282
        }
      ]
    },
    {
      "cell_type": "code",
      "metadata": {
        "id": "sRyF5_tGAgxX",
        "colab": {
          "base_uri": "https://localhost:8080/",
          "height": 358
        },
        "outputId": "23f6bd7d-c53c-4fd6-b203-3f5f17009950"
      },
      "source": [
        "test_df = df.copy()\n",
        "#test_df['NewCases'] = test_df['NewCases'].fillna(test_df['NewCases'].mean())\n",
        "test_df['NewCases'].fillna(test_df['NewCases'].mean(), inplace=True)\n",
        "test_df.head()"
      ],
      "execution_count": null,
      "outputs": [
        {
          "output_type": "error",
          "ename": "TypeError",
          "evalue": "ignored",
          "traceback": [
            "\u001b[0;31m---------------------------------------------------------------------------\u001b[0m",
            "\u001b[0;31mTypeError\u001b[0m                                 Traceback (most recent call last)",
            "\u001b[0;32m<ipython-input-251-57f4aa8104dc>\u001b[0m in \u001b[0;36m<module>\u001b[0;34m()\u001b[0m\n\u001b[1;32m      1\u001b[0m \u001b[0mtest_df\u001b[0m \u001b[0;34m=\u001b[0m \u001b[0mdf\u001b[0m\u001b[0;34m.\u001b[0m\u001b[0mcopy\u001b[0m\u001b[0;34m(\u001b[0m\u001b[0;34m)\u001b[0m\u001b[0;34m\u001b[0m\u001b[0;34m\u001b[0m\u001b[0m\n\u001b[1;32m      2\u001b[0m \u001b[0;31m#test_df['NewCases'] = test_df['NewCases'].fillna(test_df['NewCases'].mean())\u001b[0m\u001b[0;34m\u001b[0m\u001b[0;34m\u001b[0m\u001b[0;34m\u001b[0m\u001b[0m\n\u001b[0;32m----> 3\u001b[0;31m \u001b[0mtest_df\u001b[0m\u001b[0;34m[\u001b[0m\u001b[0;34m'NewCases'\u001b[0m\u001b[0;34m]\u001b[0m\u001b[0;34m.\u001b[0m\u001b[0mfillna\u001b[0m\u001b[0;34m(\u001b[0m\u001b[0mtest_df\u001b[0m\u001b[0;34m[\u001b[0m\u001b[0;34m'NewCases'\u001b[0m\u001b[0;34m]\u001b[0m\u001b[0;34m.\u001b[0m\u001b[0mmean\u001b[0m\u001b[0;34m(\u001b[0m\u001b[0;34m)\u001b[0m\u001b[0;34m,\u001b[0m \u001b[0minplace\u001b[0m\u001b[0;34m=\u001b[0m\u001b[0;32mTrue\u001b[0m\u001b[0;34m)\u001b[0m\u001b[0;34m\u001b[0m\u001b[0;34m\u001b[0m\u001b[0m\n\u001b[0m\u001b[1;32m      4\u001b[0m \u001b[0mtest_df\u001b[0m\u001b[0;34m.\u001b[0m\u001b[0mhead\u001b[0m\u001b[0;34m(\u001b[0m\u001b[0;34m)\u001b[0m\u001b[0;34m\u001b[0m\u001b[0;34m\u001b[0m\u001b[0m\n",
            "\u001b[0;32m/usr/local/lib/python3.6/dist-packages/pandas/core/generic.py\u001b[0m in \u001b[0;36mstat_func\u001b[0;34m(self, axis, skipna, level, numeric_only, **kwargs)\u001b[0m\n\u001b[1;32m  11467\u001b[0m             \u001b[0;32mreturn\u001b[0m \u001b[0mself\u001b[0m\u001b[0;34m.\u001b[0m\u001b[0m_agg_by_level\u001b[0m\u001b[0;34m(\u001b[0m\u001b[0mname\u001b[0m\u001b[0;34m,\u001b[0m \u001b[0maxis\u001b[0m\u001b[0;34m=\u001b[0m\u001b[0maxis\u001b[0m\u001b[0;34m,\u001b[0m \u001b[0mlevel\u001b[0m\u001b[0;34m=\u001b[0m\u001b[0mlevel\u001b[0m\u001b[0;34m,\u001b[0m \u001b[0mskipna\u001b[0m\u001b[0;34m=\u001b[0m\u001b[0mskipna\u001b[0m\u001b[0;34m)\u001b[0m\u001b[0;34m\u001b[0m\u001b[0;34m\u001b[0m\u001b[0m\n\u001b[1;32m  11468\u001b[0m         return self._reduce(\n\u001b[0;32m> 11469\u001b[0;31m             \u001b[0mfunc\u001b[0m\u001b[0;34m,\u001b[0m \u001b[0mname\u001b[0m\u001b[0;34m=\u001b[0m\u001b[0mname\u001b[0m\u001b[0;34m,\u001b[0m \u001b[0maxis\u001b[0m\u001b[0;34m=\u001b[0m\u001b[0maxis\u001b[0m\u001b[0;34m,\u001b[0m \u001b[0mskipna\u001b[0m\u001b[0;34m=\u001b[0m\u001b[0mskipna\u001b[0m\u001b[0;34m,\u001b[0m \u001b[0mnumeric_only\u001b[0m\u001b[0;34m=\u001b[0m\u001b[0mnumeric_only\u001b[0m\u001b[0;34m\u001b[0m\u001b[0;34m\u001b[0m\u001b[0m\n\u001b[0m\u001b[1;32m  11470\u001b[0m         )\n\u001b[1;32m  11471\u001b[0m \u001b[0;34m\u001b[0m\u001b[0m\n",
            "\u001b[0;32m/usr/local/lib/python3.6/dist-packages/pandas/core/series.py\u001b[0m in \u001b[0;36m_reduce\u001b[0;34m(self, op, name, axis, skipna, numeric_only, filter_type, **kwds)\u001b[0m\n\u001b[1;32m   4246\u001b[0m                 )\n\u001b[1;32m   4247\u001b[0m             \u001b[0;32mwith\u001b[0m \u001b[0mnp\u001b[0m\u001b[0;34m.\u001b[0m\u001b[0merrstate\u001b[0m\u001b[0;34m(\u001b[0m\u001b[0mall\u001b[0m\u001b[0;34m=\u001b[0m\u001b[0;34m\"ignore\"\u001b[0m\u001b[0;34m)\u001b[0m\u001b[0;34m:\u001b[0m\u001b[0;34m\u001b[0m\u001b[0;34m\u001b[0m\u001b[0m\n\u001b[0;32m-> 4248\u001b[0;31m                 \u001b[0;32mreturn\u001b[0m \u001b[0mop\u001b[0m\u001b[0;34m(\u001b[0m\u001b[0mdelegate\u001b[0m\u001b[0;34m,\u001b[0m \u001b[0mskipna\u001b[0m\u001b[0;34m=\u001b[0m\u001b[0mskipna\u001b[0m\u001b[0;34m,\u001b[0m \u001b[0;34m**\u001b[0m\u001b[0mkwds\u001b[0m\u001b[0;34m)\u001b[0m\u001b[0;34m\u001b[0m\u001b[0;34m\u001b[0m\u001b[0m\n\u001b[0m\u001b[1;32m   4249\u001b[0m \u001b[0;34m\u001b[0m\u001b[0m\n\u001b[1;32m   4250\u001b[0m     \u001b[0;32mdef\u001b[0m \u001b[0m_reindex_indexer\u001b[0m\u001b[0;34m(\u001b[0m\u001b[0mself\u001b[0m\u001b[0;34m,\u001b[0m \u001b[0mnew_index\u001b[0m\u001b[0;34m,\u001b[0m \u001b[0mindexer\u001b[0m\u001b[0;34m,\u001b[0m \u001b[0mcopy\u001b[0m\u001b[0;34m)\u001b[0m\u001b[0;34m:\u001b[0m\u001b[0;34m\u001b[0m\u001b[0;34m\u001b[0m\u001b[0m\n",
            "\u001b[0;32m/usr/local/lib/python3.6/dist-packages/pandas/core/nanops.py\u001b[0m in \u001b[0;36m_f\u001b[0;34m(*args, **kwargs)\u001b[0m\n\u001b[1;32m     69\u001b[0m             \u001b[0;32mtry\u001b[0m\u001b[0;34m:\u001b[0m\u001b[0;34m\u001b[0m\u001b[0;34m\u001b[0m\u001b[0m\n\u001b[1;32m     70\u001b[0m                 \u001b[0;32mwith\u001b[0m \u001b[0mnp\u001b[0m\u001b[0;34m.\u001b[0m\u001b[0merrstate\u001b[0m\u001b[0;34m(\u001b[0m\u001b[0minvalid\u001b[0m\u001b[0;34m=\u001b[0m\u001b[0;34m\"ignore\"\u001b[0m\u001b[0;34m)\u001b[0m\u001b[0;34m:\u001b[0m\u001b[0;34m\u001b[0m\u001b[0;34m\u001b[0m\u001b[0m\n\u001b[0;32m---> 71\u001b[0;31m                     \u001b[0;32mreturn\u001b[0m \u001b[0mf\u001b[0m\u001b[0;34m(\u001b[0m\u001b[0;34m*\u001b[0m\u001b[0margs\u001b[0m\u001b[0;34m,\u001b[0m \u001b[0;34m**\u001b[0m\u001b[0mkwargs\u001b[0m\u001b[0;34m)\u001b[0m\u001b[0;34m\u001b[0m\u001b[0;34m\u001b[0m\u001b[0m\n\u001b[0m\u001b[1;32m     72\u001b[0m             \u001b[0;32mexcept\u001b[0m \u001b[0mValueError\u001b[0m \u001b[0;32mas\u001b[0m \u001b[0me\u001b[0m\u001b[0;34m:\u001b[0m\u001b[0;34m\u001b[0m\u001b[0;34m\u001b[0m\u001b[0m\n\u001b[1;32m     73\u001b[0m                 \u001b[0;31m# we want to transform an object array\u001b[0m\u001b[0;34m\u001b[0m\u001b[0;34m\u001b[0m\u001b[0;34m\u001b[0m\u001b[0m\n",
            "\u001b[0;32m/usr/local/lib/python3.6/dist-packages/pandas/core/nanops.py\u001b[0m in \u001b[0;36mf\u001b[0;34m(values, axis, skipna, **kwds)\u001b[0m\n\u001b[1;32m    127\u001b[0m                     \u001b[0mresult\u001b[0m \u001b[0;34m=\u001b[0m \u001b[0malt\u001b[0m\u001b[0;34m(\u001b[0m\u001b[0mvalues\u001b[0m\u001b[0;34m,\u001b[0m \u001b[0maxis\u001b[0m\u001b[0;34m=\u001b[0m\u001b[0maxis\u001b[0m\u001b[0;34m,\u001b[0m \u001b[0mskipna\u001b[0m\u001b[0;34m=\u001b[0m\u001b[0mskipna\u001b[0m\u001b[0;34m,\u001b[0m \u001b[0;34m**\u001b[0m\u001b[0mkwds\u001b[0m\u001b[0;34m)\u001b[0m\u001b[0;34m\u001b[0m\u001b[0;34m\u001b[0m\u001b[0m\n\u001b[1;32m    128\u001b[0m             \u001b[0;32melse\u001b[0m\u001b[0;34m:\u001b[0m\u001b[0;34m\u001b[0m\u001b[0;34m\u001b[0m\u001b[0m\n\u001b[0;32m--> 129\u001b[0;31m                 \u001b[0mresult\u001b[0m \u001b[0;34m=\u001b[0m \u001b[0malt\u001b[0m\u001b[0;34m(\u001b[0m\u001b[0mvalues\u001b[0m\u001b[0;34m,\u001b[0m \u001b[0maxis\u001b[0m\u001b[0;34m=\u001b[0m\u001b[0maxis\u001b[0m\u001b[0;34m,\u001b[0m \u001b[0mskipna\u001b[0m\u001b[0;34m=\u001b[0m\u001b[0mskipna\u001b[0m\u001b[0;34m,\u001b[0m \u001b[0;34m**\u001b[0m\u001b[0mkwds\u001b[0m\u001b[0;34m)\u001b[0m\u001b[0;34m\u001b[0m\u001b[0;34m\u001b[0m\u001b[0m\n\u001b[0m\u001b[1;32m    130\u001b[0m \u001b[0;34m\u001b[0m\u001b[0m\n\u001b[1;32m    131\u001b[0m             \u001b[0;32mreturn\u001b[0m \u001b[0mresult\u001b[0m\u001b[0;34m\u001b[0m\u001b[0;34m\u001b[0m\u001b[0m\n",
            "\u001b[0;32m/usr/local/lib/python3.6/dist-packages/pandas/core/nanops.py\u001b[0m in \u001b[0;36mnanmean\u001b[0;34m(values, axis, skipna, mask)\u001b[0m\n\u001b[1;32m    561\u001b[0m         \u001b[0mdtype_count\u001b[0m \u001b[0;34m=\u001b[0m \u001b[0mdtype\u001b[0m\u001b[0;34m\u001b[0m\u001b[0;34m\u001b[0m\u001b[0m\n\u001b[1;32m    562\u001b[0m     \u001b[0mcount\u001b[0m \u001b[0;34m=\u001b[0m \u001b[0m_get_counts\u001b[0m\u001b[0;34m(\u001b[0m\u001b[0mvalues\u001b[0m\u001b[0;34m.\u001b[0m\u001b[0mshape\u001b[0m\u001b[0;34m,\u001b[0m \u001b[0mmask\u001b[0m\u001b[0;34m,\u001b[0m \u001b[0maxis\u001b[0m\u001b[0;34m,\u001b[0m \u001b[0mdtype\u001b[0m\u001b[0;34m=\u001b[0m\u001b[0mdtype_count\u001b[0m\u001b[0;34m)\u001b[0m\u001b[0;34m\u001b[0m\u001b[0;34m\u001b[0m\u001b[0m\n\u001b[0;32m--> 563\u001b[0;31m     \u001b[0mthe_sum\u001b[0m \u001b[0;34m=\u001b[0m \u001b[0m_ensure_numeric\u001b[0m\u001b[0;34m(\u001b[0m\u001b[0mvalues\u001b[0m\u001b[0;34m.\u001b[0m\u001b[0msum\u001b[0m\u001b[0;34m(\u001b[0m\u001b[0maxis\u001b[0m\u001b[0;34m,\u001b[0m \u001b[0mdtype\u001b[0m\u001b[0;34m=\u001b[0m\u001b[0mdtype_sum\u001b[0m\u001b[0;34m)\u001b[0m\u001b[0;34m)\u001b[0m\u001b[0;34m\u001b[0m\u001b[0;34m\u001b[0m\u001b[0m\n\u001b[0m\u001b[1;32m    564\u001b[0m \u001b[0;34m\u001b[0m\u001b[0m\n\u001b[1;32m    565\u001b[0m     \u001b[0;32mif\u001b[0m \u001b[0maxis\u001b[0m \u001b[0;32mis\u001b[0m \u001b[0;32mnot\u001b[0m \u001b[0;32mNone\u001b[0m \u001b[0;32mand\u001b[0m \u001b[0mgetattr\u001b[0m\u001b[0;34m(\u001b[0m\u001b[0mthe_sum\u001b[0m\u001b[0;34m,\u001b[0m \u001b[0;34m\"ndim\"\u001b[0m\u001b[0;34m,\u001b[0m \u001b[0;32mFalse\u001b[0m\u001b[0;34m)\u001b[0m\u001b[0;34m:\u001b[0m\u001b[0;34m\u001b[0m\u001b[0;34m\u001b[0m\u001b[0m\n",
            "\u001b[0;32m/usr/local/lib/python3.6/dist-packages/numpy/core/_methods.py\u001b[0m in \u001b[0;36m_sum\u001b[0;34m(a, axis, dtype, out, keepdims, initial, where)\u001b[0m\n\u001b[1;32m     36\u001b[0m def _sum(a, axis=None, dtype=None, out=None, keepdims=False,\n\u001b[1;32m     37\u001b[0m          initial=_NoValue, where=True):\n\u001b[0;32m---> 38\u001b[0;31m     \u001b[0;32mreturn\u001b[0m \u001b[0mumr_sum\u001b[0m\u001b[0;34m(\u001b[0m\u001b[0ma\u001b[0m\u001b[0;34m,\u001b[0m \u001b[0maxis\u001b[0m\u001b[0;34m,\u001b[0m \u001b[0mdtype\u001b[0m\u001b[0;34m,\u001b[0m \u001b[0mout\u001b[0m\u001b[0;34m,\u001b[0m \u001b[0mkeepdims\u001b[0m\u001b[0;34m,\u001b[0m \u001b[0minitial\u001b[0m\u001b[0;34m,\u001b[0m \u001b[0mwhere\u001b[0m\u001b[0;34m)\u001b[0m\u001b[0;34m\u001b[0m\u001b[0;34m\u001b[0m\u001b[0m\n\u001b[0m\u001b[1;32m     39\u001b[0m \u001b[0;34m\u001b[0m\u001b[0m\n\u001b[1;32m     40\u001b[0m def _prod(a, axis=None, dtype=None, out=None, keepdims=False,\n",
            "\u001b[0;31mTypeError\u001b[0m: must be str, not int"
          ]
        }
      ]
    },
    {
      "cell_type": "code",
      "metadata": {
        "id": "TcpLTIEAgytC",
        "colab": {
          "base_uri": "https://localhost:8080/"
        },
        "outputId": "cdaaec68-bb82-4fab-e739-1e5ba5176311"
      },
      "source": [
        "df.isna().sum()"
      ],
      "execution_count": null,
      "outputs": [
        {
          "output_type": "execute_result",
          "data": {
            "text/plain": [
              "#                       0\n",
              "Country,Other           0\n",
              "TotalCases              0\n",
              "NewCases              328\n",
              "TotalDeaths             0\n",
              "NewDeaths             342\n",
              "TotalRecovered          0\n",
              "NewRecovered          295\n",
              "ActiveCases             0\n",
              "Serious,Critical        0\n",
              "Tot Cases/1M pop        0\n",
              "Deaths/1M pop           0\n",
              "TotalTests              0\n",
              "Tests/\\n1M pop\\n        0\n",
              "Population              0\n",
              "Continent               0\n",
              "1 Caseevery X ppl       0\n",
              "1 Deathevery X ppl      0\n",
              "1 Testevery X ppl       0\n",
              "dtype: int64"
            ]
          },
          "metadata": {
            "tags": []
          },
          "execution_count": 222
        }
      ]
    },
    {
      "cell_type": "code",
      "metadata": {
        "id": "IquXK11Mhh-c",
        "colab": {
          "base_uri": "https://localhost:8080/"
        },
        "outputId": "d876bb5f-33a4-470f-e79f-4f2d6e6cd201"
      },
      "source": [
        "df['NewCases'].head(10).unique()"
      ],
      "execution_count": null,
      "outputs": [
        {
          "output_type": "execute_result",
          "data": {
            "text/plain": [
              "array(['133,471', '100,976', '57,035', '264,145', '12,683', nan, '',\n",
              "       '568,320', '121,768', '48,285'], dtype=object)"
            ]
          },
          "metadata": {
            "tags": []
          },
          "execution_count": 227
        }
      ]
    },
    {
      "cell_type": "code",
      "metadata": {
        "id": "WLT378llif4-",
        "colab": {
          "base_uri": "https://localhost:8080/",
          "height": 490
        },
        "outputId": "0b49edea-5d2e-4277-fda8-20fe7040e245"
      },
      "source": [
        "df[df['NewCases'] == '']"
      ],
      "execution_count": null,
      "outputs": [
        {
          "output_type": "execute_result",
          "data": {
            "text/html": [
              "<div>\n",
              "<style scoped>\n",
              "    .dataframe tbody tr th:only-of-type {\n",
              "        vertical-align: middle;\n",
              "    }\n",
              "\n",
              "    .dataframe tbody tr th {\n",
              "        vertical-align: top;\n",
              "    }\n",
              "\n",
              "    .dataframe thead th {\n",
              "        text-align: right;\n",
              "    }\n",
              "</style>\n",
              "<table border=\"1\" class=\"dataframe\">\n",
              "  <thead>\n",
              "    <tr style=\"text-align: right;\">\n",
              "      <th></th>\n",
              "      <th>#</th>\n",
              "      <th>Country,Other</th>\n",
              "      <th>TotalCases</th>\n",
              "      <th>NewCases</th>\n",
              "      <th>TotalDeaths</th>\n",
              "      <th>NewDeaths</th>\n",
              "      <th>TotalRecovered</th>\n",
              "      <th>NewRecovered</th>\n",
              "      <th>ActiveCases</th>\n",
              "      <th>Serious,Critical</th>\n",
              "      <th>Tot Cases/1M pop</th>\n",
              "      <th>Deaths/1M pop</th>\n",
              "      <th>TotalTests</th>\n",
              "      <th>Tests/\\n1M pop\\n</th>\n",
              "      <th>Population</th>\n",
              "      <th>Continent</th>\n",
              "      <th>1 Caseevery X ppl</th>\n",
              "      <th>1 Deathevery X ppl</th>\n",
              "      <th>1 Testevery X ppl</th>\n",
              "    </tr>\n",
              "  </thead>\n",
              "  <tbody>\n",
              "    <tr>\n",
              "      <th>6</th>\n",
              "      <td></td>\n",
              "      <td></td>\n",
              "      <td>721</td>\n",
              "      <td></td>\n",
              "      <td>15</td>\n",
              "      <td></td>\n",
              "      <td>659</td>\n",
              "      <td></td>\n",
              "      <td>47</td>\n",
              "      <td>4</td>\n",
              "      <td></td>\n",
              "      <td></td>\n",
              "      <td></td>\n",
              "      <td></td>\n",
              "      <td></td>\n",
              "      <td></td>\n",
              "      <td>\\n</td>\n",
              "      <td></td>\n",
              "      <td></td>\n",
              "    </tr>\n",
              "    <tr>\n",
              "      <th>14</th>\n",
              "      <td>7</td>\n",
              "      <td>Argentina</td>\n",
              "      <td>1,262,476</td>\n",
              "      <td></td>\n",
              "      <td>34,183</td>\n",
              "      <td></td>\n",
              "      <td>1,081,897</td>\n",
              "      <td></td>\n",
              "      <td>146,396</td>\n",
              "      <td>4,494</td>\n",
              "      <td>27,841</td>\n",
              "      <td>754</td>\n",
              "      <td>3,289,756</td>\n",
              "      <td>72,549</td>\n",
              "      <td>45,345,559</td>\n",
              "      <td>South America</td>\n",
              "      <td>36</td>\n",
              "      <td>1,327</td>\n",
              "      <td>14</td>\n",
              "    </tr>\n",
              "    <tr>\n",
              "      <th>19</th>\n",
              "      <td>12</td>\n",
              "      <td>Peru</td>\n",
              "      <td>925,431</td>\n",
              "      <td></td>\n",
              "      <td>34,992</td>\n",
              "      <td></td>\n",
              "      <td>850,670</td>\n",
              "      <td></td>\n",
              "      <td>39,769</td>\n",
              "      <td>1,008</td>\n",
              "      <td>27,928</td>\n",
              "      <td>1,056</td>\n",
              "      <td>4,700,489</td>\n",
              "      <td>141,851</td>\n",
              "      <td>33,136,823</td>\n",
              "      <td>South America</td>\n",
              "      <td>36</td>\n",
              "      <td>947</td>\n",
              "      <td>7</td>\n",
              "    </tr>\n",
              "    <tr>\n",
              "      <th>45</th>\n",
              "      <td>38</td>\n",
              "      <td>Sweden</td>\n",
              "      <td>166,707</td>\n",
              "      <td></td>\n",
              "      <td>6,082</td>\n",
              "      <td>NaN</td>\n",
              "      <td>N/A</td>\n",
              "      <td>N/A</td>\n",
              "      <td>N/A</td>\n",
              "      <td>129</td>\n",
              "      <td>16,470</td>\n",
              "      <td>601</td>\n",
              "      <td>2,431,770</td>\n",
              "      <td>240,244</td>\n",
              "      <td>10,122,084</td>\n",
              "      <td>Europe</td>\n",
              "      <td>61</td>\n",
              "      <td>1,664</td>\n",
              "      <td>4</td>\n",
              "    </tr>\n",
              "    <tr>\n",
              "      <th>48</th>\n",
              "      <td>41</td>\n",
              "      <td>Panama</td>\n",
              "      <td>141,302</td>\n",
              "      <td></td>\n",
              "      <td>2,817</td>\n",
              "      <td></td>\n",
              "      <td>119,707</td>\n",
              "      <td></td>\n",
              "      <td>18,778</td>\n",
              "      <td>145</td>\n",
              "      <td>32,565</td>\n",
              "      <td>649</td>\n",
              "      <td>727,520</td>\n",
              "      <td>167,666</td>\n",
              "      <td>4,339,110</td>\n",
              "      <td>North America</td>\n",
              "      <td>31</td>\n",
              "      <td>1,540</td>\n",
              "      <td>6</td>\n",
              "    </tr>\n",
              "    <tr>\n",
              "      <th>...</th>\n",
              "      <td>...</td>\n",
              "      <td>...</td>\n",
              "      <td>...</td>\n",
              "      <td>...</td>\n",
              "      <td>...</td>\n",
              "      <td>...</td>\n",
              "      <td>...</td>\n",
              "      <td>...</td>\n",
              "      <td>...</td>\n",
              "      <td>...</td>\n",
              "      <td>...</td>\n",
              "      <td>...</td>\n",
              "      <td>...</td>\n",
              "      <td>...</td>\n",
              "      <td>...</td>\n",
              "      <td>...</td>\n",
              "      <td>...</td>\n",
              "      <td>...</td>\n",
              "      <td>...</td>\n",
              "    </tr>\n",
              "    <tr>\n",
              "      <th>694</th>\n",
              "      <td>215</td>\n",
              "      <td>MS Zaandam</td>\n",
              "      <td>9</td>\n",
              "      <td></td>\n",
              "      <td>2</td>\n",
              "      <td></td>\n",
              "      <td></td>\n",
              "      <td></td>\n",
              "      <td>7</td>\n",
              "      <td></td>\n",
              "      <td></td>\n",
              "      <td></td>\n",
              "      <td></td>\n",
              "      <td></td>\n",
              "      <td></td>\n",
              "      <td></td>\n",
              "      <td></td>\n",
              "      <td></td>\n",
              "      <td></td>\n",
              "    </tr>\n",
              "    <tr>\n",
              "      <th>695</th>\n",
              "      <td>216</td>\n",
              "      <td>Anguilla</td>\n",
              "      <td>3</td>\n",
              "      <td></td>\n",
              "      <td></td>\n",
              "      <td></td>\n",
              "      <td>3</td>\n",
              "      <td></td>\n",
              "      <td>0</td>\n",
              "      <td></td>\n",
              "      <td>199</td>\n",
              "      <td></td>\n",
              "      <td>1,820</td>\n",
              "      <td>120,922</td>\n",
              "      <td>15,051</td>\n",
              "      <td>North America</td>\n",
              "      <td>5,017</td>\n",
              "      <td></td>\n",
              "      <td>8</td>\n",
              "    </tr>\n",
              "    <tr>\n",
              "      <th>696</th>\n",
              "      <td>217</td>\n",
              "      <td>Marshall Islands</td>\n",
              "      <td>1</td>\n",
              "      <td></td>\n",
              "      <td></td>\n",
              "      <td></td>\n",
              "      <td></td>\n",
              "      <td></td>\n",
              "      <td>1</td>\n",
              "      <td></td>\n",
              "      <td>17</td>\n",
              "      <td></td>\n",
              "      <td></td>\n",
              "      <td></td>\n",
              "      <td>59,335</td>\n",
              "      <td>Australia/Oceania</td>\n",
              "      <td>59,335</td>\n",
              "      <td></td>\n",
              "      <td></td>\n",
              "    </tr>\n",
              "    <tr>\n",
              "      <th>697</th>\n",
              "      <td>218</td>\n",
              "      <td>Wallis and Futuna</td>\n",
              "      <td>1</td>\n",
              "      <td></td>\n",
              "      <td></td>\n",
              "      <td></td>\n",
              "      <td>1</td>\n",
              "      <td></td>\n",
              "      <td>0</td>\n",
              "      <td></td>\n",
              "      <td>90</td>\n",
              "      <td></td>\n",
              "      <td>1,149</td>\n",
              "      <td>102,902</td>\n",
              "      <td>11,166</td>\n",
              "      <td>Australia/Oceania</td>\n",
              "      <td>11,166</td>\n",
              "      <td></td>\n",
              "      <td>10</td>\n",
              "    </tr>\n",
              "    <tr>\n",
              "      <th>704</th>\n",
              "      <td></td>\n",
              "      <td>Total:</td>\n",
              "      <td>721</td>\n",
              "      <td></td>\n",
              "      <td>15</td>\n",
              "      <td></td>\n",
              "      <td>659</td>\n",
              "      <td></td>\n",
              "      <td>47</td>\n",
              "      <td>4</td>\n",
              "      <td></td>\n",
              "      <td></td>\n",
              "      <td></td>\n",
              "      <td></td>\n",
              "      <td></td>\n",
              "      <td></td>\n",
              "      <td></td>\n",
              "      <td></td>\n",
              "      <td></td>\n",
              "    </tr>\n",
              "  </tbody>\n",
              "</table>\n",
              "<p>186 rows × 19 columns</p>\n",
              "</div>"
            ],
            "text/plain": [
              "       #      Country,Other  ... 1 Deathevery X ppl 1 Testevery X ppl\n",
              "6                            ...                                     \n",
              "14     7          Argentina  ...              1,327                14\n",
              "19    12               Peru  ...                947                 7\n",
              "45    38             Sweden  ...              1,664                 4\n",
              "48    41             Panama  ...              1,540                 6\n",
              "..   ...                ...  ...                ...               ...\n",
              "694  215         MS Zaandam  ...                                     \n",
              "695  216           Anguilla  ...                                    8\n",
              "696  217   Marshall Islands  ...                                     \n",
              "697  218  Wallis and Futuna  ...                                   10\n",
              "704                  Total:  ...                                     \n",
              "\n",
              "[186 rows x 19 columns]"
            ]
          },
          "metadata": {
            "tags": []
          },
          "execution_count": 229
        }
      ]
    },
    {
      "cell_type": "code",
      "metadata": {
        "id": "qlumHBlSiwab",
        "colab": {
          "base_uri": "https://localhost:8080/",
          "height": 473
        },
        "outputId": "cc3a4644-306a-4478-a231-e20aa495cdce"
      },
      "source": [
        "df[df['NewCases'].isna()]"
      ],
      "execution_count": null,
      "outputs": [
        {
          "output_type": "execute_result",
          "data": {
            "text/html": [
              "<div>\n",
              "<style scoped>\n",
              "    .dataframe tbody tr th:only-of-type {\n",
              "        vertical-align: middle;\n",
              "    }\n",
              "\n",
              "    .dataframe tbody tr th {\n",
              "        vertical-align: top;\n",
              "    }\n",
              "\n",
              "    .dataframe thead th {\n",
              "        text-align: right;\n",
              "    }\n",
              "</style>\n",
              "<table border=\"1\" class=\"dataframe\">\n",
              "  <thead>\n",
              "    <tr style=\"text-align: right;\">\n",
              "      <th></th>\n",
              "      <th>#</th>\n",
              "      <th>Country,Other</th>\n",
              "      <th>TotalCases</th>\n",
              "      <th>NewCases</th>\n",
              "      <th>TotalDeaths</th>\n",
              "      <th>NewDeaths</th>\n",
              "      <th>TotalRecovered</th>\n",
              "      <th>NewRecovered</th>\n",
              "      <th>ActiveCases</th>\n",
              "      <th>Serious,Critical</th>\n",
              "      <th>Tot Cases/1M pop</th>\n",
              "      <th>Deaths/1M pop</th>\n",
              "      <th>TotalTests</th>\n",
              "      <th>Tests/\\n1M pop\\n</th>\n",
              "      <th>Population</th>\n",
              "      <th>Continent</th>\n",
              "      <th>1 Caseevery X ppl</th>\n",
              "      <th>1 Deathevery X ppl</th>\n",
              "      <th>1 Testevery X ppl</th>\n",
              "    </tr>\n",
              "  </thead>\n",
              "  <tbody>\n",
              "    <tr>\n",
              "      <th>5</th>\n",
              "      <td></td>\n",
              "      <td>Oceania</td>\n",
              "      <td>41,327</td>\n",
              "      <td>NaN</td>\n",
              "      <td>993</td>\n",
              "      <td></td>\n",
              "      <td>32,864</td>\n",
              "      <td>NaN</td>\n",
              "      <td>7,470</td>\n",
              "      <td>25</td>\n",
              "      <td></td>\n",
              "      <td></td>\n",
              "      <td></td>\n",
              "      <td></td>\n",
              "      <td></td>\n",
              "      <td>Australia/Oceania</td>\n",
              "      <td>\\n</td>\n",
              "      <td></td>\n",
              "      <td></td>\n",
              "    </tr>\n",
              "    <tr>\n",
              "      <th>24</th>\n",
              "      <td>17</td>\n",
              "      <td>Chile</td>\n",
              "      <td>524,804</td>\n",
              "      <td>NaN</td>\n",
              "      <td>14,633</td>\n",
              "      <td>NaN</td>\n",
              "      <td>501,426</td>\n",
              "      <td>1,284</td>\n",
              "      <td>8,745</td>\n",
              "      <td>721</td>\n",
              "      <td>27,368</td>\n",
              "      <td>763</td>\n",
              "      <td>4,667,350</td>\n",
              "      <td>243,402</td>\n",
              "      <td>19,175,505</td>\n",
              "      <td>South America</td>\n",
              "      <td>37</td>\n",
              "      <td>1,310</td>\n",
              "      <td>4</td>\n",
              "    </tr>\n",
              "    <tr>\n",
              "      <th>34</th>\n",
              "      <td>27</td>\n",
              "      <td>Saudi Arabia</td>\n",
              "      <td>351,849</td>\n",
              "      <td>NaN</td>\n",
              "      <td>5,590</td>\n",
              "      <td>NaN</td>\n",
              "      <td>338,702</td>\n",
              "      <td>NaN</td>\n",
              "      <td>7,557</td>\n",
              "      <td>786</td>\n",
              "      <td>10,050</td>\n",
              "      <td>160</td>\n",
              "      <td>8,675,422</td>\n",
              "      <td>247,811</td>\n",
              "      <td>35,008,225</td>\n",
              "      <td>Asia</td>\n",
              "      <td>99</td>\n",
              "      <td>6,263</td>\n",
              "      <td>4</td>\n",
              "    </tr>\n",
              "    <tr>\n",
              "      <th>37</th>\n",
              "      <td>30</td>\n",
              "      <td>Israel</td>\n",
              "      <td>321,326</td>\n",
              "      <td>NaN</td>\n",
              "      <td>2,700</td>\n",
              "      <td>NaN</td>\n",
              "      <td>310,605</td>\n",
              "      <td>NaN</td>\n",
              "      <td>8,021</td>\n",
              "      <td>305</td>\n",
              "      <td>34,936</td>\n",
              "      <td>294</td>\n",
              "      <td>4,929,865</td>\n",
              "      <td>535,995</td>\n",
              "      <td>9,197,590</td>\n",
              "      <td>Asia</td>\n",
              "      <td>29</td>\n",
              "      <td>3,407</td>\n",
              "      <td>2</td>\n",
              "    </tr>\n",
              "    <tr>\n",
              "      <th>43</th>\n",
              "      <td>36</td>\n",
              "      <td>Ecuador</td>\n",
              "      <td>176,630</td>\n",
              "      <td>NaN</td>\n",
              "      <td>12,920</td>\n",
              "      <td>NaN</td>\n",
              "      <td>154,956</td>\n",
              "      <td></td>\n",
              "      <td>8,754</td>\n",
              "      <td>337</td>\n",
              "      <td>9,957</td>\n",
              "      <td>728</td>\n",
              "      <td>580,169</td>\n",
              "      <td>32,706</td>\n",
              "      <td>17,739,136</td>\n",
              "      <td>South America</td>\n",
              "      <td>100</td>\n",
              "      <td>1,373</td>\n",
              "      <td>31</td>\n",
              "    </tr>\n",
              "    <tr>\n",
              "      <th>...</th>\n",
              "      <td>...</td>\n",
              "      <td>...</td>\n",
              "      <td>...</td>\n",
              "      <td>...</td>\n",
              "      <td>...</td>\n",
              "      <td>...</td>\n",
              "      <td>...</td>\n",
              "      <td>...</td>\n",
              "      <td>...</td>\n",
              "      <td>...</td>\n",
              "      <td>...</td>\n",
              "      <td>...</td>\n",
              "      <td>...</td>\n",
              "      <td>...</td>\n",
              "      <td>...</td>\n",
              "      <td>...</td>\n",
              "      <td>...</td>\n",
              "      <td>...</td>\n",
              "      <td>...</td>\n",
              "    </tr>\n",
              "    <tr>\n",
              "      <th>670</th>\n",
              "      <td>191</td>\n",
              "      <td>Bermuda</td>\n",
              "      <td>214</td>\n",
              "      <td>NaN</td>\n",
              "      <td>9</td>\n",
              "      <td></td>\n",
              "      <td>182</td>\n",
              "      <td>NaN</td>\n",
              "      <td>23</td>\n",
              "      <td></td>\n",
              "      <td>3,441</td>\n",
              "      <td>145</td>\n",
              "      <td>92,973</td>\n",
              "      <td>1,494,887</td>\n",
              "      <td>62,194</td>\n",
              "      <td>North America</td>\n",
              "      <td>291</td>\n",
              "      <td>6,910</td>\n",
              "      <td>1</td>\n",
              "    </tr>\n",
              "    <tr>\n",
              "      <th>674</th>\n",
              "      <td>195</td>\n",
              "      <td>Saint Lucia</td>\n",
              "      <td>141</td>\n",
              "      <td>NaN</td>\n",
              "      <td></td>\n",
              "      <td></td>\n",
              "      <td>32</td>\n",
              "      <td></td>\n",
              "      <td>109</td>\n",
              "      <td></td>\n",
              "      <td>767</td>\n",
              "      <td></td>\n",
              "      <td>12,332</td>\n",
              "      <td>67,047</td>\n",
              "      <td>183,932</td>\n",
              "      <td>North America</td>\n",
              "      <td>1,304</td>\n",
              "      <td></td>\n",
              "      <td>15</td>\n",
              "    </tr>\n",
              "    <tr>\n",
              "      <th>682</th>\n",
              "      <td>203</td>\n",
              "      <td>Grenada</td>\n",
              "      <td>32</td>\n",
              "      <td>NaN</td>\n",
              "      <td></td>\n",
              "      <td></td>\n",
              "      <td>27</td>\n",
              "      <td></td>\n",
              "      <td>5</td>\n",
              "      <td></td>\n",
              "      <td>284</td>\n",
              "      <td></td>\n",
              "      <td>6,252</td>\n",
              "      <td>55,469</td>\n",
              "      <td>112,712</td>\n",
              "      <td>North America</td>\n",
              "      <td>3,522</td>\n",
              "      <td></td>\n",
              "      <td>18</td>\n",
              "    </tr>\n",
              "    <tr>\n",
              "      <th>690</th>\n",
              "      <td>211</td>\n",
              "      <td>Solomon Islands</td>\n",
              "      <td>16</td>\n",
              "      <td>NaN</td>\n",
              "      <td></td>\n",
              "      <td></td>\n",
              "      <td>5</td>\n",
              "      <td>NaN</td>\n",
              "      <td>11</td>\n",
              "      <td></td>\n",
              "      <td>23</td>\n",
              "      <td></td>\n",
              "      <td>115</td>\n",
              "      <td>166</td>\n",
              "      <td>692,856</td>\n",
              "      <td>Australia/Oceania</td>\n",
              "      <td>43,304</td>\n",
              "      <td></td>\n",
              "      <td>6,025</td>\n",
              "    </tr>\n",
              "    <tr>\n",
              "      <th>703</th>\n",
              "      <td></td>\n",
              "      <td>Total:</td>\n",
              "      <td>41,014</td>\n",
              "      <td>NaN</td>\n",
              "      <td>990</td>\n",
              "      <td>NaN</td>\n",
              "      <td>32,856</td>\n",
              "      <td>NaN</td>\n",
              "      <td>7,168</td>\n",
              "      <td>24</td>\n",
              "      <td></td>\n",
              "      <td></td>\n",
              "      <td></td>\n",
              "      <td></td>\n",
              "      <td></td>\n",
              "      <td>Australia/Oceania</td>\n",
              "      <td></td>\n",
              "      <td></td>\n",
              "      <td></td>\n",
              "    </tr>\n",
              "  </tbody>\n",
              "</table>\n",
              "<p>328 rows × 19 columns</p>\n",
              "</div>"
            ],
            "text/plain": [
              "       #    Country,Other  ... 1 Deathevery X ppl 1 Testevery X ppl\n",
              "5                 Oceania  ...                                     \n",
              "24    17            Chile  ...              1,310                 4\n",
              "34    27     Saudi Arabia  ...              6,263                 4\n",
              "37    30           Israel  ...              3,407                 2\n",
              "43    36          Ecuador  ...              1,373                31\n",
              "..   ...              ...  ...                ...               ...\n",
              "670  191          Bermuda  ...              6,910                 1\n",
              "674  195      Saint Lucia  ...                                   15\n",
              "682  203          Grenada  ...                                   18\n",
              "690  211  Solomon Islands  ...                                6,025\n",
              "703                Total:  ...                                     \n",
              "\n",
              "[328 rows x 19 columns]"
            ]
          },
          "metadata": {
            "tags": []
          },
          "execution_count": 239
        }
      ]
    },
    {
      "cell_type": "code",
      "metadata": {
        "id": "ohxlC6Fll2p0",
        "colab": {
          "base_uri": "https://localhost:8080/"
        },
        "outputId": "5ffa54dd-572a-4808-946e-e74867f0afaa"
      },
      "source": [
        "df.info()\n",
        "#none of the blank spaces are consisders as nan"
      ],
      "execution_count": null,
      "outputs": [
        {
          "output_type": "stream",
          "text": [
            "<class 'pandas.core.frame.DataFrame'>\n",
            "RangeIndex: 706 entries, 0 to 705\n",
            "Data columns (total 19 columns):\n",
            " #   Column              Non-Null Count  Dtype \n",
            "---  ------              --------------  ----- \n",
            " 0   #                   706 non-null    object\n",
            " 1   Country,Other       706 non-null    object\n",
            " 2   TotalCases          706 non-null    object\n",
            " 3   NewCases            706 non-null    object\n",
            " 4   TotalDeaths         706 non-null    object\n",
            " 5   NewDeaths           706 non-null    object\n",
            " 6   TotalRecovered      706 non-null    object\n",
            " 7   NewRecovered        706 non-null    object\n",
            " 8   ActiveCases         706 non-null    object\n",
            " 9   Serious,Critical    706 non-null    object\n",
            " 10  Tot Cases/1M pop    706 non-null    object\n",
            " 11  Deaths/1M pop       706 non-null    object\n",
            " 12  TotalTests          706 non-null    object\n",
            " 13  Tests/\n",
            "1M pop\n",
            "      706 non-null    object\n",
            " 14  Population          706 non-null    object\n",
            " 15  Continent           706 non-null    object\n",
            " 16  1 Caseevery X ppl   706 non-null    object\n",
            " 17  1 Deathevery X ppl  706 non-null    object\n",
            " 18  1 Testevery X ppl   706 non-null    object\n",
            "dtypes: object(19)\n",
            "memory usage: 104.9+ KB\n"
          ],
          "name": "stdout"
        }
      ]
    },
    {
      "cell_type": "code",
      "metadata": {
        "id": "70ZBwubjpVf9",
        "colab": {
          "base_uri": "https://localhost:8080/"
        },
        "outputId": "ee2b38b7-6216-4caf-e02d-2f9efa0014fa"
      },
      "source": [
        "df.iloc[:,1].nunique()"
      ],
      "execution_count": null,
      "outputs": [
        {
          "output_type": "execute_result",
          "data": {
            "text/plain": [
              "229"
            ]
          },
          "metadata": {
            "tags": []
          },
          "execution_count": 163
        }
      ]
    },
    {
      "cell_type": "code",
      "metadata": {
        "id": "Bx9MOJG0JEx-",
        "colab": {
          "base_uri": "https://localhost:8080/",
          "height": 247
        },
        "outputId": "c41645af-6abd-45ba-b1a4-f97fcf81155f"
      },
      "source": [
        "df[df['Country,Other'] == 'Mexico']\n",
        "#three of each country shows up because the table is a collection today's total, yesterday's, and 2 days ago from the time of running the script."
      ],
      "execution_count": null,
      "outputs": [
        {
          "output_type": "execute_result",
          "data": {
            "text/html": [
              "<div>\n",
              "<style scoped>\n",
              "    .dataframe tbody tr th:only-of-type {\n",
              "        vertical-align: middle;\n",
              "    }\n",
              "\n",
              "    .dataframe tbody tr th {\n",
              "        vertical-align: top;\n",
              "    }\n",
              "\n",
              "    .dataframe thead th {\n",
              "        text-align: right;\n",
              "    }\n",
              "</style>\n",
              "<table border=\"1\" class=\"dataframe\">\n",
              "  <thead>\n",
              "    <tr style=\"text-align: right;\">\n",
              "      <th></th>\n",
              "      <th>#</th>\n",
              "      <th>Country,Other</th>\n",
              "      <th>TotalCases</th>\n",
              "      <th>NewCases</th>\n",
              "      <th>TotalDeaths</th>\n",
              "      <th>NewDeaths</th>\n",
              "      <th>TotalRecovered</th>\n",
              "      <th>NewRecovered</th>\n",
              "      <th>ActiveCases</th>\n",
              "      <th>Serious,Critical</th>\n",
              "      <th>Tot Cases/1M pop</th>\n",
              "      <th>Deaths/1M pop</th>\n",
              "      <th>TotalTests</th>\n",
              "      <th>Tests/\\n1M pop\\n</th>\n",
              "      <th>Population</th>\n",
              "      <th>Continent</th>\n",
              "      <th>1 Caseevery X ppl</th>\n",
              "      <th>1 Deathevery X ppl</th>\n",
              "      <th>1 Testevery X ppl</th>\n",
              "    </tr>\n",
              "  </thead>\n",
              "  <tbody>\n",
              "    <tr>\n",
              "      <th>18</th>\n",
              "      <td>11</td>\n",
              "      <td>Mexico</td>\n",
              "      <td>978,531</td>\n",
              "      <td>+5,746</td>\n",
              "      <td>95,842</td>\n",
              "      <td>617</td>\n",
              "      <td>725,846</td>\n",
              "      <td>+4,770</td>\n",
              "      <td>156,843</td>\n",
              "      <td>2,615</td>\n",
              "      <td>7,561</td>\n",
              "      <td>741</td>\n",
              "      <td>2,537,046</td>\n",
              "      <td>19,603</td>\n",
              "      <td>129,421,248</td>\n",
              "      <td>North America</td>\n",
              "      <td>132</td>\n",
              "      <td>1,350</td>\n",
              "      <td>51</td>\n",
              "    </tr>\n",
              "    <tr>\n",
              "      <th>255</th>\n",
              "      <td>12</td>\n",
              "      <td>Mexico</td>\n",
              "      <td>972,785</td>\n",
              "      <td>+4,960</td>\n",
              "      <td>95,225</td>\n",
              "      <td>198</td>\n",
              "      <td>721,076</td>\n",
              "      <td>+5,099</td>\n",
              "      <td>156,484</td>\n",
              "      <td>2,615</td>\n",
              "      <td>7,516</td>\n",
              "      <td>736</td>\n",
              "      <td>2,516,413</td>\n",
              "      <td>19,444</td>\n",
              "      <td>129,421,248</td>\n",
              "      <td>North America</td>\n",
              "      <td>133</td>\n",
              "      <td>1,359</td>\n",
              "      <td>51</td>\n",
              "    </tr>\n",
              "    <tr>\n",
              "      <th>490</th>\n",
              "      <td>11</td>\n",
              "      <td>Mexico</td>\n",
              "      <td>967,825</td>\n",
              "      <td>+5,887</td>\n",
              "      <td>95,027</td>\n",
              "      <td>219</td>\n",
              "      <td>715,977</td>\n",
              "      <td>+5,037</td>\n",
              "      <td>156,821</td>\n",
              "      <td>2,838</td>\n",
              "      <td>7,478</td>\n",
              "      <td>734</td>\n",
              "      <td>2,511,207</td>\n",
              "      <td>19,403</td>\n",
              "      <td>129,421,248</td>\n",
              "      <td>North America</td>\n",
              "      <td>134</td>\n",
              "      <td>1,362</td>\n",
              "      <td>52</td>\n",
              "    </tr>\n",
              "  </tbody>\n",
              "</table>\n",
              "</div>"
            ],
            "text/plain": [
              "      # Country,Other  ... 1 Deathevery X ppl 1 Testevery X ppl\n",
              "18   11        Mexico  ...              1,350                51\n",
              "255  12        Mexico  ...              1,359                51\n",
              "490  11        Mexico  ...              1,362                52\n",
              "\n",
              "[3 rows x 19 columns]"
            ]
          },
          "metadata": {
            "tags": []
          },
          "execution_count": 164
        }
      ]
    },
    {
      "cell_type": "code",
      "metadata": {
        "id": "AKNa49iPJQTX",
        "colab": {
          "base_uri": "https://localhost:8080/"
        },
        "outputId": "88a61deb-757a-4181-d2f5-09a8f85e232d"
      },
      "source": [
        "df.isna().sum().sum()"
      ],
      "execution_count": null,
      "outputs": [
        {
          "output_type": "execute_result",
          "data": {
            "text/plain": [
              "0"
            ]
          },
          "metadata": {
            "tags": []
          },
          "execution_count": 165
        }
      ]
    },
    {
      "cell_type": "code",
      "metadata": {
        "id": "Qh8fnRWsLDAb",
        "colab": {
          "base_uri": "https://localhost:8080/"
        },
        "outputId": "cf8b8b39-a6f8-47e0-c428-5f502bed7eae"
      },
      "source": [
        "df.info()\n",
        "#none of the blank spaces are consisders as nan"
      ],
      "execution_count": null,
      "outputs": [
        {
          "output_type": "stream",
          "text": [
            "<class 'pandas.core.frame.DataFrame'>\n",
            "RangeIndex: 706 entries, 0 to 705\n",
            "Data columns (total 19 columns):\n",
            " #   Column              Non-Null Count  Dtype \n",
            "---  ------              --------------  ----- \n",
            " 0   #                   706 non-null    object\n",
            " 1   Country,Other       706 non-null    object\n",
            " 2   TotalCases          706 non-null    object\n",
            " 3   NewCases            706 non-null    object\n",
            " 4   TotalDeaths         706 non-null    object\n",
            " 5   NewDeaths           706 non-null    object\n",
            " 6   TotalRecovered      706 non-null    object\n",
            " 7   NewRecovered        706 non-null    object\n",
            " 8   ActiveCases         706 non-null    object\n",
            " 9   Serious,Critical    706 non-null    object\n",
            " 10  Tot Cases/1M pop    706 non-null    object\n",
            " 11  Deaths/1M pop       706 non-null    object\n",
            " 12  TotalTests          706 non-null    object\n",
            " 13  Tests/\n",
            "1M pop\n",
            "      706 non-null    object\n",
            " 14  Population          706 non-null    object\n",
            " 15  Continent           706 non-null    object\n",
            " 16  1 Caseevery X ppl   706 non-null    object\n",
            " 17  1 Deathevery X ppl  706 non-null    object\n",
            " 18  1 Testevery X ppl   706 non-null    object\n",
            "dtypes: object(19)\n",
            "memory usage: 104.9+ KB\n"
          ],
          "name": "stdout"
        }
      ]
    },
    {
      "cell_type": "code",
      "metadata": {
        "id": "UXzFlU3yJylg",
        "colab": {
          "base_uri": "https://localhost:8080/",
          "height": 878
        },
        "outputId": "eafbe6d3-8b42-4270-de33-82f82905ebbb"
      },
      "source": [
        "df.head(25)\n",
        "#df.tail(25)\n",
        "#country rank begins at row 8\n",
        "#county rank ends at row 297"
      ],
      "execution_count": null,
      "outputs": [
        {
          "output_type": "execute_result",
          "data": {
            "text/html": [
              "<div>\n",
              "<style scoped>\n",
              "    .dataframe tbody tr th:only-of-type {\n",
              "        vertical-align: middle;\n",
              "    }\n",
              "\n",
              "    .dataframe tbody tr th {\n",
              "        vertical-align: top;\n",
              "    }\n",
              "\n",
              "    .dataframe thead th {\n",
              "        text-align: right;\n",
              "    }\n",
              "</style>\n",
              "<table border=\"1\" class=\"dataframe\">\n",
              "  <thead>\n",
              "    <tr style=\"text-align: right;\">\n",
              "      <th></th>\n",
              "      <th>#</th>\n",
              "      <th>Country,Other</th>\n",
              "      <th>TotalCases</th>\n",
              "      <th>NewCases</th>\n",
              "      <th>TotalDeaths</th>\n",
              "      <th>NewDeaths</th>\n",
              "      <th>TotalRecovered</th>\n",
              "      <th>NewRecovered</th>\n",
              "      <th>ActiveCases</th>\n",
              "      <th>Serious,Critical</th>\n",
              "      <th>Tot Cases/1M pop</th>\n",
              "      <th>Deaths/1M pop</th>\n",
              "      <th>TotalTests</th>\n",
              "      <th>Tests/\\n1M pop\\n</th>\n",
              "      <th>Population</th>\n",
              "      <th>Continent</th>\n",
              "      <th>1 Caseevery X ppl</th>\n",
              "      <th>1 Deathevery X ppl</th>\n",
              "      <th>1 Testevery X ppl</th>\n",
              "    </tr>\n",
              "  </thead>\n",
              "  <tbody>\n",
              "    <tr>\n",
              "      <th>0</th>\n",
              "      <td></td>\n",
              "      <td>North America</td>\n",
              "      <td>12,640,448</td>\n",
              "      <td>118,724</td>\n",
              "      <td>369,227</td>\n",
              "      <td>1,879</td>\n",
              "      <td>8,108,827</td>\n",
              "      <td>40,040</td>\n",
              "      <td>4,162,394</td>\n",
              "      <td>22,582</td>\n",
              "      <td></td>\n",
              "      <td></td>\n",
              "      <td></td>\n",
              "      <td></td>\n",
              "      <td></td>\n",
              "      <td>North America</td>\n",
              "      <td>\\n</td>\n",
              "      <td></td>\n",
              "      <td></td>\n",
              "    </tr>\n",
              "    <tr>\n",
              "      <th>1</th>\n",
              "      <td></td>\n",
              "      <td>Asia</td>\n",
              "      <td>14,706,854</td>\n",
              "      <td>100,654</td>\n",
              "      <td>260,039</td>\n",
              "      <td>1,627</td>\n",
              "      <td>13,129,399</td>\n",
              "      <td>84,628</td>\n",
              "      <td>1,317,416</td>\n",
              "      <td>23,759</td>\n",
              "      <td></td>\n",
              "      <td></td>\n",
              "      <td></td>\n",
              "      <td></td>\n",
              "      <td></td>\n",
              "      <td>Asia</td>\n",
              "      <td>\\n</td>\n",
              "      <td></td>\n",
              "      <td></td>\n",
              "    </tr>\n",
              "    <tr>\n",
              "      <th>2</th>\n",
              "      <td></td>\n",
              "      <td>South America</td>\n",
              "      <td>10,124,419</td>\n",
              "      <td>48,296</td>\n",
              "      <td>304,782</td>\n",
              "      <td>NaN</td>\n",
              "      <td>8,988,859</td>\n",
              "      <td>1,602</td>\n",
              "      <td>830,778</td>\n",
              "      <td>17,583</td>\n",
              "      <td></td>\n",
              "      <td></td>\n",
              "      <td></td>\n",
              "      <td></td>\n",
              "      <td></td>\n",
              "      <td>South America</td>\n",
              "      <td>\\n</td>\n",
              "      <td></td>\n",
              "      <td></td>\n",
              "    </tr>\n",
              "    <tr>\n",
              "      <th>3</th>\n",
              "      <td></td>\n",
              "      <td>Europe</td>\n",
              "      <td>12,906,115</td>\n",
              "      <td>260,200</td>\n",
              "      <td>306,403</td>\n",
              "      <td>4,680</td>\n",
              "      <td>4,737,989</td>\n",
              "      <td>99,646</td>\n",
              "      <td>7,861,723</td>\n",
              "      <td>28,813</td>\n",
              "      <td></td>\n",
              "      <td></td>\n",
              "      <td></td>\n",
              "      <td></td>\n",
              "      <td></td>\n",
              "      <td>Europe</td>\n",
              "      <td>\\n</td>\n",
              "      <td></td>\n",
              "      <td></td>\n",
              "    </tr>\n",
              "    <tr>\n",
              "      <th>4</th>\n",
              "      <td></td>\n",
              "      <td>Africa</td>\n",
              "      <td>1,928,179</td>\n",
              "      <td>12,006</td>\n",
              "      <td>46,316</td>\n",
              "      <td>NaN</td>\n",
              "      <td>1,627,807</td>\n",
              "      <td>14,401</td>\n",
              "      <td>254,056</td>\n",
              "      <td>2,483</td>\n",
              "      <td></td>\n",
              "      <td></td>\n",
              "      <td></td>\n",
              "      <td></td>\n",
              "      <td></td>\n",
              "      <td>Africa</td>\n",
              "      <td>\\n</td>\n",
              "      <td></td>\n",
              "      <td></td>\n",
              "    </tr>\n",
              "    <tr>\n",
              "      <th>5</th>\n",
              "      <td></td>\n",
              "      <td>Oceania</td>\n",
              "      <td>41,327</td>\n",
              "      <td>NaN</td>\n",
              "      <td>993</td>\n",
              "      <td></td>\n",
              "      <td>32,864</td>\n",
              "      <td>NaN</td>\n",
              "      <td>7,470</td>\n",
              "      <td>25</td>\n",
              "      <td></td>\n",
              "      <td></td>\n",
              "      <td></td>\n",
              "      <td></td>\n",
              "      <td></td>\n",
              "      <td>Australia/Oceania</td>\n",
              "      <td>\\n</td>\n",
              "      <td></td>\n",
              "      <td></td>\n",
              "    </tr>\n",
              "    <tr>\n",
              "      <th>6</th>\n",
              "      <td></td>\n",
              "      <td></td>\n",
              "      <td>721</td>\n",
              "      <td></td>\n",
              "      <td>15</td>\n",
              "      <td></td>\n",
              "      <td>659</td>\n",
              "      <td></td>\n",
              "      <td>47</td>\n",
              "      <td>4</td>\n",
              "      <td></td>\n",
              "      <td></td>\n",
              "      <td></td>\n",
              "      <td></td>\n",
              "      <td></td>\n",
              "      <td></td>\n",
              "      <td>\\n</td>\n",
              "      <td></td>\n",
              "      <td></td>\n",
              "    </tr>\n",
              "    <tr>\n",
              "      <th>7</th>\n",
              "      <td></td>\n",
              "      <td>World</td>\n",
              "      <td>52,348,063</td>\n",
              "      <td>539,890</td>\n",
              "      <td>1,287,775</td>\n",
              "      <td>9,102</td>\n",
              "      <td>36,626,404</td>\n",
              "      <td>240,321</td>\n",
              "      <td>14,433,884</td>\n",
              "      <td>95,249</td>\n",
              "      <td>6,716</td>\n",
              "      <td>165.2</td>\n",
              "      <td></td>\n",
              "      <td></td>\n",
              "      <td></td>\n",
              "      <td>All</td>\n",
              "      <td>\\n</td>\n",
              "      <td></td>\n",
              "      <td></td>\n",
              "    </tr>\n",
              "    <tr>\n",
              "      <th>8</th>\n",
              "      <td>1</td>\n",
              "      <td>USA</td>\n",
              "      <td>10,672,900</td>\n",
              "      <td>107,078</td>\n",
              "      <td>247,085</td>\n",
              "      <td>1,166</td>\n",
              "      <td>6,632,741</td>\n",
              "      <td>31,403</td>\n",
              "      <td>3,793,074</td>\n",
              "      <td>19,066</td>\n",
              "      <td>32,176</td>\n",
              "      <td>745</td>\n",
              "      <td>161,560,636</td>\n",
              "      <td>487,059</td>\n",
              "      <td>331,706,290</td>\n",
              "      <td>North America</td>\n",
              "      <td>31</td>\n",
              "      <td>1,342</td>\n",
              "      <td>2</td>\n",
              "    </tr>\n",
              "    <tr>\n",
              "      <th>9</th>\n",
              "      <td>2</td>\n",
              "      <td>India</td>\n",
              "      <td>8,684,039</td>\n",
              "      <td>48,285</td>\n",
              "      <td>128,164</td>\n",
              "      <td>NaN</td>\n",
              "      <td>8,064,548</td>\n",
              "      <td>52,704</td>\n",
              "      <td>491,327</td>\n",
              "      <td>8,944</td>\n",
              "      <td>6,271</td>\n",
              "      <td>93</td>\n",
              "      <td>120,769,151</td>\n",
              "      <td>87,204</td>\n",
              "      <td>1,384,900,866</td>\n",
              "      <td>Asia</td>\n",
              "      <td>159</td>\n",
              "      <td>10,806</td>\n",
              "      <td>11</td>\n",
              "    </tr>\n",
              "    <tr>\n",
              "      <th>10</th>\n",
              "      <td>3</td>\n",
              "      <td>Brazil</td>\n",
              "      <td>5,747,660</td>\n",
              "      <td>46,377</td>\n",
              "      <td>163,368</td>\n",
              "      <td>NaN</td>\n",
              "      <td>5,064,344</td>\n",
              "      <td></td>\n",
              "      <td>519,948</td>\n",
              "      <td>8,318</td>\n",
              "      <td>26,971</td>\n",
              "      <td>767</td>\n",
              "      <td>21,900,000</td>\n",
              "      <td>102,766</td>\n",
              "      <td>213,106,404</td>\n",
              "      <td>South America</td>\n",
              "      <td>37</td>\n",
              "      <td>1,304</td>\n",
              "      <td>10</td>\n",
              "    </tr>\n",
              "    <tr>\n",
              "      <th>11</th>\n",
              "      <td>4</td>\n",
              "      <td>France</td>\n",
              "      <td>1,865,538</td>\n",
              "      <td>35,879</td>\n",
              "      <td>42,535</td>\n",
              "      <td>NaN</td>\n",
              "      <td>133,696</td>\n",
              "      <td>1,776</td>\n",
              "      <td>1,689,307</td>\n",
              "      <td>4,803</td>\n",
              "      <td>28,557</td>\n",
              "      <td>651</td>\n",
              "      <td>18,282,590</td>\n",
              "      <td>279,867</td>\n",
              "      <td>65,326,081</td>\n",
              "      <td>Europe</td>\n",
              "      <td>35</td>\n",
              "      <td>1,536</td>\n",
              "      <td>4</td>\n",
              "    </tr>\n",
              "    <tr>\n",
              "      <th>12</th>\n",
              "      <td>5</td>\n",
              "      <td>Russia</td>\n",
              "      <td>1,836,960</td>\n",
              "      <td>19,851</td>\n",
              "      <td>31,593</td>\n",
              "      <td>NaN</td>\n",
              "      <td>1,369,357</td>\n",
              "      <td>18,616</td>\n",
              "      <td>436,010</td>\n",
              "      <td>2,300</td>\n",
              "      <td>12,586</td>\n",
              "      <td>216</td>\n",
              "      <td>66,100,000</td>\n",
              "      <td>452,872</td>\n",
              "      <td>145,957,281</td>\n",
              "      <td>Europe</td>\n",
              "      <td>79</td>\n",
              "      <td>4,620</td>\n",
              "      <td>2</td>\n",
              "    </tr>\n",
              "    <tr>\n",
              "      <th>13</th>\n",
              "      <td>6</td>\n",
              "      <td>Spain</td>\n",
              "      <td>1,463,093</td>\n",
              "      <td>19,096</td>\n",
              "      <td>40,105</td>\n",
              "      <td>NaN</td>\n",
              "      <td>N/A</td>\n",
              "      <td>N/A</td>\n",
              "      <td>N/A</td>\n",
              "      <td>3,093</td>\n",
              "      <td>31,288</td>\n",
              "      <td>858</td>\n",
              "      <td>19,394,289</td>\n",
              "      <td>414,750</td>\n",
              "      <td>46,761,382</td>\n",
              "      <td>Europe</td>\n",
              "      <td>32</td>\n",
              "      <td>1,166</td>\n",
              "      <td>2</td>\n",
              "    </tr>\n",
              "    <tr>\n",
              "      <th>14</th>\n",
              "      <td>7</td>\n",
              "      <td>Argentina</td>\n",
              "      <td>1,262,476</td>\n",
              "      <td></td>\n",
              "      <td>34,183</td>\n",
              "      <td></td>\n",
              "      <td>1,081,897</td>\n",
              "      <td></td>\n",
              "      <td>146,396</td>\n",
              "      <td>4,494</td>\n",
              "      <td>27,841</td>\n",
              "      <td>754</td>\n",
              "      <td>3,289,756</td>\n",
              "      <td>72,549</td>\n",
              "      <td>45,345,559</td>\n",
              "      <td>South America</td>\n",
              "      <td>36</td>\n",
              "      <td>1,327</td>\n",
              "      <td>14</td>\n",
              "    </tr>\n",
              "    <tr>\n",
              "      <th>15</th>\n",
              "      <td>8</td>\n",
              "      <td>UK</td>\n",
              "      <td>1,256,725</td>\n",
              "      <td>22,950</td>\n",
              "      <td>50,365</td>\n",
              "      <td>NaN</td>\n",
              "      <td>N/A</td>\n",
              "      <td>N/A</td>\n",
              "      <td>N/A</td>\n",
              "      <td>1,219</td>\n",
              "      <td>18,477</td>\n",
              "      <td>740</td>\n",
              "      <td>37,147,111</td>\n",
              "      <td>546,158</td>\n",
              "      <td>68,015,374</td>\n",
              "      <td>Europe</td>\n",
              "      <td>54</td>\n",
              "      <td>1,350</td>\n",
              "      <td>2</td>\n",
              "    </tr>\n",
              "    <tr>\n",
              "      <th>16</th>\n",
              "      <td>9</td>\n",
              "      <td>Colombia</td>\n",
              "      <td>1,156,675</td>\n",
              "      <td></td>\n",
              "      <td>33,148</td>\n",
              "      <td></td>\n",
              "      <td>1,059,237</td>\n",
              "      <td></td>\n",
              "      <td>64,290</td>\n",
              "      <td>2,376</td>\n",
              "      <td>22,645</td>\n",
              "      <td>649</td>\n",
              "      <td>5,500,745</td>\n",
              "      <td>107,692</td>\n",
              "      <td>51,078,433</td>\n",
              "      <td>South America</td>\n",
              "      <td>44</td>\n",
              "      <td>1,541</td>\n",
              "      <td>9</td>\n",
              "    </tr>\n",
              "    <tr>\n",
              "      <th>17</th>\n",
              "      <td>10</td>\n",
              "      <td>Italy</td>\n",
              "      <td>1,028,424</td>\n",
              "      <td>32,961</td>\n",
              "      <td>42,953</td>\n",
              "      <td>NaN</td>\n",
              "      <td>372,113</td>\n",
              "      <td>9,090</td>\n",
              "      <td>613,358</td>\n",
              "      <td>3,081</td>\n",
              "      <td>17,019</td>\n",
              "      <td>711</td>\n",
              "      <td>17,965,836</td>\n",
              "      <td>297,303</td>\n",
              "      <td>60,429,340</td>\n",
              "      <td>Europe</td>\n",
              "      <td>59</td>\n",
              "      <td>1,407</td>\n",
              "      <td>3</td>\n",
              "    </tr>\n",
              "    <tr>\n",
              "      <th>18</th>\n",
              "      <td>11</td>\n",
              "      <td>Mexico</td>\n",
              "      <td>978,531</td>\n",
              "      <td>5,746</td>\n",
              "      <td>95,842</td>\n",
              "      <td>NaN</td>\n",
              "      <td>725,846</td>\n",
              "      <td>4,770</td>\n",
              "      <td>156,843</td>\n",
              "      <td>2,615</td>\n",
              "      <td>7,561</td>\n",
              "      <td>741</td>\n",
              "      <td>2,537,046</td>\n",
              "      <td>19,603</td>\n",
              "      <td>129,421,248</td>\n",
              "      <td>North America</td>\n",
              "      <td>132</td>\n",
              "      <td>1,350</td>\n",
              "      <td>51</td>\n",
              "    </tr>\n",
              "    <tr>\n",
              "      <th>19</th>\n",
              "      <td>12</td>\n",
              "      <td>Peru</td>\n",
              "      <td>925,431</td>\n",
              "      <td></td>\n",
              "      <td>34,992</td>\n",
              "      <td></td>\n",
              "      <td>850,670</td>\n",
              "      <td></td>\n",
              "      <td>39,769</td>\n",
              "      <td>1,008</td>\n",
              "      <td>27,928</td>\n",
              "      <td>1,056</td>\n",
              "      <td>4,700,489</td>\n",
              "      <td>141,851</td>\n",
              "      <td>33,136,823</td>\n",
              "      <td>South America</td>\n",
              "      <td>36</td>\n",
              "      <td>947</td>\n",
              "      <td>7</td>\n",
              "    </tr>\n",
              "    <tr>\n",
              "      <th>20</th>\n",
              "      <td>13</td>\n",
              "      <td>South Africa</td>\n",
              "      <td>742,394</td>\n",
              "      <td>2,140</td>\n",
              "      <td>20,011</td>\n",
              "      <td>NaN</td>\n",
              "      <td>686,458</td>\n",
              "      <td>3,264</td>\n",
              "      <td>35,925</td>\n",
              "      <td>546</td>\n",
              "      <td>12,461</td>\n",
              "      <td>336</td>\n",
              "      <td>5,037,782</td>\n",
              "      <td>84,558</td>\n",
              "      <td>59,577,687</td>\n",
              "      <td>Africa</td>\n",
              "      <td>80</td>\n",
              "      <td>2,977</td>\n",
              "      <td>12</td>\n",
              "    </tr>\n",
              "    <tr>\n",
              "      <th>21</th>\n",
              "      <td>14</td>\n",
              "      <td>Germany</td>\n",
              "      <td>726,176</td>\n",
              "      <td>20,536</td>\n",
              "      <td>12,082</td>\n",
              "      <td>NaN</td>\n",
              "      <td>454,800</td>\n",
              "      <td>13,600</td>\n",
              "      <td>259,294</td>\n",
              "      <td>3,127</td>\n",
              "      <td>8,657</td>\n",
              "      <td>144</td>\n",
              "      <td>23,393,311</td>\n",
              "      <td>278,886</td>\n",
              "      <td>83,881,346</td>\n",
              "      <td>Europe</td>\n",
              "      <td>116</td>\n",
              "      <td>6,943</td>\n",
              "      <td>4</td>\n",
              "    </tr>\n",
              "    <tr>\n",
              "      <th>22</th>\n",
              "      <td>15</td>\n",
              "      <td>Iran</td>\n",
              "      <td>715,068</td>\n",
              "      <td>11,780</td>\n",
              "      <td>39,664</td>\n",
              "      <td>NaN</td>\n",
              "      <td>536,105</td>\n",
              "      <td>5,411</td>\n",
              "      <td>139,299</td>\n",
              "      <td>5,601</td>\n",
              "      <td>8,474</td>\n",
              "      <td>470</td>\n",
              "      <td>5,344,821</td>\n",
              "      <td>63,343</td>\n",
              "      <td>84,379,600</td>\n",
              "      <td>Asia</td>\n",
              "      <td>118</td>\n",
              "      <td>2,127</td>\n",
              "      <td>16</td>\n",
              "    </tr>\n",
              "    <tr>\n",
              "      <th>23</th>\n",
              "      <td>16</td>\n",
              "      <td>Poland</td>\n",
              "      <td>618,813</td>\n",
              "      <td>25,221</td>\n",
              "      <td>8,805</td>\n",
              "      <td>NaN</td>\n",
              "      <td>242,875</td>\n",
              "      <td>12,214</td>\n",
              "      <td>367,133</td>\n",
              "      <td>1,975</td>\n",
              "      <td>16,357</td>\n",
              "      <td>233</td>\n",
              "      <td>5,392,636</td>\n",
              "      <td>142,544</td>\n",
              "      <td>37,831,471</td>\n",
              "      <td>Europe</td>\n",
              "      <td>61</td>\n",
              "      <td>4,297</td>\n",
              "      <td>7</td>\n",
              "    </tr>\n",
              "    <tr>\n",
              "      <th>24</th>\n",
              "      <td>17</td>\n",
              "      <td>Chile</td>\n",
              "      <td>524,804</td>\n",
              "      <td>NaN</td>\n",
              "      <td>14,633</td>\n",
              "      <td>NaN</td>\n",
              "      <td>501,426</td>\n",
              "      <td>1,284</td>\n",
              "      <td>8,745</td>\n",
              "      <td>721</td>\n",
              "      <td>27,368</td>\n",
              "      <td>763</td>\n",
              "      <td>4,667,350</td>\n",
              "      <td>243,402</td>\n",
              "      <td>19,175,505</td>\n",
              "      <td>South America</td>\n",
              "      <td>37</td>\n",
              "      <td>1,310</td>\n",
              "      <td>4</td>\n",
              "    </tr>\n",
              "  </tbody>\n",
              "</table>\n",
              "</div>"
            ],
            "text/plain": [
              "     #  Country,Other  ... 1 Deathevery X ppl 1 Testevery X ppl\n",
              "0       North America  ...                                     \n",
              "1                Asia  ...                                     \n",
              "2       South America  ...                                     \n",
              "3              Europe  ...                                     \n",
              "4              Africa  ...                                     \n",
              "5             Oceania  ...                                     \n",
              "6                      ...                                     \n",
              "7               World  ...                                     \n",
              "8    1            USA  ...              1,342                 2\n",
              "9    2          India  ...             10,806                11\n",
              "10   3         Brazil  ...              1,304                10\n",
              "11   4         France  ...              1,536                 4\n",
              "12   5         Russia  ...              4,620                 2\n",
              "13   6          Spain  ...              1,166                 2\n",
              "14   7      Argentina  ...              1,327                14\n",
              "15   8             UK  ...              1,350                 2\n",
              "16   9       Colombia  ...              1,541                 9\n",
              "17  10          Italy  ...              1,407                 3\n",
              "18  11         Mexico  ...              1,350                51\n",
              "19  12           Peru  ...                947                 7\n",
              "20  13   South Africa  ...              2,977                12\n",
              "21  14        Germany  ...              6,943                 4\n",
              "22  15           Iran  ...              2,127                16\n",
              "23  16         Poland  ...              4,297                 7\n",
              "24  17          Chile  ...              1,310                 4\n",
              "\n",
              "[25 rows x 19 columns]"
            ]
          },
          "metadata": {
            "tags": []
          },
          "execution_count": 197
        }
      ]
    },
    {
      "cell_type": "code",
      "metadata": {
        "id": "_rRle9p8J-x0"
      },
      "source": [
        "#Remove '+' from columns where it exsists.\n",
        "df['NewCases'] = df['NewCases'].str.replace('+','')\n",
        "df['NewDeaths'] = df['NewDeaths'].str.replace('+','')\n",
        "df['NewRecovered'] = df['NewRecovered'].str.replace('+','')\n",
        "#Remove '\\n' Countr,Other\n",
        "df['Country,Other'] = df['Country,Other'].map(lambda x: x.lstrip('\\n').rstrip('\\n'))\n"
      ],
      "execution_count": null,
      "outputs": []
    },
    {
      "cell_type": "code",
      "metadata": {
        "id": "_fPj4mNTQW99",
        "colab": {
          "base_uri": "https://localhost:8080/"
        },
        "outputId": "5ea29584-0926-406e-8d24-66c0f9703bd8"
      },
      "source": [
        "df['NewDeaths'].isna"
      ],
      "execution_count": null,
      "outputs": [
        {
          "output_type": "execute_result",
          "data": {
            "text/plain": [
              "<bound method Series.isna of 0      1,879\n",
              "1      1,627\n",
              "2        NaN\n",
              "3      4,680\n",
              "4        NaN\n",
              "       ...  \n",
              "701    3,063\n",
              "702      NaN\n",
              "703      NaN\n",
              "704         \n",
              "705    6,707\n",
              "Name: NewDeaths, Length: 706, dtype: object>"
            ]
          },
          "metadata": {
            "tags": []
          },
          "execution_count": 206
        }
      ]
    },
    {
      "cell_type": "code",
      "metadata": {
        "id": "1_9mYAAQKSvO",
        "colab": {
          "base_uri": "https://localhost:8080/",
          "height": 273
        },
        "outputId": "c3078999-8acd-41d0-dd2e-e554623a653d"
      },
      "source": [
        "test_df['1 Caseevery X ppl'] = test_df['1 Caseevery X ppl'].map(lambda x: x.lstrip('\\n').rstrip('\\n'))"
      ],
      "execution_count": null,
      "outputs": [
        {
          "output_type": "error",
          "ename": "AttributeError",
          "evalue": "ignored",
          "traceback": [
            "\u001b[0;31m---------------------------------------------------------------------------\u001b[0m",
            "\u001b[0;31mAttributeError\u001b[0m                            Traceback (most recent call last)",
            "\u001b[0;32m<ipython-input-195-80b5cf24c7fd>\u001b[0m in \u001b[0;36m<module>\u001b[0;34m()\u001b[0m\n\u001b[0;32m----> 1\u001b[0;31m \u001b[0mtest_df\u001b[0m\u001b[0;34m[\u001b[0m\u001b[0;34m'1 Caseevery X ppl'\u001b[0m\u001b[0;34m]\u001b[0m \u001b[0;34m=\u001b[0m \u001b[0mtest_df\u001b[0m\u001b[0;34m[\u001b[0m\u001b[0;34m'1 Caseevery X ppl'\u001b[0m\u001b[0;34m]\u001b[0m\u001b[0;34m.\u001b[0m\u001b[0mmap\u001b[0m\u001b[0;34m(\u001b[0m\u001b[0;32mlambda\u001b[0m \u001b[0mx\u001b[0m\u001b[0;34m:\u001b[0m \u001b[0mx\u001b[0m\u001b[0;34m.\u001b[0m\u001b[0mlstrip\u001b[0m\u001b[0;34m(\u001b[0m\u001b[0;34m'\\n'\u001b[0m\u001b[0;34m)\u001b[0m\u001b[0;34m.\u001b[0m\u001b[0mrstrip\u001b[0m\u001b[0;34m(\u001b[0m\u001b[0;34m'\\n'\u001b[0m\u001b[0;34m)\u001b[0m\u001b[0;34m)\u001b[0m\u001b[0;34m\u001b[0m\u001b[0;34m\u001b[0m\u001b[0m\n\u001b[0m",
            "\u001b[0;32m/usr/local/lib/python3.6/dist-packages/pandas/core/series.py\u001b[0m in \u001b[0;36mmap\u001b[0;34m(self, arg, na_action)\u001b[0m\n\u001b[1;32m   3980\u001b[0m         \u001b[0mdtype\u001b[0m\u001b[0;34m:\u001b[0m \u001b[0mobject\u001b[0m\u001b[0;34m\u001b[0m\u001b[0;34m\u001b[0m\u001b[0m\n\u001b[1;32m   3981\u001b[0m         \"\"\"\n\u001b[0;32m-> 3982\u001b[0;31m         \u001b[0mnew_values\u001b[0m \u001b[0;34m=\u001b[0m \u001b[0msuper\u001b[0m\u001b[0;34m(\u001b[0m\u001b[0;34m)\u001b[0m\u001b[0;34m.\u001b[0m\u001b[0m_map_values\u001b[0m\u001b[0;34m(\u001b[0m\u001b[0marg\u001b[0m\u001b[0;34m,\u001b[0m \u001b[0mna_action\u001b[0m\u001b[0;34m=\u001b[0m\u001b[0mna_action\u001b[0m\u001b[0;34m)\u001b[0m\u001b[0;34m\u001b[0m\u001b[0;34m\u001b[0m\u001b[0m\n\u001b[0m\u001b[1;32m   3983\u001b[0m         return self._constructor(new_values, index=self.index).__finalize__(\n\u001b[1;32m   3984\u001b[0m             \u001b[0mself\u001b[0m\u001b[0;34m,\u001b[0m \u001b[0mmethod\u001b[0m\u001b[0;34m=\u001b[0m\u001b[0;34m\"map\"\u001b[0m\u001b[0;34m\u001b[0m\u001b[0;34m\u001b[0m\u001b[0m\n",
            "\u001b[0;32m/usr/local/lib/python3.6/dist-packages/pandas/core/base.py\u001b[0m in \u001b[0;36m_map_values\u001b[0;34m(self, mapper, na_action)\u001b[0m\n\u001b[1;32m   1158\u001b[0m \u001b[0;34m\u001b[0m\u001b[0m\n\u001b[1;32m   1159\u001b[0m         \u001b[0;31m# mapper is a function\u001b[0m\u001b[0;34m\u001b[0m\u001b[0;34m\u001b[0m\u001b[0;34m\u001b[0m\u001b[0m\n\u001b[0;32m-> 1160\u001b[0;31m         \u001b[0mnew_values\u001b[0m \u001b[0;34m=\u001b[0m \u001b[0mmap_f\u001b[0m\u001b[0;34m(\u001b[0m\u001b[0mvalues\u001b[0m\u001b[0;34m,\u001b[0m \u001b[0mmapper\u001b[0m\u001b[0;34m)\u001b[0m\u001b[0;34m\u001b[0m\u001b[0;34m\u001b[0m\u001b[0m\n\u001b[0m\u001b[1;32m   1161\u001b[0m \u001b[0;34m\u001b[0m\u001b[0m\n\u001b[1;32m   1162\u001b[0m         \u001b[0;32mreturn\u001b[0m \u001b[0mnew_values\u001b[0m\u001b[0;34m\u001b[0m\u001b[0;34m\u001b[0m\u001b[0m\n",
            "\u001b[0;32mpandas/_libs/lib.pyx\u001b[0m in \u001b[0;36mpandas._libs.lib.map_infer\u001b[0;34m()\u001b[0m\n",
            "\u001b[0;32m<ipython-input-195-80b5cf24c7fd>\u001b[0m in \u001b[0;36m<lambda>\u001b[0;34m(x)\u001b[0m\n\u001b[0;32m----> 1\u001b[0;31m \u001b[0mtest_df\u001b[0m\u001b[0;34m[\u001b[0m\u001b[0;34m'1 Caseevery X ppl'\u001b[0m\u001b[0;34m]\u001b[0m \u001b[0;34m=\u001b[0m \u001b[0mtest_df\u001b[0m\u001b[0;34m[\u001b[0m\u001b[0;34m'1 Caseevery X ppl'\u001b[0m\u001b[0;34m]\u001b[0m\u001b[0;34m.\u001b[0m\u001b[0mmap\u001b[0m\u001b[0;34m(\u001b[0m\u001b[0;32mlambda\u001b[0m \u001b[0mx\u001b[0m\u001b[0;34m:\u001b[0m \u001b[0mx\u001b[0m\u001b[0;34m.\u001b[0m\u001b[0mlstrip\u001b[0m\u001b[0;34m(\u001b[0m\u001b[0;34m'\\n'\u001b[0m\u001b[0;34m)\u001b[0m\u001b[0;34m.\u001b[0m\u001b[0mrstrip\u001b[0m\u001b[0;34m(\u001b[0m\u001b[0;34m'\\n'\u001b[0m\u001b[0;34m)\u001b[0m\u001b[0;34m)\u001b[0m\u001b[0;34m\u001b[0m\u001b[0;34m\u001b[0m\u001b[0m\n\u001b[0m",
            "\u001b[0;31mAttributeError\u001b[0m: 'int' object has no attribute 'lstrip'"
          ]
        }
      ]
    },
    {
      "cell_type": "code",
      "metadata": {
        "id": "fknLEHJwOcP4",
        "colab": {
          "base_uri": "https://localhost:8080/",
          "height": 413
        },
        "outputId": "d95fd5e3-3f8b-4389-8c52-e115975212e1"
      },
      "source": [
        "test_df.head(10)"
      ],
      "execution_count": null,
      "outputs": [
        {
          "output_type": "execute_result",
          "data": {
            "text/html": [
              "<div>\n",
              "<style scoped>\n",
              "    .dataframe tbody tr th:only-of-type {\n",
              "        vertical-align: middle;\n",
              "    }\n",
              "\n",
              "    .dataframe tbody tr th {\n",
              "        vertical-align: top;\n",
              "    }\n",
              "\n",
              "    .dataframe thead th {\n",
              "        text-align: right;\n",
              "    }\n",
              "</style>\n",
              "<table border=\"1\" class=\"dataframe\">\n",
              "  <thead>\n",
              "    <tr style=\"text-align: right;\">\n",
              "      <th></th>\n",
              "      <th>#</th>\n",
              "      <th>Country,Other</th>\n",
              "      <th>TotalCases</th>\n",
              "      <th>NewCases</th>\n",
              "      <th>TotalDeaths</th>\n",
              "      <th>NewDeaths</th>\n",
              "      <th>TotalRecovered</th>\n",
              "      <th>NewRecovered</th>\n",
              "      <th>ActiveCases</th>\n",
              "      <th>Serious,Critical</th>\n",
              "      <th>Tot Cases/1M pop</th>\n",
              "      <th>Deaths/1M pop</th>\n",
              "      <th>TotalTests</th>\n",
              "      <th>Tests/\\n1M pop\\n</th>\n",
              "      <th>Population</th>\n",
              "      <th>Continent</th>\n",
              "      <th>1 Caseevery X ppl</th>\n",
              "      <th>1 Deathevery X ppl</th>\n",
              "      <th>1 Testevery X ppl</th>\n",
              "    </tr>\n",
              "  </thead>\n",
              "  <tbody>\n",
              "    <tr>\n",
              "      <th>0</th>\n",
              "      <td></td>\n",
              "      <td>North America</td>\n",
              "      <td>12,640,448</td>\n",
              "      <td>118,724</td>\n",
              "      <td>369,227</td>\n",
              "      <td>+1,879</td>\n",
              "      <td>8,108,827</td>\n",
              "      <td>+40,040</td>\n",
              "      <td>4,162,394</td>\n",
              "      <td>22,582</td>\n",
              "      <td></td>\n",
              "      <td></td>\n",
              "      <td></td>\n",
              "      <td></td>\n",
              "      <td></td>\n",
              "      <td>North America</td>\n",
              "      <td>\\n</td>\n",
              "      <td></td>\n",
              "      <td></td>\n",
              "    </tr>\n",
              "    <tr>\n",
              "      <th>1</th>\n",
              "      <td></td>\n",
              "      <td>Asia</td>\n",
              "      <td>14,706,854</td>\n",
              "      <td>100,654</td>\n",
              "      <td>260,039</td>\n",
              "      <td>+1,627</td>\n",
              "      <td>13,129,399</td>\n",
              "      <td>+84,628</td>\n",
              "      <td>1,317,416</td>\n",
              "      <td>23,759</td>\n",
              "      <td></td>\n",
              "      <td></td>\n",
              "      <td></td>\n",
              "      <td></td>\n",
              "      <td></td>\n",
              "      <td>Asia</td>\n",
              "      <td>\\n</td>\n",
              "      <td></td>\n",
              "      <td></td>\n",
              "    </tr>\n",
              "    <tr>\n",
              "      <th>2</th>\n",
              "      <td></td>\n",
              "      <td>South America</td>\n",
              "      <td>10,124,419</td>\n",
              "      <td>48,296</td>\n",
              "      <td>304,782</td>\n",
              "      <td>625</td>\n",
              "      <td>8,988,859</td>\n",
              "      <td>+1,602</td>\n",
              "      <td>830,778</td>\n",
              "      <td>17,583</td>\n",
              "      <td></td>\n",
              "      <td></td>\n",
              "      <td></td>\n",
              "      <td></td>\n",
              "      <td></td>\n",
              "      <td>South America</td>\n",
              "      <td>\\n</td>\n",
              "      <td></td>\n",
              "      <td></td>\n",
              "    </tr>\n",
              "    <tr>\n",
              "      <th>3</th>\n",
              "      <td></td>\n",
              "      <td>Europe</td>\n",
              "      <td>12,906,115</td>\n",
              "      <td>260,200</td>\n",
              "      <td>306,403</td>\n",
              "      <td>+4,680</td>\n",
              "      <td>4,737,989</td>\n",
              "      <td>+99,646</td>\n",
              "      <td>7,861,723</td>\n",
              "      <td>28,813</td>\n",
              "      <td></td>\n",
              "      <td></td>\n",
              "      <td></td>\n",
              "      <td></td>\n",
              "      <td></td>\n",
              "      <td>Europe</td>\n",
              "      <td>\\n</td>\n",
              "      <td></td>\n",
              "      <td></td>\n",
              "    </tr>\n",
              "    <tr>\n",
              "      <th>4</th>\n",
              "      <td></td>\n",
              "      <td>Africa</td>\n",
              "      <td>1,928,179</td>\n",
              "      <td>12,006</td>\n",
              "      <td>46,316</td>\n",
              "      <td>291</td>\n",
              "      <td>1,627,807</td>\n",
              "      <td>+14,401</td>\n",
              "      <td>254,056</td>\n",
              "      <td>2,483</td>\n",
              "      <td></td>\n",
              "      <td></td>\n",
              "      <td></td>\n",
              "      <td></td>\n",
              "      <td></td>\n",
              "      <td>Africa</td>\n",
              "      <td>\\n</td>\n",
              "      <td></td>\n",
              "      <td></td>\n",
              "    </tr>\n",
              "    <tr>\n",
              "      <th>5</th>\n",
              "      <td></td>\n",
              "      <td>Oceania</td>\n",
              "      <td>41,327</td>\n",
              "      <td>10</td>\n",
              "      <td>993</td>\n",
              "      <td></td>\n",
              "      <td>32,864</td>\n",
              "      <td>4</td>\n",
              "      <td>7,470</td>\n",
              "      <td>25</td>\n",
              "      <td></td>\n",
              "      <td></td>\n",
              "      <td></td>\n",
              "      <td></td>\n",
              "      <td></td>\n",
              "      <td>Australia/Oceania</td>\n",
              "      <td>\\n</td>\n",
              "      <td></td>\n",
              "      <td></td>\n",
              "    </tr>\n",
              "    <tr>\n",
              "      <th>6</th>\n",
              "      <td></td>\n",
              "      <td></td>\n",
              "      <td>721</td>\n",
              "      <td></td>\n",
              "      <td>15</td>\n",
              "      <td></td>\n",
              "      <td>659</td>\n",
              "      <td></td>\n",
              "      <td>47</td>\n",
              "      <td>4</td>\n",
              "      <td></td>\n",
              "      <td></td>\n",
              "      <td></td>\n",
              "      <td></td>\n",
              "      <td></td>\n",
              "      <td></td>\n",
              "      <td>\\n</td>\n",
              "      <td></td>\n",
              "      <td></td>\n",
              "    </tr>\n",
              "    <tr>\n",
              "      <th>7</th>\n",
              "      <td></td>\n",
              "      <td>World</td>\n",
              "      <td>52,348,063</td>\n",
              "      <td>539,890</td>\n",
              "      <td>1,287,775</td>\n",
              "      <td>+9,102</td>\n",
              "      <td>36,626,404</td>\n",
              "      <td>+240,321</td>\n",
              "      <td>14,433,884</td>\n",
              "      <td>95,249</td>\n",
              "      <td>6,716</td>\n",
              "      <td>165.2</td>\n",
              "      <td></td>\n",
              "      <td></td>\n",
              "      <td></td>\n",
              "      <td>All</td>\n",
              "      <td>\\n</td>\n",
              "      <td></td>\n",
              "      <td></td>\n",
              "    </tr>\n",
              "    <tr>\n",
              "      <th>8</th>\n",
              "      <td>1</td>\n",
              "      <td>USA</td>\n",
              "      <td>10,672,900</td>\n",
              "      <td>107,078</td>\n",
              "      <td>247,085</td>\n",
              "      <td>+1,166</td>\n",
              "      <td>6,632,741</td>\n",
              "      <td>+31,403</td>\n",
              "      <td>3,793,074</td>\n",
              "      <td>19,066</td>\n",
              "      <td>32,176</td>\n",
              "      <td>745</td>\n",
              "      <td>161,560,636</td>\n",
              "      <td>487,059</td>\n",
              "      <td>331,706,290</td>\n",
              "      <td>North America</td>\n",
              "      <td>31</td>\n",
              "      <td>1,342</td>\n",
              "      <td>2</td>\n",
              "    </tr>\n",
              "    <tr>\n",
              "      <th>9</th>\n",
              "      <td>2</td>\n",
              "      <td>India</td>\n",
              "      <td>8,684,039</td>\n",
              "      <td>48,285</td>\n",
              "      <td>128,164</td>\n",
              "      <td>549</td>\n",
              "      <td>8,064,548</td>\n",
              "      <td>+52,704</td>\n",
              "      <td>491,327</td>\n",
              "      <td>8,944</td>\n",
              "      <td>6,271</td>\n",
              "      <td>93</td>\n",
              "      <td>120,769,151</td>\n",
              "      <td>87,204</td>\n",
              "      <td>1,384,900,866</td>\n",
              "      <td>Asia</td>\n",
              "      <td>159</td>\n",
              "      <td>10,806</td>\n",
              "      <td>11</td>\n",
              "    </tr>\n",
              "  </tbody>\n",
              "</table>\n",
              "</div>"
            ],
            "text/plain": [
              "   #  Country,Other  ... 1 Deathevery X ppl 1 Testevery X ppl\n",
              "0     North America  ...                                     \n",
              "1              Asia  ...                                     \n",
              "2     South America  ...                                     \n",
              "3            Europe  ...                                     \n",
              "4            Africa  ...                                     \n",
              "5           Oceania  ...                                     \n",
              "6                    ...                                     \n",
              "7             World  ...                                     \n",
              "8  1            USA  ...              1,342                 2\n",
              "9  2          India  ...             10,806                11\n",
              "\n",
              "[10 rows x 19 columns]"
            ]
          },
          "metadata": {
            "tags": []
          },
          "execution_count": 193
        }
      ]
    },
    {
      "cell_type": "code",
      "metadata": {
        "id": "SCzRrLaTWp65",
        "colab": {
          "base_uri": "https://localhost:8080/"
        },
        "outputId": "1f4ba071-794d-40e5-c4e1-de5d55527f23"
      },
      "source": [
        "df.isna().sum().sum()"
      ],
      "execution_count": null,
      "outputs": [
        {
          "output_type": "execute_result",
          "data": {
            "text/plain": [
              "0"
            ]
          },
          "metadata": {
            "tags": []
          },
          "execution_count": 189
        }
      ]
    },
    {
      "cell_type": "code",
      "metadata": {
        "id": "xoIU07MfW0ZB",
        "colab": {
          "base_uri": "https://localhost:8080/"
        },
        "outputId": "50fb6423-0a2c-4690-9434-3eb094d7f9d0"
      },
      "source": [
        "df.isnull"
      ],
      "execution_count": null,
      "outputs": [
        {
          "output_type": "execute_result",
          "data": {
            "text/plain": [
              "<bound method DataFrame.isnull of     #   Country,Other  ... 1 Deathevery X ppl 1 Testevery X ppl\n",
              "0       North America  ...                                     \n",
              "1                Asia  ...                                     \n",
              "2       South America  ...                                     \n",
              "3              Europe  ...                                     \n",
              "4              Africa  ...                                     \n",
              "..  ..            ...  ...                ...               ...\n",
              "701            Total:  ...                                     \n",
              "702            Total:  ...                                     \n",
              "703            Total:  ...                                     \n",
              "704            Total:  ...                                     \n",
              "705            Total:  ...                                     \n",
              "\n",
              "[706 rows x 19 columns]>"
            ]
          },
          "metadata": {
            "tags": []
          },
          "execution_count": 201
        }
      ]
    },
    {
      "cell_type": "code",
      "metadata": {
        "id": "M9LYzGkuZYsU"
      },
      "source": [
        ""
      ],
      "execution_count": null,
      "outputs": []
    }
  ]
}